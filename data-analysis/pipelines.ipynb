{
 "cells": [
  {
   "cell_type": "code",
   "execution_count": 2,
   "metadata": {},
   "outputs": [
    {
     "name": "stdout",
     "output_type": "stream",
     "text": [
      "Intel MKL WARNING: Support of Intel(R) Streaming SIMD Extensions 4.2 (Intel(R) SSE4.2) enabled only processors has been deprecated. Intel oneAPI Math Kernel Library 2025.0 will require Intel(R) Advanced Vector Extensions (Intel(R) AVX) instructions.\n",
      "Intel MKL WARNING: Support of Intel(R) Streaming SIMD Extensions 4.2 (Intel(R) SSE4.2) enabled only processors has been deprecated. Intel oneAPI Math Kernel Library 2025.0 will require Intel(R) Advanced Vector Extensions (Intel(R) AVX) instructions.\n"
     ]
    }
   ],
   "source": [
    "import numpy as np\n",
    "import pandas as pd\n",
    "import plotly.express as px\n",
    "import plotly.graph_objects as go\n",
    "import plotly.io as pio"
   ]
  },
  {
   "cell_type": "code",
   "execution_count": 3,
   "metadata": {},
   "outputs": [],
   "source": [
    "pd.set_option('display.max_rows', 500)\n",
    "pd.set_option('display.max_columns', 500)"
   ]
  },
  {
   "cell_type": "markdown",
   "metadata": {},
   "source": [
    "# Plot settings"
   ]
  },
  {
   "cell_type": "code",
   "execution_count": 4,
   "metadata": {},
   "outputs": [],
   "source": [
    "HIGHLIGHT_COLOR = \"#df2935\"\n",
    "COLORS = [\"#007C77\", \"#1a1b41\", \"#f48668\", \"#f2bb05\", \"#E2A0FF\", \"#8acb88\"]"
   ]
  },
  {
   "cell_type": "code",
   "execution_count": 5,
   "metadata": {},
   "outputs": [],
   "source": [
    "pio.templates[\"created_by\"] = go.layout.Template(\n",
    "    layout=go.Layout(\n",
    "        #font=dict(family=\"Open Sans\"), # Can update to our own stylings when we have it\n",
    "        title_x=0.05,\n",
    "        yaxis=dict(tickformat=\",.0f\"),\n",
    "        colorway = COLORS,\n",
    "        #colorway = [\"#007C77\", \"#1a1b41\", \"#f48668\", \"#246a73\", \"#f2bb05\", \"#E65F5C\", \"#8acb88\"],\n",
    "        #colorway=[\"#127475\", \"#1a1b41\", \"#f48668\", \"#246a73\", \"#f2bb05\", \"#8acb88\"],\n",
    "        hovermode='x unified',\n",
    "    ),\n",
    "    layout_annotations=[\n",
    "        dict(\n",
    "            name=\"created by\",\n",
    "            text=\"Created by Electrify RVA\",\n",
    "            #textangle=-30,\n",
    "            opacity=0.9,\n",
    "            font=dict(color=\"black\", size=12),\n",
    "            xref=\"paper\",\n",
    "            yref=\"paper\",\n",
    "            x=-0.05,\n",
    "            y=-0.25,\n",
    "            showarrow=False,\n",
    "        )\n",
    "    ]\n",
    ")\n",
    "\n",
    "pio.templates.default = \"ggplot2+created_by\""
   ]
  },
  {
   "cell_type": "markdown",
   "metadata": {},
   "source": [
    "# Functions"
   ]
  },
  {
   "cell_type": "code",
   "execution_count": 6,
   "metadata": {},
   "outputs": [],
   "source": [
    "# Converters for reading in data types that confuse pandas\n",
    "def percent_to_float(x):\n",
    "    return float(x.strip('%')) if len(x) > 0 else np.nan\n",
    "    \n",
    "\n",
    "def remove_number_formatting(x):\n",
    "    return float(x.replace('$', '').replace(',', '')) if len(x) > 0 else np.nan"
   ]
  },
  {
   "cell_type": "code",
   "execution_count": 7,
   "metadata": {},
   "outputs": [
    {
     "name": "stderr",
     "output_type": "stream",
     "text": [
      "/var/folders/p0/54kr448x6679fjp6vzs43l440000gn/T/ipykernel_40875/1502407349.py:1: ParserWarning: Falling back to the 'python' engine because the 'c' engine does not support skipfooter; you can avoid this warning by specifying engine='python'.\n",
      "  lost_gas_yearly = pd.read_csv(\n"
     ]
    },
    {
     "data": {
      "text/html": [
       "<div>\n",
       "<style scoped>\n",
       "    .dataframe tbody tr th:only-of-type {\n",
       "        vertical-align: middle;\n",
       "    }\n",
       "\n",
       "    .dataframe tbody tr th {\n",
       "        vertical-align: top;\n",
       "    }\n",
       "\n",
       "    .dataframe thead th {\n",
       "        text-align: right;\n",
       "    }\n",
       "</style>\n",
       "<table border=\"1\" class=\"dataframe\">\n",
       "  <thead>\n",
       "    <tr style=\"text-align: right;\">\n",
       "      <th></th>\n",
       "      <th>Month - Year</th>\n",
       "      <th>SUM of Total Loss (Mcf)</th>\n",
       "      <th>SUM of Receipt (Mcf)</th>\n",
       "      <th>Yearly Loss Rate</th>\n",
       "      <th>EIA Citygate Price $/MCF</th>\n",
       "      <th>$ Lost to Leak</th>\n",
       "    </tr>\n",
       "  </thead>\n",
       "  <tbody>\n",
       "    <tr>\n",
       "      <th>0</th>\n",
       "      <td>2012</td>\n",
       "      <td>475204.0</td>\n",
       "      <td>24709147.0</td>\n",
       "      <td>1.9</td>\n",
       "      <td>5.64</td>\n",
       "      <td>2680151.0</td>\n",
       "    </tr>\n",
       "    <tr>\n",
       "      <th>1</th>\n",
       "      <td>2013</td>\n",
       "      <td>383433.0</td>\n",
       "      <td>19498466.0</td>\n",
       "      <td>2.0</td>\n",
       "      <td>5.54</td>\n",
       "      <td>2124219.0</td>\n",
       "    </tr>\n",
       "    <tr>\n",
       "      <th>2</th>\n",
       "      <td>2014</td>\n",
       "      <td>471739.0</td>\n",
       "      <td>19851432.0</td>\n",
       "      <td>2.4</td>\n",
       "      <td>5.98</td>\n",
       "      <td>2820999.0</td>\n",
       "    </tr>\n",
       "    <tr>\n",
       "      <th>3</th>\n",
       "      <td>2015</td>\n",
       "      <td>574615.0</td>\n",
       "      <td>27187493.0</td>\n",
       "      <td>2.1</td>\n",
       "      <td>4.87</td>\n",
       "      <td>2798375.0</td>\n",
       "    </tr>\n",
       "    <tr>\n",
       "      <th>4</th>\n",
       "      <td>2016</td>\n",
       "      <td>626795.0</td>\n",
       "      <td>24692644.0</td>\n",
       "      <td>2.5</td>\n",
       "      <td>3.99</td>\n",
       "      <td>2500912.0</td>\n",
       "    </tr>\n",
       "    <tr>\n",
       "      <th>5</th>\n",
       "      <td>2017</td>\n",
       "      <td>419827.0</td>\n",
       "      <td>17996974.0</td>\n",
       "      <td>2.3</td>\n",
       "      <td>4.53</td>\n",
       "      <td>1901816.0</td>\n",
       "    </tr>\n",
       "    <tr>\n",
       "      <th>6</th>\n",
       "      <td>2018</td>\n",
       "      <td>1004674.0</td>\n",
       "      <td>18386512.0</td>\n",
       "      <td>5.5</td>\n",
       "      <td>4.69</td>\n",
       "      <td>4711921.0</td>\n",
       "    </tr>\n",
       "    <tr>\n",
       "      <th>7</th>\n",
       "      <td>2019</td>\n",
       "      <td>901223.0</td>\n",
       "      <td>18916623.0</td>\n",
       "      <td>4.8</td>\n",
       "      <td>4.52</td>\n",
       "      <td>4073528.0</td>\n",
       "    </tr>\n",
       "    <tr>\n",
       "      <th>8</th>\n",
       "      <td>2020</td>\n",
       "      <td>575102.0</td>\n",
       "      <td>21506914.0</td>\n",
       "      <td>2.7</td>\n",
       "      <td>3.87</td>\n",
       "      <td>2225645.0</td>\n",
       "    </tr>\n",
       "    <tr>\n",
       "      <th>9</th>\n",
       "      <td>2021</td>\n",
       "      <td>1029281.0</td>\n",
       "      <td>22797084.0</td>\n",
       "      <td>4.5</td>\n",
       "      <td>5.07</td>\n",
       "      <td>5218455.0</td>\n",
       "    </tr>\n",
       "    <tr>\n",
       "      <th>10</th>\n",
       "      <td>2022</td>\n",
       "      <td>2169755.0</td>\n",
       "      <td>23829343.0</td>\n",
       "      <td>9.1</td>\n",
       "      <td>7.34</td>\n",
       "      <td>15926002.0</td>\n",
       "    </tr>\n",
       "  </tbody>\n",
       "</table>\n",
       "</div>"
      ],
      "text/plain": [
       "    Month - Year  SUM of Total Loss (Mcf)  SUM of Receipt (Mcf)  \\\n",
       "0           2012                 475204.0            24709147.0   \n",
       "1           2013                 383433.0            19498466.0   \n",
       "2           2014                 471739.0            19851432.0   \n",
       "3           2015                 574615.0            27187493.0   \n",
       "4           2016                 626795.0            24692644.0   \n",
       "5           2017                 419827.0            17996974.0   \n",
       "6           2018                1004674.0            18386512.0   \n",
       "7           2019                 901223.0            18916623.0   \n",
       "8           2020                 575102.0            21506914.0   \n",
       "9           2021                1029281.0            22797084.0   \n",
       "10          2022                2169755.0            23829343.0   \n",
       "\n",
       "    Yearly Loss Rate  EIA Citygate Price $/MCF  $ Lost to Leak  \n",
       "0                1.9                      5.64       2680151.0  \n",
       "1                2.0                      5.54       2124219.0  \n",
       "2                2.4                      5.98       2820999.0  \n",
       "3                2.1                      4.87       2798375.0  \n",
       "4                2.5                      3.99       2500912.0  \n",
       "5                2.3                      4.53       1901816.0  \n",
       "6                5.5                      4.69       4711921.0  \n",
       "7                4.8                      4.52       4073528.0  \n",
       "8                2.7                      3.87       2225645.0  \n",
       "9                4.5                      5.07       5218455.0  \n",
       "10               9.1                      7.34      15926002.0  "
      ]
     },
     "execution_count": 7,
     "metadata": {},
     "output_type": "execute_result"
    }
   ],
   "source": [
    "lost_gas_yearly = pd.read_csv(\n",
    "    \"https://docs.google.com/spreadsheets/d/1bw4xAAT9WdzBOzTk0tkQIVHCqBT2NImmIu_aP7v0_cY/export?gid=1762730245&format=csv\",\n",
    "    converters={\n",
    "        'Yearly Loss Rate': percent_to_float,\n",
    "        'SUM of Total Loss (Mcf)': remove_number_formatting,\n",
    "        'SUM of Receipt (Mcf)': remove_number_formatting,\n",
    "        'EIA Citygate Price $/MCF': remove_number_formatting,\n",
    "        '$ Lost to Leak': remove_number_formatting,\n",
    "    },\n",
    "    skipfooter=1,\n",
    ").drop(['Unnamed: 3', 'Unnamed: 4'], axis=1)\n",
    "\n",
    "lost_gas_yearly"
   ]
  },
  {
   "cell_type": "code",
   "execution_count": 8,
   "metadata": {},
   "outputs": [
    {
     "data": {
      "text/html": [
       "<div>\n",
       "<style scoped>\n",
       "    .dataframe tbody tr th:only-of-type {\n",
       "        vertical-align: middle;\n",
       "    }\n",
       "\n",
       "    .dataframe tbody tr th {\n",
       "        vertical-align: top;\n",
       "    }\n",
       "\n",
       "    .dataframe thead th {\n",
       "        text-align: right;\n",
       "    }\n",
       "</style>\n",
       "<table border=\"1\" class=\"dataframe\">\n",
       "  <thead>\n",
       "    <tr style=\"text-align: right;\">\n",
       "      <th></th>\n",
       "      <th>Month</th>\n",
       "      <th>Receipt (Mcf)</th>\n",
       "      <th>Total Loss (Mcf)</th>\n",
       "      <th>Loss %</th>\n",
       "      <th>12 month total LUF (Mcf)</th>\n",
       "      <th>12 month total receipts (Mcf)</th>\n",
       "      <th>12 month % LUF</th>\n",
       "      <th>Loss &gt; Lower Bound</th>\n",
       "      <th>Loss &gt; Upper bound</th>\n",
       "      <th>12 mo loss &gt; Lower Bound</th>\n",
       "      <th>12 mo loss &gt; Upper bound</th>\n",
       "      <th>Tipping Point</th>\n",
       "    </tr>\n",
       "  </thead>\n",
       "  <tbody>\n",
       "    <tr>\n",
       "      <th>0</th>\n",
       "      <td>2012-01-01</td>\n",
       "      <td>2450103.0</td>\n",
       "      <td>185548.0</td>\n",
       "      <td>7.6</td>\n",
       "      <td>NaN</td>\n",
       "      <td>NaN</td>\n",
       "      <td>NaN</td>\n",
       "      <td>1</td>\n",
       "      <td>1</td>\n",
       "      <td>NaN</td>\n",
       "      <td>NaN</td>\n",
       "      <td>3.2</td>\n",
       "    </tr>\n",
       "    <tr>\n",
       "      <th>1</th>\n",
       "      <td>2012-02-01</td>\n",
       "      <td>2112200.0</td>\n",
       "      <td>62730.0</td>\n",
       "      <td>3.0</td>\n",
       "      <td>NaN</td>\n",
       "      <td>NaN</td>\n",
       "      <td>NaN</td>\n",
       "      <td>0</td>\n",
       "      <td>0</td>\n",
       "      <td>NaN</td>\n",
       "      <td>NaN</td>\n",
       "      <td>3.2</td>\n",
       "    </tr>\n",
       "    <tr>\n",
       "      <th>2</th>\n",
       "      <td>2012-03-01</td>\n",
       "      <td>1216334.0</td>\n",
       "      <td>1013.0</td>\n",
       "      <td>0.1</td>\n",
       "      <td>NaN</td>\n",
       "      <td>NaN</td>\n",
       "      <td>NaN</td>\n",
       "      <td>0</td>\n",
       "      <td>0</td>\n",
       "      <td>NaN</td>\n",
       "      <td>NaN</td>\n",
       "      <td>3.2</td>\n",
       "    </tr>\n",
       "    <tr>\n",
       "      <th>3</th>\n",
       "      <td>2012-04-01</td>\n",
       "      <td>1724348.0</td>\n",
       "      <td>65866.0</td>\n",
       "      <td>3.8</td>\n",
       "      <td>NaN</td>\n",
       "      <td>NaN</td>\n",
       "      <td>NaN</td>\n",
       "      <td>1</td>\n",
       "      <td>0</td>\n",
       "      <td>NaN</td>\n",
       "      <td>NaN</td>\n",
       "      <td>3.2</td>\n",
       "    </tr>\n",
       "    <tr>\n",
       "      <th>4</th>\n",
       "      <td>2012-05-01</td>\n",
       "      <td>2117391.0</td>\n",
       "      <td>-42936.0</td>\n",
       "      <td>-2.0</td>\n",
       "      <td>NaN</td>\n",
       "      <td>NaN</td>\n",
       "      <td>NaN</td>\n",
       "      <td>0</td>\n",
       "      <td>0</td>\n",
       "      <td>NaN</td>\n",
       "      <td>NaN</td>\n",
       "      <td>3.2</td>\n",
       "    </tr>\n",
       "  </tbody>\n",
       "</table>\n",
       "</div>"
      ],
      "text/plain": [
       "       Month  Receipt (Mcf)  Total Loss (Mcf)  Loss %  \\\n",
       "0 2012-01-01      2450103.0          185548.0     7.6   \n",
       "1 2012-02-01      2112200.0           62730.0     3.0   \n",
       "2 2012-03-01      1216334.0            1013.0     0.1   \n",
       "3 2012-04-01      1724348.0           65866.0     3.8   \n",
       "4 2012-05-01      2117391.0          -42936.0    -2.0   \n",
       "\n",
       "   12 month total LUF (Mcf)  12 month total receipts (Mcf)  12 month % LUF  \\\n",
       "0                       NaN                            NaN             NaN   \n",
       "1                       NaN                            NaN             NaN   \n",
       "2                       NaN                            NaN             NaN   \n",
       "3                       NaN                            NaN             NaN   \n",
       "4                       NaN                            NaN             NaN   \n",
       "\n",
       "   Loss > Lower Bound  Loss > Upper bound  12 mo loss > Lower Bound  \\\n",
       "0                   1                   1                       NaN   \n",
       "1                   0                   0                       NaN   \n",
       "2                   0                   0                       NaN   \n",
       "3                   1                   0                       NaN   \n",
       "4                   0                   0                       NaN   \n",
       "\n",
       "   12 mo loss > Upper bound  Tipping Point  \n",
       "0                       NaN            3.2  \n",
       "1                       NaN            3.2  \n",
       "2                       NaN            3.2  \n",
       "3                       NaN            3.2  \n",
       "4                       NaN            3.2  "
      ]
     },
     "execution_count": 8,
     "metadata": {},
     "output_type": "execute_result"
    }
   ],
   "source": [
    "\n",
    "lost_gas_monthly = pd.read_csv(\n",
    "    \"https://docs.google.com/spreadsheets/d/1bw4xAAT9WdzBOzTk0tkQIVHCqBT2NImmIu_aP7v0_cY/export?gid=983926144&format=csv\",\n",
    "    converters={\n",
    "        'Loss %': percent_to_float,\n",
    "        '12 month % LUF': percent_to_float,\n",
    "        'Receipt (Mcf)': remove_number_formatting,\n",
    "        'Total Loss (Mcf)': remove_number_formatting,\n",
    "        '12 month total LUF (Mcf)': remove_number_formatting,\n",
    "        '12 month total receipts (Mcf)': remove_number_formatting,\n",
    "        'Tipping Point': percent_to_float,\n",
    "    },\n",
    "    parse_dates=['Month'],\n",
    ")\n",
    "\n",
    "lost_gas_monthly.head()"
   ]
  },
  {
   "cell_type": "code",
   "execution_count": 9,
   "metadata": {},
   "outputs": [],
   "source": [
    "eia_phmsa = pd.read_csv(\"data/rgw_eia_phmsa.csv\")"
   ]
  },
  {
   "cell_type": "code",
   "execution_count": 10,
   "metadata": {},
   "outputs": [
    {
     "data": {
      "text/html": [
       "<div>\n",
       "<style scoped>\n",
       "    .dataframe tbody tr th:only-of-type {\n",
       "        vertical-align: middle;\n",
       "    }\n",
       "\n",
       "    .dataframe tbody tr th {\n",
       "        vertical-align: top;\n",
       "    }\n",
       "\n",
       "    .dataframe thead th {\n",
       "        text-align: right;\n",
       "    }\n",
       "</style>\n",
       "<table border=\"1\" class=\"dataframe\">\n",
       "  <thead>\n",
       "    <tr style=\"text-align: right;\">\n",
       "      <th></th>\n",
       "      <th>residential_any</th>\n",
       "      <th>residential_all</th>\n",
       "      <th>residential_last_11</th>\n",
       "      <th>residential_total_volume_mcf</th>\n",
       "      <th>residential_sales_volume_mcf</th>\n",
       "      <th>residential_transported_volume_mcf</th>\n",
       "      <th>residential_sales_price_dollars</th>\n",
       "      <th>residential_transported_price_dollars</th>\n",
       "      <th>residential_sales_revenue_dollars</th>\n",
       "      <th>residential_transported_revenue_dollars</th>\n",
       "      <th>residential_total_customers</th>\n",
       "      <th>residential_sales_customers</th>\n",
       "      <th>residential_transported_customers</th>\n",
       "      <th>residential_volume_per_customer</th>\n",
       "      <th>residential_sales_per_customer</th>\n",
       "      <th>residential_sales_price_dollars_real</th>\n",
       "      <th>residential_transported_price_dollars_real</th>\n",
       "      <th>residential_sales_revenue_dollars_real</th>\n",
       "      <th>residential_transported_revenue_dollars_real</th>\n",
       "      <th>residential_sales_per_customer_real</th>\n",
       "      <th>residential_cost_per_mcf_real</th>\n",
       "      <th>residential_sales_customers_growth</th>\n",
       "      <th>residential_sales_volume_mcf_growth</th>\n",
       "      <th>residential_sales_revenue_dollars_real_growth</th>\n",
       "      <th>residential_fuel_costs_real</th>\n",
       "      <th>residential_net_revenue_real</th>\n",
       "      <th>residential_net_revenue_real_per_customer</th>\n",
       "      <th>residential_net_revenue_real_proportion</th>\n",
       "      <th>mains_miles_per_residential_customers</th>\n",
       "    </tr>\n",
       "  </thead>\n",
       "  <tbody>\n",
       "    <tr>\n",
       "      <th>0</th>\n",
       "      <td>True</td>\n",
       "      <td>True</td>\n",
       "      <td>True</td>\n",
       "      <td>9446820</td>\n",
       "      <td>9446820</td>\n",
       "      <td>0</td>\n",
       "      <td>6.61</td>\n",
       "      <td>0</td>\n",
       "      <td>62459939</td>\n",
       "      <td>0</td>\n",
       "      <td>78195</td>\n",
       "      <td>78195</td>\n",
       "      <td>0</td>\n",
       "      <td>120.811049</td>\n",
       "      <td>798.771520</td>\n",
       "      <td>4.150453</td>\n",
       "      <td>0</td>\n",
       "      <td>3.921892e+07</td>\n",
       "      <td>0</td>\n",
       "      <td>501.552791</td>\n",
       "      <td>4.151547</td>\n",
       "      <td>NaN</td>\n",
       "      <td>NaN</td>\n",
       "      <td>NaN</td>\n",
       "      <td>2.455727e+07</td>\n",
       "      <td>1.466165e+07</td>\n",
       "      <td>187.501143</td>\n",
       "      <td>0.577056</td>\n",
       "      <td>0.020052</td>\n",
       "    </tr>\n",
       "    <tr>\n",
       "      <th>1</th>\n",
       "      <td>True</td>\n",
       "      <td>True</td>\n",
       "      <td>True</td>\n",
       "      <td>5988272</td>\n",
       "      <td>5988272</td>\n",
       "      <td>0</td>\n",
       "      <td>8.66</td>\n",
       "      <td>0</td>\n",
       "      <td>51876780</td>\n",
       "      <td>0</td>\n",
       "      <td>79059</td>\n",
       "      <td>79059</td>\n",
       "      <td>0</td>\n",
       "      <td>75.744343</td>\n",
       "      <td>656.178044</td>\n",
       "      <td>5.521780</td>\n",
       "      <td>0</td>\n",
       "      <td>3.307762e+07</td>\n",
       "      <td>0</td>\n",
       "      <td>418.391523</td>\n",
       "      <td>5.523733</td>\n",
       "      <td>864.0</td>\n",
       "      <td>-3458548.0</td>\n",
       "      <td>-6.141305e+06</td>\n",
       "      <td>1.428020e+07</td>\n",
       "      <td>1.879741e+07</td>\n",
       "      <td>237.764391</td>\n",
       "      <td>0.619644</td>\n",
       "      <td>0.020402</td>\n",
       "    </tr>\n",
       "    <tr>\n",
       "      <th>2</th>\n",
       "      <td>True</td>\n",
       "      <td>True</td>\n",
       "      <td>True</td>\n",
       "      <td>6378840</td>\n",
       "      <td>6378840</td>\n",
       "      <td>0</td>\n",
       "      <td>9.02</td>\n",
       "      <td>0</td>\n",
       "      <td>57549141</td>\n",
       "      <td>0</td>\n",
       "      <td>81523</td>\n",
       "      <td>81523</td>\n",
       "      <td>0</td>\n",
       "      <td>78.245894</td>\n",
       "      <td>705.925211</td>\n",
       "      <td>5.877457</td>\n",
       "      <td>0</td>\n",
       "      <td>3.749918e+07</td>\n",
       "      <td>0</td>\n",
       "      <td>459.982844</td>\n",
       "      <td>5.878683</td>\n",
       "      <td>2464.0</td>\n",
       "      <td>390568.0</td>\n",
       "      <td>4.421566e+06</td>\n",
       "      <td>1.583615e+07</td>\n",
       "      <td>2.166303e+07</td>\n",
       "      <td>265.729067</td>\n",
       "      <td>0.701357</td>\n",
       "      <td>0.020252</td>\n",
       "    </tr>\n",
       "    <tr>\n",
       "      <th>3</th>\n",
       "      <td>True</td>\n",
       "      <td>True</td>\n",
       "      <td>True</td>\n",
       "      <td>7421796</td>\n",
       "      <td>7421796</td>\n",
       "      <td>0</td>\n",
       "      <td>9.67</td>\n",
       "      <td>0</td>\n",
       "      <td>71781543</td>\n",
       "      <td>0</td>\n",
       "      <td>81531</td>\n",
       "      <td>81531</td>\n",
       "      <td>0</td>\n",
       "      <td>91.030357</td>\n",
       "      <td>880.420245</td>\n",
       "      <td>6.513134</td>\n",
       "      <td>0</td>\n",
       "      <td>4.834775e+07</td>\n",
       "      <td>0</td>\n",
       "      <td>592.998428</td>\n",
       "      <td>6.514293</td>\n",
       "      <td>8.0</td>\n",
       "      <td>1042956.0</td>\n",
       "      <td>1.084857e+07</td>\n",
       "      <td>2.669401e+07</td>\n",
       "      <td>2.165375e+07</td>\n",
       "      <td>265.589120</td>\n",
       "      <td>0.754695</td>\n",
       "      <td>0.020569</td>\n",
       "    </tr>\n",
       "    <tr>\n",
       "      <th>4</th>\n",
       "      <td>True</td>\n",
       "      <td>True</td>\n",
       "      <td>True</td>\n",
       "      <td>6538829</td>\n",
       "      <td>6538829</td>\n",
       "      <td>0</td>\n",
       "      <td>10.83</td>\n",
       "      <td>0</td>\n",
       "      <td>70842491</td>\n",
       "      <td>0</td>\n",
       "      <td>84150</td>\n",
       "      <td>84150</td>\n",
       "      <td>0</td>\n",
       "      <td>77.704444</td>\n",
       "      <td>841.859667</td>\n",
       "      <td>7.499897</td>\n",
       "      <td>0</td>\n",
       "      <td>4.905923e+07</td>\n",
       "      <td>0</td>\n",
       "      <td>582.997333</td>\n",
       "      <td>7.502754</td>\n",
       "      <td>2619.0</td>\n",
       "      <td>-882967.0</td>\n",
       "      <td>7.114707e+05</td>\n",
       "      <td>3.061072e+07</td>\n",
       "      <td>1.844851e+07</td>\n",
       "      <td>219.233581</td>\n",
       "      <td>0.976618</td>\n",
       "      <td>0.020107</td>\n",
       "    </tr>\n",
       "    <tr>\n",
       "      <th>5</th>\n",
       "      <td>True</td>\n",
       "      <td>True</td>\n",
       "      <td>True</td>\n",
       "      <td>6663028</td>\n",
       "      <td>6663028</td>\n",
       "      <td>0</td>\n",
       "      <td>10.99</td>\n",
       "      <td>0</td>\n",
       "      <td>73246397</td>\n",
       "      <td>0</td>\n",
       "      <td>87322</td>\n",
       "      <td>87322</td>\n",
       "      <td>0</td>\n",
       "      <td>76.304116</td>\n",
       "      <td>838.808055</td>\n",
       "      <td>7.732141</td>\n",
       "      <td>0</td>\n",
       "      <td>5.153334e+07</td>\n",
       "      <td>0</td>\n",
       "      <td>590.153054</td>\n",
       "      <td>7.734223</td>\n",
       "      <td>3172.0</td>\n",
       "      <td>124199.0</td>\n",
       "      <td>2.474119e+06</td>\n",
       "      <td>3.164299e+07</td>\n",
       "      <td>1.989036e+07</td>\n",
       "      <td>227.781746</td>\n",
       "      <td>0.916312</td>\n",
       "      <td>0.019846</td>\n",
       "    </tr>\n",
       "    <tr>\n",
       "      <th>6</th>\n",
       "      <td>True</td>\n",
       "      <td>True</td>\n",
       "      <td>True</td>\n",
       "      <td>7616351</td>\n",
       "      <td>7616351</td>\n",
       "      <td>0</td>\n",
       "      <td>11.58</td>\n",
       "      <td>0</td>\n",
       "      <td>88198579</td>\n",
       "      <td>0</td>\n",
       "      <td>87322</td>\n",
       "      <td>87322</td>\n",
       "      <td>0</td>\n",
       "      <td>87.221445</td>\n",
       "      <td>1010.038467</td>\n",
       "      <td>8.334465</td>\n",
       "      <td>0</td>\n",
       "      <td>6.347910e+07</td>\n",
       "      <td>0</td>\n",
       "      <td>726.954279</td>\n",
       "      <td>8.334582</td>\n",
       "      <td>0.0</td>\n",
       "      <td>953323.0</td>\n",
       "      <td>1.194576e+07</td>\n",
       "      <td>3.601484e+07</td>\n",
       "      <td>2.746426e+07</td>\n",
       "      <td>314.517080</td>\n",
       "      <td>0.810005</td>\n",
       "      <td>0.020224</td>\n",
       "    </tr>\n",
       "    <tr>\n",
       "      <th>7</th>\n",
       "      <td>True</td>\n",
       "      <td>True</td>\n",
       "      <td>True</td>\n",
       "      <td>7209134</td>\n",
       "      <td>7209134</td>\n",
       "      <td>0</td>\n",
       "      <td>14.34</td>\n",
       "      <td>0</td>\n",
       "      <td>103344199</td>\n",
       "      <td>0</td>\n",
       "      <td>90274</td>\n",
       "      <td>90274</td>\n",
       "      <td>0</td>\n",
       "      <td>79.858365</td>\n",
       "      <td>1144.783648</td>\n",
       "      <td>10.596236</td>\n",
       "      <td>0</td>\n",
       "      <td>7.636398e+07</td>\n",
       "      <td>0</td>\n",
       "      <td>845.913378</td>\n",
       "      <td>10.592671</td>\n",
       "      <td>2952.0</td>\n",
       "      <td>-407217.0</td>\n",
       "      <td>1.288488e+07</td>\n",
       "      <td>4.053874e+07</td>\n",
       "      <td>3.582525e+07</td>\n",
       "      <td>396.850097</td>\n",
       "      <td>0.630355</td>\n",
       "      <td>0.019784</td>\n",
       "    </tr>\n",
       "    <tr>\n",
       "      <th>8</th>\n",
       "      <td>True</td>\n",
       "      <td>True</td>\n",
       "      <td>True</td>\n",
       "      <td>7355609</td>\n",
       "      <td>7355609</td>\n",
       "      <td>0</td>\n",
       "      <td>16.16</td>\n",
       "      <td>0</td>\n",
       "      <td>118853222</td>\n",
       "      <td>0</td>\n",
       "      <td>91543</td>\n",
       "      <td>91543</td>\n",
       "      <td>0</td>\n",
       "      <td>80.351409</td>\n",
       "      <td>1298.332172</td>\n",
       "      <td>12.343003</td>\n",
       "      <td>0</td>\n",
       "      <td>9.078006e+07</td>\n",
       "      <td>0</td>\n",
       "      <td>991.665723</td>\n",
       "      <td>12.341610</td>\n",
       "      <td>1269.0</td>\n",
       "      <td>146475.0</td>\n",
       "      <td>1.441607e+07</td>\n",
       "      <td>5.685630e+07</td>\n",
       "      <td>3.392375e+07</td>\n",
       "      <td>370.577219</td>\n",
       "      <td>0.656805</td>\n",
       "      <td>0.019892</td>\n",
       "    </tr>\n",
       "    <tr>\n",
       "      <th>9</th>\n",
       "      <td>True</td>\n",
       "      <td>True</td>\n",
       "      <td>True</td>\n",
       "      <td>5976557</td>\n",
       "      <td>5976557</td>\n",
       "      <td>0</td>\n",
       "      <td>16.73</td>\n",
       "      <td>0</td>\n",
       "      <td>99965290</td>\n",
       "      <td>0</td>\n",
       "      <td>93584</td>\n",
       "      <td>93584</td>\n",
       "      <td>0</td>\n",
       "      <td>63.863021</td>\n",
       "      <td>1068.187831</td>\n",
       "      <td>13.190099</td>\n",
       "      <td>0</td>\n",
       "      <td>7.881363e+07</td>\n",
       "      <td>0</td>\n",
       "      <td>842.169968</td>\n",
       "      <td>13.187130</td>\n",
       "      <td>2041.0</td>\n",
       "      <td>-1379052.0</td>\n",
       "      <td>-1.196642e+07</td>\n",
       "      <td>4.952288e+07</td>\n",
       "      <td>2.929075e+07</td>\n",
       "      <td>312.988896</td>\n",
       "      <td>0.709085</td>\n",
       "      <td>0.019505</td>\n",
       "    </tr>\n",
       "    <tr>\n",
       "      <th>10</th>\n",
       "      <td>True</td>\n",
       "      <td>True</td>\n",
       "      <td>True</td>\n",
       "      <td>6645491</td>\n",
       "      <td>6645491</td>\n",
       "      <td>0</td>\n",
       "      <td>16.90</td>\n",
       "      <td>0</td>\n",
       "      <td>112316764</td>\n",
       "      <td>0</td>\n",
       "      <td>95526</td>\n",
       "      <td>95526</td>\n",
       "      <td>0</td>\n",
       "      <td>69.567353</td>\n",
       "      <td>1175.771664</td>\n",
       "      <td>13.706605</td>\n",
       "      <td>0</td>\n",
       "      <td>9.109358e+07</td>\n",
       "      <td>0</td>\n",
       "      <td>953.599849</td>\n",
       "      <td>13.707577</td>\n",
       "      <td>1942.0</td>\n",
       "      <td>668934.0</td>\n",
       "      <td>1.227994e+07</td>\n",
       "      <td>4.996317e+07</td>\n",
       "      <td>4.113041e+07</td>\n",
       "      <td>430.567682</td>\n",
       "      <td>0.638286</td>\n",
       "      <td>0.019331</td>\n",
       "    </tr>\n",
       "    <tr>\n",
       "      <th>11</th>\n",
       "      <td>True</td>\n",
       "      <td>True</td>\n",
       "      <td>True</td>\n",
       "      <td>6647281</td>\n",
       "      <td>6647281</td>\n",
       "      <td>0</td>\n",
       "      <td>17.55</td>\n",
       "      <td>0</td>\n",
       "      <td>116639511</td>\n",
       "      <td>0</td>\n",
       "      <td>97090</td>\n",
       "      <td>97090</td>\n",
       "      <td>0</td>\n",
       "      <td>68.465146</td>\n",
       "      <td>1201.354527</td>\n",
       "      <td>14.776795</td>\n",
       "      <td>0</td>\n",
       "      <td>9.820844e+07</td>\n",
       "      <td>0</td>\n",
       "      <td>1011.519608</td>\n",
       "      <td>14.774227</td>\n",
       "      <td>1564.0</td>\n",
       "      <td>1790.0</td>\n",
       "      <td>7.114860e+06</td>\n",
       "      <td>5.938306e+07</td>\n",
       "      <td>3.882538e+07</td>\n",
       "      <td>399.890652</td>\n",
       "      <td>0.632730</td>\n",
       "      <td>0.018887</td>\n",
       "    </tr>\n",
       "    <tr>\n",
       "      <th>12</th>\n",
       "      <td>True</td>\n",
       "      <td>True</td>\n",
       "      <td>True</td>\n",
       "      <td>7114133</td>\n",
       "      <td>7114133</td>\n",
       "      <td>0</td>\n",
       "      <td>15.19</td>\n",
       "      <td>0</td>\n",
       "      <td>108086688</td>\n",
       "      <td>0</td>\n",
       "      <td>98719</td>\n",
       "      <td>98719</td>\n",
       "      <td>0</td>\n",
       "      <td>72.064476</td>\n",
       "      <td>1094.892452</td>\n",
       "      <td>12.748742</td>\n",
       "      <td>0</td>\n",
       "      <td>9.071556e+07</td>\n",
       "      <td>0</td>\n",
       "      <td>918.927031</td>\n",
       "      <td>12.751457</td>\n",
       "      <td>1629.0</td>\n",
       "      <td>466852.0</td>\n",
       "      <td>-7.492881e+06</td>\n",
       "      <td>4.896045e+07</td>\n",
       "      <td>4.175511e+07</td>\n",
       "      <td>422.969316</td>\n",
       "      <td>0.715371</td>\n",
       "      <td>0.018664</td>\n",
       "    </tr>\n",
       "    <tr>\n",
       "      <th>13</th>\n",
       "      <td>True</td>\n",
       "      <td>True</td>\n",
       "      <td>True</td>\n",
       "      <td>7312202</td>\n",
       "      <td>7312202</td>\n",
       "      <td>0</td>\n",
       "      <td>13.47</td>\n",
       "      <td>0</td>\n",
       "      <td>98463011</td>\n",
       "      <td>0</td>\n",
       "      <td>97563</td>\n",
       "      <td>97563</td>\n",
       "      <td>0</td>\n",
       "      <td>74.948515</td>\n",
       "      <td>1009.224921</td>\n",
       "      <td>11.490189</td>\n",
       "      <td>0</td>\n",
       "      <td>8.399099e+07</td>\n",
       "      <td>0</td>\n",
       "      <td>860.889749</td>\n",
       "      <td>11.486415</td>\n",
       "      <td>-1156.0</td>\n",
       "      <td>198069.0</td>\n",
       "      <td>-6.724571e+06</td>\n",
       "      <td>4.291372e+07</td>\n",
       "      <td>4.107726e+07</td>\n",
       "      <td>421.033220</td>\n",
       "      <td>0.696525</td>\n",
       "      <td>0.019125</td>\n",
       "    </tr>\n",
       "    <tr>\n",
       "      <th>14</th>\n",
       "      <td>True</td>\n",
       "      <td>True</td>\n",
       "      <td>True</td>\n",
       "      <td>6168899</td>\n",
       "      <td>6168899</td>\n",
       "      <td>0</td>\n",
       "      <td>13.36</td>\n",
       "      <td>0</td>\n",
       "      <td>82386063</td>\n",
       "      <td>0</td>\n",
       "      <td>98671</td>\n",
       "      <td>98671</td>\n",
       "      <td>0</td>\n",
       "      <td>62.519879</td>\n",
       "      <td>834.957211</td>\n",
       "      <td>11.754163</td>\n",
       "      <td>0</td>\n",
       "      <td>7.248347e+07</td>\n",
       "      <td>0</td>\n",
       "      <td>734.597525</td>\n",
       "      <td>11.749823</td>\n",
       "      <td>1108.0</td>\n",
       "      <td>-1143303.0</td>\n",
       "      <td>-1.150751e+07</td>\n",
       "      <td>3.603802e+07</td>\n",
       "      <td>3.644545e+07</td>\n",
       "      <td>369.363314</td>\n",
       "      <td>0.691010</td>\n",
       "      <td>0.019719</td>\n",
       "    </tr>\n",
       "    <tr>\n",
       "      <th>15</th>\n",
       "      <td>True</td>\n",
       "      <td>True</td>\n",
       "      <td>True</td>\n",
       "      <td>5507282</td>\n",
       "      <td>5507282</td>\n",
       "      <td>0</td>\n",
       "      <td>12.69</td>\n",
       "      <td>0</td>\n",
       "      <td>69866364</td>\n",
       "      <td>0</td>\n",
       "      <td>99460</td>\n",
       "      <td>99460</td>\n",
       "      <td>0</td>\n",
       "      <td>55.371828</td>\n",
       "      <td>702.456907</td>\n",
       "      <td>11.396161</td>\n",
       "      <td>0</td>\n",
       "      <td>6.274297e+07</td>\n",
       "      <td>0</td>\n",
       "      <td>630.836227</td>\n",
       "      <td>11.392729</td>\n",
       "      <td>789.0</td>\n",
       "      <td>-661617.0</td>\n",
       "      <td>-9.740501e+06</td>\n",
       "      <td>2.789416e+07</td>\n",
       "      <td>3.484881e+07</td>\n",
       "      <td>350.380120</td>\n",
       "      <td>0.714629</td>\n",
       "      <td>0.019397</td>\n",
       "    </tr>\n",
       "    <tr>\n",
       "      <th>16</th>\n",
       "      <td>True</td>\n",
       "      <td>True</td>\n",
       "      <td>True</td>\n",
       "      <td>6933544</td>\n",
       "      <td>6933544</td>\n",
       "      <td>0</td>\n",
       "      <td>11.97</td>\n",
       "      <td>0</td>\n",
       "      <td>82973612</td>\n",
       "      <td>0</td>\n",
       "      <td>100472</td>\n",
       "      <td>100472</td>\n",
       "      <td>0</td>\n",
       "      <td>69.009714</td>\n",
       "      <td>825.838164</td>\n",
       "      <td>10.907155</td>\n",
       "      <td>0</td>\n",
       "      <td>7.560619e+07</td>\n",
       "      <td>0</td>\n",
       "      <td>752.510011</td>\n",
       "      <td>10.904407</td>\n",
       "      <td>1012.0</td>\n",
       "      <td>1426262.0</td>\n",
       "      <td>1.286321e+07</td>\n",
       "      <td>3.500115e+07</td>\n",
       "      <td>4.060503e+07</td>\n",
       "      <td>404.142756</td>\n",
       "      <td>0.686787</td>\n",
       "      <td>0.019019</td>\n",
       "    </tr>\n",
       "    <tr>\n",
       "      <th>17</th>\n",
       "      <td>True</td>\n",
       "      <td>True</td>\n",
       "      <td>True</td>\n",
       "      <td>7233607</td>\n",
       "      <td>7233607</td>\n",
       "      <td>0</td>\n",
       "      <td>12.71</td>\n",
       "      <td>0</td>\n",
       "      <td>91903447</td>\n",
       "      <td>0</td>\n",
       "      <td>101144</td>\n",
       "      <td>101144</td>\n",
       "      <td>0</td>\n",
       "      <td>71.517905</td>\n",
       "      <td>908.639633</td>\n",
       "      <td>11.768544</td>\n",
       "      <td>0</td>\n",
       "      <td>8.509597e+07</td>\n",
       "      <td>0</td>\n",
       "      <td>841.334787</td>\n",
       "      <td>11.763974</td>\n",
       "      <td>672.0</td>\n",
       "      <td>300063.0</td>\n",
       "      <td>9.489780e+06</td>\n",
       "      <td>4.005284e+07</td>\n",
       "      <td>4.504313e+07</td>\n",
       "      <td>445.336653</td>\n",
       "      <td>0.653814</td>\n",
       "      <td>0.018898</td>\n",
       "    </tr>\n",
       "    <tr>\n",
       "      <th>18</th>\n",
       "      <td>True</td>\n",
       "      <td>True</td>\n",
       "      <td>True</td>\n",
       "      <td>6530122</td>\n",
       "      <td>6530122</td>\n",
       "      <td>0</td>\n",
       "      <td>12.47</td>\n",
       "      <td>0</td>\n",
       "      <td>81434571</td>\n",
       "      <td>0</td>\n",
       "      <td>101335</td>\n",
       "      <td>101335</td>\n",
       "      <td>0</td>\n",
       "      <td>64.440934</td>\n",
       "      <td>803.617417</td>\n",
       "      <td>11.560307</td>\n",
       "      <td>0</td>\n",
       "      <td>7.549388e+07</td>\n",
       "      <td>0</td>\n",
       "      <td>744.993125</td>\n",
       "      <td>11.560868</td>\n",
       "      <td>191.0</td>\n",
       "      <td>-703485.0</td>\n",
       "      <td>-9.602087e+06</td>\n",
       "      <td>2.948174e+07</td>\n",
       "      <td>4.601213e+07</td>\n",
       "      <td>454.059641</td>\n",
       "      <td>0.663696</td>\n",
       "      <td>0.018897</td>\n",
       "    </tr>\n",
       "    <tr>\n",
       "      <th>19</th>\n",
       "      <td>True</td>\n",
       "      <td>True</td>\n",
       "      <td>True</td>\n",
       "      <td>6221405</td>\n",
       "      <td>6221405</td>\n",
       "      <td>0</td>\n",
       "      <td>11.67</td>\n",
       "      <td>0</td>\n",
       "      <td>72595011</td>\n",
       "      <td>0</td>\n",
       "      <td>102041</td>\n",
       "      <td>102041</td>\n",
       "      <td>0</td>\n",
       "      <td>60.969659</td>\n",
       "      <td>711.429827</td>\n",
       "      <td>10.955780</td>\n",
       "      <td>0</td>\n",
       "      <td>6.815209e+07</td>\n",
       "      <td>0</td>\n",
       "      <td>667.889326</td>\n",
       "      <td>10.954454</td>\n",
       "      <td>706.0</td>\n",
       "      <td>-308717.0</td>\n",
       "      <td>-7.341784e+06</td>\n",
       "      <td>2.330418e+07</td>\n",
       "      <td>4.484792e+07</td>\n",
       "      <td>439.508785</td>\n",
       "      <td>0.666857</td>\n",
       "      <td>0.018845</td>\n",
       "    </tr>\n",
       "    <tr>\n",
       "      <th>20</th>\n",
       "      <td>True</td>\n",
       "      <td>True</td>\n",
       "      <td>True</td>\n",
       "      <td>6049061</td>\n",
       "      <td>6049061</td>\n",
       "      <td>0</td>\n",
       "      <td>12.85</td>\n",
       "      <td>0</td>\n",
       "      <td>77726402</td>\n",
       "      <td>0</td>\n",
       "      <td>99531</td>\n",
       "      <td>99531</td>\n",
       "      <td>0</td>\n",
       "      <td>60.775648</td>\n",
       "      <td>780.926566</td>\n",
       "      <td>12.320689</td>\n",
       "      <td>0</td>\n",
       "      <td>7.452473e+07</td>\n",
       "      <td>0</td>\n",
       "      <td>748.759029</td>\n",
       "      <td>12.320050</td>\n",
       "      <td>-2510.0</td>\n",
       "      <td>-172344.0</td>\n",
       "      <td>6.372640e+06</td>\n",
       "      <td>2.627351e+07</td>\n",
       "      <td>4.825123e+07</td>\n",
       "      <td>484.785928</td>\n",
       "      <td>0.657846</td>\n",
       "      <td>0.019393</td>\n",
       "    </tr>\n",
       "    <tr>\n",
       "      <th>21</th>\n",
       "      <td>True</td>\n",
       "      <td>True</td>\n",
       "      <td>True</td>\n",
       "      <td>6818744</td>\n",
       "      <td>6818744</td>\n",
       "      <td>0</td>\n",
       "      <td>13.42</td>\n",
       "      <td>0</td>\n",
       "      <td>91495778</td>\n",
       "      <td>0</td>\n",
       "      <td>105280</td>\n",
       "      <td>105280</td>\n",
       "      <td>0</td>\n",
       "      <td>64.767705</td>\n",
       "      <td>869.070840</td>\n",
       "      <td>13.181042</td>\n",
       "      <td>0</td>\n",
       "      <td>8.986660e+07</td>\n",
       "      <td>0</td>\n",
       "      <td>853.596077</td>\n",
       "      <td>13.179347</td>\n",
       "      <td>5749.0</td>\n",
       "      <td>769683.0</td>\n",
       "      <td>1.534186e+07</td>\n",
       "      <td>3.141047e+07</td>\n",
       "      <td>5.845612e+07</td>\n",
       "      <td>555.244331</td>\n",
       "      <td>0.668339</td>\n",
       "      <td>0.018292</td>\n",
       "    </tr>\n",
       "    <tr>\n",
       "      <th>22</th>\n",
       "      <td>True</td>\n",
       "      <td>True</td>\n",
       "      <td>True</td>\n",
       "      <td>6341458</td>\n",
       "      <td>6341458</td>\n",
       "      <td>0</td>\n",
       "      <td>13.10</td>\n",
       "      <td>0</td>\n",
       "      <td>83074742</td>\n",
       "      <td>0</td>\n",
       "      <td>106604</td>\n",
       "      <td>106604</td>\n",
       "      <td>0</td>\n",
       "      <td>59.486117</td>\n",
       "      <td>779.283535</td>\n",
       "      <td>13.100000</td>\n",
       "      <td>0</td>\n",
       "      <td>8.307474e+07</td>\n",
       "      <td>0</td>\n",
       "      <td>779.283535</td>\n",
       "      <td>13.100259</td>\n",
       "      <td>1324.0</td>\n",
       "      <td>-477286.0</td>\n",
       "      <td>-6.791853e+06</td>\n",
       "      <td>2.866339e+07</td>\n",
       "      <td>5.441135e+07</td>\n",
       "      <td>510.406287</td>\n",
       "      <td>0.645008</td>\n",
       "      <td>0.018165</td>\n",
       "    </tr>\n",
       "    <tr>\n",
       "      <th>23</th>\n",
       "      <td>True</td>\n",
       "      <td>True</td>\n",
       "      <td>True</td>\n",
       "      <td>5931629</td>\n",
       "      <td>5931629</td>\n",
       "      <td>0</td>\n",
       "      <td>13.22</td>\n",
       "      <td>0</td>\n",
       "      <td>78443474</td>\n",
       "      <td>0</td>\n",
       "      <td>108301</td>\n",
       "      <td>108301</td>\n",
       "      <td>0</td>\n",
       "      <td>54.769845</td>\n",
       "      <td>724.309785</td>\n",
       "      <td>13.385419</td>\n",
       "      <td>0</td>\n",
       "      <td>7.942502e+07</td>\n",
       "      <td>0</td>\n",
       "      <td>733.372928</td>\n",
       "      <td>13.390086</td>\n",
       "      <td>1697.0</td>\n",
       "      <td>-409829.0</td>\n",
       "      <td>-3.649720e+06</td>\n",
       "      <td>2.324264e+07</td>\n",
       "      <td>5.618238e+07</td>\n",
       "      <td>518.761423</td>\n",
       "      <td>0.714841</td>\n",
       "      <td>0.017961</td>\n",
       "    </tr>\n",
       "    <tr>\n",
       "      <th>24</th>\n",
       "      <td>True</td>\n",
       "      <td>True</td>\n",
       "      <td>True</td>\n",
       "      <td>6347678</td>\n",
       "      <td>6347678</td>\n",
       "      <td>0</td>\n",
       "      <td>13.54</td>\n",
       "      <td>0</td>\n",
       "      <td>85953413</td>\n",
       "      <td>0</td>\n",
       "      <td>109765</td>\n",
       "      <td>109765</td>\n",
       "      <td>0</td>\n",
       "      <td>57.829709</td>\n",
       "      <td>783.067581</td>\n",
       "      <td>14.351375</td>\n",
       "      <td>0</td>\n",
       "      <td>9.110411e+07</td>\n",
       "      <td>0</td>\n",
       "      <td>829.992357</td>\n",
       "      <td>14.352352</td>\n",
       "      <td>1464.0</td>\n",
       "      <td>416049.0</td>\n",
       "      <td>1.167909e+07</td>\n",
       "      <td>3.411125e+07</td>\n",
       "      <td>5.699286e+07</td>\n",
       "      <td>519.226131</td>\n",
       "      <td>0.687321</td>\n",
       "      <td>0.017819</td>\n",
       "    </tr>\n",
       "    <tr>\n",
       "      <th>25</th>\n",
       "      <td>True</td>\n",
       "      <td>True</td>\n",
       "      <td>True</td>\n",
       "      <td>6482440</td>\n",
       "      <td>6482440</td>\n",
       "      <td>0</td>\n",
       "      <td>15.98</td>\n",
       "      <td>0</td>\n",
       "      <td>103564899</td>\n",
       "      <td>0</td>\n",
       "      <td>110884</td>\n",
       "      <td>110884</td>\n",
       "      <td>0</td>\n",
       "      <td>58.461455</td>\n",
       "      <td>933.993173</td>\n",
       "      <td>18.290308</td>\n",
       "      <td>0</td>\n",
       "      <td>1.185378e+08</td>\n",
       "      <td>0</td>\n",
       "      <td>1069.025236</td>\n",
       "      <td>18.285984</td>\n",
       "      <td>1119.0</td>\n",
       "      <td>134762.0</td>\n",
       "      <td>2.743368e+07</td>\n",
       "      <td>5.505372e+07</td>\n",
       "      <td>6.348407e+07</td>\n",
       "      <td>572.526917</td>\n",
       "      <td>0.647376</td>\n",
       "      <td>0.017801</td>\n",
       "    </tr>\n",
       "  </tbody>\n",
       "</table>\n",
       "</div>"
      ],
      "text/plain": [
       "    residential_any  residential_all  residential_last_11  \\\n",
       "0              True             True                 True   \n",
       "1              True             True                 True   \n",
       "2              True             True                 True   \n",
       "3              True             True                 True   \n",
       "4              True             True                 True   \n",
       "5              True             True                 True   \n",
       "6              True             True                 True   \n",
       "7              True             True                 True   \n",
       "8              True             True                 True   \n",
       "9              True             True                 True   \n",
       "10             True             True                 True   \n",
       "11             True             True                 True   \n",
       "12             True             True                 True   \n",
       "13             True             True                 True   \n",
       "14             True             True                 True   \n",
       "15             True             True                 True   \n",
       "16             True             True                 True   \n",
       "17             True             True                 True   \n",
       "18             True             True                 True   \n",
       "19             True             True                 True   \n",
       "20             True             True                 True   \n",
       "21             True             True                 True   \n",
       "22             True             True                 True   \n",
       "23             True             True                 True   \n",
       "24             True             True                 True   \n",
       "25             True             True                 True   \n",
       "\n",
       "    residential_total_volume_mcf  residential_sales_volume_mcf  \\\n",
       "0                        9446820                       9446820   \n",
       "1                        5988272                       5988272   \n",
       "2                        6378840                       6378840   \n",
       "3                        7421796                       7421796   \n",
       "4                        6538829                       6538829   \n",
       "5                        6663028                       6663028   \n",
       "6                        7616351                       7616351   \n",
       "7                        7209134                       7209134   \n",
       "8                        7355609                       7355609   \n",
       "9                        5976557                       5976557   \n",
       "10                       6645491                       6645491   \n",
       "11                       6647281                       6647281   \n",
       "12                       7114133                       7114133   \n",
       "13                       7312202                       7312202   \n",
       "14                       6168899                       6168899   \n",
       "15                       5507282                       5507282   \n",
       "16                       6933544                       6933544   \n",
       "17                       7233607                       7233607   \n",
       "18                       6530122                       6530122   \n",
       "19                       6221405                       6221405   \n",
       "20                       6049061                       6049061   \n",
       "21                       6818744                       6818744   \n",
       "22                       6341458                       6341458   \n",
       "23                       5931629                       5931629   \n",
       "24                       6347678                       6347678   \n",
       "25                       6482440                       6482440   \n",
       "\n",
       "    residential_transported_volume_mcf  residential_sales_price_dollars  \\\n",
       "0                                    0                             6.61   \n",
       "1                                    0                             8.66   \n",
       "2                                    0                             9.02   \n",
       "3                                    0                             9.67   \n",
       "4                                    0                            10.83   \n",
       "5                                    0                            10.99   \n",
       "6                                    0                            11.58   \n",
       "7                                    0                            14.34   \n",
       "8                                    0                            16.16   \n",
       "9                                    0                            16.73   \n",
       "10                                   0                            16.90   \n",
       "11                                   0                            17.55   \n",
       "12                                   0                            15.19   \n",
       "13                                   0                            13.47   \n",
       "14                                   0                            13.36   \n",
       "15                                   0                            12.69   \n",
       "16                                   0                            11.97   \n",
       "17                                   0                            12.71   \n",
       "18                                   0                            12.47   \n",
       "19                                   0                            11.67   \n",
       "20                                   0                            12.85   \n",
       "21                                   0                            13.42   \n",
       "22                                   0                            13.10   \n",
       "23                                   0                            13.22   \n",
       "24                                   0                            13.54   \n",
       "25                                   0                            15.98   \n",
       "\n",
       "    residential_transported_price_dollars  residential_sales_revenue_dollars  \\\n",
       "0                                       0                           62459939   \n",
       "1                                       0                           51876780   \n",
       "2                                       0                           57549141   \n",
       "3                                       0                           71781543   \n",
       "4                                       0                           70842491   \n",
       "5                                       0                           73246397   \n",
       "6                                       0                           88198579   \n",
       "7                                       0                          103344199   \n",
       "8                                       0                          118853222   \n",
       "9                                       0                           99965290   \n",
       "10                                      0                          112316764   \n",
       "11                                      0                          116639511   \n",
       "12                                      0                          108086688   \n",
       "13                                      0                           98463011   \n",
       "14                                      0                           82386063   \n",
       "15                                      0                           69866364   \n",
       "16                                      0                           82973612   \n",
       "17                                      0                           91903447   \n",
       "18                                      0                           81434571   \n",
       "19                                      0                           72595011   \n",
       "20                                      0                           77726402   \n",
       "21                                      0                           91495778   \n",
       "22                                      0                           83074742   \n",
       "23                                      0                           78443474   \n",
       "24                                      0                           85953413   \n",
       "25                                      0                          103564899   \n",
       "\n",
       "    residential_transported_revenue_dollars  residential_total_customers  \\\n",
       "0                                         0                        78195   \n",
       "1                                         0                        79059   \n",
       "2                                         0                        81523   \n",
       "3                                         0                        81531   \n",
       "4                                         0                        84150   \n",
       "5                                         0                        87322   \n",
       "6                                         0                        87322   \n",
       "7                                         0                        90274   \n",
       "8                                         0                        91543   \n",
       "9                                         0                        93584   \n",
       "10                                        0                        95526   \n",
       "11                                        0                        97090   \n",
       "12                                        0                        98719   \n",
       "13                                        0                        97563   \n",
       "14                                        0                        98671   \n",
       "15                                        0                        99460   \n",
       "16                                        0                       100472   \n",
       "17                                        0                       101144   \n",
       "18                                        0                       101335   \n",
       "19                                        0                       102041   \n",
       "20                                        0                        99531   \n",
       "21                                        0                       105280   \n",
       "22                                        0                       106604   \n",
       "23                                        0                       108301   \n",
       "24                                        0                       109765   \n",
       "25                                        0                       110884   \n",
       "\n",
       "    residential_sales_customers  residential_transported_customers  \\\n",
       "0                         78195                                  0   \n",
       "1                         79059                                  0   \n",
       "2                         81523                                  0   \n",
       "3                         81531                                  0   \n",
       "4                         84150                                  0   \n",
       "5                         87322                                  0   \n",
       "6                         87322                                  0   \n",
       "7                         90274                                  0   \n",
       "8                         91543                                  0   \n",
       "9                         93584                                  0   \n",
       "10                        95526                                  0   \n",
       "11                        97090                                  0   \n",
       "12                        98719                                  0   \n",
       "13                        97563                                  0   \n",
       "14                        98671                                  0   \n",
       "15                        99460                                  0   \n",
       "16                       100472                                  0   \n",
       "17                       101144                                  0   \n",
       "18                       101335                                  0   \n",
       "19                       102041                                  0   \n",
       "20                        99531                                  0   \n",
       "21                       105280                                  0   \n",
       "22                       106604                                  0   \n",
       "23                       108301                                  0   \n",
       "24                       109765                                  0   \n",
       "25                       110884                                  0   \n",
       "\n",
       "    residential_volume_per_customer  residential_sales_per_customer  \\\n",
       "0                        120.811049                      798.771520   \n",
       "1                         75.744343                      656.178044   \n",
       "2                         78.245894                      705.925211   \n",
       "3                         91.030357                      880.420245   \n",
       "4                         77.704444                      841.859667   \n",
       "5                         76.304116                      838.808055   \n",
       "6                         87.221445                     1010.038467   \n",
       "7                         79.858365                     1144.783648   \n",
       "8                         80.351409                     1298.332172   \n",
       "9                         63.863021                     1068.187831   \n",
       "10                        69.567353                     1175.771664   \n",
       "11                        68.465146                     1201.354527   \n",
       "12                        72.064476                     1094.892452   \n",
       "13                        74.948515                     1009.224921   \n",
       "14                        62.519879                      834.957211   \n",
       "15                        55.371828                      702.456907   \n",
       "16                        69.009714                      825.838164   \n",
       "17                        71.517905                      908.639633   \n",
       "18                        64.440934                      803.617417   \n",
       "19                        60.969659                      711.429827   \n",
       "20                        60.775648                      780.926566   \n",
       "21                        64.767705                      869.070840   \n",
       "22                        59.486117                      779.283535   \n",
       "23                        54.769845                      724.309785   \n",
       "24                        57.829709                      783.067581   \n",
       "25                        58.461455                      933.993173   \n",
       "\n",
       "    residential_sales_price_dollars_real  \\\n",
       "0                               4.150453   \n",
       "1                               5.521780   \n",
       "2                               5.877457   \n",
       "3                               6.513134   \n",
       "4                               7.499897   \n",
       "5                               7.732141   \n",
       "6                               8.334465   \n",
       "7                              10.596236   \n",
       "8                              12.343003   \n",
       "9                              13.190099   \n",
       "10                             13.706605   \n",
       "11                             14.776795   \n",
       "12                             12.748742   \n",
       "13                             11.490189   \n",
       "14                             11.754163   \n",
       "15                             11.396161   \n",
       "16                             10.907155   \n",
       "17                             11.768544   \n",
       "18                             11.560307   \n",
       "19                             10.955780   \n",
       "20                             12.320689   \n",
       "21                             13.181042   \n",
       "22                             13.100000   \n",
       "23                             13.385419   \n",
       "24                             14.351375   \n",
       "25                             18.290308   \n",
       "\n",
       "    residential_transported_price_dollars_real  \\\n",
       "0                                            0   \n",
       "1                                            0   \n",
       "2                                            0   \n",
       "3                                            0   \n",
       "4                                            0   \n",
       "5                                            0   \n",
       "6                                            0   \n",
       "7                                            0   \n",
       "8                                            0   \n",
       "9                                            0   \n",
       "10                                           0   \n",
       "11                                           0   \n",
       "12                                           0   \n",
       "13                                           0   \n",
       "14                                           0   \n",
       "15                                           0   \n",
       "16                                           0   \n",
       "17                                           0   \n",
       "18                                           0   \n",
       "19                                           0   \n",
       "20                                           0   \n",
       "21                                           0   \n",
       "22                                           0   \n",
       "23                                           0   \n",
       "24                                           0   \n",
       "25                                           0   \n",
       "\n",
       "    residential_sales_revenue_dollars_real  \\\n",
       "0                             3.921892e+07   \n",
       "1                             3.307762e+07   \n",
       "2                             3.749918e+07   \n",
       "3                             4.834775e+07   \n",
       "4                             4.905923e+07   \n",
       "5                             5.153334e+07   \n",
       "6                             6.347910e+07   \n",
       "7                             7.636398e+07   \n",
       "8                             9.078006e+07   \n",
       "9                             7.881363e+07   \n",
       "10                            9.109358e+07   \n",
       "11                            9.820844e+07   \n",
       "12                            9.071556e+07   \n",
       "13                            8.399099e+07   \n",
       "14                            7.248347e+07   \n",
       "15                            6.274297e+07   \n",
       "16                            7.560619e+07   \n",
       "17                            8.509597e+07   \n",
       "18                            7.549388e+07   \n",
       "19                            6.815209e+07   \n",
       "20                            7.452473e+07   \n",
       "21                            8.986660e+07   \n",
       "22                            8.307474e+07   \n",
       "23                            7.942502e+07   \n",
       "24                            9.110411e+07   \n",
       "25                            1.185378e+08   \n",
       "\n",
       "    residential_transported_revenue_dollars_real  \\\n",
       "0                                              0   \n",
       "1                                              0   \n",
       "2                                              0   \n",
       "3                                              0   \n",
       "4                                              0   \n",
       "5                                              0   \n",
       "6                                              0   \n",
       "7                                              0   \n",
       "8                                              0   \n",
       "9                                              0   \n",
       "10                                             0   \n",
       "11                                             0   \n",
       "12                                             0   \n",
       "13                                             0   \n",
       "14                                             0   \n",
       "15                                             0   \n",
       "16                                             0   \n",
       "17                                             0   \n",
       "18                                             0   \n",
       "19                                             0   \n",
       "20                                             0   \n",
       "21                                             0   \n",
       "22                                             0   \n",
       "23                                             0   \n",
       "24                                             0   \n",
       "25                                             0   \n",
       "\n",
       "    residential_sales_per_customer_real  residential_cost_per_mcf_real  \\\n",
       "0                            501.552791                       4.151547   \n",
       "1                            418.391523                       5.523733   \n",
       "2                            459.982844                       5.878683   \n",
       "3                            592.998428                       6.514293   \n",
       "4                            582.997333                       7.502754   \n",
       "5                            590.153054                       7.734223   \n",
       "6                            726.954279                       8.334582   \n",
       "7                            845.913378                      10.592671   \n",
       "8                            991.665723                      12.341610   \n",
       "9                            842.169968                      13.187130   \n",
       "10                           953.599849                      13.707577   \n",
       "11                          1011.519608                      14.774227   \n",
       "12                           918.927031                      12.751457   \n",
       "13                           860.889749                      11.486415   \n",
       "14                           734.597525                      11.749823   \n",
       "15                           630.836227                      11.392729   \n",
       "16                           752.510011                      10.904407   \n",
       "17                           841.334787                      11.763974   \n",
       "18                           744.993125                      11.560868   \n",
       "19                           667.889326                      10.954454   \n",
       "20                           748.759029                      12.320050   \n",
       "21                           853.596077                      13.179347   \n",
       "22                           779.283535                      13.100259   \n",
       "23                           733.372928                      13.390086   \n",
       "24                           829.992357                      14.352352   \n",
       "25                          1069.025236                      18.285984   \n",
       "\n",
       "    residential_sales_customers_growth  residential_sales_volume_mcf_growth  \\\n",
       "0                                  NaN                                  NaN   \n",
       "1                                864.0                           -3458548.0   \n",
       "2                               2464.0                             390568.0   \n",
       "3                                  8.0                            1042956.0   \n",
       "4                               2619.0                            -882967.0   \n",
       "5                               3172.0                             124199.0   \n",
       "6                                  0.0                             953323.0   \n",
       "7                               2952.0                            -407217.0   \n",
       "8                               1269.0                             146475.0   \n",
       "9                               2041.0                           -1379052.0   \n",
       "10                              1942.0                             668934.0   \n",
       "11                              1564.0                               1790.0   \n",
       "12                              1629.0                             466852.0   \n",
       "13                             -1156.0                             198069.0   \n",
       "14                              1108.0                           -1143303.0   \n",
       "15                               789.0                            -661617.0   \n",
       "16                              1012.0                            1426262.0   \n",
       "17                               672.0                             300063.0   \n",
       "18                               191.0                            -703485.0   \n",
       "19                               706.0                            -308717.0   \n",
       "20                             -2510.0                            -172344.0   \n",
       "21                              5749.0                             769683.0   \n",
       "22                              1324.0                            -477286.0   \n",
       "23                              1697.0                            -409829.0   \n",
       "24                              1464.0                             416049.0   \n",
       "25                              1119.0                             134762.0   \n",
       "\n",
       "    residential_sales_revenue_dollars_real_growth  \\\n",
       "0                                             NaN   \n",
       "1                                   -6.141305e+06   \n",
       "2                                    4.421566e+06   \n",
       "3                                    1.084857e+07   \n",
       "4                                    7.114707e+05   \n",
       "5                                    2.474119e+06   \n",
       "6                                    1.194576e+07   \n",
       "7                                    1.288488e+07   \n",
       "8                                    1.441607e+07   \n",
       "9                                   -1.196642e+07   \n",
       "10                                   1.227994e+07   \n",
       "11                                   7.114860e+06   \n",
       "12                                  -7.492881e+06   \n",
       "13                                  -6.724571e+06   \n",
       "14                                  -1.150751e+07   \n",
       "15                                  -9.740501e+06   \n",
       "16                                   1.286321e+07   \n",
       "17                                   9.489780e+06   \n",
       "18                                  -9.602087e+06   \n",
       "19                                  -7.341784e+06   \n",
       "20                                   6.372640e+06   \n",
       "21                                   1.534186e+07   \n",
       "22                                  -6.791853e+06   \n",
       "23                                  -3.649720e+06   \n",
       "24                                   1.167909e+07   \n",
       "25                                   2.743368e+07   \n",
       "\n",
       "    residential_fuel_costs_real  residential_net_revenue_real  \\\n",
       "0                  2.455727e+07                  1.466165e+07   \n",
       "1                  1.428020e+07                  1.879741e+07   \n",
       "2                  1.583615e+07                  2.166303e+07   \n",
       "3                  2.669401e+07                  2.165375e+07   \n",
       "4                  3.061072e+07                  1.844851e+07   \n",
       "5                  3.164299e+07                  1.989036e+07   \n",
       "6                  3.601484e+07                  2.746426e+07   \n",
       "7                  4.053874e+07                  3.582525e+07   \n",
       "8                  5.685630e+07                  3.392375e+07   \n",
       "9                  4.952288e+07                  2.929075e+07   \n",
       "10                 4.996317e+07                  4.113041e+07   \n",
       "11                 5.938306e+07                  3.882538e+07   \n",
       "12                 4.896045e+07                  4.175511e+07   \n",
       "13                 4.291372e+07                  4.107726e+07   \n",
       "14                 3.603802e+07                  3.644545e+07   \n",
       "15                 2.789416e+07                  3.484881e+07   \n",
       "16                 3.500115e+07                  4.060503e+07   \n",
       "17                 4.005284e+07                  4.504313e+07   \n",
       "18                 2.948174e+07                  4.601213e+07   \n",
       "19                 2.330418e+07                  4.484792e+07   \n",
       "20                 2.627351e+07                  4.825123e+07   \n",
       "21                 3.141047e+07                  5.845612e+07   \n",
       "22                 2.866339e+07                  5.441135e+07   \n",
       "23                 2.324264e+07                  5.618238e+07   \n",
       "24                 3.411125e+07                  5.699286e+07   \n",
       "25                 5.505372e+07                  6.348407e+07   \n",
       "\n",
       "    residential_net_revenue_real_per_customer  \\\n",
       "0                                  187.501143   \n",
       "1                                  237.764391   \n",
       "2                                  265.729067   \n",
       "3                                  265.589120   \n",
       "4                                  219.233581   \n",
       "5                                  227.781746   \n",
       "6                                  314.517080   \n",
       "7                                  396.850097   \n",
       "8                                  370.577219   \n",
       "9                                  312.988896   \n",
       "10                                 430.567682   \n",
       "11                                 399.890652   \n",
       "12                                 422.969316   \n",
       "13                                 421.033220   \n",
       "14                                 369.363314   \n",
       "15                                 350.380120   \n",
       "16                                 404.142756   \n",
       "17                                 445.336653   \n",
       "18                                 454.059641   \n",
       "19                                 439.508785   \n",
       "20                                 484.785928   \n",
       "21                                 555.244331   \n",
       "22                                 510.406287   \n",
       "23                                 518.761423   \n",
       "24                                 519.226131   \n",
       "25                                 572.526917   \n",
       "\n",
       "    residential_net_revenue_real_proportion  \\\n",
       "0                                  0.577056   \n",
       "1                                  0.619644   \n",
       "2                                  0.701357   \n",
       "3                                  0.754695   \n",
       "4                                  0.976618   \n",
       "5                                  0.916312   \n",
       "6                                  0.810005   \n",
       "7                                  0.630355   \n",
       "8                                  0.656805   \n",
       "9                                  0.709085   \n",
       "10                                 0.638286   \n",
       "11                                 0.632730   \n",
       "12                                 0.715371   \n",
       "13                                 0.696525   \n",
       "14                                 0.691010   \n",
       "15                                 0.714629   \n",
       "16                                 0.686787   \n",
       "17                                 0.653814   \n",
       "18                                 0.663696   \n",
       "19                                 0.666857   \n",
       "20                                 0.657846   \n",
       "21                                 0.668339   \n",
       "22                                 0.645008   \n",
       "23                                 0.714841   \n",
       "24                                 0.687321   \n",
       "25                                 0.647376   \n",
       "\n",
       "    mains_miles_per_residential_customers  \n",
       "0                                0.020052  \n",
       "1                                0.020402  \n",
       "2                                0.020252  \n",
       "3                                0.020569  \n",
       "4                                0.020107  \n",
       "5                                0.019846  \n",
       "6                                0.020224  \n",
       "7                                0.019784  \n",
       "8                                0.019892  \n",
       "9                                0.019505  \n",
       "10                               0.019331  \n",
       "11                               0.018887  \n",
       "12                               0.018664  \n",
       "13                               0.019125  \n",
       "14                               0.019719  \n",
       "15                               0.019397  \n",
       "16                               0.019019  \n",
       "17                               0.018898  \n",
       "18                               0.018897  \n",
       "19                               0.018845  \n",
       "20                               0.019393  \n",
       "21                               0.018292  \n",
       "22                               0.018165  \n",
       "23                               0.017961  \n",
       "24                               0.017819  \n",
       "25                               0.017801  "
      ]
     },
     "execution_count": 10,
     "metadata": {},
     "output_type": "execute_result"
    }
   ],
   "source": [
    "eia_phmsa[[col for col in eia_phmsa.columns if \"residential\" in col]]"
   ]
  },
  {
   "cell_type": "markdown",
   "metadata": {},
   "source": [
    "# Plots"
   ]
  },
  {
   "cell_type": "markdown",
   "metadata": {},
   "source": [
    "## Plotting functions"
   ]
  },
  {
   "cell_type": "code",
   "execution_count": 11,
   "metadata": {},
   "outputs": [],
   "source": [
    "def lineplot_eia_phmsa(y:str, x:str=\"year\", title:str=\"\", x_label=\"\", y_label=\"\", filename:str=None) -> None:\n",
    "    fig = px.line(\n",
    "        eia_phmsa, \n",
    "        x=x, y=y, \n",
    "        title=title,\n",
    "        labels={ y: y_label, x: x_label, }\n",
    "    )\n",
    "\n",
    "    fig.update_traces(hovertemplate=None)\n",
    "\n",
    "    filename = filename or y\n",
    "\n",
    "    fig.show()\n",
    "    fig.write_html(f\"../docs/_includes/charts/{filename}.html\", include_plotlyjs=\"cdn\")"
   ]
  },
  {
   "cell_type": "markdown",
   "metadata": {},
   "source": [
    "## EIA & PHMSA"
   ]
  },
  {
   "cell_type": "code",
   "execution_count": 12,
   "metadata": {},
   "outputs": [
    {
     "data": {
      "application/vnd.plotly.v1+json": {
       "config": {
        "plotlyServerURL": "https://plot.ly"
       },
       "data": [
        {
         "hovertemplate": "=%{x}<br>Pipelines=%{y}<extra></extra>",
         "legendgroup": "",
         "line": {
          "color": "#007C77",
          "dash": "solid"
         },
         "marker": {
          "symbol": "circle"
         },
         "mode": "lines",
         "name": "",
         "orientation": "v",
         "showlegend": false,
         "type": "scatter",
         "x": [
          1997,
          1998,
          1999,
          2000,
          2001,
          2002,
          2003,
          2004,
          2005,
          2006,
          2007,
          2008,
          2009,
          2010,
          2011,
          2012,
          2013,
          2014,
          2015,
          2016,
          2017,
          2018,
          2019,
          2020,
          2021,
          2022
         ],
         "xaxis": "x",
         "y": [
          1568,
          1613,
          1651,
          1677,
          1692,
          1733,
          1766,
          1786,
          1821,
          1825.4,
          1846.6,
          1833.704,
          1842.512,
          1865.868,
          1945.679,
          1929.26,
          1910.854,
          1911.432,
          1914.972,
          1922.985,
          1930.24,
          1925.76,
          1936.42,
          1945.233,
          1955.901,
          1973.845
         ],
         "yaxis": "y"
        }
       ],
       "layout": {
        "legend": {
         "tracegroupgap": 0
        },
        "template": {
         "data": {
          "bar": [
           {
            "error_x": {
             "color": "rgb(51,51,51)"
            },
            "error_y": {
             "color": "rgb(51,51,51)"
            },
            "marker": {
             "line": {
              "color": "rgb(237,237,237)",
              "width": 0.5
             },
             "pattern": {
              "fillmode": "overlay",
              "size": 10,
              "solidity": 0.2
             }
            },
            "type": "bar"
           }
          ],
          "barpolar": [
           {
            "marker": {
             "line": {
              "color": "rgb(237,237,237)",
              "width": 0.5
             },
             "pattern": {
              "fillmode": "overlay",
              "size": 10,
              "solidity": 0.2
             }
            },
            "type": "barpolar"
           }
          ],
          "carpet": [
           {
            "aaxis": {
             "endlinecolor": "rgb(51,51,51)",
             "gridcolor": "white",
             "linecolor": "white",
             "minorgridcolor": "white",
             "startlinecolor": "rgb(51,51,51)"
            },
            "baxis": {
             "endlinecolor": "rgb(51,51,51)",
             "gridcolor": "white",
             "linecolor": "white",
             "minorgridcolor": "white",
             "startlinecolor": "rgb(51,51,51)"
            },
            "type": "carpet"
           }
          ],
          "choropleth": [
           {
            "colorbar": {
             "outlinewidth": 0,
             "tickcolor": "rgb(237,237,237)",
             "ticklen": 6,
             "ticks": "inside"
            },
            "type": "choropleth"
           }
          ],
          "contour": [
           {
            "colorbar": {
             "outlinewidth": 0,
             "tickcolor": "rgb(237,237,237)",
             "ticklen": 6,
             "ticks": "inside"
            },
            "colorscale": [
             [
              0,
              "rgb(20,44,66)"
             ],
             [
              1,
              "rgb(90,179,244)"
             ]
            ],
            "type": "contour"
           }
          ],
          "contourcarpet": [
           {
            "colorbar": {
             "outlinewidth": 0,
             "tickcolor": "rgb(237,237,237)",
             "ticklen": 6,
             "ticks": "inside"
            },
            "type": "contourcarpet"
           }
          ],
          "heatmap": [
           {
            "colorbar": {
             "outlinewidth": 0,
             "tickcolor": "rgb(237,237,237)",
             "ticklen": 6,
             "ticks": "inside"
            },
            "colorscale": [
             [
              0,
              "rgb(20,44,66)"
             ],
             [
              1,
              "rgb(90,179,244)"
             ]
            ],
            "type": "heatmap"
           }
          ],
          "heatmapgl": [
           {
            "colorbar": {
             "outlinewidth": 0,
             "tickcolor": "rgb(237,237,237)",
             "ticklen": 6,
             "ticks": "inside"
            },
            "colorscale": [
             [
              0,
              "rgb(20,44,66)"
             ],
             [
              1,
              "rgb(90,179,244)"
             ]
            ],
            "type": "heatmapgl"
           }
          ],
          "histogram": [
           {
            "marker": {
             "pattern": {
              "fillmode": "overlay",
              "size": 10,
              "solidity": 0.2
             }
            },
            "type": "histogram"
           }
          ],
          "histogram2d": [
           {
            "colorbar": {
             "outlinewidth": 0,
             "tickcolor": "rgb(237,237,237)",
             "ticklen": 6,
             "ticks": "inside"
            },
            "colorscale": [
             [
              0,
              "rgb(20,44,66)"
             ],
             [
              1,
              "rgb(90,179,244)"
             ]
            ],
            "type": "histogram2d"
           }
          ],
          "histogram2dcontour": [
           {
            "colorbar": {
             "outlinewidth": 0,
             "tickcolor": "rgb(237,237,237)",
             "ticklen": 6,
             "ticks": "inside"
            },
            "colorscale": [
             [
              0,
              "rgb(20,44,66)"
             ],
             [
              1,
              "rgb(90,179,244)"
             ]
            ],
            "type": "histogram2dcontour"
           }
          ],
          "mesh3d": [
           {
            "colorbar": {
             "outlinewidth": 0,
             "tickcolor": "rgb(237,237,237)",
             "ticklen": 6,
             "ticks": "inside"
            },
            "type": "mesh3d"
           }
          ],
          "parcoords": [
           {
            "line": {
             "colorbar": {
              "outlinewidth": 0,
              "tickcolor": "rgb(237,237,237)",
              "ticklen": 6,
              "ticks": "inside"
             }
            },
            "type": "parcoords"
           }
          ],
          "pie": [
           {
            "automargin": true,
            "type": "pie"
           }
          ],
          "scatter": [
           {
            "fillpattern": {
             "fillmode": "overlay",
             "size": 10,
             "solidity": 0.2
            },
            "type": "scatter"
           }
          ],
          "scatter3d": [
           {
            "line": {
             "colorbar": {
              "outlinewidth": 0,
              "tickcolor": "rgb(237,237,237)",
              "ticklen": 6,
              "ticks": "inside"
             }
            },
            "marker": {
             "colorbar": {
              "outlinewidth": 0,
              "tickcolor": "rgb(237,237,237)",
              "ticklen": 6,
              "ticks": "inside"
             }
            },
            "type": "scatter3d"
           }
          ],
          "scattercarpet": [
           {
            "marker": {
             "colorbar": {
              "outlinewidth": 0,
              "tickcolor": "rgb(237,237,237)",
              "ticklen": 6,
              "ticks": "inside"
             }
            },
            "type": "scattercarpet"
           }
          ],
          "scattergeo": [
           {
            "marker": {
             "colorbar": {
              "outlinewidth": 0,
              "tickcolor": "rgb(237,237,237)",
              "ticklen": 6,
              "ticks": "inside"
             }
            },
            "type": "scattergeo"
           }
          ],
          "scattergl": [
           {
            "marker": {
             "colorbar": {
              "outlinewidth": 0,
              "tickcolor": "rgb(237,237,237)",
              "ticklen": 6,
              "ticks": "inside"
             }
            },
            "type": "scattergl"
           }
          ],
          "scattermapbox": [
           {
            "marker": {
             "colorbar": {
              "outlinewidth": 0,
              "tickcolor": "rgb(237,237,237)",
              "ticklen": 6,
              "ticks": "inside"
             }
            },
            "type": "scattermapbox"
           }
          ],
          "scatterpolar": [
           {
            "marker": {
             "colorbar": {
              "outlinewidth": 0,
              "tickcolor": "rgb(237,237,237)",
              "ticklen": 6,
              "ticks": "inside"
             }
            },
            "type": "scatterpolar"
           }
          ],
          "scatterpolargl": [
           {
            "marker": {
             "colorbar": {
              "outlinewidth": 0,
              "tickcolor": "rgb(237,237,237)",
              "ticklen": 6,
              "ticks": "inside"
             }
            },
            "type": "scatterpolargl"
           }
          ],
          "scatterternary": [
           {
            "marker": {
             "colorbar": {
              "outlinewidth": 0,
              "tickcolor": "rgb(237,237,237)",
              "ticklen": 6,
              "ticks": "inside"
             }
            },
            "type": "scatterternary"
           }
          ],
          "surface": [
           {
            "colorbar": {
             "outlinewidth": 0,
             "tickcolor": "rgb(237,237,237)",
             "ticklen": 6,
             "ticks": "inside"
            },
            "colorscale": [
             [
              0,
              "rgb(20,44,66)"
             ],
             [
              1,
              "rgb(90,179,244)"
             ]
            ],
            "type": "surface"
           }
          ],
          "table": [
           {
            "cells": {
             "fill": {
              "color": "rgb(237,237,237)"
             },
             "line": {
              "color": "white"
             }
            },
            "header": {
             "fill": {
              "color": "rgb(217,217,217)"
             },
             "line": {
              "color": "white"
             }
            },
            "type": "table"
           }
          ]
         },
         "layout": {
          "annotationdefaults": {
           "arrowhead": 0,
           "arrowwidth": 1
          },
          "annotations": [
           {
            "font": {
             "color": "black",
             "size": 12
            },
            "name": "created by",
            "opacity": 0.9,
            "showarrow": false,
            "text": "Created by Electrify RVA",
            "x": -0.05,
            "xref": "paper",
            "y": -0.25,
            "yref": "paper"
           }
          ],
          "autotypenumbers": "strict",
          "coloraxis": {
           "colorbar": {
            "outlinewidth": 0,
            "tickcolor": "rgb(237,237,237)",
            "ticklen": 6,
            "ticks": "inside"
           }
          },
          "colorscale": {
           "sequential": [
            [
             0,
             "rgb(20,44,66)"
            ],
            [
             1,
             "rgb(90,179,244)"
            ]
           ],
           "sequentialminus": [
            [
             0,
             "rgb(20,44,66)"
            ],
            [
             1,
             "rgb(90,179,244)"
            ]
           ]
          },
          "colorway": [
           "#007C77",
           "#1a1b41",
           "#f48668",
           "#f2bb05",
           "#E2A0FF",
           "#8acb88"
          ],
          "font": {
           "color": "rgb(51,51,51)"
          },
          "geo": {
           "bgcolor": "white",
           "lakecolor": "white",
           "landcolor": "rgb(237,237,237)",
           "showlakes": true,
           "showland": true,
           "subunitcolor": "white"
          },
          "hoverlabel": {
           "align": "left"
          },
          "hovermode": "x unified",
          "paper_bgcolor": "white",
          "plot_bgcolor": "rgb(237,237,237)",
          "polar": {
           "angularaxis": {
            "gridcolor": "white",
            "linecolor": "white",
            "showgrid": true,
            "tickcolor": "rgb(51,51,51)",
            "ticks": "outside"
           },
           "bgcolor": "rgb(237,237,237)",
           "radialaxis": {
            "gridcolor": "white",
            "linecolor": "white",
            "showgrid": true,
            "tickcolor": "rgb(51,51,51)",
            "ticks": "outside"
           }
          },
          "scene": {
           "xaxis": {
            "backgroundcolor": "rgb(237,237,237)",
            "gridcolor": "white",
            "gridwidth": 2,
            "linecolor": "white",
            "showbackground": true,
            "showgrid": true,
            "tickcolor": "rgb(51,51,51)",
            "ticks": "outside",
            "zerolinecolor": "white"
           },
           "yaxis": {
            "backgroundcolor": "rgb(237,237,237)",
            "gridcolor": "white",
            "gridwidth": 2,
            "linecolor": "white",
            "showbackground": true,
            "showgrid": true,
            "tickcolor": "rgb(51,51,51)",
            "ticks": "outside",
            "zerolinecolor": "white"
           },
           "zaxis": {
            "backgroundcolor": "rgb(237,237,237)",
            "gridcolor": "white",
            "gridwidth": 2,
            "linecolor": "white",
            "showbackground": true,
            "showgrid": true,
            "tickcolor": "rgb(51,51,51)",
            "ticks": "outside",
            "zerolinecolor": "white"
           }
          },
          "shapedefaults": {
           "fillcolor": "black",
           "line": {
            "width": 0
           },
           "opacity": 0.3
          },
          "ternary": {
           "aaxis": {
            "gridcolor": "white",
            "linecolor": "white",
            "showgrid": true,
            "tickcolor": "rgb(51,51,51)",
            "ticks": "outside"
           },
           "baxis": {
            "gridcolor": "white",
            "linecolor": "white",
            "showgrid": true,
            "tickcolor": "rgb(51,51,51)",
            "ticks": "outside"
           },
           "bgcolor": "rgb(237,237,237)",
           "caxis": {
            "gridcolor": "white",
            "linecolor": "white",
            "showgrid": true,
            "tickcolor": "rgb(51,51,51)",
            "ticks": "outside"
           }
          },
          "title": {
           "x": 0.05
          },
          "xaxis": {
           "automargin": true,
           "gridcolor": "white",
           "linecolor": "white",
           "showgrid": true,
           "tickcolor": "rgb(51,51,51)",
           "ticks": "outside",
           "title": {
            "standoff": 15
           },
           "zerolinecolor": "white"
          },
          "yaxis": {
           "automargin": true,
           "gridcolor": "white",
           "linecolor": "white",
           "showgrid": true,
           "tickcolor": "rgb(51,51,51)",
           "tickformat": ",.0f",
           "ticks": "outside",
           "title": {
            "standoff": 15
           },
           "zerolinecolor": "white"
          }
         }
        },
        "title": {
         "text": "Miles of pipelines"
        },
        "xaxis": {
         "anchor": "y",
         "domain": [
          0,
          1
         ],
         "title": {
          "text": ""
         }
        },
        "yaxis": {
         "anchor": "x",
         "domain": [
          0,
          1
         ],
         "tickformat": ",.0f",
         "title": {
          "text": "Pipelines"
         }
        }
       }
      }
     },
     "metadata": {},
     "output_type": "display_data"
    }
   ],
   "source": [
    "fig = px.line(\n",
    "    eia_phmsa, \n",
    "    x=\"year\", y=\"mains_miles_total\", \n",
    "    title='Miles of pipelines',\n",
    "    labels={ \"year\": \"\", \"mains_miles_total\": \"Pipelines\", }\n",
    ")\n",
    "\n",
    "fig.update_layout(yaxis=dict(tickformat=\",.0f\"))\n",
    "fig.show()\n",
    "fig.write_html(\"../docs/_includes/charts/pipeline_miles.html\", include_plotlyjs=\"cdn\")"
   ]
  },
  {
   "cell_type": "code",
   "execution_count": 13,
   "metadata": {},
   "outputs": [
    {
     "data": {
      "application/vnd.plotly.v1+json": {
       "config": {
        "plotlyServerURL": "https://plot.ly"
       },
       "data": [
        {
         "hovertemplate": "=%{x}<br>Total methane sold (Mcf)=%{y}<extra></extra>",
         "legendgroup": "",
         "line": {
          "color": "#007C77",
          "dash": "solid"
         },
         "marker": {
          "symbol": "circle"
         },
         "mode": "lines",
         "name": "",
         "orientation": "v",
         "showlegend": false,
         "type": "scatter",
         "x": [
          1997,
          1998,
          1999,
          2000,
          2001,
          2002,
          2003,
          2004,
          2005,
          2006,
          2007,
          2008,
          2009,
          2010,
          2011,
          2012,
          2013,
          2014,
          2015,
          2016,
          2017,
          2018,
          2019,
          2020,
          2021,
          2022
         ],
         "xaxis": "x",
         "y": [
          9446820,
          5988272,
          6378840,
          7421796,
          6538829,
          6663028,
          7616351,
          7209134,
          7355609,
          5976557,
          6645491,
          6647281,
          7114133,
          7312202,
          6168899,
          5507282,
          6933544,
          7233607,
          6530122,
          6221405,
          6049061,
          6818744,
          6341458,
          5931629,
          6347678,
          6482440
         ],
         "yaxis": "y"
        }
       ],
       "layout": {
        "legend": {
         "tracegroupgap": 0
        },
        "template": {
         "data": {
          "bar": [
           {
            "error_x": {
             "color": "rgb(51,51,51)"
            },
            "error_y": {
             "color": "rgb(51,51,51)"
            },
            "marker": {
             "line": {
              "color": "rgb(237,237,237)",
              "width": 0.5
             },
             "pattern": {
              "fillmode": "overlay",
              "size": 10,
              "solidity": 0.2
             }
            },
            "type": "bar"
           }
          ],
          "barpolar": [
           {
            "marker": {
             "line": {
              "color": "rgb(237,237,237)",
              "width": 0.5
             },
             "pattern": {
              "fillmode": "overlay",
              "size": 10,
              "solidity": 0.2
             }
            },
            "type": "barpolar"
           }
          ],
          "carpet": [
           {
            "aaxis": {
             "endlinecolor": "rgb(51,51,51)",
             "gridcolor": "white",
             "linecolor": "white",
             "minorgridcolor": "white",
             "startlinecolor": "rgb(51,51,51)"
            },
            "baxis": {
             "endlinecolor": "rgb(51,51,51)",
             "gridcolor": "white",
             "linecolor": "white",
             "minorgridcolor": "white",
             "startlinecolor": "rgb(51,51,51)"
            },
            "type": "carpet"
           }
          ],
          "choropleth": [
           {
            "colorbar": {
             "outlinewidth": 0,
             "tickcolor": "rgb(237,237,237)",
             "ticklen": 6,
             "ticks": "inside"
            },
            "type": "choropleth"
           }
          ],
          "contour": [
           {
            "colorbar": {
             "outlinewidth": 0,
             "tickcolor": "rgb(237,237,237)",
             "ticklen": 6,
             "ticks": "inside"
            },
            "colorscale": [
             [
              0,
              "rgb(20,44,66)"
             ],
             [
              1,
              "rgb(90,179,244)"
             ]
            ],
            "type": "contour"
           }
          ],
          "contourcarpet": [
           {
            "colorbar": {
             "outlinewidth": 0,
             "tickcolor": "rgb(237,237,237)",
             "ticklen": 6,
             "ticks": "inside"
            },
            "type": "contourcarpet"
           }
          ],
          "heatmap": [
           {
            "colorbar": {
             "outlinewidth": 0,
             "tickcolor": "rgb(237,237,237)",
             "ticklen": 6,
             "ticks": "inside"
            },
            "colorscale": [
             [
              0,
              "rgb(20,44,66)"
             ],
             [
              1,
              "rgb(90,179,244)"
             ]
            ],
            "type": "heatmap"
           }
          ],
          "heatmapgl": [
           {
            "colorbar": {
             "outlinewidth": 0,
             "tickcolor": "rgb(237,237,237)",
             "ticklen": 6,
             "ticks": "inside"
            },
            "colorscale": [
             [
              0,
              "rgb(20,44,66)"
             ],
             [
              1,
              "rgb(90,179,244)"
             ]
            ],
            "type": "heatmapgl"
           }
          ],
          "histogram": [
           {
            "marker": {
             "pattern": {
              "fillmode": "overlay",
              "size": 10,
              "solidity": 0.2
             }
            },
            "type": "histogram"
           }
          ],
          "histogram2d": [
           {
            "colorbar": {
             "outlinewidth": 0,
             "tickcolor": "rgb(237,237,237)",
             "ticklen": 6,
             "ticks": "inside"
            },
            "colorscale": [
             [
              0,
              "rgb(20,44,66)"
             ],
             [
              1,
              "rgb(90,179,244)"
             ]
            ],
            "type": "histogram2d"
           }
          ],
          "histogram2dcontour": [
           {
            "colorbar": {
             "outlinewidth": 0,
             "tickcolor": "rgb(237,237,237)",
             "ticklen": 6,
             "ticks": "inside"
            },
            "colorscale": [
             [
              0,
              "rgb(20,44,66)"
             ],
             [
              1,
              "rgb(90,179,244)"
             ]
            ],
            "type": "histogram2dcontour"
           }
          ],
          "mesh3d": [
           {
            "colorbar": {
             "outlinewidth": 0,
             "tickcolor": "rgb(237,237,237)",
             "ticklen": 6,
             "ticks": "inside"
            },
            "type": "mesh3d"
           }
          ],
          "parcoords": [
           {
            "line": {
             "colorbar": {
              "outlinewidth": 0,
              "tickcolor": "rgb(237,237,237)",
              "ticklen": 6,
              "ticks": "inside"
             }
            },
            "type": "parcoords"
           }
          ],
          "pie": [
           {
            "automargin": true,
            "type": "pie"
           }
          ],
          "scatter": [
           {
            "fillpattern": {
             "fillmode": "overlay",
             "size": 10,
             "solidity": 0.2
            },
            "type": "scatter"
           }
          ],
          "scatter3d": [
           {
            "line": {
             "colorbar": {
              "outlinewidth": 0,
              "tickcolor": "rgb(237,237,237)",
              "ticklen": 6,
              "ticks": "inside"
             }
            },
            "marker": {
             "colorbar": {
              "outlinewidth": 0,
              "tickcolor": "rgb(237,237,237)",
              "ticklen": 6,
              "ticks": "inside"
             }
            },
            "type": "scatter3d"
           }
          ],
          "scattercarpet": [
           {
            "marker": {
             "colorbar": {
              "outlinewidth": 0,
              "tickcolor": "rgb(237,237,237)",
              "ticklen": 6,
              "ticks": "inside"
             }
            },
            "type": "scattercarpet"
           }
          ],
          "scattergeo": [
           {
            "marker": {
             "colorbar": {
              "outlinewidth": 0,
              "tickcolor": "rgb(237,237,237)",
              "ticklen": 6,
              "ticks": "inside"
             }
            },
            "type": "scattergeo"
           }
          ],
          "scattergl": [
           {
            "marker": {
             "colorbar": {
              "outlinewidth": 0,
              "tickcolor": "rgb(237,237,237)",
              "ticklen": 6,
              "ticks": "inside"
             }
            },
            "type": "scattergl"
           }
          ],
          "scattermapbox": [
           {
            "marker": {
             "colorbar": {
              "outlinewidth": 0,
              "tickcolor": "rgb(237,237,237)",
              "ticklen": 6,
              "ticks": "inside"
             }
            },
            "type": "scattermapbox"
           }
          ],
          "scatterpolar": [
           {
            "marker": {
             "colorbar": {
              "outlinewidth": 0,
              "tickcolor": "rgb(237,237,237)",
              "ticklen": 6,
              "ticks": "inside"
             }
            },
            "type": "scatterpolar"
           }
          ],
          "scatterpolargl": [
           {
            "marker": {
             "colorbar": {
              "outlinewidth": 0,
              "tickcolor": "rgb(237,237,237)",
              "ticklen": 6,
              "ticks": "inside"
             }
            },
            "type": "scatterpolargl"
           }
          ],
          "scatterternary": [
           {
            "marker": {
             "colorbar": {
              "outlinewidth": 0,
              "tickcolor": "rgb(237,237,237)",
              "ticklen": 6,
              "ticks": "inside"
             }
            },
            "type": "scatterternary"
           }
          ],
          "surface": [
           {
            "colorbar": {
             "outlinewidth": 0,
             "tickcolor": "rgb(237,237,237)",
             "ticklen": 6,
             "ticks": "inside"
            },
            "colorscale": [
             [
              0,
              "rgb(20,44,66)"
             ],
             [
              1,
              "rgb(90,179,244)"
             ]
            ],
            "type": "surface"
           }
          ],
          "table": [
           {
            "cells": {
             "fill": {
              "color": "rgb(237,237,237)"
             },
             "line": {
              "color": "white"
             }
            },
            "header": {
             "fill": {
              "color": "rgb(217,217,217)"
             },
             "line": {
              "color": "white"
             }
            },
            "type": "table"
           }
          ]
         },
         "layout": {
          "annotationdefaults": {
           "arrowhead": 0,
           "arrowwidth": 1
          },
          "annotations": [
           {
            "font": {
             "color": "black",
             "size": 12
            },
            "name": "created by",
            "opacity": 0.9,
            "showarrow": false,
            "text": "Created by Electrify RVA",
            "x": -0.05,
            "xref": "paper",
            "y": -0.25,
            "yref": "paper"
           }
          ],
          "autotypenumbers": "strict",
          "coloraxis": {
           "colorbar": {
            "outlinewidth": 0,
            "tickcolor": "rgb(237,237,237)",
            "ticklen": 6,
            "ticks": "inside"
           }
          },
          "colorscale": {
           "sequential": [
            [
             0,
             "rgb(20,44,66)"
            ],
            [
             1,
             "rgb(90,179,244)"
            ]
           ],
           "sequentialminus": [
            [
             0,
             "rgb(20,44,66)"
            ],
            [
             1,
             "rgb(90,179,244)"
            ]
           ]
          },
          "colorway": [
           "#007C77",
           "#1a1b41",
           "#f48668",
           "#f2bb05",
           "#E2A0FF",
           "#8acb88"
          ],
          "font": {
           "color": "rgb(51,51,51)"
          },
          "geo": {
           "bgcolor": "white",
           "lakecolor": "white",
           "landcolor": "rgb(237,237,237)",
           "showlakes": true,
           "showland": true,
           "subunitcolor": "white"
          },
          "hoverlabel": {
           "align": "left"
          },
          "hovermode": "x unified",
          "paper_bgcolor": "white",
          "plot_bgcolor": "rgb(237,237,237)",
          "polar": {
           "angularaxis": {
            "gridcolor": "white",
            "linecolor": "white",
            "showgrid": true,
            "tickcolor": "rgb(51,51,51)",
            "ticks": "outside"
           },
           "bgcolor": "rgb(237,237,237)",
           "radialaxis": {
            "gridcolor": "white",
            "linecolor": "white",
            "showgrid": true,
            "tickcolor": "rgb(51,51,51)",
            "ticks": "outside"
           }
          },
          "scene": {
           "xaxis": {
            "backgroundcolor": "rgb(237,237,237)",
            "gridcolor": "white",
            "gridwidth": 2,
            "linecolor": "white",
            "showbackground": true,
            "showgrid": true,
            "tickcolor": "rgb(51,51,51)",
            "ticks": "outside",
            "zerolinecolor": "white"
           },
           "yaxis": {
            "backgroundcolor": "rgb(237,237,237)",
            "gridcolor": "white",
            "gridwidth": 2,
            "linecolor": "white",
            "showbackground": true,
            "showgrid": true,
            "tickcolor": "rgb(51,51,51)",
            "ticks": "outside",
            "zerolinecolor": "white"
           },
           "zaxis": {
            "backgroundcolor": "rgb(237,237,237)",
            "gridcolor": "white",
            "gridwidth": 2,
            "linecolor": "white",
            "showbackground": true,
            "showgrid": true,
            "tickcolor": "rgb(51,51,51)",
            "ticks": "outside",
            "zerolinecolor": "white"
           }
          },
          "shapedefaults": {
           "fillcolor": "black",
           "line": {
            "width": 0
           },
           "opacity": 0.3
          },
          "ternary": {
           "aaxis": {
            "gridcolor": "white",
            "linecolor": "white",
            "showgrid": true,
            "tickcolor": "rgb(51,51,51)",
            "ticks": "outside"
           },
           "baxis": {
            "gridcolor": "white",
            "linecolor": "white",
            "showgrid": true,
            "tickcolor": "rgb(51,51,51)",
            "ticks": "outside"
           },
           "bgcolor": "rgb(237,237,237)",
           "caxis": {
            "gridcolor": "white",
            "linecolor": "white",
            "showgrid": true,
            "tickcolor": "rgb(51,51,51)",
            "ticks": "outside"
           }
          },
          "title": {
           "x": 0.05
          },
          "xaxis": {
           "automargin": true,
           "gridcolor": "white",
           "linecolor": "white",
           "showgrid": true,
           "tickcolor": "rgb(51,51,51)",
           "ticks": "outside",
           "title": {
            "standoff": 15
           },
           "zerolinecolor": "white"
          },
          "yaxis": {
           "automargin": true,
           "gridcolor": "white",
           "linecolor": "white",
           "showgrid": true,
           "tickcolor": "rgb(51,51,51)",
           "tickformat": ",.0f",
           "ticks": "outside",
           "title": {
            "standoff": 15
           },
           "zerolinecolor": "white"
          }
         }
        },
        "title": {
         "text": "Residential Methane Sales"
        },
        "xaxis": {
         "anchor": "y",
         "domain": [
          0,
          1
         ],
         "title": {
          "text": ""
         }
        },
        "yaxis": {
         "anchor": "x",
         "domain": [
          0,
          1
         ],
         "title": {
          "text": "Total methane sold (Mcf)"
         }
        }
       }
      }
     },
     "metadata": {},
     "output_type": "display_data"
    }
   ],
   "source": [
    "fig = px.line(\n",
    "    eia_phmsa, \n",
    "    x=\"year\", y=\"residential_sales_volume_mcf\", \n",
    "    title='Residential Methane Sales',\n",
    "    labels={ \"year\": \"\", \"residential_sales_volume_mcf\": \"Total methane sold (Mcf)\", }\n",
    ")\n",
    "fig.show()\n",
    "fig.write_html(\"../docs/_includes/charts/residential_sales.html\", include_plotlyjs=\"cdn\")\n"
   ]
  },
  {
   "cell_type": "code",
   "execution_count": 14,
   "metadata": {},
   "outputs": [
    {
     "data": {
      "application/vnd.plotly.v1+json": {
       "config": {
        "plotlyServerURL": "https://plot.ly"
       },
       "data": [
        {
         "alignmentgroup": "True",
         "legendgroup": "Residential",
         "marker": {
          "color": "#007C77",
          "pattern": {
           "shape": ""
          }
         },
         "name": "Residential",
         "offsetgroup": "Residential",
         "orientation": "v",
         "showlegend": true,
         "textposition": "auto",
         "type": "bar",
         "x": [
          1997,
          1998,
          1999,
          2000,
          2001,
          2002,
          2003,
          2004,
          2005,
          2006,
          2007,
          2008,
          2009,
          2010,
          2011,
          2012,
          2013,
          2014,
          2015,
          2016,
          2017,
          2018,
          2019,
          2020,
          2021,
          2022
         ],
         "xaxis": "x",
         "y": [
          78195,
          79059,
          81523,
          81531,
          84150,
          87322,
          87322,
          90274,
          91543,
          93584,
          95526,
          97090,
          98719,
          97563,
          98671,
          99460,
          100472,
          101144,
          101335,
          102041,
          99531,
          105280,
          106604,
          108301,
          109765,
          110884
         ],
         "yaxis": "y"
        },
        {
         "alignmentgroup": "True",
         "legendgroup": "Commercial",
         "marker": {
          "color": "#1a1b41",
          "pattern": {
           "shape": ""
          }
         },
         "name": "Commercial",
         "offsetgroup": "Commercial",
         "orientation": "v",
         "showlegend": true,
         "textposition": "auto",
         "type": "bar",
         "x": [
          1997,
          1998,
          1999,
          2000,
          2001,
          2002,
          2003,
          2004,
          2005,
          2006,
          2007,
          2008,
          2009,
          2010,
          2011,
          2012,
          2013,
          2014,
          2015,
          2016,
          2017,
          2018,
          2019,
          2020,
          2021,
          2022
         ],
         "xaxis": "x",
         "y": [
          8720,
          8902,
          9172,
          10210,
          10482,
          10601,
          10601,
          10624,
          10645,
          10740,
          10698,
          10598,
          10436,
          10395,
          10591,
          10540,
          10535,
          10534,
          10493,
          10555,
          10266,
          10717,
          10811,
          10834,
          10915,
          11005
         ],
         "yaxis": "y"
        },
        {
         "alignmentgroup": "True",
         "legendgroup": "Industrial",
         "marker": {
          "color": "#f48668",
          "pattern": {
           "shape": ""
          }
         },
         "name": "Industrial",
         "offsetgroup": "Industrial",
         "orientation": "v",
         "showlegend": true,
         "textposition": "auto",
         "type": "bar",
         "x": [
          1997,
          1998,
          1999,
          2000,
          2001,
          2002,
          2003,
          2004,
          2005,
          2006,
          2007,
          2008,
          2009,
          2010,
          2011,
          2012,
          2013,
          2014,
          2015,
          2016,
          2017,
          2018,
          2019,
          2020,
          2021,
          2022
         ],
         "xaxis": "x",
         "y": [
          1561,
          1608,
          2120,
          910,
          425,
          679,
          679,
          364,
          374,
          372,
          366,
          355,
          378,
          338,
          381,
          389,
          385,
          374,
          380,
          379,
          367,
          357,
          375,
          379,
          376,
          355
         ],
         "yaxis": "y"
        },
        {
         "alignmentgroup": "True",
         "legendgroup": "Electric",
         "marker": {
          "color": "#f2bb05",
          "pattern": {
           "shape": ""
          }
         },
         "name": "Electric",
         "offsetgroup": "Electric",
         "orientation": "v",
         "showlegend": true,
         "textposition": "auto",
         "type": "bar",
         "x": [
          1997,
          1998,
          1999,
          2000,
          2001,
          2002,
          2003,
          2004,
          2005,
          2006,
          2007,
          2008,
          2009,
          2010,
          2011,
          2012,
          2013,
          2014,
          2015,
          2016,
          2017,
          2018,
          2019,
          2020,
          2021,
          2022
         ],
         "xaxis": "x",
         "y": [
          0,
          0,
          0,
          1,
          1,
          1,
          1,
          1,
          1,
          1,
          1,
          1,
          1,
          1,
          1,
          1,
          1,
          1,
          1,
          1,
          1,
          1,
          1,
          1,
          1,
          0
         ],
         "yaxis": "y"
        },
        {
         "alignmentgroup": "True",
         "legendgroup": "Vehicle Fuel",
         "marker": {
          "color": "#E2A0FF",
          "pattern": {
           "shape": ""
          }
         },
         "name": "Vehicle Fuel",
         "offsetgroup": "Vehicle Fuel",
         "orientation": "v",
         "showlegend": true,
         "textposition": "auto",
         "type": "bar",
         "x": [
          1997,
          1998,
          1999,
          2000,
          2001,
          2002,
          2003,
          2004,
          2005,
          2006,
          2007,
          2008,
          2009,
          2010,
          2011,
          2012,
          2013,
          2014,
          2015,
          2016,
          2017,
          2018,
          2019,
          2020,
          2021,
          2022
         ],
         "xaxis": "x",
         "y": [
          6,
          10,
          11,
          11,
          11,
          8,
          8,
          0,
          0,
          0,
          0,
          0,
          0,
          0,
          1,
          1,
          1,
          1,
          1,
          5,
          4,
          4,
          4,
          4,
          4,
          4
         ],
         "yaxis": "y"
        }
       ],
       "layout": {
        "barmode": "relative",
        "hovermode": "x unified",
        "legend": {
         "title": {
          "text": "Type"
         },
         "tracegroupgap": 0
        },
        "template": {
         "data": {
          "bar": [
           {
            "error_x": {
             "color": "rgb(51,51,51)"
            },
            "error_y": {
             "color": "rgb(51,51,51)"
            },
            "marker": {
             "line": {
              "color": "rgb(237,237,237)",
              "width": 0.5
             },
             "pattern": {
              "fillmode": "overlay",
              "size": 10,
              "solidity": 0.2
             }
            },
            "type": "bar"
           }
          ],
          "barpolar": [
           {
            "marker": {
             "line": {
              "color": "rgb(237,237,237)",
              "width": 0.5
             },
             "pattern": {
              "fillmode": "overlay",
              "size": 10,
              "solidity": 0.2
             }
            },
            "type": "barpolar"
           }
          ],
          "carpet": [
           {
            "aaxis": {
             "endlinecolor": "rgb(51,51,51)",
             "gridcolor": "white",
             "linecolor": "white",
             "minorgridcolor": "white",
             "startlinecolor": "rgb(51,51,51)"
            },
            "baxis": {
             "endlinecolor": "rgb(51,51,51)",
             "gridcolor": "white",
             "linecolor": "white",
             "minorgridcolor": "white",
             "startlinecolor": "rgb(51,51,51)"
            },
            "type": "carpet"
           }
          ],
          "choropleth": [
           {
            "colorbar": {
             "outlinewidth": 0,
             "tickcolor": "rgb(237,237,237)",
             "ticklen": 6,
             "ticks": "inside"
            },
            "type": "choropleth"
           }
          ],
          "contour": [
           {
            "colorbar": {
             "outlinewidth": 0,
             "tickcolor": "rgb(237,237,237)",
             "ticklen": 6,
             "ticks": "inside"
            },
            "colorscale": [
             [
              0,
              "rgb(20,44,66)"
             ],
             [
              1,
              "rgb(90,179,244)"
             ]
            ],
            "type": "contour"
           }
          ],
          "contourcarpet": [
           {
            "colorbar": {
             "outlinewidth": 0,
             "tickcolor": "rgb(237,237,237)",
             "ticklen": 6,
             "ticks": "inside"
            },
            "type": "contourcarpet"
           }
          ],
          "heatmap": [
           {
            "colorbar": {
             "outlinewidth": 0,
             "tickcolor": "rgb(237,237,237)",
             "ticklen": 6,
             "ticks": "inside"
            },
            "colorscale": [
             [
              0,
              "rgb(20,44,66)"
             ],
             [
              1,
              "rgb(90,179,244)"
             ]
            ],
            "type": "heatmap"
           }
          ],
          "heatmapgl": [
           {
            "colorbar": {
             "outlinewidth": 0,
             "tickcolor": "rgb(237,237,237)",
             "ticklen": 6,
             "ticks": "inside"
            },
            "colorscale": [
             [
              0,
              "rgb(20,44,66)"
             ],
             [
              1,
              "rgb(90,179,244)"
             ]
            ],
            "type": "heatmapgl"
           }
          ],
          "histogram": [
           {
            "marker": {
             "pattern": {
              "fillmode": "overlay",
              "size": 10,
              "solidity": 0.2
             }
            },
            "type": "histogram"
           }
          ],
          "histogram2d": [
           {
            "colorbar": {
             "outlinewidth": 0,
             "tickcolor": "rgb(237,237,237)",
             "ticklen": 6,
             "ticks": "inside"
            },
            "colorscale": [
             [
              0,
              "rgb(20,44,66)"
             ],
             [
              1,
              "rgb(90,179,244)"
             ]
            ],
            "type": "histogram2d"
           }
          ],
          "histogram2dcontour": [
           {
            "colorbar": {
             "outlinewidth": 0,
             "tickcolor": "rgb(237,237,237)",
             "ticklen": 6,
             "ticks": "inside"
            },
            "colorscale": [
             [
              0,
              "rgb(20,44,66)"
             ],
             [
              1,
              "rgb(90,179,244)"
             ]
            ],
            "type": "histogram2dcontour"
           }
          ],
          "mesh3d": [
           {
            "colorbar": {
             "outlinewidth": 0,
             "tickcolor": "rgb(237,237,237)",
             "ticklen": 6,
             "ticks": "inside"
            },
            "type": "mesh3d"
           }
          ],
          "parcoords": [
           {
            "line": {
             "colorbar": {
              "outlinewidth": 0,
              "tickcolor": "rgb(237,237,237)",
              "ticklen": 6,
              "ticks": "inside"
             }
            },
            "type": "parcoords"
           }
          ],
          "pie": [
           {
            "automargin": true,
            "type": "pie"
           }
          ],
          "scatter": [
           {
            "fillpattern": {
             "fillmode": "overlay",
             "size": 10,
             "solidity": 0.2
            },
            "type": "scatter"
           }
          ],
          "scatter3d": [
           {
            "line": {
             "colorbar": {
              "outlinewidth": 0,
              "tickcolor": "rgb(237,237,237)",
              "ticklen": 6,
              "ticks": "inside"
             }
            },
            "marker": {
             "colorbar": {
              "outlinewidth": 0,
              "tickcolor": "rgb(237,237,237)",
              "ticklen": 6,
              "ticks": "inside"
             }
            },
            "type": "scatter3d"
           }
          ],
          "scattercarpet": [
           {
            "marker": {
             "colorbar": {
              "outlinewidth": 0,
              "tickcolor": "rgb(237,237,237)",
              "ticklen": 6,
              "ticks": "inside"
             }
            },
            "type": "scattercarpet"
           }
          ],
          "scattergeo": [
           {
            "marker": {
             "colorbar": {
              "outlinewidth": 0,
              "tickcolor": "rgb(237,237,237)",
              "ticklen": 6,
              "ticks": "inside"
             }
            },
            "type": "scattergeo"
           }
          ],
          "scattergl": [
           {
            "marker": {
             "colorbar": {
              "outlinewidth": 0,
              "tickcolor": "rgb(237,237,237)",
              "ticklen": 6,
              "ticks": "inside"
             }
            },
            "type": "scattergl"
           }
          ],
          "scattermapbox": [
           {
            "marker": {
             "colorbar": {
              "outlinewidth": 0,
              "tickcolor": "rgb(237,237,237)",
              "ticklen": 6,
              "ticks": "inside"
             }
            },
            "type": "scattermapbox"
           }
          ],
          "scatterpolar": [
           {
            "marker": {
             "colorbar": {
              "outlinewidth": 0,
              "tickcolor": "rgb(237,237,237)",
              "ticklen": 6,
              "ticks": "inside"
             }
            },
            "type": "scatterpolar"
           }
          ],
          "scatterpolargl": [
           {
            "marker": {
             "colorbar": {
              "outlinewidth": 0,
              "tickcolor": "rgb(237,237,237)",
              "ticklen": 6,
              "ticks": "inside"
             }
            },
            "type": "scatterpolargl"
           }
          ],
          "scatterternary": [
           {
            "marker": {
             "colorbar": {
              "outlinewidth": 0,
              "tickcolor": "rgb(237,237,237)",
              "ticklen": 6,
              "ticks": "inside"
             }
            },
            "type": "scatterternary"
           }
          ],
          "surface": [
           {
            "colorbar": {
             "outlinewidth": 0,
             "tickcolor": "rgb(237,237,237)",
             "ticklen": 6,
             "ticks": "inside"
            },
            "colorscale": [
             [
              0,
              "rgb(20,44,66)"
             ],
             [
              1,
              "rgb(90,179,244)"
             ]
            ],
            "type": "surface"
           }
          ],
          "table": [
           {
            "cells": {
             "fill": {
              "color": "rgb(237,237,237)"
             },
             "line": {
              "color": "white"
             }
            },
            "header": {
             "fill": {
              "color": "rgb(217,217,217)"
             },
             "line": {
              "color": "white"
             }
            },
            "type": "table"
           }
          ]
         },
         "layout": {
          "annotationdefaults": {
           "arrowhead": 0,
           "arrowwidth": 1
          },
          "annotations": [
           {
            "font": {
             "color": "black",
             "size": 12
            },
            "name": "created by",
            "opacity": 0.9,
            "showarrow": false,
            "text": "Created by Electrify RVA",
            "x": -0.05,
            "xref": "paper",
            "y": -0.25,
            "yref": "paper"
           }
          ],
          "autotypenumbers": "strict",
          "coloraxis": {
           "colorbar": {
            "outlinewidth": 0,
            "tickcolor": "rgb(237,237,237)",
            "ticklen": 6,
            "ticks": "inside"
           }
          },
          "colorscale": {
           "sequential": [
            [
             0,
             "rgb(20,44,66)"
            ],
            [
             1,
             "rgb(90,179,244)"
            ]
           ],
           "sequentialminus": [
            [
             0,
             "rgb(20,44,66)"
            ],
            [
             1,
             "rgb(90,179,244)"
            ]
           ]
          },
          "colorway": [
           "#007C77",
           "#1a1b41",
           "#f48668",
           "#f2bb05",
           "#E2A0FF",
           "#8acb88"
          ],
          "font": {
           "color": "rgb(51,51,51)"
          },
          "geo": {
           "bgcolor": "white",
           "lakecolor": "white",
           "landcolor": "rgb(237,237,237)",
           "showlakes": true,
           "showland": true,
           "subunitcolor": "white"
          },
          "hoverlabel": {
           "align": "left"
          },
          "hovermode": "x unified",
          "paper_bgcolor": "white",
          "plot_bgcolor": "rgb(237,237,237)",
          "polar": {
           "angularaxis": {
            "gridcolor": "white",
            "linecolor": "white",
            "showgrid": true,
            "tickcolor": "rgb(51,51,51)",
            "ticks": "outside"
           },
           "bgcolor": "rgb(237,237,237)",
           "radialaxis": {
            "gridcolor": "white",
            "linecolor": "white",
            "showgrid": true,
            "tickcolor": "rgb(51,51,51)",
            "ticks": "outside"
           }
          },
          "scene": {
           "xaxis": {
            "backgroundcolor": "rgb(237,237,237)",
            "gridcolor": "white",
            "gridwidth": 2,
            "linecolor": "white",
            "showbackground": true,
            "showgrid": true,
            "tickcolor": "rgb(51,51,51)",
            "ticks": "outside",
            "zerolinecolor": "white"
           },
           "yaxis": {
            "backgroundcolor": "rgb(237,237,237)",
            "gridcolor": "white",
            "gridwidth": 2,
            "linecolor": "white",
            "showbackground": true,
            "showgrid": true,
            "tickcolor": "rgb(51,51,51)",
            "ticks": "outside",
            "zerolinecolor": "white"
           },
           "zaxis": {
            "backgroundcolor": "rgb(237,237,237)",
            "gridcolor": "white",
            "gridwidth": 2,
            "linecolor": "white",
            "showbackground": true,
            "showgrid": true,
            "tickcolor": "rgb(51,51,51)",
            "ticks": "outside",
            "zerolinecolor": "white"
           }
          },
          "shapedefaults": {
           "fillcolor": "black",
           "line": {
            "width": 0
           },
           "opacity": 0.3
          },
          "ternary": {
           "aaxis": {
            "gridcolor": "white",
            "linecolor": "white",
            "showgrid": true,
            "tickcolor": "rgb(51,51,51)",
            "ticks": "outside"
           },
           "baxis": {
            "gridcolor": "white",
            "linecolor": "white",
            "showgrid": true,
            "tickcolor": "rgb(51,51,51)",
            "ticks": "outside"
           },
           "bgcolor": "rgb(237,237,237)",
           "caxis": {
            "gridcolor": "white",
            "linecolor": "white",
            "showgrid": true,
            "tickcolor": "rgb(51,51,51)",
            "ticks": "outside"
           }
          },
          "title": {
           "x": 0.05
          },
          "xaxis": {
           "automargin": true,
           "gridcolor": "white",
           "linecolor": "white",
           "showgrid": true,
           "tickcolor": "rgb(51,51,51)",
           "ticks": "outside",
           "title": {
            "standoff": 15
           },
           "zerolinecolor": "white"
          },
          "yaxis": {
           "automargin": true,
           "gridcolor": "white",
           "linecolor": "white",
           "showgrid": true,
           "tickcolor": "rgb(51,51,51)",
           "tickformat": ",.0f",
           "ticks": "outside",
           "title": {
            "standoff": 15
           },
           "zerolinecolor": "white"
          }
         }
        },
        "title": {
         "text": "Customers"
        },
        "xaxis": {
         "anchor": "y",
         "domain": [
          0,
          1
         ],
         "title": {
          "text": ""
         }
        },
        "yaxis": {
         "anchor": "x",
         "domain": [
          0,
          1
         ],
         "tickformat": ",.0f",
         "title": {
          "text": "Customers"
         }
        }
       }
      }
     },
     "metadata": {},
     "output_type": "display_data"
    }
   ],
   "source": [
    "customer_variables = {\n",
    "    \"residential_total_customers\": \"Residential\", \n",
    "    \"commercial_total_customers\": \"Commercial\", \n",
    "    \"industrial_total_customers\": \"Industrial\", \n",
    "    \"electric_total_customers\": \"Electric\",\n",
    "    \"vehicle_fuel_total_customers\": \"Vehicle Fuel\",\n",
    "}\n",
    "\n",
    "melted = eia_phmsa[[\"year\", *[*customer_variables]]].melt(id_vars=\"year\", var_name=\"type_unformatted\", value_name=\"Customers\")\n",
    "melted[\"Type\"] = melted.apply(lambda r: customer_variables[r['type_unformatted']], axis=1)\n",
    "melted\n",
    "\n",
    "fig = px.bar(\n",
    "    melted, x=\"year\", y=\"Customers\", title=\"Customers\", color=\"Type\",\n",
    "    labels={ \"year\": \"\", }\n",
    ")\n",
    "\n",
    "fig.update_traces(hovertemplate=None)\n",
    "fig.update_layout(yaxis=dict(tickformat=\",.0f\"), hovermode='x unified')\n",
    "\n",
    "fig.show()\n",
    "fig.write_html(\"../docs/_includes/charts/customer_types.html\", include_plotlyjs=\"cdn\")"
   ]
  },
  {
   "cell_type": "code",
   "execution_count": 15,
   "metadata": {},
   "outputs": [
    {
     "data": {
      "application/vnd.plotly.v1+json": {
       "config": {
        "plotlyServerURL": "https://plot.ly"
       },
       "data": [
        {
         "alignmentgroup": "True",
         "legendgroup": "Residential",
         "marker": {
          "color": "#007C77",
          "pattern": {
           "shape": ""
          }
         },
         "name": "Residential",
         "offsetgroup": "Residential",
         "orientation": "v",
         "showlegend": true,
         "textposition": "auto",
         "type": "bar",
         "x": [
          1997,
          1998,
          1999,
          2000,
          2001,
          2002,
          2003,
          2004,
          2005,
          2006,
          2007,
          2008,
          2009,
          2010,
          2011,
          2012,
          2013,
          2014,
          2015,
          2016,
          2017,
          2018,
          2019,
          2020,
          2021,
          2022
         ],
         "xaxis": "x",
         "y": [
          9446820,
          5988272,
          6378840,
          7421796,
          6538829,
          6663028,
          7616351,
          7209134,
          7355609,
          5976557,
          6645491,
          6647281,
          7114133,
          7312202,
          6168899,
          5507282,
          6933544,
          7233607,
          6530122,
          6221405,
          6049061,
          6818744,
          6341458,
          5931629,
          6347678,
          6482440
         ],
         "yaxis": "y"
        },
        {
         "alignmentgroup": "True",
         "legendgroup": "Commercial",
         "marker": {
          "color": "#1a1b41",
          "pattern": {
           "shape": ""
          }
         },
         "name": "Commercial",
         "offsetgroup": "Commercial",
         "orientation": "v",
         "showlegend": true,
         "textposition": "auto",
         "type": "bar",
         "x": [
          1997,
          1998,
          1999,
          2000,
          2001,
          2002,
          2003,
          2004,
          2005,
          2006,
          2007,
          2008,
          2009,
          2010,
          2011,
          2012,
          2013,
          2014,
          2015,
          2016,
          2017,
          2018,
          2019,
          2020,
          2021,
          2022
         ],
         "xaxis": "x",
         "y": [
          6666657,
          5617216,
          5927728,
          6411366,
          5251930,
          4967563,
          5473322,
          5271484,
          5348499,
          4570920,
          4866437,
          4833943,
          4717215,
          4745104,
          4612597,
          4290115,
          5087931,
          5252927,
          4776349,
          4558499,
          4485419,
          4951237,
          4622159,
          4257627,
          4545055,
          4824790
         ],
         "yaxis": "y"
        },
        {
         "alignmentgroup": "True",
         "legendgroup": "Industrial",
         "marker": {
          "color": "#f48668",
          "pattern": {
           "shape": ""
          }
         },
         "name": "Industrial",
         "offsetgroup": "Industrial",
         "orientation": "v",
         "showlegend": true,
         "textposition": "auto",
         "type": "bar",
         "x": [
          1997,
          1998,
          1999,
          2000,
          2001,
          2002,
          2003,
          2004,
          2005,
          2006,
          2007,
          2008,
          2009,
          2010,
          2011,
          2012,
          2013,
          2014,
          2015,
          2016,
          2017,
          2018,
          2019,
          2020,
          2021,
          2022
         ],
         "xaxis": "x",
         "y": [
          2522912,
          4200536,
          4145922,
          4039715,
          4326866,
          4666257,
          4441974,
          4743222,
          5176142,
          4705601,
          4270407,
          4449161,
          3814986,
          3742360,
          3576695,
          3419125,
          3610124,
          4086427,
          4346656,
          4680987,
          4648766,
          4656564,
          6155010,
          9908432,
          9941269,
          9705949
         ],
         "yaxis": "y"
        },
        {
         "alignmentgroup": "True",
         "legendgroup": "Electric",
         "marker": {
          "color": "#f2bb05",
          "pattern": {
           "shape": ""
          }
         },
         "name": "Electric",
         "offsetgroup": "Electric",
         "orientation": "v",
         "showlegend": true,
         "textposition": "auto",
         "type": "bar",
         "x": [
          1997,
          1998,
          1999,
          2000,
          2001,
          2002,
          2003,
          2004,
          2005,
          2006,
          2007,
          2008,
          2009,
          2010,
          2011,
          2012,
          2013,
          2014,
          2015,
          2016,
          2017,
          2018,
          2019,
          2020,
          2021,
          2022
         ],
         "xaxis": "x",
         "y": [
          0,
          0,
          0,
          0,
          0,
          0,
          0,
          0,
          0,
          0,
          0,
          0,
          0,
          0,
          0,
          0,
          0,
          0,
          0,
          0,
          0,
          0,
          0,
          0,
          0,
          0
         ],
         "yaxis": "y"
        },
        {
         "alignmentgroup": "True",
         "legendgroup": "Vehicle Fuel",
         "marker": {
          "color": "#E2A0FF",
          "pattern": {
           "shape": ""
          }
         },
         "name": "Vehicle Fuel",
         "offsetgroup": "Vehicle Fuel",
         "orientation": "v",
         "showlegend": true,
         "textposition": "auto",
         "type": "bar",
         "x": [
          1997,
          1998,
          1999,
          2000,
          2001,
          2002,
          2003,
          2004,
          2005,
          2006,
          2007,
          2008,
          2009,
          2010,
          2011,
          2012,
          2013,
          2014,
          2015,
          2016,
          2017,
          2018,
          2019,
          2020,
          2021,
          2022
         ],
         "xaxis": "x",
         "y": [
          855,
          985,
          1145,
          1145,
          1000,
          1000,
          1000,
          0,
          0,
          0,
          0,
          0,
          0,
          0,
          15402,
          15397,
          14780,
          14654,
          14224,
          14721,
          0,
          0,
          0,
          0,
          0,
          0
         ],
         "yaxis": "y"
        }
       ],
       "layout": {
        "barmode": "relative",
        "hovermode": "x unified",
        "legend": {
         "title": {
          "text": "Type"
         },
         "tracegroupgap": 0
        },
        "template": {
         "data": {
          "bar": [
           {
            "error_x": {
             "color": "rgb(51,51,51)"
            },
            "error_y": {
             "color": "rgb(51,51,51)"
            },
            "marker": {
             "line": {
              "color": "rgb(237,237,237)",
              "width": 0.5
             },
             "pattern": {
              "fillmode": "overlay",
              "size": 10,
              "solidity": 0.2
             }
            },
            "type": "bar"
           }
          ],
          "barpolar": [
           {
            "marker": {
             "line": {
              "color": "rgb(237,237,237)",
              "width": 0.5
             },
             "pattern": {
              "fillmode": "overlay",
              "size": 10,
              "solidity": 0.2
             }
            },
            "type": "barpolar"
           }
          ],
          "carpet": [
           {
            "aaxis": {
             "endlinecolor": "rgb(51,51,51)",
             "gridcolor": "white",
             "linecolor": "white",
             "minorgridcolor": "white",
             "startlinecolor": "rgb(51,51,51)"
            },
            "baxis": {
             "endlinecolor": "rgb(51,51,51)",
             "gridcolor": "white",
             "linecolor": "white",
             "minorgridcolor": "white",
             "startlinecolor": "rgb(51,51,51)"
            },
            "type": "carpet"
           }
          ],
          "choropleth": [
           {
            "colorbar": {
             "outlinewidth": 0,
             "tickcolor": "rgb(237,237,237)",
             "ticklen": 6,
             "ticks": "inside"
            },
            "type": "choropleth"
           }
          ],
          "contour": [
           {
            "colorbar": {
             "outlinewidth": 0,
             "tickcolor": "rgb(237,237,237)",
             "ticklen": 6,
             "ticks": "inside"
            },
            "colorscale": [
             [
              0,
              "rgb(20,44,66)"
             ],
             [
              1,
              "rgb(90,179,244)"
             ]
            ],
            "type": "contour"
           }
          ],
          "contourcarpet": [
           {
            "colorbar": {
             "outlinewidth": 0,
             "tickcolor": "rgb(237,237,237)",
             "ticklen": 6,
             "ticks": "inside"
            },
            "type": "contourcarpet"
           }
          ],
          "heatmap": [
           {
            "colorbar": {
             "outlinewidth": 0,
             "tickcolor": "rgb(237,237,237)",
             "ticklen": 6,
             "ticks": "inside"
            },
            "colorscale": [
             [
              0,
              "rgb(20,44,66)"
             ],
             [
              1,
              "rgb(90,179,244)"
             ]
            ],
            "type": "heatmap"
           }
          ],
          "heatmapgl": [
           {
            "colorbar": {
             "outlinewidth": 0,
             "tickcolor": "rgb(237,237,237)",
             "ticklen": 6,
             "ticks": "inside"
            },
            "colorscale": [
             [
              0,
              "rgb(20,44,66)"
             ],
             [
              1,
              "rgb(90,179,244)"
             ]
            ],
            "type": "heatmapgl"
           }
          ],
          "histogram": [
           {
            "marker": {
             "pattern": {
              "fillmode": "overlay",
              "size": 10,
              "solidity": 0.2
             }
            },
            "type": "histogram"
           }
          ],
          "histogram2d": [
           {
            "colorbar": {
             "outlinewidth": 0,
             "tickcolor": "rgb(237,237,237)",
             "ticklen": 6,
             "ticks": "inside"
            },
            "colorscale": [
             [
              0,
              "rgb(20,44,66)"
             ],
             [
              1,
              "rgb(90,179,244)"
             ]
            ],
            "type": "histogram2d"
           }
          ],
          "histogram2dcontour": [
           {
            "colorbar": {
             "outlinewidth": 0,
             "tickcolor": "rgb(237,237,237)",
             "ticklen": 6,
             "ticks": "inside"
            },
            "colorscale": [
             [
              0,
              "rgb(20,44,66)"
             ],
             [
              1,
              "rgb(90,179,244)"
             ]
            ],
            "type": "histogram2dcontour"
           }
          ],
          "mesh3d": [
           {
            "colorbar": {
             "outlinewidth": 0,
             "tickcolor": "rgb(237,237,237)",
             "ticklen": 6,
             "ticks": "inside"
            },
            "type": "mesh3d"
           }
          ],
          "parcoords": [
           {
            "line": {
             "colorbar": {
              "outlinewidth": 0,
              "tickcolor": "rgb(237,237,237)",
              "ticklen": 6,
              "ticks": "inside"
             }
            },
            "type": "parcoords"
           }
          ],
          "pie": [
           {
            "automargin": true,
            "type": "pie"
           }
          ],
          "scatter": [
           {
            "fillpattern": {
             "fillmode": "overlay",
             "size": 10,
             "solidity": 0.2
            },
            "type": "scatter"
           }
          ],
          "scatter3d": [
           {
            "line": {
             "colorbar": {
              "outlinewidth": 0,
              "tickcolor": "rgb(237,237,237)",
              "ticklen": 6,
              "ticks": "inside"
             }
            },
            "marker": {
             "colorbar": {
              "outlinewidth": 0,
              "tickcolor": "rgb(237,237,237)",
              "ticklen": 6,
              "ticks": "inside"
             }
            },
            "type": "scatter3d"
           }
          ],
          "scattercarpet": [
           {
            "marker": {
             "colorbar": {
              "outlinewidth": 0,
              "tickcolor": "rgb(237,237,237)",
              "ticklen": 6,
              "ticks": "inside"
             }
            },
            "type": "scattercarpet"
           }
          ],
          "scattergeo": [
           {
            "marker": {
             "colorbar": {
              "outlinewidth": 0,
              "tickcolor": "rgb(237,237,237)",
              "ticklen": 6,
              "ticks": "inside"
             }
            },
            "type": "scattergeo"
           }
          ],
          "scattergl": [
           {
            "marker": {
             "colorbar": {
              "outlinewidth": 0,
              "tickcolor": "rgb(237,237,237)",
              "ticklen": 6,
              "ticks": "inside"
             }
            },
            "type": "scattergl"
           }
          ],
          "scattermapbox": [
           {
            "marker": {
             "colorbar": {
              "outlinewidth": 0,
              "tickcolor": "rgb(237,237,237)",
              "ticklen": 6,
              "ticks": "inside"
             }
            },
            "type": "scattermapbox"
           }
          ],
          "scatterpolar": [
           {
            "marker": {
             "colorbar": {
              "outlinewidth": 0,
              "tickcolor": "rgb(237,237,237)",
              "ticklen": 6,
              "ticks": "inside"
             }
            },
            "type": "scatterpolar"
           }
          ],
          "scatterpolargl": [
           {
            "marker": {
             "colorbar": {
              "outlinewidth": 0,
              "tickcolor": "rgb(237,237,237)",
              "ticklen": 6,
              "ticks": "inside"
             }
            },
            "type": "scatterpolargl"
           }
          ],
          "scatterternary": [
           {
            "marker": {
             "colorbar": {
              "outlinewidth": 0,
              "tickcolor": "rgb(237,237,237)",
              "ticklen": 6,
              "ticks": "inside"
             }
            },
            "type": "scatterternary"
           }
          ],
          "surface": [
           {
            "colorbar": {
             "outlinewidth": 0,
             "tickcolor": "rgb(237,237,237)",
             "ticklen": 6,
             "ticks": "inside"
            },
            "colorscale": [
             [
              0,
              "rgb(20,44,66)"
             ],
             [
              1,
              "rgb(90,179,244)"
             ]
            ],
            "type": "surface"
           }
          ],
          "table": [
           {
            "cells": {
             "fill": {
              "color": "rgb(237,237,237)"
             },
             "line": {
              "color": "white"
             }
            },
            "header": {
             "fill": {
              "color": "rgb(217,217,217)"
             },
             "line": {
              "color": "white"
             }
            },
            "type": "table"
           }
          ]
         },
         "layout": {
          "annotationdefaults": {
           "arrowhead": 0,
           "arrowwidth": 1
          },
          "annotations": [
           {
            "font": {
             "color": "black",
             "size": 12
            },
            "name": "created by",
            "opacity": 0.9,
            "showarrow": false,
            "text": "Created by Electrify RVA",
            "x": -0.05,
            "xref": "paper",
            "y": -0.25,
            "yref": "paper"
           }
          ],
          "autotypenumbers": "strict",
          "coloraxis": {
           "colorbar": {
            "outlinewidth": 0,
            "tickcolor": "rgb(237,237,237)",
            "ticklen": 6,
            "ticks": "inside"
           }
          },
          "colorscale": {
           "sequential": [
            [
             0,
             "rgb(20,44,66)"
            ],
            [
             1,
             "rgb(90,179,244)"
            ]
           ],
           "sequentialminus": [
            [
             0,
             "rgb(20,44,66)"
            ],
            [
             1,
             "rgb(90,179,244)"
            ]
           ]
          },
          "colorway": [
           "#007C77",
           "#1a1b41",
           "#f48668",
           "#f2bb05",
           "#E2A0FF",
           "#8acb88"
          ],
          "font": {
           "color": "rgb(51,51,51)"
          },
          "geo": {
           "bgcolor": "white",
           "lakecolor": "white",
           "landcolor": "rgb(237,237,237)",
           "showlakes": true,
           "showland": true,
           "subunitcolor": "white"
          },
          "hoverlabel": {
           "align": "left"
          },
          "hovermode": "x unified",
          "paper_bgcolor": "white",
          "plot_bgcolor": "rgb(237,237,237)",
          "polar": {
           "angularaxis": {
            "gridcolor": "white",
            "linecolor": "white",
            "showgrid": true,
            "tickcolor": "rgb(51,51,51)",
            "ticks": "outside"
           },
           "bgcolor": "rgb(237,237,237)",
           "radialaxis": {
            "gridcolor": "white",
            "linecolor": "white",
            "showgrid": true,
            "tickcolor": "rgb(51,51,51)",
            "ticks": "outside"
           }
          },
          "scene": {
           "xaxis": {
            "backgroundcolor": "rgb(237,237,237)",
            "gridcolor": "white",
            "gridwidth": 2,
            "linecolor": "white",
            "showbackground": true,
            "showgrid": true,
            "tickcolor": "rgb(51,51,51)",
            "ticks": "outside",
            "zerolinecolor": "white"
           },
           "yaxis": {
            "backgroundcolor": "rgb(237,237,237)",
            "gridcolor": "white",
            "gridwidth": 2,
            "linecolor": "white",
            "showbackground": true,
            "showgrid": true,
            "tickcolor": "rgb(51,51,51)",
            "ticks": "outside",
            "zerolinecolor": "white"
           },
           "zaxis": {
            "backgroundcolor": "rgb(237,237,237)",
            "gridcolor": "white",
            "gridwidth": 2,
            "linecolor": "white",
            "showbackground": true,
            "showgrid": true,
            "tickcolor": "rgb(51,51,51)",
            "ticks": "outside",
            "zerolinecolor": "white"
           }
          },
          "shapedefaults": {
           "fillcolor": "black",
           "line": {
            "width": 0
           },
           "opacity": 0.3
          },
          "ternary": {
           "aaxis": {
            "gridcolor": "white",
            "linecolor": "white",
            "showgrid": true,
            "tickcolor": "rgb(51,51,51)",
            "ticks": "outside"
           },
           "baxis": {
            "gridcolor": "white",
            "linecolor": "white",
            "showgrid": true,
            "tickcolor": "rgb(51,51,51)",
            "ticks": "outside"
           },
           "bgcolor": "rgb(237,237,237)",
           "caxis": {
            "gridcolor": "white",
            "linecolor": "white",
            "showgrid": true,
            "tickcolor": "rgb(51,51,51)",
            "ticks": "outside"
           }
          },
          "title": {
           "x": 0.05
          },
          "xaxis": {
           "automargin": true,
           "gridcolor": "white",
           "linecolor": "white",
           "showgrid": true,
           "tickcolor": "rgb(51,51,51)",
           "ticks": "outside",
           "title": {
            "standoff": 15
           },
           "zerolinecolor": "white"
          },
          "yaxis": {
           "automargin": true,
           "gridcolor": "white",
           "linecolor": "white",
           "showgrid": true,
           "tickcolor": "rgb(51,51,51)",
           "tickformat": ",.0f",
           "ticks": "outside",
           "title": {
            "standoff": 15
           },
           "zerolinecolor": "white"
          }
         }
        },
        "title": {
         "text": "Gas sales (in thousands of cubic feet)"
        },
        "xaxis": {
         "anchor": "y",
         "domain": [
          0,
          1
         ],
         "title": {
          "text": ""
         }
        },
        "yaxis": {
         "anchor": "x",
         "domain": [
          0,
          1
         ],
         "title": {
          "text": "Sales (Mcf)"
         }
        }
       }
      }
     },
     "metadata": {},
     "output_type": "display_data"
    }
   ],
   "source": [
    "sales_variables = {\n",
    "    \"residential_sales_volume_mcf\": \"Residential\", \n",
    "    \"commercial_sales_volume_mcf\": \"Commercial\", \n",
    "    \"industrial_sales_volume_mcf\": \"Industrial\", \n",
    "    \"electric_sales_volume_mcf\": \"Electric\",\n",
    "    \"vehicle_fuel_sales_volume_mcf\": \"Vehicle Fuel\",\n",
    "}\n",
    "\n",
    "melted = eia_phmsa[[\"year\", *[*sales_variables]]].melt(id_vars=\"year\", var_name=\"type_unformatted\", value_name=\"Sales (Mcf)\")\n",
    "melted[\"Type\"] = melted.apply(lambda r: sales_variables[r['type_unformatted']], axis=1)\n",
    "melted\n",
    "\n",
    "fig = px.bar(\n",
    "    melted, x=\"year\", y=\"Sales (Mcf)\", title=\"Gas sales (in thousands of cubic feet)\", color=\"Type\",\n",
    "    labels={ \"year\": \"\", }\n",
    ")\n",
    "\n",
    "fig.update_traces(hovertemplate=None)\n",
    "fig.update_layout(hovermode='x unified')\n",
    "\n",
    "fig.show()\n",
    "fig.write_html(\"../docs/_includes/charts/sales_types.html\", include_plotlyjs=\"cdn\")\n"
   ]
  },
  {
   "cell_type": "code",
   "execution_count": null,
   "metadata": {},
   "outputs": [],
   "source": []
  },
  {
   "cell_type": "code",
   "execution_count": 16,
   "metadata": {},
   "outputs": [
    {
     "data": {
      "application/vnd.plotly.v1+json": {
       "config": {
        "plotlyServerURL": "https://plot.ly"
       },
       "data": [
        {
         "hovertemplate": "=%{x}<br>Customers=%{y}<extra></extra>",
         "legendgroup": "",
         "line": {
          "color": "#007C77",
          "dash": "solid"
         },
         "marker": {
          "symbol": "circle"
         },
         "mode": "lines",
         "name": "",
         "orientation": "v",
         "showlegend": false,
         "type": "scatter",
         "x": [
          1997,
          1998,
          1999,
          2000,
          2001,
          2002,
          2003,
          2004,
          2005,
          2006,
          2007,
          2008,
          2009,
          2010,
          2011,
          2012,
          2013,
          2014,
          2015,
          2016,
          2017,
          2018,
          2019,
          2020,
          2021,
          2022
         ],
         "xaxis": "x",
         "y": [
          78195,
          79059,
          81523,
          81531,
          84150,
          87322,
          87322,
          90274,
          91543,
          93584,
          95526,
          97090,
          98719,
          97563,
          98671,
          99460,
          100472,
          101144,
          101335,
          102041,
          99531,
          105280,
          106604,
          108301,
          109765,
          110884
         ],
         "yaxis": "y"
        },
        {
         "hoverinfo": "skip",
         "marker": {
          "color": "#df2935",
          "size": 7.5
         },
         "mode": "markers",
         "showlegend": false,
         "type": "scatter",
         "x": [
          2022
         ],
         "y": [
          110884
         ]
        }
       ],
       "layout": {
        "annotations": [
         {
          "align": "right",
          "arrowhead": 2,
          "showarrow": true,
          "text": "36% increase<br>since 2000",
          "x": 2022,
          "y": 111500
         }
        ],
        "legend": {
         "tracegroupgap": 0
        },
        "template": {
         "data": {
          "bar": [
           {
            "error_x": {
             "color": "rgb(51,51,51)"
            },
            "error_y": {
             "color": "rgb(51,51,51)"
            },
            "marker": {
             "line": {
              "color": "rgb(237,237,237)",
              "width": 0.5
             },
             "pattern": {
              "fillmode": "overlay",
              "size": 10,
              "solidity": 0.2
             }
            },
            "type": "bar"
           }
          ],
          "barpolar": [
           {
            "marker": {
             "line": {
              "color": "rgb(237,237,237)",
              "width": 0.5
             },
             "pattern": {
              "fillmode": "overlay",
              "size": 10,
              "solidity": 0.2
             }
            },
            "type": "barpolar"
           }
          ],
          "carpet": [
           {
            "aaxis": {
             "endlinecolor": "rgb(51,51,51)",
             "gridcolor": "white",
             "linecolor": "white",
             "minorgridcolor": "white",
             "startlinecolor": "rgb(51,51,51)"
            },
            "baxis": {
             "endlinecolor": "rgb(51,51,51)",
             "gridcolor": "white",
             "linecolor": "white",
             "minorgridcolor": "white",
             "startlinecolor": "rgb(51,51,51)"
            },
            "type": "carpet"
           }
          ],
          "choropleth": [
           {
            "colorbar": {
             "outlinewidth": 0,
             "tickcolor": "rgb(237,237,237)",
             "ticklen": 6,
             "ticks": "inside"
            },
            "type": "choropleth"
           }
          ],
          "contour": [
           {
            "colorbar": {
             "outlinewidth": 0,
             "tickcolor": "rgb(237,237,237)",
             "ticklen": 6,
             "ticks": "inside"
            },
            "colorscale": [
             [
              0,
              "rgb(20,44,66)"
             ],
             [
              1,
              "rgb(90,179,244)"
             ]
            ],
            "type": "contour"
           }
          ],
          "contourcarpet": [
           {
            "colorbar": {
             "outlinewidth": 0,
             "tickcolor": "rgb(237,237,237)",
             "ticklen": 6,
             "ticks": "inside"
            },
            "type": "contourcarpet"
           }
          ],
          "heatmap": [
           {
            "colorbar": {
             "outlinewidth": 0,
             "tickcolor": "rgb(237,237,237)",
             "ticklen": 6,
             "ticks": "inside"
            },
            "colorscale": [
             [
              0,
              "rgb(20,44,66)"
             ],
             [
              1,
              "rgb(90,179,244)"
             ]
            ],
            "type": "heatmap"
           }
          ],
          "heatmapgl": [
           {
            "colorbar": {
             "outlinewidth": 0,
             "tickcolor": "rgb(237,237,237)",
             "ticklen": 6,
             "ticks": "inside"
            },
            "colorscale": [
             [
              0,
              "rgb(20,44,66)"
             ],
             [
              1,
              "rgb(90,179,244)"
             ]
            ],
            "type": "heatmapgl"
           }
          ],
          "histogram": [
           {
            "marker": {
             "pattern": {
              "fillmode": "overlay",
              "size": 10,
              "solidity": 0.2
             }
            },
            "type": "histogram"
           }
          ],
          "histogram2d": [
           {
            "colorbar": {
             "outlinewidth": 0,
             "tickcolor": "rgb(237,237,237)",
             "ticklen": 6,
             "ticks": "inside"
            },
            "colorscale": [
             [
              0,
              "rgb(20,44,66)"
             ],
             [
              1,
              "rgb(90,179,244)"
             ]
            ],
            "type": "histogram2d"
           }
          ],
          "histogram2dcontour": [
           {
            "colorbar": {
             "outlinewidth": 0,
             "tickcolor": "rgb(237,237,237)",
             "ticklen": 6,
             "ticks": "inside"
            },
            "colorscale": [
             [
              0,
              "rgb(20,44,66)"
             ],
             [
              1,
              "rgb(90,179,244)"
             ]
            ],
            "type": "histogram2dcontour"
           }
          ],
          "mesh3d": [
           {
            "colorbar": {
             "outlinewidth": 0,
             "tickcolor": "rgb(237,237,237)",
             "ticklen": 6,
             "ticks": "inside"
            },
            "type": "mesh3d"
           }
          ],
          "parcoords": [
           {
            "line": {
             "colorbar": {
              "outlinewidth": 0,
              "tickcolor": "rgb(237,237,237)",
              "ticklen": 6,
              "ticks": "inside"
             }
            },
            "type": "parcoords"
           }
          ],
          "pie": [
           {
            "automargin": true,
            "type": "pie"
           }
          ],
          "scatter": [
           {
            "fillpattern": {
             "fillmode": "overlay",
             "size": 10,
             "solidity": 0.2
            },
            "type": "scatter"
           }
          ],
          "scatter3d": [
           {
            "line": {
             "colorbar": {
              "outlinewidth": 0,
              "tickcolor": "rgb(237,237,237)",
              "ticklen": 6,
              "ticks": "inside"
             }
            },
            "marker": {
             "colorbar": {
              "outlinewidth": 0,
              "tickcolor": "rgb(237,237,237)",
              "ticklen": 6,
              "ticks": "inside"
             }
            },
            "type": "scatter3d"
           }
          ],
          "scattercarpet": [
           {
            "marker": {
             "colorbar": {
              "outlinewidth": 0,
              "tickcolor": "rgb(237,237,237)",
              "ticklen": 6,
              "ticks": "inside"
             }
            },
            "type": "scattercarpet"
           }
          ],
          "scattergeo": [
           {
            "marker": {
             "colorbar": {
              "outlinewidth": 0,
              "tickcolor": "rgb(237,237,237)",
              "ticklen": 6,
              "ticks": "inside"
             }
            },
            "type": "scattergeo"
           }
          ],
          "scattergl": [
           {
            "marker": {
             "colorbar": {
              "outlinewidth": 0,
              "tickcolor": "rgb(237,237,237)",
              "ticklen": 6,
              "ticks": "inside"
             }
            },
            "type": "scattergl"
           }
          ],
          "scattermapbox": [
           {
            "marker": {
             "colorbar": {
              "outlinewidth": 0,
              "tickcolor": "rgb(237,237,237)",
              "ticklen": 6,
              "ticks": "inside"
             }
            },
            "type": "scattermapbox"
           }
          ],
          "scatterpolar": [
           {
            "marker": {
             "colorbar": {
              "outlinewidth": 0,
              "tickcolor": "rgb(237,237,237)",
              "ticklen": 6,
              "ticks": "inside"
             }
            },
            "type": "scatterpolar"
           }
          ],
          "scatterpolargl": [
           {
            "marker": {
             "colorbar": {
              "outlinewidth": 0,
              "tickcolor": "rgb(237,237,237)",
              "ticklen": 6,
              "ticks": "inside"
             }
            },
            "type": "scatterpolargl"
           }
          ],
          "scatterternary": [
           {
            "marker": {
             "colorbar": {
              "outlinewidth": 0,
              "tickcolor": "rgb(237,237,237)",
              "ticklen": 6,
              "ticks": "inside"
             }
            },
            "type": "scatterternary"
           }
          ],
          "surface": [
           {
            "colorbar": {
             "outlinewidth": 0,
             "tickcolor": "rgb(237,237,237)",
             "ticklen": 6,
             "ticks": "inside"
            },
            "colorscale": [
             [
              0,
              "rgb(20,44,66)"
             ],
             [
              1,
              "rgb(90,179,244)"
             ]
            ],
            "type": "surface"
           }
          ],
          "table": [
           {
            "cells": {
             "fill": {
              "color": "rgb(237,237,237)"
             },
             "line": {
              "color": "white"
             }
            },
            "header": {
             "fill": {
              "color": "rgb(217,217,217)"
             },
             "line": {
              "color": "white"
             }
            },
            "type": "table"
           }
          ]
         },
         "layout": {
          "annotationdefaults": {
           "arrowhead": 0,
           "arrowwidth": 1
          },
          "annotations": [
           {
            "font": {
             "color": "black",
             "size": 12
            },
            "name": "created by",
            "opacity": 0.9,
            "showarrow": false,
            "text": "Created by Electrify RVA",
            "x": -0.05,
            "xref": "paper",
            "y": -0.25,
            "yref": "paper"
           }
          ],
          "autotypenumbers": "strict",
          "coloraxis": {
           "colorbar": {
            "outlinewidth": 0,
            "tickcolor": "rgb(237,237,237)",
            "ticklen": 6,
            "ticks": "inside"
           }
          },
          "colorscale": {
           "sequential": [
            [
             0,
             "rgb(20,44,66)"
            ],
            [
             1,
             "rgb(90,179,244)"
            ]
           ],
           "sequentialminus": [
            [
             0,
             "rgb(20,44,66)"
            ],
            [
             1,
             "rgb(90,179,244)"
            ]
           ]
          },
          "colorway": [
           "#007C77",
           "#1a1b41",
           "#f48668",
           "#f2bb05",
           "#E2A0FF",
           "#8acb88"
          ],
          "font": {
           "color": "rgb(51,51,51)"
          },
          "geo": {
           "bgcolor": "white",
           "lakecolor": "white",
           "landcolor": "rgb(237,237,237)",
           "showlakes": true,
           "showland": true,
           "subunitcolor": "white"
          },
          "hoverlabel": {
           "align": "left"
          },
          "hovermode": "x unified",
          "paper_bgcolor": "white",
          "plot_bgcolor": "rgb(237,237,237)",
          "polar": {
           "angularaxis": {
            "gridcolor": "white",
            "linecolor": "white",
            "showgrid": true,
            "tickcolor": "rgb(51,51,51)",
            "ticks": "outside"
           },
           "bgcolor": "rgb(237,237,237)",
           "radialaxis": {
            "gridcolor": "white",
            "linecolor": "white",
            "showgrid": true,
            "tickcolor": "rgb(51,51,51)",
            "ticks": "outside"
           }
          },
          "scene": {
           "xaxis": {
            "backgroundcolor": "rgb(237,237,237)",
            "gridcolor": "white",
            "gridwidth": 2,
            "linecolor": "white",
            "showbackground": true,
            "showgrid": true,
            "tickcolor": "rgb(51,51,51)",
            "ticks": "outside",
            "zerolinecolor": "white"
           },
           "yaxis": {
            "backgroundcolor": "rgb(237,237,237)",
            "gridcolor": "white",
            "gridwidth": 2,
            "linecolor": "white",
            "showbackground": true,
            "showgrid": true,
            "tickcolor": "rgb(51,51,51)",
            "ticks": "outside",
            "zerolinecolor": "white"
           },
           "zaxis": {
            "backgroundcolor": "rgb(237,237,237)",
            "gridcolor": "white",
            "gridwidth": 2,
            "linecolor": "white",
            "showbackground": true,
            "showgrid": true,
            "tickcolor": "rgb(51,51,51)",
            "ticks": "outside",
            "zerolinecolor": "white"
           }
          },
          "shapedefaults": {
           "fillcolor": "black",
           "line": {
            "width": 0
           },
           "opacity": 0.3
          },
          "ternary": {
           "aaxis": {
            "gridcolor": "white",
            "linecolor": "white",
            "showgrid": true,
            "tickcolor": "rgb(51,51,51)",
            "ticks": "outside"
           },
           "baxis": {
            "gridcolor": "white",
            "linecolor": "white",
            "showgrid": true,
            "tickcolor": "rgb(51,51,51)",
            "ticks": "outside"
           },
           "bgcolor": "rgb(237,237,237)",
           "caxis": {
            "gridcolor": "white",
            "linecolor": "white",
            "showgrid": true,
            "tickcolor": "rgb(51,51,51)",
            "ticks": "outside"
           }
          },
          "title": {
           "x": 0.05
          },
          "xaxis": {
           "automargin": true,
           "gridcolor": "white",
           "linecolor": "white",
           "showgrid": true,
           "tickcolor": "rgb(51,51,51)",
           "ticks": "outside",
           "title": {
            "standoff": 15
           },
           "zerolinecolor": "white"
          },
          "yaxis": {
           "automargin": true,
           "gridcolor": "white",
           "linecolor": "white",
           "showgrid": true,
           "tickcolor": "rgb(51,51,51)",
           "tickformat": ",.0f",
           "ticks": "outside",
           "title": {
            "standoff": 15
           },
           "zerolinecolor": "white"
          }
         }
        },
        "title": {
         "text": "Residential Customers"
        },
        "xaxis": {
         "anchor": "y",
         "domain": [
          0,
          1
         ],
         "title": {
          "text": ""
         }
        },
        "yaxis": {
         "anchor": "x",
         "domain": [
          0,
          1
         ],
         "title": {
          "text": "Customers"
         }
        }
       }
      }
     },
     "metadata": {},
     "output_type": "display_data"
    }
   ],
   "source": [
    "fig = px.line(\n",
    "    eia_phmsa, \n",
    "    x=\"year\", y=\"residential_sales_customers\", \n",
    "    title='Residential Customers',\n",
    "    labels={ \"year\": \"\", \"residential_sales_customers\": \"Customers\", }\n",
    ")\n",
    "fig.add_trace(go.Scatter(\n",
    "    x=[eia_phmsa['year'].iloc[-1]],\n",
    "    y=[eia_phmsa['residential_sales_customers'].iloc[-1]],\n",
    "    mode='markers',\n",
    "    marker=dict(color=HIGHLIGHT_COLOR, size=7.5),\n",
    "    showlegend=False,\n",
    "    hoverinfo='skip',\n",
    "))\n",
    "fig.add_annotation(\n",
    "    text=\"36% increase<br>since 2000\", x=2022, y=111500,\n",
    "    showarrow=True, arrowhead=2,\n",
    "    align=\"right\",\n",
    ")\n",
    "\n",
    "fig.show()\n",
    "fig.write_html(\"../docs/_includes/charts/residential_customers.html\", include_plotlyjs=\"cdn\")"
   ]
  },
  {
   "cell_type": "code",
   "execution_count": 17,
   "metadata": {},
   "outputs": [],
   "source": [
    "# residential_cost_per_mcf_real\n",
    "# residential_net_revenue_real_per_customer\n",
    "# residential_net_revenue_real_proportion"
   ]
  },
  {
   "cell_type": "code",
   "execution_count": 18,
   "metadata": {},
   "outputs": [
    {
     "data": {
      "application/vnd.plotly.v1+json": {
       "config": {
        "plotlyServerURL": "https://plot.ly"
       },
       "data": [
        {
         "legendgroup": "",
         "line": {
          "color": "#007C77",
          "dash": "solid"
         },
         "marker": {
          "symbol": "circle"
         },
         "mode": "lines",
         "name": "",
         "orientation": "v",
         "showlegend": false,
         "type": "scatter",
         "x": [
          1997,
          1998,
          1999,
          2000,
          2001,
          2002,
          2003,
          2004,
          2005,
          2006,
          2007,
          2008,
          2009,
          2010,
          2011,
          2012,
          2013,
          2014,
          2015,
          2016,
          2017,
          2018,
          2019,
          2020,
          2021,
          2022
         ],
         "xaxis": "x",
         "y": [
          4.151547345009517,
          5.523732956542722,
          5.878683493110786,
          6.51429314798313,
          7.502754015688176,
          7.734223080394604,
          8.334581944117952,
          10.592670948437272,
          12.341609689644107,
          13.187130029697698,
          13.707576943984844,
          14.774227046292854,
          12.751456509938402,
          11.486414976956013,
          11.749823174469835,
          11.392728968501412,
          10.90440701809222,
          11.763974139522826,
          11.560867978923596,
          10.954453968803604,
          12.32005015522525,
          13.17934725623285,
          13.100258962528809,
          13.390085843444892,
          14.352352325785256,
          18.28598402344256
         ],
         "yaxis": "y"
        }
       ],
       "layout": {
        "legend": {
         "tracegroupgap": 0
        },
        "template": {
         "data": {
          "bar": [
           {
            "error_x": {
             "color": "rgb(51,51,51)"
            },
            "error_y": {
             "color": "rgb(51,51,51)"
            },
            "marker": {
             "line": {
              "color": "rgb(237,237,237)",
              "width": 0.5
             },
             "pattern": {
              "fillmode": "overlay",
              "size": 10,
              "solidity": 0.2
             }
            },
            "type": "bar"
           }
          ],
          "barpolar": [
           {
            "marker": {
             "line": {
              "color": "rgb(237,237,237)",
              "width": 0.5
             },
             "pattern": {
              "fillmode": "overlay",
              "size": 10,
              "solidity": 0.2
             }
            },
            "type": "barpolar"
           }
          ],
          "carpet": [
           {
            "aaxis": {
             "endlinecolor": "rgb(51,51,51)",
             "gridcolor": "white",
             "linecolor": "white",
             "minorgridcolor": "white",
             "startlinecolor": "rgb(51,51,51)"
            },
            "baxis": {
             "endlinecolor": "rgb(51,51,51)",
             "gridcolor": "white",
             "linecolor": "white",
             "minorgridcolor": "white",
             "startlinecolor": "rgb(51,51,51)"
            },
            "type": "carpet"
           }
          ],
          "choropleth": [
           {
            "colorbar": {
             "outlinewidth": 0,
             "tickcolor": "rgb(237,237,237)",
             "ticklen": 6,
             "ticks": "inside"
            },
            "type": "choropleth"
           }
          ],
          "contour": [
           {
            "colorbar": {
             "outlinewidth": 0,
             "tickcolor": "rgb(237,237,237)",
             "ticklen": 6,
             "ticks": "inside"
            },
            "colorscale": [
             [
              0,
              "rgb(20,44,66)"
             ],
             [
              1,
              "rgb(90,179,244)"
             ]
            ],
            "type": "contour"
           }
          ],
          "contourcarpet": [
           {
            "colorbar": {
             "outlinewidth": 0,
             "tickcolor": "rgb(237,237,237)",
             "ticklen": 6,
             "ticks": "inside"
            },
            "type": "contourcarpet"
           }
          ],
          "heatmap": [
           {
            "colorbar": {
             "outlinewidth": 0,
             "tickcolor": "rgb(237,237,237)",
             "ticklen": 6,
             "ticks": "inside"
            },
            "colorscale": [
             [
              0,
              "rgb(20,44,66)"
             ],
             [
              1,
              "rgb(90,179,244)"
             ]
            ],
            "type": "heatmap"
           }
          ],
          "heatmapgl": [
           {
            "colorbar": {
             "outlinewidth": 0,
             "tickcolor": "rgb(237,237,237)",
             "ticklen": 6,
             "ticks": "inside"
            },
            "colorscale": [
             [
              0,
              "rgb(20,44,66)"
             ],
             [
              1,
              "rgb(90,179,244)"
             ]
            ],
            "type": "heatmapgl"
           }
          ],
          "histogram": [
           {
            "marker": {
             "pattern": {
              "fillmode": "overlay",
              "size": 10,
              "solidity": 0.2
             }
            },
            "type": "histogram"
           }
          ],
          "histogram2d": [
           {
            "colorbar": {
             "outlinewidth": 0,
             "tickcolor": "rgb(237,237,237)",
             "ticklen": 6,
             "ticks": "inside"
            },
            "colorscale": [
             [
              0,
              "rgb(20,44,66)"
             ],
             [
              1,
              "rgb(90,179,244)"
             ]
            ],
            "type": "histogram2d"
           }
          ],
          "histogram2dcontour": [
           {
            "colorbar": {
             "outlinewidth": 0,
             "tickcolor": "rgb(237,237,237)",
             "ticklen": 6,
             "ticks": "inside"
            },
            "colorscale": [
             [
              0,
              "rgb(20,44,66)"
             ],
             [
              1,
              "rgb(90,179,244)"
             ]
            ],
            "type": "histogram2dcontour"
           }
          ],
          "mesh3d": [
           {
            "colorbar": {
             "outlinewidth": 0,
             "tickcolor": "rgb(237,237,237)",
             "ticklen": 6,
             "ticks": "inside"
            },
            "type": "mesh3d"
           }
          ],
          "parcoords": [
           {
            "line": {
             "colorbar": {
              "outlinewidth": 0,
              "tickcolor": "rgb(237,237,237)",
              "ticklen": 6,
              "ticks": "inside"
             }
            },
            "type": "parcoords"
           }
          ],
          "pie": [
           {
            "automargin": true,
            "type": "pie"
           }
          ],
          "scatter": [
           {
            "fillpattern": {
             "fillmode": "overlay",
             "size": 10,
             "solidity": 0.2
            },
            "type": "scatter"
           }
          ],
          "scatter3d": [
           {
            "line": {
             "colorbar": {
              "outlinewidth": 0,
              "tickcolor": "rgb(237,237,237)",
              "ticklen": 6,
              "ticks": "inside"
             }
            },
            "marker": {
             "colorbar": {
              "outlinewidth": 0,
              "tickcolor": "rgb(237,237,237)",
              "ticklen": 6,
              "ticks": "inside"
             }
            },
            "type": "scatter3d"
           }
          ],
          "scattercarpet": [
           {
            "marker": {
             "colorbar": {
              "outlinewidth": 0,
              "tickcolor": "rgb(237,237,237)",
              "ticklen": 6,
              "ticks": "inside"
             }
            },
            "type": "scattercarpet"
           }
          ],
          "scattergeo": [
           {
            "marker": {
             "colorbar": {
              "outlinewidth": 0,
              "tickcolor": "rgb(237,237,237)",
              "ticklen": 6,
              "ticks": "inside"
             }
            },
            "type": "scattergeo"
           }
          ],
          "scattergl": [
           {
            "marker": {
             "colorbar": {
              "outlinewidth": 0,
              "tickcolor": "rgb(237,237,237)",
              "ticklen": 6,
              "ticks": "inside"
             }
            },
            "type": "scattergl"
           }
          ],
          "scattermapbox": [
           {
            "marker": {
             "colorbar": {
              "outlinewidth": 0,
              "tickcolor": "rgb(237,237,237)",
              "ticklen": 6,
              "ticks": "inside"
             }
            },
            "type": "scattermapbox"
           }
          ],
          "scatterpolar": [
           {
            "marker": {
             "colorbar": {
              "outlinewidth": 0,
              "tickcolor": "rgb(237,237,237)",
              "ticklen": 6,
              "ticks": "inside"
             }
            },
            "type": "scatterpolar"
           }
          ],
          "scatterpolargl": [
           {
            "marker": {
             "colorbar": {
              "outlinewidth": 0,
              "tickcolor": "rgb(237,237,237)",
              "ticklen": 6,
              "ticks": "inside"
             }
            },
            "type": "scatterpolargl"
           }
          ],
          "scatterternary": [
           {
            "marker": {
             "colorbar": {
              "outlinewidth": 0,
              "tickcolor": "rgb(237,237,237)",
              "ticklen": 6,
              "ticks": "inside"
             }
            },
            "type": "scatterternary"
           }
          ],
          "surface": [
           {
            "colorbar": {
             "outlinewidth": 0,
             "tickcolor": "rgb(237,237,237)",
             "ticklen": 6,
             "ticks": "inside"
            },
            "colorscale": [
             [
              0,
              "rgb(20,44,66)"
             ],
             [
              1,
              "rgb(90,179,244)"
             ]
            ],
            "type": "surface"
           }
          ],
          "table": [
           {
            "cells": {
             "fill": {
              "color": "rgb(237,237,237)"
             },
             "line": {
              "color": "white"
             }
            },
            "header": {
             "fill": {
              "color": "rgb(217,217,217)"
             },
             "line": {
              "color": "white"
             }
            },
            "type": "table"
           }
          ]
         },
         "layout": {
          "annotationdefaults": {
           "arrowhead": 0,
           "arrowwidth": 1
          },
          "annotations": [
           {
            "font": {
             "color": "black",
             "size": 12
            },
            "name": "created by",
            "opacity": 0.9,
            "showarrow": false,
            "text": "Created by Electrify RVA",
            "x": -0.05,
            "xref": "paper",
            "y": -0.25,
            "yref": "paper"
           }
          ],
          "autotypenumbers": "strict",
          "coloraxis": {
           "colorbar": {
            "outlinewidth": 0,
            "tickcolor": "rgb(237,237,237)",
            "ticklen": 6,
            "ticks": "inside"
           }
          },
          "colorscale": {
           "sequential": [
            [
             0,
             "rgb(20,44,66)"
            ],
            [
             1,
             "rgb(90,179,244)"
            ]
           ],
           "sequentialminus": [
            [
             0,
             "rgb(20,44,66)"
            ],
            [
             1,
             "rgb(90,179,244)"
            ]
           ]
          },
          "colorway": [
           "#007C77",
           "#1a1b41",
           "#f48668",
           "#f2bb05",
           "#E2A0FF",
           "#8acb88"
          ],
          "font": {
           "color": "rgb(51,51,51)"
          },
          "geo": {
           "bgcolor": "white",
           "lakecolor": "white",
           "landcolor": "rgb(237,237,237)",
           "showlakes": true,
           "showland": true,
           "subunitcolor": "white"
          },
          "hoverlabel": {
           "align": "left"
          },
          "hovermode": "x unified",
          "paper_bgcolor": "white",
          "plot_bgcolor": "rgb(237,237,237)",
          "polar": {
           "angularaxis": {
            "gridcolor": "white",
            "linecolor": "white",
            "showgrid": true,
            "tickcolor": "rgb(51,51,51)",
            "ticks": "outside"
           },
           "bgcolor": "rgb(237,237,237)",
           "radialaxis": {
            "gridcolor": "white",
            "linecolor": "white",
            "showgrid": true,
            "tickcolor": "rgb(51,51,51)",
            "ticks": "outside"
           }
          },
          "scene": {
           "xaxis": {
            "backgroundcolor": "rgb(237,237,237)",
            "gridcolor": "white",
            "gridwidth": 2,
            "linecolor": "white",
            "showbackground": true,
            "showgrid": true,
            "tickcolor": "rgb(51,51,51)",
            "ticks": "outside",
            "zerolinecolor": "white"
           },
           "yaxis": {
            "backgroundcolor": "rgb(237,237,237)",
            "gridcolor": "white",
            "gridwidth": 2,
            "linecolor": "white",
            "showbackground": true,
            "showgrid": true,
            "tickcolor": "rgb(51,51,51)",
            "ticks": "outside",
            "zerolinecolor": "white"
           },
           "zaxis": {
            "backgroundcolor": "rgb(237,237,237)",
            "gridcolor": "white",
            "gridwidth": 2,
            "linecolor": "white",
            "showbackground": true,
            "showgrid": true,
            "tickcolor": "rgb(51,51,51)",
            "ticks": "outside",
            "zerolinecolor": "white"
           }
          },
          "shapedefaults": {
           "fillcolor": "black",
           "line": {
            "width": 0
           },
           "opacity": 0.3
          },
          "ternary": {
           "aaxis": {
            "gridcolor": "white",
            "linecolor": "white",
            "showgrid": true,
            "tickcolor": "rgb(51,51,51)",
            "ticks": "outside"
           },
           "baxis": {
            "gridcolor": "white",
            "linecolor": "white",
            "showgrid": true,
            "tickcolor": "rgb(51,51,51)",
            "ticks": "outside"
           },
           "bgcolor": "rgb(237,237,237)",
           "caxis": {
            "gridcolor": "white",
            "linecolor": "white",
            "showgrid": true,
            "tickcolor": "rgb(51,51,51)",
            "ticks": "outside"
           }
          },
          "title": {
           "x": 0.05
          },
          "xaxis": {
           "automargin": true,
           "gridcolor": "white",
           "linecolor": "white",
           "showgrid": true,
           "tickcolor": "rgb(51,51,51)",
           "ticks": "outside",
           "title": {
            "standoff": 15
           },
           "zerolinecolor": "white"
          },
          "yaxis": {
           "automargin": true,
           "gridcolor": "white",
           "linecolor": "white",
           "showgrid": true,
           "tickcolor": "rgb(51,51,51)",
           "tickformat": ",.0f",
           "ticks": "outside",
           "title": {
            "standoff": 15
           },
           "zerolinecolor": "white"
          }
         }
        },
        "title": {
         "text": "Residential cost per unit of methane"
        },
        "xaxis": {
         "anchor": "y",
         "domain": [
          0,
          1
         ],
         "title": {
          "text": ""
         }
        },
        "yaxis": {
         "anchor": "x",
         "domain": [
          0,
          1
         ],
         "title": {
          "text": "$ per thousand cubic feet"
         }
        }
       }
      }
     },
     "metadata": {},
     "output_type": "display_data"
    }
   ],
   "source": [
    "lineplot_eia_phmsa(y=\"residential_cost_per_mcf_real\", x_label=\"\", y_label=\"$ per thousand cubic feet\", title=\"Residential cost per unit of methane\")"
   ]
  },
  {
   "cell_type": "code",
   "execution_count": 19,
   "metadata": {},
   "outputs": [
    {
     "data": {
      "application/vnd.plotly.v1+json": {
       "config": {
        "plotlyServerURL": "https://plot.ly"
       },
       "data": [
        {
         "legendgroup": "",
         "line": {
          "color": "#007C77",
          "dash": "solid"
         },
         "marker": {
          "symbol": "circle"
         },
         "mode": "lines",
         "name": "",
         "orientation": "v",
         "showlegend": false,
         "type": "scatter",
         "x": [
          1997,
          1998,
          1999,
          2000,
          2001,
          2002,
          2003,
          2004,
          2005,
          2006,
          2007,
          2008,
          2009,
          2010,
          2011,
          2012,
          2013,
          2014,
          2015,
          2016,
          2017,
          2018,
          2019,
          2020,
          2021,
          2022
         ],
         "xaxis": "x",
         "y": [
          187.5011426270458,
          237.7643909285396,
          265.72906658353696,
          265.5891196034009,
          219.2335811274944,
          227.78174591645865,
          314.5170796237128,
          396.8500974713298,
          370.57721943522,
          312.98889575110377,
          430.5676817351646,
          399.8906522651472,
          422.9693164033114,
          421.0332200474326,
          369.3633143716337,
          350.3801195099935,
          404.1427562087211,
          445.3366528972376,
          454.0596405647069,
          439.5087851029775,
          484.7859281200752,
          555.2443306554835,
          510.4062871937264,
          518.7614231578474,
          519.2261306564444,
          572.5269168812904
         ],
         "yaxis": "y"
        }
       ],
       "layout": {
        "legend": {
         "tracegroupgap": 0
        },
        "template": {
         "data": {
          "bar": [
           {
            "error_x": {
             "color": "rgb(51,51,51)"
            },
            "error_y": {
             "color": "rgb(51,51,51)"
            },
            "marker": {
             "line": {
              "color": "rgb(237,237,237)",
              "width": 0.5
             },
             "pattern": {
              "fillmode": "overlay",
              "size": 10,
              "solidity": 0.2
             }
            },
            "type": "bar"
           }
          ],
          "barpolar": [
           {
            "marker": {
             "line": {
              "color": "rgb(237,237,237)",
              "width": 0.5
             },
             "pattern": {
              "fillmode": "overlay",
              "size": 10,
              "solidity": 0.2
             }
            },
            "type": "barpolar"
           }
          ],
          "carpet": [
           {
            "aaxis": {
             "endlinecolor": "rgb(51,51,51)",
             "gridcolor": "white",
             "linecolor": "white",
             "minorgridcolor": "white",
             "startlinecolor": "rgb(51,51,51)"
            },
            "baxis": {
             "endlinecolor": "rgb(51,51,51)",
             "gridcolor": "white",
             "linecolor": "white",
             "minorgridcolor": "white",
             "startlinecolor": "rgb(51,51,51)"
            },
            "type": "carpet"
           }
          ],
          "choropleth": [
           {
            "colorbar": {
             "outlinewidth": 0,
             "tickcolor": "rgb(237,237,237)",
             "ticklen": 6,
             "ticks": "inside"
            },
            "type": "choropleth"
           }
          ],
          "contour": [
           {
            "colorbar": {
             "outlinewidth": 0,
             "tickcolor": "rgb(237,237,237)",
             "ticklen": 6,
             "ticks": "inside"
            },
            "colorscale": [
             [
              0,
              "rgb(20,44,66)"
             ],
             [
              1,
              "rgb(90,179,244)"
             ]
            ],
            "type": "contour"
           }
          ],
          "contourcarpet": [
           {
            "colorbar": {
             "outlinewidth": 0,
             "tickcolor": "rgb(237,237,237)",
             "ticklen": 6,
             "ticks": "inside"
            },
            "type": "contourcarpet"
           }
          ],
          "heatmap": [
           {
            "colorbar": {
             "outlinewidth": 0,
             "tickcolor": "rgb(237,237,237)",
             "ticklen": 6,
             "ticks": "inside"
            },
            "colorscale": [
             [
              0,
              "rgb(20,44,66)"
             ],
             [
              1,
              "rgb(90,179,244)"
             ]
            ],
            "type": "heatmap"
           }
          ],
          "heatmapgl": [
           {
            "colorbar": {
             "outlinewidth": 0,
             "tickcolor": "rgb(237,237,237)",
             "ticklen": 6,
             "ticks": "inside"
            },
            "colorscale": [
             [
              0,
              "rgb(20,44,66)"
             ],
             [
              1,
              "rgb(90,179,244)"
             ]
            ],
            "type": "heatmapgl"
           }
          ],
          "histogram": [
           {
            "marker": {
             "pattern": {
              "fillmode": "overlay",
              "size": 10,
              "solidity": 0.2
             }
            },
            "type": "histogram"
           }
          ],
          "histogram2d": [
           {
            "colorbar": {
             "outlinewidth": 0,
             "tickcolor": "rgb(237,237,237)",
             "ticklen": 6,
             "ticks": "inside"
            },
            "colorscale": [
             [
              0,
              "rgb(20,44,66)"
             ],
             [
              1,
              "rgb(90,179,244)"
             ]
            ],
            "type": "histogram2d"
           }
          ],
          "histogram2dcontour": [
           {
            "colorbar": {
             "outlinewidth": 0,
             "tickcolor": "rgb(237,237,237)",
             "ticklen": 6,
             "ticks": "inside"
            },
            "colorscale": [
             [
              0,
              "rgb(20,44,66)"
             ],
             [
              1,
              "rgb(90,179,244)"
             ]
            ],
            "type": "histogram2dcontour"
           }
          ],
          "mesh3d": [
           {
            "colorbar": {
             "outlinewidth": 0,
             "tickcolor": "rgb(237,237,237)",
             "ticklen": 6,
             "ticks": "inside"
            },
            "type": "mesh3d"
           }
          ],
          "parcoords": [
           {
            "line": {
             "colorbar": {
              "outlinewidth": 0,
              "tickcolor": "rgb(237,237,237)",
              "ticklen": 6,
              "ticks": "inside"
             }
            },
            "type": "parcoords"
           }
          ],
          "pie": [
           {
            "automargin": true,
            "type": "pie"
           }
          ],
          "scatter": [
           {
            "fillpattern": {
             "fillmode": "overlay",
             "size": 10,
             "solidity": 0.2
            },
            "type": "scatter"
           }
          ],
          "scatter3d": [
           {
            "line": {
             "colorbar": {
              "outlinewidth": 0,
              "tickcolor": "rgb(237,237,237)",
              "ticklen": 6,
              "ticks": "inside"
             }
            },
            "marker": {
             "colorbar": {
              "outlinewidth": 0,
              "tickcolor": "rgb(237,237,237)",
              "ticklen": 6,
              "ticks": "inside"
             }
            },
            "type": "scatter3d"
           }
          ],
          "scattercarpet": [
           {
            "marker": {
             "colorbar": {
              "outlinewidth": 0,
              "tickcolor": "rgb(237,237,237)",
              "ticklen": 6,
              "ticks": "inside"
             }
            },
            "type": "scattercarpet"
           }
          ],
          "scattergeo": [
           {
            "marker": {
             "colorbar": {
              "outlinewidth": 0,
              "tickcolor": "rgb(237,237,237)",
              "ticklen": 6,
              "ticks": "inside"
             }
            },
            "type": "scattergeo"
           }
          ],
          "scattergl": [
           {
            "marker": {
             "colorbar": {
              "outlinewidth": 0,
              "tickcolor": "rgb(237,237,237)",
              "ticklen": 6,
              "ticks": "inside"
             }
            },
            "type": "scattergl"
           }
          ],
          "scattermapbox": [
           {
            "marker": {
             "colorbar": {
              "outlinewidth": 0,
              "tickcolor": "rgb(237,237,237)",
              "ticklen": 6,
              "ticks": "inside"
             }
            },
            "type": "scattermapbox"
           }
          ],
          "scatterpolar": [
           {
            "marker": {
             "colorbar": {
              "outlinewidth": 0,
              "tickcolor": "rgb(237,237,237)",
              "ticklen": 6,
              "ticks": "inside"
             }
            },
            "type": "scatterpolar"
           }
          ],
          "scatterpolargl": [
           {
            "marker": {
             "colorbar": {
              "outlinewidth": 0,
              "tickcolor": "rgb(237,237,237)",
              "ticklen": 6,
              "ticks": "inside"
             }
            },
            "type": "scatterpolargl"
           }
          ],
          "scatterternary": [
           {
            "marker": {
             "colorbar": {
              "outlinewidth": 0,
              "tickcolor": "rgb(237,237,237)",
              "ticklen": 6,
              "ticks": "inside"
             }
            },
            "type": "scatterternary"
           }
          ],
          "surface": [
           {
            "colorbar": {
             "outlinewidth": 0,
             "tickcolor": "rgb(237,237,237)",
             "ticklen": 6,
             "ticks": "inside"
            },
            "colorscale": [
             [
              0,
              "rgb(20,44,66)"
             ],
             [
              1,
              "rgb(90,179,244)"
             ]
            ],
            "type": "surface"
           }
          ],
          "table": [
           {
            "cells": {
             "fill": {
              "color": "rgb(237,237,237)"
             },
             "line": {
              "color": "white"
             }
            },
            "header": {
             "fill": {
              "color": "rgb(217,217,217)"
             },
             "line": {
              "color": "white"
             }
            },
            "type": "table"
           }
          ]
         },
         "layout": {
          "annotationdefaults": {
           "arrowhead": 0,
           "arrowwidth": 1
          },
          "annotations": [
           {
            "font": {
             "color": "black",
             "size": 12
            },
            "name": "created by",
            "opacity": 0.9,
            "showarrow": false,
            "text": "Created by Electrify RVA",
            "x": -0.05,
            "xref": "paper",
            "y": -0.25,
            "yref": "paper"
           }
          ],
          "autotypenumbers": "strict",
          "coloraxis": {
           "colorbar": {
            "outlinewidth": 0,
            "tickcolor": "rgb(237,237,237)",
            "ticklen": 6,
            "ticks": "inside"
           }
          },
          "colorscale": {
           "sequential": [
            [
             0,
             "rgb(20,44,66)"
            ],
            [
             1,
             "rgb(90,179,244)"
            ]
           ],
           "sequentialminus": [
            [
             0,
             "rgb(20,44,66)"
            ],
            [
             1,
             "rgb(90,179,244)"
            ]
           ]
          },
          "colorway": [
           "#007C77",
           "#1a1b41",
           "#f48668",
           "#f2bb05",
           "#E2A0FF",
           "#8acb88"
          ],
          "font": {
           "color": "rgb(51,51,51)"
          },
          "geo": {
           "bgcolor": "white",
           "lakecolor": "white",
           "landcolor": "rgb(237,237,237)",
           "showlakes": true,
           "showland": true,
           "subunitcolor": "white"
          },
          "hoverlabel": {
           "align": "left"
          },
          "hovermode": "x unified",
          "paper_bgcolor": "white",
          "plot_bgcolor": "rgb(237,237,237)",
          "polar": {
           "angularaxis": {
            "gridcolor": "white",
            "linecolor": "white",
            "showgrid": true,
            "tickcolor": "rgb(51,51,51)",
            "ticks": "outside"
           },
           "bgcolor": "rgb(237,237,237)",
           "radialaxis": {
            "gridcolor": "white",
            "linecolor": "white",
            "showgrid": true,
            "tickcolor": "rgb(51,51,51)",
            "ticks": "outside"
           }
          },
          "scene": {
           "xaxis": {
            "backgroundcolor": "rgb(237,237,237)",
            "gridcolor": "white",
            "gridwidth": 2,
            "linecolor": "white",
            "showbackground": true,
            "showgrid": true,
            "tickcolor": "rgb(51,51,51)",
            "ticks": "outside",
            "zerolinecolor": "white"
           },
           "yaxis": {
            "backgroundcolor": "rgb(237,237,237)",
            "gridcolor": "white",
            "gridwidth": 2,
            "linecolor": "white",
            "showbackground": true,
            "showgrid": true,
            "tickcolor": "rgb(51,51,51)",
            "ticks": "outside",
            "zerolinecolor": "white"
           },
           "zaxis": {
            "backgroundcolor": "rgb(237,237,237)",
            "gridcolor": "white",
            "gridwidth": 2,
            "linecolor": "white",
            "showbackground": true,
            "showgrid": true,
            "tickcolor": "rgb(51,51,51)",
            "ticks": "outside",
            "zerolinecolor": "white"
           }
          },
          "shapedefaults": {
           "fillcolor": "black",
           "line": {
            "width": 0
           },
           "opacity": 0.3
          },
          "ternary": {
           "aaxis": {
            "gridcolor": "white",
            "linecolor": "white",
            "showgrid": true,
            "tickcolor": "rgb(51,51,51)",
            "ticks": "outside"
           },
           "baxis": {
            "gridcolor": "white",
            "linecolor": "white",
            "showgrid": true,
            "tickcolor": "rgb(51,51,51)",
            "ticks": "outside"
           },
           "bgcolor": "rgb(237,237,237)",
           "caxis": {
            "gridcolor": "white",
            "linecolor": "white",
            "showgrid": true,
            "tickcolor": "rgb(51,51,51)",
            "ticks": "outside"
           }
          },
          "title": {
           "x": 0.05
          },
          "xaxis": {
           "automargin": true,
           "gridcolor": "white",
           "linecolor": "white",
           "showgrid": true,
           "tickcolor": "rgb(51,51,51)",
           "ticks": "outside",
           "title": {
            "standoff": 15
           },
           "zerolinecolor": "white"
          },
          "yaxis": {
           "automargin": true,
           "gridcolor": "white",
           "linecolor": "white",
           "showgrid": true,
           "tickcolor": "rgb(51,51,51)",
           "tickformat": ",.0f",
           "ticks": "outside",
           "title": {
            "standoff": 15
           },
           "zerolinecolor": "white"
          }
         }
        },
        "title": {
         "text": "Residential system costs per customer"
        },
        "xaxis": {
         "anchor": "y",
         "domain": [
          0,
          1
         ],
         "title": {
          "text": ""
         }
        },
        "yaxis": {
         "anchor": "x",
         "domain": [
          0,
          1
         ],
         "title": {
          "text": "$ per Customer"
         }
        }
       }
      }
     },
     "metadata": {},
     "output_type": "display_data"
    }
   ],
   "source": [
    "lineplot_eia_phmsa(y=\"residential_net_revenue_real_per_customer\", x_label=\"\", y_label=\"$ per Customer\", title=\"Residential system costs per customer\")"
   ]
  },
  {
   "cell_type": "code",
   "execution_count": 20,
   "metadata": {},
   "outputs": [
    {
     "data": {
      "application/vnd.plotly.v1+json": {
       "config": {
        "plotlyServerURL": "https://plot.ly"
       },
       "data": [
        {
         "legendgroup": "",
         "line": {
          "color": "#007C77",
          "dash": "solid"
         },
         "marker": {
          "symbol": "circle"
         },
         "mode": "lines",
         "name": "",
         "orientation": "v",
         "showlegend": false,
         "type": "scatter",
         "x": [
          1997,
          1998,
          1999,
          2000,
          2001,
          2002,
          2003,
          2004,
          2005,
          2006,
          2007,
          2008,
          2009,
          2010,
          2011,
          2012,
          2013,
          2014,
          2015,
          2016,
          2017,
          2018,
          2019,
          2020,
          2021,
          2022
         ],
         "xaxis": "x",
         "y": [
          120.81104929982736,
          75.74434283256808,
          78.24589379684261,
          91.03035655149576,
          77.70444444444445,
          76.3041158012872,
          87.2214447676416,
          79.858364534639,
          80.35140862763947,
          63.86302145665926,
          69.56735339069992,
          68.46514574106499,
          72.06447593674976,
          74.94851531830714,
          62.519879194494834,
          55.3718278705007,
          69.0097141492157,
          71.51790516491339,
          64.44093353727735,
          60.96965925461334,
          60.77564778812632,
          64.76770516717325,
          59.48611684364564,
          54.76984515378436,
          57.82970892360953,
          58.461455214458354
         ],
         "yaxis": "y"
        },
        {
         "hoverinfo": "skip",
         "marker": {
          "color": "#df2935",
          "size": 7.5
         },
         "mode": "markers",
         "showlegend": false,
         "type": "scatter",
         "x": [
          2022
         ],
         "y": [
          58.461455214458354
         ]
        }
       ],
       "layout": {
        "annotations": [
         {
          "align": "right",
          "arrowhead": 2,
          "showarrow": true,
          "text": "36% decrease<br>since 2000",
          "x": 2022,
          "y": 59
         }
        ],
        "legend": {
         "tracegroupgap": 0
        },
        "template": {
         "data": {
          "bar": [
           {
            "error_x": {
             "color": "rgb(51,51,51)"
            },
            "error_y": {
             "color": "rgb(51,51,51)"
            },
            "marker": {
             "line": {
              "color": "rgb(237,237,237)",
              "width": 0.5
             },
             "pattern": {
              "fillmode": "overlay",
              "size": 10,
              "solidity": 0.2
             }
            },
            "type": "bar"
           }
          ],
          "barpolar": [
           {
            "marker": {
             "line": {
              "color": "rgb(237,237,237)",
              "width": 0.5
             },
             "pattern": {
              "fillmode": "overlay",
              "size": 10,
              "solidity": 0.2
             }
            },
            "type": "barpolar"
           }
          ],
          "carpet": [
           {
            "aaxis": {
             "endlinecolor": "rgb(51,51,51)",
             "gridcolor": "white",
             "linecolor": "white",
             "minorgridcolor": "white",
             "startlinecolor": "rgb(51,51,51)"
            },
            "baxis": {
             "endlinecolor": "rgb(51,51,51)",
             "gridcolor": "white",
             "linecolor": "white",
             "minorgridcolor": "white",
             "startlinecolor": "rgb(51,51,51)"
            },
            "type": "carpet"
           }
          ],
          "choropleth": [
           {
            "colorbar": {
             "outlinewidth": 0,
             "tickcolor": "rgb(237,237,237)",
             "ticklen": 6,
             "ticks": "inside"
            },
            "type": "choropleth"
           }
          ],
          "contour": [
           {
            "colorbar": {
             "outlinewidth": 0,
             "tickcolor": "rgb(237,237,237)",
             "ticklen": 6,
             "ticks": "inside"
            },
            "colorscale": [
             [
              0,
              "rgb(20,44,66)"
             ],
             [
              1,
              "rgb(90,179,244)"
             ]
            ],
            "type": "contour"
           }
          ],
          "contourcarpet": [
           {
            "colorbar": {
             "outlinewidth": 0,
             "tickcolor": "rgb(237,237,237)",
             "ticklen": 6,
             "ticks": "inside"
            },
            "type": "contourcarpet"
           }
          ],
          "heatmap": [
           {
            "colorbar": {
             "outlinewidth": 0,
             "tickcolor": "rgb(237,237,237)",
             "ticklen": 6,
             "ticks": "inside"
            },
            "colorscale": [
             [
              0,
              "rgb(20,44,66)"
             ],
             [
              1,
              "rgb(90,179,244)"
             ]
            ],
            "type": "heatmap"
           }
          ],
          "heatmapgl": [
           {
            "colorbar": {
             "outlinewidth": 0,
             "tickcolor": "rgb(237,237,237)",
             "ticklen": 6,
             "ticks": "inside"
            },
            "colorscale": [
             [
              0,
              "rgb(20,44,66)"
             ],
             [
              1,
              "rgb(90,179,244)"
             ]
            ],
            "type": "heatmapgl"
           }
          ],
          "histogram": [
           {
            "marker": {
             "pattern": {
              "fillmode": "overlay",
              "size": 10,
              "solidity": 0.2
             }
            },
            "type": "histogram"
           }
          ],
          "histogram2d": [
           {
            "colorbar": {
             "outlinewidth": 0,
             "tickcolor": "rgb(237,237,237)",
             "ticklen": 6,
             "ticks": "inside"
            },
            "colorscale": [
             [
              0,
              "rgb(20,44,66)"
             ],
             [
              1,
              "rgb(90,179,244)"
             ]
            ],
            "type": "histogram2d"
           }
          ],
          "histogram2dcontour": [
           {
            "colorbar": {
             "outlinewidth": 0,
             "tickcolor": "rgb(237,237,237)",
             "ticklen": 6,
             "ticks": "inside"
            },
            "colorscale": [
             [
              0,
              "rgb(20,44,66)"
             ],
             [
              1,
              "rgb(90,179,244)"
             ]
            ],
            "type": "histogram2dcontour"
           }
          ],
          "mesh3d": [
           {
            "colorbar": {
             "outlinewidth": 0,
             "tickcolor": "rgb(237,237,237)",
             "ticklen": 6,
             "ticks": "inside"
            },
            "type": "mesh3d"
           }
          ],
          "parcoords": [
           {
            "line": {
             "colorbar": {
              "outlinewidth": 0,
              "tickcolor": "rgb(237,237,237)",
              "ticklen": 6,
              "ticks": "inside"
             }
            },
            "type": "parcoords"
           }
          ],
          "pie": [
           {
            "automargin": true,
            "type": "pie"
           }
          ],
          "scatter": [
           {
            "fillpattern": {
             "fillmode": "overlay",
             "size": 10,
             "solidity": 0.2
            },
            "type": "scatter"
           }
          ],
          "scatter3d": [
           {
            "line": {
             "colorbar": {
              "outlinewidth": 0,
              "tickcolor": "rgb(237,237,237)",
              "ticklen": 6,
              "ticks": "inside"
             }
            },
            "marker": {
             "colorbar": {
              "outlinewidth": 0,
              "tickcolor": "rgb(237,237,237)",
              "ticklen": 6,
              "ticks": "inside"
             }
            },
            "type": "scatter3d"
           }
          ],
          "scattercarpet": [
           {
            "marker": {
             "colorbar": {
              "outlinewidth": 0,
              "tickcolor": "rgb(237,237,237)",
              "ticklen": 6,
              "ticks": "inside"
             }
            },
            "type": "scattercarpet"
           }
          ],
          "scattergeo": [
           {
            "marker": {
             "colorbar": {
              "outlinewidth": 0,
              "tickcolor": "rgb(237,237,237)",
              "ticklen": 6,
              "ticks": "inside"
             }
            },
            "type": "scattergeo"
           }
          ],
          "scattergl": [
           {
            "marker": {
             "colorbar": {
              "outlinewidth": 0,
              "tickcolor": "rgb(237,237,237)",
              "ticklen": 6,
              "ticks": "inside"
             }
            },
            "type": "scattergl"
           }
          ],
          "scattermapbox": [
           {
            "marker": {
             "colorbar": {
              "outlinewidth": 0,
              "tickcolor": "rgb(237,237,237)",
              "ticklen": 6,
              "ticks": "inside"
             }
            },
            "type": "scattermapbox"
           }
          ],
          "scatterpolar": [
           {
            "marker": {
             "colorbar": {
              "outlinewidth": 0,
              "tickcolor": "rgb(237,237,237)",
              "ticklen": 6,
              "ticks": "inside"
             }
            },
            "type": "scatterpolar"
           }
          ],
          "scatterpolargl": [
           {
            "marker": {
             "colorbar": {
              "outlinewidth": 0,
              "tickcolor": "rgb(237,237,237)",
              "ticklen": 6,
              "ticks": "inside"
             }
            },
            "type": "scatterpolargl"
           }
          ],
          "scatterternary": [
           {
            "marker": {
             "colorbar": {
              "outlinewidth": 0,
              "tickcolor": "rgb(237,237,237)",
              "ticklen": 6,
              "ticks": "inside"
             }
            },
            "type": "scatterternary"
           }
          ],
          "surface": [
           {
            "colorbar": {
             "outlinewidth": 0,
             "tickcolor": "rgb(237,237,237)",
             "ticklen": 6,
             "ticks": "inside"
            },
            "colorscale": [
             [
              0,
              "rgb(20,44,66)"
             ],
             [
              1,
              "rgb(90,179,244)"
             ]
            ],
            "type": "surface"
           }
          ],
          "table": [
           {
            "cells": {
             "fill": {
              "color": "rgb(237,237,237)"
             },
             "line": {
              "color": "white"
             }
            },
            "header": {
             "fill": {
              "color": "rgb(217,217,217)"
             },
             "line": {
              "color": "white"
             }
            },
            "type": "table"
           }
          ]
         },
         "layout": {
          "annotationdefaults": {
           "arrowhead": 0,
           "arrowwidth": 1
          },
          "annotations": [
           {
            "font": {
             "color": "black",
             "size": 12
            },
            "name": "created by",
            "opacity": 0.9,
            "showarrow": false,
            "text": "Created by Electrify RVA",
            "x": -0.05,
            "xref": "paper",
            "y": -0.25,
            "yref": "paper"
           }
          ],
          "autotypenumbers": "strict",
          "coloraxis": {
           "colorbar": {
            "outlinewidth": 0,
            "tickcolor": "rgb(237,237,237)",
            "ticklen": 6,
            "ticks": "inside"
           }
          },
          "colorscale": {
           "sequential": [
            [
             0,
             "rgb(20,44,66)"
            ],
            [
             1,
             "rgb(90,179,244)"
            ]
           ],
           "sequentialminus": [
            [
             0,
             "rgb(20,44,66)"
            ],
            [
             1,
             "rgb(90,179,244)"
            ]
           ]
          },
          "colorway": [
           "#007C77",
           "#1a1b41",
           "#f48668",
           "#f2bb05",
           "#E2A0FF",
           "#8acb88"
          ],
          "font": {
           "color": "rgb(51,51,51)"
          },
          "geo": {
           "bgcolor": "white",
           "lakecolor": "white",
           "landcolor": "rgb(237,237,237)",
           "showlakes": true,
           "showland": true,
           "subunitcolor": "white"
          },
          "hoverlabel": {
           "align": "left"
          },
          "hovermode": "x unified",
          "paper_bgcolor": "white",
          "plot_bgcolor": "rgb(237,237,237)",
          "polar": {
           "angularaxis": {
            "gridcolor": "white",
            "linecolor": "white",
            "showgrid": true,
            "tickcolor": "rgb(51,51,51)",
            "ticks": "outside"
           },
           "bgcolor": "rgb(237,237,237)",
           "radialaxis": {
            "gridcolor": "white",
            "linecolor": "white",
            "showgrid": true,
            "tickcolor": "rgb(51,51,51)",
            "ticks": "outside"
           }
          },
          "scene": {
           "xaxis": {
            "backgroundcolor": "rgb(237,237,237)",
            "gridcolor": "white",
            "gridwidth": 2,
            "linecolor": "white",
            "showbackground": true,
            "showgrid": true,
            "tickcolor": "rgb(51,51,51)",
            "ticks": "outside",
            "zerolinecolor": "white"
           },
           "yaxis": {
            "backgroundcolor": "rgb(237,237,237)",
            "gridcolor": "white",
            "gridwidth": 2,
            "linecolor": "white",
            "showbackground": true,
            "showgrid": true,
            "tickcolor": "rgb(51,51,51)",
            "ticks": "outside",
            "zerolinecolor": "white"
           },
           "zaxis": {
            "backgroundcolor": "rgb(237,237,237)",
            "gridcolor": "white",
            "gridwidth": 2,
            "linecolor": "white",
            "showbackground": true,
            "showgrid": true,
            "tickcolor": "rgb(51,51,51)",
            "ticks": "outside",
            "zerolinecolor": "white"
           }
          },
          "shapedefaults": {
           "fillcolor": "black",
           "line": {
            "width": 0
           },
           "opacity": 0.3
          },
          "ternary": {
           "aaxis": {
            "gridcolor": "white",
            "linecolor": "white",
            "showgrid": true,
            "tickcolor": "rgb(51,51,51)",
            "ticks": "outside"
           },
           "baxis": {
            "gridcolor": "white",
            "linecolor": "white",
            "showgrid": true,
            "tickcolor": "rgb(51,51,51)",
            "ticks": "outside"
           },
           "bgcolor": "rgb(237,237,237)",
           "caxis": {
            "gridcolor": "white",
            "linecolor": "white",
            "showgrid": true,
            "tickcolor": "rgb(51,51,51)",
            "ticks": "outside"
           }
          },
          "title": {
           "x": 0.05
          },
          "xaxis": {
           "automargin": true,
           "gridcolor": "white",
           "linecolor": "white",
           "showgrid": true,
           "tickcolor": "rgb(51,51,51)",
           "ticks": "outside",
           "title": {
            "standoff": 15
           },
           "zerolinecolor": "white"
          },
          "yaxis": {
           "automargin": true,
           "gridcolor": "white",
           "linecolor": "white",
           "showgrid": true,
           "tickcolor": "rgb(51,51,51)",
           "tickformat": ",.0f",
           "ticks": "outside",
           "title": {
            "standoff": 15
           },
           "zerolinecolor": "white"
          }
         }
        },
        "title": {
         "text": "Residential average gas use"
        },
        "xaxis": {
         "anchor": "y",
         "domain": [
          0,
          1
         ],
         "title": {
          "text": ""
         }
        },
        "yaxis": {
         "anchor": "x",
         "domain": [
          0,
          1
         ],
         "title": {
          "text": "Customer average (Mcf)"
         }
        }
       }
      }
     },
     "metadata": {},
     "output_type": "display_data"
    }
   ],
   "source": [
    "#lineplot_eia_phmsa(y=\"residential_volume_per_customer\", x_label=\"\", y_label=\"Units of gas per customer (Mcf)\", title=\"Residential average gas use\")\n",
    "fig = px.line(\n",
    "    eia_phmsa, \n",
    "    x=\"year\", y=\"residential_volume_per_customer\", \n",
    "    title='Residential average gas use',\n",
    "    labels={ \"year\": \"\", \"residential_volume_per_customer\": \"Customer average (Mcf)\", }\n",
    ")\n",
    "\n",
    "fig.add_trace(go.Scatter(\n",
    "    x=[eia_phmsa['year'].iloc[-1]],\n",
    "    y=[eia_phmsa['residential_volume_per_customer'].iloc[-1]],\n",
    "    mode='markers',\n",
    "    marker=dict(color=HIGHLIGHT_COLOR, size=7.5),\n",
    "    showlegend=False,\n",
    "    hoverinfo='skip',\n",
    "))\n",
    "\n",
    "fig.add_annotation(\n",
    "    text=\"36% decrease<br>since 2000\", x=2022, y=59,\n",
    "    showarrow=True, arrowhead=2,\n",
    "    align=\"right\",\n",
    ")\n",
    "\n",
    "fig.update_traces(hovertemplate=None)\n",
    "\n",
    "fig.show()\n",
    "fig.write_html(\"../docs/_includes/charts/residential_volume_per_customer.html\", include_plotlyjs=\"cdn\")"
   ]
  },
  {
   "cell_type": "code",
   "execution_count": 21,
   "metadata": {},
   "outputs": [
    {
     "data": {
      "application/vnd.plotly.v1+json": {
       "config": {
        "plotlyServerURL": "https://plot.ly"
       },
       "data": [
        {
         "fillpattern": {
          "shape": ""
         },
         "legendgroup": "System",
         "line": {
          "color": "#1a1b41"
         },
         "marker": {
          "symbol": "circle"
         },
         "mode": "lines",
         "name": "System",
         "orientation": "v",
         "showlegend": true,
         "stackgroup": "1",
         "type": "scatter",
         "x": [
          1997,
          1998,
          1999,
          2000,
          2001,
          2002,
          2003,
          2004,
          2005,
          2006,
          2007,
          2008,
          2009,
          2010,
          2011,
          2012,
          2013,
          2014,
          2015,
          2016,
          2017,
          2018,
          2019,
          2020,
          2021,
          2022
         ],
         "xaxis": "x",
         "y": [
          14661651.847721845,
          18797414.98241941,
          21663030.695089683,
          21653746.51038488,
          18448505.85187865,
          19890357.616917003,
          27464260.426901847,
          35825245.699126825,
          33923750.39875834,
          29290752.819971293,
          41130408.365433335,
          38825383.42842314,
          41755107.946018495,
          41077264.04748767,
          36445447.59236347,
          34848806.68646395,
          40605031.00180262,
          45043130.4206382,
          46012133.676624574,
          44847915.94069293,
          48251228.2117192,
          58456123.1314093,
          54411351.84,
          56182380.88941804,
          56992856.23150462,
          63484074.651465
         ],
         "yaxis": "y"
        },
        {
         "fillpattern": {
          "shape": ""
         },
         "legendgroup": "Fuel",
         "line": {
          "color": "#f48668"
         },
         "marker": {
          "symbol": "circle"
         },
         "mode": "lines",
         "name": "Fuel",
         "orientation": "v",
         "showlegend": true,
         "stackgroup": "1",
         "type": "scatter",
         "x": [
          1997,
          1998,
          1999,
          2000,
          2001,
          2002,
          2003,
          2004,
          2005,
          2006,
          2007,
          2008,
          2009,
          2010,
          2011,
          2012,
          2013,
          2014,
          2015,
          2016,
          2017,
          2018,
          2019,
          2020,
          2021,
          2022
         ],
         "xaxis": "x",
         "y": [
          24557268.64206096,
          14280200.416722592,
          15836150.718105122,
          26694008.31814373,
          30610719.68576965,
          31642987.325998496,
          36014841.09776285,
          40538738.58606456,
          56856304.90887506,
          49522881.468928695,
          49963170.84762546,
          59383055.30608546,
          48960449.60939912,
          42913722.51984002,
          36038024.83880033,
          27894164.492642447,
          35001154.852048576,
          40052835.262833096,
          29481744.65163993,
          23304178.75309167,
          26273506.700297806,
          31410471.895944912,
          28663390.16,
          23242640.612049144,
          34111254.87513128,
          55053719.62145999
         ],
         "yaxis": "y"
        }
       ],
       "layout": {
        "hovermode": "x unified",
        "legend": {
         "title": {
          "text": "Cost source"
         },
         "tracegroupgap": 0
        },
        "template": {
         "data": {
          "bar": [
           {
            "error_x": {
             "color": "rgb(51,51,51)"
            },
            "error_y": {
             "color": "rgb(51,51,51)"
            },
            "marker": {
             "line": {
              "color": "rgb(237,237,237)",
              "width": 0.5
             },
             "pattern": {
              "fillmode": "overlay",
              "size": 10,
              "solidity": 0.2
             }
            },
            "type": "bar"
           }
          ],
          "barpolar": [
           {
            "marker": {
             "line": {
              "color": "rgb(237,237,237)",
              "width": 0.5
             },
             "pattern": {
              "fillmode": "overlay",
              "size": 10,
              "solidity": 0.2
             }
            },
            "type": "barpolar"
           }
          ],
          "carpet": [
           {
            "aaxis": {
             "endlinecolor": "rgb(51,51,51)",
             "gridcolor": "white",
             "linecolor": "white",
             "minorgridcolor": "white",
             "startlinecolor": "rgb(51,51,51)"
            },
            "baxis": {
             "endlinecolor": "rgb(51,51,51)",
             "gridcolor": "white",
             "linecolor": "white",
             "minorgridcolor": "white",
             "startlinecolor": "rgb(51,51,51)"
            },
            "type": "carpet"
           }
          ],
          "choropleth": [
           {
            "colorbar": {
             "outlinewidth": 0,
             "tickcolor": "rgb(237,237,237)",
             "ticklen": 6,
             "ticks": "inside"
            },
            "type": "choropleth"
           }
          ],
          "contour": [
           {
            "colorbar": {
             "outlinewidth": 0,
             "tickcolor": "rgb(237,237,237)",
             "ticklen": 6,
             "ticks": "inside"
            },
            "colorscale": [
             [
              0,
              "rgb(20,44,66)"
             ],
             [
              1,
              "rgb(90,179,244)"
             ]
            ],
            "type": "contour"
           }
          ],
          "contourcarpet": [
           {
            "colorbar": {
             "outlinewidth": 0,
             "tickcolor": "rgb(237,237,237)",
             "ticklen": 6,
             "ticks": "inside"
            },
            "type": "contourcarpet"
           }
          ],
          "heatmap": [
           {
            "colorbar": {
             "outlinewidth": 0,
             "tickcolor": "rgb(237,237,237)",
             "ticklen": 6,
             "ticks": "inside"
            },
            "colorscale": [
             [
              0,
              "rgb(20,44,66)"
             ],
             [
              1,
              "rgb(90,179,244)"
             ]
            ],
            "type": "heatmap"
           }
          ],
          "heatmapgl": [
           {
            "colorbar": {
             "outlinewidth": 0,
             "tickcolor": "rgb(237,237,237)",
             "ticklen": 6,
             "ticks": "inside"
            },
            "colorscale": [
             [
              0,
              "rgb(20,44,66)"
             ],
             [
              1,
              "rgb(90,179,244)"
             ]
            ],
            "type": "heatmapgl"
           }
          ],
          "histogram": [
           {
            "marker": {
             "pattern": {
              "fillmode": "overlay",
              "size": 10,
              "solidity": 0.2
             }
            },
            "type": "histogram"
           }
          ],
          "histogram2d": [
           {
            "colorbar": {
             "outlinewidth": 0,
             "tickcolor": "rgb(237,237,237)",
             "ticklen": 6,
             "ticks": "inside"
            },
            "colorscale": [
             [
              0,
              "rgb(20,44,66)"
             ],
             [
              1,
              "rgb(90,179,244)"
             ]
            ],
            "type": "histogram2d"
           }
          ],
          "histogram2dcontour": [
           {
            "colorbar": {
             "outlinewidth": 0,
             "tickcolor": "rgb(237,237,237)",
             "ticklen": 6,
             "ticks": "inside"
            },
            "colorscale": [
             [
              0,
              "rgb(20,44,66)"
             ],
             [
              1,
              "rgb(90,179,244)"
             ]
            ],
            "type": "histogram2dcontour"
           }
          ],
          "mesh3d": [
           {
            "colorbar": {
             "outlinewidth": 0,
             "tickcolor": "rgb(237,237,237)",
             "ticklen": 6,
             "ticks": "inside"
            },
            "type": "mesh3d"
           }
          ],
          "parcoords": [
           {
            "line": {
             "colorbar": {
              "outlinewidth": 0,
              "tickcolor": "rgb(237,237,237)",
              "ticklen": 6,
              "ticks": "inside"
             }
            },
            "type": "parcoords"
           }
          ],
          "pie": [
           {
            "automargin": true,
            "type": "pie"
           }
          ],
          "scatter": [
           {
            "fillpattern": {
             "fillmode": "overlay",
             "size": 10,
             "solidity": 0.2
            },
            "type": "scatter"
           }
          ],
          "scatter3d": [
           {
            "line": {
             "colorbar": {
              "outlinewidth": 0,
              "tickcolor": "rgb(237,237,237)",
              "ticklen": 6,
              "ticks": "inside"
             }
            },
            "marker": {
             "colorbar": {
              "outlinewidth": 0,
              "tickcolor": "rgb(237,237,237)",
              "ticklen": 6,
              "ticks": "inside"
             }
            },
            "type": "scatter3d"
           }
          ],
          "scattercarpet": [
           {
            "marker": {
             "colorbar": {
              "outlinewidth": 0,
              "tickcolor": "rgb(237,237,237)",
              "ticklen": 6,
              "ticks": "inside"
             }
            },
            "type": "scattercarpet"
           }
          ],
          "scattergeo": [
           {
            "marker": {
             "colorbar": {
              "outlinewidth": 0,
              "tickcolor": "rgb(237,237,237)",
              "ticklen": 6,
              "ticks": "inside"
             }
            },
            "type": "scattergeo"
           }
          ],
          "scattergl": [
           {
            "marker": {
             "colorbar": {
              "outlinewidth": 0,
              "tickcolor": "rgb(237,237,237)",
              "ticklen": 6,
              "ticks": "inside"
             }
            },
            "type": "scattergl"
           }
          ],
          "scattermapbox": [
           {
            "marker": {
             "colorbar": {
              "outlinewidth": 0,
              "tickcolor": "rgb(237,237,237)",
              "ticklen": 6,
              "ticks": "inside"
             }
            },
            "type": "scattermapbox"
           }
          ],
          "scatterpolar": [
           {
            "marker": {
             "colorbar": {
              "outlinewidth": 0,
              "tickcolor": "rgb(237,237,237)",
              "ticklen": 6,
              "ticks": "inside"
             }
            },
            "type": "scatterpolar"
           }
          ],
          "scatterpolargl": [
           {
            "marker": {
             "colorbar": {
              "outlinewidth": 0,
              "tickcolor": "rgb(237,237,237)",
              "ticklen": 6,
              "ticks": "inside"
             }
            },
            "type": "scatterpolargl"
           }
          ],
          "scatterternary": [
           {
            "marker": {
             "colorbar": {
              "outlinewidth": 0,
              "tickcolor": "rgb(237,237,237)",
              "ticklen": 6,
              "ticks": "inside"
             }
            },
            "type": "scatterternary"
           }
          ],
          "surface": [
           {
            "colorbar": {
             "outlinewidth": 0,
             "tickcolor": "rgb(237,237,237)",
             "ticklen": 6,
             "ticks": "inside"
            },
            "colorscale": [
             [
              0,
              "rgb(20,44,66)"
             ],
             [
              1,
              "rgb(90,179,244)"
             ]
            ],
            "type": "surface"
           }
          ],
          "table": [
           {
            "cells": {
             "fill": {
              "color": "rgb(237,237,237)"
             },
             "line": {
              "color": "white"
             }
            },
            "header": {
             "fill": {
              "color": "rgb(217,217,217)"
             },
             "line": {
              "color": "white"
             }
            },
            "type": "table"
           }
          ]
         },
         "layout": {
          "annotationdefaults": {
           "arrowhead": 0,
           "arrowwidth": 1
          },
          "annotations": [
           {
            "font": {
             "color": "black",
             "size": 12
            },
            "name": "created by",
            "opacity": 0.9,
            "showarrow": false,
            "text": "Created by Electrify RVA",
            "x": -0.05,
            "xref": "paper",
            "y": -0.25,
            "yref": "paper"
           }
          ],
          "autotypenumbers": "strict",
          "coloraxis": {
           "colorbar": {
            "outlinewidth": 0,
            "tickcolor": "rgb(237,237,237)",
            "ticklen": 6,
            "ticks": "inside"
           }
          },
          "colorscale": {
           "sequential": [
            [
             0,
             "rgb(20,44,66)"
            ],
            [
             1,
             "rgb(90,179,244)"
            ]
           ],
           "sequentialminus": [
            [
             0,
             "rgb(20,44,66)"
            ],
            [
             1,
             "rgb(90,179,244)"
            ]
           ]
          },
          "colorway": [
           "#007C77",
           "#1a1b41",
           "#f48668",
           "#f2bb05",
           "#E2A0FF",
           "#8acb88"
          ],
          "font": {
           "color": "rgb(51,51,51)"
          },
          "geo": {
           "bgcolor": "white",
           "lakecolor": "white",
           "landcolor": "rgb(237,237,237)",
           "showlakes": true,
           "showland": true,
           "subunitcolor": "white"
          },
          "hoverlabel": {
           "align": "left"
          },
          "hovermode": "x unified",
          "paper_bgcolor": "white",
          "plot_bgcolor": "rgb(237,237,237)",
          "polar": {
           "angularaxis": {
            "gridcolor": "white",
            "linecolor": "white",
            "showgrid": true,
            "tickcolor": "rgb(51,51,51)",
            "ticks": "outside"
           },
           "bgcolor": "rgb(237,237,237)",
           "radialaxis": {
            "gridcolor": "white",
            "linecolor": "white",
            "showgrid": true,
            "tickcolor": "rgb(51,51,51)",
            "ticks": "outside"
           }
          },
          "scene": {
           "xaxis": {
            "backgroundcolor": "rgb(237,237,237)",
            "gridcolor": "white",
            "gridwidth": 2,
            "linecolor": "white",
            "showbackground": true,
            "showgrid": true,
            "tickcolor": "rgb(51,51,51)",
            "ticks": "outside",
            "zerolinecolor": "white"
           },
           "yaxis": {
            "backgroundcolor": "rgb(237,237,237)",
            "gridcolor": "white",
            "gridwidth": 2,
            "linecolor": "white",
            "showbackground": true,
            "showgrid": true,
            "tickcolor": "rgb(51,51,51)",
            "ticks": "outside",
            "zerolinecolor": "white"
           },
           "zaxis": {
            "backgroundcolor": "rgb(237,237,237)",
            "gridcolor": "white",
            "gridwidth": 2,
            "linecolor": "white",
            "showbackground": true,
            "showgrid": true,
            "tickcolor": "rgb(51,51,51)",
            "ticks": "outside",
            "zerolinecolor": "white"
           }
          },
          "shapedefaults": {
           "fillcolor": "black",
           "line": {
            "width": 0
           },
           "opacity": 0.3
          },
          "ternary": {
           "aaxis": {
            "gridcolor": "white",
            "linecolor": "white",
            "showgrid": true,
            "tickcolor": "rgb(51,51,51)",
            "ticks": "outside"
           },
           "baxis": {
            "gridcolor": "white",
            "linecolor": "white",
            "showgrid": true,
            "tickcolor": "rgb(51,51,51)",
            "ticks": "outside"
           },
           "bgcolor": "rgb(237,237,237)",
           "caxis": {
            "gridcolor": "white",
            "linecolor": "white",
            "showgrid": true,
            "tickcolor": "rgb(51,51,51)",
            "ticks": "outside"
           }
          },
          "title": {
           "x": 0.05
          },
          "xaxis": {
           "automargin": true,
           "gridcolor": "white",
           "linecolor": "white",
           "showgrid": true,
           "tickcolor": "rgb(51,51,51)",
           "ticks": "outside",
           "title": {
            "standoff": 15
           },
           "zerolinecolor": "white"
          },
          "yaxis": {
           "automargin": true,
           "gridcolor": "white",
           "linecolor": "white",
           "showgrid": true,
           "tickcolor": "rgb(51,51,51)",
           "tickformat": ",.0f",
           "ticks": "outside",
           "title": {
            "standoff": 15
           },
           "zerolinecolor": "white"
          }
         }
        },
        "title": {
         "text": "Residential system and fuel costs"
        },
        "xaxis": {
         "anchor": "y",
         "domain": [
          0,
          1
         ],
         "title": {
          "text": ""
         }
        },
        "yaxis": {
         "anchor": "x",
         "domain": [
          0,
          1
         ],
         "tickprefix": "$",
         "title": {
          "text": "Costs"
         }
        }
       }
      }
     },
     "metadata": {},
     "output_type": "display_data"
    }
   ],
   "source": [
    "#lineplot_eia_phmsa(y=\"residential_fuel_costs_real\", x_label=\"\", y_label=\"Total cost of gas ($)\", title=\"Residential fuel costs\")\n",
    "\n",
    "costs_variables = {\n",
    "    \"residential_net_revenue_real\": \"System\", \n",
    "    \"residential_fuel_costs_real\": \"Fuel\", \n",
    "}\n",
    "\n",
    "melted = eia_phmsa[[\"year\", *[*costs_variables]]].melt(id_vars=\"year\", var_name=\"type_unformatted\", value_name=\"Costs\")\n",
    "melted[\"Cost source\"] = melted.apply(lambda r: costs_variables[r['type_unformatted']], axis=1)\n",
    "melted\n",
    "\n",
    "fig = px.area(\n",
    "    melted, x=\"year\", y=\"Costs\", title=\"Residential system and fuel costs\", color=\"Cost source\",\n",
    "    labels={ \"year\": \"\", },\n",
    "    color_discrete_sequence=[\"#1a1b41\", \"#f48668\"],\n",
    ")\n",
    "\n",
    "fig.update_traces(hovertemplate=None)\n",
    "fig.update_layout(yaxis_tickprefix = '$', hovermode='x unified')\n",
    "\n",
    "\n",
    "fig.show()\n",
    "fig.write_html(\"../docs/_includes/charts/system_and_fuel_costs.html\", include_plotlyjs=\"cdn\")"
   ]
  },
  {
   "cell_type": "code",
   "execution_count": 22,
   "metadata": {},
   "outputs": [
    {
     "data": {
      "application/vnd.plotly.v1+json": {
       "config": {
        "plotlyServerURL": "https://plot.ly"
       },
       "data": [
        {
         "fillpattern": {
          "shape": ""
         },
         "legendgroup": "System",
         "line": {
          "color": "#1a1b41"
         },
         "marker": {
          "symbol": "circle"
         },
         "mode": "lines",
         "name": "System",
         "orientation": "v",
         "showlegend": true,
         "stackgroup": "1",
         "type": "scatter",
         "x": [
          1997,
          1998,
          1999,
          2000,
          2001,
          2002,
          2003,
          2004,
          2005,
          2006,
          2007,
          2008,
          2009,
          2010,
          2011,
          2012,
          2013,
          2014,
          2015,
          2016,
          2017,
          2018,
          2019,
          2020,
          2021,
          2022
         ],
         "xaxis": "x",
         "y": [
          37.38412904950164,
          56.82820468039844,
          57.76934289948829,
          44.78749134718378,
          37.604559896122225,
          38.59706300638925,
          43.26504277353493,
          46.91379848035785,
          37.36916692085976,
          37.1645757542443,
          45.15181939358581,
          39.53365304317848,
          46.02860751917944,
          48.906752648464106,
          50.281045278252954,
          55.54216836015683,
          53.70596405999536,
          52.932157310704575,
          60.948165196326755,
          65.80563098199683,
          64.74525306085826,
          65.04766661473712,
          65.49686526862763,
          70.73637479390572,
          62.557941172155665,
          53.555977686996044
         ],
         "yaxis": "y"
        },
        {
         "fillpattern": {
          "shape": ""
         },
         "legendgroup": "Fuel",
         "line": {
          "color": "#f48668"
         },
         "marker": {
          "symbol": "circle"
         },
         "mode": "lines",
         "name": "Fuel",
         "orientation": "v",
         "showlegend": true,
         "stackgroup": "1",
         "type": "scatter",
         "x": [
          1997,
          1998,
          1999,
          2000,
          2001,
          2002,
          2003,
          2004,
          2005,
          2006,
          2007,
          2008,
          2009,
          2010,
          2011,
          2012,
          2013,
          2014,
          2015,
          2016,
          2017,
          2018,
          2019,
          2020,
          2021,
          2022
         ],
         "xaxis": "x",
         "y": [
          62.61587095049836,
          43.171795319601564,
          42.23065710051172,
          55.21250865281622,
          62.39544010387775,
          61.402936993610744,
          56.73495722646506,
          53.08620151964215,
          62.63083307914024,
          62.8354242457557,
          54.848180606414175,
          60.46634695682152,
          53.971392480820576,
          51.09324735153589,
          49.718954721747046,
          44.45783163984317,
          46.29403594000463,
          47.06784268929544,
          39.051834803673245,
          34.19436901800319,
          35.25474693914173,
          34.952333385262875,
          34.503134731372384,
          29.263625206094268,
          37.442058827844335,
          46.444022313003934
         ],
         "yaxis": "y"
        }
       ],
       "layout": {
        "annotations": [
         {
          "align": "right",
          "arrowhead": 2,
          "font": {
           "color": "white"
          },
          "showarrow": false,
          "text": "50%",
          "valign": "bottom",
          "x": 1,
          "xref": "paper",
          "y": 50
         }
        ],
        "hovermode": "x unified",
        "legend": {
         "title": {
          "text": "Cost source"
         },
         "tracegroupgap": 0
        },
        "shapes": [
         {
          "line": {
           "color": "white",
           "width": 1
          },
          "type": "line",
          "x0": 0,
          "x1": 1,
          "xref": "x domain",
          "y0": 50,
          "y1": 50,
          "yref": "y"
         }
        ],
        "showlegend": true,
        "template": {
         "data": {
          "bar": [
           {
            "error_x": {
             "color": "rgb(51,51,51)"
            },
            "error_y": {
             "color": "rgb(51,51,51)"
            },
            "marker": {
             "line": {
              "color": "rgb(237,237,237)",
              "width": 0.5
             },
             "pattern": {
              "fillmode": "overlay",
              "size": 10,
              "solidity": 0.2
             }
            },
            "type": "bar"
           }
          ],
          "barpolar": [
           {
            "marker": {
             "line": {
              "color": "rgb(237,237,237)",
              "width": 0.5
             },
             "pattern": {
              "fillmode": "overlay",
              "size": 10,
              "solidity": 0.2
             }
            },
            "type": "barpolar"
           }
          ],
          "carpet": [
           {
            "aaxis": {
             "endlinecolor": "rgb(51,51,51)",
             "gridcolor": "white",
             "linecolor": "white",
             "minorgridcolor": "white",
             "startlinecolor": "rgb(51,51,51)"
            },
            "baxis": {
             "endlinecolor": "rgb(51,51,51)",
             "gridcolor": "white",
             "linecolor": "white",
             "minorgridcolor": "white",
             "startlinecolor": "rgb(51,51,51)"
            },
            "type": "carpet"
           }
          ],
          "choropleth": [
           {
            "colorbar": {
             "outlinewidth": 0,
             "tickcolor": "rgb(237,237,237)",
             "ticklen": 6,
             "ticks": "inside"
            },
            "type": "choropleth"
           }
          ],
          "contour": [
           {
            "colorbar": {
             "outlinewidth": 0,
             "tickcolor": "rgb(237,237,237)",
             "ticklen": 6,
             "ticks": "inside"
            },
            "colorscale": [
             [
              0,
              "rgb(20,44,66)"
             ],
             [
              1,
              "rgb(90,179,244)"
             ]
            ],
            "type": "contour"
           }
          ],
          "contourcarpet": [
           {
            "colorbar": {
             "outlinewidth": 0,
             "tickcolor": "rgb(237,237,237)",
             "ticklen": 6,
             "ticks": "inside"
            },
            "type": "contourcarpet"
           }
          ],
          "heatmap": [
           {
            "colorbar": {
             "outlinewidth": 0,
             "tickcolor": "rgb(237,237,237)",
             "ticklen": 6,
             "ticks": "inside"
            },
            "colorscale": [
             [
              0,
              "rgb(20,44,66)"
             ],
             [
              1,
              "rgb(90,179,244)"
             ]
            ],
            "type": "heatmap"
           }
          ],
          "heatmapgl": [
           {
            "colorbar": {
             "outlinewidth": 0,
             "tickcolor": "rgb(237,237,237)",
             "ticklen": 6,
             "ticks": "inside"
            },
            "colorscale": [
             [
              0,
              "rgb(20,44,66)"
             ],
             [
              1,
              "rgb(90,179,244)"
             ]
            ],
            "type": "heatmapgl"
           }
          ],
          "histogram": [
           {
            "marker": {
             "pattern": {
              "fillmode": "overlay",
              "size": 10,
              "solidity": 0.2
             }
            },
            "type": "histogram"
           }
          ],
          "histogram2d": [
           {
            "colorbar": {
             "outlinewidth": 0,
             "tickcolor": "rgb(237,237,237)",
             "ticklen": 6,
             "ticks": "inside"
            },
            "colorscale": [
             [
              0,
              "rgb(20,44,66)"
             ],
             [
              1,
              "rgb(90,179,244)"
             ]
            ],
            "type": "histogram2d"
           }
          ],
          "histogram2dcontour": [
           {
            "colorbar": {
             "outlinewidth": 0,
             "tickcolor": "rgb(237,237,237)",
             "ticklen": 6,
             "ticks": "inside"
            },
            "colorscale": [
             [
              0,
              "rgb(20,44,66)"
             ],
             [
              1,
              "rgb(90,179,244)"
             ]
            ],
            "type": "histogram2dcontour"
           }
          ],
          "mesh3d": [
           {
            "colorbar": {
             "outlinewidth": 0,
             "tickcolor": "rgb(237,237,237)",
             "ticklen": 6,
             "ticks": "inside"
            },
            "type": "mesh3d"
           }
          ],
          "parcoords": [
           {
            "line": {
             "colorbar": {
              "outlinewidth": 0,
              "tickcolor": "rgb(237,237,237)",
              "ticklen": 6,
              "ticks": "inside"
             }
            },
            "type": "parcoords"
           }
          ],
          "pie": [
           {
            "automargin": true,
            "type": "pie"
           }
          ],
          "scatter": [
           {
            "fillpattern": {
             "fillmode": "overlay",
             "size": 10,
             "solidity": 0.2
            },
            "type": "scatter"
           }
          ],
          "scatter3d": [
           {
            "line": {
             "colorbar": {
              "outlinewidth": 0,
              "tickcolor": "rgb(237,237,237)",
              "ticklen": 6,
              "ticks": "inside"
             }
            },
            "marker": {
             "colorbar": {
              "outlinewidth": 0,
              "tickcolor": "rgb(237,237,237)",
              "ticklen": 6,
              "ticks": "inside"
             }
            },
            "type": "scatter3d"
           }
          ],
          "scattercarpet": [
           {
            "marker": {
             "colorbar": {
              "outlinewidth": 0,
              "tickcolor": "rgb(237,237,237)",
              "ticklen": 6,
              "ticks": "inside"
             }
            },
            "type": "scattercarpet"
           }
          ],
          "scattergeo": [
           {
            "marker": {
             "colorbar": {
              "outlinewidth": 0,
              "tickcolor": "rgb(237,237,237)",
              "ticklen": 6,
              "ticks": "inside"
             }
            },
            "type": "scattergeo"
           }
          ],
          "scattergl": [
           {
            "marker": {
             "colorbar": {
              "outlinewidth": 0,
              "tickcolor": "rgb(237,237,237)",
              "ticklen": 6,
              "ticks": "inside"
             }
            },
            "type": "scattergl"
           }
          ],
          "scattermapbox": [
           {
            "marker": {
             "colorbar": {
              "outlinewidth": 0,
              "tickcolor": "rgb(237,237,237)",
              "ticklen": 6,
              "ticks": "inside"
             }
            },
            "type": "scattermapbox"
           }
          ],
          "scatterpolar": [
           {
            "marker": {
             "colorbar": {
              "outlinewidth": 0,
              "tickcolor": "rgb(237,237,237)",
              "ticklen": 6,
              "ticks": "inside"
             }
            },
            "type": "scatterpolar"
           }
          ],
          "scatterpolargl": [
           {
            "marker": {
             "colorbar": {
              "outlinewidth": 0,
              "tickcolor": "rgb(237,237,237)",
              "ticklen": 6,
              "ticks": "inside"
             }
            },
            "type": "scatterpolargl"
           }
          ],
          "scatterternary": [
           {
            "marker": {
             "colorbar": {
              "outlinewidth": 0,
              "tickcolor": "rgb(237,237,237)",
              "ticklen": 6,
              "ticks": "inside"
             }
            },
            "type": "scatterternary"
           }
          ],
          "surface": [
           {
            "colorbar": {
             "outlinewidth": 0,
             "tickcolor": "rgb(237,237,237)",
             "ticklen": 6,
             "ticks": "inside"
            },
            "colorscale": [
             [
              0,
              "rgb(20,44,66)"
             ],
             [
              1,
              "rgb(90,179,244)"
             ]
            ],
            "type": "surface"
           }
          ],
          "table": [
           {
            "cells": {
             "fill": {
              "color": "rgb(237,237,237)"
             },
             "line": {
              "color": "white"
             }
            },
            "header": {
             "fill": {
              "color": "rgb(217,217,217)"
             },
             "line": {
              "color": "white"
             }
            },
            "type": "table"
           }
          ]
         },
         "layout": {
          "annotationdefaults": {
           "arrowhead": 0,
           "arrowwidth": 1
          },
          "annotations": [
           {
            "font": {
             "color": "black",
             "size": 12
            },
            "name": "created by",
            "opacity": 0.9,
            "showarrow": false,
            "text": "Created by Electrify RVA",
            "x": -0.05,
            "xref": "paper",
            "y": -0.25,
            "yref": "paper"
           }
          ],
          "autotypenumbers": "strict",
          "coloraxis": {
           "colorbar": {
            "outlinewidth": 0,
            "tickcolor": "rgb(237,237,237)",
            "ticklen": 6,
            "ticks": "inside"
           }
          },
          "colorscale": {
           "sequential": [
            [
             0,
             "rgb(20,44,66)"
            ],
            [
             1,
             "rgb(90,179,244)"
            ]
           ],
           "sequentialminus": [
            [
             0,
             "rgb(20,44,66)"
            ],
            [
             1,
             "rgb(90,179,244)"
            ]
           ]
          },
          "colorway": [
           "#007C77",
           "#1a1b41",
           "#f48668",
           "#f2bb05",
           "#E2A0FF",
           "#8acb88"
          ],
          "font": {
           "color": "rgb(51,51,51)"
          },
          "geo": {
           "bgcolor": "white",
           "lakecolor": "white",
           "landcolor": "rgb(237,237,237)",
           "showlakes": true,
           "showland": true,
           "subunitcolor": "white"
          },
          "hoverlabel": {
           "align": "left"
          },
          "hovermode": "x unified",
          "paper_bgcolor": "white",
          "plot_bgcolor": "rgb(237,237,237)",
          "polar": {
           "angularaxis": {
            "gridcolor": "white",
            "linecolor": "white",
            "showgrid": true,
            "tickcolor": "rgb(51,51,51)",
            "ticks": "outside"
           },
           "bgcolor": "rgb(237,237,237)",
           "radialaxis": {
            "gridcolor": "white",
            "linecolor": "white",
            "showgrid": true,
            "tickcolor": "rgb(51,51,51)",
            "ticks": "outside"
           }
          },
          "scene": {
           "xaxis": {
            "backgroundcolor": "rgb(237,237,237)",
            "gridcolor": "white",
            "gridwidth": 2,
            "linecolor": "white",
            "showbackground": true,
            "showgrid": true,
            "tickcolor": "rgb(51,51,51)",
            "ticks": "outside",
            "zerolinecolor": "white"
           },
           "yaxis": {
            "backgroundcolor": "rgb(237,237,237)",
            "gridcolor": "white",
            "gridwidth": 2,
            "linecolor": "white",
            "showbackground": true,
            "showgrid": true,
            "tickcolor": "rgb(51,51,51)",
            "ticks": "outside",
            "zerolinecolor": "white"
           },
           "zaxis": {
            "backgroundcolor": "rgb(237,237,237)",
            "gridcolor": "white",
            "gridwidth": 2,
            "linecolor": "white",
            "showbackground": true,
            "showgrid": true,
            "tickcolor": "rgb(51,51,51)",
            "ticks": "outside",
            "zerolinecolor": "white"
           }
          },
          "shapedefaults": {
           "fillcolor": "black",
           "line": {
            "width": 0
           },
           "opacity": 0.3
          },
          "ternary": {
           "aaxis": {
            "gridcolor": "white",
            "linecolor": "white",
            "showgrid": true,
            "tickcolor": "rgb(51,51,51)",
            "ticks": "outside"
           },
           "baxis": {
            "gridcolor": "white",
            "linecolor": "white",
            "showgrid": true,
            "tickcolor": "rgb(51,51,51)",
            "ticks": "outside"
           },
           "bgcolor": "rgb(237,237,237)",
           "caxis": {
            "gridcolor": "white",
            "linecolor": "white",
            "showgrid": true,
            "tickcolor": "rgb(51,51,51)",
            "ticks": "outside"
           }
          },
          "title": {
           "x": 0.05
          },
          "xaxis": {
           "automargin": true,
           "gridcolor": "white",
           "linecolor": "white",
           "showgrid": true,
           "tickcolor": "rgb(51,51,51)",
           "ticks": "outside",
           "title": {
            "standoff": 15
           },
           "zerolinecolor": "white"
          },
          "yaxis": {
           "automargin": true,
           "gridcolor": "white",
           "linecolor": "white",
           "showgrid": true,
           "tickcolor": "rgb(51,51,51)",
           "tickformat": ",.0f",
           "ticks": "outside",
           "title": {
            "standoff": 15
           },
           "zerolinecolor": "white"
          }
         }
        },
        "title": {
         "text": "Residential system and fuel costs"
        },
        "xaxis": {
         "anchor": "y",
         "domain": [
          0,
          1
         ],
         "title": {
          "text": ""
         }
        },
        "yaxis": {
         "anchor": "x",
         "domain": [
          0,
          1
         ],
         "range": [
          0,
          100
         ],
         "tickprefix": "",
         "ticksuffix": "%",
         "title": {
          "text": "Costs"
         },
         "type": "linear"
        }
       }
      }
     },
     "metadata": {},
     "output_type": "display_data"
    }
   ],
   "source": [
    "eia_phmsa['residential_net_revenue_real_percent'] = eia_phmsa['residential_net_revenue_real'] / eia_phmsa['residential_sales_revenue_dollars_real'] * 100\n",
    "eia_phmsa['residential_fuel_costs_real_percent'] = eia_phmsa['residential_fuel_costs_real'] / eia_phmsa['residential_sales_revenue_dollars_real'] * 100\n",
    "\n",
    "costs_variables = {\n",
    "    \"residential_net_revenue_real_percent\": \"System\", \n",
    "    \"residential_fuel_costs_real_percent\": \"Fuel\", \n",
    "}\n",
    "\n",
    "melted = eia_phmsa[[\"year\", *[*costs_variables]]].melt(id_vars=\"year\", var_name=\"type_unformatted\", value_name=\"Costs\")\n",
    "melted[\"Cost source\"] = melted.apply(lambda r: costs_variables[r['type_unformatted']], axis=1)\n",
    "melted\n",
    "\n",
    "fig = px.area(\n",
    "    melted, x=\"year\", y=\"Costs\", title=\"Residential system and fuel costs\", color=\"Cost source\",\n",
    "    labels={ \"year\": \"\", },\n",
    "    color_discrete_sequence=[\"#1a1b41\", \"#f48668\"],\n",
    "    #groupnorm='percent',\n",
    ")\n",
    "\n",
    "fig.add_hline(y=50, line_color=\"white\", line_width=1)\n",
    "\n",
    "fig.update_traces(hovertemplate=None)\n",
    "fig.update_layout(\n",
    "    showlegend=True,\n",
    "    #xaxis_type='category',\n",
    "    yaxis=dict(\n",
    "        type='linear',\n",
    "        range=[0, 100],\n",
    "        ticksuffix='%',\n",
    "        tickprefix='',\n",
    "    ),\n",
    "    hovermode='x unified',\n",
    ")\n",
    "fig.add_annotation(\n",
    "    text=\"50%\", x=1, y=50,\n",
    "    showarrow=False, arrowhead=2,\n",
    "    valign='bottom', align=\"right\",\n",
    "    font=dict(color='white'),\n",
    "    xref='paper',\n",
    ")\n",
    "\n",
    "fig.show()\n",
    "fig.write_html(\"../docs/_includes/charts/system_and_fuel_costs_normalized.html\", include_plotlyjs=\"cdn\")\n"
   ]
  },
  {
   "cell_type": "code",
   "execution_count": 23,
   "metadata": {},
   "outputs": [
    {
     "data": {
      "application/vnd.plotly.v1+json": {
       "config": {
        "plotlyServerURL": "https://plot.ly"
       },
       "data": [
        {
         "legendgroup": "",
         "line": {
          "color": "#1a1b41",
          "dash": "solid"
         },
         "marker": {
          "symbol": "circle"
         },
         "mode": "lines",
         "name": "",
         "orientation": "v",
         "showlegend": false,
         "type": "scatter",
         "x": [
          1997,
          1998,
          1999,
          2000,
          2001,
          2002,
          2003,
          2004,
          2005,
          2006,
          2007,
          2008,
          2009,
          2010,
          2011,
          2012,
          2013,
          2014,
          2015,
          2016,
          2017,
          2018,
          2019,
          2020,
          2021,
          2022
         ],
         "xaxis": "x",
         "y": [
          187.5011426270458,
          237.7643909285396,
          265.72906658353696,
          265.5891196034009,
          219.2335811274944,
          227.78174591645865,
          314.5170796237128,
          396.8500974713298,
          370.57721943522,
          312.98889575110377,
          430.5676817351646,
          399.8906522651472,
          422.9693164033114,
          421.0332200474326,
          369.3633143716337,
          350.3801195099935,
          404.1427562087211,
          445.3366528972376,
          454.0596405647069,
          439.5087851029775,
          484.7859281200752,
          555.2443306554835,
          510.4062871937264,
          518.7614231578474,
          519.2261306564444,
          572.5269168812904
         ],
         "yaxis": "y"
        },
        {
         "hoverinfo": "skip",
         "marker": {
          "color": "#df2935",
          "size": 7.5
         },
         "mode": "markers",
         "showlegend": false,
         "type": "scatter",
         "x": [
          2022
         ],
         "y": [
          572.5269168812904
         ]
        }
       ],
       "layout": {
        "annotations": [
         {
          "arrowhead": 2,
          "font": {
           "color": "#df2935"
          },
          "showarrow": false,
          "text": "$573",
          "x": 2022,
          "y": 575,
          "yshift": 11
         }
        ],
        "hovermode": "x unified",
        "legend": {
         "tracegroupgap": 0
        },
        "template": {
         "data": {
          "bar": [
           {
            "error_x": {
             "color": "rgb(51,51,51)"
            },
            "error_y": {
             "color": "rgb(51,51,51)"
            },
            "marker": {
             "line": {
              "color": "rgb(237,237,237)",
              "width": 0.5
             },
             "pattern": {
              "fillmode": "overlay",
              "size": 10,
              "solidity": 0.2
             }
            },
            "type": "bar"
           }
          ],
          "barpolar": [
           {
            "marker": {
             "line": {
              "color": "rgb(237,237,237)",
              "width": 0.5
             },
             "pattern": {
              "fillmode": "overlay",
              "size": 10,
              "solidity": 0.2
             }
            },
            "type": "barpolar"
           }
          ],
          "carpet": [
           {
            "aaxis": {
             "endlinecolor": "rgb(51,51,51)",
             "gridcolor": "white",
             "linecolor": "white",
             "minorgridcolor": "white",
             "startlinecolor": "rgb(51,51,51)"
            },
            "baxis": {
             "endlinecolor": "rgb(51,51,51)",
             "gridcolor": "white",
             "linecolor": "white",
             "minorgridcolor": "white",
             "startlinecolor": "rgb(51,51,51)"
            },
            "type": "carpet"
           }
          ],
          "choropleth": [
           {
            "colorbar": {
             "outlinewidth": 0,
             "tickcolor": "rgb(237,237,237)",
             "ticklen": 6,
             "ticks": "inside"
            },
            "type": "choropleth"
           }
          ],
          "contour": [
           {
            "colorbar": {
             "outlinewidth": 0,
             "tickcolor": "rgb(237,237,237)",
             "ticklen": 6,
             "ticks": "inside"
            },
            "colorscale": [
             [
              0,
              "rgb(20,44,66)"
             ],
             [
              1,
              "rgb(90,179,244)"
             ]
            ],
            "type": "contour"
           }
          ],
          "contourcarpet": [
           {
            "colorbar": {
             "outlinewidth": 0,
             "tickcolor": "rgb(237,237,237)",
             "ticklen": 6,
             "ticks": "inside"
            },
            "type": "contourcarpet"
           }
          ],
          "heatmap": [
           {
            "colorbar": {
             "outlinewidth": 0,
             "tickcolor": "rgb(237,237,237)",
             "ticklen": 6,
             "ticks": "inside"
            },
            "colorscale": [
             [
              0,
              "rgb(20,44,66)"
             ],
             [
              1,
              "rgb(90,179,244)"
             ]
            ],
            "type": "heatmap"
           }
          ],
          "heatmapgl": [
           {
            "colorbar": {
             "outlinewidth": 0,
             "tickcolor": "rgb(237,237,237)",
             "ticklen": 6,
             "ticks": "inside"
            },
            "colorscale": [
             [
              0,
              "rgb(20,44,66)"
             ],
             [
              1,
              "rgb(90,179,244)"
             ]
            ],
            "type": "heatmapgl"
           }
          ],
          "histogram": [
           {
            "marker": {
             "pattern": {
              "fillmode": "overlay",
              "size": 10,
              "solidity": 0.2
             }
            },
            "type": "histogram"
           }
          ],
          "histogram2d": [
           {
            "colorbar": {
             "outlinewidth": 0,
             "tickcolor": "rgb(237,237,237)",
             "ticklen": 6,
             "ticks": "inside"
            },
            "colorscale": [
             [
              0,
              "rgb(20,44,66)"
             ],
             [
              1,
              "rgb(90,179,244)"
             ]
            ],
            "type": "histogram2d"
           }
          ],
          "histogram2dcontour": [
           {
            "colorbar": {
             "outlinewidth": 0,
             "tickcolor": "rgb(237,237,237)",
             "ticklen": 6,
             "ticks": "inside"
            },
            "colorscale": [
             [
              0,
              "rgb(20,44,66)"
             ],
             [
              1,
              "rgb(90,179,244)"
             ]
            ],
            "type": "histogram2dcontour"
           }
          ],
          "mesh3d": [
           {
            "colorbar": {
             "outlinewidth": 0,
             "tickcolor": "rgb(237,237,237)",
             "ticklen": 6,
             "ticks": "inside"
            },
            "type": "mesh3d"
           }
          ],
          "parcoords": [
           {
            "line": {
             "colorbar": {
              "outlinewidth": 0,
              "tickcolor": "rgb(237,237,237)",
              "ticklen": 6,
              "ticks": "inside"
             }
            },
            "type": "parcoords"
           }
          ],
          "pie": [
           {
            "automargin": true,
            "type": "pie"
           }
          ],
          "scatter": [
           {
            "fillpattern": {
             "fillmode": "overlay",
             "size": 10,
             "solidity": 0.2
            },
            "type": "scatter"
           }
          ],
          "scatter3d": [
           {
            "line": {
             "colorbar": {
              "outlinewidth": 0,
              "tickcolor": "rgb(237,237,237)",
              "ticklen": 6,
              "ticks": "inside"
             }
            },
            "marker": {
             "colorbar": {
              "outlinewidth": 0,
              "tickcolor": "rgb(237,237,237)",
              "ticklen": 6,
              "ticks": "inside"
             }
            },
            "type": "scatter3d"
           }
          ],
          "scattercarpet": [
           {
            "marker": {
             "colorbar": {
              "outlinewidth": 0,
              "tickcolor": "rgb(237,237,237)",
              "ticklen": 6,
              "ticks": "inside"
             }
            },
            "type": "scattercarpet"
           }
          ],
          "scattergeo": [
           {
            "marker": {
             "colorbar": {
              "outlinewidth": 0,
              "tickcolor": "rgb(237,237,237)",
              "ticklen": 6,
              "ticks": "inside"
             }
            },
            "type": "scattergeo"
           }
          ],
          "scattergl": [
           {
            "marker": {
             "colorbar": {
              "outlinewidth": 0,
              "tickcolor": "rgb(237,237,237)",
              "ticklen": 6,
              "ticks": "inside"
             }
            },
            "type": "scattergl"
           }
          ],
          "scattermapbox": [
           {
            "marker": {
             "colorbar": {
              "outlinewidth": 0,
              "tickcolor": "rgb(237,237,237)",
              "ticklen": 6,
              "ticks": "inside"
             }
            },
            "type": "scattermapbox"
           }
          ],
          "scatterpolar": [
           {
            "marker": {
             "colorbar": {
              "outlinewidth": 0,
              "tickcolor": "rgb(237,237,237)",
              "ticklen": 6,
              "ticks": "inside"
             }
            },
            "type": "scatterpolar"
           }
          ],
          "scatterpolargl": [
           {
            "marker": {
             "colorbar": {
              "outlinewidth": 0,
              "tickcolor": "rgb(237,237,237)",
              "ticklen": 6,
              "ticks": "inside"
             }
            },
            "type": "scatterpolargl"
           }
          ],
          "scatterternary": [
           {
            "marker": {
             "colorbar": {
              "outlinewidth": 0,
              "tickcolor": "rgb(237,237,237)",
              "ticklen": 6,
              "ticks": "inside"
             }
            },
            "type": "scatterternary"
           }
          ],
          "surface": [
           {
            "colorbar": {
             "outlinewidth": 0,
             "tickcolor": "rgb(237,237,237)",
             "ticklen": 6,
             "ticks": "inside"
            },
            "colorscale": [
             [
              0,
              "rgb(20,44,66)"
             ],
             [
              1,
              "rgb(90,179,244)"
             ]
            ],
            "type": "surface"
           }
          ],
          "table": [
           {
            "cells": {
             "fill": {
              "color": "rgb(237,237,237)"
             },
             "line": {
              "color": "white"
             }
            },
            "header": {
             "fill": {
              "color": "rgb(217,217,217)"
             },
             "line": {
              "color": "white"
             }
            },
            "type": "table"
           }
          ]
         },
         "layout": {
          "annotationdefaults": {
           "arrowhead": 0,
           "arrowwidth": 1
          },
          "annotations": [
           {
            "font": {
             "color": "black",
             "size": 12
            },
            "name": "created by",
            "opacity": 0.9,
            "showarrow": false,
            "text": "Created by Electrify RVA",
            "x": -0.05,
            "xref": "paper",
            "y": -0.25,
            "yref": "paper"
           }
          ],
          "autotypenumbers": "strict",
          "coloraxis": {
           "colorbar": {
            "outlinewidth": 0,
            "tickcolor": "rgb(237,237,237)",
            "ticklen": 6,
            "ticks": "inside"
           }
          },
          "colorscale": {
           "sequential": [
            [
             0,
             "rgb(20,44,66)"
            ],
            [
             1,
             "rgb(90,179,244)"
            ]
           ],
           "sequentialminus": [
            [
             0,
             "rgb(20,44,66)"
            ],
            [
             1,
             "rgb(90,179,244)"
            ]
           ]
          },
          "colorway": [
           "#007C77",
           "#1a1b41",
           "#f48668",
           "#f2bb05",
           "#E2A0FF",
           "#8acb88"
          ],
          "font": {
           "color": "rgb(51,51,51)"
          },
          "geo": {
           "bgcolor": "white",
           "lakecolor": "white",
           "landcolor": "rgb(237,237,237)",
           "showlakes": true,
           "showland": true,
           "subunitcolor": "white"
          },
          "hoverlabel": {
           "align": "left"
          },
          "hovermode": "x unified",
          "paper_bgcolor": "white",
          "plot_bgcolor": "rgb(237,237,237)",
          "polar": {
           "angularaxis": {
            "gridcolor": "white",
            "linecolor": "white",
            "showgrid": true,
            "tickcolor": "rgb(51,51,51)",
            "ticks": "outside"
           },
           "bgcolor": "rgb(237,237,237)",
           "radialaxis": {
            "gridcolor": "white",
            "linecolor": "white",
            "showgrid": true,
            "tickcolor": "rgb(51,51,51)",
            "ticks": "outside"
           }
          },
          "scene": {
           "xaxis": {
            "backgroundcolor": "rgb(237,237,237)",
            "gridcolor": "white",
            "gridwidth": 2,
            "linecolor": "white",
            "showbackground": true,
            "showgrid": true,
            "tickcolor": "rgb(51,51,51)",
            "ticks": "outside",
            "zerolinecolor": "white"
           },
           "yaxis": {
            "backgroundcolor": "rgb(237,237,237)",
            "gridcolor": "white",
            "gridwidth": 2,
            "linecolor": "white",
            "showbackground": true,
            "showgrid": true,
            "tickcolor": "rgb(51,51,51)",
            "ticks": "outside",
            "zerolinecolor": "white"
           },
           "zaxis": {
            "backgroundcolor": "rgb(237,237,237)",
            "gridcolor": "white",
            "gridwidth": 2,
            "linecolor": "white",
            "showbackground": true,
            "showgrid": true,
            "tickcolor": "rgb(51,51,51)",
            "ticks": "outside",
            "zerolinecolor": "white"
           }
          },
          "shapedefaults": {
           "fillcolor": "black",
           "line": {
            "width": 0
           },
           "opacity": 0.3
          },
          "ternary": {
           "aaxis": {
            "gridcolor": "white",
            "linecolor": "white",
            "showgrid": true,
            "tickcolor": "rgb(51,51,51)",
            "ticks": "outside"
           },
           "baxis": {
            "gridcolor": "white",
            "linecolor": "white",
            "showgrid": true,
            "tickcolor": "rgb(51,51,51)",
            "ticks": "outside"
           },
           "bgcolor": "rgb(237,237,237)",
           "caxis": {
            "gridcolor": "white",
            "linecolor": "white",
            "showgrid": true,
            "tickcolor": "rgb(51,51,51)",
            "ticks": "outside"
           }
          },
          "title": {
           "x": 0.05
          },
          "xaxis": {
           "automargin": true,
           "gridcolor": "white",
           "linecolor": "white",
           "showgrid": true,
           "tickcolor": "rgb(51,51,51)",
           "ticks": "outside",
           "title": {
            "standoff": 15
           },
           "zerolinecolor": "white"
          },
          "yaxis": {
           "automargin": true,
           "gridcolor": "white",
           "linecolor": "white",
           "showgrid": true,
           "tickcolor": "rgb(51,51,51)",
           "tickformat": ",.0f",
           "ticks": "outside",
           "title": {
            "standoff": 15
           },
           "zerolinecolor": "white"
          }
         }
        },
        "title": {
         "text": "Residential annual system costs per customer"
        },
        "xaxis": {
         "anchor": "y",
         "domain": [
          0,
          1
         ],
         "title": {
          "text": ""
         }
        },
        "yaxis": {
         "anchor": "x",
         "domain": [
          0,
          1
         ],
         "tickprefix": "$",
         "title": {
          "text": "Annual system costs"
         }
        }
       }
      }
     },
     "metadata": {},
     "output_type": "display_data"
    }
   ],
   "source": [
    "# lineplot_eia_phmsa(y=\"residential_net_revenue_real_per_customer\", x_label=\"\", y_label=\"$ per Customer\", title=\"Residential system costs per customer\")\n",
    "\n",
    "fig = px.line(\n",
    "    eia_phmsa, \n",
    "    x=\"year\", y=\"residential_net_revenue_real_per_customer\", \n",
    "    title='Residential annual system costs per customer',\n",
    "    labels={ \"year\": \"\", \"residential_net_revenue_real_per_customer\": \"Annual system costs\", },\n",
    "    color_discrete_sequence=[\"#1a1b41\", \"#f48668\"],\n",
    "\n",
    ")\n",
    "fig.add_trace(go.Scatter(\n",
    "    x=[eia_phmsa['year'].iloc[-1]],\n",
    "    y=[eia_phmsa['residential_net_revenue_real_per_customer'].iloc[-1]],\n",
    "    mode='markers',\n",
    "    marker=dict(color=HIGHLIGHT_COLOR, size=7.5),\n",
    "    showlegend=False,\n",
    "    hoverinfo='skip',\n",
    "))\n",
    "\n",
    "fig.update_traces(hovertemplate=None)\n",
    "fig.update_layout(yaxis_tickprefix = '$', hovermode='x unified',)\n",
    "fig.add_annotation(\n",
    "    text=\"$573\", x=2022, y=575,\n",
    "    showarrow=False, arrowhead=2,\n",
    "    yshift=11,\n",
    "    font=dict(color=HIGHLIGHT_COLOR),\n",
    ")\n",
    "\n",
    "fig.show()\n",
    "fig.write_html(\"../docs/_includes/charts/residential_net_revenue_real_per_customer.html\", include_plotlyjs=\"cdn\")"
   ]
  },
  {
   "cell_type": "code",
   "execution_count": 24,
   "metadata": {},
   "outputs": [
    {
     "data": {
      "application/vnd.plotly.v1+json": {
       "config": {
        "plotlyServerURL": "https://plot.ly"
       },
       "data": [
        {
         "legendgroup": "",
         "line": {
          "color": "#007C77",
          "dash": "solid"
         },
         "marker": {
          "symbol": "circle"
         },
         "mode": "lines",
         "name": "",
         "orientation": "v",
         "showlegend": false,
         "type": "scatter",
         "x": [
          1997,
          1998,
          1999,
          2000,
          2001,
          2002,
          2003,
          2004,
          2005,
          2006,
          2007,
          2008,
          2009,
          2010,
          2011,
          2012,
          2013,
          2014,
          2015,
          2016,
          2017,
          2018,
          2019,
          2020,
          2021,
          2022
         ],
         "xaxis": "x",
         "y": [
          39218920.4897828,
          33077615.399142,
          37499181.413194805,
          48347754.828528605,
          49059225.53764831,
          51533344.9429155,
          63479101.5246647,
          76363984.28519139,
          90780055.3076334,
          78813634.28889999,
          91093579.2130588,
          98208438.7345086,
          90715557.5554176,
          83990986.5673277,
          72483472.4311638,
          62742971.1791064,
          75606185.8538512,
          85095965.68347129,
          75493878.3282645,
          68152094.6937846,
          74524734.912017,
          89866595.02735421,
          83074742,
          79425021.50146718,
          91104111.1066359,
          118537794.272925
         ],
         "yaxis": "y"
        },
        {
         "hoverinfo": "skip",
         "marker": {
          "color": "#df2935",
          "size": 7.5
         },
         "mode": "markers",
         "showlegend": false,
         "type": "scatter",
         "x": [
          2022
         ],
         "y": [
          118537794.272925
         ]
        }
       ],
       "layout": {
        "annotations": [
         {
          "arrowhead": 2,
          "font": {
           "color": "#df2935"
          },
          "showarrow": false,
          "text": "$118.5M",
          "x": 2022,
          "y": 118537794,
          "yshift": 11
         }
        ],
        "hovermode": "x unified",
        "legend": {
         "tracegroupgap": 0
        },
        "template": {
         "data": {
          "bar": [
           {
            "error_x": {
             "color": "rgb(51,51,51)"
            },
            "error_y": {
             "color": "rgb(51,51,51)"
            },
            "marker": {
             "line": {
              "color": "rgb(237,237,237)",
              "width": 0.5
             },
             "pattern": {
              "fillmode": "overlay",
              "size": 10,
              "solidity": 0.2
             }
            },
            "type": "bar"
           }
          ],
          "barpolar": [
           {
            "marker": {
             "line": {
              "color": "rgb(237,237,237)",
              "width": 0.5
             },
             "pattern": {
              "fillmode": "overlay",
              "size": 10,
              "solidity": 0.2
             }
            },
            "type": "barpolar"
           }
          ],
          "carpet": [
           {
            "aaxis": {
             "endlinecolor": "rgb(51,51,51)",
             "gridcolor": "white",
             "linecolor": "white",
             "minorgridcolor": "white",
             "startlinecolor": "rgb(51,51,51)"
            },
            "baxis": {
             "endlinecolor": "rgb(51,51,51)",
             "gridcolor": "white",
             "linecolor": "white",
             "minorgridcolor": "white",
             "startlinecolor": "rgb(51,51,51)"
            },
            "type": "carpet"
           }
          ],
          "choropleth": [
           {
            "colorbar": {
             "outlinewidth": 0,
             "tickcolor": "rgb(237,237,237)",
             "ticklen": 6,
             "ticks": "inside"
            },
            "type": "choropleth"
           }
          ],
          "contour": [
           {
            "colorbar": {
             "outlinewidth": 0,
             "tickcolor": "rgb(237,237,237)",
             "ticklen": 6,
             "ticks": "inside"
            },
            "colorscale": [
             [
              0,
              "rgb(20,44,66)"
             ],
             [
              1,
              "rgb(90,179,244)"
             ]
            ],
            "type": "contour"
           }
          ],
          "contourcarpet": [
           {
            "colorbar": {
             "outlinewidth": 0,
             "tickcolor": "rgb(237,237,237)",
             "ticklen": 6,
             "ticks": "inside"
            },
            "type": "contourcarpet"
           }
          ],
          "heatmap": [
           {
            "colorbar": {
             "outlinewidth": 0,
             "tickcolor": "rgb(237,237,237)",
             "ticklen": 6,
             "ticks": "inside"
            },
            "colorscale": [
             [
              0,
              "rgb(20,44,66)"
             ],
             [
              1,
              "rgb(90,179,244)"
             ]
            ],
            "type": "heatmap"
           }
          ],
          "heatmapgl": [
           {
            "colorbar": {
             "outlinewidth": 0,
             "tickcolor": "rgb(237,237,237)",
             "ticklen": 6,
             "ticks": "inside"
            },
            "colorscale": [
             [
              0,
              "rgb(20,44,66)"
             ],
             [
              1,
              "rgb(90,179,244)"
             ]
            ],
            "type": "heatmapgl"
           }
          ],
          "histogram": [
           {
            "marker": {
             "pattern": {
              "fillmode": "overlay",
              "size": 10,
              "solidity": 0.2
             }
            },
            "type": "histogram"
           }
          ],
          "histogram2d": [
           {
            "colorbar": {
             "outlinewidth": 0,
             "tickcolor": "rgb(237,237,237)",
             "ticklen": 6,
             "ticks": "inside"
            },
            "colorscale": [
             [
              0,
              "rgb(20,44,66)"
             ],
             [
              1,
              "rgb(90,179,244)"
             ]
            ],
            "type": "histogram2d"
           }
          ],
          "histogram2dcontour": [
           {
            "colorbar": {
             "outlinewidth": 0,
             "tickcolor": "rgb(237,237,237)",
             "ticklen": 6,
             "ticks": "inside"
            },
            "colorscale": [
             [
              0,
              "rgb(20,44,66)"
             ],
             [
              1,
              "rgb(90,179,244)"
             ]
            ],
            "type": "histogram2dcontour"
           }
          ],
          "mesh3d": [
           {
            "colorbar": {
             "outlinewidth": 0,
             "tickcolor": "rgb(237,237,237)",
             "ticklen": 6,
             "ticks": "inside"
            },
            "type": "mesh3d"
           }
          ],
          "parcoords": [
           {
            "line": {
             "colorbar": {
              "outlinewidth": 0,
              "tickcolor": "rgb(237,237,237)",
              "ticklen": 6,
              "ticks": "inside"
             }
            },
            "type": "parcoords"
           }
          ],
          "pie": [
           {
            "automargin": true,
            "type": "pie"
           }
          ],
          "scatter": [
           {
            "fillpattern": {
             "fillmode": "overlay",
             "size": 10,
             "solidity": 0.2
            },
            "type": "scatter"
           }
          ],
          "scatter3d": [
           {
            "line": {
             "colorbar": {
              "outlinewidth": 0,
              "tickcolor": "rgb(237,237,237)",
              "ticklen": 6,
              "ticks": "inside"
             }
            },
            "marker": {
             "colorbar": {
              "outlinewidth": 0,
              "tickcolor": "rgb(237,237,237)",
              "ticklen": 6,
              "ticks": "inside"
             }
            },
            "type": "scatter3d"
           }
          ],
          "scattercarpet": [
           {
            "marker": {
             "colorbar": {
              "outlinewidth": 0,
              "tickcolor": "rgb(237,237,237)",
              "ticklen": 6,
              "ticks": "inside"
             }
            },
            "type": "scattercarpet"
           }
          ],
          "scattergeo": [
           {
            "marker": {
             "colorbar": {
              "outlinewidth": 0,
              "tickcolor": "rgb(237,237,237)",
              "ticklen": 6,
              "ticks": "inside"
             }
            },
            "type": "scattergeo"
           }
          ],
          "scattergl": [
           {
            "marker": {
             "colorbar": {
              "outlinewidth": 0,
              "tickcolor": "rgb(237,237,237)",
              "ticklen": 6,
              "ticks": "inside"
             }
            },
            "type": "scattergl"
           }
          ],
          "scattermapbox": [
           {
            "marker": {
             "colorbar": {
              "outlinewidth": 0,
              "tickcolor": "rgb(237,237,237)",
              "ticklen": 6,
              "ticks": "inside"
             }
            },
            "type": "scattermapbox"
           }
          ],
          "scatterpolar": [
           {
            "marker": {
             "colorbar": {
              "outlinewidth": 0,
              "tickcolor": "rgb(237,237,237)",
              "ticklen": 6,
              "ticks": "inside"
             }
            },
            "type": "scatterpolar"
           }
          ],
          "scatterpolargl": [
           {
            "marker": {
             "colorbar": {
              "outlinewidth": 0,
              "tickcolor": "rgb(237,237,237)",
              "ticklen": 6,
              "ticks": "inside"
             }
            },
            "type": "scatterpolargl"
           }
          ],
          "scatterternary": [
           {
            "marker": {
             "colorbar": {
              "outlinewidth": 0,
              "tickcolor": "rgb(237,237,237)",
              "ticklen": 6,
              "ticks": "inside"
             }
            },
            "type": "scatterternary"
           }
          ],
          "surface": [
           {
            "colorbar": {
             "outlinewidth": 0,
             "tickcolor": "rgb(237,237,237)",
             "ticklen": 6,
             "ticks": "inside"
            },
            "colorscale": [
             [
              0,
              "rgb(20,44,66)"
             ],
             [
              1,
              "rgb(90,179,244)"
             ]
            ],
            "type": "surface"
           }
          ],
          "table": [
           {
            "cells": {
             "fill": {
              "color": "rgb(237,237,237)"
             },
             "line": {
              "color": "white"
             }
            },
            "header": {
             "fill": {
              "color": "rgb(217,217,217)"
             },
             "line": {
              "color": "white"
             }
            },
            "type": "table"
           }
          ]
         },
         "layout": {
          "annotationdefaults": {
           "arrowhead": 0,
           "arrowwidth": 1
          },
          "annotations": [
           {
            "font": {
             "color": "black",
             "size": 12
            },
            "name": "created by",
            "opacity": 0.9,
            "showarrow": false,
            "text": "Created by Electrify RVA",
            "x": -0.05,
            "xref": "paper",
            "y": -0.25,
            "yref": "paper"
           }
          ],
          "autotypenumbers": "strict",
          "coloraxis": {
           "colorbar": {
            "outlinewidth": 0,
            "tickcolor": "rgb(237,237,237)",
            "ticklen": 6,
            "ticks": "inside"
           }
          },
          "colorscale": {
           "sequential": [
            [
             0,
             "rgb(20,44,66)"
            ],
            [
             1,
             "rgb(90,179,244)"
            ]
           ],
           "sequentialminus": [
            [
             0,
             "rgb(20,44,66)"
            ],
            [
             1,
             "rgb(90,179,244)"
            ]
           ]
          },
          "colorway": [
           "#007C77",
           "#1a1b41",
           "#f48668",
           "#f2bb05",
           "#E2A0FF",
           "#8acb88"
          ],
          "font": {
           "color": "rgb(51,51,51)"
          },
          "geo": {
           "bgcolor": "white",
           "lakecolor": "white",
           "landcolor": "rgb(237,237,237)",
           "showlakes": true,
           "showland": true,
           "subunitcolor": "white"
          },
          "hoverlabel": {
           "align": "left"
          },
          "hovermode": "x unified",
          "paper_bgcolor": "white",
          "plot_bgcolor": "rgb(237,237,237)",
          "polar": {
           "angularaxis": {
            "gridcolor": "white",
            "linecolor": "white",
            "showgrid": true,
            "tickcolor": "rgb(51,51,51)",
            "ticks": "outside"
           },
           "bgcolor": "rgb(237,237,237)",
           "radialaxis": {
            "gridcolor": "white",
            "linecolor": "white",
            "showgrid": true,
            "tickcolor": "rgb(51,51,51)",
            "ticks": "outside"
           }
          },
          "scene": {
           "xaxis": {
            "backgroundcolor": "rgb(237,237,237)",
            "gridcolor": "white",
            "gridwidth": 2,
            "linecolor": "white",
            "showbackground": true,
            "showgrid": true,
            "tickcolor": "rgb(51,51,51)",
            "ticks": "outside",
            "zerolinecolor": "white"
           },
           "yaxis": {
            "backgroundcolor": "rgb(237,237,237)",
            "gridcolor": "white",
            "gridwidth": 2,
            "linecolor": "white",
            "showbackground": true,
            "showgrid": true,
            "tickcolor": "rgb(51,51,51)",
            "ticks": "outside",
            "zerolinecolor": "white"
           },
           "zaxis": {
            "backgroundcolor": "rgb(237,237,237)",
            "gridcolor": "white",
            "gridwidth": 2,
            "linecolor": "white",
            "showbackground": true,
            "showgrid": true,
            "tickcolor": "rgb(51,51,51)",
            "ticks": "outside",
            "zerolinecolor": "white"
           }
          },
          "shapedefaults": {
           "fillcolor": "black",
           "line": {
            "width": 0
           },
           "opacity": 0.3
          },
          "ternary": {
           "aaxis": {
            "gridcolor": "white",
            "linecolor": "white",
            "showgrid": true,
            "tickcolor": "rgb(51,51,51)",
            "ticks": "outside"
           },
           "baxis": {
            "gridcolor": "white",
            "linecolor": "white",
            "showgrid": true,
            "tickcolor": "rgb(51,51,51)",
            "ticks": "outside"
           },
           "bgcolor": "rgb(237,237,237)",
           "caxis": {
            "gridcolor": "white",
            "linecolor": "white",
            "showgrid": true,
            "tickcolor": "rgb(51,51,51)",
            "ticks": "outside"
           }
          },
          "title": {
           "x": 0.05
          },
          "xaxis": {
           "automargin": true,
           "gridcolor": "white",
           "linecolor": "white",
           "showgrid": true,
           "tickcolor": "rgb(51,51,51)",
           "ticks": "outside",
           "title": {
            "standoff": 15
           },
           "zerolinecolor": "white"
          },
          "yaxis": {
           "automargin": true,
           "gridcolor": "white",
           "linecolor": "white",
           "showgrid": true,
           "tickcolor": "rgb(51,51,51)",
           "tickformat": ",.0f",
           "ticks": "outside",
           "title": {
            "standoff": 15
           },
           "zerolinecolor": "white"
          }
         }
        },
        "title": {
         "text": "Residential total sales revenue"
        },
        "xaxis": {
         "anchor": "y",
         "domain": [
          0,
          1
         ],
         "title": {
          "text": ""
         }
        },
        "yaxis": {
         "anchor": "x",
         "domain": [
          0,
          1
         ],
         "tickprefix": "$",
         "title": {
          "text": "Total sales revenue (2019$)"
         }
        }
       }
      }
     },
     "metadata": {},
     "output_type": "display_data"
    }
   ],
   "source": [
    "#lineplot_eia_phmsa(y=\"residential_sales_revenue_dollars_real\", x_label=\"\", y_label=\"Sales revenue\", title=\"Residential sales revenue\")\n",
    "\n",
    "fig = px.line(\n",
    "    eia_phmsa, \n",
    "    x=\"year\", y=\"residential_sales_revenue_dollars_real\", \n",
    "    title='Residential total sales revenue',\n",
    "    labels={ \"year\": \"\", \"residential_sales_revenue_dollars_real\": \"Total sales revenue (2019$)\", },\n",
    "    #color_discrete_sequence=[\"#1a1b41\", \"#f48668\"],\n",
    "\n",
    ")\n",
    "fig.add_trace(go.Scatter(\n",
    "    x=[eia_phmsa['year'].iloc[-1]],\n",
    "    y=[eia_phmsa['residential_sales_revenue_dollars_real'].iloc[-1]],\n",
    "    mode='markers',\n",
    "    marker=dict(color=HIGHLIGHT_COLOR, size=7.5),\n",
    "    showlegend=False,\n",
    "    hoverinfo='skip',\n",
    "))\n",
    "\n",
    "fig.update_traces(hovertemplate=None)\n",
    "fig.update_layout(yaxis_tickprefix = '$', hovermode='x unified',)\n",
    "fig.add_annotation(\n",
    "         text=\"$118.5M\", x=2022, y=118537794,\n",
    "         showarrow=False, arrowhead=2,\n",
    "         yshift=11,\n",
    "         font=dict(color=HIGHLIGHT_COLOR),\n",
    ")\n",
    "\n",
    "fig.show()\n",
    "fig.write_html(\"../docs/_includes/charts/residential_sales_revenue_dollars_real.html\", include_plotlyjs=\"cdn\")"
   ]
  },
  {
   "cell_type": "code",
   "execution_count": 28,
   "metadata": {},
   "outputs": [
    {
     "data": {
      "application/vnd.plotly.v1+json": {
       "config": {
        "plotlyServerURL": "https://plot.ly"
       },
       "data": [
        {
         "legendgroup": "",
         "line": {
          "color": "#1a1b41",
          "dash": "solid"
         },
         "marker": {
          "symbol": "circle"
         },
         "mode": "lines",
         "name": "",
         "orientation": "v",
         "showlegend": false,
         "type": "scatter",
         "x": [
          1997,
          1998,
          1999,
          2000,
          2001,
          2002,
          2003,
          2004,
          2005,
          2006,
          2007,
          2008,
          2009,
          2010,
          2011,
          2012,
          2013,
          2014,
          2015,
          2016,
          2017,
          2018,
          2019,
          2020,
          2021,
          2022
         ],
         "xaxis": "x",
         "y": [
          501.5527909685121,
          418.3915227759268,
          459.98284426719823,
          592.99842794187,
          582.9973325923744,
          590.153053559418,
          726.9542787002669,
          845.9133779957839,
          991.6657232954284,
          842.1699680383399,
          953.5998493924042,
          1011.5196079360244,
          918.9270308189672,
          860.8897488528202,
          734.59752542453,
          630.8362274191272,
          752.5100112852456,
          841.3347868728871,
          744.9931250630532,
          667.8893257983026,
          748.7590289660207,
          853.596077387483,
          779.2835353270046,
          733.3729282413569,
          829.9923573692516,
          1069.0252360387883
         ],
         "yaxis": "y"
        },
        {
         "hoverinfo": "skip",
         "marker": {
          "color": "#df2935",
          "size": 7.5
         },
         "mode": "markers",
         "showlegend": false,
         "type": "scatter",
         "x": [
          2022
         ],
         "y": [
          1069.0252360387883
         ]
        }
       ],
       "layout": {
        "annotations": [
         {
          "arrowhead": 2,
          "font": {
           "color": "#df2935"
          },
          "showarrow": false,
          "text": "$1,069",
          "x": 2022,
          "y": 1069,
          "yshift": 11
         }
        ],
        "hovermode": "x unified",
        "legend": {
         "tracegroupgap": 0
        },
        "template": {
         "data": {
          "bar": [
           {
            "error_x": {
             "color": "rgb(51,51,51)"
            },
            "error_y": {
             "color": "rgb(51,51,51)"
            },
            "marker": {
             "line": {
              "color": "rgb(237,237,237)",
              "width": 0.5
             },
             "pattern": {
              "fillmode": "overlay",
              "size": 10,
              "solidity": 0.2
             }
            },
            "type": "bar"
           }
          ],
          "barpolar": [
           {
            "marker": {
             "line": {
              "color": "rgb(237,237,237)",
              "width": 0.5
             },
             "pattern": {
              "fillmode": "overlay",
              "size": 10,
              "solidity": 0.2
             }
            },
            "type": "barpolar"
           }
          ],
          "carpet": [
           {
            "aaxis": {
             "endlinecolor": "rgb(51,51,51)",
             "gridcolor": "white",
             "linecolor": "white",
             "minorgridcolor": "white",
             "startlinecolor": "rgb(51,51,51)"
            },
            "baxis": {
             "endlinecolor": "rgb(51,51,51)",
             "gridcolor": "white",
             "linecolor": "white",
             "minorgridcolor": "white",
             "startlinecolor": "rgb(51,51,51)"
            },
            "type": "carpet"
           }
          ],
          "choropleth": [
           {
            "colorbar": {
             "outlinewidth": 0,
             "tickcolor": "rgb(237,237,237)",
             "ticklen": 6,
             "ticks": "inside"
            },
            "type": "choropleth"
           }
          ],
          "contour": [
           {
            "colorbar": {
             "outlinewidth": 0,
             "tickcolor": "rgb(237,237,237)",
             "ticklen": 6,
             "ticks": "inside"
            },
            "colorscale": [
             [
              0,
              "rgb(20,44,66)"
             ],
             [
              1,
              "rgb(90,179,244)"
             ]
            ],
            "type": "contour"
           }
          ],
          "contourcarpet": [
           {
            "colorbar": {
             "outlinewidth": 0,
             "tickcolor": "rgb(237,237,237)",
             "ticklen": 6,
             "ticks": "inside"
            },
            "type": "contourcarpet"
           }
          ],
          "heatmap": [
           {
            "colorbar": {
             "outlinewidth": 0,
             "tickcolor": "rgb(237,237,237)",
             "ticklen": 6,
             "ticks": "inside"
            },
            "colorscale": [
             [
              0,
              "rgb(20,44,66)"
             ],
             [
              1,
              "rgb(90,179,244)"
             ]
            ],
            "type": "heatmap"
           }
          ],
          "heatmapgl": [
           {
            "colorbar": {
             "outlinewidth": 0,
             "tickcolor": "rgb(237,237,237)",
             "ticklen": 6,
             "ticks": "inside"
            },
            "colorscale": [
             [
              0,
              "rgb(20,44,66)"
             ],
             [
              1,
              "rgb(90,179,244)"
             ]
            ],
            "type": "heatmapgl"
           }
          ],
          "histogram": [
           {
            "marker": {
             "pattern": {
              "fillmode": "overlay",
              "size": 10,
              "solidity": 0.2
             }
            },
            "type": "histogram"
           }
          ],
          "histogram2d": [
           {
            "colorbar": {
             "outlinewidth": 0,
             "tickcolor": "rgb(237,237,237)",
             "ticklen": 6,
             "ticks": "inside"
            },
            "colorscale": [
             [
              0,
              "rgb(20,44,66)"
             ],
             [
              1,
              "rgb(90,179,244)"
             ]
            ],
            "type": "histogram2d"
           }
          ],
          "histogram2dcontour": [
           {
            "colorbar": {
             "outlinewidth": 0,
             "tickcolor": "rgb(237,237,237)",
             "ticklen": 6,
             "ticks": "inside"
            },
            "colorscale": [
             [
              0,
              "rgb(20,44,66)"
             ],
             [
              1,
              "rgb(90,179,244)"
             ]
            ],
            "type": "histogram2dcontour"
           }
          ],
          "mesh3d": [
           {
            "colorbar": {
             "outlinewidth": 0,
             "tickcolor": "rgb(237,237,237)",
             "ticklen": 6,
             "ticks": "inside"
            },
            "type": "mesh3d"
           }
          ],
          "parcoords": [
           {
            "line": {
             "colorbar": {
              "outlinewidth": 0,
              "tickcolor": "rgb(237,237,237)",
              "ticklen": 6,
              "ticks": "inside"
             }
            },
            "type": "parcoords"
           }
          ],
          "pie": [
           {
            "automargin": true,
            "type": "pie"
           }
          ],
          "scatter": [
           {
            "fillpattern": {
             "fillmode": "overlay",
             "size": 10,
             "solidity": 0.2
            },
            "type": "scatter"
           }
          ],
          "scatter3d": [
           {
            "line": {
             "colorbar": {
              "outlinewidth": 0,
              "tickcolor": "rgb(237,237,237)",
              "ticklen": 6,
              "ticks": "inside"
             }
            },
            "marker": {
             "colorbar": {
              "outlinewidth": 0,
              "tickcolor": "rgb(237,237,237)",
              "ticklen": 6,
              "ticks": "inside"
             }
            },
            "type": "scatter3d"
           }
          ],
          "scattercarpet": [
           {
            "marker": {
             "colorbar": {
              "outlinewidth": 0,
              "tickcolor": "rgb(237,237,237)",
              "ticklen": 6,
              "ticks": "inside"
             }
            },
            "type": "scattercarpet"
           }
          ],
          "scattergeo": [
           {
            "marker": {
             "colorbar": {
              "outlinewidth": 0,
              "tickcolor": "rgb(237,237,237)",
              "ticklen": 6,
              "ticks": "inside"
             }
            },
            "type": "scattergeo"
           }
          ],
          "scattergl": [
           {
            "marker": {
             "colorbar": {
              "outlinewidth": 0,
              "tickcolor": "rgb(237,237,237)",
              "ticklen": 6,
              "ticks": "inside"
             }
            },
            "type": "scattergl"
           }
          ],
          "scattermapbox": [
           {
            "marker": {
             "colorbar": {
              "outlinewidth": 0,
              "tickcolor": "rgb(237,237,237)",
              "ticklen": 6,
              "ticks": "inside"
             }
            },
            "type": "scattermapbox"
           }
          ],
          "scatterpolar": [
           {
            "marker": {
             "colorbar": {
              "outlinewidth": 0,
              "tickcolor": "rgb(237,237,237)",
              "ticklen": 6,
              "ticks": "inside"
             }
            },
            "type": "scatterpolar"
           }
          ],
          "scatterpolargl": [
           {
            "marker": {
             "colorbar": {
              "outlinewidth": 0,
              "tickcolor": "rgb(237,237,237)",
              "ticklen": 6,
              "ticks": "inside"
             }
            },
            "type": "scatterpolargl"
           }
          ],
          "scatterternary": [
           {
            "marker": {
             "colorbar": {
              "outlinewidth": 0,
              "tickcolor": "rgb(237,237,237)",
              "ticklen": 6,
              "ticks": "inside"
             }
            },
            "type": "scatterternary"
           }
          ],
          "surface": [
           {
            "colorbar": {
             "outlinewidth": 0,
             "tickcolor": "rgb(237,237,237)",
             "ticklen": 6,
             "ticks": "inside"
            },
            "colorscale": [
             [
              0,
              "rgb(20,44,66)"
             ],
             [
              1,
              "rgb(90,179,244)"
             ]
            ],
            "type": "surface"
           }
          ],
          "table": [
           {
            "cells": {
             "fill": {
              "color": "rgb(237,237,237)"
             },
             "line": {
              "color": "white"
             }
            },
            "header": {
             "fill": {
              "color": "rgb(217,217,217)"
             },
             "line": {
              "color": "white"
             }
            },
            "type": "table"
           }
          ]
         },
         "layout": {
          "annotationdefaults": {
           "arrowhead": 0,
           "arrowwidth": 1
          },
          "annotations": [
           {
            "font": {
             "color": "black",
             "size": 12
            },
            "name": "created by",
            "opacity": 0.9,
            "showarrow": false,
            "text": "Created by Electrify RVA",
            "x": -0.05,
            "xref": "paper",
            "y": -0.25,
            "yref": "paper"
           }
          ],
          "autotypenumbers": "strict",
          "coloraxis": {
           "colorbar": {
            "outlinewidth": 0,
            "tickcolor": "rgb(237,237,237)",
            "ticklen": 6,
            "ticks": "inside"
           }
          },
          "colorscale": {
           "sequential": [
            [
             0,
             "rgb(20,44,66)"
            ],
            [
             1,
             "rgb(90,179,244)"
            ]
           ],
           "sequentialminus": [
            [
             0,
             "rgb(20,44,66)"
            ],
            [
             1,
             "rgb(90,179,244)"
            ]
           ]
          },
          "colorway": [
           "#007C77",
           "#1a1b41",
           "#f48668",
           "#f2bb05",
           "#E2A0FF",
           "#8acb88"
          ],
          "font": {
           "color": "rgb(51,51,51)"
          },
          "geo": {
           "bgcolor": "white",
           "lakecolor": "white",
           "landcolor": "rgb(237,237,237)",
           "showlakes": true,
           "showland": true,
           "subunitcolor": "white"
          },
          "hoverlabel": {
           "align": "left"
          },
          "hovermode": "x unified",
          "paper_bgcolor": "white",
          "plot_bgcolor": "rgb(237,237,237)",
          "polar": {
           "angularaxis": {
            "gridcolor": "white",
            "linecolor": "white",
            "showgrid": true,
            "tickcolor": "rgb(51,51,51)",
            "ticks": "outside"
           },
           "bgcolor": "rgb(237,237,237)",
           "radialaxis": {
            "gridcolor": "white",
            "linecolor": "white",
            "showgrid": true,
            "tickcolor": "rgb(51,51,51)",
            "ticks": "outside"
           }
          },
          "scene": {
           "xaxis": {
            "backgroundcolor": "rgb(237,237,237)",
            "gridcolor": "white",
            "gridwidth": 2,
            "linecolor": "white",
            "showbackground": true,
            "showgrid": true,
            "tickcolor": "rgb(51,51,51)",
            "ticks": "outside",
            "zerolinecolor": "white"
           },
           "yaxis": {
            "backgroundcolor": "rgb(237,237,237)",
            "gridcolor": "white",
            "gridwidth": 2,
            "linecolor": "white",
            "showbackground": true,
            "showgrid": true,
            "tickcolor": "rgb(51,51,51)",
            "ticks": "outside",
            "zerolinecolor": "white"
           },
           "zaxis": {
            "backgroundcolor": "rgb(237,237,237)",
            "gridcolor": "white",
            "gridwidth": 2,
            "linecolor": "white",
            "showbackground": true,
            "showgrid": true,
            "tickcolor": "rgb(51,51,51)",
            "ticks": "outside",
            "zerolinecolor": "white"
           }
          },
          "shapedefaults": {
           "fillcolor": "black",
           "line": {
            "width": 0
           },
           "opacity": 0.3
          },
          "ternary": {
           "aaxis": {
            "gridcolor": "white",
            "linecolor": "white",
            "showgrid": true,
            "tickcolor": "rgb(51,51,51)",
            "ticks": "outside"
           },
           "baxis": {
            "gridcolor": "white",
            "linecolor": "white",
            "showgrid": true,
            "tickcolor": "rgb(51,51,51)",
            "ticks": "outside"
           },
           "bgcolor": "rgb(237,237,237)",
           "caxis": {
            "gridcolor": "white",
            "linecolor": "white",
            "showgrid": true,
            "tickcolor": "rgb(51,51,51)",
            "ticks": "outside"
           }
          },
          "title": {
           "x": 0.05
          },
          "xaxis": {
           "automargin": true,
           "gridcolor": "white",
           "linecolor": "white",
           "showgrid": true,
           "tickcolor": "rgb(51,51,51)",
           "ticks": "outside",
           "title": {
            "standoff": 15
           },
           "zerolinecolor": "white"
          },
          "yaxis": {
           "automargin": true,
           "gridcolor": "white",
           "linecolor": "white",
           "showgrid": true,
           "tickcolor": "rgb(51,51,51)",
           "tickformat": ",.0f",
           "ticks": "outside",
           "title": {
            "standoff": 15
           },
           "zerolinecolor": "white"
          }
         }
        },
        "title": {
         "text": "Residential annual costs per customer"
        },
        "xaxis": {
         "anchor": "y",
         "domain": [
          0,
          1
         ],
         "title": {
          "text": ""
         }
        },
        "yaxis": {
         "anchor": "x",
         "domain": [
          0,
          1
         ],
         "tickprefix": "$",
         "title": {
          "text": "Annual costs"
         }
        }
       }
      }
     },
     "metadata": {},
     "output_type": "display_data"
    }
   ],
   "source": [
    "\n",
    "\n",
    "fig = px.line(\n",
    "    eia_phmsa, \n",
    "    x=\"year\", y=\"residential_sales_per_customer_real\", \n",
    "    title='Residential annual costs per customer',\n",
    "    labels={ \"year\": \"\", \"residential_sales_per_customer_real\": \"Annual costs\", },\n",
    "    color_discrete_sequence=[\"#1a1b41\", \"#f48668\"],\n",
    "\n",
    ")\n",
    "fig.add_trace(go.Scatter(\n",
    "    x=[eia_phmsa['year'].iloc[-1]],\n",
    "    y=[eia_phmsa['residential_sales_per_customer_real'].iloc[-1]],\n",
    "    mode='markers',\n",
    "    marker=dict(color=HIGHLIGHT_COLOR, size=7.5),\n",
    "    showlegend=False,\n",
    "    hoverinfo='skip',\n",
    "))\n",
    "\n",
    "fig.update_traces(hovertemplate=None)\n",
    "fig.update_layout(yaxis_tickprefix = '$', hovermode='x unified',)\n",
    "fig.add_annotation(\n",
    "    text=\"$1,069\", x=2022, y=1069,\n",
    "    showarrow=False, arrowhead=2,\n",
    "    yshift=11,\n",
    "    font=dict(color=HIGHLIGHT_COLOR),\n",
    ")\n",
    "\n",
    "fig.show()\n",
    "fig.write_html(\"../docs/_includes/charts/residential_sales_per_customer_real.html\", include_plotlyjs=\"cdn\")"
   ]
  },
  {
   "cell_type": "code",
   "execution_count": 25,
   "metadata": {},
   "outputs": [
    {
     "data": {
      "text/html": [
       "<div>\n",
       "<style scoped>\n",
       "    .dataframe tbody tr th:only-of-type {\n",
       "        vertical-align: middle;\n",
       "    }\n",
       "\n",
       "    .dataframe tbody tr th {\n",
       "        vertical-align: top;\n",
       "    }\n",
       "\n",
       "    .dataframe thead th {\n",
       "        text-align: right;\n",
       "    }\n",
       "</style>\n",
       "<table border=\"1\" class=\"dataframe\">\n",
       "  <thead>\n",
       "    <tr style=\"text-align: right;\">\n",
       "      <th></th>\n",
       "      <th>year</th>\n",
       "      <th>residential_volume_per_customer</th>\n",
       "      <th>commercial_volume_per_customer</th>\n",
       "      <th>industrial_volume_per_customer</th>\n",
       "      <th>vehicle_volume_per_customer</th>\n",
       "      <th>electric_volume_per_customer</th>\n",
       "      <th>residential_sales_per_customer</th>\n",
       "      <th>commercial_sales_per_customer</th>\n",
       "      <th>industrial_sales_per_customer</th>\n",
       "      <th>residential_sales_per_customer_real</th>\n",
       "      <th>commercial_sales_per_customer_real</th>\n",
       "      <th>industrial_sales_per_customer_real</th>\n",
       "      <th>residential_net_revenue_real_per_customer</th>\n",
       "      <th>commercial_net_revenue_real_per_customer</th>\n",
       "      <th>industrial_net_revenue_real_per_customer</th>\n",
       "      <th>vehicle_net_revenue_real_per_customer</th>\n",
       "      <th>electric_net_revenue_real_per_customer</th>\n",
       "    </tr>\n",
       "  </thead>\n",
       "  <tbody>\n",
       "    <tr>\n",
       "      <th>0</th>\n",
       "      <td>1997</td>\n",
       "      <td>120.811049</td>\n",
       "      <td>766.194345</td>\n",
       "      <td>1617.251282</td>\n",
       "      <td>142.500000</td>\n",
       "      <td>0</td>\n",
       "      <td>798.771520</td>\n",
       "      <td>4825.919549</td>\n",
       "      <td>8442.100641</td>\n",
       "      <td>501.552791</td>\n",
       "      <td>3030.219980</td>\n",
       "      <td>5300.838891</td>\n",
       "      <td>187.501143</td>\n",
       "      <td>1038.476687</td>\n",
       "      <td>1096.749664</td>\n",
       "      <td>-114.038049</td>\n",
       "      <td>NaN</td>\n",
       "    </tr>\n",
       "    <tr>\n",
       "      <th>1</th>\n",
       "      <td>1998</td>\n",
       "      <td>75.744343</td>\n",
       "      <td>631.857818</td>\n",
       "      <td>2613.899191</td>\n",
       "      <td>98.500000</td>\n",
       "      <td>0</td>\n",
       "      <td>656.178044</td>\n",
       "      <td>4144.865804</td>\n",
       "      <td>11180.809583</td>\n",
       "      <td>418.391523</td>\n",
       "      <td>2642.844775</td>\n",
       "      <td>7129.095507</td>\n",
       "      <td>237.764391</td>\n",
       "      <td>1136.056794</td>\n",
       "      <td>895.743997</td>\n",
       "      <td>-60.439896</td>\n",
       "      <td>NaN</td>\n",
       "    </tr>\n",
       "    <tr>\n",
       "      <th>2</th>\n",
       "      <td>1999</td>\n",
       "      <td>78.245894</td>\n",
       "      <td>647.343890</td>\n",
       "      <td>1956.546484</td>\n",
       "      <td>104.090909</td>\n",
       "      <td>0</td>\n",
       "      <td>705.925211</td>\n",
       "      <td>4000.479633</td>\n",
       "      <td>7506.222747</td>\n",
       "      <td>459.982844</td>\n",
       "      <td>2606.723730</td>\n",
       "      <td>4891.075759</td>\n",
       "      <td>265.729067</td>\n",
       "      <td>999.623473</td>\n",
       "      <td>33.740411</td>\n",
       "      <td>-69.392736</td>\n",
       "      <td>NaN</td>\n",
       "    </tr>\n",
       "    <tr>\n",
       "      <th>3</th>\n",
       "      <td>2000</td>\n",
       "      <td>91.030357</td>\n",
       "      <td>628.688566</td>\n",
       "      <td>4439.247253</td>\n",
       "      <td>104.090909</td>\n",
       "      <td>0</td>\n",
       "      <td>880.420245</td>\n",
       "      <td>4466.923416</td>\n",
       "      <td>22754.082418</td>\n",
       "      <td>592.998428</td>\n",
       "      <td>3008.652491</td>\n",
       "      <td>15325.789222</td>\n",
       "      <td>265.589120</td>\n",
       "      <td>747.445390</td>\n",
       "      <td>-640.872094</td>\n",
       "      <td>-85.251820</td>\n",
       "      <td>NaN</td>\n",
       "    </tr>\n",
       "    <tr>\n",
       "      <th>4</th>\n",
       "      <td>2001</td>\n",
       "      <td>77.704444</td>\n",
       "      <td>501.377566</td>\n",
       "      <td>10180.861176</td>\n",
       "      <td>100.000000</td>\n",
       "      <td>0</td>\n",
       "      <td>841.859667</td>\n",
       "      <td>4291.907971</td>\n",
       "      <td>48083.141176</td>\n",
       "      <td>582.997333</td>\n",
       "      <td>2972.194769</td>\n",
       "      <td>33298.118604</td>\n",
       "      <td>219.233581</td>\n",
       "      <td>625.057672</td>\n",
       "      <td>-14362.324517</td>\n",
       "      <td>-180.745449</td>\n",
       "      <td>NaN</td>\n",
       "    </tr>\n",
       "    <tr>\n",
       "      <th>5</th>\n",
       "      <td>2002</td>\n",
       "      <td>76.304116</td>\n",
       "      <td>468.859179</td>\n",
       "      <td>6872.248895</td>\n",
       "      <td>125.000000</td>\n",
       "      <td>0</td>\n",
       "      <td>838.808055</td>\n",
       "      <td>4387.285512</td>\n",
       "      <td>31117.478645</td>\n",
       "      <td>590.153054</td>\n",
       "      <td>3086.725176</td>\n",
       "      <td>21893.059952</td>\n",
       "      <td>227.781746</td>\n",
       "      <td>860.094122</td>\n",
       "      <td>-10743.525802</td>\n",
       "      <td>-153.904078</td>\n",
       "      <td>NaN</td>\n",
       "    </tr>\n",
       "    <tr>\n",
       "      <th>6</th>\n",
       "      <td>2003</td>\n",
       "      <td>87.221445</td>\n",
       "      <td>516.594809</td>\n",
       "      <td>6541.935199</td>\n",
       "      <td>125.000000</td>\n",
       "      <td>0</td>\n",
       "      <td>1010.038467</td>\n",
       "      <td>5282.886078</td>\n",
       "      <td>26691.512518</td>\n",
       "      <td>726.954279</td>\n",
       "      <td>3802.247899</td>\n",
       "      <td>19210.663621</td>\n",
       "      <td>314.517080</td>\n",
       "      <td>1359.466579</td>\n",
       "      <td>-11723.671818</td>\n",
       "      <td>-141.246875</td>\n",
       "      <td>NaN</td>\n",
       "    </tr>\n",
       "    <tr>\n",
       "      <th>7</th>\n",
       "      <td>2004</td>\n",
       "      <td>79.858365</td>\n",
       "      <td>496.326523</td>\n",
       "      <td>13030.829670</td>\n",
       "      <td>0.000000</td>\n",
       "      <td>0</td>\n",
       "      <td>1144.783648</td>\n",
       "      <td>6303.902363</td>\n",
       "      <td>103540.700549</td>\n",
       "      <td>845.913378</td>\n",
       "      <td>4658.133748</td>\n",
       "      <td>76509.184900</td>\n",
       "      <td>396.850097</td>\n",
       "      <td>1867.167292</td>\n",
       "      <td>3233.615662</td>\n",
       "      <td>NaN</td>\n",
       "      <td>NaN</td>\n",
       "    </tr>\n",
       "    <tr>\n",
       "      <th>8</th>\n",
       "      <td>2005</td>\n",
       "      <td>80.351409</td>\n",
       "      <td>502.584007</td>\n",
       "      <td>13839.951872</td>\n",
       "      <td>0.000000</td>\n",
       "      <td>0</td>\n",
       "      <td>1298.332172</td>\n",
       "      <td>7114.207198</td>\n",
       "      <td>144405.029412</td>\n",
       "      <td>991.665723</td>\n",
       "      <td>5433.829323</td>\n",
       "      <td>110296.518143</td>\n",
       "      <td>370.577219</td>\n",
       "      <td>1549.029366</td>\n",
       "      <td>3318.493137</td>\n",
       "      <td>NaN</td>\n",
       "      <td>NaN</td>\n",
       "    </tr>\n",
       "    <tr>\n",
       "      <th>9</th>\n",
       "      <td>2006</td>\n",
       "      <td>63.863021</td>\n",
       "      <td>425.795994</td>\n",
       "      <td>12649.465054</td>\n",
       "      <td>0.000000</td>\n",
       "      <td>0</td>\n",
       "      <td>1068.187831</td>\n",
       "      <td>6032.314858</td>\n",
       "      <td>128982.451613</td>\n",
       "      <td>842.169968</td>\n",
       "      <td>4755.937357</td>\n",
       "      <td>101691.054676</td>\n",
       "      <td>312.988896</td>\n",
       "      <td>1227.711229</td>\n",
       "      <td>-3124.804773</td>\n",
       "      <td>NaN</td>\n",
       "      <td>NaN</td>\n",
       "    </tr>\n",
       "    <tr>\n",
       "      <th>10</th>\n",
       "      <td>2007</td>\n",
       "      <td>69.567353</td>\n",
       "      <td>455.104928</td>\n",
       "      <td>11667.778689</td>\n",
       "      <td>0.000000</td>\n",
       "      <td>0</td>\n",
       "      <td>1175.771664</td>\n",
       "      <td>6757.182549</td>\n",
       "      <td>112521.415301</td>\n",
       "      <td>953.599849</td>\n",
       "      <td>5480.356822</td>\n",
       "      <td>91259.559952</td>\n",
       "      <td>430.567682</td>\n",
       "      <td>2058.715698</td>\n",
       "      <td>3537.039520</td>\n",
       "      <td>NaN</td>\n",
       "      <td>NaN</td>\n",
       "    </tr>\n",
       "    <tr>\n",
       "      <th>11</th>\n",
       "      <td>2008</td>\n",
       "      <td>68.465146</td>\n",
       "      <td>456.376794</td>\n",
       "      <td>12532.847887</td>\n",
       "      <td>0.000000</td>\n",
       "      <td>0</td>\n",
       "      <td>1201.354527</td>\n",
       "      <td>6980.049282</td>\n",
       "      <td>144582.515493</td>\n",
       "      <td>1011.519608</td>\n",
       "      <td>5877.080043</td>\n",
       "      <td>121735.962309</td>\n",
       "      <td>399.890652</td>\n",
       "      <td>1800.067444</td>\n",
       "      <td>9774.575505</td>\n",
       "      <td>NaN</td>\n",
       "      <td>NaN</td>\n",
       "    </tr>\n",
       "    <tr>\n",
       "      <th>12</th>\n",
       "      <td>2009</td>\n",
       "      <td>72.064476</td>\n",
       "      <td>452.273730</td>\n",
       "      <td>10092.555556</td>\n",
       "      <td>0.000000</td>\n",
       "      <td>0</td>\n",
       "      <td>1094.892452</td>\n",
       "      <td>6018.999808</td>\n",
       "      <td>71376.976190</td>\n",
       "      <td>918.927031</td>\n",
       "      <td>5051.657458</td>\n",
       "      <td>59905.639737</td>\n",
       "      <td>422.969316</td>\n",
       "      <td>1939.046947</td>\n",
       "      <td>-9552.726828</td>\n",
       "      <td>NaN</td>\n",
       "      <td>NaN</td>\n",
       "    </tr>\n",
       "    <tr>\n",
       "      <th>13</th>\n",
       "      <td>2010</td>\n",
       "      <td>74.948515</td>\n",
       "      <td>456.743094</td>\n",
       "      <td>11072.071006</td>\n",
       "      <td>0.000000</td>\n",
       "      <td>0</td>\n",
       "      <td>1009.224921</td>\n",
       "      <td>5253.291270</td>\n",
       "      <td>73368.032544</td>\n",
       "      <td>860.889749</td>\n",
       "      <td>4481.166196</td>\n",
       "      <td>62584.450479</td>\n",
       "      <td>421.033220</td>\n",
       "      <td>1800.640359</td>\n",
       "      <td>-2395.125150</td>\n",
       "      <td>NaN</td>\n",
       "      <td>NaN</td>\n",
       "    </tr>\n",
       "    <tr>\n",
       "      <th>14</th>\n",
       "      <td>2011</td>\n",
       "      <td>62.519879</td>\n",
       "      <td>435.684991</td>\n",
       "      <td>9437.189974</td>\n",
       "      <td>15402.000000</td>\n",
       "      <td>0</td>\n",
       "      <td>834.957211</td>\n",
       "      <td>4766.439123</td>\n",
       "      <td>59217.738786</td>\n",
       "      <td>734.597525</td>\n",
       "      <td>4193.525534</td>\n",
       "      <td>52099.920550</td>\n",
       "      <td>369.363314</td>\n",
       "      <td>1648.302062</td>\n",
       "      <td>-3031.098239</td>\n",
       "      <td>-4945.616759</td>\n",
       "      <td>NaN</td>\n",
       "    </tr>\n",
       "    <tr>\n",
       "      <th>15</th>\n",
       "      <td>2012</td>\n",
       "      <td>55.371828</td>\n",
       "      <td>407.109034</td>\n",
       "      <td>8834.948320</td>\n",
       "      <td>15397.000000</td>\n",
       "      <td>0</td>\n",
       "      <td>702.456907</td>\n",
       "      <td>3981.950275</td>\n",
       "      <td>43749.467700</td>\n",
       "      <td>630.836227</td>\n",
       "      <td>3575.960978</td>\n",
       "      <td>39288.885722</td>\n",
       "      <td>350.380120</td>\n",
       "      <td>1513.969898</td>\n",
       "      <td>-5459.776455</td>\n",
       "      <td>74806.876737</td>\n",
       "      <td>NaN</td>\n",
       "    </tr>\n",
       "    <tr>\n",
       "      <th>16</th>\n",
       "      <td>2013</td>\n",
       "      <td>69.009714</td>\n",
       "      <td>483.000854</td>\n",
       "      <td>9425.911227</td>\n",
       "      <td>14780.000000</td>\n",
       "      <td>0</td>\n",
       "      <td>825.838164</td>\n",
       "      <td>4577.266945</td>\n",
       "      <td>52831.099217</td>\n",
       "      <td>752.510011</td>\n",
       "      <td>4170.840428</td>\n",
       "      <td>48140.099123</td>\n",
       "      <td>404.142756</td>\n",
       "      <td>1732.608594</td>\n",
       "      <td>557.249936</td>\n",
       "      <td>53390.204665</td>\n",
       "      <td>NaN</td>\n",
       "    </tr>\n",
       "    <tr>\n",
       "      <th>17</th>\n",
       "      <td>2014</td>\n",
       "      <td>71.517905</td>\n",
       "      <td>498.758735</td>\n",
       "      <td>10985.018817</td>\n",
       "      <td>14654.000000</td>\n",
       "      <td>0</td>\n",
       "      <td>908.639633</td>\n",
       "      <td>5253.186100</td>\n",
       "      <td>70473.510753</td>\n",
       "      <td>841.334787</td>\n",
       "      <td>4864.071573</td>\n",
       "      <td>65253.389817</td>\n",
       "      <td>445.336653</td>\n",
       "      <td>2102.420096</td>\n",
       "      <td>4428.804096</td>\n",
       "      <td>59556.682530</td>\n",
       "      <td>NaN</td>\n",
       "    </tr>\n",
       "    <tr>\n",
       "      <th>18</th>\n",
       "      <td>2015</td>\n",
       "      <td>64.440934</td>\n",
       "      <td>455.237228</td>\n",
       "      <td>11499.089947</td>\n",
       "      <td>14224.000000</td>\n",
       "      <td>0</td>\n",
       "      <td>803.617417</td>\n",
       "      <td>4536.614945</td>\n",
       "      <td>57969.240741</td>\n",
       "      <td>744.993125</td>\n",
       "      <td>4205.666616</td>\n",
       "      <td>53740.355644</td>\n",
       "      <td>454.059641</td>\n",
       "      <td>2150.392959</td>\n",
       "      <td>1825.057041</td>\n",
       "      <td>63215.616651</td>\n",
       "      <td>NaN</td>\n",
       "    </tr>\n",
       "    <tr>\n",
       "      <th>19</th>\n",
       "      <td>2016</td>\n",
       "      <td>60.969659</td>\n",
       "      <td>431.962380</td>\n",
       "      <td>12383.563492</td>\n",
       "      <td>14721.000000</td>\n",
       "      <td>0</td>\n",
       "      <td>711.429827</td>\n",
       "      <td>3888.604946</td>\n",
       "      <td>51877.298942</td>\n",
       "      <td>667.889326</td>\n",
       "      <td>3650.616880</td>\n",
       "      <td>48702.335618</td>\n",
       "      <td>439.508785</td>\n",
       "      <td>2032.569425</td>\n",
       "      <td>2315.904062</td>\n",
       "      <td>79603.746838</td>\n",
       "      <td>NaN</td>\n",
       "    </tr>\n",
       "    <tr>\n",
       "      <th>20</th>\n",
       "      <td>2017</td>\n",
       "      <td>60.775648</td>\n",
       "      <td>437.004969</td>\n",
       "      <td>12701.546448</td>\n",
       "      <td>0.000000</td>\n",
       "      <td>0</td>\n",
       "      <td>780.926566</td>\n",
       "      <td>4450.302708</td>\n",
       "      <td>59765.500000</td>\n",
       "      <td>748.759029</td>\n",
       "      <td>4266.988064</td>\n",
       "      <td>57303.669407</td>\n",
       "      <td>484.785928</td>\n",
       "      <td>2368.899588</td>\n",
       "      <td>2135.740747</td>\n",
       "      <td>NaN</td>\n",
       "      <td>NaN</td>\n",
       "    </tr>\n",
       "    <tr>\n",
       "      <th>21</th>\n",
       "      <td>2018</td>\n",
       "      <td>64.767705</td>\n",
       "      <td>462.084648</td>\n",
       "      <td>13080.235955</td>\n",
       "      <td>0.000000</td>\n",
       "      <td>0</td>\n",
       "      <td>869.070840</td>\n",
       "      <td>4854.284368</td>\n",
       "      <td>63431.000000</td>\n",
       "      <td>853.596077</td>\n",
       "      <td>4767.848495</td>\n",
       "      <td>62301.541271</td>\n",
       "      <td>555.244331</td>\n",
       "      <td>2639.260468</td>\n",
       "      <td>2047.573112</td>\n",
       "      <td>NaN</td>\n",
       "      <td>NaN</td>\n",
       "    </tr>\n",
       "    <tr>\n",
       "      <th>22</th>\n",
       "      <td>2019</td>\n",
       "      <td>59.486117</td>\n",
       "      <td>427.621334</td>\n",
       "      <td>16457.245989</td>\n",
       "      <td>0.000000</td>\n",
       "      <td>0</td>\n",
       "      <td>779.283535</td>\n",
       "      <td>4781.510130</td>\n",
       "      <td>72127.526738</td>\n",
       "      <td>779.283535</td>\n",
       "      <td>4781.510130</td>\n",
       "      <td>72127.526738</td>\n",
       "      <td>510.406287</td>\n",
       "      <td>2848.661700</td>\n",
       "      <td>-2259.225134</td>\n",
       "      <td>NaN</td>\n",
       "      <td>NaN</td>\n",
       "    </tr>\n",
       "    <tr>\n",
       "      <th>23</th>\n",
       "      <td>2020</td>\n",
       "      <td>54.769845</td>\n",
       "      <td>393.060100</td>\n",
       "      <td>26212.783069</td>\n",
       "      <td>0.000000</td>\n",
       "      <td>0</td>\n",
       "      <td>724.309785</td>\n",
       "      <td>3993.041267</td>\n",
       "      <td>89166.341270</td>\n",
       "      <td>733.372928</td>\n",
       "      <td>4043.005393</td>\n",
       "      <td>90282.061865</td>\n",
       "      <td>518.761423</td>\n",
       "      <td>2502.829055</td>\n",
       "      <td>-12430.750469</td>\n",
       "      <td>NaN</td>\n",
       "      <td>NaN</td>\n",
       "    </tr>\n",
       "    <tr>\n",
       "      <th>24</th>\n",
       "      <td>2021</td>\n",
       "      <td>57.829709</td>\n",
       "      <td>416.480803</td>\n",
       "      <td>26510.050667</td>\n",
       "      <td>0.000000</td>\n",
       "      <td>0</td>\n",
       "      <td>783.067581</td>\n",
       "      <td>4514.874828</td>\n",
       "      <td>129697.213333</td>\n",
       "      <td>829.992357</td>\n",
       "      <td>4785.425542</td>\n",
       "      <td>137469.228054</td>\n",
       "      <td>519.226131</td>\n",
       "      <td>2547.334257</td>\n",
       "      <td>-4990.911708</td>\n",
       "      <td>NaN</td>\n",
       "      <td>NaN</td>\n",
       "    </tr>\n",
       "    <tr>\n",
       "      <th>25</th>\n",
       "      <td>2022</td>\n",
       "      <td>58.461455</td>\n",
       "      <td>438.497682</td>\n",
       "      <td>27340.701408</td>\n",
       "      <td>0.000000</td>\n",
       "      <td>0</td>\n",
       "      <td>933.993173</td>\n",
       "      <td>5863.514769</td>\n",
       "      <td>207080.678873</td>\n",
       "      <td>1069.025236</td>\n",
       "      <td>6711.232416</td>\n",
       "      <td>237019.368021</td>\n",
       "      <td>572.526917</td>\n",
       "      <td>2987.182758</td>\n",
       "      <td>4821.721827</td>\n",
       "      <td>NaN</td>\n",
       "      <td>NaN</td>\n",
       "    </tr>\n",
       "  </tbody>\n",
       "</table>\n",
       "</div>"
      ],
      "text/plain": [
       "    year  residential_volume_per_customer  commercial_volume_per_customer  \\\n",
       "0   1997                       120.811049                      766.194345   \n",
       "1   1998                        75.744343                      631.857818   \n",
       "2   1999                        78.245894                      647.343890   \n",
       "3   2000                        91.030357                      628.688566   \n",
       "4   2001                        77.704444                      501.377566   \n",
       "5   2002                        76.304116                      468.859179   \n",
       "6   2003                        87.221445                      516.594809   \n",
       "7   2004                        79.858365                      496.326523   \n",
       "8   2005                        80.351409                      502.584007   \n",
       "9   2006                        63.863021                      425.795994   \n",
       "10  2007                        69.567353                      455.104928   \n",
       "11  2008                        68.465146                      456.376794   \n",
       "12  2009                        72.064476                      452.273730   \n",
       "13  2010                        74.948515                      456.743094   \n",
       "14  2011                        62.519879                      435.684991   \n",
       "15  2012                        55.371828                      407.109034   \n",
       "16  2013                        69.009714                      483.000854   \n",
       "17  2014                        71.517905                      498.758735   \n",
       "18  2015                        64.440934                      455.237228   \n",
       "19  2016                        60.969659                      431.962380   \n",
       "20  2017                        60.775648                      437.004969   \n",
       "21  2018                        64.767705                      462.084648   \n",
       "22  2019                        59.486117                      427.621334   \n",
       "23  2020                        54.769845                      393.060100   \n",
       "24  2021                        57.829709                      416.480803   \n",
       "25  2022                        58.461455                      438.497682   \n",
       "\n",
       "    industrial_volume_per_customer  vehicle_volume_per_customer  \\\n",
       "0                      1617.251282                   142.500000   \n",
       "1                      2613.899191                    98.500000   \n",
       "2                      1956.546484                   104.090909   \n",
       "3                      4439.247253                   104.090909   \n",
       "4                     10180.861176                   100.000000   \n",
       "5                      6872.248895                   125.000000   \n",
       "6                      6541.935199                   125.000000   \n",
       "7                     13030.829670                     0.000000   \n",
       "8                     13839.951872                     0.000000   \n",
       "9                     12649.465054                     0.000000   \n",
       "10                    11667.778689                     0.000000   \n",
       "11                    12532.847887                     0.000000   \n",
       "12                    10092.555556                     0.000000   \n",
       "13                    11072.071006                     0.000000   \n",
       "14                     9437.189974                 15402.000000   \n",
       "15                     8834.948320                 15397.000000   \n",
       "16                     9425.911227                 14780.000000   \n",
       "17                    10985.018817                 14654.000000   \n",
       "18                    11499.089947                 14224.000000   \n",
       "19                    12383.563492                 14721.000000   \n",
       "20                    12701.546448                     0.000000   \n",
       "21                    13080.235955                     0.000000   \n",
       "22                    16457.245989                     0.000000   \n",
       "23                    26212.783069                     0.000000   \n",
       "24                    26510.050667                     0.000000   \n",
       "25                    27340.701408                     0.000000   \n",
       "\n",
       "    electric_volume_per_customer  residential_sales_per_customer  \\\n",
       "0                              0                      798.771520   \n",
       "1                              0                      656.178044   \n",
       "2                              0                      705.925211   \n",
       "3                              0                      880.420245   \n",
       "4                              0                      841.859667   \n",
       "5                              0                      838.808055   \n",
       "6                              0                     1010.038467   \n",
       "7                              0                     1144.783648   \n",
       "8                              0                     1298.332172   \n",
       "9                              0                     1068.187831   \n",
       "10                             0                     1175.771664   \n",
       "11                             0                     1201.354527   \n",
       "12                             0                     1094.892452   \n",
       "13                             0                     1009.224921   \n",
       "14                             0                      834.957211   \n",
       "15                             0                      702.456907   \n",
       "16                             0                      825.838164   \n",
       "17                             0                      908.639633   \n",
       "18                             0                      803.617417   \n",
       "19                             0                      711.429827   \n",
       "20                             0                      780.926566   \n",
       "21                             0                      869.070840   \n",
       "22                             0                      779.283535   \n",
       "23                             0                      724.309785   \n",
       "24                             0                      783.067581   \n",
       "25                             0                      933.993173   \n",
       "\n",
       "    commercial_sales_per_customer  industrial_sales_per_customer  \\\n",
       "0                     4825.919549                    8442.100641   \n",
       "1                     4144.865804                   11180.809583   \n",
       "2                     4000.479633                    7506.222747   \n",
       "3                     4466.923416                   22754.082418   \n",
       "4                     4291.907971                   48083.141176   \n",
       "5                     4387.285512                   31117.478645   \n",
       "6                     5282.886078                   26691.512518   \n",
       "7                     6303.902363                  103540.700549   \n",
       "8                     7114.207198                  144405.029412   \n",
       "9                     6032.314858                  128982.451613   \n",
       "10                    6757.182549                  112521.415301   \n",
       "11                    6980.049282                  144582.515493   \n",
       "12                    6018.999808                   71376.976190   \n",
       "13                    5253.291270                   73368.032544   \n",
       "14                    4766.439123                   59217.738786   \n",
       "15                    3981.950275                   43749.467700   \n",
       "16                    4577.266945                   52831.099217   \n",
       "17                    5253.186100                   70473.510753   \n",
       "18                    4536.614945                   57969.240741   \n",
       "19                    3888.604946                   51877.298942   \n",
       "20                    4450.302708                   59765.500000   \n",
       "21                    4854.284368                   63431.000000   \n",
       "22                    4781.510130                   72127.526738   \n",
       "23                    3993.041267                   89166.341270   \n",
       "24                    4514.874828                  129697.213333   \n",
       "25                    5863.514769                  207080.678873   \n",
       "\n",
       "    residential_sales_per_customer_real  commercial_sales_per_customer_real  \\\n",
       "0                            501.552791                         3030.219980   \n",
       "1                            418.391523                         2642.844775   \n",
       "2                            459.982844                         2606.723730   \n",
       "3                            592.998428                         3008.652491   \n",
       "4                            582.997333                         2972.194769   \n",
       "5                            590.153054                         3086.725176   \n",
       "6                            726.954279                         3802.247899   \n",
       "7                            845.913378                         4658.133748   \n",
       "8                            991.665723                         5433.829323   \n",
       "9                            842.169968                         4755.937357   \n",
       "10                           953.599849                         5480.356822   \n",
       "11                          1011.519608                         5877.080043   \n",
       "12                           918.927031                         5051.657458   \n",
       "13                           860.889749                         4481.166196   \n",
       "14                           734.597525                         4193.525534   \n",
       "15                           630.836227                         3575.960978   \n",
       "16                           752.510011                         4170.840428   \n",
       "17                           841.334787                         4864.071573   \n",
       "18                           744.993125                         4205.666616   \n",
       "19                           667.889326                         3650.616880   \n",
       "20                           748.759029                         4266.988064   \n",
       "21                           853.596077                         4767.848495   \n",
       "22                           779.283535                         4781.510130   \n",
       "23                           733.372928                         4043.005393   \n",
       "24                           829.992357                         4785.425542   \n",
       "25                          1069.025236                         6711.232416   \n",
       "\n",
       "    industrial_sales_per_customer_real  \\\n",
       "0                          5300.838891   \n",
       "1                          7129.095507   \n",
       "2                          4891.075759   \n",
       "3                         15325.789222   \n",
       "4                         33298.118604   \n",
       "5                         21893.059952   \n",
       "6                         19210.663621   \n",
       "7                         76509.184900   \n",
       "8                        110296.518143   \n",
       "9                        101691.054676   \n",
       "10                        91259.559952   \n",
       "11                       121735.962309   \n",
       "12                        59905.639737   \n",
       "13                        62584.450479   \n",
       "14                        52099.920550   \n",
       "15                        39288.885722   \n",
       "16                        48140.099123   \n",
       "17                        65253.389817   \n",
       "18                        53740.355644   \n",
       "19                        48702.335618   \n",
       "20                        57303.669407   \n",
       "21                        62301.541271   \n",
       "22                        72127.526738   \n",
       "23                        90282.061865   \n",
       "24                       137469.228054   \n",
       "25                       237019.368021   \n",
       "\n",
       "    residential_net_revenue_real_per_customer  \\\n",
       "0                                  187.501143   \n",
       "1                                  237.764391   \n",
       "2                                  265.729067   \n",
       "3                                  265.589120   \n",
       "4                                  219.233581   \n",
       "5                                  227.781746   \n",
       "6                                  314.517080   \n",
       "7                                  396.850097   \n",
       "8                                  370.577219   \n",
       "9                                  312.988896   \n",
       "10                                 430.567682   \n",
       "11                                 399.890652   \n",
       "12                                 422.969316   \n",
       "13                                 421.033220   \n",
       "14                                 369.363314   \n",
       "15                                 350.380120   \n",
       "16                                 404.142756   \n",
       "17                                 445.336653   \n",
       "18                                 454.059641   \n",
       "19                                 439.508785   \n",
       "20                                 484.785928   \n",
       "21                                 555.244331   \n",
       "22                                 510.406287   \n",
       "23                                 518.761423   \n",
       "24                                 519.226131   \n",
       "25                                 572.526917   \n",
       "\n",
       "    commercial_net_revenue_real_per_customer  \\\n",
       "0                                1038.476687   \n",
       "1                                1136.056794   \n",
       "2                                 999.623473   \n",
       "3                                 747.445390   \n",
       "4                                 625.057672   \n",
       "5                                 860.094122   \n",
       "6                                1359.466579   \n",
       "7                                1867.167292   \n",
       "8                                1549.029366   \n",
       "9                                1227.711229   \n",
       "10                               2058.715698   \n",
       "11                               1800.067444   \n",
       "12                               1939.046947   \n",
       "13                               1800.640359   \n",
       "14                               1648.302062   \n",
       "15                               1513.969898   \n",
       "16                               1732.608594   \n",
       "17                               2102.420096   \n",
       "18                               2150.392959   \n",
       "19                               2032.569425   \n",
       "20                               2368.899588   \n",
       "21                               2639.260468   \n",
       "22                               2848.661700   \n",
       "23                               2502.829055   \n",
       "24                               2547.334257   \n",
       "25                               2987.182758   \n",
       "\n",
       "    industrial_net_revenue_real_per_customer  \\\n",
       "0                                1096.749664   \n",
       "1                                 895.743997   \n",
       "2                                  33.740411   \n",
       "3                                -640.872094   \n",
       "4                              -14362.324517   \n",
       "5                              -10743.525802   \n",
       "6                              -11723.671818   \n",
       "7                                3233.615662   \n",
       "8                                3318.493137   \n",
       "9                               -3124.804773   \n",
       "10                               3537.039520   \n",
       "11                               9774.575505   \n",
       "12                              -9552.726828   \n",
       "13                              -2395.125150   \n",
       "14                              -3031.098239   \n",
       "15                              -5459.776455   \n",
       "16                                557.249936   \n",
       "17                               4428.804096   \n",
       "18                               1825.057041   \n",
       "19                               2315.904062   \n",
       "20                               2135.740747   \n",
       "21                               2047.573112   \n",
       "22                              -2259.225134   \n",
       "23                             -12430.750469   \n",
       "24                              -4990.911708   \n",
       "25                               4821.721827   \n",
       "\n",
       "    vehicle_net_revenue_real_per_customer  \\\n",
       "0                             -114.038049   \n",
       "1                              -60.439896   \n",
       "2                              -69.392736   \n",
       "3                              -85.251820   \n",
       "4                             -180.745449   \n",
       "5                             -153.904078   \n",
       "6                             -141.246875   \n",
       "7                                     NaN   \n",
       "8                                     NaN   \n",
       "9                                     NaN   \n",
       "10                                    NaN   \n",
       "11                                    NaN   \n",
       "12                                    NaN   \n",
       "13                                    NaN   \n",
       "14                           -4945.616759   \n",
       "15                           74806.876737   \n",
       "16                           53390.204665   \n",
       "17                           59556.682530   \n",
       "18                           63215.616651   \n",
       "19                           79603.746838   \n",
       "20                                    NaN   \n",
       "21                                    NaN   \n",
       "22                                    NaN   \n",
       "23                                    NaN   \n",
       "24                                    NaN   \n",
       "25                                    NaN   \n",
       "\n",
       "    electric_net_revenue_real_per_customer  \n",
       "0                                      NaN  \n",
       "1                                      NaN  \n",
       "2                                      NaN  \n",
       "3                                      NaN  \n",
       "4                                      NaN  \n",
       "5                                      NaN  \n",
       "6                                      NaN  \n",
       "7                                      NaN  \n",
       "8                                      NaN  \n",
       "9                                      NaN  \n",
       "10                                     NaN  \n",
       "11                                     NaN  \n",
       "12                                     NaN  \n",
       "13                                     NaN  \n",
       "14                                     NaN  \n",
       "15                                     NaN  \n",
       "16                                     NaN  \n",
       "17                                     NaN  \n",
       "18                                     NaN  \n",
       "19                                     NaN  \n",
       "20                                     NaN  \n",
       "21                                     NaN  \n",
       "22                                     NaN  \n",
       "23                                     NaN  \n",
       "24                                     NaN  \n",
       "25                                     NaN  "
      ]
     },
     "execution_count": 25,
     "metadata": {},
     "output_type": "execute_result"
    }
   ],
   "source": [
    "eia_phmsa[[\"year\", *[col for col in eia_phmsa.columns if \"per_customer\" in col]]]"
   ]
  },
  {
   "cell_type": "markdown",
   "metadata": {},
   "source": [
    "## Pipeline plots"
   ]
  },
  {
   "cell_type": "code",
   "execution_count": 551,
   "metadata": {},
   "outputs": [
    {
     "data": {
      "application/vnd.plotly.v1+json": {
       "config": {
        "plotlyServerURL": "https://plot.ly"
       },
       "data": [
        {
         "fillpattern": {
          "shape": ""
         },
         "legendgroup": "Mains",
         "line": {
          "color": "#1a1b41"
         },
         "marker": {
          "symbol": "circle"
         },
         "mode": "lines",
         "name": "Mains",
         "orientation": "v",
         "showlegend": true,
         "stackgroup": "1",
         "type": "scatter",
         "x": [
          1997,
          1998,
          1999,
          2000,
          2001,
          2002,
          2003,
          2004,
          2005,
          2006,
          2007,
          2008,
          2009,
          2010,
          2011,
          2012,
          2013,
          2014,
          2015,
          2016,
          2017,
          2018,
          2019,
          2020,
          2021,
          2022
         ],
         "xaxis": "x",
         "y": [
          1568,
          1613,
          1651,
          1677,
          1692,
          1733,
          1766,
          1786,
          1821,
          1825.4,
          1846.6,
          1833.704,
          1842.512,
          1865.868,
          1945.679,
          1929.26,
          1910.854,
          1911.432,
          1914.972,
          1922.985,
          1930.24,
          1925.76,
          1936.42,
          1945.233,
          1955.901,
          1973.845
         ],
         "yaxis": "y"
        },
        {
         "fillpattern": {
          "shape": ""
         },
         "legendgroup": "Services",
         "line": {
          "color": "#f48668"
         },
         "marker": {
          "symbol": "circle"
         },
         "mode": "lines",
         "name": "Services",
         "orientation": "v",
         "showlegend": true,
         "stackgroup": "1",
         "type": "scatter",
         "x": [
          1997,
          1998,
          1999,
          2000,
          2001,
          2002,
          2003,
          2004,
          2005,
          2006,
          2007,
          2008,
          2009,
          2010,
          2011,
          2012,
          2013,
          2014,
          2015,
          2016,
          2017,
          2018,
          2019,
          2020,
          2021,
          2022
         ],
         "xaxis": "x",
         "y": [
          1473.5984848484848,
          1522.0454545454545,
          1565,
          1619.2045454545455,
          1652.5757575757575,
          1687.7651515151515,
          1728.939393939394,
          1774.2045454545455,
          1818.503787878788,
          1857.215909090909,
          1868.371212121212,
          1693.655303030303,
          1721.2689393939395,
          1056.9520833333331,
          1068.9094696969696,
          1138.0053030303031,
          1148.6674242424242,
          1129.7621212121212,
          1139.0386363636364,
          1145.6261363636363,
          1157.3920454545455,
          1167.290909090909,
          1181.1352272727272,
          1192.2553030303031,
          1233.5299242424242,
          1239.0371212121213
         ],
         "yaxis": "y"
        }
       ],
       "layout": {
        "hovermode": "x unified",
        "legend": {
         "title": {
          "text": "Pipe"
         },
         "tracegroupgap": 0
        },
        "template": {
         "data": {
          "bar": [
           {
            "error_x": {
             "color": "rgb(51,51,51)"
            },
            "error_y": {
             "color": "rgb(51,51,51)"
            },
            "marker": {
             "line": {
              "color": "rgb(237,237,237)",
              "width": 0.5
             },
             "pattern": {
              "fillmode": "overlay",
              "size": 10,
              "solidity": 0.2
             }
            },
            "type": "bar"
           }
          ],
          "barpolar": [
           {
            "marker": {
             "line": {
              "color": "rgb(237,237,237)",
              "width": 0.5
             },
             "pattern": {
              "fillmode": "overlay",
              "size": 10,
              "solidity": 0.2
             }
            },
            "type": "barpolar"
           }
          ],
          "carpet": [
           {
            "aaxis": {
             "endlinecolor": "rgb(51,51,51)",
             "gridcolor": "white",
             "linecolor": "white",
             "minorgridcolor": "white",
             "startlinecolor": "rgb(51,51,51)"
            },
            "baxis": {
             "endlinecolor": "rgb(51,51,51)",
             "gridcolor": "white",
             "linecolor": "white",
             "minorgridcolor": "white",
             "startlinecolor": "rgb(51,51,51)"
            },
            "type": "carpet"
           }
          ],
          "choropleth": [
           {
            "colorbar": {
             "outlinewidth": 0,
             "tickcolor": "rgb(237,237,237)",
             "ticklen": 6,
             "ticks": "inside"
            },
            "type": "choropleth"
           }
          ],
          "contour": [
           {
            "colorbar": {
             "outlinewidth": 0,
             "tickcolor": "rgb(237,237,237)",
             "ticklen": 6,
             "ticks": "inside"
            },
            "colorscale": [
             [
              0,
              "rgb(20,44,66)"
             ],
             [
              1,
              "rgb(90,179,244)"
             ]
            ],
            "type": "contour"
           }
          ],
          "contourcarpet": [
           {
            "colorbar": {
             "outlinewidth": 0,
             "tickcolor": "rgb(237,237,237)",
             "ticklen": 6,
             "ticks": "inside"
            },
            "type": "contourcarpet"
           }
          ],
          "heatmap": [
           {
            "colorbar": {
             "outlinewidth": 0,
             "tickcolor": "rgb(237,237,237)",
             "ticklen": 6,
             "ticks": "inside"
            },
            "colorscale": [
             [
              0,
              "rgb(20,44,66)"
             ],
             [
              1,
              "rgb(90,179,244)"
             ]
            ],
            "type": "heatmap"
           }
          ],
          "heatmapgl": [
           {
            "colorbar": {
             "outlinewidth": 0,
             "tickcolor": "rgb(237,237,237)",
             "ticklen": 6,
             "ticks": "inside"
            },
            "colorscale": [
             [
              0,
              "rgb(20,44,66)"
             ],
             [
              1,
              "rgb(90,179,244)"
             ]
            ],
            "type": "heatmapgl"
           }
          ],
          "histogram": [
           {
            "marker": {
             "pattern": {
              "fillmode": "overlay",
              "size": 10,
              "solidity": 0.2
             }
            },
            "type": "histogram"
           }
          ],
          "histogram2d": [
           {
            "colorbar": {
             "outlinewidth": 0,
             "tickcolor": "rgb(237,237,237)",
             "ticklen": 6,
             "ticks": "inside"
            },
            "colorscale": [
             [
              0,
              "rgb(20,44,66)"
             ],
             [
              1,
              "rgb(90,179,244)"
             ]
            ],
            "type": "histogram2d"
           }
          ],
          "histogram2dcontour": [
           {
            "colorbar": {
             "outlinewidth": 0,
             "tickcolor": "rgb(237,237,237)",
             "ticklen": 6,
             "ticks": "inside"
            },
            "colorscale": [
             [
              0,
              "rgb(20,44,66)"
             ],
             [
              1,
              "rgb(90,179,244)"
             ]
            ],
            "type": "histogram2dcontour"
           }
          ],
          "mesh3d": [
           {
            "colorbar": {
             "outlinewidth": 0,
             "tickcolor": "rgb(237,237,237)",
             "ticklen": 6,
             "ticks": "inside"
            },
            "type": "mesh3d"
           }
          ],
          "parcoords": [
           {
            "line": {
             "colorbar": {
              "outlinewidth": 0,
              "tickcolor": "rgb(237,237,237)",
              "ticklen": 6,
              "ticks": "inside"
             }
            },
            "type": "parcoords"
           }
          ],
          "pie": [
           {
            "automargin": true,
            "type": "pie"
           }
          ],
          "scatter": [
           {
            "fillpattern": {
             "fillmode": "overlay",
             "size": 10,
             "solidity": 0.2
            },
            "type": "scatter"
           }
          ],
          "scatter3d": [
           {
            "line": {
             "colorbar": {
              "outlinewidth": 0,
              "tickcolor": "rgb(237,237,237)",
              "ticklen": 6,
              "ticks": "inside"
             }
            },
            "marker": {
             "colorbar": {
              "outlinewidth": 0,
              "tickcolor": "rgb(237,237,237)",
              "ticklen": 6,
              "ticks": "inside"
             }
            },
            "type": "scatter3d"
           }
          ],
          "scattercarpet": [
           {
            "marker": {
             "colorbar": {
              "outlinewidth": 0,
              "tickcolor": "rgb(237,237,237)",
              "ticklen": 6,
              "ticks": "inside"
             }
            },
            "type": "scattercarpet"
           }
          ],
          "scattergeo": [
           {
            "marker": {
             "colorbar": {
              "outlinewidth": 0,
              "tickcolor": "rgb(237,237,237)",
              "ticklen": 6,
              "ticks": "inside"
             }
            },
            "type": "scattergeo"
           }
          ],
          "scattergl": [
           {
            "marker": {
             "colorbar": {
              "outlinewidth": 0,
              "tickcolor": "rgb(237,237,237)",
              "ticklen": 6,
              "ticks": "inside"
             }
            },
            "type": "scattergl"
           }
          ],
          "scattermapbox": [
           {
            "marker": {
             "colorbar": {
              "outlinewidth": 0,
              "tickcolor": "rgb(237,237,237)",
              "ticklen": 6,
              "ticks": "inside"
             }
            },
            "type": "scattermapbox"
           }
          ],
          "scatterpolar": [
           {
            "marker": {
             "colorbar": {
              "outlinewidth": 0,
              "tickcolor": "rgb(237,237,237)",
              "ticklen": 6,
              "ticks": "inside"
             }
            },
            "type": "scatterpolar"
           }
          ],
          "scatterpolargl": [
           {
            "marker": {
             "colorbar": {
              "outlinewidth": 0,
              "tickcolor": "rgb(237,237,237)",
              "ticklen": 6,
              "ticks": "inside"
             }
            },
            "type": "scatterpolargl"
           }
          ],
          "scatterternary": [
           {
            "marker": {
             "colorbar": {
              "outlinewidth": 0,
              "tickcolor": "rgb(237,237,237)",
              "ticklen": 6,
              "ticks": "inside"
             }
            },
            "type": "scatterternary"
           }
          ],
          "surface": [
           {
            "colorbar": {
             "outlinewidth": 0,
             "tickcolor": "rgb(237,237,237)",
             "ticklen": 6,
             "ticks": "inside"
            },
            "colorscale": [
             [
              0,
              "rgb(20,44,66)"
             ],
             [
              1,
              "rgb(90,179,244)"
             ]
            ],
            "type": "surface"
           }
          ],
          "table": [
           {
            "cells": {
             "fill": {
              "color": "rgb(237,237,237)"
             },
             "line": {
              "color": "white"
             }
            },
            "header": {
             "fill": {
              "color": "rgb(217,217,217)"
             },
             "line": {
              "color": "white"
             }
            },
            "type": "table"
           }
          ]
         },
         "layout": {
          "annotationdefaults": {
           "arrowhead": 0,
           "arrowwidth": 1
          },
          "annotations": [
           {
            "font": {
             "color": "black",
             "size": 12
            },
            "name": "created by",
            "opacity": 0.9,
            "showarrow": false,
            "text": "Created by Electrify RVA",
            "x": -0.05,
            "xref": "paper",
            "y": -0.25,
            "yref": "paper"
           }
          ],
          "autotypenumbers": "strict",
          "coloraxis": {
           "colorbar": {
            "outlinewidth": 0,
            "tickcolor": "rgb(237,237,237)",
            "ticklen": 6,
            "ticks": "inside"
           }
          },
          "colorscale": {
           "sequential": [
            [
             0,
             "rgb(20,44,66)"
            ],
            [
             1,
             "rgb(90,179,244)"
            ]
           ],
           "sequentialminus": [
            [
             0,
             "rgb(20,44,66)"
            ],
            [
             1,
             "rgb(90,179,244)"
            ]
           ]
          },
          "colorway": [
           "#007C77",
           "#1a1b41",
           "#f48668",
           "#f2bb05",
           "#E2A0FF",
           "#8acb88"
          ],
          "font": {
           "color": "rgb(51,51,51)"
          },
          "geo": {
           "bgcolor": "white",
           "lakecolor": "white",
           "landcolor": "rgb(237,237,237)",
           "showlakes": true,
           "showland": true,
           "subunitcolor": "white"
          },
          "hoverlabel": {
           "align": "left"
          },
          "hovermode": "x unified",
          "paper_bgcolor": "white",
          "plot_bgcolor": "rgb(237,237,237)",
          "polar": {
           "angularaxis": {
            "gridcolor": "white",
            "linecolor": "white",
            "showgrid": true,
            "tickcolor": "rgb(51,51,51)",
            "ticks": "outside"
           },
           "bgcolor": "rgb(237,237,237)",
           "radialaxis": {
            "gridcolor": "white",
            "linecolor": "white",
            "showgrid": true,
            "tickcolor": "rgb(51,51,51)",
            "ticks": "outside"
           }
          },
          "scene": {
           "xaxis": {
            "backgroundcolor": "rgb(237,237,237)",
            "gridcolor": "white",
            "gridwidth": 2,
            "linecolor": "white",
            "showbackground": true,
            "showgrid": true,
            "tickcolor": "rgb(51,51,51)",
            "ticks": "outside",
            "zerolinecolor": "white"
           },
           "yaxis": {
            "backgroundcolor": "rgb(237,237,237)",
            "gridcolor": "white",
            "gridwidth": 2,
            "linecolor": "white",
            "showbackground": true,
            "showgrid": true,
            "tickcolor": "rgb(51,51,51)",
            "ticks": "outside",
            "zerolinecolor": "white"
           },
           "zaxis": {
            "backgroundcolor": "rgb(237,237,237)",
            "gridcolor": "white",
            "gridwidth": 2,
            "linecolor": "white",
            "showbackground": true,
            "showgrid": true,
            "tickcolor": "rgb(51,51,51)",
            "ticks": "outside",
            "zerolinecolor": "white"
           }
          },
          "shapedefaults": {
           "fillcolor": "black",
           "line": {
            "width": 0
           },
           "opacity": 0.3
          },
          "ternary": {
           "aaxis": {
            "gridcolor": "white",
            "linecolor": "white",
            "showgrid": true,
            "tickcolor": "rgb(51,51,51)",
            "ticks": "outside"
           },
           "baxis": {
            "gridcolor": "white",
            "linecolor": "white",
            "showgrid": true,
            "tickcolor": "rgb(51,51,51)",
            "ticks": "outside"
           },
           "bgcolor": "rgb(237,237,237)",
           "caxis": {
            "gridcolor": "white",
            "linecolor": "white",
            "showgrid": true,
            "tickcolor": "rgb(51,51,51)",
            "ticks": "outside"
           }
          },
          "title": {
           "x": 0.05
          },
          "xaxis": {
           "automargin": true,
           "gridcolor": "white",
           "linecolor": "white",
           "showgrid": true,
           "tickcolor": "rgb(51,51,51)",
           "ticks": "outside",
           "title": {
            "standoff": 15
           },
           "zerolinecolor": "white"
          },
          "yaxis": {
           "automargin": true,
           "gridcolor": "white",
           "linecolor": "white",
           "showgrid": true,
           "tickcolor": "rgb(51,51,51)",
           "tickformat": ",.0f",
           "ticks": "outside",
           "title": {
            "standoff": 15
           },
           "zerolinecolor": "white"
          }
         }
        },
        "title": {
         "text": "Miles of pipes"
        },
        "xaxis": {
         "anchor": "y",
         "domain": [
          0,
          1
         ],
         "title": {
          "text": ""
         }
        },
        "yaxis": {
         "anchor": "x",
         "domain": [
          0,
          1
         ],
         "title": {
          "text": "Miles"
         }
        }
       }
      }
     },
     "metadata": {},
     "output_type": "display_data"
    }
   ],
   "source": [
    "# mains_miles_total\n",
    "# services_miles_total\n",
    "# mains_services_miles_total\n",
    "pipe_variables = {\n",
    "    \"mains_miles_total\": \"Mains\", \n",
    "    \"services_miles_total\": \"Services\", \n",
    "}\n",
    "\n",
    "melted = eia_phmsa[[\"year\", *[*pipe_variables]]].melt(id_vars=\"year\", var_name=\"type_unformatted\", value_name=\"Miles\")\n",
    "melted[\"Pipe\"] = melted.apply(lambda r: pipe_variables[r['type_unformatted']], axis=1)\n",
    "melted\n",
    "\n",
    "fig = px.area(\n",
    "    melted, x=\"year\", y=\"Miles\", title=\"Miles of pipes\", color=\"Pipe\",\n",
    "    labels={ \"year\": \"\", },\n",
    "    color_discrete_sequence=[\"#1a1b41\", \"#f48668\"],\n",
    ")\n",
    "\n",
    "fig.update_traces(hovertemplate=None)\n",
    "fig.update_layout(hovermode='x unified')\n",
    "\n",
    "\n",
    "fig.show()\n",
    "fig.write_html(\"../docs/_includes/charts/total_miles_by_type.html\", include_plotlyjs=\"cdn\")\n"
   ]
  },
  {
   "cell_type": "code",
   "execution_count": 552,
   "metadata": {},
   "outputs": [
    {
     "data": {
      "text/plain": [
       "['services_miles_leak_prone_pipes',\n",
       " 'mains_services_miles_leak_prone_pipes',\n",
       " 'services_miles_total',\n",
       " 'mains_services_miles_total',\n",
       " 'services_miles_proportion',\n",
       " 'services_miles_change']"
      ]
     },
     "execution_count": 552,
     "metadata": {},
     "output_type": "execute_result"
    }
   ],
   "source": [
    "[col for col in eia_phmsa.columns if \"services_miles\" in col]"
   ]
  },
  {
   "cell_type": "code",
   "execution_count": 553,
   "metadata": {},
   "outputs": [],
   "source": [
    "# Copper and Other are basically non-existent for RGW mains but do exist for services\n",
    "materials = pd.DataFrame(\n",
    "    [\n",
    "        ('mains_miles_steel_unprotected_bare', 'number_services_steel_unprotected_bare', 'Unprotected, Bare', 'Steel', 'Leak prone'),\n",
    "        ('mains_miles_steel_unprotected_coated', 'number_services_steel_unprotected_coated', 'Unprotected, Coated', 'Steel', 'Leak prone'),\n",
    "        ('mains_miles_steel_cathodically_protected_bare', 'number_services_steel_cathodically_protected_bare', 'Cathodically protected, Bare', 'Steel', 'Leak prone'),\n",
    "        ('mains_miles_steel_cathodically_protected_coated', 'number_services_steel_cathodically_protected_coated', 'Cathodically protected, Coated', 'Steel', 'Non-Leak prone'),\n",
    "        ('mains_miles_cast_iron', 'number_services_cast_iron', 'Cast Iron', 'Iron', 'Leak prone'),\n",
    "        ('mains_miles_ductile_iron', 'number_services_ductile_iron', 'Ductile Iron', 'Iron', 'Leak prone'),\n",
    "        ('mains_miles_plastic', 'number_services_plastic', 'Plastic', 'Plastic', 'Non-Leak prone'),\n",
    "        ('mains_miles_copper', 'number_services_copper', 'Copper', 'Copper', 'Leak prone'),\n",
    "        ('mains_miles_other', 'number_services_other', 'Other', 'Other', 'Leak prone'),\n",
    "    ],\n",
    "    columns=[\"mains_variable\", \"services_variable\", \"material_specific\", \"material\", \"leak_prone\"]\n",
    ")\n"
   ]
  },
  {
   "cell_type": "code",
   "execution_count": 554,
   "metadata": {},
   "outputs": [
    {
     "data": {
      "text/html": [
       "<div>\n",
       "<style scoped>\n",
       "    .dataframe tbody tr th:only-of-type {\n",
       "        vertical-align: middle;\n",
       "    }\n",
       "\n",
       "    .dataframe tbody tr th {\n",
       "        vertical-align: top;\n",
       "    }\n",
       "\n",
       "    .dataframe thead th {\n",
       "        text-align: right;\n",
       "    }\n",
       "</style>\n",
       "<table border=\"1\" class=\"dataframe\">\n",
       "  <thead>\n",
       "    <tr style=\"text-align: right;\">\n",
       "      <th></th>\n",
       "      <th>year</th>\n",
       "      <th>mains_variable</th>\n",
       "      <th>Mains miles</th>\n",
       "      <th>material_specific</th>\n",
       "      <th>material</th>\n",
       "      <th>leak_prone</th>\n",
       "      <th>services_variable</th>\n",
       "      <th>Number of services</th>\n",
       "      <th>average_service_length</th>\n",
       "      <th>Services miles</th>\n",
       "    </tr>\n",
       "  </thead>\n",
       "  <tbody>\n",
       "    <tr>\n",
       "      <th>0</th>\n",
       "      <td>1997</td>\n",
       "      <td>mains_miles_steel_unprotected_bare</td>\n",
       "      <td>2.0</td>\n",
       "      <td>Unprotected, Bare</td>\n",
       "      <td>Steel</td>\n",
       "      <td>Leak prone</td>\n",
       "      <td>number_services_steel_unprotected_bare</td>\n",
       "      <td>4081</td>\n",
       "      <td>100</td>\n",
       "      <td>77.291667</td>\n",
       "    </tr>\n",
       "    <tr>\n",
       "      <th>1</th>\n",
       "      <td>1997</td>\n",
       "      <td>mains_miles_steel_unprotected_coated</td>\n",
       "      <td>21.0</td>\n",
       "      <td>Unprotected, Coated</td>\n",
       "      <td>Steel</td>\n",
       "      <td>Leak prone</td>\n",
       "      <td>number_services_steel_unprotected_coated</td>\n",
       "      <td>9150</td>\n",
       "      <td>100</td>\n",
       "      <td>173.295455</td>\n",
       "    </tr>\n",
       "    <tr>\n",
       "      <th>2</th>\n",
       "      <td>1997</td>\n",
       "      <td>mains_miles_steel_cathodically_protected_bare</td>\n",
       "      <td>0.0</td>\n",
       "      <td>Cathodically protected, Bare</td>\n",
       "      <td>Steel</td>\n",
       "      <td>Leak prone</td>\n",
       "      <td>number_services_steel_cathodically_protected_bare</td>\n",
       "      <td>0</td>\n",
       "      <td>100</td>\n",
       "      <td>0.000000</td>\n",
       "    </tr>\n",
       "    <tr>\n",
       "      <th>3</th>\n",
       "      <td>1997</td>\n",
       "      <td>mains_miles_steel_cathodically_protected_coated</td>\n",
       "      <td>440.0</td>\n",
       "      <td>Cathodically protected, Coated</td>\n",
       "      <td>Steel</td>\n",
       "      <td>Non-Leak prone</td>\n",
       "      <td>number_services_steel_cathodically_protected_c...</td>\n",
       "      <td>5163</td>\n",
       "      <td>100</td>\n",
       "      <td>97.784091</td>\n",
       "    </tr>\n",
       "    <tr>\n",
       "      <th>4</th>\n",
       "      <td>1997</td>\n",
       "      <td>mains_miles_cast_iron</td>\n",
       "      <td>556.0</td>\n",
       "      <td>Cast Iron</td>\n",
       "      <td>Iron</td>\n",
       "      <td>Leak prone</td>\n",
       "      <td>number_services_cast_iron</td>\n",
       "      <td>245</td>\n",
       "      <td>100</td>\n",
       "      <td>4.640152</td>\n",
       "    </tr>\n",
       "  </tbody>\n",
       "</table>\n",
       "</div>"
      ],
      "text/plain": [
       "   year                                   mains_variable  Mains miles  \\\n",
       "0  1997               mains_miles_steel_unprotected_bare          2.0   \n",
       "1  1997             mains_miles_steel_unprotected_coated         21.0   \n",
       "2  1997    mains_miles_steel_cathodically_protected_bare          0.0   \n",
       "3  1997  mains_miles_steel_cathodically_protected_coated        440.0   \n",
       "4  1997                            mains_miles_cast_iron        556.0   \n",
       "\n",
       "                material_specific material      leak_prone  \\\n",
       "0               Unprotected, Bare    Steel      Leak prone   \n",
       "1             Unprotected, Coated    Steel      Leak prone   \n",
       "2    Cathodically protected, Bare    Steel      Leak prone   \n",
       "3  Cathodically protected, Coated    Steel  Non-Leak prone   \n",
       "4                       Cast Iron     Iron      Leak prone   \n",
       "\n",
       "                                   services_variable  Number of services  \\\n",
       "0             number_services_steel_unprotected_bare                4081   \n",
       "1           number_services_steel_unprotected_coated                9150   \n",
       "2  number_services_steel_cathodically_protected_bare                   0   \n",
       "3  number_services_steel_cathodically_protected_c...                5163   \n",
       "4                          number_services_cast_iron                 245   \n",
       "\n",
       "   average_service_length  Services miles  \n",
       "0                     100       77.291667  \n",
       "1                     100      173.295455  \n",
       "2                     100        0.000000  \n",
       "3                     100       97.784091  \n",
       "4                     100        4.640152  "
      ]
     },
     "execution_count": 554,
     "metadata": {},
     "output_type": "execute_result"
    }
   ],
   "source": [
    "mains_melted = eia_phmsa[\n",
    "    [\"year\", *materials['mains_variable'].to_list()]\n",
    "].melt(\n",
    "    id_vars=\"year\",\n",
    "    var_name=\"mains_variable\", value_name=\"Mains miles\"\n",
    ").merge(\n",
    "    materials, on=['mains_variable']\n",
    ").drop('services_variable', axis=1)\n",
    "\n",
    "services_melted = eia_phmsa[\n",
    "    [\"year\", *materials['services_variable'].to_list()]\n",
    "].melt(\n",
    "    id_vars=\"year\",\n",
    "    var_name=\"services_variable\", value_name=\"Number of services\"\n",
    ").merge(\n",
    "    materials, on=['services_variable']\n",
    ").drop('mains_variable', axis=1)\n",
    "\n",
    "melted = mains_melted.merge(\n",
    "    services_melted, on=['year', 'material_specific', 'material', 'leak_prone']\n",
    ").merge(\n",
    "    eia_phmsa[['year', 'average_service_length']]\n",
    ")\n",
    "\n",
    "# Convert length in feet to miles\n",
    "melted['Services miles'] = (melted['average_service_length'] / 5280) * melted['Number of services']\n",
    "\n",
    "melted.head()"
   ]
  },
  {
   "cell_type": "code",
   "execution_count": null,
   "metadata": {},
   "outputs": [],
   "source": []
  },
  {
   "cell_type": "code",
   "execution_count": 555,
   "metadata": {},
   "outputs": [
    {
     "data": {
      "application/vnd.plotly.v1+json": {
       "config": {
        "plotlyServerURL": "https://plot.ly"
       },
       "data": [
        {
         "customdata": [
          [
           "Unprotected, Bare"
          ],
          [
           "Unprotected, Bare"
          ],
          [
           "Unprotected, Bare"
          ],
          [
           "Unprotected, Bare"
          ],
          [
           "Unprotected, Bare"
          ],
          [
           "Unprotected, Bare"
          ],
          [
           "Unprotected, Bare"
          ],
          [
           "Unprotected, Bare"
          ],
          [
           "Unprotected, Bare"
          ],
          [
           "Unprotected, Bare"
          ],
          [
           "Unprotected, Bare"
          ],
          [
           "Unprotected, Bare"
          ],
          [
           "Unprotected, Bare"
          ],
          [
           "Unprotected, Bare"
          ],
          [
           "Unprotected, Bare"
          ],
          [
           "Unprotected, Bare"
          ],
          [
           "Unprotected, Bare"
          ],
          [
           "Unprotected, Bare"
          ],
          [
           "Unprotected, Bare"
          ],
          [
           "Unprotected, Bare"
          ],
          [
           "Unprotected, Bare"
          ],
          [
           "Unprotected, Bare"
          ],
          [
           "Unprotected, Bare"
          ],
          [
           "Unprotected, Bare"
          ],
          [
           "Unprotected, Bare"
          ],
          [
           "Unprotected, Bare"
          ]
         ],
         "fillpattern": {
          "shape": ""
         },
         "hovertemplate": "%{customdata[0]} : %{y}",
         "legendgroup": "Steel",
         "line": {
          "color": "#007C77"
         },
         "marker": {
          "symbol": "circle"
         },
         "mode": "lines",
         "name": "Steel",
         "orientation": "v",
         "showlegend": true,
         "stackgroup": "1",
         "type": "scatter",
         "x": [
          1997,
          1998,
          1999,
          2000,
          2001,
          2002,
          2003,
          2004,
          2005,
          2006,
          2007,
          2008,
          2009,
          2010,
          2011,
          2012,
          2013,
          2014,
          2015,
          2016,
          2017,
          2018,
          2019,
          2020,
          2021,
          2022
         ],
         "xaxis": "x",
         "y": [
          2,
          2,
          2,
          2,
          0,
          0,
          0,
          0,
          0,
          0,
          0.4,
          22.484,
          5.921,
          11.543,
          11.719,
          2.296,
          1.965,
          1.899,
          3.371,
          1.154,
          3.27,
          2.92,
          1.05,
          1.191,
          1.194,
          1.026
         ],
         "yaxis": "y"
        },
        {
         "customdata": [
          [
           "Unprotected, Coated"
          ],
          [
           "Unprotected, Coated"
          ],
          [
           "Unprotected, Coated"
          ],
          [
           "Unprotected, Coated"
          ],
          [
           "Unprotected, Coated"
          ],
          [
           "Unprotected, Coated"
          ],
          [
           "Unprotected, Coated"
          ],
          [
           "Unprotected, Coated"
          ],
          [
           "Unprotected, Coated"
          ],
          [
           "Unprotected, Coated"
          ],
          [
           "Unprotected, Coated"
          ],
          [
           "Unprotected, Coated"
          ],
          [
           "Unprotected, Coated"
          ],
          [
           "Unprotected, Coated"
          ],
          [
           "Unprotected, Coated"
          ],
          [
           "Unprotected, Coated"
          ],
          [
           "Unprotected, Coated"
          ],
          [
           "Unprotected, Coated"
          ],
          [
           "Unprotected, Coated"
          ],
          [
           "Unprotected, Coated"
          ],
          [
           "Unprotected, Coated"
          ],
          [
           "Unprotected, Coated"
          ],
          [
           "Unprotected, Coated"
          ],
          [
           "Unprotected, Coated"
          ],
          [
           "Unprotected, Coated"
          ],
          [
           "Unprotected, Coated"
          ]
         ],
         "fillpattern": {
          "shape": ""
         },
         "hovertemplate": "%{customdata[0]} : %{y}",
         "legendgroup": "Steel",
         "line": {
          "color": "#007C77"
         },
         "marker": {
          "symbol": "circle"
         },
         "mode": "lines",
         "name": "Steel",
         "orientation": "v",
         "showlegend": false,
         "stackgroup": "1",
         "type": "scatter",
         "x": [
          1997,
          1998,
          1999,
          2000,
          2001,
          2002,
          2003,
          2004,
          2005,
          2006,
          2007,
          2008,
          2009,
          2010,
          2011,
          2012,
          2013,
          2014,
          2015,
          2016,
          2017,
          2018,
          2019,
          2020,
          2021,
          2022
         ],
         "xaxis": "x",
         "y": [
          21,
          16,
          7,
          7,
          2,
          1,
          9,
          0,
          0,
          0,
          10.3,
          1,
          3.8,
          4.5,
          5.597,
          5.997,
          3.908,
          3.384,
          3.242,
          3.021,
          2.83,
          0,
          0,
          3.749,
          1.34,
          2.09
         ],
         "yaxis": "y"
        },
        {
         "customdata": [
          [
           "Cathodically protected, Bare"
          ],
          [
           "Cathodically protected, Bare"
          ],
          [
           "Cathodically protected, Bare"
          ],
          [
           "Cathodically protected, Bare"
          ],
          [
           "Cathodically protected, Bare"
          ],
          [
           "Cathodically protected, Bare"
          ],
          [
           "Cathodically protected, Bare"
          ],
          [
           "Cathodically protected, Bare"
          ],
          [
           "Cathodically protected, Bare"
          ],
          [
           "Cathodically protected, Bare"
          ],
          [
           "Cathodically protected, Bare"
          ],
          [
           "Cathodically protected, Bare"
          ],
          [
           "Cathodically protected, Bare"
          ],
          [
           "Cathodically protected, Bare"
          ],
          [
           "Cathodically protected, Bare"
          ],
          [
           "Cathodically protected, Bare"
          ],
          [
           "Cathodically protected, Bare"
          ],
          [
           "Cathodically protected, Bare"
          ],
          [
           "Cathodically protected, Bare"
          ],
          [
           "Cathodically protected, Bare"
          ],
          [
           "Cathodically protected, Bare"
          ],
          [
           "Cathodically protected, Bare"
          ],
          [
           "Cathodically protected, Bare"
          ],
          [
           "Cathodically protected, Bare"
          ],
          [
           "Cathodically protected, Bare"
          ],
          [
           "Cathodically protected, Bare"
          ]
         ],
         "fillpattern": {
          "shape": ""
         },
         "hovertemplate": "%{customdata[0]} : %{y}",
         "legendgroup": "Steel",
         "line": {
          "color": "#007C77"
         },
         "marker": {
          "symbol": "circle"
         },
         "mode": "lines",
         "name": "Steel",
         "orientation": "v",
         "showlegend": false,
         "stackgroup": "1",
         "type": "scatter",
         "x": [
          1997,
          1998,
          1999,
          2000,
          2001,
          2002,
          2003,
          2004,
          2005,
          2006,
          2007,
          2008,
          2009,
          2010,
          2011,
          2012,
          2013,
          2014,
          2015,
          2016,
          2017,
          2018,
          2019,
          2020,
          2021,
          2022
         ],
         "xaxis": "x",
         "y": [
          0,
          0,
          0,
          0,
          0,
          0,
          0,
          0,
          0,
          0,
          0,
          0,
          0,
          0,
          0,
          0,
          0,
          0,
          0,
          0,
          0,
          0,
          0,
          0,
          0,
          0
         ],
         "yaxis": "y"
        },
        {
         "customdata": [
          [
           "Cathodically protected, Coated"
          ],
          [
           "Cathodically protected, Coated"
          ],
          [
           "Cathodically protected, Coated"
          ],
          [
           "Cathodically protected, Coated"
          ],
          [
           "Cathodically protected, Coated"
          ],
          [
           "Cathodically protected, Coated"
          ],
          [
           "Cathodically protected, Coated"
          ],
          [
           "Cathodically protected, Coated"
          ],
          [
           "Cathodically protected, Coated"
          ],
          [
           "Cathodically protected, Coated"
          ],
          [
           "Cathodically protected, Coated"
          ],
          [
           "Cathodically protected, Coated"
          ],
          [
           "Cathodically protected, Coated"
          ],
          [
           "Cathodically protected, Coated"
          ],
          [
           "Cathodically protected, Coated"
          ],
          [
           "Cathodically protected, Coated"
          ],
          [
           "Cathodically protected, Coated"
          ],
          [
           "Cathodically protected, Coated"
          ],
          [
           "Cathodically protected, Coated"
          ],
          [
           "Cathodically protected, Coated"
          ],
          [
           "Cathodically protected, Coated"
          ],
          [
           "Cathodically protected, Coated"
          ],
          [
           "Cathodically protected, Coated"
          ],
          [
           "Cathodically protected, Coated"
          ],
          [
           "Cathodically protected, Coated"
          ],
          [
           "Cathodically protected, Coated"
          ]
         ],
         "fillpattern": {
          "shape": ""
         },
         "hovertemplate": "%{customdata[0]} : %{y}",
         "legendgroup": "Steel",
         "line": {
          "color": "#007C77"
         },
         "marker": {
          "symbol": "circle"
         },
         "mode": "lines",
         "name": "Steel",
         "orientation": "v",
         "showlegend": false,
         "stackgroup": "1",
         "type": "scatter",
         "x": [
          1997,
          1998,
          1999,
          2000,
          2001,
          2002,
          2003,
          2004,
          2005,
          2006,
          2007,
          2008,
          2009,
          2010,
          2011,
          2012,
          2013,
          2014,
          2015,
          2016,
          2017,
          2018,
          2019,
          2020,
          2021,
          2022
         ],
         "xaxis": "x",
         "y": [
          440,
          449,
          462,
          466,
          477,
          488,
          491,
          503,
          505,
          473.1,
          460.1,
          459.8,
          471.5,
          464.45,
          464.8,
          465.865,
          459.492,
          456.345,
          450.371,
          451.207,
          447.26,
          446.88,
          448.21,
          442.41,
          441.436,
          438.715
         ],
         "yaxis": "y"
        },
        {
         "customdata": [
          [
           "Cast Iron"
          ],
          [
           "Cast Iron"
          ],
          [
           "Cast Iron"
          ],
          [
           "Cast Iron"
          ],
          [
           "Cast Iron"
          ],
          [
           "Cast Iron"
          ],
          [
           "Cast Iron"
          ],
          [
           "Cast Iron"
          ],
          [
           "Cast Iron"
          ],
          [
           "Cast Iron"
          ],
          [
           "Cast Iron"
          ],
          [
           "Cast Iron"
          ],
          [
           "Cast Iron"
          ],
          [
           "Cast Iron"
          ],
          [
           "Cast Iron"
          ],
          [
           "Cast Iron"
          ],
          [
           "Cast Iron"
          ],
          [
           "Cast Iron"
          ],
          [
           "Cast Iron"
          ],
          [
           "Cast Iron"
          ],
          [
           "Cast Iron"
          ],
          [
           "Cast Iron"
          ],
          [
           "Cast Iron"
          ],
          [
           "Cast Iron"
          ],
          [
           "Cast Iron"
          ],
          [
           "Cast Iron"
          ]
         ],
         "fillpattern": {
          "shape": ""
         },
         "hovertemplate": "%{customdata[0]} : %{y}",
         "legendgroup": "Iron",
         "line": {
          "color": "#1a1b41"
         },
         "marker": {
          "symbol": "circle"
         },
         "mode": "lines",
         "name": "Iron",
         "orientation": "v",
         "showlegend": true,
         "stackgroup": "1",
         "type": "scatter",
         "x": [
          1997,
          1998,
          1999,
          2000,
          2001,
          2002,
          2003,
          2004,
          2005,
          2006,
          2007,
          2008,
          2009,
          2010,
          2011,
          2012,
          2013,
          2014,
          2015,
          2016,
          2017,
          2018,
          2019,
          2020,
          2021,
          2022
         ],
         "xaxis": "x",
         "y": [
          556,
          554,
          552,
          536,
          520,
          495,
          468,
          451,
          439,
          422.9,
          408.5,
          396.397,
          375.956,
          353.696,
          315.177,
          263.88,
          220.602,
          198.066,
          185.54,
          171.866,
          161.19,
          156.63,
          146.87,
          139.02,
          134.7,
          129.58
         ],
         "yaxis": "y"
        },
        {
         "customdata": [
          [
           "Ductile Iron"
          ],
          [
           "Ductile Iron"
          ],
          [
           "Ductile Iron"
          ],
          [
           "Ductile Iron"
          ],
          [
           "Ductile Iron"
          ],
          [
           "Ductile Iron"
          ],
          [
           "Ductile Iron"
          ],
          [
           "Ductile Iron"
          ],
          [
           "Ductile Iron"
          ],
          [
           "Ductile Iron"
          ],
          [
           "Ductile Iron"
          ],
          [
           "Ductile Iron"
          ],
          [
           "Ductile Iron"
          ],
          [
           "Ductile Iron"
          ],
          [
           "Ductile Iron"
          ],
          [
           "Ductile Iron"
          ],
          [
           "Ductile Iron"
          ],
          [
           "Ductile Iron"
          ],
          [
           "Ductile Iron"
          ],
          [
           "Ductile Iron"
          ],
          [
           "Ductile Iron"
          ],
          [
           "Ductile Iron"
          ],
          [
           "Ductile Iron"
          ],
          [
           "Ductile Iron"
          ],
          [
           "Ductile Iron"
          ],
          [
           "Ductile Iron"
          ]
         ],
         "fillpattern": {
          "shape": ""
         },
         "hovertemplate": "%{customdata[0]} : %{y}",
         "legendgroup": "Iron",
         "line": {
          "color": "#1a1b41"
         },
         "marker": {
          "symbol": "circle"
         },
         "mode": "lines",
         "name": "Iron",
         "orientation": "v",
         "showlegend": false,
         "stackgroup": "1",
         "type": "scatter",
         "x": [
          1997,
          1998,
          1999,
          2000,
          2001,
          2002,
          2003,
          2004,
          2005,
          2006,
          2007,
          2008,
          2009,
          2010,
          2011,
          2012,
          2013,
          2014,
          2015,
          2016,
          2017,
          2018,
          2019,
          2020,
          2021,
          2022
         ],
         "xaxis": "x",
         "y": [
          152,
          152,
          152,
          152,
          152,
          151,
          148,
          147,
          145,
          145.3,
          139.5,
          124.482,
          122.224,
          117.72,
          104.158,
          91.784,
          84.38,
          80.12,
          77.376,
          72.827,
          70.15,
          68.93,
          66.92,
          65.383,
          63.76,
          62.663
         ],
         "yaxis": "y"
        },
        {
         "customdata": [
          [
           "Plastic"
          ],
          [
           "Plastic"
          ],
          [
           "Plastic"
          ],
          [
           "Plastic"
          ],
          [
           "Plastic"
          ],
          [
           "Plastic"
          ],
          [
           "Plastic"
          ],
          [
           "Plastic"
          ],
          [
           "Plastic"
          ],
          [
           "Plastic"
          ],
          [
           "Plastic"
          ],
          [
           "Plastic"
          ],
          [
           "Plastic"
          ],
          [
           "Plastic"
          ],
          [
           "Plastic"
          ],
          [
           "Plastic"
          ],
          [
           "Plastic"
          ],
          [
           "Plastic"
          ],
          [
           "Plastic"
          ],
          [
           "Plastic"
          ],
          [
           "Plastic"
          ],
          [
           "Plastic"
          ],
          [
           "Plastic"
          ],
          [
           "Plastic"
          ],
          [
           "Plastic"
          ],
          [
           "Plastic"
          ]
         ],
         "fillpattern": {
          "shape": ""
         },
         "hovertemplate": "%{customdata[0]} : %{y}",
         "legendgroup": "Plastic",
         "line": {
          "color": "#f48668"
         },
         "marker": {
          "symbol": "circle"
         },
         "mode": "lines",
         "name": "Plastic",
         "orientation": "v",
         "showlegend": true,
         "stackgroup": "1",
         "type": "scatter",
         "x": [
          1997,
          1998,
          1999,
          2000,
          2001,
          2002,
          2003,
          2004,
          2005,
          2006,
          2007,
          2008,
          2009,
          2010,
          2011,
          2012,
          2013,
          2014,
          2015,
          2016,
          2017,
          2018,
          2019,
          2020,
          2021,
          2022
         ],
         "xaxis": "x",
         "y": [
          397,
          440,
          476,
          514,
          541,
          598,
          650,
          685,
          732,
          784.1,
          827.8,
          828.046,
          861.556,
          912.855,
          1043.482,
          1099.363,
          1140.507,
          1171.618,
          1195.072,
          1222.91,
          1245.54,
          1250.4,
          1273.37,
          1293.48,
          1313.471,
          1339.771
         ],
         "yaxis": "y"
        },
        {
         "customdata": [
          [
           "Copper"
          ],
          [
           "Copper"
          ],
          [
           "Copper"
          ],
          [
           "Copper"
          ],
          [
           "Copper"
          ],
          [
           "Copper"
          ],
          [
           "Copper"
          ],
          [
           "Copper"
          ],
          [
           "Copper"
          ],
          [
           "Copper"
          ],
          [
           "Copper"
          ],
          [
           "Copper"
          ],
          [
           "Copper"
          ],
          [
           "Copper"
          ],
          [
           "Copper"
          ],
          [
           "Copper"
          ],
          [
           "Copper"
          ],
          [
           "Copper"
          ],
          [
           "Copper"
          ],
          [
           "Copper"
          ],
          [
           "Copper"
          ],
          [
           "Copper"
          ],
          [
           "Copper"
          ],
          [
           "Copper"
          ],
          [
           "Copper"
          ],
          [
           "Copper"
          ]
         ],
         "fillpattern": {
          "shape": ""
         },
         "hovertemplate": "%{customdata[0]} : %{y}",
         "legendgroup": "Copper",
         "line": {
          "color": "#f2bb05"
         },
         "marker": {
          "symbol": "circle"
         },
         "mode": "lines",
         "name": "Copper",
         "orientation": "v",
         "showlegend": true,
         "stackgroup": "1",
         "type": "scatter",
         "x": [
          1997,
          1998,
          1999,
          2000,
          2001,
          2002,
          2003,
          2004,
          2005,
          2006,
          2007,
          2008,
          2009,
          2010,
          2011,
          2012,
          2013,
          2014,
          2015,
          2016,
          2017,
          2018,
          2019,
          2020,
          2021,
          2022
         ],
         "xaxis": "x",
         "y": [
          0,
          0,
          0,
          0,
          0,
          0,
          0,
          0,
          0,
          0,
          0,
          0.231,
          0.219,
          0.144,
          0,
          0,
          0,
          0,
          0,
          0,
          0,
          0,
          0,
          0,
          0,
          0
         ],
         "yaxis": "y"
        },
        {
         "customdata": [
          [
           "Other"
          ],
          [
           "Other"
          ],
          [
           "Other"
          ],
          [
           "Other"
          ],
          [
           "Other"
          ],
          [
           "Other"
          ],
          [
           "Other"
          ],
          [
           "Other"
          ],
          [
           "Other"
          ],
          [
           "Other"
          ],
          [
           "Other"
          ],
          [
           "Other"
          ],
          [
           "Other"
          ],
          [
           "Other"
          ],
          [
           "Other"
          ],
          [
           "Other"
          ],
          [
           "Other"
          ],
          [
           "Other"
          ],
          [
           "Other"
          ],
          [
           "Other"
          ],
          [
           "Other"
          ],
          [
           "Other"
          ],
          [
           "Other"
          ],
          [
           "Other"
          ],
          [
           "Other"
          ],
          [
           "Other"
          ]
         ],
         "fillpattern": {
          "shape": ""
         },
         "hovertemplate": "%{customdata[0]} : %{y}",
         "legendgroup": "Other",
         "line": {
          "color": "#E2A0FF"
         },
         "marker": {
          "symbol": "circle"
         },
         "mode": "lines",
         "name": "Other",
         "orientation": "v",
         "showlegend": true,
         "stackgroup": "1",
         "type": "scatter",
         "x": [
          1997,
          1998,
          1999,
          2000,
          2001,
          2002,
          2003,
          2004,
          2005,
          2006,
          2007,
          2008,
          2009,
          2010,
          2011,
          2012,
          2013,
          2014,
          2015,
          2016,
          2017,
          2018,
          2019,
          2020,
          2021,
          2022
         ],
         "xaxis": "x",
         "y": [
          0,
          0,
          0,
          0,
          0,
          0,
          0,
          0,
          0,
          0,
          0,
          0,
          0,
          0.96,
          0.746,
          0.075,
          0,
          0,
          0,
          0,
          0,
          0,
          0,
          0,
          0,
          0
         ],
         "yaxis": "y"
        }
       ],
       "layout": {
        "hovermode": "x unified",
        "legend": {
         "title": {
          "text": "Material"
         },
         "tracegroupgap": 0
        },
        "template": {
         "data": {
          "bar": [
           {
            "error_x": {
             "color": "rgb(51,51,51)"
            },
            "error_y": {
             "color": "rgb(51,51,51)"
            },
            "marker": {
             "line": {
              "color": "rgb(237,237,237)",
              "width": 0.5
             },
             "pattern": {
              "fillmode": "overlay",
              "size": 10,
              "solidity": 0.2
             }
            },
            "type": "bar"
           }
          ],
          "barpolar": [
           {
            "marker": {
             "line": {
              "color": "rgb(237,237,237)",
              "width": 0.5
             },
             "pattern": {
              "fillmode": "overlay",
              "size": 10,
              "solidity": 0.2
             }
            },
            "type": "barpolar"
           }
          ],
          "carpet": [
           {
            "aaxis": {
             "endlinecolor": "rgb(51,51,51)",
             "gridcolor": "white",
             "linecolor": "white",
             "minorgridcolor": "white",
             "startlinecolor": "rgb(51,51,51)"
            },
            "baxis": {
             "endlinecolor": "rgb(51,51,51)",
             "gridcolor": "white",
             "linecolor": "white",
             "minorgridcolor": "white",
             "startlinecolor": "rgb(51,51,51)"
            },
            "type": "carpet"
           }
          ],
          "choropleth": [
           {
            "colorbar": {
             "outlinewidth": 0,
             "tickcolor": "rgb(237,237,237)",
             "ticklen": 6,
             "ticks": "inside"
            },
            "type": "choropleth"
           }
          ],
          "contour": [
           {
            "colorbar": {
             "outlinewidth": 0,
             "tickcolor": "rgb(237,237,237)",
             "ticklen": 6,
             "ticks": "inside"
            },
            "colorscale": [
             [
              0,
              "rgb(20,44,66)"
             ],
             [
              1,
              "rgb(90,179,244)"
             ]
            ],
            "type": "contour"
           }
          ],
          "contourcarpet": [
           {
            "colorbar": {
             "outlinewidth": 0,
             "tickcolor": "rgb(237,237,237)",
             "ticklen": 6,
             "ticks": "inside"
            },
            "type": "contourcarpet"
           }
          ],
          "heatmap": [
           {
            "colorbar": {
             "outlinewidth": 0,
             "tickcolor": "rgb(237,237,237)",
             "ticklen": 6,
             "ticks": "inside"
            },
            "colorscale": [
             [
              0,
              "rgb(20,44,66)"
             ],
             [
              1,
              "rgb(90,179,244)"
             ]
            ],
            "type": "heatmap"
           }
          ],
          "heatmapgl": [
           {
            "colorbar": {
             "outlinewidth": 0,
             "tickcolor": "rgb(237,237,237)",
             "ticklen": 6,
             "ticks": "inside"
            },
            "colorscale": [
             [
              0,
              "rgb(20,44,66)"
             ],
             [
              1,
              "rgb(90,179,244)"
             ]
            ],
            "type": "heatmapgl"
           }
          ],
          "histogram": [
           {
            "marker": {
             "pattern": {
              "fillmode": "overlay",
              "size": 10,
              "solidity": 0.2
             }
            },
            "type": "histogram"
           }
          ],
          "histogram2d": [
           {
            "colorbar": {
             "outlinewidth": 0,
             "tickcolor": "rgb(237,237,237)",
             "ticklen": 6,
             "ticks": "inside"
            },
            "colorscale": [
             [
              0,
              "rgb(20,44,66)"
             ],
             [
              1,
              "rgb(90,179,244)"
             ]
            ],
            "type": "histogram2d"
           }
          ],
          "histogram2dcontour": [
           {
            "colorbar": {
             "outlinewidth": 0,
             "tickcolor": "rgb(237,237,237)",
             "ticklen": 6,
             "ticks": "inside"
            },
            "colorscale": [
             [
              0,
              "rgb(20,44,66)"
             ],
             [
              1,
              "rgb(90,179,244)"
             ]
            ],
            "type": "histogram2dcontour"
           }
          ],
          "mesh3d": [
           {
            "colorbar": {
             "outlinewidth": 0,
             "tickcolor": "rgb(237,237,237)",
             "ticklen": 6,
             "ticks": "inside"
            },
            "type": "mesh3d"
           }
          ],
          "parcoords": [
           {
            "line": {
             "colorbar": {
              "outlinewidth": 0,
              "tickcolor": "rgb(237,237,237)",
              "ticklen": 6,
              "ticks": "inside"
             }
            },
            "type": "parcoords"
           }
          ],
          "pie": [
           {
            "automargin": true,
            "type": "pie"
           }
          ],
          "scatter": [
           {
            "fillpattern": {
             "fillmode": "overlay",
             "size": 10,
             "solidity": 0.2
            },
            "type": "scatter"
           }
          ],
          "scatter3d": [
           {
            "line": {
             "colorbar": {
              "outlinewidth": 0,
              "tickcolor": "rgb(237,237,237)",
              "ticklen": 6,
              "ticks": "inside"
             }
            },
            "marker": {
             "colorbar": {
              "outlinewidth": 0,
              "tickcolor": "rgb(237,237,237)",
              "ticklen": 6,
              "ticks": "inside"
             }
            },
            "type": "scatter3d"
           }
          ],
          "scattercarpet": [
           {
            "marker": {
             "colorbar": {
              "outlinewidth": 0,
              "tickcolor": "rgb(237,237,237)",
              "ticklen": 6,
              "ticks": "inside"
             }
            },
            "type": "scattercarpet"
           }
          ],
          "scattergeo": [
           {
            "marker": {
             "colorbar": {
              "outlinewidth": 0,
              "tickcolor": "rgb(237,237,237)",
              "ticklen": 6,
              "ticks": "inside"
             }
            },
            "type": "scattergeo"
           }
          ],
          "scattergl": [
           {
            "marker": {
             "colorbar": {
              "outlinewidth": 0,
              "tickcolor": "rgb(237,237,237)",
              "ticklen": 6,
              "ticks": "inside"
             }
            },
            "type": "scattergl"
           }
          ],
          "scattermapbox": [
           {
            "marker": {
             "colorbar": {
              "outlinewidth": 0,
              "tickcolor": "rgb(237,237,237)",
              "ticklen": 6,
              "ticks": "inside"
             }
            },
            "type": "scattermapbox"
           }
          ],
          "scatterpolar": [
           {
            "marker": {
             "colorbar": {
              "outlinewidth": 0,
              "tickcolor": "rgb(237,237,237)",
              "ticklen": 6,
              "ticks": "inside"
             }
            },
            "type": "scatterpolar"
           }
          ],
          "scatterpolargl": [
           {
            "marker": {
             "colorbar": {
              "outlinewidth": 0,
              "tickcolor": "rgb(237,237,237)",
              "ticklen": 6,
              "ticks": "inside"
             }
            },
            "type": "scatterpolargl"
           }
          ],
          "scatterternary": [
           {
            "marker": {
             "colorbar": {
              "outlinewidth": 0,
              "tickcolor": "rgb(237,237,237)",
              "ticklen": 6,
              "ticks": "inside"
             }
            },
            "type": "scatterternary"
           }
          ],
          "surface": [
           {
            "colorbar": {
             "outlinewidth": 0,
             "tickcolor": "rgb(237,237,237)",
             "ticklen": 6,
             "ticks": "inside"
            },
            "colorscale": [
             [
              0,
              "rgb(20,44,66)"
             ],
             [
              1,
              "rgb(90,179,244)"
             ]
            ],
            "type": "surface"
           }
          ],
          "table": [
           {
            "cells": {
             "fill": {
              "color": "rgb(237,237,237)"
             },
             "line": {
              "color": "white"
             }
            },
            "header": {
             "fill": {
              "color": "rgb(217,217,217)"
             },
             "line": {
              "color": "white"
             }
            },
            "type": "table"
           }
          ]
         },
         "layout": {
          "annotationdefaults": {
           "arrowhead": 0,
           "arrowwidth": 1
          },
          "annotations": [
           {
            "font": {
             "color": "black",
             "size": 12
            },
            "name": "created by",
            "opacity": 0.9,
            "showarrow": false,
            "text": "Created by Electrify RVA",
            "x": -0.05,
            "xref": "paper",
            "y": -0.25,
            "yref": "paper"
           }
          ],
          "autotypenumbers": "strict",
          "coloraxis": {
           "colorbar": {
            "outlinewidth": 0,
            "tickcolor": "rgb(237,237,237)",
            "ticklen": 6,
            "ticks": "inside"
           }
          },
          "colorscale": {
           "sequential": [
            [
             0,
             "rgb(20,44,66)"
            ],
            [
             1,
             "rgb(90,179,244)"
            ]
           ],
           "sequentialminus": [
            [
             0,
             "rgb(20,44,66)"
            ],
            [
             1,
             "rgb(90,179,244)"
            ]
           ]
          },
          "colorway": [
           "#007C77",
           "#1a1b41",
           "#f48668",
           "#f2bb05",
           "#E2A0FF",
           "#8acb88"
          ],
          "font": {
           "color": "rgb(51,51,51)"
          },
          "geo": {
           "bgcolor": "white",
           "lakecolor": "white",
           "landcolor": "rgb(237,237,237)",
           "showlakes": true,
           "showland": true,
           "subunitcolor": "white"
          },
          "hoverlabel": {
           "align": "left"
          },
          "hovermode": "x unified",
          "paper_bgcolor": "white",
          "plot_bgcolor": "rgb(237,237,237)",
          "polar": {
           "angularaxis": {
            "gridcolor": "white",
            "linecolor": "white",
            "showgrid": true,
            "tickcolor": "rgb(51,51,51)",
            "ticks": "outside"
           },
           "bgcolor": "rgb(237,237,237)",
           "radialaxis": {
            "gridcolor": "white",
            "linecolor": "white",
            "showgrid": true,
            "tickcolor": "rgb(51,51,51)",
            "ticks": "outside"
           }
          },
          "scene": {
           "xaxis": {
            "backgroundcolor": "rgb(237,237,237)",
            "gridcolor": "white",
            "gridwidth": 2,
            "linecolor": "white",
            "showbackground": true,
            "showgrid": true,
            "tickcolor": "rgb(51,51,51)",
            "ticks": "outside",
            "zerolinecolor": "white"
           },
           "yaxis": {
            "backgroundcolor": "rgb(237,237,237)",
            "gridcolor": "white",
            "gridwidth": 2,
            "linecolor": "white",
            "showbackground": true,
            "showgrid": true,
            "tickcolor": "rgb(51,51,51)",
            "ticks": "outside",
            "zerolinecolor": "white"
           },
           "zaxis": {
            "backgroundcolor": "rgb(237,237,237)",
            "gridcolor": "white",
            "gridwidth": 2,
            "linecolor": "white",
            "showbackground": true,
            "showgrid": true,
            "tickcolor": "rgb(51,51,51)",
            "ticks": "outside",
            "zerolinecolor": "white"
           }
          },
          "shapedefaults": {
           "fillcolor": "black",
           "line": {
            "width": 0
           },
           "opacity": 0.3
          },
          "ternary": {
           "aaxis": {
            "gridcolor": "white",
            "linecolor": "white",
            "showgrid": true,
            "tickcolor": "rgb(51,51,51)",
            "ticks": "outside"
           },
           "baxis": {
            "gridcolor": "white",
            "linecolor": "white",
            "showgrid": true,
            "tickcolor": "rgb(51,51,51)",
            "ticks": "outside"
           },
           "bgcolor": "rgb(237,237,237)",
           "caxis": {
            "gridcolor": "white",
            "linecolor": "white",
            "showgrid": true,
            "tickcolor": "rgb(51,51,51)",
            "ticks": "outside"
           }
          },
          "title": {
           "x": 0.05
          },
          "xaxis": {
           "automargin": true,
           "gridcolor": "white",
           "linecolor": "white",
           "showgrid": true,
           "tickcolor": "rgb(51,51,51)",
           "ticks": "outside",
           "title": {
            "standoff": 15
           },
           "zerolinecolor": "white"
          },
          "yaxis": {
           "automargin": true,
           "gridcolor": "white",
           "linecolor": "white",
           "showgrid": true,
           "tickcolor": "rgb(51,51,51)",
           "tickformat": ",.0f",
           "ticks": "outside",
           "title": {
            "standoff": 15
           },
           "zerolinecolor": "white"
          }
         }
        },
        "title": {
         "text": "Mains miles by material"
        },
        "xaxis": {
         "anchor": "y",
         "domain": [
          0,
          1
         ],
         "title": {
          "text": ""
         }
        },
        "yaxis": {
         "anchor": "x",
         "domain": [
          0,
          1
         ],
         "title": {
          "text": "Mains miles"
         }
        }
       }
      }
     },
     "metadata": {},
     "output_type": "display_data"
    }
   ],
   "source": [
    "fig = px.area(\n",
    "    melted, x=\"year\", y=\"Mains miles\", title=\"Mains miles by material\", color=\"material\", line_group='material_specific',\n",
    "    labels={ \"year\": \"\", \"material\": \"Material\"},\n",
    "    hover_data=[\"material_specific\"],\n",
    "    #color_discrete_sequence=[\"#1a1b41\", \"#f48668\"],\n",
    ")\n",
    "\n",
    "fig.update_traces(hovertemplate=None)\n",
    "fig.update_traces(hovertemplate = '%{customdata[0]} : %{y}')  #'year=%{customdata[0]}<br>label=%{customdata[1]}<extra></extra>')\n",
    "fig.update_layout(hovermode='x unified')\n",
    "\n",
    "\n",
    "fig.show()\n",
    "fig.write_html(\"../docs/_includes/charts/material_mains_miles.html\", include_plotlyjs=\"cdn\")"
   ]
  },
  {
   "cell_type": "code",
   "execution_count": 556,
   "metadata": {},
   "outputs": [
    {
     "data": {
      "application/vnd.plotly.v1+json": {
       "config": {
        "plotlyServerURL": "https://plot.ly"
       },
       "data": [
        {
         "customdata": [
          [
           "Unprotected, Bare"
          ],
          [
           "Unprotected, Bare"
          ],
          [
           "Unprotected, Bare"
          ],
          [
           "Unprotected, Bare"
          ],
          [
           "Unprotected, Bare"
          ],
          [
           "Unprotected, Bare"
          ],
          [
           "Unprotected, Bare"
          ],
          [
           "Unprotected, Bare"
          ],
          [
           "Unprotected, Bare"
          ],
          [
           "Unprotected, Bare"
          ],
          [
           "Unprotected, Bare"
          ],
          [
           "Unprotected, Bare"
          ],
          [
           "Unprotected, Bare"
          ],
          [
           "Unprotected, Bare"
          ],
          [
           "Unprotected, Bare"
          ],
          [
           "Unprotected, Bare"
          ],
          [
           "Unprotected, Bare"
          ],
          [
           "Unprotected, Bare"
          ],
          [
           "Unprotected, Bare"
          ],
          [
           "Unprotected, Bare"
          ],
          [
           "Unprotected, Bare"
          ],
          [
           "Unprotected, Bare"
          ],
          [
           "Unprotected, Bare"
          ],
          [
           "Unprotected, Bare"
          ],
          [
           "Unprotected, Bare"
          ],
          [
           "Unprotected, Bare"
          ]
         ],
         "fillpattern": {
          "shape": ""
         },
         "hovertemplate": "%{customdata[0]} : %{y}",
         "legendgroup": "Steel",
         "line": {
          "color": "#007C77"
         },
         "marker": {
          "symbol": "circle"
         },
         "mode": "lines",
         "name": "Steel",
         "orientation": "v",
         "showlegend": true,
         "stackgroup": "1",
         "type": "scatter",
         "x": [
          1997,
          1998,
          1999,
          2000,
          2001,
          2002,
          2003,
          2004,
          2005,
          2006,
          2007,
          2008,
          2009,
          2010,
          2011,
          2012,
          2013,
          2014,
          2015,
          2016,
          2017,
          2018,
          2019,
          2020,
          2021,
          2022
         ],
         "xaxis": "x",
         "y": [
          77.29166666666667,
          58.01136363636364,
          37.63257575757576,
          31.875,
          29.867424242424242,
          21.28787878787879,
          12.462121212121213,
          6.571969696969697,
          1.4015151515151516,
          1.4015151515151516,
          0.5871212121212122,
          159.3181818181818,
          142.40530303030303,
          80.33977272727273,
          70.30018939393939,
          47.41590909090909,
          41.94393939393939,
          40.02992424242424,
          39.00833333333333,
          36.68333333333333,
          35.96704545454545,
          34.72234848484848,
          32.867045454545455,
          30.72992424242424,
          27.59469696969697,
          26.99583333333333
         ],
         "yaxis": "y"
        },
        {
         "customdata": [
          [
           "Unprotected, Coated"
          ],
          [
           "Unprotected, Coated"
          ],
          [
           "Unprotected, Coated"
          ],
          [
           "Unprotected, Coated"
          ],
          [
           "Unprotected, Coated"
          ],
          [
           "Unprotected, Coated"
          ],
          [
           "Unprotected, Coated"
          ],
          [
           "Unprotected, Coated"
          ],
          [
           "Unprotected, Coated"
          ],
          [
           "Unprotected, Coated"
          ],
          [
           "Unprotected, Coated"
          ],
          [
           "Unprotected, Coated"
          ],
          [
           "Unprotected, Coated"
          ],
          [
           "Unprotected, Coated"
          ],
          [
           "Unprotected, Coated"
          ],
          [
           "Unprotected, Coated"
          ],
          [
           "Unprotected, Coated"
          ],
          [
           "Unprotected, Coated"
          ],
          [
           "Unprotected, Coated"
          ],
          [
           "Unprotected, Coated"
          ],
          [
           "Unprotected, Coated"
          ],
          [
           "Unprotected, Coated"
          ],
          [
           "Unprotected, Coated"
          ],
          [
           "Unprotected, Coated"
          ],
          [
           "Unprotected, Coated"
          ],
          [
           "Unprotected, Coated"
          ]
         ],
         "fillpattern": {
          "shape": ""
         },
         "hovertemplate": "%{customdata[0]} : %{y}",
         "legendgroup": "Steel",
         "line": {
          "color": "#007C77"
         },
         "marker": {
          "symbol": "circle"
         },
         "mode": "lines",
         "name": "Steel",
         "orientation": "v",
         "showlegend": false,
         "stackgroup": "1",
         "type": "scatter",
         "x": [
          1997,
          1998,
          1999,
          2000,
          2001,
          2002,
          2003,
          2004,
          2005,
          2006,
          2007,
          2008,
          2009,
          2010,
          2011,
          2012,
          2013,
          2014,
          2015,
          2016,
          2017,
          2018,
          2019,
          2020,
          2021,
          2022
         ],
         "xaxis": "x",
         "y": [
          173.29545454545456,
          173.29545454545456,
          173.29545454545456,
          157.32954545454547,
          150.2840909090909,
          132.68939393939394,
          117.91666666666667,
          110.51136363636364,
          90.47348484848484,
          74.18560606060606,
          63.20075757575758,
          0,
          0,
          0,
          0,
          3.6988636363636362,
          3.076515151515151,
          3.076515151515151,
          3.076515151515151,
          3.076515151515151,
          3.076515151515151,
          3.076515151515151,
          3.076515151515151,
          3.076515151515151,
          3.076515151515151,
          3.076515151515151
         ],
         "yaxis": "y"
        },
        {
         "customdata": [
          [
           "Cathodically protected, Bare"
          ],
          [
           "Cathodically protected, Bare"
          ],
          [
           "Cathodically protected, Bare"
          ],
          [
           "Cathodically protected, Bare"
          ],
          [
           "Cathodically protected, Bare"
          ],
          [
           "Cathodically protected, Bare"
          ],
          [
           "Cathodically protected, Bare"
          ],
          [
           "Cathodically protected, Bare"
          ],
          [
           "Cathodically protected, Bare"
          ],
          [
           "Cathodically protected, Bare"
          ],
          [
           "Cathodically protected, Bare"
          ],
          [
           "Cathodically protected, Bare"
          ],
          [
           "Cathodically protected, Bare"
          ],
          [
           "Cathodically protected, Bare"
          ],
          [
           "Cathodically protected, Bare"
          ],
          [
           "Cathodically protected, Bare"
          ],
          [
           "Cathodically protected, Bare"
          ],
          [
           "Cathodically protected, Bare"
          ],
          [
           "Cathodically protected, Bare"
          ],
          [
           "Cathodically protected, Bare"
          ],
          [
           "Cathodically protected, Bare"
          ],
          [
           "Cathodically protected, Bare"
          ],
          [
           "Cathodically protected, Bare"
          ],
          [
           "Cathodically protected, Bare"
          ],
          [
           "Cathodically protected, Bare"
          ],
          [
           "Cathodically protected, Bare"
          ]
         ],
         "fillpattern": {
          "shape": ""
         },
         "hovertemplate": "%{customdata[0]} : %{y}",
         "legendgroup": "Steel",
         "line": {
          "color": "#007C77"
         },
         "marker": {
          "symbol": "circle"
         },
         "mode": "lines",
         "name": "Steel",
         "orientation": "v",
         "showlegend": false,
         "stackgroup": "1",
         "type": "scatter",
         "x": [
          1997,
          1998,
          1999,
          2000,
          2001,
          2002,
          2003,
          2004,
          2005,
          2006,
          2007,
          2008,
          2009,
          2010,
          2011,
          2012,
          2013,
          2014,
          2015,
          2016,
          2017,
          2018,
          2019,
          2020,
          2021,
          2022
         ],
         "xaxis": "x",
         "y": [
          0,
          0,
          0,
          0,
          0,
          0,
          0,
          0,
          0,
          0,
          0,
          0,
          0,
          0,
          0,
          0,
          0,
          0,
          0,
          0,
          0,
          0,
          0,
          0,
          0,
          0
         ],
         "yaxis": "y"
        },
        {
         "customdata": [
          [
           "Cathodically protected, Coated"
          ],
          [
           "Cathodically protected, Coated"
          ],
          [
           "Cathodically protected, Coated"
          ],
          [
           "Cathodically protected, Coated"
          ],
          [
           "Cathodically protected, Coated"
          ],
          [
           "Cathodically protected, Coated"
          ],
          [
           "Cathodically protected, Coated"
          ],
          [
           "Cathodically protected, Coated"
          ],
          [
           "Cathodically protected, Coated"
          ],
          [
           "Cathodically protected, Coated"
          ],
          [
           "Cathodically protected, Coated"
          ],
          [
           "Cathodically protected, Coated"
          ],
          [
           "Cathodically protected, Coated"
          ],
          [
           "Cathodically protected, Coated"
          ],
          [
           "Cathodically protected, Coated"
          ],
          [
           "Cathodically protected, Coated"
          ],
          [
           "Cathodically protected, Coated"
          ],
          [
           "Cathodically protected, Coated"
          ],
          [
           "Cathodically protected, Coated"
          ],
          [
           "Cathodically protected, Coated"
          ],
          [
           "Cathodically protected, Coated"
          ],
          [
           "Cathodically protected, Coated"
          ],
          [
           "Cathodically protected, Coated"
          ],
          [
           "Cathodically protected, Coated"
          ],
          [
           "Cathodically protected, Coated"
          ],
          [
           "Cathodically protected, Coated"
          ]
         ],
         "fillpattern": {
          "shape": ""
         },
         "hovertemplate": "%{customdata[0]} : %{y}",
         "legendgroup": "Steel",
         "line": {
          "color": "#007C77"
         },
         "marker": {
          "symbol": "circle"
         },
         "mode": "lines",
         "name": "Steel",
         "orientation": "v",
         "showlegend": false,
         "stackgroup": "1",
         "type": "scatter",
         "x": [
          1997,
          1998,
          1999,
          2000,
          2001,
          2002,
          2003,
          2004,
          2005,
          2006,
          2007,
          2008,
          2009,
          2010,
          2011,
          2012,
          2013,
          2014,
          2015,
          2016,
          2017,
          2018,
          2019,
          2020,
          2021,
          2022
         ],
         "xaxis": "x",
         "y": [
          97.7840909090909,
          97.7840909090909,
          97.7840909090909,
          97.67045454545455,
          97.1590909090909,
          96.5340909090909,
          96.38257575757576,
          96.40151515151516,
          96.40151515151516,
          94.43181818181819,
          76.47727272727273,
          151.98863636363637,
          151.98863636363637,
          85.74659090909091,
          85.61950757575758,
          31.716287878787877,
          28.32272727272727,
          27.26590909090909,
          26.361742424242422,
          23.39090909090909,
          17.167424242424243,
          12.200378787878787,
          7.421212121212121,
          7.1276515151515145,
          6.834090909090909,
          6.329166666666667
         ],
         "yaxis": "y"
        },
        {
         "customdata": [
          [
           "Cast Iron"
          ],
          [
           "Cast Iron"
          ],
          [
           "Cast Iron"
          ],
          [
           "Cast Iron"
          ],
          [
           "Cast Iron"
          ],
          [
           "Cast Iron"
          ],
          [
           "Cast Iron"
          ],
          [
           "Cast Iron"
          ],
          [
           "Cast Iron"
          ],
          [
           "Cast Iron"
          ],
          [
           "Cast Iron"
          ],
          [
           "Cast Iron"
          ],
          [
           "Cast Iron"
          ],
          [
           "Cast Iron"
          ],
          [
           "Cast Iron"
          ],
          [
           "Cast Iron"
          ],
          [
           "Cast Iron"
          ],
          [
           "Cast Iron"
          ],
          [
           "Cast Iron"
          ],
          [
           "Cast Iron"
          ],
          [
           "Cast Iron"
          ],
          [
           "Cast Iron"
          ],
          [
           "Cast Iron"
          ],
          [
           "Cast Iron"
          ],
          [
           "Cast Iron"
          ],
          [
           "Cast Iron"
          ]
         ],
         "fillpattern": {
          "shape": ""
         },
         "hovertemplate": "%{customdata[0]} : %{y}",
         "legendgroup": "Iron",
         "line": {
          "color": "#1a1b41"
         },
         "marker": {
          "symbol": "circle"
         },
         "mode": "lines",
         "name": "Iron",
         "orientation": "v",
         "showlegend": true,
         "stackgroup": "1",
         "type": "scatter",
         "x": [
          1997,
          1998,
          1999,
          2000,
          2001,
          2002,
          2003,
          2004,
          2005,
          2006,
          2007,
          2008,
          2009,
          2010,
          2011,
          2012,
          2013,
          2014,
          2015,
          2016,
          2017,
          2018,
          2019,
          2020,
          2021,
          2022
         ],
         "xaxis": "x",
         "y": [
          4.640151515151516,
          4.640151515151516,
          4.640151515151516,
          4.6022727272727275,
          4.6022727272727275,
          4.337121212121212,
          4.337121212121212,
          4.28030303030303,
          4.28030303030303,
          4.261363636363637,
          4.223484848484849,
          11.837121212121213,
          11.818181818181818,
          7.1975378787878785,
          7.162878787878788,
          0.9159090909090909,
          0.9159090909090909,
          0.9159090909090909,
          0.9041666666666666,
          0.8924242424242423,
          0.8806818181818181,
          0.8806818181818181,
          0.8806818181818181,
          0.8806818181818181,
          0.8806818181818181,
          0.8806818181818181
         ],
         "yaxis": "y"
        },
        {
         "customdata": [
          [
           "Ductile Iron"
          ],
          [
           "Ductile Iron"
          ],
          [
           "Ductile Iron"
          ],
          [
           "Ductile Iron"
          ],
          [
           "Ductile Iron"
          ],
          [
           "Ductile Iron"
          ],
          [
           "Ductile Iron"
          ],
          [
           "Ductile Iron"
          ],
          [
           "Ductile Iron"
          ],
          [
           "Ductile Iron"
          ],
          [
           "Ductile Iron"
          ],
          [
           "Ductile Iron"
          ],
          [
           "Ductile Iron"
          ],
          [
           "Ductile Iron"
          ],
          [
           "Ductile Iron"
          ],
          [
           "Ductile Iron"
          ],
          [
           "Ductile Iron"
          ],
          [
           "Ductile Iron"
          ],
          [
           "Ductile Iron"
          ],
          [
           "Ductile Iron"
          ],
          [
           "Ductile Iron"
          ],
          [
           "Ductile Iron"
          ],
          [
           "Ductile Iron"
          ],
          [
           "Ductile Iron"
          ],
          [
           "Ductile Iron"
          ],
          [
           "Ductile Iron"
          ]
         ],
         "fillpattern": {
          "shape": ""
         },
         "hovertemplate": "%{customdata[0]} : %{y}",
         "legendgroup": "Iron",
         "line": {
          "color": "#1a1b41"
         },
         "marker": {
          "symbol": "circle"
         },
         "mode": "lines",
         "name": "Iron",
         "orientation": "v",
         "showlegend": false,
         "stackgroup": "1",
         "type": "scatter",
         "x": [
          1997,
          1998,
          1999,
          2000,
          2001,
          2002,
          2003,
          2004,
          2005,
          2006,
          2007,
          2008,
          2009,
          2010,
          2011,
          2012,
          2013,
          2014,
          2015,
          2016,
          2017,
          2018,
          2019,
          2020,
          2021,
          2022
         ],
         "xaxis": "x",
         "y": [
          0.03787878787878788,
          0.03787878787878788,
          0.03787878787878788,
          0.03787878787878788,
          0.03787878787878788,
          0.03787878787878788,
          0.03787878787878788,
          0.03787878787878788,
          0.03787878787878788,
          0.03787878787878788,
          0.03787878787878788,
          0.1893939393939394,
          0.1893939393939394,
          0.09242424242424242,
          0.09242424242424242,
          0.09393939393939393,
          0.09393939393939393,
          0.09393939393939393,
          0.09393939393939393,
          0.09393939393939393,
          0.09393939393939393,
          0.09393939393939393,
          0.09393939393939393,
          0.09393939393939393,
          0.09393939393939393,
          0.09393939393939393
         ],
         "yaxis": "y"
        },
        {
         "customdata": [
          [
           "Plastic"
          ],
          [
           "Plastic"
          ],
          [
           "Plastic"
          ],
          [
           "Plastic"
          ],
          [
           "Plastic"
          ],
          [
           "Plastic"
          ],
          [
           "Plastic"
          ],
          [
           "Plastic"
          ],
          [
           "Plastic"
          ],
          [
           "Plastic"
          ],
          [
           "Plastic"
          ],
          [
           "Plastic"
          ],
          [
           "Plastic"
          ],
          [
           "Plastic"
          ],
          [
           "Plastic"
          ],
          [
           "Plastic"
          ],
          [
           "Plastic"
          ],
          [
           "Plastic"
          ],
          [
           "Plastic"
          ],
          [
           "Plastic"
          ],
          [
           "Plastic"
          ],
          [
           "Plastic"
          ],
          [
           "Plastic"
          ],
          [
           "Plastic"
          ],
          [
           "Plastic"
          ],
          [
           "Plastic"
          ]
         ],
         "fillpattern": {
          "shape": ""
         },
         "hovertemplate": "%{customdata[0]} : %{y}",
         "legendgroup": "Plastic",
         "line": {
          "color": "#f48668"
         },
         "marker": {
          "symbol": "circle"
         },
         "mode": "lines",
         "name": "Plastic",
         "orientation": "v",
         "showlegend": true,
         "stackgroup": "1",
         "type": "scatter",
         "x": [
          1997,
          1998,
          1999,
          2000,
          2001,
          2002,
          2003,
          2004,
          2005,
          2006,
          2007,
          2008,
          2009,
          2010,
          2011,
          2012,
          2013,
          2014,
          2015,
          2016,
          2017,
          2018,
          2019,
          2020,
          2021,
          2022
         ],
         "xaxis": "x",
         "y": [
          992.3484848484849,
          1060.0757575757575,
          1124.9242424242425,
          1201.1931818181818,
          1244.128787878788,
          1308.0492424242425,
          1375.4545454545455,
          1437.2916666666667,
          1508.1628787878788,
          1566.9318181818182,
          1608.8257575757575,
          1153.3901515151515,
          1199.2613636363637,
          754.8518939393939,
          778.4662878787879,
          926.8765151515152,
          955.8685606060606,
          950.2087121212121,
          964.0882575757576,
          979.6821969696969,
          1003.5897727272727,
          1021.978409090909,
          1044.148106060606,
          1059.0022727272726,
          1106.3359848484847,
          1114.8727272727272
         ],
         "yaxis": "y"
        },
        {
         "customdata": [
          [
           "Copper"
          ],
          [
           "Copper"
          ],
          [
           "Copper"
          ],
          [
           "Copper"
          ],
          [
           "Copper"
          ],
          [
           "Copper"
          ],
          [
           "Copper"
          ],
          [
           "Copper"
          ],
          [
           "Copper"
          ],
          [
           "Copper"
          ],
          [
           "Copper"
          ],
          [
           "Copper"
          ],
          [
           "Copper"
          ],
          [
           "Copper"
          ],
          [
           "Copper"
          ],
          [
           "Copper"
          ],
          [
           "Copper"
          ],
          [
           "Copper"
          ],
          [
           "Copper"
          ],
          [
           "Copper"
          ],
          [
           "Copper"
          ],
          [
           "Copper"
          ],
          [
           "Copper"
          ],
          [
           "Copper"
          ],
          [
           "Copper"
          ],
          [
           "Copper"
          ]
         ],
         "fillpattern": {
          "shape": ""
         },
         "hovertemplate": "%{customdata[0]} : %{y}",
         "legendgroup": "Copper",
         "line": {
          "color": "#f2bb05"
         },
         "marker": {
          "symbol": "circle"
         },
         "mode": "lines",
         "name": "Copper",
         "orientation": "v",
         "showlegend": true,
         "stackgroup": "1",
         "type": "scatter",
         "x": [
          1997,
          1998,
          1999,
          2000,
          2001,
          2002,
          2003,
          2004,
          2005,
          2006,
          2007,
          2008,
          2009,
          2010,
          2011,
          2012,
          2013,
          2014,
          2015,
          2016,
          2017,
          2018,
          2019,
          2020,
          2021,
          2022
         ],
         "xaxis": "x",
         "y": [
          128.2007575757576,
          128.2007575757576,
          126.68560606060606,
          126.49621212121212,
          126.49621212121212,
          124.82954545454545,
          122.34848484848486,
          119.10984848484848,
          117.74621212121212,
          115.9659090909091,
          115.01893939393939,
          80.05681818181819,
          78.92045454545455,
          45.32253787878788,
          43.86685606060606,
          42.51931818181818,
          41.49772727272727,
          41.27462121212121,
          40.6875,
          40.24128787878788,
          40.19431818181818,
          40.06515151515151,
          39.93598484848484,
          39.85378787878788,
          39.63068181818181,
          39.525
         ],
         "yaxis": "y"
        },
        {
         "customdata": [
          [
           "Other"
          ],
          [
           "Other"
          ],
          [
           "Other"
          ],
          [
           "Other"
          ],
          [
           "Other"
          ],
          [
           "Other"
          ],
          [
           "Other"
          ],
          [
           "Other"
          ],
          [
           "Other"
          ],
          [
           "Other"
          ],
          [
           "Other"
          ],
          [
           "Other"
          ],
          [
           "Other"
          ],
          [
           "Other"
          ],
          [
           "Other"
          ],
          [
           "Other"
          ],
          [
           "Other"
          ],
          [
           "Other"
          ],
          [
           "Other"
          ],
          [
           "Other"
          ],
          [
           "Other"
          ],
          [
           "Other"
          ],
          [
           "Other"
          ],
          [
           "Other"
          ],
          [
           "Other"
          ],
          [
           "Other"
          ]
         ],
         "fillpattern": {
          "shape": ""
         },
         "hovertemplate": "%{customdata[0]} : %{y}",
         "legendgroup": "Other",
         "line": {
          "color": "#E2A0FF"
         },
         "marker": {
          "symbol": "circle"
         },
         "mode": "lines",
         "name": "Other",
         "orientation": "v",
         "showlegend": true,
         "stackgroup": "1",
         "type": "scatter",
         "x": [
          1997,
          1998,
          1999,
          2000,
          2001,
          2002,
          2003,
          2004,
          2005,
          2006,
          2007,
          2008,
          2009,
          2010,
          2011,
          2012,
          2013,
          2014,
          2015,
          2016,
          2017,
          2018,
          2019,
          2020,
          2021,
          2022
         ],
         "xaxis": "x",
         "y": [
          0,
          0,
          0,
          0,
          0,
          0,
          0,
          0,
          0,
          0,
          0,
          0,
          0,
          83.40132575757576,
          83.40132575757576,
          84.7685606060606,
          76.94810606060605,
          66.8965909090909,
          64.81818181818181,
          61.5655303030303,
          56.422348484848484,
          54.27348484848485,
          52.71174242424242,
          51.4905303030303,
          49.08333333333333,
          47.26325757575757
         ],
         "yaxis": "y"
        }
       ],
       "layout": {
        "hovermode": "x unified",
        "legend": {
         "title": {
          "text": "Material"
         },
         "tracegroupgap": 0
        },
        "template": {
         "data": {
          "bar": [
           {
            "error_x": {
             "color": "rgb(51,51,51)"
            },
            "error_y": {
             "color": "rgb(51,51,51)"
            },
            "marker": {
             "line": {
              "color": "rgb(237,237,237)",
              "width": 0.5
             },
             "pattern": {
              "fillmode": "overlay",
              "size": 10,
              "solidity": 0.2
             }
            },
            "type": "bar"
           }
          ],
          "barpolar": [
           {
            "marker": {
             "line": {
              "color": "rgb(237,237,237)",
              "width": 0.5
             },
             "pattern": {
              "fillmode": "overlay",
              "size": 10,
              "solidity": 0.2
             }
            },
            "type": "barpolar"
           }
          ],
          "carpet": [
           {
            "aaxis": {
             "endlinecolor": "rgb(51,51,51)",
             "gridcolor": "white",
             "linecolor": "white",
             "minorgridcolor": "white",
             "startlinecolor": "rgb(51,51,51)"
            },
            "baxis": {
             "endlinecolor": "rgb(51,51,51)",
             "gridcolor": "white",
             "linecolor": "white",
             "minorgridcolor": "white",
             "startlinecolor": "rgb(51,51,51)"
            },
            "type": "carpet"
           }
          ],
          "choropleth": [
           {
            "colorbar": {
             "outlinewidth": 0,
             "tickcolor": "rgb(237,237,237)",
             "ticklen": 6,
             "ticks": "inside"
            },
            "type": "choropleth"
           }
          ],
          "contour": [
           {
            "colorbar": {
             "outlinewidth": 0,
             "tickcolor": "rgb(237,237,237)",
             "ticklen": 6,
             "ticks": "inside"
            },
            "colorscale": [
             [
              0,
              "rgb(20,44,66)"
             ],
             [
              1,
              "rgb(90,179,244)"
             ]
            ],
            "type": "contour"
           }
          ],
          "contourcarpet": [
           {
            "colorbar": {
             "outlinewidth": 0,
             "tickcolor": "rgb(237,237,237)",
             "ticklen": 6,
             "ticks": "inside"
            },
            "type": "contourcarpet"
           }
          ],
          "heatmap": [
           {
            "colorbar": {
             "outlinewidth": 0,
             "tickcolor": "rgb(237,237,237)",
             "ticklen": 6,
             "ticks": "inside"
            },
            "colorscale": [
             [
              0,
              "rgb(20,44,66)"
             ],
             [
              1,
              "rgb(90,179,244)"
             ]
            ],
            "type": "heatmap"
           }
          ],
          "heatmapgl": [
           {
            "colorbar": {
             "outlinewidth": 0,
             "tickcolor": "rgb(237,237,237)",
             "ticklen": 6,
             "ticks": "inside"
            },
            "colorscale": [
             [
              0,
              "rgb(20,44,66)"
             ],
             [
              1,
              "rgb(90,179,244)"
             ]
            ],
            "type": "heatmapgl"
           }
          ],
          "histogram": [
           {
            "marker": {
             "pattern": {
              "fillmode": "overlay",
              "size": 10,
              "solidity": 0.2
             }
            },
            "type": "histogram"
           }
          ],
          "histogram2d": [
           {
            "colorbar": {
             "outlinewidth": 0,
             "tickcolor": "rgb(237,237,237)",
             "ticklen": 6,
             "ticks": "inside"
            },
            "colorscale": [
             [
              0,
              "rgb(20,44,66)"
             ],
             [
              1,
              "rgb(90,179,244)"
             ]
            ],
            "type": "histogram2d"
           }
          ],
          "histogram2dcontour": [
           {
            "colorbar": {
             "outlinewidth": 0,
             "tickcolor": "rgb(237,237,237)",
             "ticklen": 6,
             "ticks": "inside"
            },
            "colorscale": [
             [
              0,
              "rgb(20,44,66)"
             ],
             [
              1,
              "rgb(90,179,244)"
             ]
            ],
            "type": "histogram2dcontour"
           }
          ],
          "mesh3d": [
           {
            "colorbar": {
             "outlinewidth": 0,
             "tickcolor": "rgb(237,237,237)",
             "ticklen": 6,
             "ticks": "inside"
            },
            "type": "mesh3d"
           }
          ],
          "parcoords": [
           {
            "line": {
             "colorbar": {
              "outlinewidth": 0,
              "tickcolor": "rgb(237,237,237)",
              "ticklen": 6,
              "ticks": "inside"
             }
            },
            "type": "parcoords"
           }
          ],
          "pie": [
           {
            "automargin": true,
            "type": "pie"
           }
          ],
          "scatter": [
           {
            "fillpattern": {
             "fillmode": "overlay",
             "size": 10,
             "solidity": 0.2
            },
            "type": "scatter"
           }
          ],
          "scatter3d": [
           {
            "line": {
             "colorbar": {
              "outlinewidth": 0,
              "tickcolor": "rgb(237,237,237)",
              "ticklen": 6,
              "ticks": "inside"
             }
            },
            "marker": {
             "colorbar": {
              "outlinewidth": 0,
              "tickcolor": "rgb(237,237,237)",
              "ticklen": 6,
              "ticks": "inside"
             }
            },
            "type": "scatter3d"
           }
          ],
          "scattercarpet": [
           {
            "marker": {
             "colorbar": {
              "outlinewidth": 0,
              "tickcolor": "rgb(237,237,237)",
              "ticklen": 6,
              "ticks": "inside"
             }
            },
            "type": "scattercarpet"
           }
          ],
          "scattergeo": [
           {
            "marker": {
             "colorbar": {
              "outlinewidth": 0,
              "tickcolor": "rgb(237,237,237)",
              "ticklen": 6,
              "ticks": "inside"
             }
            },
            "type": "scattergeo"
           }
          ],
          "scattergl": [
           {
            "marker": {
             "colorbar": {
              "outlinewidth": 0,
              "tickcolor": "rgb(237,237,237)",
              "ticklen": 6,
              "ticks": "inside"
             }
            },
            "type": "scattergl"
           }
          ],
          "scattermapbox": [
           {
            "marker": {
             "colorbar": {
              "outlinewidth": 0,
              "tickcolor": "rgb(237,237,237)",
              "ticklen": 6,
              "ticks": "inside"
             }
            },
            "type": "scattermapbox"
           }
          ],
          "scatterpolar": [
           {
            "marker": {
             "colorbar": {
              "outlinewidth": 0,
              "tickcolor": "rgb(237,237,237)",
              "ticklen": 6,
              "ticks": "inside"
             }
            },
            "type": "scatterpolar"
           }
          ],
          "scatterpolargl": [
           {
            "marker": {
             "colorbar": {
              "outlinewidth": 0,
              "tickcolor": "rgb(237,237,237)",
              "ticklen": 6,
              "ticks": "inside"
             }
            },
            "type": "scatterpolargl"
           }
          ],
          "scatterternary": [
           {
            "marker": {
             "colorbar": {
              "outlinewidth": 0,
              "tickcolor": "rgb(237,237,237)",
              "ticklen": 6,
              "ticks": "inside"
             }
            },
            "type": "scatterternary"
           }
          ],
          "surface": [
           {
            "colorbar": {
             "outlinewidth": 0,
             "tickcolor": "rgb(237,237,237)",
             "ticklen": 6,
             "ticks": "inside"
            },
            "colorscale": [
             [
              0,
              "rgb(20,44,66)"
             ],
             [
              1,
              "rgb(90,179,244)"
             ]
            ],
            "type": "surface"
           }
          ],
          "table": [
           {
            "cells": {
             "fill": {
              "color": "rgb(237,237,237)"
             },
             "line": {
              "color": "white"
             }
            },
            "header": {
             "fill": {
              "color": "rgb(217,217,217)"
             },
             "line": {
              "color": "white"
             }
            },
            "type": "table"
           }
          ]
         },
         "layout": {
          "annotationdefaults": {
           "arrowhead": 0,
           "arrowwidth": 1
          },
          "annotations": [
           {
            "font": {
             "color": "black",
             "size": 12
            },
            "name": "created by",
            "opacity": 0.9,
            "showarrow": false,
            "text": "Created by Electrify RVA",
            "x": -0.05,
            "xref": "paper",
            "y": -0.25,
            "yref": "paper"
           }
          ],
          "autotypenumbers": "strict",
          "coloraxis": {
           "colorbar": {
            "outlinewidth": 0,
            "tickcolor": "rgb(237,237,237)",
            "ticklen": 6,
            "ticks": "inside"
           }
          },
          "colorscale": {
           "sequential": [
            [
             0,
             "rgb(20,44,66)"
            ],
            [
             1,
             "rgb(90,179,244)"
            ]
           ],
           "sequentialminus": [
            [
             0,
             "rgb(20,44,66)"
            ],
            [
             1,
             "rgb(90,179,244)"
            ]
           ]
          },
          "colorway": [
           "#007C77",
           "#1a1b41",
           "#f48668",
           "#f2bb05",
           "#E2A0FF",
           "#8acb88"
          ],
          "font": {
           "color": "rgb(51,51,51)"
          },
          "geo": {
           "bgcolor": "white",
           "lakecolor": "white",
           "landcolor": "rgb(237,237,237)",
           "showlakes": true,
           "showland": true,
           "subunitcolor": "white"
          },
          "hoverlabel": {
           "align": "left"
          },
          "hovermode": "x unified",
          "paper_bgcolor": "white",
          "plot_bgcolor": "rgb(237,237,237)",
          "polar": {
           "angularaxis": {
            "gridcolor": "white",
            "linecolor": "white",
            "showgrid": true,
            "tickcolor": "rgb(51,51,51)",
            "ticks": "outside"
           },
           "bgcolor": "rgb(237,237,237)",
           "radialaxis": {
            "gridcolor": "white",
            "linecolor": "white",
            "showgrid": true,
            "tickcolor": "rgb(51,51,51)",
            "ticks": "outside"
           }
          },
          "scene": {
           "xaxis": {
            "backgroundcolor": "rgb(237,237,237)",
            "gridcolor": "white",
            "gridwidth": 2,
            "linecolor": "white",
            "showbackground": true,
            "showgrid": true,
            "tickcolor": "rgb(51,51,51)",
            "ticks": "outside",
            "zerolinecolor": "white"
           },
           "yaxis": {
            "backgroundcolor": "rgb(237,237,237)",
            "gridcolor": "white",
            "gridwidth": 2,
            "linecolor": "white",
            "showbackground": true,
            "showgrid": true,
            "tickcolor": "rgb(51,51,51)",
            "ticks": "outside",
            "zerolinecolor": "white"
           },
           "zaxis": {
            "backgroundcolor": "rgb(237,237,237)",
            "gridcolor": "white",
            "gridwidth": 2,
            "linecolor": "white",
            "showbackground": true,
            "showgrid": true,
            "tickcolor": "rgb(51,51,51)",
            "ticks": "outside",
            "zerolinecolor": "white"
           }
          },
          "shapedefaults": {
           "fillcolor": "black",
           "line": {
            "width": 0
           },
           "opacity": 0.3
          },
          "ternary": {
           "aaxis": {
            "gridcolor": "white",
            "linecolor": "white",
            "showgrid": true,
            "tickcolor": "rgb(51,51,51)",
            "ticks": "outside"
           },
           "baxis": {
            "gridcolor": "white",
            "linecolor": "white",
            "showgrid": true,
            "tickcolor": "rgb(51,51,51)",
            "ticks": "outside"
           },
           "bgcolor": "rgb(237,237,237)",
           "caxis": {
            "gridcolor": "white",
            "linecolor": "white",
            "showgrid": true,
            "tickcolor": "rgb(51,51,51)",
            "ticks": "outside"
           }
          },
          "title": {
           "x": 0.05
          },
          "xaxis": {
           "automargin": true,
           "gridcolor": "white",
           "linecolor": "white",
           "showgrid": true,
           "tickcolor": "rgb(51,51,51)",
           "ticks": "outside",
           "title": {
            "standoff": 15
           },
           "zerolinecolor": "white"
          },
          "yaxis": {
           "automargin": true,
           "gridcolor": "white",
           "linecolor": "white",
           "showgrid": true,
           "tickcolor": "rgb(51,51,51)",
           "tickformat": ",.0f",
           "ticks": "outside",
           "title": {
            "standoff": 15
           },
           "zerolinecolor": "white"
          }
         }
        },
        "title": {
         "text": "Services miles by material"
        },
        "xaxis": {
         "anchor": "y",
         "domain": [
          0,
          1
         ],
         "title": {
          "text": ""
         }
        },
        "yaxis": {
         "anchor": "x",
         "domain": [
          0,
          1
         ],
         "title": {
          "text": "Services miles"
         }
        }
       }
      }
     },
     "metadata": {},
     "output_type": "display_data"
    }
   ],
   "source": [
    "fig = px.area(\n",
    "    melted, x=\"year\", y=\"Services miles\", title=\"Services miles by material\", color=\"material\", line_group='material_specific',\n",
    "    labels={ \"year\": \"\", \"material\": \"Material\"},\n",
    "    hover_data=[\"material_specific\"],\n",
    "    #color_discrete_sequence=[\"#1a1b41\", \"#f48668\"],\n",
    ")\n",
    "\n",
    "fig.update_traces(hovertemplate=None)\n",
    "fig.update_traces(hovertemplate = '%{customdata[0]} : %{y}')  #'year=%{customdata[0]}<br>label=%{customdata[1]}<extra></extra>')\n",
    "fig.update_layout(hovermode='x unified')\n",
    "\n",
    "\n",
    "fig.show()\n",
    "fig.write_html(\"../docs/_includes/charts/material_services_miles.html\", include_plotlyjs=\"cdn\")"
   ]
  },
  {
   "cell_type": "code",
   "execution_count": 557,
   "metadata": {},
   "outputs": [
    {
     "data": {
      "application/vnd.plotly.v1+json": {
       "config": {
        "plotlyServerURL": "https://plot.ly"
       },
       "data": [
        {
         "customdata": [
          [
           "Unprotected, Bare"
          ],
          [
           "Unprotected, Bare"
          ],
          [
           "Unprotected, Bare"
          ],
          [
           "Unprotected, Bare"
          ],
          [
           "Unprotected, Bare"
          ],
          [
           "Unprotected, Bare"
          ],
          [
           "Unprotected, Bare"
          ],
          [
           "Unprotected, Bare"
          ],
          [
           "Unprotected, Bare"
          ],
          [
           "Unprotected, Bare"
          ],
          [
           "Unprotected, Bare"
          ],
          [
           "Unprotected, Bare"
          ],
          [
           "Unprotected, Bare"
          ],
          [
           "Unprotected, Bare"
          ],
          [
           "Unprotected, Bare"
          ],
          [
           "Unprotected, Bare"
          ],
          [
           "Unprotected, Bare"
          ],
          [
           "Unprotected, Bare"
          ],
          [
           "Unprotected, Bare"
          ],
          [
           "Unprotected, Bare"
          ],
          [
           "Unprotected, Bare"
          ],
          [
           "Unprotected, Bare"
          ],
          [
           "Unprotected, Bare"
          ],
          [
           "Unprotected, Bare"
          ],
          [
           "Unprotected, Bare"
          ],
          [
           "Unprotected, Bare"
          ]
         ],
         "fillpattern": {
          "shape": ""
         },
         "hovertemplate": "%{customdata[0]} : %{y}",
         "legendgroup": "Leak prone",
         "line": {
          "color": "#df2935"
         },
         "marker": {
          "symbol": "circle"
         },
         "mode": "lines",
         "name": "Leak prone",
         "orientation": "v",
         "showlegend": true,
         "stackgroup": "1",
         "type": "scatter",
         "x": [
          1997,
          1998,
          1999,
          2000,
          2001,
          2002,
          2003,
          2004,
          2005,
          2006,
          2007,
          2008,
          2009,
          2010,
          2011,
          2012,
          2013,
          2014,
          2015,
          2016,
          2017,
          2018,
          2019,
          2020,
          2021,
          2022
         ],
         "xaxis": "x",
         "y": [
          2,
          2,
          2,
          2,
          0,
          0,
          0,
          0,
          0,
          0,
          0.4,
          22.484,
          5.921,
          11.543,
          11.719,
          2.296,
          1.965,
          1.899,
          3.371,
          1.154,
          3.27,
          2.92,
          1.05,
          1.191,
          1.194,
          1.026
         ],
         "yaxis": "y"
        },
        {
         "customdata": [
          [
           "Unprotected, Coated"
          ],
          [
           "Unprotected, Coated"
          ],
          [
           "Unprotected, Coated"
          ],
          [
           "Unprotected, Coated"
          ],
          [
           "Unprotected, Coated"
          ],
          [
           "Unprotected, Coated"
          ],
          [
           "Unprotected, Coated"
          ],
          [
           "Unprotected, Coated"
          ],
          [
           "Unprotected, Coated"
          ],
          [
           "Unprotected, Coated"
          ],
          [
           "Unprotected, Coated"
          ],
          [
           "Unprotected, Coated"
          ],
          [
           "Unprotected, Coated"
          ],
          [
           "Unprotected, Coated"
          ],
          [
           "Unprotected, Coated"
          ],
          [
           "Unprotected, Coated"
          ],
          [
           "Unprotected, Coated"
          ],
          [
           "Unprotected, Coated"
          ],
          [
           "Unprotected, Coated"
          ],
          [
           "Unprotected, Coated"
          ],
          [
           "Unprotected, Coated"
          ],
          [
           "Unprotected, Coated"
          ],
          [
           "Unprotected, Coated"
          ],
          [
           "Unprotected, Coated"
          ],
          [
           "Unprotected, Coated"
          ],
          [
           "Unprotected, Coated"
          ]
         ],
         "fillpattern": {
          "shape": ""
         },
         "hovertemplate": "%{customdata[0]} : %{y}",
         "legendgroup": "Leak prone",
         "line": {
          "color": "#df2935"
         },
         "marker": {
          "symbol": "circle"
         },
         "mode": "lines",
         "name": "Leak prone",
         "orientation": "v",
         "showlegend": false,
         "stackgroup": "1",
         "type": "scatter",
         "x": [
          1997,
          1998,
          1999,
          2000,
          2001,
          2002,
          2003,
          2004,
          2005,
          2006,
          2007,
          2008,
          2009,
          2010,
          2011,
          2012,
          2013,
          2014,
          2015,
          2016,
          2017,
          2018,
          2019,
          2020,
          2021,
          2022
         ],
         "xaxis": "x",
         "y": [
          21,
          16,
          7,
          7,
          2,
          1,
          9,
          0,
          0,
          0,
          10.3,
          1,
          3.8,
          4.5,
          5.597,
          5.997,
          3.908,
          3.384,
          3.242,
          3.021,
          2.83,
          0,
          0,
          3.749,
          1.34,
          2.09
         ],
         "yaxis": "y"
        },
        {
         "customdata": [
          [
           "Cathodically protected, Bare"
          ],
          [
           "Cathodically protected, Bare"
          ],
          [
           "Cathodically protected, Bare"
          ],
          [
           "Cathodically protected, Bare"
          ],
          [
           "Cathodically protected, Bare"
          ],
          [
           "Cathodically protected, Bare"
          ],
          [
           "Cathodically protected, Bare"
          ],
          [
           "Cathodically protected, Bare"
          ],
          [
           "Cathodically protected, Bare"
          ],
          [
           "Cathodically protected, Bare"
          ],
          [
           "Cathodically protected, Bare"
          ],
          [
           "Cathodically protected, Bare"
          ],
          [
           "Cathodically protected, Bare"
          ],
          [
           "Cathodically protected, Bare"
          ],
          [
           "Cathodically protected, Bare"
          ],
          [
           "Cathodically protected, Bare"
          ],
          [
           "Cathodically protected, Bare"
          ],
          [
           "Cathodically protected, Bare"
          ],
          [
           "Cathodically protected, Bare"
          ],
          [
           "Cathodically protected, Bare"
          ],
          [
           "Cathodically protected, Bare"
          ],
          [
           "Cathodically protected, Bare"
          ],
          [
           "Cathodically protected, Bare"
          ],
          [
           "Cathodically protected, Bare"
          ],
          [
           "Cathodically protected, Bare"
          ],
          [
           "Cathodically protected, Bare"
          ]
         ],
         "fillpattern": {
          "shape": ""
         },
         "hovertemplate": "%{customdata[0]} : %{y}",
         "legendgroup": "Leak prone",
         "line": {
          "color": "#df2935"
         },
         "marker": {
          "symbol": "circle"
         },
         "mode": "lines",
         "name": "Leak prone",
         "orientation": "v",
         "showlegend": false,
         "stackgroup": "1",
         "type": "scatter",
         "x": [
          1997,
          1998,
          1999,
          2000,
          2001,
          2002,
          2003,
          2004,
          2005,
          2006,
          2007,
          2008,
          2009,
          2010,
          2011,
          2012,
          2013,
          2014,
          2015,
          2016,
          2017,
          2018,
          2019,
          2020,
          2021,
          2022
         ],
         "xaxis": "x",
         "y": [
          0,
          0,
          0,
          0,
          0,
          0,
          0,
          0,
          0,
          0,
          0,
          0,
          0,
          0,
          0,
          0,
          0,
          0,
          0,
          0,
          0,
          0,
          0,
          0,
          0,
          0
         ],
         "yaxis": "y"
        },
        {
         "customdata": [
          [
           "Cast Iron"
          ],
          [
           "Cast Iron"
          ],
          [
           "Cast Iron"
          ],
          [
           "Cast Iron"
          ],
          [
           "Cast Iron"
          ],
          [
           "Cast Iron"
          ],
          [
           "Cast Iron"
          ],
          [
           "Cast Iron"
          ],
          [
           "Cast Iron"
          ],
          [
           "Cast Iron"
          ],
          [
           "Cast Iron"
          ],
          [
           "Cast Iron"
          ],
          [
           "Cast Iron"
          ],
          [
           "Cast Iron"
          ],
          [
           "Cast Iron"
          ],
          [
           "Cast Iron"
          ],
          [
           "Cast Iron"
          ],
          [
           "Cast Iron"
          ],
          [
           "Cast Iron"
          ],
          [
           "Cast Iron"
          ],
          [
           "Cast Iron"
          ],
          [
           "Cast Iron"
          ],
          [
           "Cast Iron"
          ],
          [
           "Cast Iron"
          ],
          [
           "Cast Iron"
          ],
          [
           "Cast Iron"
          ]
         ],
         "fillpattern": {
          "shape": ""
         },
         "hovertemplate": "%{customdata[0]} : %{y}",
         "legendgroup": "Leak prone",
         "line": {
          "color": "#df2935"
         },
         "marker": {
          "symbol": "circle"
         },
         "mode": "lines",
         "name": "Leak prone",
         "orientation": "v",
         "showlegend": false,
         "stackgroup": "1",
         "type": "scatter",
         "x": [
          1997,
          1998,
          1999,
          2000,
          2001,
          2002,
          2003,
          2004,
          2005,
          2006,
          2007,
          2008,
          2009,
          2010,
          2011,
          2012,
          2013,
          2014,
          2015,
          2016,
          2017,
          2018,
          2019,
          2020,
          2021,
          2022
         ],
         "xaxis": "x",
         "y": [
          556,
          554,
          552,
          536,
          520,
          495,
          468,
          451,
          439,
          422.9,
          408.5,
          396.397,
          375.956,
          353.696,
          315.177,
          263.88,
          220.602,
          198.066,
          185.54,
          171.866,
          161.19,
          156.63,
          146.87,
          139.02,
          134.7,
          129.58
         ],
         "yaxis": "y"
        },
        {
         "customdata": [
          [
           "Ductile Iron"
          ],
          [
           "Ductile Iron"
          ],
          [
           "Ductile Iron"
          ],
          [
           "Ductile Iron"
          ],
          [
           "Ductile Iron"
          ],
          [
           "Ductile Iron"
          ],
          [
           "Ductile Iron"
          ],
          [
           "Ductile Iron"
          ],
          [
           "Ductile Iron"
          ],
          [
           "Ductile Iron"
          ],
          [
           "Ductile Iron"
          ],
          [
           "Ductile Iron"
          ],
          [
           "Ductile Iron"
          ],
          [
           "Ductile Iron"
          ],
          [
           "Ductile Iron"
          ],
          [
           "Ductile Iron"
          ],
          [
           "Ductile Iron"
          ],
          [
           "Ductile Iron"
          ],
          [
           "Ductile Iron"
          ],
          [
           "Ductile Iron"
          ],
          [
           "Ductile Iron"
          ],
          [
           "Ductile Iron"
          ],
          [
           "Ductile Iron"
          ],
          [
           "Ductile Iron"
          ],
          [
           "Ductile Iron"
          ],
          [
           "Ductile Iron"
          ]
         ],
         "fillpattern": {
          "shape": ""
         },
         "hovertemplate": "%{customdata[0]} : %{y}",
         "legendgroup": "Leak prone",
         "line": {
          "color": "#df2935"
         },
         "marker": {
          "symbol": "circle"
         },
         "mode": "lines",
         "name": "Leak prone",
         "orientation": "v",
         "showlegend": false,
         "stackgroup": "1",
         "type": "scatter",
         "x": [
          1997,
          1998,
          1999,
          2000,
          2001,
          2002,
          2003,
          2004,
          2005,
          2006,
          2007,
          2008,
          2009,
          2010,
          2011,
          2012,
          2013,
          2014,
          2015,
          2016,
          2017,
          2018,
          2019,
          2020,
          2021,
          2022
         ],
         "xaxis": "x",
         "y": [
          152,
          152,
          152,
          152,
          152,
          151,
          148,
          147,
          145,
          145.3,
          139.5,
          124.482,
          122.224,
          117.72,
          104.158,
          91.784,
          84.38,
          80.12,
          77.376,
          72.827,
          70.15,
          68.93,
          66.92,
          65.383,
          63.76,
          62.663
         ],
         "yaxis": "y"
        },
        {
         "customdata": [
          [
           "Copper"
          ],
          [
           "Copper"
          ],
          [
           "Copper"
          ],
          [
           "Copper"
          ],
          [
           "Copper"
          ],
          [
           "Copper"
          ],
          [
           "Copper"
          ],
          [
           "Copper"
          ],
          [
           "Copper"
          ],
          [
           "Copper"
          ],
          [
           "Copper"
          ],
          [
           "Copper"
          ],
          [
           "Copper"
          ],
          [
           "Copper"
          ],
          [
           "Copper"
          ],
          [
           "Copper"
          ],
          [
           "Copper"
          ],
          [
           "Copper"
          ],
          [
           "Copper"
          ],
          [
           "Copper"
          ],
          [
           "Copper"
          ],
          [
           "Copper"
          ],
          [
           "Copper"
          ],
          [
           "Copper"
          ],
          [
           "Copper"
          ],
          [
           "Copper"
          ]
         ],
         "fillpattern": {
          "shape": ""
         },
         "hovertemplate": "%{customdata[0]} : %{y}",
         "legendgroup": "Leak prone",
         "line": {
          "color": "#df2935"
         },
         "marker": {
          "symbol": "circle"
         },
         "mode": "lines",
         "name": "Leak prone",
         "orientation": "v",
         "showlegend": false,
         "stackgroup": "1",
         "type": "scatter",
         "x": [
          1997,
          1998,
          1999,
          2000,
          2001,
          2002,
          2003,
          2004,
          2005,
          2006,
          2007,
          2008,
          2009,
          2010,
          2011,
          2012,
          2013,
          2014,
          2015,
          2016,
          2017,
          2018,
          2019,
          2020,
          2021,
          2022
         ],
         "xaxis": "x",
         "y": [
          0,
          0,
          0,
          0,
          0,
          0,
          0,
          0,
          0,
          0,
          0,
          0.231,
          0.219,
          0.144,
          0,
          0,
          0,
          0,
          0,
          0,
          0,
          0,
          0,
          0,
          0,
          0
         ],
         "yaxis": "y"
        },
        {
         "customdata": [
          [
           "Other"
          ],
          [
           "Other"
          ],
          [
           "Other"
          ],
          [
           "Other"
          ],
          [
           "Other"
          ],
          [
           "Other"
          ],
          [
           "Other"
          ],
          [
           "Other"
          ],
          [
           "Other"
          ],
          [
           "Other"
          ],
          [
           "Other"
          ],
          [
           "Other"
          ],
          [
           "Other"
          ],
          [
           "Other"
          ],
          [
           "Other"
          ],
          [
           "Other"
          ],
          [
           "Other"
          ],
          [
           "Other"
          ],
          [
           "Other"
          ],
          [
           "Other"
          ],
          [
           "Other"
          ],
          [
           "Other"
          ],
          [
           "Other"
          ],
          [
           "Other"
          ],
          [
           "Other"
          ],
          [
           "Other"
          ]
         ],
         "fillpattern": {
          "shape": ""
         },
         "hovertemplate": "%{customdata[0]} : %{y}",
         "legendgroup": "Leak prone",
         "line": {
          "color": "#df2935"
         },
         "marker": {
          "symbol": "circle"
         },
         "mode": "lines",
         "name": "Leak prone",
         "orientation": "v",
         "showlegend": false,
         "stackgroup": "1",
         "type": "scatter",
         "x": [
          1997,
          1998,
          1999,
          2000,
          2001,
          2002,
          2003,
          2004,
          2005,
          2006,
          2007,
          2008,
          2009,
          2010,
          2011,
          2012,
          2013,
          2014,
          2015,
          2016,
          2017,
          2018,
          2019,
          2020,
          2021,
          2022
         ],
         "xaxis": "x",
         "y": [
          0,
          0,
          0,
          0,
          0,
          0,
          0,
          0,
          0,
          0,
          0,
          0,
          0,
          0.96,
          0.746,
          0.075,
          0,
          0,
          0,
          0,
          0,
          0,
          0,
          0,
          0,
          0
         ],
         "yaxis": "y"
        },
        {
         "customdata": [
          [
           "Cathodically protected, Coated"
          ],
          [
           "Cathodically protected, Coated"
          ],
          [
           "Cathodically protected, Coated"
          ],
          [
           "Cathodically protected, Coated"
          ],
          [
           "Cathodically protected, Coated"
          ],
          [
           "Cathodically protected, Coated"
          ],
          [
           "Cathodically protected, Coated"
          ],
          [
           "Cathodically protected, Coated"
          ],
          [
           "Cathodically protected, Coated"
          ],
          [
           "Cathodically protected, Coated"
          ],
          [
           "Cathodically protected, Coated"
          ],
          [
           "Cathodically protected, Coated"
          ],
          [
           "Cathodically protected, Coated"
          ],
          [
           "Cathodically protected, Coated"
          ],
          [
           "Cathodically protected, Coated"
          ],
          [
           "Cathodically protected, Coated"
          ],
          [
           "Cathodically protected, Coated"
          ],
          [
           "Cathodically protected, Coated"
          ],
          [
           "Cathodically protected, Coated"
          ],
          [
           "Cathodically protected, Coated"
          ],
          [
           "Cathodically protected, Coated"
          ],
          [
           "Cathodically protected, Coated"
          ],
          [
           "Cathodically protected, Coated"
          ],
          [
           "Cathodically protected, Coated"
          ],
          [
           "Cathodically protected, Coated"
          ],
          [
           "Cathodically protected, Coated"
          ]
         ],
         "fillpattern": {
          "shape": ""
         },
         "hovertemplate": "%{customdata[0]} : %{y}",
         "legendgroup": "Non-Leak prone",
         "line": {
          "color": "#1a1b41"
         },
         "marker": {
          "symbol": "circle"
         },
         "mode": "lines",
         "name": "Non-Leak prone",
         "orientation": "v",
         "showlegend": true,
         "stackgroup": "1",
         "type": "scatter",
         "x": [
          1997,
          1998,
          1999,
          2000,
          2001,
          2002,
          2003,
          2004,
          2005,
          2006,
          2007,
          2008,
          2009,
          2010,
          2011,
          2012,
          2013,
          2014,
          2015,
          2016,
          2017,
          2018,
          2019,
          2020,
          2021,
          2022
         ],
         "xaxis": "x",
         "y": [
          440,
          449,
          462,
          466,
          477,
          488,
          491,
          503,
          505,
          473.1,
          460.1,
          459.8,
          471.5,
          464.45,
          464.8,
          465.865,
          459.492,
          456.345,
          450.371,
          451.207,
          447.26,
          446.88,
          448.21,
          442.41,
          441.436,
          438.715
         ],
         "yaxis": "y"
        },
        {
         "customdata": [
          [
           "Plastic"
          ],
          [
           "Plastic"
          ],
          [
           "Plastic"
          ],
          [
           "Plastic"
          ],
          [
           "Plastic"
          ],
          [
           "Plastic"
          ],
          [
           "Plastic"
          ],
          [
           "Plastic"
          ],
          [
           "Plastic"
          ],
          [
           "Plastic"
          ],
          [
           "Plastic"
          ],
          [
           "Plastic"
          ],
          [
           "Plastic"
          ],
          [
           "Plastic"
          ],
          [
           "Plastic"
          ],
          [
           "Plastic"
          ],
          [
           "Plastic"
          ],
          [
           "Plastic"
          ],
          [
           "Plastic"
          ],
          [
           "Plastic"
          ],
          [
           "Plastic"
          ],
          [
           "Plastic"
          ],
          [
           "Plastic"
          ],
          [
           "Plastic"
          ],
          [
           "Plastic"
          ],
          [
           "Plastic"
          ]
         ],
         "fillpattern": {
          "shape": ""
         },
         "hovertemplate": "%{customdata[0]} : %{y}",
         "legendgroup": "Non-Leak prone",
         "line": {
          "color": "#1a1b41"
         },
         "marker": {
          "symbol": "circle"
         },
         "mode": "lines",
         "name": "Non-Leak prone",
         "orientation": "v",
         "showlegend": false,
         "stackgroup": "1",
         "type": "scatter",
         "x": [
          1997,
          1998,
          1999,
          2000,
          2001,
          2002,
          2003,
          2004,
          2005,
          2006,
          2007,
          2008,
          2009,
          2010,
          2011,
          2012,
          2013,
          2014,
          2015,
          2016,
          2017,
          2018,
          2019,
          2020,
          2021,
          2022
         ],
         "xaxis": "x",
         "y": [
          397,
          440,
          476,
          514,
          541,
          598,
          650,
          685,
          732,
          784.1,
          827.8,
          828.046,
          861.556,
          912.855,
          1043.482,
          1099.363,
          1140.507,
          1171.618,
          1195.072,
          1222.91,
          1245.54,
          1250.4,
          1273.37,
          1293.48,
          1313.471,
          1339.771
         ],
         "yaxis": "y"
        }
       ],
       "layout": {
        "annotations": [
         {
          "arrowhead": 2,
          "font": {
           "color": "#df2935"
          },
          "showarrow": false,
          "text": "196 miles",
          "x": 1.075,
          "xref": "paper",
          "y": 196
         }
        ],
        "hovermode": "x unified",
        "legend": {
         "title": {
          "text": "Leak prone"
         },
         "tracegroupgap": 0
        },
        "template": {
         "data": {
          "bar": [
           {
            "error_x": {
             "color": "rgb(51,51,51)"
            },
            "error_y": {
             "color": "rgb(51,51,51)"
            },
            "marker": {
             "line": {
              "color": "rgb(237,237,237)",
              "width": 0.5
             },
             "pattern": {
              "fillmode": "overlay",
              "size": 10,
              "solidity": 0.2
             }
            },
            "type": "bar"
           }
          ],
          "barpolar": [
           {
            "marker": {
             "line": {
              "color": "rgb(237,237,237)",
              "width": 0.5
             },
             "pattern": {
              "fillmode": "overlay",
              "size": 10,
              "solidity": 0.2
             }
            },
            "type": "barpolar"
           }
          ],
          "carpet": [
           {
            "aaxis": {
             "endlinecolor": "rgb(51,51,51)",
             "gridcolor": "white",
             "linecolor": "white",
             "minorgridcolor": "white",
             "startlinecolor": "rgb(51,51,51)"
            },
            "baxis": {
             "endlinecolor": "rgb(51,51,51)",
             "gridcolor": "white",
             "linecolor": "white",
             "minorgridcolor": "white",
             "startlinecolor": "rgb(51,51,51)"
            },
            "type": "carpet"
           }
          ],
          "choropleth": [
           {
            "colorbar": {
             "outlinewidth": 0,
             "tickcolor": "rgb(237,237,237)",
             "ticklen": 6,
             "ticks": "inside"
            },
            "type": "choropleth"
           }
          ],
          "contour": [
           {
            "colorbar": {
             "outlinewidth": 0,
             "tickcolor": "rgb(237,237,237)",
             "ticklen": 6,
             "ticks": "inside"
            },
            "colorscale": [
             [
              0,
              "rgb(20,44,66)"
             ],
             [
              1,
              "rgb(90,179,244)"
             ]
            ],
            "type": "contour"
           }
          ],
          "contourcarpet": [
           {
            "colorbar": {
             "outlinewidth": 0,
             "tickcolor": "rgb(237,237,237)",
             "ticklen": 6,
             "ticks": "inside"
            },
            "type": "contourcarpet"
           }
          ],
          "heatmap": [
           {
            "colorbar": {
             "outlinewidth": 0,
             "tickcolor": "rgb(237,237,237)",
             "ticklen": 6,
             "ticks": "inside"
            },
            "colorscale": [
             [
              0,
              "rgb(20,44,66)"
             ],
             [
              1,
              "rgb(90,179,244)"
             ]
            ],
            "type": "heatmap"
           }
          ],
          "heatmapgl": [
           {
            "colorbar": {
             "outlinewidth": 0,
             "tickcolor": "rgb(237,237,237)",
             "ticklen": 6,
             "ticks": "inside"
            },
            "colorscale": [
             [
              0,
              "rgb(20,44,66)"
             ],
             [
              1,
              "rgb(90,179,244)"
             ]
            ],
            "type": "heatmapgl"
           }
          ],
          "histogram": [
           {
            "marker": {
             "pattern": {
              "fillmode": "overlay",
              "size": 10,
              "solidity": 0.2
             }
            },
            "type": "histogram"
           }
          ],
          "histogram2d": [
           {
            "colorbar": {
             "outlinewidth": 0,
             "tickcolor": "rgb(237,237,237)",
             "ticklen": 6,
             "ticks": "inside"
            },
            "colorscale": [
             [
              0,
              "rgb(20,44,66)"
             ],
             [
              1,
              "rgb(90,179,244)"
             ]
            ],
            "type": "histogram2d"
           }
          ],
          "histogram2dcontour": [
           {
            "colorbar": {
             "outlinewidth": 0,
             "tickcolor": "rgb(237,237,237)",
             "ticklen": 6,
             "ticks": "inside"
            },
            "colorscale": [
             [
              0,
              "rgb(20,44,66)"
             ],
             [
              1,
              "rgb(90,179,244)"
             ]
            ],
            "type": "histogram2dcontour"
           }
          ],
          "mesh3d": [
           {
            "colorbar": {
             "outlinewidth": 0,
             "tickcolor": "rgb(237,237,237)",
             "ticklen": 6,
             "ticks": "inside"
            },
            "type": "mesh3d"
           }
          ],
          "parcoords": [
           {
            "line": {
             "colorbar": {
              "outlinewidth": 0,
              "tickcolor": "rgb(237,237,237)",
              "ticklen": 6,
              "ticks": "inside"
             }
            },
            "type": "parcoords"
           }
          ],
          "pie": [
           {
            "automargin": true,
            "type": "pie"
           }
          ],
          "scatter": [
           {
            "fillpattern": {
             "fillmode": "overlay",
             "size": 10,
             "solidity": 0.2
            },
            "type": "scatter"
           }
          ],
          "scatter3d": [
           {
            "line": {
             "colorbar": {
              "outlinewidth": 0,
              "tickcolor": "rgb(237,237,237)",
              "ticklen": 6,
              "ticks": "inside"
             }
            },
            "marker": {
             "colorbar": {
              "outlinewidth": 0,
              "tickcolor": "rgb(237,237,237)",
              "ticklen": 6,
              "ticks": "inside"
             }
            },
            "type": "scatter3d"
           }
          ],
          "scattercarpet": [
           {
            "marker": {
             "colorbar": {
              "outlinewidth": 0,
              "tickcolor": "rgb(237,237,237)",
              "ticklen": 6,
              "ticks": "inside"
             }
            },
            "type": "scattercarpet"
           }
          ],
          "scattergeo": [
           {
            "marker": {
             "colorbar": {
              "outlinewidth": 0,
              "tickcolor": "rgb(237,237,237)",
              "ticklen": 6,
              "ticks": "inside"
             }
            },
            "type": "scattergeo"
           }
          ],
          "scattergl": [
           {
            "marker": {
             "colorbar": {
              "outlinewidth": 0,
              "tickcolor": "rgb(237,237,237)",
              "ticklen": 6,
              "ticks": "inside"
             }
            },
            "type": "scattergl"
           }
          ],
          "scattermapbox": [
           {
            "marker": {
             "colorbar": {
              "outlinewidth": 0,
              "tickcolor": "rgb(237,237,237)",
              "ticklen": 6,
              "ticks": "inside"
             }
            },
            "type": "scattermapbox"
           }
          ],
          "scatterpolar": [
           {
            "marker": {
             "colorbar": {
              "outlinewidth": 0,
              "tickcolor": "rgb(237,237,237)",
              "ticklen": 6,
              "ticks": "inside"
             }
            },
            "type": "scatterpolar"
           }
          ],
          "scatterpolargl": [
           {
            "marker": {
             "colorbar": {
              "outlinewidth": 0,
              "tickcolor": "rgb(237,237,237)",
              "ticklen": 6,
              "ticks": "inside"
             }
            },
            "type": "scatterpolargl"
           }
          ],
          "scatterternary": [
           {
            "marker": {
             "colorbar": {
              "outlinewidth": 0,
              "tickcolor": "rgb(237,237,237)",
              "ticklen": 6,
              "ticks": "inside"
             }
            },
            "type": "scatterternary"
           }
          ],
          "surface": [
           {
            "colorbar": {
             "outlinewidth": 0,
             "tickcolor": "rgb(237,237,237)",
             "ticklen": 6,
             "ticks": "inside"
            },
            "colorscale": [
             [
              0,
              "rgb(20,44,66)"
             ],
             [
              1,
              "rgb(90,179,244)"
             ]
            ],
            "type": "surface"
           }
          ],
          "table": [
           {
            "cells": {
             "fill": {
              "color": "rgb(237,237,237)"
             },
             "line": {
              "color": "white"
             }
            },
            "header": {
             "fill": {
              "color": "rgb(217,217,217)"
             },
             "line": {
              "color": "white"
             }
            },
            "type": "table"
           }
          ]
         },
         "layout": {
          "annotationdefaults": {
           "arrowhead": 0,
           "arrowwidth": 1
          },
          "annotations": [
           {
            "font": {
             "color": "black",
             "size": 12
            },
            "name": "created by",
            "opacity": 0.9,
            "showarrow": false,
            "text": "Created by Electrify RVA",
            "x": -0.05,
            "xref": "paper",
            "y": -0.25,
            "yref": "paper"
           }
          ],
          "autotypenumbers": "strict",
          "coloraxis": {
           "colorbar": {
            "outlinewidth": 0,
            "tickcolor": "rgb(237,237,237)",
            "ticklen": 6,
            "ticks": "inside"
           }
          },
          "colorscale": {
           "sequential": [
            [
             0,
             "rgb(20,44,66)"
            ],
            [
             1,
             "rgb(90,179,244)"
            ]
           ],
           "sequentialminus": [
            [
             0,
             "rgb(20,44,66)"
            ],
            [
             1,
             "rgb(90,179,244)"
            ]
           ]
          },
          "colorway": [
           "#007C77",
           "#1a1b41",
           "#f48668",
           "#f2bb05",
           "#E2A0FF",
           "#8acb88"
          ],
          "font": {
           "color": "rgb(51,51,51)"
          },
          "geo": {
           "bgcolor": "white",
           "lakecolor": "white",
           "landcolor": "rgb(237,237,237)",
           "showlakes": true,
           "showland": true,
           "subunitcolor": "white"
          },
          "hoverlabel": {
           "align": "left"
          },
          "hovermode": "x unified",
          "paper_bgcolor": "white",
          "plot_bgcolor": "rgb(237,237,237)",
          "polar": {
           "angularaxis": {
            "gridcolor": "white",
            "linecolor": "white",
            "showgrid": true,
            "tickcolor": "rgb(51,51,51)",
            "ticks": "outside"
           },
           "bgcolor": "rgb(237,237,237)",
           "radialaxis": {
            "gridcolor": "white",
            "linecolor": "white",
            "showgrid": true,
            "tickcolor": "rgb(51,51,51)",
            "ticks": "outside"
           }
          },
          "scene": {
           "xaxis": {
            "backgroundcolor": "rgb(237,237,237)",
            "gridcolor": "white",
            "gridwidth": 2,
            "linecolor": "white",
            "showbackground": true,
            "showgrid": true,
            "tickcolor": "rgb(51,51,51)",
            "ticks": "outside",
            "zerolinecolor": "white"
           },
           "yaxis": {
            "backgroundcolor": "rgb(237,237,237)",
            "gridcolor": "white",
            "gridwidth": 2,
            "linecolor": "white",
            "showbackground": true,
            "showgrid": true,
            "tickcolor": "rgb(51,51,51)",
            "ticks": "outside",
            "zerolinecolor": "white"
           },
           "zaxis": {
            "backgroundcolor": "rgb(237,237,237)",
            "gridcolor": "white",
            "gridwidth": 2,
            "linecolor": "white",
            "showbackground": true,
            "showgrid": true,
            "tickcolor": "rgb(51,51,51)",
            "ticks": "outside",
            "zerolinecolor": "white"
           }
          },
          "shapedefaults": {
           "fillcolor": "black",
           "line": {
            "width": 0
           },
           "opacity": 0.3
          },
          "ternary": {
           "aaxis": {
            "gridcolor": "white",
            "linecolor": "white",
            "showgrid": true,
            "tickcolor": "rgb(51,51,51)",
            "ticks": "outside"
           },
           "baxis": {
            "gridcolor": "white",
            "linecolor": "white",
            "showgrid": true,
            "tickcolor": "rgb(51,51,51)",
            "ticks": "outside"
           },
           "bgcolor": "rgb(237,237,237)",
           "caxis": {
            "gridcolor": "white",
            "linecolor": "white",
            "showgrid": true,
            "tickcolor": "rgb(51,51,51)",
            "ticks": "outside"
           }
          },
          "title": {
           "x": 0.05
          },
          "xaxis": {
           "automargin": true,
           "gridcolor": "white",
           "linecolor": "white",
           "showgrid": true,
           "tickcolor": "rgb(51,51,51)",
           "ticks": "outside",
           "title": {
            "standoff": 15
           },
           "zerolinecolor": "white"
          },
          "yaxis": {
           "automargin": true,
           "gridcolor": "white",
           "linecolor": "white",
           "showgrid": true,
           "tickcolor": "rgb(51,51,51)",
           "tickformat": ",.0f",
           "ticks": "outside",
           "title": {
            "standoff": 15
           },
           "zerolinecolor": "white"
          }
         }
        },
        "title": {
         "text": "Leak prone mains miles"
        },
        "xaxis": {
         "anchor": "y",
         "domain": [
          0,
          1
         ],
         "title": {
          "text": ""
         }
        },
        "yaxis": {
         "anchor": "x",
         "domain": [
          0,
          1
         ],
         "title": {
          "text": "Mains miles"
         }
        }
       }
      }
     },
     "metadata": {},
     "output_type": "display_data"
    }
   ],
   "source": [
    "fig = px.area(\n",
    "    melted, x=\"year\", y=\"Mains miles\", title=\"Leak prone mains miles\", color=\"leak_prone\", line_group='material_specific',\n",
    "    labels={ \"year\": \"\", \"material\": \"Material\", \"leak_prone\": \"Leak prone\"},\n",
    "    hover_data=[\"material_specific\"],\n",
    "    color_discrete_map={'Leak prone': HIGHLIGHT_COLOR}\n",
    "    #color_discrete_sequence=[\"#1a1b41\", \"#f48668\"],\n",
    ")\n",
    "\n",
    "fig.update_traces(hovertemplate=None)\n",
    "fig.update_traces(hovertemplate = '%{customdata[0]} : %{y}')  #'year=%{customdata[0]}<br>label=%{customdata[1]}<extra></extra>')\n",
    "fig.update_layout(hovermode='x unified')\n",
    "\n",
    "fig.add_annotation(\n",
    "    text=\"196 miles\", x=1.075, y=196,\n",
    "    showarrow=False, arrowhead=2,\n",
    "    xref='paper',\n",
    "    font=dict(color=HIGHLIGHT_COLOR),\n",
    ")\n",
    "\n",
    "\n",
    "fig.show()\n",
    "fig.write_html(\"../docs/_includes/charts/material_leakprone_mains_miles.html\", include_plotlyjs=\"cdn\")"
   ]
  },
  {
   "cell_type": "code",
   "execution_count": 558,
   "metadata": {},
   "outputs": [
    {
     "data": {
      "application/vnd.plotly.v1+json": {
       "config": {
        "plotlyServerURL": "https://plot.ly"
       },
       "data": [
        {
         "customdata": [
          [
           "Unprotected, Bare"
          ],
          [
           "Unprotected, Bare"
          ],
          [
           "Unprotected, Bare"
          ],
          [
           "Unprotected, Bare"
          ],
          [
           "Unprotected, Bare"
          ],
          [
           "Unprotected, Bare"
          ],
          [
           "Unprotected, Bare"
          ],
          [
           "Unprotected, Bare"
          ],
          [
           "Unprotected, Bare"
          ],
          [
           "Unprotected, Bare"
          ],
          [
           "Unprotected, Bare"
          ],
          [
           "Unprotected, Bare"
          ],
          [
           "Unprotected, Bare"
          ],
          [
           "Unprotected, Bare"
          ],
          [
           "Unprotected, Bare"
          ],
          [
           "Unprotected, Bare"
          ],
          [
           "Unprotected, Bare"
          ],
          [
           "Unprotected, Bare"
          ],
          [
           "Unprotected, Bare"
          ],
          [
           "Unprotected, Bare"
          ],
          [
           "Unprotected, Bare"
          ],
          [
           "Unprotected, Bare"
          ],
          [
           "Unprotected, Bare"
          ],
          [
           "Unprotected, Bare"
          ],
          [
           "Unprotected, Bare"
          ],
          [
           "Unprotected, Bare"
          ]
         ],
         "fillpattern": {
          "shape": ""
         },
         "hovertemplate": "%{customdata[0]} : %{y}",
         "legendgroup": "Leak prone",
         "line": {
          "color": "#df2935"
         },
         "marker": {
          "symbol": "circle"
         },
         "mode": "lines",
         "name": "Leak prone",
         "orientation": "v",
         "showlegend": true,
         "stackgroup": "1",
         "type": "scatter",
         "x": [
          1997,
          1998,
          1999,
          2000,
          2001,
          2002,
          2003,
          2004,
          2005,
          2006,
          2007,
          2008,
          2009,
          2010,
          2011,
          2012,
          2013,
          2014,
          2015,
          2016,
          2017,
          2018,
          2019,
          2020,
          2021,
          2022
         ],
         "xaxis": "x",
         "y": [
          77.29166666666667,
          58.01136363636364,
          37.63257575757576,
          31.875,
          29.867424242424242,
          21.28787878787879,
          12.462121212121213,
          6.571969696969697,
          1.4015151515151516,
          1.4015151515151516,
          0.5871212121212122,
          159.3181818181818,
          142.40530303030303,
          80.33977272727273,
          70.30018939393939,
          47.41590909090909,
          41.94393939393939,
          40.02992424242424,
          39.00833333333333,
          36.68333333333333,
          35.96704545454545,
          34.72234848484848,
          32.867045454545455,
          30.72992424242424,
          27.59469696969697,
          26.99583333333333
         ],
         "yaxis": "y"
        },
        {
         "customdata": [
          [
           "Unprotected, Coated"
          ],
          [
           "Unprotected, Coated"
          ],
          [
           "Unprotected, Coated"
          ],
          [
           "Unprotected, Coated"
          ],
          [
           "Unprotected, Coated"
          ],
          [
           "Unprotected, Coated"
          ],
          [
           "Unprotected, Coated"
          ],
          [
           "Unprotected, Coated"
          ],
          [
           "Unprotected, Coated"
          ],
          [
           "Unprotected, Coated"
          ],
          [
           "Unprotected, Coated"
          ],
          [
           "Unprotected, Coated"
          ],
          [
           "Unprotected, Coated"
          ],
          [
           "Unprotected, Coated"
          ],
          [
           "Unprotected, Coated"
          ],
          [
           "Unprotected, Coated"
          ],
          [
           "Unprotected, Coated"
          ],
          [
           "Unprotected, Coated"
          ],
          [
           "Unprotected, Coated"
          ],
          [
           "Unprotected, Coated"
          ],
          [
           "Unprotected, Coated"
          ],
          [
           "Unprotected, Coated"
          ],
          [
           "Unprotected, Coated"
          ],
          [
           "Unprotected, Coated"
          ],
          [
           "Unprotected, Coated"
          ],
          [
           "Unprotected, Coated"
          ]
         ],
         "fillpattern": {
          "shape": ""
         },
         "hovertemplate": "%{customdata[0]} : %{y}",
         "legendgroup": "Leak prone",
         "line": {
          "color": "#df2935"
         },
         "marker": {
          "symbol": "circle"
         },
         "mode": "lines",
         "name": "Leak prone",
         "orientation": "v",
         "showlegend": false,
         "stackgroup": "1",
         "type": "scatter",
         "x": [
          1997,
          1998,
          1999,
          2000,
          2001,
          2002,
          2003,
          2004,
          2005,
          2006,
          2007,
          2008,
          2009,
          2010,
          2011,
          2012,
          2013,
          2014,
          2015,
          2016,
          2017,
          2018,
          2019,
          2020,
          2021,
          2022
         ],
         "xaxis": "x",
         "y": [
          173.29545454545456,
          173.29545454545456,
          173.29545454545456,
          157.32954545454547,
          150.2840909090909,
          132.68939393939394,
          117.91666666666667,
          110.51136363636364,
          90.47348484848484,
          74.18560606060606,
          63.20075757575758,
          0,
          0,
          0,
          0,
          3.6988636363636362,
          3.076515151515151,
          3.076515151515151,
          3.076515151515151,
          3.076515151515151,
          3.076515151515151,
          3.076515151515151,
          3.076515151515151,
          3.076515151515151,
          3.076515151515151,
          3.076515151515151
         ],
         "yaxis": "y"
        },
        {
         "customdata": [
          [
           "Cathodically protected, Bare"
          ],
          [
           "Cathodically protected, Bare"
          ],
          [
           "Cathodically protected, Bare"
          ],
          [
           "Cathodically protected, Bare"
          ],
          [
           "Cathodically protected, Bare"
          ],
          [
           "Cathodically protected, Bare"
          ],
          [
           "Cathodically protected, Bare"
          ],
          [
           "Cathodically protected, Bare"
          ],
          [
           "Cathodically protected, Bare"
          ],
          [
           "Cathodically protected, Bare"
          ],
          [
           "Cathodically protected, Bare"
          ],
          [
           "Cathodically protected, Bare"
          ],
          [
           "Cathodically protected, Bare"
          ],
          [
           "Cathodically protected, Bare"
          ],
          [
           "Cathodically protected, Bare"
          ],
          [
           "Cathodically protected, Bare"
          ],
          [
           "Cathodically protected, Bare"
          ],
          [
           "Cathodically protected, Bare"
          ],
          [
           "Cathodically protected, Bare"
          ],
          [
           "Cathodically protected, Bare"
          ],
          [
           "Cathodically protected, Bare"
          ],
          [
           "Cathodically protected, Bare"
          ],
          [
           "Cathodically protected, Bare"
          ],
          [
           "Cathodically protected, Bare"
          ],
          [
           "Cathodically protected, Bare"
          ],
          [
           "Cathodically protected, Bare"
          ]
         ],
         "fillpattern": {
          "shape": ""
         },
         "hovertemplate": "%{customdata[0]} : %{y}",
         "legendgroup": "Leak prone",
         "line": {
          "color": "#df2935"
         },
         "marker": {
          "symbol": "circle"
         },
         "mode": "lines",
         "name": "Leak prone",
         "orientation": "v",
         "showlegend": false,
         "stackgroup": "1",
         "type": "scatter",
         "x": [
          1997,
          1998,
          1999,
          2000,
          2001,
          2002,
          2003,
          2004,
          2005,
          2006,
          2007,
          2008,
          2009,
          2010,
          2011,
          2012,
          2013,
          2014,
          2015,
          2016,
          2017,
          2018,
          2019,
          2020,
          2021,
          2022
         ],
         "xaxis": "x",
         "y": [
          0,
          0,
          0,
          0,
          0,
          0,
          0,
          0,
          0,
          0,
          0,
          0,
          0,
          0,
          0,
          0,
          0,
          0,
          0,
          0,
          0,
          0,
          0,
          0,
          0,
          0
         ],
         "yaxis": "y"
        },
        {
         "customdata": [
          [
           "Cast Iron"
          ],
          [
           "Cast Iron"
          ],
          [
           "Cast Iron"
          ],
          [
           "Cast Iron"
          ],
          [
           "Cast Iron"
          ],
          [
           "Cast Iron"
          ],
          [
           "Cast Iron"
          ],
          [
           "Cast Iron"
          ],
          [
           "Cast Iron"
          ],
          [
           "Cast Iron"
          ],
          [
           "Cast Iron"
          ],
          [
           "Cast Iron"
          ],
          [
           "Cast Iron"
          ],
          [
           "Cast Iron"
          ],
          [
           "Cast Iron"
          ],
          [
           "Cast Iron"
          ],
          [
           "Cast Iron"
          ],
          [
           "Cast Iron"
          ],
          [
           "Cast Iron"
          ],
          [
           "Cast Iron"
          ],
          [
           "Cast Iron"
          ],
          [
           "Cast Iron"
          ],
          [
           "Cast Iron"
          ],
          [
           "Cast Iron"
          ],
          [
           "Cast Iron"
          ],
          [
           "Cast Iron"
          ]
         ],
         "fillpattern": {
          "shape": ""
         },
         "hovertemplate": "%{customdata[0]} : %{y}",
         "legendgroup": "Leak prone",
         "line": {
          "color": "#df2935"
         },
         "marker": {
          "symbol": "circle"
         },
         "mode": "lines",
         "name": "Leak prone",
         "orientation": "v",
         "showlegend": false,
         "stackgroup": "1",
         "type": "scatter",
         "x": [
          1997,
          1998,
          1999,
          2000,
          2001,
          2002,
          2003,
          2004,
          2005,
          2006,
          2007,
          2008,
          2009,
          2010,
          2011,
          2012,
          2013,
          2014,
          2015,
          2016,
          2017,
          2018,
          2019,
          2020,
          2021,
          2022
         ],
         "xaxis": "x",
         "y": [
          4.640151515151516,
          4.640151515151516,
          4.640151515151516,
          4.6022727272727275,
          4.6022727272727275,
          4.337121212121212,
          4.337121212121212,
          4.28030303030303,
          4.28030303030303,
          4.261363636363637,
          4.223484848484849,
          11.837121212121213,
          11.818181818181818,
          7.1975378787878785,
          7.162878787878788,
          0.9159090909090909,
          0.9159090909090909,
          0.9159090909090909,
          0.9041666666666666,
          0.8924242424242423,
          0.8806818181818181,
          0.8806818181818181,
          0.8806818181818181,
          0.8806818181818181,
          0.8806818181818181,
          0.8806818181818181
         ],
         "yaxis": "y"
        },
        {
         "customdata": [
          [
           "Ductile Iron"
          ],
          [
           "Ductile Iron"
          ],
          [
           "Ductile Iron"
          ],
          [
           "Ductile Iron"
          ],
          [
           "Ductile Iron"
          ],
          [
           "Ductile Iron"
          ],
          [
           "Ductile Iron"
          ],
          [
           "Ductile Iron"
          ],
          [
           "Ductile Iron"
          ],
          [
           "Ductile Iron"
          ],
          [
           "Ductile Iron"
          ],
          [
           "Ductile Iron"
          ],
          [
           "Ductile Iron"
          ],
          [
           "Ductile Iron"
          ],
          [
           "Ductile Iron"
          ],
          [
           "Ductile Iron"
          ],
          [
           "Ductile Iron"
          ],
          [
           "Ductile Iron"
          ],
          [
           "Ductile Iron"
          ],
          [
           "Ductile Iron"
          ],
          [
           "Ductile Iron"
          ],
          [
           "Ductile Iron"
          ],
          [
           "Ductile Iron"
          ],
          [
           "Ductile Iron"
          ],
          [
           "Ductile Iron"
          ],
          [
           "Ductile Iron"
          ]
         ],
         "fillpattern": {
          "shape": ""
         },
         "hovertemplate": "%{customdata[0]} : %{y}",
         "legendgroup": "Leak prone",
         "line": {
          "color": "#df2935"
         },
         "marker": {
          "symbol": "circle"
         },
         "mode": "lines",
         "name": "Leak prone",
         "orientation": "v",
         "showlegend": false,
         "stackgroup": "1",
         "type": "scatter",
         "x": [
          1997,
          1998,
          1999,
          2000,
          2001,
          2002,
          2003,
          2004,
          2005,
          2006,
          2007,
          2008,
          2009,
          2010,
          2011,
          2012,
          2013,
          2014,
          2015,
          2016,
          2017,
          2018,
          2019,
          2020,
          2021,
          2022
         ],
         "xaxis": "x",
         "y": [
          0.03787878787878788,
          0.03787878787878788,
          0.03787878787878788,
          0.03787878787878788,
          0.03787878787878788,
          0.03787878787878788,
          0.03787878787878788,
          0.03787878787878788,
          0.03787878787878788,
          0.03787878787878788,
          0.03787878787878788,
          0.1893939393939394,
          0.1893939393939394,
          0.09242424242424242,
          0.09242424242424242,
          0.09393939393939393,
          0.09393939393939393,
          0.09393939393939393,
          0.09393939393939393,
          0.09393939393939393,
          0.09393939393939393,
          0.09393939393939393,
          0.09393939393939393,
          0.09393939393939393,
          0.09393939393939393,
          0.09393939393939393
         ],
         "yaxis": "y"
        },
        {
         "customdata": [
          [
           "Copper"
          ],
          [
           "Copper"
          ],
          [
           "Copper"
          ],
          [
           "Copper"
          ],
          [
           "Copper"
          ],
          [
           "Copper"
          ],
          [
           "Copper"
          ],
          [
           "Copper"
          ],
          [
           "Copper"
          ],
          [
           "Copper"
          ],
          [
           "Copper"
          ],
          [
           "Copper"
          ],
          [
           "Copper"
          ],
          [
           "Copper"
          ],
          [
           "Copper"
          ],
          [
           "Copper"
          ],
          [
           "Copper"
          ],
          [
           "Copper"
          ],
          [
           "Copper"
          ],
          [
           "Copper"
          ],
          [
           "Copper"
          ],
          [
           "Copper"
          ],
          [
           "Copper"
          ],
          [
           "Copper"
          ],
          [
           "Copper"
          ],
          [
           "Copper"
          ]
         ],
         "fillpattern": {
          "shape": ""
         },
         "hovertemplate": "%{customdata[0]} : %{y}",
         "legendgroup": "Leak prone",
         "line": {
          "color": "#df2935"
         },
         "marker": {
          "symbol": "circle"
         },
         "mode": "lines",
         "name": "Leak prone",
         "orientation": "v",
         "showlegend": false,
         "stackgroup": "1",
         "type": "scatter",
         "x": [
          1997,
          1998,
          1999,
          2000,
          2001,
          2002,
          2003,
          2004,
          2005,
          2006,
          2007,
          2008,
          2009,
          2010,
          2011,
          2012,
          2013,
          2014,
          2015,
          2016,
          2017,
          2018,
          2019,
          2020,
          2021,
          2022
         ],
         "xaxis": "x",
         "y": [
          128.2007575757576,
          128.2007575757576,
          126.68560606060606,
          126.49621212121212,
          126.49621212121212,
          124.82954545454545,
          122.34848484848486,
          119.10984848484848,
          117.74621212121212,
          115.9659090909091,
          115.01893939393939,
          80.05681818181819,
          78.92045454545455,
          45.32253787878788,
          43.86685606060606,
          42.51931818181818,
          41.49772727272727,
          41.27462121212121,
          40.6875,
          40.24128787878788,
          40.19431818181818,
          40.06515151515151,
          39.93598484848484,
          39.85378787878788,
          39.63068181818181,
          39.525
         ],
         "yaxis": "y"
        },
        {
         "customdata": [
          [
           "Other"
          ],
          [
           "Other"
          ],
          [
           "Other"
          ],
          [
           "Other"
          ],
          [
           "Other"
          ],
          [
           "Other"
          ],
          [
           "Other"
          ],
          [
           "Other"
          ],
          [
           "Other"
          ],
          [
           "Other"
          ],
          [
           "Other"
          ],
          [
           "Other"
          ],
          [
           "Other"
          ],
          [
           "Other"
          ],
          [
           "Other"
          ],
          [
           "Other"
          ],
          [
           "Other"
          ],
          [
           "Other"
          ],
          [
           "Other"
          ],
          [
           "Other"
          ],
          [
           "Other"
          ],
          [
           "Other"
          ],
          [
           "Other"
          ],
          [
           "Other"
          ],
          [
           "Other"
          ],
          [
           "Other"
          ]
         ],
         "fillpattern": {
          "shape": ""
         },
         "hovertemplate": "%{customdata[0]} : %{y}",
         "legendgroup": "Leak prone",
         "line": {
          "color": "#df2935"
         },
         "marker": {
          "symbol": "circle"
         },
         "mode": "lines",
         "name": "Leak prone",
         "orientation": "v",
         "showlegend": false,
         "stackgroup": "1",
         "type": "scatter",
         "x": [
          1997,
          1998,
          1999,
          2000,
          2001,
          2002,
          2003,
          2004,
          2005,
          2006,
          2007,
          2008,
          2009,
          2010,
          2011,
          2012,
          2013,
          2014,
          2015,
          2016,
          2017,
          2018,
          2019,
          2020,
          2021,
          2022
         ],
         "xaxis": "x",
         "y": [
          0,
          0,
          0,
          0,
          0,
          0,
          0,
          0,
          0,
          0,
          0,
          0,
          0,
          83.40132575757576,
          83.40132575757576,
          84.7685606060606,
          76.94810606060605,
          66.8965909090909,
          64.81818181818181,
          61.5655303030303,
          56.422348484848484,
          54.27348484848485,
          52.71174242424242,
          51.4905303030303,
          49.08333333333333,
          47.26325757575757
         ],
         "yaxis": "y"
        },
        {
         "customdata": [
          [
           "Cathodically protected, Coated"
          ],
          [
           "Cathodically protected, Coated"
          ],
          [
           "Cathodically protected, Coated"
          ],
          [
           "Cathodically protected, Coated"
          ],
          [
           "Cathodically protected, Coated"
          ],
          [
           "Cathodically protected, Coated"
          ],
          [
           "Cathodically protected, Coated"
          ],
          [
           "Cathodically protected, Coated"
          ],
          [
           "Cathodically protected, Coated"
          ],
          [
           "Cathodically protected, Coated"
          ],
          [
           "Cathodically protected, Coated"
          ],
          [
           "Cathodically protected, Coated"
          ],
          [
           "Cathodically protected, Coated"
          ],
          [
           "Cathodically protected, Coated"
          ],
          [
           "Cathodically protected, Coated"
          ],
          [
           "Cathodically protected, Coated"
          ],
          [
           "Cathodically protected, Coated"
          ],
          [
           "Cathodically protected, Coated"
          ],
          [
           "Cathodically protected, Coated"
          ],
          [
           "Cathodically protected, Coated"
          ],
          [
           "Cathodically protected, Coated"
          ],
          [
           "Cathodically protected, Coated"
          ],
          [
           "Cathodically protected, Coated"
          ],
          [
           "Cathodically protected, Coated"
          ],
          [
           "Cathodically protected, Coated"
          ],
          [
           "Cathodically protected, Coated"
          ]
         ],
         "fillpattern": {
          "shape": ""
         },
         "hovertemplate": "%{customdata[0]} : %{y}",
         "legendgroup": "Non-Leak prone",
         "line": {
          "color": "#1a1b41"
         },
         "marker": {
          "symbol": "circle"
         },
         "mode": "lines",
         "name": "Non-Leak prone",
         "orientation": "v",
         "showlegend": true,
         "stackgroup": "1",
         "type": "scatter",
         "x": [
          1997,
          1998,
          1999,
          2000,
          2001,
          2002,
          2003,
          2004,
          2005,
          2006,
          2007,
          2008,
          2009,
          2010,
          2011,
          2012,
          2013,
          2014,
          2015,
          2016,
          2017,
          2018,
          2019,
          2020,
          2021,
          2022
         ],
         "xaxis": "x",
         "y": [
          97.7840909090909,
          97.7840909090909,
          97.7840909090909,
          97.67045454545455,
          97.1590909090909,
          96.5340909090909,
          96.38257575757576,
          96.40151515151516,
          96.40151515151516,
          94.43181818181819,
          76.47727272727273,
          151.98863636363637,
          151.98863636363637,
          85.74659090909091,
          85.61950757575758,
          31.716287878787877,
          28.32272727272727,
          27.26590909090909,
          26.361742424242422,
          23.39090909090909,
          17.167424242424243,
          12.200378787878787,
          7.421212121212121,
          7.1276515151515145,
          6.834090909090909,
          6.329166666666667
         ],
         "yaxis": "y"
        },
        {
         "customdata": [
          [
           "Plastic"
          ],
          [
           "Plastic"
          ],
          [
           "Plastic"
          ],
          [
           "Plastic"
          ],
          [
           "Plastic"
          ],
          [
           "Plastic"
          ],
          [
           "Plastic"
          ],
          [
           "Plastic"
          ],
          [
           "Plastic"
          ],
          [
           "Plastic"
          ],
          [
           "Plastic"
          ],
          [
           "Plastic"
          ],
          [
           "Plastic"
          ],
          [
           "Plastic"
          ],
          [
           "Plastic"
          ],
          [
           "Plastic"
          ],
          [
           "Plastic"
          ],
          [
           "Plastic"
          ],
          [
           "Plastic"
          ],
          [
           "Plastic"
          ],
          [
           "Plastic"
          ],
          [
           "Plastic"
          ],
          [
           "Plastic"
          ],
          [
           "Plastic"
          ],
          [
           "Plastic"
          ],
          [
           "Plastic"
          ]
         ],
         "fillpattern": {
          "shape": ""
         },
         "hovertemplate": "%{customdata[0]} : %{y}",
         "legendgroup": "Non-Leak prone",
         "line": {
          "color": "#1a1b41"
         },
         "marker": {
          "symbol": "circle"
         },
         "mode": "lines",
         "name": "Non-Leak prone",
         "orientation": "v",
         "showlegend": false,
         "stackgroup": "1",
         "type": "scatter",
         "x": [
          1997,
          1998,
          1999,
          2000,
          2001,
          2002,
          2003,
          2004,
          2005,
          2006,
          2007,
          2008,
          2009,
          2010,
          2011,
          2012,
          2013,
          2014,
          2015,
          2016,
          2017,
          2018,
          2019,
          2020,
          2021,
          2022
         ],
         "xaxis": "x",
         "y": [
          992.3484848484849,
          1060.0757575757575,
          1124.9242424242425,
          1201.1931818181818,
          1244.128787878788,
          1308.0492424242425,
          1375.4545454545455,
          1437.2916666666667,
          1508.1628787878788,
          1566.9318181818182,
          1608.8257575757575,
          1153.3901515151515,
          1199.2613636363637,
          754.8518939393939,
          778.4662878787879,
          926.8765151515152,
          955.8685606060606,
          950.2087121212121,
          964.0882575757576,
          979.6821969696969,
          1003.5897727272727,
          1021.978409090909,
          1044.148106060606,
          1059.0022727272726,
          1106.3359848484847,
          1114.8727272727272
         ],
         "yaxis": "y"
        }
       ],
       "layout": {
        "annotations": [
         {
          "arrowhead": 2,
          "font": {
           "color": "#df2935"
          },
          "showarrow": false,
          "text": "118 miles",
          "x": 1.075,
          "xref": "paper",
          "y": 118
         }
        ],
        "hovermode": "x unified",
        "legend": {
         "title": {
          "text": "Leak prone"
         },
         "tracegroupgap": 0
        },
        "template": {
         "data": {
          "bar": [
           {
            "error_x": {
             "color": "rgb(51,51,51)"
            },
            "error_y": {
             "color": "rgb(51,51,51)"
            },
            "marker": {
             "line": {
              "color": "rgb(237,237,237)",
              "width": 0.5
             },
             "pattern": {
              "fillmode": "overlay",
              "size": 10,
              "solidity": 0.2
             }
            },
            "type": "bar"
           }
          ],
          "barpolar": [
           {
            "marker": {
             "line": {
              "color": "rgb(237,237,237)",
              "width": 0.5
             },
             "pattern": {
              "fillmode": "overlay",
              "size": 10,
              "solidity": 0.2
             }
            },
            "type": "barpolar"
           }
          ],
          "carpet": [
           {
            "aaxis": {
             "endlinecolor": "rgb(51,51,51)",
             "gridcolor": "white",
             "linecolor": "white",
             "minorgridcolor": "white",
             "startlinecolor": "rgb(51,51,51)"
            },
            "baxis": {
             "endlinecolor": "rgb(51,51,51)",
             "gridcolor": "white",
             "linecolor": "white",
             "minorgridcolor": "white",
             "startlinecolor": "rgb(51,51,51)"
            },
            "type": "carpet"
           }
          ],
          "choropleth": [
           {
            "colorbar": {
             "outlinewidth": 0,
             "tickcolor": "rgb(237,237,237)",
             "ticklen": 6,
             "ticks": "inside"
            },
            "type": "choropleth"
           }
          ],
          "contour": [
           {
            "colorbar": {
             "outlinewidth": 0,
             "tickcolor": "rgb(237,237,237)",
             "ticklen": 6,
             "ticks": "inside"
            },
            "colorscale": [
             [
              0,
              "rgb(20,44,66)"
             ],
             [
              1,
              "rgb(90,179,244)"
             ]
            ],
            "type": "contour"
           }
          ],
          "contourcarpet": [
           {
            "colorbar": {
             "outlinewidth": 0,
             "tickcolor": "rgb(237,237,237)",
             "ticklen": 6,
             "ticks": "inside"
            },
            "type": "contourcarpet"
           }
          ],
          "heatmap": [
           {
            "colorbar": {
             "outlinewidth": 0,
             "tickcolor": "rgb(237,237,237)",
             "ticklen": 6,
             "ticks": "inside"
            },
            "colorscale": [
             [
              0,
              "rgb(20,44,66)"
             ],
             [
              1,
              "rgb(90,179,244)"
             ]
            ],
            "type": "heatmap"
           }
          ],
          "heatmapgl": [
           {
            "colorbar": {
             "outlinewidth": 0,
             "tickcolor": "rgb(237,237,237)",
             "ticklen": 6,
             "ticks": "inside"
            },
            "colorscale": [
             [
              0,
              "rgb(20,44,66)"
             ],
             [
              1,
              "rgb(90,179,244)"
             ]
            ],
            "type": "heatmapgl"
           }
          ],
          "histogram": [
           {
            "marker": {
             "pattern": {
              "fillmode": "overlay",
              "size": 10,
              "solidity": 0.2
             }
            },
            "type": "histogram"
           }
          ],
          "histogram2d": [
           {
            "colorbar": {
             "outlinewidth": 0,
             "tickcolor": "rgb(237,237,237)",
             "ticklen": 6,
             "ticks": "inside"
            },
            "colorscale": [
             [
              0,
              "rgb(20,44,66)"
             ],
             [
              1,
              "rgb(90,179,244)"
             ]
            ],
            "type": "histogram2d"
           }
          ],
          "histogram2dcontour": [
           {
            "colorbar": {
             "outlinewidth": 0,
             "tickcolor": "rgb(237,237,237)",
             "ticklen": 6,
             "ticks": "inside"
            },
            "colorscale": [
             [
              0,
              "rgb(20,44,66)"
             ],
             [
              1,
              "rgb(90,179,244)"
             ]
            ],
            "type": "histogram2dcontour"
           }
          ],
          "mesh3d": [
           {
            "colorbar": {
             "outlinewidth": 0,
             "tickcolor": "rgb(237,237,237)",
             "ticklen": 6,
             "ticks": "inside"
            },
            "type": "mesh3d"
           }
          ],
          "parcoords": [
           {
            "line": {
             "colorbar": {
              "outlinewidth": 0,
              "tickcolor": "rgb(237,237,237)",
              "ticklen": 6,
              "ticks": "inside"
             }
            },
            "type": "parcoords"
           }
          ],
          "pie": [
           {
            "automargin": true,
            "type": "pie"
           }
          ],
          "scatter": [
           {
            "fillpattern": {
             "fillmode": "overlay",
             "size": 10,
             "solidity": 0.2
            },
            "type": "scatter"
           }
          ],
          "scatter3d": [
           {
            "line": {
             "colorbar": {
              "outlinewidth": 0,
              "tickcolor": "rgb(237,237,237)",
              "ticklen": 6,
              "ticks": "inside"
             }
            },
            "marker": {
             "colorbar": {
              "outlinewidth": 0,
              "tickcolor": "rgb(237,237,237)",
              "ticklen": 6,
              "ticks": "inside"
             }
            },
            "type": "scatter3d"
           }
          ],
          "scattercarpet": [
           {
            "marker": {
             "colorbar": {
              "outlinewidth": 0,
              "tickcolor": "rgb(237,237,237)",
              "ticklen": 6,
              "ticks": "inside"
             }
            },
            "type": "scattercarpet"
           }
          ],
          "scattergeo": [
           {
            "marker": {
             "colorbar": {
              "outlinewidth": 0,
              "tickcolor": "rgb(237,237,237)",
              "ticklen": 6,
              "ticks": "inside"
             }
            },
            "type": "scattergeo"
           }
          ],
          "scattergl": [
           {
            "marker": {
             "colorbar": {
              "outlinewidth": 0,
              "tickcolor": "rgb(237,237,237)",
              "ticklen": 6,
              "ticks": "inside"
             }
            },
            "type": "scattergl"
           }
          ],
          "scattermapbox": [
           {
            "marker": {
             "colorbar": {
              "outlinewidth": 0,
              "tickcolor": "rgb(237,237,237)",
              "ticklen": 6,
              "ticks": "inside"
             }
            },
            "type": "scattermapbox"
           }
          ],
          "scatterpolar": [
           {
            "marker": {
             "colorbar": {
              "outlinewidth": 0,
              "tickcolor": "rgb(237,237,237)",
              "ticklen": 6,
              "ticks": "inside"
             }
            },
            "type": "scatterpolar"
           }
          ],
          "scatterpolargl": [
           {
            "marker": {
             "colorbar": {
              "outlinewidth": 0,
              "tickcolor": "rgb(237,237,237)",
              "ticklen": 6,
              "ticks": "inside"
             }
            },
            "type": "scatterpolargl"
           }
          ],
          "scatterternary": [
           {
            "marker": {
             "colorbar": {
              "outlinewidth": 0,
              "tickcolor": "rgb(237,237,237)",
              "ticklen": 6,
              "ticks": "inside"
             }
            },
            "type": "scatterternary"
           }
          ],
          "surface": [
           {
            "colorbar": {
             "outlinewidth": 0,
             "tickcolor": "rgb(237,237,237)",
             "ticklen": 6,
             "ticks": "inside"
            },
            "colorscale": [
             [
              0,
              "rgb(20,44,66)"
             ],
             [
              1,
              "rgb(90,179,244)"
             ]
            ],
            "type": "surface"
           }
          ],
          "table": [
           {
            "cells": {
             "fill": {
              "color": "rgb(237,237,237)"
             },
             "line": {
              "color": "white"
             }
            },
            "header": {
             "fill": {
              "color": "rgb(217,217,217)"
             },
             "line": {
              "color": "white"
             }
            },
            "type": "table"
           }
          ]
         },
         "layout": {
          "annotationdefaults": {
           "arrowhead": 0,
           "arrowwidth": 1
          },
          "annotations": [
           {
            "font": {
             "color": "black",
             "size": 12
            },
            "name": "created by",
            "opacity": 0.9,
            "showarrow": false,
            "text": "Created by Electrify RVA",
            "x": -0.05,
            "xref": "paper",
            "y": -0.25,
            "yref": "paper"
           }
          ],
          "autotypenumbers": "strict",
          "coloraxis": {
           "colorbar": {
            "outlinewidth": 0,
            "tickcolor": "rgb(237,237,237)",
            "ticklen": 6,
            "ticks": "inside"
           }
          },
          "colorscale": {
           "sequential": [
            [
             0,
             "rgb(20,44,66)"
            ],
            [
             1,
             "rgb(90,179,244)"
            ]
           ],
           "sequentialminus": [
            [
             0,
             "rgb(20,44,66)"
            ],
            [
             1,
             "rgb(90,179,244)"
            ]
           ]
          },
          "colorway": [
           "#007C77",
           "#1a1b41",
           "#f48668",
           "#f2bb05",
           "#E2A0FF",
           "#8acb88"
          ],
          "font": {
           "color": "rgb(51,51,51)"
          },
          "geo": {
           "bgcolor": "white",
           "lakecolor": "white",
           "landcolor": "rgb(237,237,237)",
           "showlakes": true,
           "showland": true,
           "subunitcolor": "white"
          },
          "hoverlabel": {
           "align": "left"
          },
          "hovermode": "x unified",
          "paper_bgcolor": "white",
          "plot_bgcolor": "rgb(237,237,237)",
          "polar": {
           "angularaxis": {
            "gridcolor": "white",
            "linecolor": "white",
            "showgrid": true,
            "tickcolor": "rgb(51,51,51)",
            "ticks": "outside"
           },
           "bgcolor": "rgb(237,237,237)",
           "radialaxis": {
            "gridcolor": "white",
            "linecolor": "white",
            "showgrid": true,
            "tickcolor": "rgb(51,51,51)",
            "ticks": "outside"
           }
          },
          "scene": {
           "xaxis": {
            "backgroundcolor": "rgb(237,237,237)",
            "gridcolor": "white",
            "gridwidth": 2,
            "linecolor": "white",
            "showbackground": true,
            "showgrid": true,
            "tickcolor": "rgb(51,51,51)",
            "ticks": "outside",
            "zerolinecolor": "white"
           },
           "yaxis": {
            "backgroundcolor": "rgb(237,237,237)",
            "gridcolor": "white",
            "gridwidth": 2,
            "linecolor": "white",
            "showbackground": true,
            "showgrid": true,
            "tickcolor": "rgb(51,51,51)",
            "ticks": "outside",
            "zerolinecolor": "white"
           },
           "zaxis": {
            "backgroundcolor": "rgb(237,237,237)",
            "gridcolor": "white",
            "gridwidth": 2,
            "linecolor": "white",
            "showbackground": true,
            "showgrid": true,
            "tickcolor": "rgb(51,51,51)",
            "ticks": "outside",
            "zerolinecolor": "white"
           }
          },
          "shapedefaults": {
           "fillcolor": "black",
           "line": {
            "width": 0
           },
           "opacity": 0.3
          },
          "ternary": {
           "aaxis": {
            "gridcolor": "white",
            "linecolor": "white",
            "showgrid": true,
            "tickcolor": "rgb(51,51,51)",
            "ticks": "outside"
           },
           "baxis": {
            "gridcolor": "white",
            "linecolor": "white",
            "showgrid": true,
            "tickcolor": "rgb(51,51,51)",
            "ticks": "outside"
           },
           "bgcolor": "rgb(237,237,237)",
           "caxis": {
            "gridcolor": "white",
            "linecolor": "white",
            "showgrid": true,
            "tickcolor": "rgb(51,51,51)",
            "ticks": "outside"
           }
          },
          "title": {
           "x": 0.05
          },
          "xaxis": {
           "automargin": true,
           "gridcolor": "white",
           "linecolor": "white",
           "showgrid": true,
           "tickcolor": "rgb(51,51,51)",
           "ticks": "outside",
           "title": {
            "standoff": 15
           },
           "zerolinecolor": "white"
          },
          "yaxis": {
           "automargin": true,
           "gridcolor": "white",
           "linecolor": "white",
           "showgrid": true,
           "tickcolor": "rgb(51,51,51)",
           "tickformat": ",.0f",
           "ticks": "outside",
           "title": {
            "standoff": 15
           },
           "zerolinecolor": "white"
          }
         }
        },
        "title": {
         "text": "Leak prone services miles"
        },
        "xaxis": {
         "anchor": "y",
         "domain": [
          0,
          1
         ],
         "title": {
          "text": ""
         }
        },
        "yaxis": {
         "anchor": "x",
         "domain": [
          0,
          1
         ],
         "title": {
          "text": "Services miles"
         }
        }
       }
      }
     },
     "metadata": {},
     "output_type": "display_data"
    }
   ],
   "source": [
    "fig = px.area(\n",
    "    melted, x=\"year\", y=\"Services miles\", title=\"Leak prone services miles\", color=\"leak_prone\", line_group='material_specific',\n",
    "    labels={ \"year\": \"\", \"material\": \"Material\", \"leak_prone\": \"Leak prone\"},\n",
    "    hover_data=[\"material_specific\"],\n",
    "    color_discrete_map={'Leak prone': HIGHLIGHT_COLOR}\n",
    "    #color_discrete_sequence=[\"#1a1b41\", \"#f48668\"],\n",
    ")\n",
    "\n",
    "fig.update_traces(hovertemplate=None)\n",
    "fig.update_traces(hovertemplate = '%{customdata[0]} : %{y}')  #'year=%{customdata[0]}<br>label=%{customdata[1]}<extra></extra>')\n",
    "fig.update_layout(hovermode='x unified')\n",
    "\n",
    "fig.add_annotation(\n",
    "    text=\"118 miles\", x=1.075, y=118,\n",
    "    showarrow=False, arrowhead=2,\n",
    "    xref='paper',\n",
    "    font=dict(color=HIGHLIGHT_COLOR),\n",
    ")\n",
    "\n",
    "\n",
    "fig.show()\n",
    "fig.write_html(\"../docs/_includes/charts/material_leakprone_services_miles.html\", include_plotlyjs=\"cdn\")"
   ]
  },
  {
   "cell_type": "code",
   "execution_count": 559,
   "metadata": {},
   "outputs": [
    {
     "data": {
      "text/html": [
       "<div>\n",
       "<style scoped>\n",
       "    .dataframe tbody tr th:only-of-type {\n",
       "        vertical-align: middle;\n",
       "    }\n",
       "\n",
       "    .dataframe tbody tr th {\n",
       "        vertical-align: top;\n",
       "    }\n",
       "\n",
       "    .dataframe thead th {\n",
       "        text-align: right;\n",
       "    }\n",
       "</style>\n",
       "<table border=\"1\" class=\"dataframe\">\n",
       "  <thead>\n",
       "    <tr style=\"text-align: right;\">\n",
       "      <th></th>\n",
       "      <th>year</th>\n",
       "      <th>material</th>\n",
       "      <th>material_specific</th>\n",
       "      <th>leak_prone</th>\n",
       "      <th>pipe_type</th>\n",
       "      <th>Miles</th>\n",
       "      <th>Pipe</th>\n",
       "    </tr>\n",
       "  </thead>\n",
       "  <tbody>\n",
       "    <tr>\n",
       "      <th>0</th>\n",
       "      <td>1997</td>\n",
       "      <td>Steel</td>\n",
       "      <td>Unprotected, Bare</td>\n",
       "      <td>Leak prone</td>\n",
       "      <td>Mains miles</td>\n",
       "      <td>2.0</td>\n",
       "      <td>Mains</td>\n",
       "    </tr>\n",
       "    <tr>\n",
       "      <th>1</th>\n",
       "      <td>1997</td>\n",
       "      <td>Steel</td>\n",
       "      <td>Unprotected, Coated</td>\n",
       "      <td>Leak prone</td>\n",
       "      <td>Mains miles</td>\n",
       "      <td>21.0</td>\n",
       "      <td>Mains</td>\n",
       "    </tr>\n",
       "    <tr>\n",
       "      <th>2</th>\n",
       "      <td>1997</td>\n",
       "      <td>Steel</td>\n",
       "      <td>Cathodically protected, Bare</td>\n",
       "      <td>Leak prone</td>\n",
       "      <td>Mains miles</td>\n",
       "      <td>0.0</td>\n",
       "      <td>Mains</td>\n",
       "    </tr>\n",
       "    <tr>\n",
       "      <th>3</th>\n",
       "      <td>1997</td>\n",
       "      <td>Steel</td>\n",
       "      <td>Cathodically protected, Coated</td>\n",
       "      <td>Non-Leak prone</td>\n",
       "      <td>Mains miles</td>\n",
       "      <td>440.0</td>\n",
       "      <td>Mains</td>\n",
       "    </tr>\n",
       "    <tr>\n",
       "      <th>4</th>\n",
       "      <td>1997</td>\n",
       "      <td>Iron</td>\n",
       "      <td>Cast Iron</td>\n",
       "      <td>Leak prone</td>\n",
       "      <td>Mains miles</td>\n",
       "      <td>556.0</td>\n",
       "      <td>Mains</td>\n",
       "    </tr>\n",
       "  </tbody>\n",
       "</table>\n",
       "</div>"
      ],
      "text/plain": [
       "   year material               material_specific      leak_prone    pipe_type  \\\n",
       "0  1997    Steel               Unprotected, Bare      Leak prone  Mains miles   \n",
       "1  1997    Steel             Unprotected, Coated      Leak prone  Mains miles   \n",
       "2  1997    Steel    Cathodically protected, Bare      Leak prone  Mains miles   \n",
       "3  1997    Steel  Cathodically protected, Coated  Non-Leak prone  Mains miles   \n",
       "4  1997     Iron                       Cast Iron      Leak prone  Mains miles   \n",
       "\n",
       "   Miles   Pipe  \n",
       "0    2.0  Mains  \n",
       "1   21.0  Mains  \n",
       "2    0.0  Mains  \n",
       "3  440.0  Mains  \n",
       "4  556.0  Mains  "
      ]
     },
     "execution_count": 559,
     "metadata": {},
     "output_type": "execute_result"
    }
   ],
   "source": [
    "melted_all = melted.melt(\n",
    "    id_vars=['year', 'material', 'material_specific', 'leak_prone'],\n",
    "    value_vars=['Mains miles', 'Services miles'],\n",
    "    var_name='pipe_type', value_name='Miles',\n",
    ")\n",
    "\n",
    "melted_all['Pipe'] = melted_all['pipe_type'].str.split(\" \").str.get(0)\n",
    "\n",
    "melted_all.head()"
   ]
  },
  {
   "cell_type": "code",
   "execution_count": 560,
   "metadata": {},
   "outputs": [
    {
     "data": {
      "application/vnd.plotly.v1+json": {
       "config": {
        "plotlyServerURL": "https://plot.ly"
       },
       "data": [
        {
         "customdata": [
          [
           "Unprotected, Bare",
           "Mains"
          ],
          [
           "Unprotected, Bare",
           "Mains"
          ],
          [
           "Unprotected, Bare",
           "Mains"
          ],
          [
           "Unprotected, Bare",
           "Mains"
          ],
          [
           "Unprotected, Bare",
           "Mains"
          ],
          [
           "Unprotected, Bare",
           "Mains"
          ],
          [
           "Unprotected, Bare",
           "Mains"
          ],
          [
           "Unprotected, Bare",
           "Mains"
          ],
          [
           "Unprotected, Bare",
           "Mains"
          ],
          [
           "Unprotected, Bare",
           "Mains"
          ],
          [
           "Unprotected, Bare",
           "Mains"
          ],
          [
           "Unprotected, Bare",
           "Mains"
          ],
          [
           "Unprotected, Bare",
           "Mains"
          ],
          [
           "Unprotected, Bare",
           "Mains"
          ],
          [
           "Unprotected, Bare",
           "Mains"
          ],
          [
           "Unprotected, Bare",
           "Mains"
          ],
          [
           "Unprotected, Bare",
           "Mains"
          ],
          [
           "Unprotected, Bare",
           "Mains"
          ],
          [
           "Unprotected, Bare",
           "Mains"
          ],
          [
           "Unprotected, Bare",
           "Mains"
          ],
          [
           "Unprotected, Bare",
           "Mains"
          ],
          [
           "Unprotected, Bare",
           "Mains"
          ],
          [
           "Unprotected, Bare",
           "Mains"
          ],
          [
           "Unprotected, Bare",
           "Mains"
          ],
          [
           "Unprotected, Bare",
           "Mains"
          ],
          [
           "Unprotected, Bare",
           "Mains"
          ]
         ],
         "fillpattern": {
          "shape": ""
         },
         "hovertemplate": "%{customdata[0]} : %{y}",
         "legendgroup": "Steel, Mains",
         "line": {
          "color": "#007C77"
         },
         "marker": {
          "symbol": "circle"
         },
         "mode": "lines",
         "name": "Steel, Mains",
         "orientation": "v",
         "showlegend": true,
         "stackgroup": "1",
         "type": "scatter",
         "x": [
          1997,
          1998,
          1999,
          2000,
          2001,
          2002,
          2003,
          2004,
          2005,
          2006,
          2007,
          2008,
          2009,
          2010,
          2011,
          2012,
          2013,
          2014,
          2015,
          2016,
          2017,
          2018,
          2019,
          2020,
          2021,
          2022
         ],
         "xaxis": "x",
         "y": [
          2,
          2,
          2,
          2,
          0,
          0,
          0,
          0,
          0,
          0,
          0.4,
          22.484,
          5.921,
          11.543,
          11.719,
          2.296,
          1.965,
          1.899,
          3.371,
          1.154,
          3.27,
          2.92,
          1.05,
          1.191,
          1.194,
          1.026
         ],
         "yaxis": "y"
        },
        {
         "customdata": [
          [
           "Unprotected, Coated",
           "Mains"
          ],
          [
           "Unprotected, Coated",
           "Mains"
          ],
          [
           "Unprotected, Coated",
           "Mains"
          ],
          [
           "Unprotected, Coated",
           "Mains"
          ],
          [
           "Unprotected, Coated",
           "Mains"
          ],
          [
           "Unprotected, Coated",
           "Mains"
          ],
          [
           "Unprotected, Coated",
           "Mains"
          ],
          [
           "Unprotected, Coated",
           "Mains"
          ],
          [
           "Unprotected, Coated",
           "Mains"
          ],
          [
           "Unprotected, Coated",
           "Mains"
          ],
          [
           "Unprotected, Coated",
           "Mains"
          ],
          [
           "Unprotected, Coated",
           "Mains"
          ],
          [
           "Unprotected, Coated",
           "Mains"
          ],
          [
           "Unprotected, Coated",
           "Mains"
          ],
          [
           "Unprotected, Coated",
           "Mains"
          ],
          [
           "Unprotected, Coated",
           "Mains"
          ],
          [
           "Unprotected, Coated",
           "Mains"
          ],
          [
           "Unprotected, Coated",
           "Mains"
          ],
          [
           "Unprotected, Coated",
           "Mains"
          ],
          [
           "Unprotected, Coated",
           "Mains"
          ],
          [
           "Unprotected, Coated",
           "Mains"
          ],
          [
           "Unprotected, Coated",
           "Mains"
          ],
          [
           "Unprotected, Coated",
           "Mains"
          ],
          [
           "Unprotected, Coated",
           "Mains"
          ],
          [
           "Unprotected, Coated",
           "Mains"
          ],
          [
           "Unprotected, Coated",
           "Mains"
          ]
         ],
         "fillpattern": {
          "shape": ""
         },
         "hovertemplate": "%{customdata[0]} : %{y}",
         "legendgroup": "Steel, Mains",
         "line": {
          "color": "#007C77"
         },
         "marker": {
          "symbol": "circle"
         },
         "mode": "lines",
         "name": "Steel, Mains",
         "orientation": "v",
         "showlegend": false,
         "stackgroup": "1",
         "type": "scatter",
         "x": [
          1997,
          1998,
          1999,
          2000,
          2001,
          2002,
          2003,
          2004,
          2005,
          2006,
          2007,
          2008,
          2009,
          2010,
          2011,
          2012,
          2013,
          2014,
          2015,
          2016,
          2017,
          2018,
          2019,
          2020,
          2021,
          2022
         ],
         "xaxis": "x",
         "y": [
          21,
          16,
          7,
          7,
          2,
          1,
          9,
          0,
          0,
          0,
          10.3,
          1,
          3.8,
          4.5,
          5.597,
          5.997,
          3.908,
          3.384,
          3.242,
          3.021,
          2.83,
          0,
          0,
          3.749,
          1.34,
          2.09
         ],
         "yaxis": "y"
        },
        {
         "customdata": [
          [
           "Cathodically protected, Bare",
           "Mains"
          ],
          [
           "Cathodically protected, Bare",
           "Mains"
          ],
          [
           "Cathodically protected, Bare",
           "Mains"
          ],
          [
           "Cathodically protected, Bare",
           "Mains"
          ],
          [
           "Cathodically protected, Bare",
           "Mains"
          ],
          [
           "Cathodically protected, Bare",
           "Mains"
          ],
          [
           "Cathodically protected, Bare",
           "Mains"
          ],
          [
           "Cathodically protected, Bare",
           "Mains"
          ],
          [
           "Cathodically protected, Bare",
           "Mains"
          ],
          [
           "Cathodically protected, Bare",
           "Mains"
          ],
          [
           "Cathodically protected, Bare",
           "Mains"
          ],
          [
           "Cathodically protected, Bare",
           "Mains"
          ],
          [
           "Cathodically protected, Bare",
           "Mains"
          ],
          [
           "Cathodically protected, Bare",
           "Mains"
          ],
          [
           "Cathodically protected, Bare",
           "Mains"
          ],
          [
           "Cathodically protected, Bare",
           "Mains"
          ],
          [
           "Cathodically protected, Bare",
           "Mains"
          ],
          [
           "Cathodically protected, Bare",
           "Mains"
          ],
          [
           "Cathodically protected, Bare",
           "Mains"
          ],
          [
           "Cathodically protected, Bare",
           "Mains"
          ],
          [
           "Cathodically protected, Bare",
           "Mains"
          ],
          [
           "Cathodically protected, Bare",
           "Mains"
          ],
          [
           "Cathodically protected, Bare",
           "Mains"
          ],
          [
           "Cathodically protected, Bare",
           "Mains"
          ],
          [
           "Cathodically protected, Bare",
           "Mains"
          ],
          [
           "Cathodically protected, Bare",
           "Mains"
          ]
         ],
         "fillpattern": {
          "shape": ""
         },
         "hovertemplate": "%{customdata[0]} : %{y}",
         "legendgroup": "Steel, Mains",
         "line": {
          "color": "#007C77"
         },
         "marker": {
          "symbol": "circle"
         },
         "mode": "lines",
         "name": "Steel, Mains",
         "orientation": "v",
         "showlegend": false,
         "stackgroup": "1",
         "type": "scatter",
         "x": [
          1997,
          1998,
          1999,
          2000,
          2001,
          2002,
          2003,
          2004,
          2005,
          2006,
          2007,
          2008,
          2009,
          2010,
          2011,
          2012,
          2013,
          2014,
          2015,
          2016,
          2017,
          2018,
          2019,
          2020,
          2021,
          2022
         ],
         "xaxis": "x",
         "y": [
          0,
          0,
          0,
          0,
          0,
          0,
          0,
          0,
          0,
          0,
          0,
          0,
          0,
          0,
          0,
          0,
          0,
          0,
          0,
          0,
          0,
          0,
          0,
          0,
          0,
          0
         ],
         "yaxis": "y"
        },
        {
         "customdata": [
          [
           "Cathodically protected, Coated",
           "Mains"
          ],
          [
           "Cathodically protected, Coated",
           "Mains"
          ],
          [
           "Cathodically protected, Coated",
           "Mains"
          ],
          [
           "Cathodically protected, Coated",
           "Mains"
          ],
          [
           "Cathodically protected, Coated",
           "Mains"
          ],
          [
           "Cathodically protected, Coated",
           "Mains"
          ],
          [
           "Cathodically protected, Coated",
           "Mains"
          ],
          [
           "Cathodically protected, Coated",
           "Mains"
          ],
          [
           "Cathodically protected, Coated",
           "Mains"
          ],
          [
           "Cathodically protected, Coated",
           "Mains"
          ],
          [
           "Cathodically protected, Coated",
           "Mains"
          ],
          [
           "Cathodically protected, Coated",
           "Mains"
          ],
          [
           "Cathodically protected, Coated",
           "Mains"
          ],
          [
           "Cathodically protected, Coated",
           "Mains"
          ],
          [
           "Cathodically protected, Coated",
           "Mains"
          ],
          [
           "Cathodically protected, Coated",
           "Mains"
          ],
          [
           "Cathodically protected, Coated",
           "Mains"
          ],
          [
           "Cathodically protected, Coated",
           "Mains"
          ],
          [
           "Cathodically protected, Coated",
           "Mains"
          ],
          [
           "Cathodically protected, Coated",
           "Mains"
          ],
          [
           "Cathodically protected, Coated",
           "Mains"
          ],
          [
           "Cathodically protected, Coated",
           "Mains"
          ],
          [
           "Cathodically protected, Coated",
           "Mains"
          ],
          [
           "Cathodically protected, Coated",
           "Mains"
          ],
          [
           "Cathodically protected, Coated",
           "Mains"
          ],
          [
           "Cathodically protected, Coated",
           "Mains"
          ]
         ],
         "fillpattern": {
          "shape": ""
         },
         "hovertemplate": "%{customdata[0]} : %{y}",
         "legendgroup": "Steel, Mains",
         "line": {
          "color": "#007C77"
         },
         "marker": {
          "symbol": "circle"
         },
         "mode": "lines",
         "name": "Steel, Mains",
         "orientation": "v",
         "showlegend": false,
         "stackgroup": "1",
         "type": "scatter",
         "x": [
          1997,
          1998,
          1999,
          2000,
          2001,
          2002,
          2003,
          2004,
          2005,
          2006,
          2007,
          2008,
          2009,
          2010,
          2011,
          2012,
          2013,
          2014,
          2015,
          2016,
          2017,
          2018,
          2019,
          2020,
          2021,
          2022
         ],
         "xaxis": "x",
         "y": [
          440,
          449,
          462,
          466,
          477,
          488,
          491,
          503,
          505,
          473.1,
          460.1,
          459.8,
          471.5,
          464.45,
          464.8,
          465.865,
          459.492,
          456.345,
          450.371,
          451.207,
          447.26,
          446.88,
          448.21,
          442.41,
          441.436,
          438.715
         ],
         "yaxis": "y"
        },
        {
         "customdata": [
          [
           "Unprotected, Bare",
           "Services"
          ],
          [
           "Unprotected, Bare",
           "Services"
          ],
          [
           "Unprotected, Bare",
           "Services"
          ],
          [
           "Unprotected, Bare",
           "Services"
          ],
          [
           "Unprotected, Bare",
           "Services"
          ],
          [
           "Unprotected, Bare",
           "Services"
          ],
          [
           "Unprotected, Bare",
           "Services"
          ],
          [
           "Unprotected, Bare",
           "Services"
          ],
          [
           "Unprotected, Bare",
           "Services"
          ],
          [
           "Unprotected, Bare",
           "Services"
          ],
          [
           "Unprotected, Bare",
           "Services"
          ],
          [
           "Unprotected, Bare",
           "Services"
          ],
          [
           "Unprotected, Bare",
           "Services"
          ],
          [
           "Unprotected, Bare",
           "Services"
          ],
          [
           "Unprotected, Bare",
           "Services"
          ],
          [
           "Unprotected, Bare",
           "Services"
          ],
          [
           "Unprotected, Bare",
           "Services"
          ],
          [
           "Unprotected, Bare",
           "Services"
          ],
          [
           "Unprotected, Bare",
           "Services"
          ],
          [
           "Unprotected, Bare",
           "Services"
          ],
          [
           "Unprotected, Bare",
           "Services"
          ],
          [
           "Unprotected, Bare",
           "Services"
          ],
          [
           "Unprotected, Bare",
           "Services"
          ],
          [
           "Unprotected, Bare",
           "Services"
          ],
          [
           "Unprotected, Bare",
           "Services"
          ],
          [
           "Unprotected, Bare",
           "Services"
          ]
         ],
         "fillpattern": {
          "shape": "\\"
         },
         "hovertemplate": "%{customdata[0]} : %{y}",
         "legendgroup": "Steel, Services",
         "line": {
          "color": "#007C77"
         },
         "marker": {
          "symbol": "circle"
         },
         "mode": "lines",
         "name": "Steel, Services",
         "orientation": "v",
         "showlegend": true,
         "stackgroup": "1",
         "type": "scatter",
         "x": [
          1997,
          1998,
          1999,
          2000,
          2001,
          2002,
          2003,
          2004,
          2005,
          2006,
          2007,
          2008,
          2009,
          2010,
          2011,
          2012,
          2013,
          2014,
          2015,
          2016,
          2017,
          2018,
          2019,
          2020,
          2021,
          2022
         ],
         "xaxis": "x",
         "y": [
          77.29166666666667,
          58.01136363636364,
          37.63257575757576,
          31.875,
          29.867424242424242,
          21.28787878787879,
          12.462121212121213,
          6.571969696969697,
          1.4015151515151516,
          1.4015151515151516,
          0.5871212121212122,
          159.3181818181818,
          142.40530303030303,
          80.33977272727273,
          70.30018939393939,
          47.41590909090909,
          41.94393939393939,
          40.02992424242424,
          39.00833333333333,
          36.68333333333333,
          35.96704545454545,
          34.72234848484848,
          32.867045454545455,
          30.72992424242424,
          27.59469696969697,
          26.99583333333333
         ],
         "yaxis": "y"
        },
        {
         "customdata": [
          [
           "Unprotected, Coated",
           "Services"
          ],
          [
           "Unprotected, Coated",
           "Services"
          ],
          [
           "Unprotected, Coated",
           "Services"
          ],
          [
           "Unprotected, Coated",
           "Services"
          ],
          [
           "Unprotected, Coated",
           "Services"
          ],
          [
           "Unprotected, Coated",
           "Services"
          ],
          [
           "Unprotected, Coated",
           "Services"
          ],
          [
           "Unprotected, Coated",
           "Services"
          ],
          [
           "Unprotected, Coated",
           "Services"
          ],
          [
           "Unprotected, Coated",
           "Services"
          ],
          [
           "Unprotected, Coated",
           "Services"
          ],
          [
           "Unprotected, Coated",
           "Services"
          ],
          [
           "Unprotected, Coated",
           "Services"
          ],
          [
           "Unprotected, Coated",
           "Services"
          ],
          [
           "Unprotected, Coated",
           "Services"
          ],
          [
           "Unprotected, Coated",
           "Services"
          ],
          [
           "Unprotected, Coated",
           "Services"
          ],
          [
           "Unprotected, Coated",
           "Services"
          ],
          [
           "Unprotected, Coated",
           "Services"
          ],
          [
           "Unprotected, Coated",
           "Services"
          ],
          [
           "Unprotected, Coated",
           "Services"
          ],
          [
           "Unprotected, Coated",
           "Services"
          ],
          [
           "Unprotected, Coated",
           "Services"
          ],
          [
           "Unprotected, Coated",
           "Services"
          ],
          [
           "Unprotected, Coated",
           "Services"
          ],
          [
           "Unprotected, Coated",
           "Services"
          ]
         ],
         "fillpattern": {
          "shape": "\\"
         },
         "hovertemplate": "%{customdata[0]} : %{y}",
         "legendgroup": "Steel, Services",
         "line": {
          "color": "#007C77"
         },
         "marker": {
          "symbol": "circle"
         },
         "mode": "lines",
         "name": "Steel, Services",
         "orientation": "v",
         "showlegend": false,
         "stackgroup": "1",
         "type": "scatter",
         "x": [
          1997,
          1998,
          1999,
          2000,
          2001,
          2002,
          2003,
          2004,
          2005,
          2006,
          2007,
          2008,
          2009,
          2010,
          2011,
          2012,
          2013,
          2014,
          2015,
          2016,
          2017,
          2018,
          2019,
          2020,
          2021,
          2022
         ],
         "xaxis": "x",
         "y": [
          173.29545454545456,
          173.29545454545456,
          173.29545454545456,
          157.32954545454547,
          150.2840909090909,
          132.68939393939394,
          117.91666666666667,
          110.51136363636364,
          90.47348484848484,
          74.18560606060606,
          63.20075757575758,
          0,
          0,
          0,
          0,
          3.6988636363636362,
          3.076515151515151,
          3.076515151515151,
          3.076515151515151,
          3.076515151515151,
          3.076515151515151,
          3.076515151515151,
          3.076515151515151,
          3.076515151515151,
          3.076515151515151,
          3.076515151515151
         ],
         "yaxis": "y"
        },
        {
         "customdata": [
          [
           "Cathodically protected, Bare",
           "Services"
          ],
          [
           "Cathodically protected, Bare",
           "Services"
          ],
          [
           "Cathodically protected, Bare",
           "Services"
          ],
          [
           "Cathodically protected, Bare",
           "Services"
          ],
          [
           "Cathodically protected, Bare",
           "Services"
          ],
          [
           "Cathodically protected, Bare",
           "Services"
          ],
          [
           "Cathodically protected, Bare",
           "Services"
          ],
          [
           "Cathodically protected, Bare",
           "Services"
          ],
          [
           "Cathodically protected, Bare",
           "Services"
          ],
          [
           "Cathodically protected, Bare",
           "Services"
          ],
          [
           "Cathodically protected, Bare",
           "Services"
          ],
          [
           "Cathodically protected, Bare",
           "Services"
          ],
          [
           "Cathodically protected, Bare",
           "Services"
          ],
          [
           "Cathodically protected, Bare",
           "Services"
          ],
          [
           "Cathodically protected, Bare",
           "Services"
          ],
          [
           "Cathodically protected, Bare",
           "Services"
          ],
          [
           "Cathodically protected, Bare",
           "Services"
          ],
          [
           "Cathodically protected, Bare",
           "Services"
          ],
          [
           "Cathodically protected, Bare",
           "Services"
          ],
          [
           "Cathodically protected, Bare",
           "Services"
          ],
          [
           "Cathodically protected, Bare",
           "Services"
          ],
          [
           "Cathodically protected, Bare",
           "Services"
          ],
          [
           "Cathodically protected, Bare",
           "Services"
          ],
          [
           "Cathodically protected, Bare",
           "Services"
          ],
          [
           "Cathodically protected, Bare",
           "Services"
          ],
          [
           "Cathodically protected, Bare",
           "Services"
          ]
         ],
         "fillpattern": {
          "shape": "\\"
         },
         "hovertemplate": "%{customdata[0]} : %{y}",
         "legendgroup": "Steel, Services",
         "line": {
          "color": "#007C77"
         },
         "marker": {
          "symbol": "circle"
         },
         "mode": "lines",
         "name": "Steel, Services",
         "orientation": "v",
         "showlegend": false,
         "stackgroup": "1",
         "type": "scatter",
         "x": [
          1997,
          1998,
          1999,
          2000,
          2001,
          2002,
          2003,
          2004,
          2005,
          2006,
          2007,
          2008,
          2009,
          2010,
          2011,
          2012,
          2013,
          2014,
          2015,
          2016,
          2017,
          2018,
          2019,
          2020,
          2021,
          2022
         ],
         "xaxis": "x",
         "y": [
          0,
          0,
          0,
          0,
          0,
          0,
          0,
          0,
          0,
          0,
          0,
          0,
          0,
          0,
          0,
          0,
          0,
          0,
          0,
          0,
          0,
          0,
          0,
          0,
          0,
          0
         ],
         "yaxis": "y"
        },
        {
         "customdata": [
          [
           "Cathodically protected, Coated",
           "Services"
          ],
          [
           "Cathodically protected, Coated",
           "Services"
          ],
          [
           "Cathodically protected, Coated",
           "Services"
          ],
          [
           "Cathodically protected, Coated",
           "Services"
          ],
          [
           "Cathodically protected, Coated",
           "Services"
          ],
          [
           "Cathodically protected, Coated",
           "Services"
          ],
          [
           "Cathodically protected, Coated",
           "Services"
          ],
          [
           "Cathodically protected, Coated",
           "Services"
          ],
          [
           "Cathodically protected, Coated",
           "Services"
          ],
          [
           "Cathodically protected, Coated",
           "Services"
          ],
          [
           "Cathodically protected, Coated",
           "Services"
          ],
          [
           "Cathodically protected, Coated",
           "Services"
          ],
          [
           "Cathodically protected, Coated",
           "Services"
          ],
          [
           "Cathodically protected, Coated",
           "Services"
          ],
          [
           "Cathodically protected, Coated",
           "Services"
          ],
          [
           "Cathodically protected, Coated",
           "Services"
          ],
          [
           "Cathodically protected, Coated",
           "Services"
          ],
          [
           "Cathodically protected, Coated",
           "Services"
          ],
          [
           "Cathodically protected, Coated",
           "Services"
          ],
          [
           "Cathodically protected, Coated",
           "Services"
          ],
          [
           "Cathodically protected, Coated",
           "Services"
          ],
          [
           "Cathodically protected, Coated",
           "Services"
          ],
          [
           "Cathodically protected, Coated",
           "Services"
          ],
          [
           "Cathodically protected, Coated",
           "Services"
          ],
          [
           "Cathodically protected, Coated",
           "Services"
          ],
          [
           "Cathodically protected, Coated",
           "Services"
          ]
         ],
         "fillpattern": {
          "shape": "\\"
         },
         "hovertemplate": "%{customdata[0]} : %{y}",
         "legendgroup": "Steel, Services",
         "line": {
          "color": "#007C77"
         },
         "marker": {
          "symbol": "circle"
         },
         "mode": "lines",
         "name": "Steel, Services",
         "orientation": "v",
         "showlegend": false,
         "stackgroup": "1",
         "type": "scatter",
         "x": [
          1997,
          1998,
          1999,
          2000,
          2001,
          2002,
          2003,
          2004,
          2005,
          2006,
          2007,
          2008,
          2009,
          2010,
          2011,
          2012,
          2013,
          2014,
          2015,
          2016,
          2017,
          2018,
          2019,
          2020,
          2021,
          2022
         ],
         "xaxis": "x",
         "y": [
          97.7840909090909,
          97.7840909090909,
          97.7840909090909,
          97.67045454545455,
          97.1590909090909,
          96.5340909090909,
          96.38257575757576,
          96.40151515151516,
          96.40151515151516,
          94.43181818181819,
          76.47727272727273,
          151.98863636363637,
          151.98863636363637,
          85.74659090909091,
          85.61950757575758,
          31.716287878787877,
          28.32272727272727,
          27.26590909090909,
          26.361742424242422,
          23.39090909090909,
          17.167424242424243,
          12.200378787878787,
          7.421212121212121,
          7.1276515151515145,
          6.834090909090909,
          6.329166666666667
         ],
         "yaxis": "y"
        },
        {
         "customdata": [
          [
           "Cast Iron",
           "Mains"
          ],
          [
           "Cast Iron",
           "Mains"
          ],
          [
           "Cast Iron",
           "Mains"
          ],
          [
           "Cast Iron",
           "Mains"
          ],
          [
           "Cast Iron",
           "Mains"
          ],
          [
           "Cast Iron",
           "Mains"
          ],
          [
           "Cast Iron",
           "Mains"
          ],
          [
           "Cast Iron",
           "Mains"
          ],
          [
           "Cast Iron",
           "Mains"
          ],
          [
           "Cast Iron",
           "Mains"
          ],
          [
           "Cast Iron",
           "Mains"
          ],
          [
           "Cast Iron",
           "Mains"
          ],
          [
           "Cast Iron",
           "Mains"
          ],
          [
           "Cast Iron",
           "Mains"
          ],
          [
           "Cast Iron",
           "Mains"
          ],
          [
           "Cast Iron",
           "Mains"
          ],
          [
           "Cast Iron",
           "Mains"
          ],
          [
           "Cast Iron",
           "Mains"
          ],
          [
           "Cast Iron",
           "Mains"
          ],
          [
           "Cast Iron",
           "Mains"
          ],
          [
           "Cast Iron",
           "Mains"
          ],
          [
           "Cast Iron",
           "Mains"
          ],
          [
           "Cast Iron",
           "Mains"
          ],
          [
           "Cast Iron",
           "Mains"
          ],
          [
           "Cast Iron",
           "Mains"
          ],
          [
           "Cast Iron",
           "Mains"
          ]
         ],
         "fillpattern": {
          "shape": ""
         },
         "hovertemplate": "%{customdata[0]} : %{y}",
         "legendgroup": "Iron, Mains",
         "line": {
          "color": "#1a1b41"
         },
         "marker": {
          "symbol": "circle"
         },
         "mode": "lines",
         "name": "Iron, Mains",
         "orientation": "v",
         "showlegend": true,
         "stackgroup": "1",
         "type": "scatter",
         "x": [
          1997,
          1998,
          1999,
          2000,
          2001,
          2002,
          2003,
          2004,
          2005,
          2006,
          2007,
          2008,
          2009,
          2010,
          2011,
          2012,
          2013,
          2014,
          2015,
          2016,
          2017,
          2018,
          2019,
          2020,
          2021,
          2022
         ],
         "xaxis": "x",
         "y": [
          556,
          554,
          552,
          536,
          520,
          495,
          468,
          451,
          439,
          422.9,
          408.5,
          396.397,
          375.956,
          353.696,
          315.177,
          263.88,
          220.602,
          198.066,
          185.54,
          171.866,
          161.19,
          156.63,
          146.87,
          139.02,
          134.7,
          129.58
         ],
         "yaxis": "y"
        },
        {
         "customdata": [
          [
           "Ductile Iron",
           "Mains"
          ],
          [
           "Ductile Iron",
           "Mains"
          ],
          [
           "Ductile Iron",
           "Mains"
          ],
          [
           "Ductile Iron",
           "Mains"
          ],
          [
           "Ductile Iron",
           "Mains"
          ],
          [
           "Ductile Iron",
           "Mains"
          ],
          [
           "Ductile Iron",
           "Mains"
          ],
          [
           "Ductile Iron",
           "Mains"
          ],
          [
           "Ductile Iron",
           "Mains"
          ],
          [
           "Ductile Iron",
           "Mains"
          ],
          [
           "Ductile Iron",
           "Mains"
          ],
          [
           "Ductile Iron",
           "Mains"
          ],
          [
           "Ductile Iron",
           "Mains"
          ],
          [
           "Ductile Iron",
           "Mains"
          ],
          [
           "Ductile Iron",
           "Mains"
          ],
          [
           "Ductile Iron",
           "Mains"
          ],
          [
           "Ductile Iron",
           "Mains"
          ],
          [
           "Ductile Iron",
           "Mains"
          ],
          [
           "Ductile Iron",
           "Mains"
          ],
          [
           "Ductile Iron",
           "Mains"
          ],
          [
           "Ductile Iron",
           "Mains"
          ],
          [
           "Ductile Iron",
           "Mains"
          ],
          [
           "Ductile Iron",
           "Mains"
          ],
          [
           "Ductile Iron",
           "Mains"
          ],
          [
           "Ductile Iron",
           "Mains"
          ],
          [
           "Ductile Iron",
           "Mains"
          ]
         ],
         "fillpattern": {
          "shape": ""
         },
         "hovertemplate": "%{customdata[0]} : %{y}",
         "legendgroup": "Iron, Mains",
         "line": {
          "color": "#1a1b41"
         },
         "marker": {
          "symbol": "circle"
         },
         "mode": "lines",
         "name": "Iron, Mains",
         "orientation": "v",
         "showlegend": false,
         "stackgroup": "1",
         "type": "scatter",
         "x": [
          1997,
          1998,
          1999,
          2000,
          2001,
          2002,
          2003,
          2004,
          2005,
          2006,
          2007,
          2008,
          2009,
          2010,
          2011,
          2012,
          2013,
          2014,
          2015,
          2016,
          2017,
          2018,
          2019,
          2020,
          2021,
          2022
         ],
         "xaxis": "x",
         "y": [
          152,
          152,
          152,
          152,
          152,
          151,
          148,
          147,
          145,
          145.3,
          139.5,
          124.482,
          122.224,
          117.72,
          104.158,
          91.784,
          84.38,
          80.12,
          77.376,
          72.827,
          70.15,
          68.93,
          66.92,
          65.383,
          63.76,
          62.663
         ],
         "yaxis": "y"
        },
        {
         "customdata": [
          [
           "Cast Iron",
           "Services"
          ],
          [
           "Cast Iron",
           "Services"
          ],
          [
           "Cast Iron",
           "Services"
          ],
          [
           "Cast Iron",
           "Services"
          ],
          [
           "Cast Iron",
           "Services"
          ],
          [
           "Cast Iron",
           "Services"
          ],
          [
           "Cast Iron",
           "Services"
          ],
          [
           "Cast Iron",
           "Services"
          ],
          [
           "Cast Iron",
           "Services"
          ],
          [
           "Cast Iron",
           "Services"
          ],
          [
           "Cast Iron",
           "Services"
          ],
          [
           "Cast Iron",
           "Services"
          ],
          [
           "Cast Iron",
           "Services"
          ],
          [
           "Cast Iron",
           "Services"
          ],
          [
           "Cast Iron",
           "Services"
          ],
          [
           "Cast Iron",
           "Services"
          ],
          [
           "Cast Iron",
           "Services"
          ],
          [
           "Cast Iron",
           "Services"
          ],
          [
           "Cast Iron",
           "Services"
          ],
          [
           "Cast Iron",
           "Services"
          ],
          [
           "Cast Iron",
           "Services"
          ],
          [
           "Cast Iron",
           "Services"
          ],
          [
           "Cast Iron",
           "Services"
          ],
          [
           "Cast Iron",
           "Services"
          ],
          [
           "Cast Iron",
           "Services"
          ],
          [
           "Cast Iron",
           "Services"
          ]
         ],
         "fillpattern": {
          "shape": "\\"
         },
         "hovertemplate": "%{customdata[0]} : %{y}",
         "legendgroup": "Iron, Services",
         "line": {
          "color": "#1a1b41"
         },
         "marker": {
          "symbol": "circle"
         },
         "mode": "lines",
         "name": "Iron, Services",
         "orientation": "v",
         "showlegend": true,
         "stackgroup": "1",
         "type": "scatter",
         "x": [
          1997,
          1998,
          1999,
          2000,
          2001,
          2002,
          2003,
          2004,
          2005,
          2006,
          2007,
          2008,
          2009,
          2010,
          2011,
          2012,
          2013,
          2014,
          2015,
          2016,
          2017,
          2018,
          2019,
          2020,
          2021,
          2022
         ],
         "xaxis": "x",
         "y": [
          4.640151515151516,
          4.640151515151516,
          4.640151515151516,
          4.6022727272727275,
          4.6022727272727275,
          4.337121212121212,
          4.337121212121212,
          4.28030303030303,
          4.28030303030303,
          4.261363636363637,
          4.223484848484849,
          11.837121212121213,
          11.818181818181818,
          7.1975378787878785,
          7.162878787878788,
          0.9159090909090909,
          0.9159090909090909,
          0.9159090909090909,
          0.9041666666666666,
          0.8924242424242423,
          0.8806818181818181,
          0.8806818181818181,
          0.8806818181818181,
          0.8806818181818181,
          0.8806818181818181,
          0.8806818181818181
         ],
         "yaxis": "y"
        },
        {
         "customdata": [
          [
           "Ductile Iron",
           "Services"
          ],
          [
           "Ductile Iron",
           "Services"
          ],
          [
           "Ductile Iron",
           "Services"
          ],
          [
           "Ductile Iron",
           "Services"
          ],
          [
           "Ductile Iron",
           "Services"
          ],
          [
           "Ductile Iron",
           "Services"
          ],
          [
           "Ductile Iron",
           "Services"
          ],
          [
           "Ductile Iron",
           "Services"
          ],
          [
           "Ductile Iron",
           "Services"
          ],
          [
           "Ductile Iron",
           "Services"
          ],
          [
           "Ductile Iron",
           "Services"
          ],
          [
           "Ductile Iron",
           "Services"
          ],
          [
           "Ductile Iron",
           "Services"
          ],
          [
           "Ductile Iron",
           "Services"
          ],
          [
           "Ductile Iron",
           "Services"
          ],
          [
           "Ductile Iron",
           "Services"
          ],
          [
           "Ductile Iron",
           "Services"
          ],
          [
           "Ductile Iron",
           "Services"
          ],
          [
           "Ductile Iron",
           "Services"
          ],
          [
           "Ductile Iron",
           "Services"
          ],
          [
           "Ductile Iron",
           "Services"
          ],
          [
           "Ductile Iron",
           "Services"
          ],
          [
           "Ductile Iron",
           "Services"
          ],
          [
           "Ductile Iron",
           "Services"
          ],
          [
           "Ductile Iron",
           "Services"
          ],
          [
           "Ductile Iron",
           "Services"
          ]
         ],
         "fillpattern": {
          "shape": "\\"
         },
         "hovertemplate": "%{customdata[0]} : %{y}",
         "legendgroup": "Iron, Services",
         "line": {
          "color": "#1a1b41"
         },
         "marker": {
          "symbol": "circle"
         },
         "mode": "lines",
         "name": "Iron, Services",
         "orientation": "v",
         "showlegend": false,
         "stackgroup": "1",
         "type": "scatter",
         "x": [
          1997,
          1998,
          1999,
          2000,
          2001,
          2002,
          2003,
          2004,
          2005,
          2006,
          2007,
          2008,
          2009,
          2010,
          2011,
          2012,
          2013,
          2014,
          2015,
          2016,
          2017,
          2018,
          2019,
          2020,
          2021,
          2022
         ],
         "xaxis": "x",
         "y": [
          0.03787878787878788,
          0.03787878787878788,
          0.03787878787878788,
          0.03787878787878788,
          0.03787878787878788,
          0.03787878787878788,
          0.03787878787878788,
          0.03787878787878788,
          0.03787878787878788,
          0.03787878787878788,
          0.03787878787878788,
          0.1893939393939394,
          0.1893939393939394,
          0.09242424242424242,
          0.09242424242424242,
          0.09393939393939393,
          0.09393939393939393,
          0.09393939393939393,
          0.09393939393939393,
          0.09393939393939393,
          0.09393939393939393,
          0.09393939393939393,
          0.09393939393939393,
          0.09393939393939393,
          0.09393939393939393,
          0.09393939393939393
         ],
         "yaxis": "y"
        },
        {
         "customdata": [
          [
           "Plastic",
           "Mains"
          ],
          [
           "Plastic",
           "Mains"
          ],
          [
           "Plastic",
           "Mains"
          ],
          [
           "Plastic",
           "Mains"
          ],
          [
           "Plastic",
           "Mains"
          ],
          [
           "Plastic",
           "Mains"
          ],
          [
           "Plastic",
           "Mains"
          ],
          [
           "Plastic",
           "Mains"
          ],
          [
           "Plastic",
           "Mains"
          ],
          [
           "Plastic",
           "Mains"
          ],
          [
           "Plastic",
           "Mains"
          ],
          [
           "Plastic",
           "Mains"
          ],
          [
           "Plastic",
           "Mains"
          ],
          [
           "Plastic",
           "Mains"
          ],
          [
           "Plastic",
           "Mains"
          ],
          [
           "Plastic",
           "Mains"
          ],
          [
           "Plastic",
           "Mains"
          ],
          [
           "Plastic",
           "Mains"
          ],
          [
           "Plastic",
           "Mains"
          ],
          [
           "Plastic",
           "Mains"
          ],
          [
           "Plastic",
           "Mains"
          ],
          [
           "Plastic",
           "Mains"
          ],
          [
           "Plastic",
           "Mains"
          ],
          [
           "Plastic",
           "Mains"
          ],
          [
           "Plastic",
           "Mains"
          ],
          [
           "Plastic",
           "Mains"
          ]
         ],
         "fillpattern": {
          "shape": ""
         },
         "hovertemplate": "%{customdata[0]} : %{y}",
         "legendgroup": "Plastic, Mains",
         "line": {
          "color": "#f48668"
         },
         "marker": {
          "symbol": "circle"
         },
         "mode": "lines",
         "name": "Plastic, Mains",
         "orientation": "v",
         "showlegend": true,
         "stackgroup": "1",
         "type": "scatter",
         "x": [
          1997,
          1998,
          1999,
          2000,
          2001,
          2002,
          2003,
          2004,
          2005,
          2006,
          2007,
          2008,
          2009,
          2010,
          2011,
          2012,
          2013,
          2014,
          2015,
          2016,
          2017,
          2018,
          2019,
          2020,
          2021,
          2022
         ],
         "xaxis": "x",
         "y": [
          397,
          440,
          476,
          514,
          541,
          598,
          650,
          685,
          732,
          784.1,
          827.8,
          828.046,
          861.556,
          912.855,
          1043.482,
          1099.363,
          1140.507,
          1171.618,
          1195.072,
          1222.91,
          1245.54,
          1250.4,
          1273.37,
          1293.48,
          1313.471,
          1339.771
         ],
         "yaxis": "y"
        },
        {
         "customdata": [
          [
           "Plastic",
           "Services"
          ],
          [
           "Plastic",
           "Services"
          ],
          [
           "Plastic",
           "Services"
          ],
          [
           "Plastic",
           "Services"
          ],
          [
           "Plastic",
           "Services"
          ],
          [
           "Plastic",
           "Services"
          ],
          [
           "Plastic",
           "Services"
          ],
          [
           "Plastic",
           "Services"
          ],
          [
           "Plastic",
           "Services"
          ],
          [
           "Plastic",
           "Services"
          ],
          [
           "Plastic",
           "Services"
          ],
          [
           "Plastic",
           "Services"
          ],
          [
           "Plastic",
           "Services"
          ],
          [
           "Plastic",
           "Services"
          ],
          [
           "Plastic",
           "Services"
          ],
          [
           "Plastic",
           "Services"
          ],
          [
           "Plastic",
           "Services"
          ],
          [
           "Plastic",
           "Services"
          ],
          [
           "Plastic",
           "Services"
          ],
          [
           "Plastic",
           "Services"
          ],
          [
           "Plastic",
           "Services"
          ],
          [
           "Plastic",
           "Services"
          ],
          [
           "Plastic",
           "Services"
          ],
          [
           "Plastic",
           "Services"
          ],
          [
           "Plastic",
           "Services"
          ],
          [
           "Plastic",
           "Services"
          ]
         ],
         "fillpattern": {
          "shape": "\\"
         },
         "hovertemplate": "%{customdata[0]} : %{y}",
         "legendgroup": "Plastic, Services",
         "line": {
          "color": "#f48668"
         },
         "marker": {
          "symbol": "circle"
         },
         "mode": "lines",
         "name": "Plastic, Services",
         "orientation": "v",
         "showlegend": true,
         "stackgroup": "1",
         "type": "scatter",
         "x": [
          1997,
          1998,
          1999,
          2000,
          2001,
          2002,
          2003,
          2004,
          2005,
          2006,
          2007,
          2008,
          2009,
          2010,
          2011,
          2012,
          2013,
          2014,
          2015,
          2016,
          2017,
          2018,
          2019,
          2020,
          2021,
          2022
         ],
         "xaxis": "x",
         "y": [
          992.3484848484849,
          1060.0757575757575,
          1124.9242424242425,
          1201.1931818181818,
          1244.128787878788,
          1308.0492424242425,
          1375.4545454545455,
          1437.2916666666667,
          1508.1628787878788,
          1566.9318181818182,
          1608.8257575757575,
          1153.3901515151515,
          1199.2613636363637,
          754.8518939393939,
          778.4662878787879,
          926.8765151515152,
          955.8685606060606,
          950.2087121212121,
          964.0882575757576,
          979.6821969696969,
          1003.5897727272727,
          1021.978409090909,
          1044.148106060606,
          1059.0022727272726,
          1106.3359848484847,
          1114.8727272727272
         ],
         "yaxis": "y"
        },
        {
         "customdata": [
          [
           "Copper",
           "Mains"
          ],
          [
           "Copper",
           "Mains"
          ],
          [
           "Copper",
           "Mains"
          ],
          [
           "Copper",
           "Mains"
          ],
          [
           "Copper",
           "Mains"
          ],
          [
           "Copper",
           "Mains"
          ],
          [
           "Copper",
           "Mains"
          ],
          [
           "Copper",
           "Mains"
          ],
          [
           "Copper",
           "Mains"
          ],
          [
           "Copper",
           "Mains"
          ],
          [
           "Copper",
           "Mains"
          ],
          [
           "Copper",
           "Mains"
          ],
          [
           "Copper",
           "Mains"
          ],
          [
           "Copper",
           "Mains"
          ],
          [
           "Copper",
           "Mains"
          ],
          [
           "Copper",
           "Mains"
          ],
          [
           "Copper",
           "Mains"
          ],
          [
           "Copper",
           "Mains"
          ],
          [
           "Copper",
           "Mains"
          ],
          [
           "Copper",
           "Mains"
          ],
          [
           "Copper",
           "Mains"
          ],
          [
           "Copper",
           "Mains"
          ],
          [
           "Copper",
           "Mains"
          ],
          [
           "Copper",
           "Mains"
          ],
          [
           "Copper",
           "Mains"
          ],
          [
           "Copper",
           "Mains"
          ]
         ],
         "fillpattern": {
          "shape": ""
         },
         "hovertemplate": "%{customdata[0]} : %{y}",
         "legendgroup": "Copper, Mains",
         "line": {
          "color": "#f2bb05"
         },
         "marker": {
          "symbol": "circle"
         },
         "mode": "lines",
         "name": "Copper, Mains",
         "orientation": "v",
         "showlegend": true,
         "stackgroup": "1",
         "type": "scatter",
         "x": [
          1997,
          1998,
          1999,
          2000,
          2001,
          2002,
          2003,
          2004,
          2005,
          2006,
          2007,
          2008,
          2009,
          2010,
          2011,
          2012,
          2013,
          2014,
          2015,
          2016,
          2017,
          2018,
          2019,
          2020,
          2021,
          2022
         ],
         "xaxis": "x",
         "y": [
          0,
          0,
          0,
          0,
          0,
          0,
          0,
          0,
          0,
          0,
          0,
          0.231,
          0.219,
          0.144,
          0,
          0,
          0,
          0,
          0,
          0,
          0,
          0,
          0,
          0,
          0,
          0
         ],
         "yaxis": "y"
        },
        {
         "customdata": [
          [
           "Copper",
           "Services"
          ],
          [
           "Copper",
           "Services"
          ],
          [
           "Copper",
           "Services"
          ],
          [
           "Copper",
           "Services"
          ],
          [
           "Copper",
           "Services"
          ],
          [
           "Copper",
           "Services"
          ],
          [
           "Copper",
           "Services"
          ],
          [
           "Copper",
           "Services"
          ],
          [
           "Copper",
           "Services"
          ],
          [
           "Copper",
           "Services"
          ],
          [
           "Copper",
           "Services"
          ],
          [
           "Copper",
           "Services"
          ],
          [
           "Copper",
           "Services"
          ],
          [
           "Copper",
           "Services"
          ],
          [
           "Copper",
           "Services"
          ],
          [
           "Copper",
           "Services"
          ],
          [
           "Copper",
           "Services"
          ],
          [
           "Copper",
           "Services"
          ],
          [
           "Copper",
           "Services"
          ],
          [
           "Copper",
           "Services"
          ],
          [
           "Copper",
           "Services"
          ],
          [
           "Copper",
           "Services"
          ],
          [
           "Copper",
           "Services"
          ],
          [
           "Copper",
           "Services"
          ],
          [
           "Copper",
           "Services"
          ],
          [
           "Copper",
           "Services"
          ]
         ],
         "fillpattern": {
          "shape": "\\"
         },
         "hovertemplate": "%{customdata[0]} : %{y}",
         "legendgroup": "Copper, Services",
         "line": {
          "color": "#f2bb05"
         },
         "marker": {
          "symbol": "circle"
         },
         "mode": "lines",
         "name": "Copper, Services",
         "orientation": "v",
         "showlegend": true,
         "stackgroup": "1",
         "type": "scatter",
         "x": [
          1997,
          1998,
          1999,
          2000,
          2001,
          2002,
          2003,
          2004,
          2005,
          2006,
          2007,
          2008,
          2009,
          2010,
          2011,
          2012,
          2013,
          2014,
          2015,
          2016,
          2017,
          2018,
          2019,
          2020,
          2021,
          2022
         ],
         "xaxis": "x",
         "y": [
          128.2007575757576,
          128.2007575757576,
          126.68560606060606,
          126.49621212121212,
          126.49621212121212,
          124.82954545454545,
          122.34848484848486,
          119.10984848484848,
          117.74621212121212,
          115.9659090909091,
          115.01893939393939,
          80.05681818181819,
          78.92045454545455,
          45.32253787878788,
          43.86685606060606,
          42.51931818181818,
          41.49772727272727,
          41.27462121212121,
          40.6875,
          40.24128787878788,
          40.19431818181818,
          40.06515151515151,
          39.93598484848484,
          39.85378787878788,
          39.63068181818181,
          39.525
         ],
         "yaxis": "y"
        },
        {
         "customdata": [
          [
           "Other",
           "Mains"
          ],
          [
           "Other",
           "Mains"
          ],
          [
           "Other",
           "Mains"
          ],
          [
           "Other",
           "Mains"
          ],
          [
           "Other",
           "Mains"
          ],
          [
           "Other",
           "Mains"
          ],
          [
           "Other",
           "Mains"
          ],
          [
           "Other",
           "Mains"
          ],
          [
           "Other",
           "Mains"
          ],
          [
           "Other",
           "Mains"
          ],
          [
           "Other",
           "Mains"
          ],
          [
           "Other",
           "Mains"
          ],
          [
           "Other",
           "Mains"
          ],
          [
           "Other",
           "Mains"
          ],
          [
           "Other",
           "Mains"
          ],
          [
           "Other",
           "Mains"
          ],
          [
           "Other",
           "Mains"
          ],
          [
           "Other",
           "Mains"
          ],
          [
           "Other",
           "Mains"
          ],
          [
           "Other",
           "Mains"
          ],
          [
           "Other",
           "Mains"
          ],
          [
           "Other",
           "Mains"
          ],
          [
           "Other",
           "Mains"
          ],
          [
           "Other",
           "Mains"
          ],
          [
           "Other",
           "Mains"
          ],
          [
           "Other",
           "Mains"
          ]
         ],
         "fillpattern": {
          "shape": ""
         },
         "hovertemplate": "%{customdata[0]} : %{y}",
         "legendgroup": "Other, Mains",
         "line": {
          "color": "#E2A0FF"
         },
         "marker": {
          "symbol": "circle"
         },
         "mode": "lines",
         "name": "Other, Mains",
         "orientation": "v",
         "showlegend": true,
         "stackgroup": "1",
         "type": "scatter",
         "x": [
          1997,
          1998,
          1999,
          2000,
          2001,
          2002,
          2003,
          2004,
          2005,
          2006,
          2007,
          2008,
          2009,
          2010,
          2011,
          2012,
          2013,
          2014,
          2015,
          2016,
          2017,
          2018,
          2019,
          2020,
          2021,
          2022
         ],
         "xaxis": "x",
         "y": [
          0,
          0,
          0,
          0,
          0,
          0,
          0,
          0,
          0,
          0,
          0,
          0,
          0,
          0.96,
          0.746,
          0.075,
          0,
          0,
          0,
          0,
          0,
          0,
          0,
          0,
          0,
          0
         ],
         "yaxis": "y"
        },
        {
         "customdata": [
          [
           "Other",
           "Services"
          ],
          [
           "Other",
           "Services"
          ],
          [
           "Other",
           "Services"
          ],
          [
           "Other",
           "Services"
          ],
          [
           "Other",
           "Services"
          ],
          [
           "Other",
           "Services"
          ],
          [
           "Other",
           "Services"
          ],
          [
           "Other",
           "Services"
          ],
          [
           "Other",
           "Services"
          ],
          [
           "Other",
           "Services"
          ],
          [
           "Other",
           "Services"
          ],
          [
           "Other",
           "Services"
          ],
          [
           "Other",
           "Services"
          ],
          [
           "Other",
           "Services"
          ],
          [
           "Other",
           "Services"
          ],
          [
           "Other",
           "Services"
          ],
          [
           "Other",
           "Services"
          ],
          [
           "Other",
           "Services"
          ],
          [
           "Other",
           "Services"
          ],
          [
           "Other",
           "Services"
          ],
          [
           "Other",
           "Services"
          ],
          [
           "Other",
           "Services"
          ],
          [
           "Other",
           "Services"
          ],
          [
           "Other",
           "Services"
          ],
          [
           "Other",
           "Services"
          ],
          [
           "Other",
           "Services"
          ]
         ],
         "fillpattern": {
          "shape": "\\"
         },
         "hovertemplate": "%{customdata[0]} : %{y}",
         "legendgroup": "Other, Services",
         "line": {
          "color": "#E2A0FF"
         },
         "marker": {
          "symbol": "circle"
         },
         "mode": "lines",
         "name": "Other, Services",
         "orientation": "v",
         "showlegend": true,
         "stackgroup": "1",
         "type": "scatter",
         "x": [
          1997,
          1998,
          1999,
          2000,
          2001,
          2002,
          2003,
          2004,
          2005,
          2006,
          2007,
          2008,
          2009,
          2010,
          2011,
          2012,
          2013,
          2014,
          2015,
          2016,
          2017,
          2018,
          2019,
          2020,
          2021,
          2022
         ],
         "xaxis": "x",
         "y": [
          0,
          0,
          0,
          0,
          0,
          0,
          0,
          0,
          0,
          0,
          0,
          0,
          0,
          83.40132575757576,
          83.40132575757576,
          84.7685606060606,
          76.94810606060605,
          66.8965909090909,
          64.81818181818181,
          61.5655303030303,
          56.422348484848484,
          54.27348484848485,
          52.71174242424242,
          51.4905303030303,
          49.08333333333333,
          47.26325757575757
         ],
         "yaxis": "y"
        }
       ],
       "layout": {
        "hovermode": "x unified",
        "legend": {
         "title": {
          "text": "Material, Pipe"
         },
         "tracegroupgap": 0
        },
        "template": {
         "data": {
          "bar": [
           {
            "error_x": {
             "color": "rgb(51,51,51)"
            },
            "error_y": {
             "color": "rgb(51,51,51)"
            },
            "marker": {
             "line": {
              "color": "rgb(237,237,237)",
              "width": 0.5
             },
             "pattern": {
              "fillmode": "overlay",
              "size": 10,
              "solidity": 0.2
             }
            },
            "type": "bar"
           }
          ],
          "barpolar": [
           {
            "marker": {
             "line": {
              "color": "rgb(237,237,237)",
              "width": 0.5
             },
             "pattern": {
              "fillmode": "overlay",
              "size": 10,
              "solidity": 0.2
             }
            },
            "type": "barpolar"
           }
          ],
          "carpet": [
           {
            "aaxis": {
             "endlinecolor": "rgb(51,51,51)",
             "gridcolor": "white",
             "linecolor": "white",
             "minorgridcolor": "white",
             "startlinecolor": "rgb(51,51,51)"
            },
            "baxis": {
             "endlinecolor": "rgb(51,51,51)",
             "gridcolor": "white",
             "linecolor": "white",
             "minorgridcolor": "white",
             "startlinecolor": "rgb(51,51,51)"
            },
            "type": "carpet"
           }
          ],
          "choropleth": [
           {
            "colorbar": {
             "outlinewidth": 0,
             "tickcolor": "rgb(237,237,237)",
             "ticklen": 6,
             "ticks": "inside"
            },
            "type": "choropleth"
           }
          ],
          "contour": [
           {
            "colorbar": {
             "outlinewidth": 0,
             "tickcolor": "rgb(237,237,237)",
             "ticklen": 6,
             "ticks": "inside"
            },
            "colorscale": [
             [
              0,
              "rgb(20,44,66)"
             ],
             [
              1,
              "rgb(90,179,244)"
             ]
            ],
            "type": "contour"
           }
          ],
          "contourcarpet": [
           {
            "colorbar": {
             "outlinewidth": 0,
             "tickcolor": "rgb(237,237,237)",
             "ticklen": 6,
             "ticks": "inside"
            },
            "type": "contourcarpet"
           }
          ],
          "heatmap": [
           {
            "colorbar": {
             "outlinewidth": 0,
             "tickcolor": "rgb(237,237,237)",
             "ticklen": 6,
             "ticks": "inside"
            },
            "colorscale": [
             [
              0,
              "rgb(20,44,66)"
             ],
             [
              1,
              "rgb(90,179,244)"
             ]
            ],
            "type": "heatmap"
           }
          ],
          "heatmapgl": [
           {
            "colorbar": {
             "outlinewidth": 0,
             "tickcolor": "rgb(237,237,237)",
             "ticklen": 6,
             "ticks": "inside"
            },
            "colorscale": [
             [
              0,
              "rgb(20,44,66)"
             ],
             [
              1,
              "rgb(90,179,244)"
             ]
            ],
            "type": "heatmapgl"
           }
          ],
          "histogram": [
           {
            "marker": {
             "pattern": {
              "fillmode": "overlay",
              "size": 10,
              "solidity": 0.2
             }
            },
            "type": "histogram"
           }
          ],
          "histogram2d": [
           {
            "colorbar": {
             "outlinewidth": 0,
             "tickcolor": "rgb(237,237,237)",
             "ticklen": 6,
             "ticks": "inside"
            },
            "colorscale": [
             [
              0,
              "rgb(20,44,66)"
             ],
             [
              1,
              "rgb(90,179,244)"
             ]
            ],
            "type": "histogram2d"
           }
          ],
          "histogram2dcontour": [
           {
            "colorbar": {
             "outlinewidth": 0,
             "tickcolor": "rgb(237,237,237)",
             "ticklen": 6,
             "ticks": "inside"
            },
            "colorscale": [
             [
              0,
              "rgb(20,44,66)"
             ],
             [
              1,
              "rgb(90,179,244)"
             ]
            ],
            "type": "histogram2dcontour"
           }
          ],
          "mesh3d": [
           {
            "colorbar": {
             "outlinewidth": 0,
             "tickcolor": "rgb(237,237,237)",
             "ticklen": 6,
             "ticks": "inside"
            },
            "type": "mesh3d"
           }
          ],
          "parcoords": [
           {
            "line": {
             "colorbar": {
              "outlinewidth": 0,
              "tickcolor": "rgb(237,237,237)",
              "ticklen": 6,
              "ticks": "inside"
             }
            },
            "type": "parcoords"
           }
          ],
          "pie": [
           {
            "automargin": true,
            "type": "pie"
           }
          ],
          "scatter": [
           {
            "fillpattern": {
             "fillmode": "overlay",
             "size": 10,
             "solidity": 0.2
            },
            "type": "scatter"
           }
          ],
          "scatter3d": [
           {
            "line": {
             "colorbar": {
              "outlinewidth": 0,
              "tickcolor": "rgb(237,237,237)",
              "ticklen": 6,
              "ticks": "inside"
             }
            },
            "marker": {
             "colorbar": {
              "outlinewidth": 0,
              "tickcolor": "rgb(237,237,237)",
              "ticklen": 6,
              "ticks": "inside"
             }
            },
            "type": "scatter3d"
           }
          ],
          "scattercarpet": [
           {
            "marker": {
             "colorbar": {
              "outlinewidth": 0,
              "tickcolor": "rgb(237,237,237)",
              "ticklen": 6,
              "ticks": "inside"
             }
            },
            "type": "scattercarpet"
           }
          ],
          "scattergeo": [
           {
            "marker": {
             "colorbar": {
              "outlinewidth": 0,
              "tickcolor": "rgb(237,237,237)",
              "ticklen": 6,
              "ticks": "inside"
             }
            },
            "type": "scattergeo"
           }
          ],
          "scattergl": [
           {
            "marker": {
             "colorbar": {
              "outlinewidth": 0,
              "tickcolor": "rgb(237,237,237)",
              "ticklen": 6,
              "ticks": "inside"
             }
            },
            "type": "scattergl"
           }
          ],
          "scattermapbox": [
           {
            "marker": {
             "colorbar": {
              "outlinewidth": 0,
              "tickcolor": "rgb(237,237,237)",
              "ticklen": 6,
              "ticks": "inside"
             }
            },
            "type": "scattermapbox"
           }
          ],
          "scatterpolar": [
           {
            "marker": {
             "colorbar": {
              "outlinewidth": 0,
              "tickcolor": "rgb(237,237,237)",
              "ticklen": 6,
              "ticks": "inside"
             }
            },
            "type": "scatterpolar"
           }
          ],
          "scatterpolargl": [
           {
            "marker": {
             "colorbar": {
              "outlinewidth": 0,
              "tickcolor": "rgb(237,237,237)",
              "ticklen": 6,
              "ticks": "inside"
             }
            },
            "type": "scatterpolargl"
           }
          ],
          "scatterternary": [
           {
            "marker": {
             "colorbar": {
              "outlinewidth": 0,
              "tickcolor": "rgb(237,237,237)",
              "ticklen": 6,
              "ticks": "inside"
             }
            },
            "type": "scatterternary"
           }
          ],
          "surface": [
           {
            "colorbar": {
             "outlinewidth": 0,
             "tickcolor": "rgb(237,237,237)",
             "ticklen": 6,
             "ticks": "inside"
            },
            "colorscale": [
             [
              0,
              "rgb(20,44,66)"
             ],
             [
              1,
              "rgb(90,179,244)"
             ]
            ],
            "type": "surface"
           }
          ],
          "table": [
           {
            "cells": {
             "fill": {
              "color": "rgb(237,237,237)"
             },
             "line": {
              "color": "white"
             }
            },
            "header": {
             "fill": {
              "color": "rgb(217,217,217)"
             },
             "line": {
              "color": "white"
             }
            },
            "type": "table"
           }
          ]
         },
         "layout": {
          "annotationdefaults": {
           "arrowhead": 0,
           "arrowwidth": 1
          },
          "annotations": [
           {
            "font": {
             "color": "black",
             "size": 12
            },
            "name": "created by",
            "opacity": 0.9,
            "showarrow": false,
            "text": "Created by Electrify RVA",
            "x": -0.05,
            "xref": "paper",
            "y": -0.25,
            "yref": "paper"
           }
          ],
          "autotypenumbers": "strict",
          "coloraxis": {
           "colorbar": {
            "outlinewidth": 0,
            "tickcolor": "rgb(237,237,237)",
            "ticklen": 6,
            "ticks": "inside"
           }
          },
          "colorscale": {
           "sequential": [
            [
             0,
             "rgb(20,44,66)"
            ],
            [
             1,
             "rgb(90,179,244)"
            ]
           ],
           "sequentialminus": [
            [
             0,
             "rgb(20,44,66)"
            ],
            [
             1,
             "rgb(90,179,244)"
            ]
           ]
          },
          "colorway": [
           "#007C77",
           "#1a1b41",
           "#f48668",
           "#f2bb05",
           "#E2A0FF",
           "#8acb88"
          ],
          "font": {
           "color": "rgb(51,51,51)"
          },
          "geo": {
           "bgcolor": "white",
           "lakecolor": "white",
           "landcolor": "rgb(237,237,237)",
           "showlakes": true,
           "showland": true,
           "subunitcolor": "white"
          },
          "hoverlabel": {
           "align": "left"
          },
          "hovermode": "x unified",
          "paper_bgcolor": "white",
          "plot_bgcolor": "rgb(237,237,237)",
          "polar": {
           "angularaxis": {
            "gridcolor": "white",
            "linecolor": "white",
            "showgrid": true,
            "tickcolor": "rgb(51,51,51)",
            "ticks": "outside"
           },
           "bgcolor": "rgb(237,237,237)",
           "radialaxis": {
            "gridcolor": "white",
            "linecolor": "white",
            "showgrid": true,
            "tickcolor": "rgb(51,51,51)",
            "ticks": "outside"
           }
          },
          "scene": {
           "xaxis": {
            "backgroundcolor": "rgb(237,237,237)",
            "gridcolor": "white",
            "gridwidth": 2,
            "linecolor": "white",
            "showbackground": true,
            "showgrid": true,
            "tickcolor": "rgb(51,51,51)",
            "ticks": "outside",
            "zerolinecolor": "white"
           },
           "yaxis": {
            "backgroundcolor": "rgb(237,237,237)",
            "gridcolor": "white",
            "gridwidth": 2,
            "linecolor": "white",
            "showbackground": true,
            "showgrid": true,
            "tickcolor": "rgb(51,51,51)",
            "ticks": "outside",
            "zerolinecolor": "white"
           },
           "zaxis": {
            "backgroundcolor": "rgb(237,237,237)",
            "gridcolor": "white",
            "gridwidth": 2,
            "linecolor": "white",
            "showbackground": true,
            "showgrid": true,
            "tickcolor": "rgb(51,51,51)",
            "ticks": "outside",
            "zerolinecolor": "white"
           }
          },
          "shapedefaults": {
           "fillcolor": "black",
           "line": {
            "width": 0
           },
           "opacity": 0.3
          },
          "ternary": {
           "aaxis": {
            "gridcolor": "white",
            "linecolor": "white",
            "showgrid": true,
            "tickcolor": "rgb(51,51,51)",
            "ticks": "outside"
           },
           "baxis": {
            "gridcolor": "white",
            "linecolor": "white",
            "showgrid": true,
            "tickcolor": "rgb(51,51,51)",
            "ticks": "outside"
           },
           "bgcolor": "rgb(237,237,237)",
           "caxis": {
            "gridcolor": "white",
            "linecolor": "white",
            "showgrid": true,
            "tickcolor": "rgb(51,51,51)",
            "ticks": "outside"
           }
          },
          "title": {
           "x": 0.05
          },
          "xaxis": {
           "automargin": true,
           "gridcolor": "white",
           "linecolor": "white",
           "showgrid": true,
           "tickcolor": "rgb(51,51,51)",
           "ticks": "outside",
           "title": {
            "standoff": 15
           },
           "zerolinecolor": "white"
          },
          "yaxis": {
           "automargin": true,
           "gridcolor": "white",
           "linecolor": "white",
           "showgrid": true,
           "tickcolor": "rgb(51,51,51)",
           "tickformat": ",.0f",
           "ticks": "outside",
           "title": {
            "standoff": 15
           },
           "zerolinecolor": "white"
          }
         }
        },
        "title": {
         "text": "Miles of pipes"
        },
        "xaxis": {
         "anchor": "y",
         "domain": [
          0,
          1
         ],
         "title": {
          "text": ""
         }
        },
        "yaxis": {
         "anchor": "x",
         "domain": [
          0,
          1
         ],
         "title": {
          "text": "Miles"
         }
        }
       }
      }
     },
     "metadata": {},
     "output_type": "display_data"
    }
   ],
   "source": [
    "fig = px.area(\n",
    "    melted_all, \n",
    "    x=\"year\", y=\"Miles\", color=\"material\", line_group='material_specific', pattern_shape='Pipe',\n",
    "    title=\"Miles of pipes\", \n",
    "    labels={ \"year\": \"\", \"material\": \"Material\"},\n",
    "    pattern_shape_sequence=[\"\", \"\\\\\"],\n",
    "    hover_data=[\"material_specific\", \"Pipe\"],\n",
    "    #color_discrete_sequence=[\"#1a1b41\", \"#f48668\"],\n",
    ")\n",
    "\n",
    "fig.update_traces(hovertemplate=None)\n",
    "fig.update_traces(hovertemplate = '%{customdata[0]} : %{y}')  #'year=%{customdata[0]}<br>label=%{customdata[1]}<extra></extra>')\n",
    "fig.update_layout(hovermode='x unified')\n",
    "\n",
    "fig.show()\n",
    "fig.write_html(\"../docs/_includes/charts/material_mains_services_miles.html\", include_plotlyjs=\"cdn\")"
   ]
  },
  {
   "cell_type": "code",
   "execution_count": 566,
   "metadata": {},
   "outputs": [
    {
     "data": {
      "application/vnd.plotly.v1+json": {
       "config": {
        "plotlyServerURL": "https://plot.ly"
       },
       "data": [
        {
         "customdata": [
          [
           "Unprotected, Bare",
           "Mains"
          ],
          [
           "Unprotected, Bare",
           "Mains"
          ],
          [
           "Unprotected, Bare",
           "Mains"
          ],
          [
           "Unprotected, Bare",
           "Mains"
          ],
          [
           "Unprotected, Bare",
           "Mains"
          ],
          [
           "Unprotected, Bare",
           "Mains"
          ],
          [
           "Unprotected, Bare",
           "Mains"
          ],
          [
           "Unprotected, Bare",
           "Mains"
          ],
          [
           "Unprotected, Bare",
           "Mains"
          ],
          [
           "Unprotected, Bare",
           "Mains"
          ],
          [
           "Unprotected, Bare",
           "Mains"
          ],
          [
           "Unprotected, Bare",
           "Mains"
          ],
          [
           "Unprotected, Bare",
           "Mains"
          ],
          [
           "Unprotected, Bare",
           "Mains"
          ],
          [
           "Unprotected, Bare",
           "Mains"
          ],
          [
           "Unprotected, Bare",
           "Mains"
          ],
          [
           "Unprotected, Bare",
           "Mains"
          ],
          [
           "Unprotected, Bare",
           "Mains"
          ],
          [
           "Unprotected, Bare",
           "Mains"
          ],
          [
           "Unprotected, Bare",
           "Mains"
          ],
          [
           "Unprotected, Bare",
           "Mains"
          ],
          [
           "Unprotected, Bare",
           "Mains"
          ],
          [
           "Unprotected, Bare",
           "Mains"
          ],
          [
           "Unprotected, Bare",
           "Mains"
          ],
          [
           "Unprotected, Bare",
           "Mains"
          ],
          [
           "Unprotected, Bare",
           "Mains"
          ]
         ],
         "fillpattern": {
          "shape": ""
         },
         "hovertemplate": "%{customdata[0]} : %{y}",
         "legendgroup": "Leak prone, Mains",
         "line": {
          "color": "#df2935"
         },
         "marker": {
          "symbol": "circle"
         },
         "mode": "lines",
         "name": "Leak prone, Mains",
         "orientation": "v",
         "showlegend": true,
         "stackgroup": "1",
         "type": "scatter",
         "x": [
          1997,
          1998,
          1999,
          2000,
          2001,
          2002,
          2003,
          2004,
          2005,
          2006,
          2007,
          2008,
          2009,
          2010,
          2011,
          2012,
          2013,
          2014,
          2015,
          2016,
          2017,
          2018,
          2019,
          2020,
          2021,
          2022
         ],
         "xaxis": "x",
         "y": [
          2,
          2,
          2,
          2,
          0,
          0,
          0,
          0,
          0,
          0,
          0.4,
          22.484,
          5.921,
          11.543,
          11.719,
          2.296,
          1.965,
          1.899,
          3.371,
          1.154,
          3.27,
          2.92,
          1.05,
          1.191,
          1.194,
          1.026
         ],
         "yaxis": "y"
        },
        {
         "customdata": [
          [
           "Unprotected, Coated",
           "Mains"
          ],
          [
           "Unprotected, Coated",
           "Mains"
          ],
          [
           "Unprotected, Coated",
           "Mains"
          ],
          [
           "Unprotected, Coated",
           "Mains"
          ],
          [
           "Unprotected, Coated",
           "Mains"
          ],
          [
           "Unprotected, Coated",
           "Mains"
          ],
          [
           "Unprotected, Coated",
           "Mains"
          ],
          [
           "Unprotected, Coated",
           "Mains"
          ],
          [
           "Unprotected, Coated",
           "Mains"
          ],
          [
           "Unprotected, Coated",
           "Mains"
          ],
          [
           "Unprotected, Coated",
           "Mains"
          ],
          [
           "Unprotected, Coated",
           "Mains"
          ],
          [
           "Unprotected, Coated",
           "Mains"
          ],
          [
           "Unprotected, Coated",
           "Mains"
          ],
          [
           "Unprotected, Coated",
           "Mains"
          ],
          [
           "Unprotected, Coated",
           "Mains"
          ],
          [
           "Unprotected, Coated",
           "Mains"
          ],
          [
           "Unprotected, Coated",
           "Mains"
          ],
          [
           "Unprotected, Coated",
           "Mains"
          ],
          [
           "Unprotected, Coated",
           "Mains"
          ],
          [
           "Unprotected, Coated",
           "Mains"
          ],
          [
           "Unprotected, Coated",
           "Mains"
          ],
          [
           "Unprotected, Coated",
           "Mains"
          ],
          [
           "Unprotected, Coated",
           "Mains"
          ],
          [
           "Unprotected, Coated",
           "Mains"
          ],
          [
           "Unprotected, Coated",
           "Mains"
          ]
         ],
         "fillpattern": {
          "shape": ""
         },
         "hovertemplate": "%{customdata[0]} : %{y}",
         "legendgroup": "Leak prone, Mains",
         "line": {
          "color": "#df2935"
         },
         "marker": {
          "symbol": "circle"
         },
         "mode": "lines",
         "name": "Leak prone, Mains",
         "orientation": "v",
         "showlegend": false,
         "stackgroup": "1",
         "type": "scatter",
         "x": [
          1997,
          1998,
          1999,
          2000,
          2001,
          2002,
          2003,
          2004,
          2005,
          2006,
          2007,
          2008,
          2009,
          2010,
          2011,
          2012,
          2013,
          2014,
          2015,
          2016,
          2017,
          2018,
          2019,
          2020,
          2021,
          2022
         ],
         "xaxis": "x",
         "y": [
          21,
          16,
          7,
          7,
          2,
          1,
          9,
          0,
          0,
          0,
          10.3,
          1,
          3.8,
          4.5,
          5.597,
          5.997,
          3.908,
          3.384,
          3.242,
          3.021,
          2.83,
          0,
          0,
          3.749,
          1.34,
          2.09
         ],
         "yaxis": "y"
        },
        {
         "customdata": [
          [
           "Cathodically protected, Bare",
           "Mains"
          ],
          [
           "Cathodically protected, Bare",
           "Mains"
          ],
          [
           "Cathodically protected, Bare",
           "Mains"
          ],
          [
           "Cathodically protected, Bare",
           "Mains"
          ],
          [
           "Cathodically protected, Bare",
           "Mains"
          ],
          [
           "Cathodically protected, Bare",
           "Mains"
          ],
          [
           "Cathodically protected, Bare",
           "Mains"
          ],
          [
           "Cathodically protected, Bare",
           "Mains"
          ],
          [
           "Cathodically protected, Bare",
           "Mains"
          ],
          [
           "Cathodically protected, Bare",
           "Mains"
          ],
          [
           "Cathodically protected, Bare",
           "Mains"
          ],
          [
           "Cathodically protected, Bare",
           "Mains"
          ],
          [
           "Cathodically protected, Bare",
           "Mains"
          ],
          [
           "Cathodically protected, Bare",
           "Mains"
          ],
          [
           "Cathodically protected, Bare",
           "Mains"
          ],
          [
           "Cathodically protected, Bare",
           "Mains"
          ],
          [
           "Cathodically protected, Bare",
           "Mains"
          ],
          [
           "Cathodically protected, Bare",
           "Mains"
          ],
          [
           "Cathodically protected, Bare",
           "Mains"
          ],
          [
           "Cathodically protected, Bare",
           "Mains"
          ],
          [
           "Cathodically protected, Bare",
           "Mains"
          ],
          [
           "Cathodically protected, Bare",
           "Mains"
          ],
          [
           "Cathodically protected, Bare",
           "Mains"
          ],
          [
           "Cathodically protected, Bare",
           "Mains"
          ],
          [
           "Cathodically protected, Bare",
           "Mains"
          ],
          [
           "Cathodically protected, Bare",
           "Mains"
          ]
         ],
         "fillpattern": {
          "shape": ""
         },
         "hovertemplate": "%{customdata[0]} : %{y}",
         "legendgroup": "Leak prone, Mains",
         "line": {
          "color": "#df2935"
         },
         "marker": {
          "symbol": "circle"
         },
         "mode": "lines",
         "name": "Leak prone, Mains",
         "orientation": "v",
         "showlegend": false,
         "stackgroup": "1",
         "type": "scatter",
         "x": [
          1997,
          1998,
          1999,
          2000,
          2001,
          2002,
          2003,
          2004,
          2005,
          2006,
          2007,
          2008,
          2009,
          2010,
          2011,
          2012,
          2013,
          2014,
          2015,
          2016,
          2017,
          2018,
          2019,
          2020,
          2021,
          2022
         ],
         "xaxis": "x",
         "y": [
          0,
          0,
          0,
          0,
          0,
          0,
          0,
          0,
          0,
          0,
          0,
          0,
          0,
          0,
          0,
          0,
          0,
          0,
          0,
          0,
          0,
          0,
          0,
          0,
          0,
          0
         ],
         "yaxis": "y"
        },
        {
         "customdata": [
          [
           "Cast Iron",
           "Mains"
          ],
          [
           "Cast Iron",
           "Mains"
          ],
          [
           "Cast Iron",
           "Mains"
          ],
          [
           "Cast Iron",
           "Mains"
          ],
          [
           "Cast Iron",
           "Mains"
          ],
          [
           "Cast Iron",
           "Mains"
          ],
          [
           "Cast Iron",
           "Mains"
          ],
          [
           "Cast Iron",
           "Mains"
          ],
          [
           "Cast Iron",
           "Mains"
          ],
          [
           "Cast Iron",
           "Mains"
          ],
          [
           "Cast Iron",
           "Mains"
          ],
          [
           "Cast Iron",
           "Mains"
          ],
          [
           "Cast Iron",
           "Mains"
          ],
          [
           "Cast Iron",
           "Mains"
          ],
          [
           "Cast Iron",
           "Mains"
          ],
          [
           "Cast Iron",
           "Mains"
          ],
          [
           "Cast Iron",
           "Mains"
          ],
          [
           "Cast Iron",
           "Mains"
          ],
          [
           "Cast Iron",
           "Mains"
          ],
          [
           "Cast Iron",
           "Mains"
          ],
          [
           "Cast Iron",
           "Mains"
          ],
          [
           "Cast Iron",
           "Mains"
          ],
          [
           "Cast Iron",
           "Mains"
          ],
          [
           "Cast Iron",
           "Mains"
          ],
          [
           "Cast Iron",
           "Mains"
          ],
          [
           "Cast Iron",
           "Mains"
          ]
         ],
         "fillpattern": {
          "shape": ""
         },
         "hovertemplate": "%{customdata[0]} : %{y}",
         "legendgroup": "Leak prone, Mains",
         "line": {
          "color": "#df2935"
         },
         "marker": {
          "symbol": "circle"
         },
         "mode": "lines",
         "name": "Leak prone, Mains",
         "orientation": "v",
         "showlegend": false,
         "stackgroup": "1",
         "type": "scatter",
         "x": [
          1997,
          1998,
          1999,
          2000,
          2001,
          2002,
          2003,
          2004,
          2005,
          2006,
          2007,
          2008,
          2009,
          2010,
          2011,
          2012,
          2013,
          2014,
          2015,
          2016,
          2017,
          2018,
          2019,
          2020,
          2021,
          2022
         ],
         "xaxis": "x",
         "y": [
          556,
          554,
          552,
          536,
          520,
          495,
          468,
          451,
          439,
          422.9,
          408.5,
          396.397,
          375.956,
          353.696,
          315.177,
          263.88,
          220.602,
          198.066,
          185.54,
          171.866,
          161.19,
          156.63,
          146.87,
          139.02,
          134.7,
          129.58
         ],
         "yaxis": "y"
        },
        {
         "customdata": [
          [
           "Ductile Iron",
           "Mains"
          ],
          [
           "Ductile Iron",
           "Mains"
          ],
          [
           "Ductile Iron",
           "Mains"
          ],
          [
           "Ductile Iron",
           "Mains"
          ],
          [
           "Ductile Iron",
           "Mains"
          ],
          [
           "Ductile Iron",
           "Mains"
          ],
          [
           "Ductile Iron",
           "Mains"
          ],
          [
           "Ductile Iron",
           "Mains"
          ],
          [
           "Ductile Iron",
           "Mains"
          ],
          [
           "Ductile Iron",
           "Mains"
          ],
          [
           "Ductile Iron",
           "Mains"
          ],
          [
           "Ductile Iron",
           "Mains"
          ],
          [
           "Ductile Iron",
           "Mains"
          ],
          [
           "Ductile Iron",
           "Mains"
          ],
          [
           "Ductile Iron",
           "Mains"
          ],
          [
           "Ductile Iron",
           "Mains"
          ],
          [
           "Ductile Iron",
           "Mains"
          ],
          [
           "Ductile Iron",
           "Mains"
          ],
          [
           "Ductile Iron",
           "Mains"
          ],
          [
           "Ductile Iron",
           "Mains"
          ],
          [
           "Ductile Iron",
           "Mains"
          ],
          [
           "Ductile Iron",
           "Mains"
          ],
          [
           "Ductile Iron",
           "Mains"
          ],
          [
           "Ductile Iron",
           "Mains"
          ],
          [
           "Ductile Iron",
           "Mains"
          ],
          [
           "Ductile Iron",
           "Mains"
          ]
         ],
         "fillpattern": {
          "shape": ""
         },
         "hovertemplate": "%{customdata[0]} : %{y}",
         "legendgroup": "Leak prone, Mains",
         "line": {
          "color": "#df2935"
         },
         "marker": {
          "symbol": "circle"
         },
         "mode": "lines",
         "name": "Leak prone, Mains",
         "orientation": "v",
         "showlegend": false,
         "stackgroup": "1",
         "type": "scatter",
         "x": [
          1997,
          1998,
          1999,
          2000,
          2001,
          2002,
          2003,
          2004,
          2005,
          2006,
          2007,
          2008,
          2009,
          2010,
          2011,
          2012,
          2013,
          2014,
          2015,
          2016,
          2017,
          2018,
          2019,
          2020,
          2021,
          2022
         ],
         "xaxis": "x",
         "y": [
          152,
          152,
          152,
          152,
          152,
          151,
          148,
          147,
          145,
          145.3,
          139.5,
          124.482,
          122.224,
          117.72,
          104.158,
          91.784,
          84.38,
          80.12,
          77.376,
          72.827,
          70.15,
          68.93,
          66.92,
          65.383,
          63.76,
          62.663
         ],
         "yaxis": "y"
        },
        {
         "customdata": [
          [
           "Copper",
           "Mains"
          ],
          [
           "Copper",
           "Mains"
          ],
          [
           "Copper",
           "Mains"
          ],
          [
           "Copper",
           "Mains"
          ],
          [
           "Copper",
           "Mains"
          ],
          [
           "Copper",
           "Mains"
          ],
          [
           "Copper",
           "Mains"
          ],
          [
           "Copper",
           "Mains"
          ],
          [
           "Copper",
           "Mains"
          ],
          [
           "Copper",
           "Mains"
          ],
          [
           "Copper",
           "Mains"
          ],
          [
           "Copper",
           "Mains"
          ],
          [
           "Copper",
           "Mains"
          ],
          [
           "Copper",
           "Mains"
          ],
          [
           "Copper",
           "Mains"
          ],
          [
           "Copper",
           "Mains"
          ],
          [
           "Copper",
           "Mains"
          ],
          [
           "Copper",
           "Mains"
          ],
          [
           "Copper",
           "Mains"
          ],
          [
           "Copper",
           "Mains"
          ],
          [
           "Copper",
           "Mains"
          ],
          [
           "Copper",
           "Mains"
          ],
          [
           "Copper",
           "Mains"
          ],
          [
           "Copper",
           "Mains"
          ],
          [
           "Copper",
           "Mains"
          ],
          [
           "Copper",
           "Mains"
          ]
         ],
         "fillpattern": {
          "shape": ""
         },
         "hovertemplate": "%{customdata[0]} : %{y}",
         "legendgroup": "Leak prone, Mains",
         "line": {
          "color": "#df2935"
         },
         "marker": {
          "symbol": "circle"
         },
         "mode": "lines",
         "name": "Leak prone, Mains",
         "orientation": "v",
         "showlegend": false,
         "stackgroup": "1",
         "type": "scatter",
         "x": [
          1997,
          1998,
          1999,
          2000,
          2001,
          2002,
          2003,
          2004,
          2005,
          2006,
          2007,
          2008,
          2009,
          2010,
          2011,
          2012,
          2013,
          2014,
          2015,
          2016,
          2017,
          2018,
          2019,
          2020,
          2021,
          2022
         ],
         "xaxis": "x",
         "y": [
          0,
          0,
          0,
          0,
          0,
          0,
          0,
          0,
          0,
          0,
          0,
          0.231,
          0.219,
          0.144,
          0,
          0,
          0,
          0,
          0,
          0,
          0,
          0,
          0,
          0,
          0,
          0
         ],
         "yaxis": "y"
        },
        {
         "customdata": [
          [
           "Other",
           "Mains"
          ],
          [
           "Other",
           "Mains"
          ],
          [
           "Other",
           "Mains"
          ],
          [
           "Other",
           "Mains"
          ],
          [
           "Other",
           "Mains"
          ],
          [
           "Other",
           "Mains"
          ],
          [
           "Other",
           "Mains"
          ],
          [
           "Other",
           "Mains"
          ],
          [
           "Other",
           "Mains"
          ],
          [
           "Other",
           "Mains"
          ],
          [
           "Other",
           "Mains"
          ],
          [
           "Other",
           "Mains"
          ],
          [
           "Other",
           "Mains"
          ],
          [
           "Other",
           "Mains"
          ],
          [
           "Other",
           "Mains"
          ],
          [
           "Other",
           "Mains"
          ],
          [
           "Other",
           "Mains"
          ],
          [
           "Other",
           "Mains"
          ],
          [
           "Other",
           "Mains"
          ],
          [
           "Other",
           "Mains"
          ],
          [
           "Other",
           "Mains"
          ],
          [
           "Other",
           "Mains"
          ],
          [
           "Other",
           "Mains"
          ],
          [
           "Other",
           "Mains"
          ],
          [
           "Other",
           "Mains"
          ],
          [
           "Other",
           "Mains"
          ]
         ],
         "fillpattern": {
          "shape": ""
         },
         "hovertemplate": "%{customdata[0]} : %{y}",
         "legendgroup": "Leak prone, Mains",
         "line": {
          "color": "#df2935"
         },
         "marker": {
          "symbol": "circle"
         },
         "mode": "lines",
         "name": "Leak prone, Mains",
         "orientation": "v",
         "showlegend": false,
         "stackgroup": "1",
         "type": "scatter",
         "x": [
          1997,
          1998,
          1999,
          2000,
          2001,
          2002,
          2003,
          2004,
          2005,
          2006,
          2007,
          2008,
          2009,
          2010,
          2011,
          2012,
          2013,
          2014,
          2015,
          2016,
          2017,
          2018,
          2019,
          2020,
          2021,
          2022
         ],
         "xaxis": "x",
         "y": [
          0,
          0,
          0,
          0,
          0,
          0,
          0,
          0,
          0,
          0,
          0,
          0,
          0,
          0.96,
          0.746,
          0.075,
          0,
          0,
          0,
          0,
          0,
          0,
          0,
          0,
          0,
          0
         ],
         "yaxis": "y"
        },
        {
         "customdata": [
          [
           "Unprotected, Bare",
           "Services"
          ],
          [
           "Unprotected, Bare",
           "Services"
          ],
          [
           "Unprotected, Bare",
           "Services"
          ],
          [
           "Unprotected, Bare",
           "Services"
          ],
          [
           "Unprotected, Bare",
           "Services"
          ],
          [
           "Unprotected, Bare",
           "Services"
          ],
          [
           "Unprotected, Bare",
           "Services"
          ],
          [
           "Unprotected, Bare",
           "Services"
          ],
          [
           "Unprotected, Bare",
           "Services"
          ],
          [
           "Unprotected, Bare",
           "Services"
          ],
          [
           "Unprotected, Bare",
           "Services"
          ],
          [
           "Unprotected, Bare",
           "Services"
          ],
          [
           "Unprotected, Bare",
           "Services"
          ],
          [
           "Unprotected, Bare",
           "Services"
          ],
          [
           "Unprotected, Bare",
           "Services"
          ],
          [
           "Unprotected, Bare",
           "Services"
          ],
          [
           "Unprotected, Bare",
           "Services"
          ],
          [
           "Unprotected, Bare",
           "Services"
          ],
          [
           "Unprotected, Bare",
           "Services"
          ],
          [
           "Unprotected, Bare",
           "Services"
          ],
          [
           "Unprotected, Bare",
           "Services"
          ],
          [
           "Unprotected, Bare",
           "Services"
          ],
          [
           "Unprotected, Bare",
           "Services"
          ],
          [
           "Unprotected, Bare",
           "Services"
          ],
          [
           "Unprotected, Bare",
           "Services"
          ],
          [
           "Unprotected, Bare",
           "Services"
          ]
         ],
         "fillpattern": {
          "shape": "\\"
         },
         "hovertemplate": "%{customdata[0]} : %{y}",
         "legendgroup": "Leak prone, Services",
         "line": {
          "color": "#df2935"
         },
         "marker": {
          "symbol": "circle"
         },
         "mode": "lines",
         "name": "Leak prone, Services",
         "orientation": "v",
         "showlegend": true,
         "stackgroup": "1",
         "type": "scatter",
         "x": [
          1997,
          1998,
          1999,
          2000,
          2001,
          2002,
          2003,
          2004,
          2005,
          2006,
          2007,
          2008,
          2009,
          2010,
          2011,
          2012,
          2013,
          2014,
          2015,
          2016,
          2017,
          2018,
          2019,
          2020,
          2021,
          2022
         ],
         "xaxis": "x",
         "y": [
          77.29166666666667,
          58.01136363636364,
          37.63257575757576,
          31.875,
          29.867424242424242,
          21.28787878787879,
          12.462121212121213,
          6.571969696969697,
          1.4015151515151516,
          1.4015151515151516,
          0.5871212121212122,
          159.3181818181818,
          142.40530303030303,
          80.33977272727273,
          70.30018939393939,
          47.41590909090909,
          41.94393939393939,
          40.02992424242424,
          39.00833333333333,
          36.68333333333333,
          35.96704545454545,
          34.72234848484848,
          32.867045454545455,
          30.72992424242424,
          27.59469696969697,
          26.99583333333333
         ],
         "yaxis": "y"
        },
        {
         "customdata": [
          [
           "Unprotected, Coated",
           "Services"
          ],
          [
           "Unprotected, Coated",
           "Services"
          ],
          [
           "Unprotected, Coated",
           "Services"
          ],
          [
           "Unprotected, Coated",
           "Services"
          ],
          [
           "Unprotected, Coated",
           "Services"
          ],
          [
           "Unprotected, Coated",
           "Services"
          ],
          [
           "Unprotected, Coated",
           "Services"
          ],
          [
           "Unprotected, Coated",
           "Services"
          ],
          [
           "Unprotected, Coated",
           "Services"
          ],
          [
           "Unprotected, Coated",
           "Services"
          ],
          [
           "Unprotected, Coated",
           "Services"
          ],
          [
           "Unprotected, Coated",
           "Services"
          ],
          [
           "Unprotected, Coated",
           "Services"
          ],
          [
           "Unprotected, Coated",
           "Services"
          ],
          [
           "Unprotected, Coated",
           "Services"
          ],
          [
           "Unprotected, Coated",
           "Services"
          ],
          [
           "Unprotected, Coated",
           "Services"
          ],
          [
           "Unprotected, Coated",
           "Services"
          ],
          [
           "Unprotected, Coated",
           "Services"
          ],
          [
           "Unprotected, Coated",
           "Services"
          ],
          [
           "Unprotected, Coated",
           "Services"
          ],
          [
           "Unprotected, Coated",
           "Services"
          ],
          [
           "Unprotected, Coated",
           "Services"
          ],
          [
           "Unprotected, Coated",
           "Services"
          ],
          [
           "Unprotected, Coated",
           "Services"
          ],
          [
           "Unprotected, Coated",
           "Services"
          ]
         ],
         "fillpattern": {
          "shape": "\\"
         },
         "hovertemplate": "%{customdata[0]} : %{y}",
         "legendgroup": "Leak prone, Services",
         "line": {
          "color": "#df2935"
         },
         "marker": {
          "symbol": "circle"
         },
         "mode": "lines",
         "name": "Leak prone, Services",
         "orientation": "v",
         "showlegend": false,
         "stackgroup": "1",
         "type": "scatter",
         "x": [
          1997,
          1998,
          1999,
          2000,
          2001,
          2002,
          2003,
          2004,
          2005,
          2006,
          2007,
          2008,
          2009,
          2010,
          2011,
          2012,
          2013,
          2014,
          2015,
          2016,
          2017,
          2018,
          2019,
          2020,
          2021,
          2022
         ],
         "xaxis": "x",
         "y": [
          173.29545454545456,
          173.29545454545456,
          173.29545454545456,
          157.32954545454547,
          150.2840909090909,
          132.68939393939394,
          117.91666666666667,
          110.51136363636364,
          90.47348484848484,
          74.18560606060606,
          63.20075757575758,
          0,
          0,
          0,
          0,
          3.6988636363636362,
          3.076515151515151,
          3.076515151515151,
          3.076515151515151,
          3.076515151515151,
          3.076515151515151,
          3.076515151515151,
          3.076515151515151,
          3.076515151515151,
          3.076515151515151,
          3.076515151515151
         ],
         "yaxis": "y"
        },
        {
         "customdata": [
          [
           "Cathodically protected, Bare",
           "Services"
          ],
          [
           "Cathodically protected, Bare",
           "Services"
          ],
          [
           "Cathodically protected, Bare",
           "Services"
          ],
          [
           "Cathodically protected, Bare",
           "Services"
          ],
          [
           "Cathodically protected, Bare",
           "Services"
          ],
          [
           "Cathodically protected, Bare",
           "Services"
          ],
          [
           "Cathodically protected, Bare",
           "Services"
          ],
          [
           "Cathodically protected, Bare",
           "Services"
          ],
          [
           "Cathodically protected, Bare",
           "Services"
          ],
          [
           "Cathodically protected, Bare",
           "Services"
          ],
          [
           "Cathodically protected, Bare",
           "Services"
          ],
          [
           "Cathodically protected, Bare",
           "Services"
          ],
          [
           "Cathodically protected, Bare",
           "Services"
          ],
          [
           "Cathodically protected, Bare",
           "Services"
          ],
          [
           "Cathodically protected, Bare",
           "Services"
          ],
          [
           "Cathodically protected, Bare",
           "Services"
          ],
          [
           "Cathodically protected, Bare",
           "Services"
          ],
          [
           "Cathodically protected, Bare",
           "Services"
          ],
          [
           "Cathodically protected, Bare",
           "Services"
          ],
          [
           "Cathodically protected, Bare",
           "Services"
          ],
          [
           "Cathodically protected, Bare",
           "Services"
          ],
          [
           "Cathodically protected, Bare",
           "Services"
          ],
          [
           "Cathodically protected, Bare",
           "Services"
          ],
          [
           "Cathodically protected, Bare",
           "Services"
          ],
          [
           "Cathodically protected, Bare",
           "Services"
          ],
          [
           "Cathodically protected, Bare",
           "Services"
          ]
         ],
         "fillpattern": {
          "shape": "\\"
         },
         "hovertemplate": "%{customdata[0]} : %{y}",
         "legendgroup": "Leak prone, Services",
         "line": {
          "color": "#df2935"
         },
         "marker": {
          "symbol": "circle"
         },
         "mode": "lines",
         "name": "Leak prone, Services",
         "orientation": "v",
         "showlegend": false,
         "stackgroup": "1",
         "type": "scatter",
         "x": [
          1997,
          1998,
          1999,
          2000,
          2001,
          2002,
          2003,
          2004,
          2005,
          2006,
          2007,
          2008,
          2009,
          2010,
          2011,
          2012,
          2013,
          2014,
          2015,
          2016,
          2017,
          2018,
          2019,
          2020,
          2021,
          2022
         ],
         "xaxis": "x",
         "y": [
          0,
          0,
          0,
          0,
          0,
          0,
          0,
          0,
          0,
          0,
          0,
          0,
          0,
          0,
          0,
          0,
          0,
          0,
          0,
          0,
          0,
          0,
          0,
          0,
          0,
          0
         ],
         "yaxis": "y"
        },
        {
         "customdata": [
          [
           "Cast Iron",
           "Services"
          ],
          [
           "Cast Iron",
           "Services"
          ],
          [
           "Cast Iron",
           "Services"
          ],
          [
           "Cast Iron",
           "Services"
          ],
          [
           "Cast Iron",
           "Services"
          ],
          [
           "Cast Iron",
           "Services"
          ],
          [
           "Cast Iron",
           "Services"
          ],
          [
           "Cast Iron",
           "Services"
          ],
          [
           "Cast Iron",
           "Services"
          ],
          [
           "Cast Iron",
           "Services"
          ],
          [
           "Cast Iron",
           "Services"
          ],
          [
           "Cast Iron",
           "Services"
          ],
          [
           "Cast Iron",
           "Services"
          ],
          [
           "Cast Iron",
           "Services"
          ],
          [
           "Cast Iron",
           "Services"
          ],
          [
           "Cast Iron",
           "Services"
          ],
          [
           "Cast Iron",
           "Services"
          ],
          [
           "Cast Iron",
           "Services"
          ],
          [
           "Cast Iron",
           "Services"
          ],
          [
           "Cast Iron",
           "Services"
          ],
          [
           "Cast Iron",
           "Services"
          ],
          [
           "Cast Iron",
           "Services"
          ],
          [
           "Cast Iron",
           "Services"
          ],
          [
           "Cast Iron",
           "Services"
          ],
          [
           "Cast Iron",
           "Services"
          ],
          [
           "Cast Iron",
           "Services"
          ]
         ],
         "fillpattern": {
          "shape": "\\"
         },
         "hovertemplate": "%{customdata[0]} : %{y}",
         "legendgroup": "Leak prone, Services",
         "line": {
          "color": "#df2935"
         },
         "marker": {
          "symbol": "circle"
         },
         "mode": "lines",
         "name": "Leak prone, Services",
         "orientation": "v",
         "showlegend": false,
         "stackgroup": "1",
         "type": "scatter",
         "x": [
          1997,
          1998,
          1999,
          2000,
          2001,
          2002,
          2003,
          2004,
          2005,
          2006,
          2007,
          2008,
          2009,
          2010,
          2011,
          2012,
          2013,
          2014,
          2015,
          2016,
          2017,
          2018,
          2019,
          2020,
          2021,
          2022
         ],
         "xaxis": "x",
         "y": [
          4.640151515151516,
          4.640151515151516,
          4.640151515151516,
          4.6022727272727275,
          4.6022727272727275,
          4.337121212121212,
          4.337121212121212,
          4.28030303030303,
          4.28030303030303,
          4.261363636363637,
          4.223484848484849,
          11.837121212121213,
          11.818181818181818,
          7.1975378787878785,
          7.162878787878788,
          0.9159090909090909,
          0.9159090909090909,
          0.9159090909090909,
          0.9041666666666666,
          0.8924242424242423,
          0.8806818181818181,
          0.8806818181818181,
          0.8806818181818181,
          0.8806818181818181,
          0.8806818181818181,
          0.8806818181818181
         ],
         "yaxis": "y"
        },
        {
         "customdata": [
          [
           "Ductile Iron",
           "Services"
          ],
          [
           "Ductile Iron",
           "Services"
          ],
          [
           "Ductile Iron",
           "Services"
          ],
          [
           "Ductile Iron",
           "Services"
          ],
          [
           "Ductile Iron",
           "Services"
          ],
          [
           "Ductile Iron",
           "Services"
          ],
          [
           "Ductile Iron",
           "Services"
          ],
          [
           "Ductile Iron",
           "Services"
          ],
          [
           "Ductile Iron",
           "Services"
          ],
          [
           "Ductile Iron",
           "Services"
          ],
          [
           "Ductile Iron",
           "Services"
          ],
          [
           "Ductile Iron",
           "Services"
          ],
          [
           "Ductile Iron",
           "Services"
          ],
          [
           "Ductile Iron",
           "Services"
          ],
          [
           "Ductile Iron",
           "Services"
          ],
          [
           "Ductile Iron",
           "Services"
          ],
          [
           "Ductile Iron",
           "Services"
          ],
          [
           "Ductile Iron",
           "Services"
          ],
          [
           "Ductile Iron",
           "Services"
          ],
          [
           "Ductile Iron",
           "Services"
          ],
          [
           "Ductile Iron",
           "Services"
          ],
          [
           "Ductile Iron",
           "Services"
          ],
          [
           "Ductile Iron",
           "Services"
          ],
          [
           "Ductile Iron",
           "Services"
          ],
          [
           "Ductile Iron",
           "Services"
          ],
          [
           "Ductile Iron",
           "Services"
          ]
         ],
         "fillpattern": {
          "shape": "\\"
         },
         "hovertemplate": "%{customdata[0]} : %{y}",
         "legendgroup": "Leak prone, Services",
         "line": {
          "color": "#df2935"
         },
         "marker": {
          "symbol": "circle"
         },
         "mode": "lines",
         "name": "Leak prone, Services",
         "orientation": "v",
         "showlegend": false,
         "stackgroup": "1",
         "type": "scatter",
         "x": [
          1997,
          1998,
          1999,
          2000,
          2001,
          2002,
          2003,
          2004,
          2005,
          2006,
          2007,
          2008,
          2009,
          2010,
          2011,
          2012,
          2013,
          2014,
          2015,
          2016,
          2017,
          2018,
          2019,
          2020,
          2021,
          2022
         ],
         "xaxis": "x",
         "y": [
          0.03787878787878788,
          0.03787878787878788,
          0.03787878787878788,
          0.03787878787878788,
          0.03787878787878788,
          0.03787878787878788,
          0.03787878787878788,
          0.03787878787878788,
          0.03787878787878788,
          0.03787878787878788,
          0.03787878787878788,
          0.1893939393939394,
          0.1893939393939394,
          0.09242424242424242,
          0.09242424242424242,
          0.09393939393939393,
          0.09393939393939393,
          0.09393939393939393,
          0.09393939393939393,
          0.09393939393939393,
          0.09393939393939393,
          0.09393939393939393,
          0.09393939393939393,
          0.09393939393939393,
          0.09393939393939393,
          0.09393939393939393
         ],
         "yaxis": "y"
        },
        {
         "customdata": [
          [
           "Copper",
           "Services"
          ],
          [
           "Copper",
           "Services"
          ],
          [
           "Copper",
           "Services"
          ],
          [
           "Copper",
           "Services"
          ],
          [
           "Copper",
           "Services"
          ],
          [
           "Copper",
           "Services"
          ],
          [
           "Copper",
           "Services"
          ],
          [
           "Copper",
           "Services"
          ],
          [
           "Copper",
           "Services"
          ],
          [
           "Copper",
           "Services"
          ],
          [
           "Copper",
           "Services"
          ],
          [
           "Copper",
           "Services"
          ],
          [
           "Copper",
           "Services"
          ],
          [
           "Copper",
           "Services"
          ],
          [
           "Copper",
           "Services"
          ],
          [
           "Copper",
           "Services"
          ],
          [
           "Copper",
           "Services"
          ],
          [
           "Copper",
           "Services"
          ],
          [
           "Copper",
           "Services"
          ],
          [
           "Copper",
           "Services"
          ],
          [
           "Copper",
           "Services"
          ],
          [
           "Copper",
           "Services"
          ],
          [
           "Copper",
           "Services"
          ],
          [
           "Copper",
           "Services"
          ],
          [
           "Copper",
           "Services"
          ],
          [
           "Copper",
           "Services"
          ]
         ],
         "fillpattern": {
          "shape": "\\"
         },
         "hovertemplate": "%{customdata[0]} : %{y}",
         "legendgroup": "Leak prone, Services",
         "line": {
          "color": "#df2935"
         },
         "marker": {
          "symbol": "circle"
         },
         "mode": "lines",
         "name": "Leak prone, Services",
         "orientation": "v",
         "showlegend": false,
         "stackgroup": "1",
         "type": "scatter",
         "x": [
          1997,
          1998,
          1999,
          2000,
          2001,
          2002,
          2003,
          2004,
          2005,
          2006,
          2007,
          2008,
          2009,
          2010,
          2011,
          2012,
          2013,
          2014,
          2015,
          2016,
          2017,
          2018,
          2019,
          2020,
          2021,
          2022
         ],
         "xaxis": "x",
         "y": [
          128.2007575757576,
          128.2007575757576,
          126.68560606060606,
          126.49621212121212,
          126.49621212121212,
          124.82954545454545,
          122.34848484848486,
          119.10984848484848,
          117.74621212121212,
          115.9659090909091,
          115.01893939393939,
          80.05681818181819,
          78.92045454545455,
          45.32253787878788,
          43.86685606060606,
          42.51931818181818,
          41.49772727272727,
          41.27462121212121,
          40.6875,
          40.24128787878788,
          40.19431818181818,
          40.06515151515151,
          39.93598484848484,
          39.85378787878788,
          39.63068181818181,
          39.525
         ],
         "yaxis": "y"
        },
        {
         "customdata": [
          [
           "Other",
           "Services"
          ],
          [
           "Other",
           "Services"
          ],
          [
           "Other",
           "Services"
          ],
          [
           "Other",
           "Services"
          ],
          [
           "Other",
           "Services"
          ],
          [
           "Other",
           "Services"
          ],
          [
           "Other",
           "Services"
          ],
          [
           "Other",
           "Services"
          ],
          [
           "Other",
           "Services"
          ],
          [
           "Other",
           "Services"
          ],
          [
           "Other",
           "Services"
          ],
          [
           "Other",
           "Services"
          ],
          [
           "Other",
           "Services"
          ],
          [
           "Other",
           "Services"
          ],
          [
           "Other",
           "Services"
          ],
          [
           "Other",
           "Services"
          ],
          [
           "Other",
           "Services"
          ],
          [
           "Other",
           "Services"
          ],
          [
           "Other",
           "Services"
          ],
          [
           "Other",
           "Services"
          ],
          [
           "Other",
           "Services"
          ],
          [
           "Other",
           "Services"
          ],
          [
           "Other",
           "Services"
          ],
          [
           "Other",
           "Services"
          ],
          [
           "Other",
           "Services"
          ],
          [
           "Other",
           "Services"
          ]
         ],
         "fillpattern": {
          "shape": "\\"
         },
         "hovertemplate": "%{customdata[0]} : %{y}",
         "legendgroup": "Leak prone, Services",
         "line": {
          "color": "#df2935"
         },
         "marker": {
          "symbol": "circle"
         },
         "mode": "lines",
         "name": "Leak prone, Services",
         "orientation": "v",
         "showlegend": false,
         "stackgroup": "1",
         "type": "scatter",
         "x": [
          1997,
          1998,
          1999,
          2000,
          2001,
          2002,
          2003,
          2004,
          2005,
          2006,
          2007,
          2008,
          2009,
          2010,
          2011,
          2012,
          2013,
          2014,
          2015,
          2016,
          2017,
          2018,
          2019,
          2020,
          2021,
          2022
         ],
         "xaxis": "x",
         "y": [
          0,
          0,
          0,
          0,
          0,
          0,
          0,
          0,
          0,
          0,
          0,
          0,
          0,
          83.40132575757576,
          83.40132575757576,
          84.7685606060606,
          76.94810606060605,
          66.8965909090909,
          64.81818181818181,
          61.5655303030303,
          56.422348484848484,
          54.27348484848485,
          52.71174242424242,
          51.4905303030303,
          49.08333333333333,
          47.26325757575757
         ],
         "yaxis": "y"
        },
        {
         "customdata": [
          [
           "Cathodically protected, Coated",
           "Mains"
          ],
          [
           "Cathodically protected, Coated",
           "Mains"
          ],
          [
           "Cathodically protected, Coated",
           "Mains"
          ],
          [
           "Cathodically protected, Coated",
           "Mains"
          ],
          [
           "Cathodically protected, Coated",
           "Mains"
          ],
          [
           "Cathodically protected, Coated",
           "Mains"
          ],
          [
           "Cathodically protected, Coated",
           "Mains"
          ],
          [
           "Cathodically protected, Coated",
           "Mains"
          ],
          [
           "Cathodically protected, Coated",
           "Mains"
          ],
          [
           "Cathodically protected, Coated",
           "Mains"
          ],
          [
           "Cathodically protected, Coated",
           "Mains"
          ],
          [
           "Cathodically protected, Coated",
           "Mains"
          ],
          [
           "Cathodically protected, Coated",
           "Mains"
          ],
          [
           "Cathodically protected, Coated",
           "Mains"
          ],
          [
           "Cathodically protected, Coated",
           "Mains"
          ],
          [
           "Cathodically protected, Coated",
           "Mains"
          ],
          [
           "Cathodically protected, Coated",
           "Mains"
          ],
          [
           "Cathodically protected, Coated",
           "Mains"
          ],
          [
           "Cathodically protected, Coated",
           "Mains"
          ],
          [
           "Cathodically protected, Coated",
           "Mains"
          ],
          [
           "Cathodically protected, Coated",
           "Mains"
          ],
          [
           "Cathodically protected, Coated",
           "Mains"
          ],
          [
           "Cathodically protected, Coated",
           "Mains"
          ],
          [
           "Cathodically protected, Coated",
           "Mains"
          ],
          [
           "Cathodically protected, Coated",
           "Mains"
          ],
          [
           "Cathodically protected, Coated",
           "Mains"
          ]
         ],
         "fillpattern": {
          "shape": ""
         },
         "hovertemplate": "%{customdata[0]} : %{y}",
         "legendgroup": "Non-Leak prone, Mains",
         "line": {
          "color": "#1a1b41"
         },
         "marker": {
          "symbol": "circle"
         },
         "mode": "lines",
         "name": "Non-Leak prone, Mains",
         "orientation": "v",
         "showlegend": true,
         "stackgroup": "1",
         "type": "scatter",
         "x": [
          1997,
          1998,
          1999,
          2000,
          2001,
          2002,
          2003,
          2004,
          2005,
          2006,
          2007,
          2008,
          2009,
          2010,
          2011,
          2012,
          2013,
          2014,
          2015,
          2016,
          2017,
          2018,
          2019,
          2020,
          2021,
          2022
         ],
         "xaxis": "x",
         "y": [
          440,
          449,
          462,
          466,
          477,
          488,
          491,
          503,
          505,
          473.1,
          460.1,
          459.8,
          471.5,
          464.45,
          464.8,
          465.865,
          459.492,
          456.345,
          450.371,
          451.207,
          447.26,
          446.88,
          448.21,
          442.41,
          441.436,
          438.715
         ],
         "yaxis": "y"
        },
        {
         "customdata": [
          [
           "Plastic",
           "Mains"
          ],
          [
           "Plastic",
           "Mains"
          ],
          [
           "Plastic",
           "Mains"
          ],
          [
           "Plastic",
           "Mains"
          ],
          [
           "Plastic",
           "Mains"
          ],
          [
           "Plastic",
           "Mains"
          ],
          [
           "Plastic",
           "Mains"
          ],
          [
           "Plastic",
           "Mains"
          ],
          [
           "Plastic",
           "Mains"
          ],
          [
           "Plastic",
           "Mains"
          ],
          [
           "Plastic",
           "Mains"
          ],
          [
           "Plastic",
           "Mains"
          ],
          [
           "Plastic",
           "Mains"
          ],
          [
           "Plastic",
           "Mains"
          ],
          [
           "Plastic",
           "Mains"
          ],
          [
           "Plastic",
           "Mains"
          ],
          [
           "Plastic",
           "Mains"
          ],
          [
           "Plastic",
           "Mains"
          ],
          [
           "Plastic",
           "Mains"
          ],
          [
           "Plastic",
           "Mains"
          ],
          [
           "Plastic",
           "Mains"
          ],
          [
           "Plastic",
           "Mains"
          ],
          [
           "Plastic",
           "Mains"
          ],
          [
           "Plastic",
           "Mains"
          ],
          [
           "Plastic",
           "Mains"
          ],
          [
           "Plastic",
           "Mains"
          ]
         ],
         "fillpattern": {
          "shape": ""
         },
         "hovertemplate": "%{customdata[0]} : %{y}",
         "legendgroup": "Non-Leak prone, Mains",
         "line": {
          "color": "#1a1b41"
         },
         "marker": {
          "symbol": "circle"
         },
         "mode": "lines",
         "name": "Non-Leak prone, Mains",
         "orientation": "v",
         "showlegend": false,
         "stackgroup": "1",
         "type": "scatter",
         "x": [
          1997,
          1998,
          1999,
          2000,
          2001,
          2002,
          2003,
          2004,
          2005,
          2006,
          2007,
          2008,
          2009,
          2010,
          2011,
          2012,
          2013,
          2014,
          2015,
          2016,
          2017,
          2018,
          2019,
          2020,
          2021,
          2022
         ],
         "xaxis": "x",
         "y": [
          397,
          440,
          476,
          514,
          541,
          598,
          650,
          685,
          732,
          784.1,
          827.8,
          828.046,
          861.556,
          912.855,
          1043.482,
          1099.363,
          1140.507,
          1171.618,
          1195.072,
          1222.91,
          1245.54,
          1250.4,
          1273.37,
          1293.48,
          1313.471,
          1339.771
         ],
         "yaxis": "y"
        },
        {
         "customdata": [
          [
           "Cathodically protected, Coated",
           "Services"
          ],
          [
           "Cathodically protected, Coated",
           "Services"
          ],
          [
           "Cathodically protected, Coated",
           "Services"
          ],
          [
           "Cathodically protected, Coated",
           "Services"
          ],
          [
           "Cathodically protected, Coated",
           "Services"
          ],
          [
           "Cathodically protected, Coated",
           "Services"
          ],
          [
           "Cathodically protected, Coated",
           "Services"
          ],
          [
           "Cathodically protected, Coated",
           "Services"
          ],
          [
           "Cathodically protected, Coated",
           "Services"
          ],
          [
           "Cathodically protected, Coated",
           "Services"
          ],
          [
           "Cathodically protected, Coated",
           "Services"
          ],
          [
           "Cathodically protected, Coated",
           "Services"
          ],
          [
           "Cathodically protected, Coated",
           "Services"
          ],
          [
           "Cathodically protected, Coated",
           "Services"
          ],
          [
           "Cathodically protected, Coated",
           "Services"
          ],
          [
           "Cathodically protected, Coated",
           "Services"
          ],
          [
           "Cathodically protected, Coated",
           "Services"
          ],
          [
           "Cathodically protected, Coated",
           "Services"
          ],
          [
           "Cathodically protected, Coated",
           "Services"
          ],
          [
           "Cathodically protected, Coated",
           "Services"
          ],
          [
           "Cathodically protected, Coated",
           "Services"
          ],
          [
           "Cathodically protected, Coated",
           "Services"
          ],
          [
           "Cathodically protected, Coated",
           "Services"
          ],
          [
           "Cathodically protected, Coated",
           "Services"
          ],
          [
           "Cathodically protected, Coated",
           "Services"
          ],
          [
           "Cathodically protected, Coated",
           "Services"
          ]
         ],
         "fillpattern": {
          "shape": "\\"
         },
         "hovertemplate": "%{customdata[0]} : %{y}",
         "legendgroup": "Non-Leak prone, Services",
         "line": {
          "color": "#1a1b41"
         },
         "marker": {
          "symbol": "circle"
         },
         "mode": "lines",
         "name": "Non-Leak prone, Services",
         "orientation": "v",
         "showlegend": true,
         "stackgroup": "1",
         "type": "scatter",
         "x": [
          1997,
          1998,
          1999,
          2000,
          2001,
          2002,
          2003,
          2004,
          2005,
          2006,
          2007,
          2008,
          2009,
          2010,
          2011,
          2012,
          2013,
          2014,
          2015,
          2016,
          2017,
          2018,
          2019,
          2020,
          2021,
          2022
         ],
         "xaxis": "x",
         "y": [
          97.7840909090909,
          97.7840909090909,
          97.7840909090909,
          97.67045454545455,
          97.1590909090909,
          96.5340909090909,
          96.38257575757576,
          96.40151515151516,
          96.40151515151516,
          94.43181818181819,
          76.47727272727273,
          151.98863636363637,
          151.98863636363637,
          85.74659090909091,
          85.61950757575758,
          31.716287878787877,
          28.32272727272727,
          27.26590909090909,
          26.361742424242422,
          23.39090909090909,
          17.167424242424243,
          12.200378787878787,
          7.421212121212121,
          7.1276515151515145,
          6.834090909090909,
          6.329166666666667
         ],
         "yaxis": "y"
        },
        {
         "customdata": [
          [
           "Plastic",
           "Services"
          ],
          [
           "Plastic",
           "Services"
          ],
          [
           "Plastic",
           "Services"
          ],
          [
           "Plastic",
           "Services"
          ],
          [
           "Plastic",
           "Services"
          ],
          [
           "Plastic",
           "Services"
          ],
          [
           "Plastic",
           "Services"
          ],
          [
           "Plastic",
           "Services"
          ],
          [
           "Plastic",
           "Services"
          ],
          [
           "Plastic",
           "Services"
          ],
          [
           "Plastic",
           "Services"
          ],
          [
           "Plastic",
           "Services"
          ],
          [
           "Plastic",
           "Services"
          ],
          [
           "Plastic",
           "Services"
          ],
          [
           "Plastic",
           "Services"
          ],
          [
           "Plastic",
           "Services"
          ],
          [
           "Plastic",
           "Services"
          ],
          [
           "Plastic",
           "Services"
          ],
          [
           "Plastic",
           "Services"
          ],
          [
           "Plastic",
           "Services"
          ],
          [
           "Plastic",
           "Services"
          ],
          [
           "Plastic",
           "Services"
          ],
          [
           "Plastic",
           "Services"
          ],
          [
           "Plastic",
           "Services"
          ],
          [
           "Plastic",
           "Services"
          ],
          [
           "Plastic",
           "Services"
          ]
         ],
         "fillpattern": {
          "shape": "\\"
         },
         "hovertemplate": "%{customdata[0]} : %{y}",
         "legendgroup": "Non-Leak prone, Services",
         "line": {
          "color": "#1a1b41"
         },
         "marker": {
          "symbol": "circle"
         },
         "mode": "lines",
         "name": "Non-Leak prone, Services",
         "orientation": "v",
         "showlegend": false,
         "stackgroup": "1",
         "type": "scatter",
         "x": [
          1997,
          1998,
          1999,
          2000,
          2001,
          2002,
          2003,
          2004,
          2005,
          2006,
          2007,
          2008,
          2009,
          2010,
          2011,
          2012,
          2013,
          2014,
          2015,
          2016,
          2017,
          2018,
          2019,
          2020,
          2021,
          2022
         ],
         "xaxis": "x",
         "y": [
          992.3484848484849,
          1060.0757575757575,
          1124.9242424242425,
          1201.1931818181818,
          1244.128787878788,
          1308.0492424242425,
          1375.4545454545455,
          1437.2916666666667,
          1508.1628787878788,
          1566.9318181818182,
          1608.8257575757575,
          1153.3901515151515,
          1199.2613636363637,
          754.8518939393939,
          778.4662878787879,
          926.8765151515152,
          955.8685606060606,
          950.2087121212121,
          964.0882575757576,
          979.6821969696969,
          1003.5897727272727,
          1021.978409090909,
          1044.148106060606,
          1059.0022727272726,
          1106.3359848484847,
          1114.8727272727272
         ],
         "yaxis": "y"
        }
       ],
       "layout": {
        "annotations": [
         {
          "arrowhead": 2,
          "font": {
           "color": "#df2935"
          },
          "showarrow": false,
          "text": "314 miles",
          "x": 1.1,
          "xref": "paper",
          "y": 314
         }
        ],
        "hovermode": "x unified",
        "legend": {
         "title": {
          "text": "Leak prone, Pipe"
         },
         "tracegroupgap": 0
        },
        "template": {
         "data": {
          "bar": [
           {
            "error_x": {
             "color": "rgb(51,51,51)"
            },
            "error_y": {
             "color": "rgb(51,51,51)"
            },
            "marker": {
             "line": {
              "color": "rgb(237,237,237)",
              "width": 0.5
             },
             "pattern": {
              "fillmode": "overlay",
              "size": 10,
              "solidity": 0.2
             }
            },
            "type": "bar"
           }
          ],
          "barpolar": [
           {
            "marker": {
             "line": {
              "color": "rgb(237,237,237)",
              "width": 0.5
             },
             "pattern": {
              "fillmode": "overlay",
              "size": 10,
              "solidity": 0.2
             }
            },
            "type": "barpolar"
           }
          ],
          "carpet": [
           {
            "aaxis": {
             "endlinecolor": "rgb(51,51,51)",
             "gridcolor": "white",
             "linecolor": "white",
             "minorgridcolor": "white",
             "startlinecolor": "rgb(51,51,51)"
            },
            "baxis": {
             "endlinecolor": "rgb(51,51,51)",
             "gridcolor": "white",
             "linecolor": "white",
             "minorgridcolor": "white",
             "startlinecolor": "rgb(51,51,51)"
            },
            "type": "carpet"
           }
          ],
          "choropleth": [
           {
            "colorbar": {
             "outlinewidth": 0,
             "tickcolor": "rgb(237,237,237)",
             "ticklen": 6,
             "ticks": "inside"
            },
            "type": "choropleth"
           }
          ],
          "contour": [
           {
            "colorbar": {
             "outlinewidth": 0,
             "tickcolor": "rgb(237,237,237)",
             "ticklen": 6,
             "ticks": "inside"
            },
            "colorscale": [
             [
              0,
              "rgb(20,44,66)"
             ],
             [
              1,
              "rgb(90,179,244)"
             ]
            ],
            "type": "contour"
           }
          ],
          "contourcarpet": [
           {
            "colorbar": {
             "outlinewidth": 0,
             "tickcolor": "rgb(237,237,237)",
             "ticklen": 6,
             "ticks": "inside"
            },
            "type": "contourcarpet"
           }
          ],
          "heatmap": [
           {
            "colorbar": {
             "outlinewidth": 0,
             "tickcolor": "rgb(237,237,237)",
             "ticklen": 6,
             "ticks": "inside"
            },
            "colorscale": [
             [
              0,
              "rgb(20,44,66)"
             ],
             [
              1,
              "rgb(90,179,244)"
             ]
            ],
            "type": "heatmap"
           }
          ],
          "heatmapgl": [
           {
            "colorbar": {
             "outlinewidth": 0,
             "tickcolor": "rgb(237,237,237)",
             "ticklen": 6,
             "ticks": "inside"
            },
            "colorscale": [
             [
              0,
              "rgb(20,44,66)"
             ],
             [
              1,
              "rgb(90,179,244)"
             ]
            ],
            "type": "heatmapgl"
           }
          ],
          "histogram": [
           {
            "marker": {
             "pattern": {
              "fillmode": "overlay",
              "size": 10,
              "solidity": 0.2
             }
            },
            "type": "histogram"
           }
          ],
          "histogram2d": [
           {
            "colorbar": {
             "outlinewidth": 0,
             "tickcolor": "rgb(237,237,237)",
             "ticklen": 6,
             "ticks": "inside"
            },
            "colorscale": [
             [
              0,
              "rgb(20,44,66)"
             ],
             [
              1,
              "rgb(90,179,244)"
             ]
            ],
            "type": "histogram2d"
           }
          ],
          "histogram2dcontour": [
           {
            "colorbar": {
             "outlinewidth": 0,
             "tickcolor": "rgb(237,237,237)",
             "ticklen": 6,
             "ticks": "inside"
            },
            "colorscale": [
             [
              0,
              "rgb(20,44,66)"
             ],
             [
              1,
              "rgb(90,179,244)"
             ]
            ],
            "type": "histogram2dcontour"
           }
          ],
          "mesh3d": [
           {
            "colorbar": {
             "outlinewidth": 0,
             "tickcolor": "rgb(237,237,237)",
             "ticklen": 6,
             "ticks": "inside"
            },
            "type": "mesh3d"
           }
          ],
          "parcoords": [
           {
            "line": {
             "colorbar": {
              "outlinewidth": 0,
              "tickcolor": "rgb(237,237,237)",
              "ticklen": 6,
              "ticks": "inside"
             }
            },
            "type": "parcoords"
           }
          ],
          "pie": [
           {
            "automargin": true,
            "type": "pie"
           }
          ],
          "scatter": [
           {
            "fillpattern": {
             "fillmode": "overlay",
             "size": 10,
             "solidity": 0.2
            },
            "type": "scatter"
           }
          ],
          "scatter3d": [
           {
            "line": {
             "colorbar": {
              "outlinewidth": 0,
              "tickcolor": "rgb(237,237,237)",
              "ticklen": 6,
              "ticks": "inside"
             }
            },
            "marker": {
             "colorbar": {
              "outlinewidth": 0,
              "tickcolor": "rgb(237,237,237)",
              "ticklen": 6,
              "ticks": "inside"
             }
            },
            "type": "scatter3d"
           }
          ],
          "scattercarpet": [
           {
            "marker": {
             "colorbar": {
              "outlinewidth": 0,
              "tickcolor": "rgb(237,237,237)",
              "ticklen": 6,
              "ticks": "inside"
             }
            },
            "type": "scattercarpet"
           }
          ],
          "scattergeo": [
           {
            "marker": {
             "colorbar": {
              "outlinewidth": 0,
              "tickcolor": "rgb(237,237,237)",
              "ticklen": 6,
              "ticks": "inside"
             }
            },
            "type": "scattergeo"
           }
          ],
          "scattergl": [
           {
            "marker": {
             "colorbar": {
              "outlinewidth": 0,
              "tickcolor": "rgb(237,237,237)",
              "ticklen": 6,
              "ticks": "inside"
             }
            },
            "type": "scattergl"
           }
          ],
          "scattermapbox": [
           {
            "marker": {
             "colorbar": {
              "outlinewidth": 0,
              "tickcolor": "rgb(237,237,237)",
              "ticklen": 6,
              "ticks": "inside"
             }
            },
            "type": "scattermapbox"
           }
          ],
          "scatterpolar": [
           {
            "marker": {
             "colorbar": {
              "outlinewidth": 0,
              "tickcolor": "rgb(237,237,237)",
              "ticklen": 6,
              "ticks": "inside"
             }
            },
            "type": "scatterpolar"
           }
          ],
          "scatterpolargl": [
           {
            "marker": {
             "colorbar": {
              "outlinewidth": 0,
              "tickcolor": "rgb(237,237,237)",
              "ticklen": 6,
              "ticks": "inside"
             }
            },
            "type": "scatterpolargl"
           }
          ],
          "scatterternary": [
           {
            "marker": {
             "colorbar": {
              "outlinewidth": 0,
              "tickcolor": "rgb(237,237,237)",
              "ticklen": 6,
              "ticks": "inside"
             }
            },
            "type": "scatterternary"
           }
          ],
          "surface": [
           {
            "colorbar": {
             "outlinewidth": 0,
             "tickcolor": "rgb(237,237,237)",
             "ticklen": 6,
             "ticks": "inside"
            },
            "colorscale": [
             [
              0,
              "rgb(20,44,66)"
             ],
             [
              1,
              "rgb(90,179,244)"
             ]
            ],
            "type": "surface"
           }
          ],
          "table": [
           {
            "cells": {
             "fill": {
              "color": "rgb(237,237,237)"
             },
             "line": {
              "color": "white"
             }
            },
            "header": {
             "fill": {
              "color": "rgb(217,217,217)"
             },
             "line": {
              "color": "white"
             }
            },
            "type": "table"
           }
          ]
         },
         "layout": {
          "annotationdefaults": {
           "arrowhead": 0,
           "arrowwidth": 1
          },
          "annotations": [
           {
            "font": {
             "color": "black",
             "size": 12
            },
            "name": "created by",
            "opacity": 0.9,
            "showarrow": false,
            "text": "Created by Electrify RVA",
            "x": -0.05,
            "xref": "paper",
            "y": -0.25,
            "yref": "paper"
           }
          ],
          "autotypenumbers": "strict",
          "coloraxis": {
           "colorbar": {
            "outlinewidth": 0,
            "tickcolor": "rgb(237,237,237)",
            "ticklen": 6,
            "ticks": "inside"
           }
          },
          "colorscale": {
           "sequential": [
            [
             0,
             "rgb(20,44,66)"
            ],
            [
             1,
             "rgb(90,179,244)"
            ]
           ],
           "sequentialminus": [
            [
             0,
             "rgb(20,44,66)"
            ],
            [
             1,
             "rgb(90,179,244)"
            ]
           ]
          },
          "colorway": [
           "#007C77",
           "#1a1b41",
           "#f48668",
           "#f2bb05",
           "#E2A0FF",
           "#8acb88"
          ],
          "font": {
           "color": "rgb(51,51,51)"
          },
          "geo": {
           "bgcolor": "white",
           "lakecolor": "white",
           "landcolor": "rgb(237,237,237)",
           "showlakes": true,
           "showland": true,
           "subunitcolor": "white"
          },
          "hoverlabel": {
           "align": "left"
          },
          "hovermode": "x unified",
          "paper_bgcolor": "white",
          "plot_bgcolor": "rgb(237,237,237)",
          "polar": {
           "angularaxis": {
            "gridcolor": "white",
            "linecolor": "white",
            "showgrid": true,
            "tickcolor": "rgb(51,51,51)",
            "ticks": "outside"
           },
           "bgcolor": "rgb(237,237,237)",
           "radialaxis": {
            "gridcolor": "white",
            "linecolor": "white",
            "showgrid": true,
            "tickcolor": "rgb(51,51,51)",
            "ticks": "outside"
           }
          },
          "scene": {
           "xaxis": {
            "backgroundcolor": "rgb(237,237,237)",
            "gridcolor": "white",
            "gridwidth": 2,
            "linecolor": "white",
            "showbackground": true,
            "showgrid": true,
            "tickcolor": "rgb(51,51,51)",
            "ticks": "outside",
            "zerolinecolor": "white"
           },
           "yaxis": {
            "backgroundcolor": "rgb(237,237,237)",
            "gridcolor": "white",
            "gridwidth": 2,
            "linecolor": "white",
            "showbackground": true,
            "showgrid": true,
            "tickcolor": "rgb(51,51,51)",
            "ticks": "outside",
            "zerolinecolor": "white"
           },
           "zaxis": {
            "backgroundcolor": "rgb(237,237,237)",
            "gridcolor": "white",
            "gridwidth": 2,
            "linecolor": "white",
            "showbackground": true,
            "showgrid": true,
            "tickcolor": "rgb(51,51,51)",
            "ticks": "outside",
            "zerolinecolor": "white"
           }
          },
          "shapedefaults": {
           "fillcolor": "black",
           "line": {
            "width": 0
           },
           "opacity": 0.3
          },
          "ternary": {
           "aaxis": {
            "gridcolor": "white",
            "linecolor": "white",
            "showgrid": true,
            "tickcolor": "rgb(51,51,51)",
            "ticks": "outside"
           },
           "baxis": {
            "gridcolor": "white",
            "linecolor": "white",
            "showgrid": true,
            "tickcolor": "rgb(51,51,51)",
            "ticks": "outside"
           },
           "bgcolor": "rgb(237,237,237)",
           "caxis": {
            "gridcolor": "white",
            "linecolor": "white",
            "showgrid": true,
            "tickcolor": "rgb(51,51,51)",
            "ticks": "outside"
           }
          },
          "title": {
           "x": 0.05
          },
          "xaxis": {
           "automargin": true,
           "gridcolor": "white",
           "linecolor": "white",
           "showgrid": true,
           "tickcolor": "rgb(51,51,51)",
           "ticks": "outside",
           "title": {
            "standoff": 15
           },
           "zerolinecolor": "white"
          },
          "yaxis": {
           "automargin": true,
           "gridcolor": "white",
           "linecolor": "white",
           "showgrid": true,
           "tickcolor": "rgb(51,51,51)",
           "tickformat": ",.0f",
           "ticks": "outside",
           "title": {
            "standoff": 15
           },
           "zerolinecolor": "white"
          }
         }
        },
        "title": {
         "text": "Miles of pipes"
        },
        "xaxis": {
         "anchor": "y",
         "domain": [
          0,
          1
         ],
         "title": {
          "text": ""
         }
        },
        "yaxis": {
         "anchor": "x",
         "domain": [
          0,
          1
         ],
         "title": {
          "text": "Miles"
         }
        }
       }
      }
     },
     "metadata": {},
     "output_type": "display_data"
    }
   ],
   "source": [
    "fig = px.area(\n",
    "    melted_all, \n",
    "    x=\"year\", y=\"Miles\", color=\"leak_prone\", line_group='material_specific', pattern_shape='Pipe',\n",
    "    title=\"Miles of pipes\", \n",
    "    labels={ \"year\": \"\", \"material\": \"Material\", \"leak_prone\": \"Leak prone\"},\n",
    "    pattern_shape_sequence=[\"\", \"\\\\\"],\n",
    "    hover_data=[\"material_specific\", \"Pipe\"],\n",
    "    color_discrete_map={'Leak prone': HIGHLIGHT_COLOR},\n",
    ")\n",
    "\n",
    "fig.add_annotation(\n",
    "    text=\"314 miles\", x=1.1, y=314,\n",
    "    showarrow=False, arrowhead=2,\n",
    "    xref='paper',\n",
    "    font=dict(color=HIGHLIGHT_COLOR),\n",
    ")\n",
    "\n",
    "fig.update_traces(hovertemplate=None)\n",
    "fig.update_traces(hovertemplate = '%{customdata[0]} : %{y}')  #'year=%{customdata[0]}<br>label=%{customdata[1]}<extra></extra>')\n",
    "fig.update_layout(hovermode='x unified')\n",
    "fig.update_traces()\n",
    "\n",
    "fig.show()\n",
    "fig.write_html(\"../docs/_includes/charts/material_leakprone_mains_services_miles.html\", include_plotlyjs=\"cdn\")"
   ]
  },
  {
   "cell_type": "markdown",
   "metadata": {},
   "source": [
    "# By decade"
   ]
  },
  {
   "cell_type": "code",
   "execution_count": 562,
   "metadata": {},
   "outputs": [
    {
     "data": {
      "text/html": [
       "<div>\n",
       "<style scoped>\n",
       "    .dataframe tbody tr th:only-of-type {\n",
       "        vertical-align: middle;\n",
       "    }\n",
       "\n",
       "    .dataframe tbody tr th {\n",
       "        vertical-align: top;\n",
       "    }\n",
       "\n",
       "    .dataframe thead th {\n",
       "        text-align: right;\n",
       "    }\n",
       "</style>\n",
       "<table border=\"1\" class=\"dataframe\">\n",
       "  <thead>\n",
       "    <tr style=\"text-align: right;\">\n",
       "      <th></th>\n",
       "      <th>year</th>\n",
       "      <th>mains_miles_by_decade_unknown</th>\n",
       "      <th>mains_miles_by_decade_pre1940</th>\n",
       "      <th>mains_miles_by_decade_1940_to_1949</th>\n",
       "      <th>mains_miles_by_decade_1950_to_1959</th>\n",
       "      <th>mains_miles_by_decade_1960_to_1969</th>\n",
       "      <th>mains_miles_by_decade_1970_to_1979</th>\n",
       "      <th>mains_miles_by_decade_1980_to_1989</th>\n",
       "      <th>mains_miles_by_decade_1990_to_1999</th>\n",
       "      <th>mains_miles_by_decade_2000_to_2009</th>\n",
       "      <th>mains_miles_by_decade_total</th>\n",
       "      <th>number_services_by_decade_unknown</th>\n",
       "      <th>number_services_by_decade_pre1940</th>\n",
       "      <th>number_services_by_decade_1940_to_1949</th>\n",
       "      <th>number_services_by_decade_1950_to_1959</th>\n",
       "      <th>number_services_by_decade_1960_to_1969</th>\n",
       "      <th>number_services_by_decade_1970_to_1979</th>\n",
       "      <th>number_services_by_decade_1980_to_1989</th>\n",
       "      <th>number_services_by_decade_1990_to_1999</th>\n",
       "      <th>number_services_by_decade_2000_to_2009</th>\n",
       "      <th>number_services_by_decade_total</th>\n",
       "      <th>mains_miles_by_decade_2010_to_2019</th>\n",
       "      <th>mains_miles_by_decade_2020_to_2029</th>\n",
       "      <th>number_services_by_decade_2010_to_2019</th>\n",
       "      <th>number_services_by_decade_2020_to_2029</th>\n",
       "    </tr>\n",
       "  </thead>\n",
       "  <tbody>\n",
       "    <tr>\n",
       "      <th>0</th>\n",
       "      <td>1997</td>\n",
       "      <td>0.000</td>\n",
       "      <td>0.000</td>\n",
       "      <td>0.000</td>\n",
       "      <td>0.000</td>\n",
       "      <td>0.000</td>\n",
       "      <td>0.000</td>\n",
       "      <td>0.000</td>\n",
       "      <td>0.000</td>\n",
       "      <td>0.000</td>\n",
       "      <td>0.000</td>\n",
       "      <td>0</td>\n",
       "      <td>0</td>\n",
       "      <td>0</td>\n",
       "      <td>0</td>\n",
       "      <td>0</td>\n",
       "      <td>0</td>\n",
       "      <td>0</td>\n",
       "      <td>0</td>\n",
       "      <td>0</td>\n",
       "      <td>0</td>\n",
       "      <td>0.000</td>\n",
       "      <td>0.000</td>\n",
       "      <td>0</td>\n",
       "      <td>0</td>\n",
       "    </tr>\n",
       "    <tr>\n",
       "      <th>1</th>\n",
       "      <td>1998</td>\n",
       "      <td>0.000</td>\n",
       "      <td>0.000</td>\n",
       "      <td>0.000</td>\n",
       "      <td>0.000</td>\n",
       "      <td>0.000</td>\n",
       "      <td>0.000</td>\n",
       "      <td>0.000</td>\n",
       "      <td>0.000</td>\n",
       "      <td>0.000</td>\n",
       "      <td>0.000</td>\n",
       "      <td>0</td>\n",
       "      <td>0</td>\n",
       "      <td>0</td>\n",
       "      <td>0</td>\n",
       "      <td>0</td>\n",
       "      <td>0</td>\n",
       "      <td>0</td>\n",
       "      <td>0</td>\n",
       "      <td>0</td>\n",
       "      <td>0</td>\n",
       "      <td>0.000</td>\n",
       "      <td>0.000</td>\n",
       "      <td>0</td>\n",
       "      <td>0</td>\n",
       "    </tr>\n",
       "    <tr>\n",
       "      <th>2</th>\n",
       "      <td>1999</td>\n",
       "      <td>0.000</td>\n",
       "      <td>0.000</td>\n",
       "      <td>0.000</td>\n",
       "      <td>0.000</td>\n",
       "      <td>0.000</td>\n",
       "      <td>0.000</td>\n",
       "      <td>0.000</td>\n",
       "      <td>0.000</td>\n",
       "      <td>0.000</td>\n",
       "      <td>0.000</td>\n",
       "      <td>0</td>\n",
       "      <td>0</td>\n",
       "      <td>0</td>\n",
       "      <td>0</td>\n",
       "      <td>0</td>\n",
       "      <td>0</td>\n",
       "      <td>0</td>\n",
       "      <td>0</td>\n",
       "      <td>0</td>\n",
       "      <td>0</td>\n",
       "      <td>0.000</td>\n",
       "      <td>0.000</td>\n",
       "      <td>0</td>\n",
       "      <td>0</td>\n",
       "    </tr>\n",
       "    <tr>\n",
       "      <th>3</th>\n",
       "      <td>2000</td>\n",
       "      <td>0.000</td>\n",
       "      <td>0.000</td>\n",
       "      <td>0.000</td>\n",
       "      <td>0.000</td>\n",
       "      <td>0.000</td>\n",
       "      <td>0.000</td>\n",
       "      <td>0.000</td>\n",
       "      <td>0.000</td>\n",
       "      <td>0.000</td>\n",
       "      <td>0.000</td>\n",
       "      <td>0</td>\n",
       "      <td>0</td>\n",
       "      <td>0</td>\n",
       "      <td>0</td>\n",
       "      <td>0</td>\n",
       "      <td>0</td>\n",
       "      <td>0</td>\n",
       "      <td>0</td>\n",
       "      <td>0</td>\n",
       "      <td>0</td>\n",
       "      <td>0.000</td>\n",
       "      <td>0.000</td>\n",
       "      <td>0</td>\n",
       "      <td>0</td>\n",
       "    </tr>\n",
       "    <tr>\n",
       "      <th>4</th>\n",
       "      <td>2001</td>\n",
       "      <td>0.000</td>\n",
       "      <td>0.000</td>\n",
       "      <td>0.000</td>\n",
       "      <td>0.000</td>\n",
       "      <td>0.000</td>\n",
       "      <td>0.000</td>\n",
       "      <td>0.000</td>\n",
       "      <td>0.000</td>\n",
       "      <td>0.000</td>\n",
       "      <td>0.000</td>\n",
       "      <td>0</td>\n",
       "      <td>0</td>\n",
       "      <td>0</td>\n",
       "      <td>0</td>\n",
       "      <td>0</td>\n",
       "      <td>0</td>\n",
       "      <td>0</td>\n",
       "      <td>0</td>\n",
       "      <td>0</td>\n",
       "      <td>0</td>\n",
       "      <td>0.000</td>\n",
       "      <td>0.000</td>\n",
       "      <td>0</td>\n",
       "      <td>0</td>\n",
       "    </tr>\n",
       "    <tr>\n",
       "      <th>5</th>\n",
       "      <td>2002</td>\n",
       "      <td>0.000</td>\n",
       "      <td>0.000</td>\n",
       "      <td>0.000</td>\n",
       "      <td>0.000</td>\n",
       "      <td>0.000</td>\n",
       "      <td>0.000</td>\n",
       "      <td>0.000</td>\n",
       "      <td>0.000</td>\n",
       "      <td>0.000</td>\n",
       "      <td>0.000</td>\n",
       "      <td>0</td>\n",
       "      <td>0</td>\n",
       "      <td>0</td>\n",
       "      <td>0</td>\n",
       "      <td>0</td>\n",
       "      <td>0</td>\n",
       "      <td>0</td>\n",
       "      <td>0</td>\n",
       "      <td>0</td>\n",
       "      <td>0</td>\n",
       "      <td>0.000</td>\n",
       "      <td>0.000</td>\n",
       "      <td>0</td>\n",
       "      <td>0</td>\n",
       "    </tr>\n",
       "    <tr>\n",
       "      <th>6</th>\n",
       "      <td>2003</td>\n",
       "      <td>0.000</td>\n",
       "      <td>0.000</td>\n",
       "      <td>0.000</td>\n",
       "      <td>0.000</td>\n",
       "      <td>0.000</td>\n",
       "      <td>0.000</td>\n",
       "      <td>0.000</td>\n",
       "      <td>0.000</td>\n",
       "      <td>0.000</td>\n",
       "      <td>0.000</td>\n",
       "      <td>0</td>\n",
       "      <td>0</td>\n",
       "      <td>0</td>\n",
       "      <td>0</td>\n",
       "      <td>0</td>\n",
       "      <td>0</td>\n",
       "      <td>0</td>\n",
       "      <td>0</td>\n",
       "      <td>0</td>\n",
       "      <td>0</td>\n",
       "      <td>0.000</td>\n",
       "      <td>0.000</td>\n",
       "      <td>0</td>\n",
       "      <td>0</td>\n",
       "    </tr>\n",
       "    <tr>\n",
       "      <th>7</th>\n",
       "      <td>2004</td>\n",
       "      <td>0.000</td>\n",
       "      <td>218.000</td>\n",
       "      <td>64.000</td>\n",
       "      <td>163.000</td>\n",
       "      <td>171.000</td>\n",
       "      <td>145.000</td>\n",
       "      <td>470.000</td>\n",
       "      <td>427.000</td>\n",
       "      <td>128.000</td>\n",
       "      <td>1786.000</td>\n",
       "      <td>281</td>\n",
       "      <td>10117</td>\n",
       "      <td>5995</td>\n",
       "      <td>8431</td>\n",
       "      <td>8806</td>\n",
       "      <td>7588</td>\n",
       "      <td>19017</td>\n",
       "      <td>20890</td>\n",
       "      <td>12553</td>\n",
       "      <td>93678</td>\n",
       "      <td>0.000</td>\n",
       "      <td>0.000</td>\n",
       "      <td>0</td>\n",
       "      <td>0</td>\n",
       "    </tr>\n",
       "    <tr>\n",
       "      <th>8</th>\n",
       "      <td>2005</td>\n",
       "      <td>0.000</td>\n",
       "      <td>207.000</td>\n",
       "      <td>64.000</td>\n",
       "      <td>162.000</td>\n",
       "      <td>171.000</td>\n",
       "      <td>145.000</td>\n",
       "      <td>470.000</td>\n",
       "      <td>427.000</td>\n",
       "      <td>175.000</td>\n",
       "      <td>1821.000</td>\n",
       "      <td>281</td>\n",
       "      <td>9365</td>\n",
       "      <td>5995</td>\n",
       "      <td>8431</td>\n",
       "      <td>8806</td>\n",
       "      <td>7588</td>\n",
       "      <td>19017</td>\n",
       "      <td>20890</td>\n",
       "      <td>15644</td>\n",
       "      <td>96017</td>\n",
       "      <td>0.000</td>\n",
       "      <td>0.000</td>\n",
       "      <td>0</td>\n",
       "      <td>0</td>\n",
       "    </tr>\n",
       "    <tr>\n",
       "      <th>9</th>\n",
       "      <td>2006</td>\n",
       "      <td>0.000</td>\n",
       "      <td>131.000</td>\n",
       "      <td>44.000</td>\n",
       "      <td>137.000</td>\n",
       "      <td>159.000</td>\n",
       "      <td>145.000</td>\n",
       "      <td>470.000</td>\n",
       "      <td>427.000</td>\n",
       "      <td>312.000</td>\n",
       "      <td>1825.000</td>\n",
       "      <td>0</td>\n",
       "      <td>7761</td>\n",
       "      <td>5266</td>\n",
       "      <td>7848</td>\n",
       "      <td>8806</td>\n",
       "      <td>7588</td>\n",
       "      <td>19017</td>\n",
       "      <td>20890</td>\n",
       "      <td>20885</td>\n",
       "      <td>98061</td>\n",
       "      <td>0.000</td>\n",
       "      <td>0.000</td>\n",
       "      <td>0</td>\n",
       "      <td>0</td>\n",
       "    </tr>\n",
       "    <tr>\n",
       "      <th>10</th>\n",
       "      <td>2007</td>\n",
       "      <td>0.000</td>\n",
       "      <td>130.000</td>\n",
       "      <td>39.000</td>\n",
       "      <td>132.000</td>\n",
       "      <td>157.000</td>\n",
       "      <td>137.000</td>\n",
       "      <td>469.000</td>\n",
       "      <td>427.000</td>\n",
       "      <td>355.600</td>\n",
       "      <td>1846.600</td>\n",
       "      <td>0</td>\n",
       "      <td>6761</td>\n",
       "      <td>4966</td>\n",
       "      <td>7548</td>\n",
       "      <td>8806</td>\n",
       "      <td>7588</td>\n",
       "      <td>18884</td>\n",
       "      <td>20890</td>\n",
       "      <td>23207</td>\n",
       "      <td>98650</td>\n",
       "      <td>0.000</td>\n",
       "      <td>0.000</td>\n",
       "      <td>0</td>\n",
       "      <td>0</td>\n",
       "    </tr>\n",
       "    <tr>\n",
       "      <th>11</th>\n",
       "      <td>2008</td>\n",
       "      <td>0.485</td>\n",
       "      <td>238.275</td>\n",
       "      <td>66.431</td>\n",
       "      <td>164.081</td>\n",
       "      <td>175.005</td>\n",
       "      <td>121.168</td>\n",
       "      <td>202.083</td>\n",
       "      <td>502.025</td>\n",
       "      <td>364.151</td>\n",
       "      <td>1833.704</td>\n",
       "      <td>386</td>\n",
       "      <td>6477</td>\n",
       "      <td>4324</td>\n",
       "      <td>4799</td>\n",
       "      <td>4505</td>\n",
       "      <td>6006</td>\n",
       "      <td>16302</td>\n",
       "      <td>21651</td>\n",
       "      <td>24975</td>\n",
       "      <td>89425</td>\n",
       "      <td>0.000</td>\n",
       "      <td>0.000</td>\n",
       "      <td>0</td>\n",
       "      <td>0</td>\n",
       "    </tr>\n",
       "    <tr>\n",
       "      <th>12</th>\n",
       "      <td>2009</td>\n",
       "      <td>0.701</td>\n",
       "      <td>226.609</td>\n",
       "      <td>65.131</td>\n",
       "      <td>161.879</td>\n",
       "      <td>173.592</td>\n",
       "      <td>117.942</td>\n",
       "      <td>200.880</td>\n",
       "      <td>500.834</td>\n",
       "      <td>394.944</td>\n",
       "      <td>1842.512</td>\n",
       "      <td>387</td>\n",
       "      <td>6438</td>\n",
       "      <td>4254</td>\n",
       "      <td>4604</td>\n",
       "      <td>4272</td>\n",
       "      <td>5766</td>\n",
       "      <td>16125</td>\n",
       "      <td>21646</td>\n",
       "      <td>27391</td>\n",
       "      <td>90883</td>\n",
       "      <td>0.000</td>\n",
       "      <td>0.000</td>\n",
       "      <td>0</td>\n",
       "      <td>0</td>\n",
       "    </tr>\n",
       "    <tr>\n",
       "      <th>13</th>\n",
       "      <td>2010</td>\n",
       "      <td>0.000</td>\n",
       "      <td>207.138</td>\n",
       "      <td>57.897</td>\n",
       "      <td>157.279</td>\n",
       "      <td>169.470</td>\n",
       "      <td>114.645</td>\n",
       "      <td>198.275</td>\n",
       "      <td>499.824</td>\n",
       "      <td>445.025</td>\n",
       "      <td>1865.868</td>\n",
       "      <td>387</td>\n",
       "      <td>6384</td>\n",
       "      <td>4082</td>\n",
       "      <td>4298</td>\n",
       "      <td>3958</td>\n",
       "      <td>5414</td>\n",
       "      <td>15629</td>\n",
       "      <td>21210</td>\n",
       "      <td>27668</td>\n",
       "      <td>91487</td>\n",
       "      <td>16.315</td>\n",
       "      <td>0.000</td>\n",
       "      <td>2457</td>\n",
       "      <td>0</td>\n",
       "    </tr>\n",
       "    <tr>\n",
       "      <th>14</th>\n",
       "      <td>2011</td>\n",
       "      <td>0.000</td>\n",
       "      <td>154.763</td>\n",
       "      <td>52.609</td>\n",
       "      <td>146.254</td>\n",
       "      <td>156.560</td>\n",
       "      <td>108.526</td>\n",
       "      <td>196.560</td>\n",
       "      <td>510.550</td>\n",
       "      <td>522.813</td>\n",
       "      <td>1945.679</td>\n",
       "      <td>310</td>\n",
       "      <td>6345</td>\n",
       "      <td>3980</td>\n",
       "      <td>4086</td>\n",
       "      <td>3725</td>\n",
       "      <td>5156</td>\n",
       "      <td>15292</td>\n",
       "      <td>20942</td>\n",
       "      <td>27546</td>\n",
       "      <td>92522</td>\n",
       "      <td>97.044</td>\n",
       "      <td>0.000</td>\n",
       "      <td>5140</td>\n",
       "      <td>0</td>\n",
       "    </tr>\n",
       "    <tr>\n",
       "      <th>15</th>\n",
       "      <td>2012</td>\n",
       "      <td>0.000</td>\n",
       "      <td>110.563</td>\n",
       "      <td>48.128</td>\n",
       "      <td>133.167</td>\n",
       "      <td>152.800</td>\n",
       "      <td>103.339</td>\n",
       "      <td>195.878</td>\n",
       "      <td>511.350</td>\n",
       "      <td>539.140</td>\n",
       "      <td>1929.260</td>\n",
       "      <td>7219</td>\n",
       "      <td>358</td>\n",
       "      <td>2107</td>\n",
       "      <td>2594</td>\n",
       "      <td>2059</td>\n",
       "      <td>6457</td>\n",
       "      <td>19442</td>\n",
       "      <td>22681</td>\n",
       "      <td>27464</td>\n",
       "      <td>96914</td>\n",
       "      <td>134.895</td>\n",
       "      <td>0.000</td>\n",
       "      <td>6533</td>\n",
       "      <td>0</td>\n",
       "    </tr>\n",
       "    <tr>\n",
       "      <th>16</th>\n",
       "      <td>2013</td>\n",
       "      <td>0.000</td>\n",
       "      <td>96.182</td>\n",
       "      <td>38.290</td>\n",
       "      <td>123.116</td>\n",
       "      <td>137.901</td>\n",
       "      <td>95.427</td>\n",
       "      <td>190.554</td>\n",
       "      <td>509.189</td>\n",
       "      <td>546.202</td>\n",
       "      <td>1910.854</td>\n",
       "      <td>6553</td>\n",
       "      <td>337</td>\n",
       "      <td>2039</td>\n",
       "      <td>2404</td>\n",
       "      <td>1844</td>\n",
       "      <td>6251</td>\n",
       "      <td>19281</td>\n",
       "      <td>22664</td>\n",
       "      <td>27456</td>\n",
       "      <td>97822</td>\n",
       "      <td>173.993</td>\n",
       "      <td>0.000</td>\n",
       "      <td>8993</td>\n",
       "      <td>0</td>\n",
       "    </tr>\n",
       "    <tr>\n",
       "      <th>17</th>\n",
       "      <td>2014</td>\n",
       "      <td>0.000</td>\n",
       "      <td>84.572</td>\n",
       "      <td>34.061</td>\n",
       "      <td>117.259</td>\n",
       "      <td>133.252</td>\n",
       "      <td>91.952</td>\n",
       "      <td>188.171</td>\n",
       "      <td>508.551</td>\n",
       "      <td>545.024</td>\n",
       "      <td>1911.432</td>\n",
       "      <td>5697</td>\n",
       "      <td>331</td>\n",
       "      <td>2022</td>\n",
       "      <td>2348</td>\n",
       "      <td>1776</td>\n",
       "      <td>5940</td>\n",
       "      <td>18242</td>\n",
       "      <td>21425</td>\n",
       "      <td>27453</td>\n",
       "      <td>96212</td>\n",
       "      <td>208.590</td>\n",
       "      <td>0.000</td>\n",
       "      <td>10978</td>\n",
       "      <td>0</td>\n",
       "    </tr>\n",
       "    <tr>\n",
       "      <th>18</th>\n",
       "      <td>2015</td>\n",
       "      <td>0.000</td>\n",
       "      <td>78.497</td>\n",
       "      <td>30.930</td>\n",
       "      <td>111.600</td>\n",
       "      <td>129.538</td>\n",
       "      <td>90.607</td>\n",
       "      <td>186.161</td>\n",
       "      <td>508.114</td>\n",
       "      <td>545.061</td>\n",
       "      <td>1914.972</td>\n",
       "      <td>5520</td>\n",
       "      <td>324</td>\n",
       "      <td>1991</td>\n",
       "      <td>2298</td>\n",
       "      <td>1731</td>\n",
       "      <td>5897</td>\n",
       "      <td>18210</td>\n",
       "      <td>21422</td>\n",
       "      <td>27451</td>\n",
       "      <td>97002</td>\n",
       "      <td>234.464</td>\n",
       "      <td>0.000</td>\n",
       "      <td>12158</td>\n",
       "      <td>0</td>\n",
       "    </tr>\n",
       "    <tr>\n",
       "      <th>19</th>\n",
       "      <td>2016</td>\n",
       "      <td>0.000</td>\n",
       "      <td>74.139</td>\n",
       "      <td>28.486</td>\n",
       "      <td>107.663</td>\n",
       "      <td>123.495</td>\n",
       "      <td>84.963</td>\n",
       "      <td>184.256</td>\n",
       "      <td>506.649</td>\n",
       "      <td>543.822</td>\n",
       "      <td>1922.985</td>\n",
       "      <td>5243</td>\n",
       "      <td>313</td>\n",
       "      <td>1957</td>\n",
       "      <td>2196</td>\n",
       "      <td>1611</td>\n",
       "      <td>5770</td>\n",
       "      <td>18070</td>\n",
       "      <td>21351</td>\n",
       "      <td>27447</td>\n",
       "      <td>97563</td>\n",
       "      <td>269.512</td>\n",
       "      <td>0.000</td>\n",
       "      <td>13605</td>\n",
       "      <td>0</td>\n",
       "    </tr>\n",
       "    <tr>\n",
       "      <th>20</th>\n",
       "      <td>2017</td>\n",
       "      <td>0.000</td>\n",
       "      <td>67.620</td>\n",
       "      <td>25.850</td>\n",
       "      <td>104.640</td>\n",
       "      <td>121.700</td>\n",
       "      <td>81.990</td>\n",
       "      <td>182.520</td>\n",
       "      <td>505.810</td>\n",
       "      <td>543.110</td>\n",
       "      <td>1930.240</td>\n",
       "      <td>4805</td>\n",
       "      <td>301</td>\n",
       "      <td>1937</td>\n",
       "      <td>2076</td>\n",
       "      <td>1457</td>\n",
       "      <td>5634</td>\n",
       "      <td>18001</td>\n",
       "      <td>21401</td>\n",
       "      <td>27441</td>\n",
       "      <td>98565</td>\n",
       "      <td>297.000</td>\n",
       "      <td>0.000</td>\n",
       "      <td>15512</td>\n",
       "      <td>0</td>\n",
       "    </tr>\n",
       "    <tr>\n",
       "      <th>21</th>\n",
       "      <td>2018</td>\n",
       "      <td>65.520</td>\n",
       "      <td>0.260</td>\n",
       "      <td>24.180</td>\n",
       "      <td>102.820</td>\n",
       "      <td>119.520</td>\n",
       "      <td>80.990</td>\n",
       "      <td>177.910</td>\n",
       "      <td>495.030</td>\n",
       "      <td>538.700</td>\n",
       "      <td>1925.760</td>\n",
       "      <td>4622</td>\n",
       "      <td>290</td>\n",
       "      <td>1915</td>\n",
       "      <td>1967</td>\n",
       "      <td>1319</td>\n",
       "      <td>5501</td>\n",
       "      <td>17896</td>\n",
       "      <td>21390</td>\n",
       "      <td>27436</td>\n",
       "      <td>99408</td>\n",
       "      <td>320.830</td>\n",
       "      <td>0.000</td>\n",
       "      <td>17072</td>\n",
       "      <td>0</td>\n",
       "    </tr>\n",
       "    <tr>\n",
       "      <th>22</th>\n",
       "      <td>2019</td>\n",
       "      <td>61.330</td>\n",
       "      <td>1.570</td>\n",
       "      <td>31.300</td>\n",
       "      <td>98.730</td>\n",
       "      <td>129.470</td>\n",
       "      <td>70.660</td>\n",
       "      <td>206.940</td>\n",
       "      <td>503.380</td>\n",
       "      <td>487.650</td>\n",
       "      <td>1936.420</td>\n",
       "      <td>4468</td>\n",
       "      <td>278</td>\n",
       "      <td>1893</td>\n",
       "      <td>1850</td>\n",
       "      <td>1171</td>\n",
       "      <td>5360</td>\n",
       "      <td>17783</td>\n",
       "      <td>21379</td>\n",
       "      <td>27430</td>\n",
       "      <td>100567</td>\n",
       "      <td>345.390</td>\n",
       "      <td>0.000</td>\n",
       "      <td>18955</td>\n",
       "      <td>0</td>\n",
       "    </tr>\n",
       "    <tr>\n",
       "      <th>23</th>\n",
       "      <td>2020</td>\n",
       "      <td>58.020</td>\n",
       "      <td>0.230</td>\n",
       "      <td>21.740</td>\n",
       "      <td>96.960</td>\n",
       "      <td>113.870</td>\n",
       "      <td>77.810</td>\n",
       "      <td>174.740</td>\n",
       "      <td>494.000</td>\n",
       "      <td>538.400</td>\n",
       "      <td>1945.220</td>\n",
       "      <td>4385</td>\n",
       "      <td>273</td>\n",
       "      <td>1883</td>\n",
       "      <td>1807</td>\n",
       "      <td>1117</td>\n",
       "      <td>5299</td>\n",
       "      <td>17705</td>\n",
       "      <td>21330</td>\n",
       "      <td>27428</td>\n",
       "      <td>101535</td>\n",
       "      <td>348.570</td>\n",
       "      <td>20.880</td>\n",
       "      <td>18953</td>\n",
       "      <td>1355</td>\n",
       "    </tr>\n",
       "    <tr>\n",
       "      <th>24</th>\n",
       "      <td>2021</td>\n",
       "      <td>56.086</td>\n",
       "      <td>1.542</td>\n",
       "      <td>29.576</td>\n",
       "      <td>93.005</td>\n",
       "      <td>122.604</td>\n",
       "      <td>68.510</td>\n",
       "      <td>205.324</td>\n",
       "      <td>500.706</td>\n",
       "      <td>487.208</td>\n",
       "      <td>1955.897</td>\n",
       "      <td>4180</td>\n",
       "      <td>267</td>\n",
       "      <td>1864</td>\n",
       "      <td>1742</td>\n",
       "      <td>1040</td>\n",
       "      <td>5456</td>\n",
       "      <td>18573</td>\n",
       "      <td>22481</td>\n",
       "      <td>27425</td>\n",
       "      <td>105049</td>\n",
       "      <td>347.868</td>\n",
       "      <td>43.468</td>\n",
       "      <td>18950</td>\n",
       "      <td>3071</td>\n",
       "    </tr>\n",
       "    <tr>\n",
       "      <th>25</th>\n",
       "      <td>2022</td>\n",
       "      <td>52.049</td>\n",
       "      <td>0.231</td>\n",
       "      <td>21.340</td>\n",
       "      <td>91.847</td>\n",
       "      <td>110.093</td>\n",
       "      <td>75.252</td>\n",
       "      <td>172.762</td>\n",
       "      <td>492.645</td>\n",
       "      <td>539.310</td>\n",
       "      <td>1973.843</td>\n",
       "      <td>4025</td>\n",
       "      <td>264</td>\n",
       "      <td>1857</td>\n",
       "      <td>1720</td>\n",
       "      <td>1015</td>\n",
       "      <td>5376</td>\n",
       "      <td>18328</td>\n",
       "      <td>22197</td>\n",
       "      <td>27424</td>\n",
       "      <td>105517</td>\n",
       "      <td>348.595</td>\n",
       "      <td>69.719</td>\n",
       "      <td>18949</td>\n",
       "      <td>4362</td>\n",
       "    </tr>\n",
       "  </tbody>\n",
       "</table>\n",
       "</div>"
      ],
      "text/plain": [
       "    year  mains_miles_by_decade_unknown  mains_miles_by_decade_pre1940  \\\n",
       "0   1997                          0.000                          0.000   \n",
       "1   1998                          0.000                          0.000   \n",
       "2   1999                          0.000                          0.000   \n",
       "3   2000                          0.000                          0.000   \n",
       "4   2001                          0.000                          0.000   \n",
       "5   2002                          0.000                          0.000   \n",
       "6   2003                          0.000                          0.000   \n",
       "7   2004                          0.000                        218.000   \n",
       "8   2005                          0.000                        207.000   \n",
       "9   2006                          0.000                        131.000   \n",
       "10  2007                          0.000                        130.000   \n",
       "11  2008                          0.485                        238.275   \n",
       "12  2009                          0.701                        226.609   \n",
       "13  2010                          0.000                        207.138   \n",
       "14  2011                          0.000                        154.763   \n",
       "15  2012                          0.000                        110.563   \n",
       "16  2013                          0.000                         96.182   \n",
       "17  2014                          0.000                         84.572   \n",
       "18  2015                          0.000                         78.497   \n",
       "19  2016                          0.000                         74.139   \n",
       "20  2017                          0.000                         67.620   \n",
       "21  2018                         65.520                          0.260   \n",
       "22  2019                         61.330                          1.570   \n",
       "23  2020                         58.020                          0.230   \n",
       "24  2021                         56.086                          1.542   \n",
       "25  2022                         52.049                          0.231   \n",
       "\n",
       "    mains_miles_by_decade_1940_to_1949  mains_miles_by_decade_1950_to_1959  \\\n",
       "0                                0.000                               0.000   \n",
       "1                                0.000                               0.000   \n",
       "2                                0.000                               0.000   \n",
       "3                                0.000                               0.000   \n",
       "4                                0.000                               0.000   \n",
       "5                                0.000                               0.000   \n",
       "6                                0.000                               0.000   \n",
       "7                               64.000                             163.000   \n",
       "8                               64.000                             162.000   \n",
       "9                               44.000                             137.000   \n",
       "10                              39.000                             132.000   \n",
       "11                              66.431                             164.081   \n",
       "12                              65.131                             161.879   \n",
       "13                              57.897                             157.279   \n",
       "14                              52.609                             146.254   \n",
       "15                              48.128                             133.167   \n",
       "16                              38.290                             123.116   \n",
       "17                              34.061                             117.259   \n",
       "18                              30.930                             111.600   \n",
       "19                              28.486                             107.663   \n",
       "20                              25.850                             104.640   \n",
       "21                              24.180                             102.820   \n",
       "22                              31.300                              98.730   \n",
       "23                              21.740                              96.960   \n",
       "24                              29.576                              93.005   \n",
       "25                              21.340                              91.847   \n",
       "\n",
       "    mains_miles_by_decade_1960_to_1969  mains_miles_by_decade_1970_to_1979  \\\n",
       "0                                0.000                               0.000   \n",
       "1                                0.000                               0.000   \n",
       "2                                0.000                               0.000   \n",
       "3                                0.000                               0.000   \n",
       "4                                0.000                               0.000   \n",
       "5                                0.000                               0.000   \n",
       "6                                0.000                               0.000   \n",
       "7                              171.000                             145.000   \n",
       "8                              171.000                             145.000   \n",
       "9                              159.000                             145.000   \n",
       "10                             157.000                             137.000   \n",
       "11                             175.005                             121.168   \n",
       "12                             173.592                             117.942   \n",
       "13                             169.470                             114.645   \n",
       "14                             156.560                             108.526   \n",
       "15                             152.800                             103.339   \n",
       "16                             137.901                              95.427   \n",
       "17                             133.252                              91.952   \n",
       "18                             129.538                              90.607   \n",
       "19                             123.495                              84.963   \n",
       "20                             121.700                              81.990   \n",
       "21                             119.520                              80.990   \n",
       "22                             129.470                              70.660   \n",
       "23                             113.870                              77.810   \n",
       "24                             122.604                              68.510   \n",
       "25                             110.093                              75.252   \n",
       "\n",
       "    mains_miles_by_decade_1980_to_1989  mains_miles_by_decade_1990_to_1999  \\\n",
       "0                                0.000                               0.000   \n",
       "1                                0.000                               0.000   \n",
       "2                                0.000                               0.000   \n",
       "3                                0.000                               0.000   \n",
       "4                                0.000                               0.000   \n",
       "5                                0.000                               0.000   \n",
       "6                                0.000                               0.000   \n",
       "7                              470.000                             427.000   \n",
       "8                              470.000                             427.000   \n",
       "9                              470.000                             427.000   \n",
       "10                             469.000                             427.000   \n",
       "11                             202.083                             502.025   \n",
       "12                             200.880                             500.834   \n",
       "13                             198.275                             499.824   \n",
       "14                             196.560                             510.550   \n",
       "15                             195.878                             511.350   \n",
       "16                             190.554                             509.189   \n",
       "17                             188.171                             508.551   \n",
       "18                             186.161                             508.114   \n",
       "19                             184.256                             506.649   \n",
       "20                             182.520                             505.810   \n",
       "21                             177.910                             495.030   \n",
       "22                             206.940                             503.380   \n",
       "23                             174.740                             494.000   \n",
       "24                             205.324                             500.706   \n",
       "25                             172.762                             492.645   \n",
       "\n",
       "    mains_miles_by_decade_2000_to_2009  mains_miles_by_decade_total  \\\n",
       "0                                0.000                        0.000   \n",
       "1                                0.000                        0.000   \n",
       "2                                0.000                        0.000   \n",
       "3                                0.000                        0.000   \n",
       "4                                0.000                        0.000   \n",
       "5                                0.000                        0.000   \n",
       "6                                0.000                        0.000   \n",
       "7                              128.000                     1786.000   \n",
       "8                              175.000                     1821.000   \n",
       "9                              312.000                     1825.000   \n",
       "10                             355.600                     1846.600   \n",
       "11                             364.151                     1833.704   \n",
       "12                             394.944                     1842.512   \n",
       "13                             445.025                     1865.868   \n",
       "14                             522.813                     1945.679   \n",
       "15                             539.140                     1929.260   \n",
       "16                             546.202                     1910.854   \n",
       "17                             545.024                     1911.432   \n",
       "18                             545.061                     1914.972   \n",
       "19                             543.822                     1922.985   \n",
       "20                             543.110                     1930.240   \n",
       "21                             538.700                     1925.760   \n",
       "22                             487.650                     1936.420   \n",
       "23                             538.400                     1945.220   \n",
       "24                             487.208                     1955.897   \n",
       "25                             539.310                     1973.843   \n",
       "\n",
       "    number_services_by_decade_unknown  number_services_by_decade_pre1940  \\\n",
       "0                                   0                                  0   \n",
       "1                                   0                                  0   \n",
       "2                                   0                                  0   \n",
       "3                                   0                                  0   \n",
       "4                                   0                                  0   \n",
       "5                                   0                                  0   \n",
       "6                                   0                                  0   \n",
       "7                                 281                              10117   \n",
       "8                                 281                               9365   \n",
       "9                                   0                               7761   \n",
       "10                                  0                               6761   \n",
       "11                                386                               6477   \n",
       "12                                387                               6438   \n",
       "13                                387                               6384   \n",
       "14                                310                               6345   \n",
       "15                               7219                                358   \n",
       "16                               6553                                337   \n",
       "17                               5697                                331   \n",
       "18                               5520                                324   \n",
       "19                               5243                                313   \n",
       "20                               4805                                301   \n",
       "21                               4622                                290   \n",
       "22                               4468                                278   \n",
       "23                               4385                                273   \n",
       "24                               4180                                267   \n",
       "25                               4025                                264   \n",
       "\n",
       "    number_services_by_decade_1940_to_1949  \\\n",
       "0                                        0   \n",
       "1                                        0   \n",
       "2                                        0   \n",
       "3                                        0   \n",
       "4                                        0   \n",
       "5                                        0   \n",
       "6                                        0   \n",
       "7                                     5995   \n",
       "8                                     5995   \n",
       "9                                     5266   \n",
       "10                                    4966   \n",
       "11                                    4324   \n",
       "12                                    4254   \n",
       "13                                    4082   \n",
       "14                                    3980   \n",
       "15                                    2107   \n",
       "16                                    2039   \n",
       "17                                    2022   \n",
       "18                                    1991   \n",
       "19                                    1957   \n",
       "20                                    1937   \n",
       "21                                    1915   \n",
       "22                                    1893   \n",
       "23                                    1883   \n",
       "24                                    1864   \n",
       "25                                    1857   \n",
       "\n",
       "    number_services_by_decade_1950_to_1959  \\\n",
       "0                                        0   \n",
       "1                                        0   \n",
       "2                                        0   \n",
       "3                                        0   \n",
       "4                                        0   \n",
       "5                                        0   \n",
       "6                                        0   \n",
       "7                                     8431   \n",
       "8                                     8431   \n",
       "9                                     7848   \n",
       "10                                    7548   \n",
       "11                                    4799   \n",
       "12                                    4604   \n",
       "13                                    4298   \n",
       "14                                    4086   \n",
       "15                                    2594   \n",
       "16                                    2404   \n",
       "17                                    2348   \n",
       "18                                    2298   \n",
       "19                                    2196   \n",
       "20                                    2076   \n",
       "21                                    1967   \n",
       "22                                    1850   \n",
       "23                                    1807   \n",
       "24                                    1742   \n",
       "25                                    1720   \n",
       "\n",
       "    number_services_by_decade_1960_to_1969  \\\n",
       "0                                        0   \n",
       "1                                        0   \n",
       "2                                        0   \n",
       "3                                        0   \n",
       "4                                        0   \n",
       "5                                        0   \n",
       "6                                        0   \n",
       "7                                     8806   \n",
       "8                                     8806   \n",
       "9                                     8806   \n",
       "10                                    8806   \n",
       "11                                    4505   \n",
       "12                                    4272   \n",
       "13                                    3958   \n",
       "14                                    3725   \n",
       "15                                    2059   \n",
       "16                                    1844   \n",
       "17                                    1776   \n",
       "18                                    1731   \n",
       "19                                    1611   \n",
       "20                                    1457   \n",
       "21                                    1319   \n",
       "22                                    1171   \n",
       "23                                    1117   \n",
       "24                                    1040   \n",
       "25                                    1015   \n",
       "\n",
       "    number_services_by_decade_1970_to_1979  \\\n",
       "0                                        0   \n",
       "1                                        0   \n",
       "2                                        0   \n",
       "3                                        0   \n",
       "4                                        0   \n",
       "5                                        0   \n",
       "6                                        0   \n",
       "7                                     7588   \n",
       "8                                     7588   \n",
       "9                                     7588   \n",
       "10                                    7588   \n",
       "11                                    6006   \n",
       "12                                    5766   \n",
       "13                                    5414   \n",
       "14                                    5156   \n",
       "15                                    6457   \n",
       "16                                    6251   \n",
       "17                                    5940   \n",
       "18                                    5897   \n",
       "19                                    5770   \n",
       "20                                    5634   \n",
       "21                                    5501   \n",
       "22                                    5360   \n",
       "23                                    5299   \n",
       "24                                    5456   \n",
       "25                                    5376   \n",
       "\n",
       "    number_services_by_decade_1980_to_1989  \\\n",
       "0                                        0   \n",
       "1                                        0   \n",
       "2                                        0   \n",
       "3                                        0   \n",
       "4                                        0   \n",
       "5                                        0   \n",
       "6                                        0   \n",
       "7                                    19017   \n",
       "8                                    19017   \n",
       "9                                    19017   \n",
       "10                                   18884   \n",
       "11                                   16302   \n",
       "12                                   16125   \n",
       "13                                   15629   \n",
       "14                                   15292   \n",
       "15                                   19442   \n",
       "16                                   19281   \n",
       "17                                   18242   \n",
       "18                                   18210   \n",
       "19                                   18070   \n",
       "20                                   18001   \n",
       "21                                   17896   \n",
       "22                                   17783   \n",
       "23                                   17705   \n",
       "24                                   18573   \n",
       "25                                   18328   \n",
       "\n",
       "    number_services_by_decade_1990_to_1999  \\\n",
       "0                                        0   \n",
       "1                                        0   \n",
       "2                                        0   \n",
       "3                                        0   \n",
       "4                                        0   \n",
       "5                                        0   \n",
       "6                                        0   \n",
       "7                                    20890   \n",
       "8                                    20890   \n",
       "9                                    20890   \n",
       "10                                   20890   \n",
       "11                                   21651   \n",
       "12                                   21646   \n",
       "13                                   21210   \n",
       "14                                   20942   \n",
       "15                                   22681   \n",
       "16                                   22664   \n",
       "17                                   21425   \n",
       "18                                   21422   \n",
       "19                                   21351   \n",
       "20                                   21401   \n",
       "21                                   21390   \n",
       "22                                   21379   \n",
       "23                                   21330   \n",
       "24                                   22481   \n",
       "25                                   22197   \n",
       "\n",
       "    number_services_by_decade_2000_to_2009  number_services_by_decade_total  \\\n",
       "0                                        0                                0   \n",
       "1                                        0                                0   \n",
       "2                                        0                                0   \n",
       "3                                        0                                0   \n",
       "4                                        0                                0   \n",
       "5                                        0                                0   \n",
       "6                                        0                                0   \n",
       "7                                    12553                            93678   \n",
       "8                                    15644                            96017   \n",
       "9                                    20885                            98061   \n",
       "10                                   23207                            98650   \n",
       "11                                   24975                            89425   \n",
       "12                                   27391                            90883   \n",
       "13                                   27668                            91487   \n",
       "14                                   27546                            92522   \n",
       "15                                   27464                            96914   \n",
       "16                                   27456                            97822   \n",
       "17                                   27453                            96212   \n",
       "18                                   27451                            97002   \n",
       "19                                   27447                            97563   \n",
       "20                                   27441                            98565   \n",
       "21                                   27436                            99408   \n",
       "22                                   27430                           100567   \n",
       "23                                   27428                           101535   \n",
       "24                                   27425                           105049   \n",
       "25                                   27424                           105517   \n",
       "\n",
       "    mains_miles_by_decade_2010_to_2019  mains_miles_by_decade_2020_to_2029  \\\n",
       "0                                0.000                               0.000   \n",
       "1                                0.000                               0.000   \n",
       "2                                0.000                               0.000   \n",
       "3                                0.000                               0.000   \n",
       "4                                0.000                               0.000   \n",
       "5                                0.000                               0.000   \n",
       "6                                0.000                               0.000   \n",
       "7                                0.000                               0.000   \n",
       "8                                0.000                               0.000   \n",
       "9                                0.000                               0.000   \n",
       "10                               0.000                               0.000   \n",
       "11                               0.000                               0.000   \n",
       "12                               0.000                               0.000   \n",
       "13                              16.315                               0.000   \n",
       "14                              97.044                               0.000   \n",
       "15                             134.895                               0.000   \n",
       "16                             173.993                               0.000   \n",
       "17                             208.590                               0.000   \n",
       "18                             234.464                               0.000   \n",
       "19                             269.512                               0.000   \n",
       "20                             297.000                               0.000   \n",
       "21                             320.830                               0.000   \n",
       "22                             345.390                               0.000   \n",
       "23                             348.570                              20.880   \n",
       "24                             347.868                              43.468   \n",
       "25                             348.595                              69.719   \n",
       "\n",
       "    number_services_by_decade_2010_to_2019  \\\n",
       "0                                        0   \n",
       "1                                        0   \n",
       "2                                        0   \n",
       "3                                        0   \n",
       "4                                        0   \n",
       "5                                        0   \n",
       "6                                        0   \n",
       "7                                        0   \n",
       "8                                        0   \n",
       "9                                        0   \n",
       "10                                       0   \n",
       "11                                       0   \n",
       "12                                       0   \n",
       "13                                    2457   \n",
       "14                                    5140   \n",
       "15                                    6533   \n",
       "16                                    8993   \n",
       "17                                   10978   \n",
       "18                                   12158   \n",
       "19                                   13605   \n",
       "20                                   15512   \n",
       "21                                   17072   \n",
       "22                                   18955   \n",
       "23                                   18953   \n",
       "24                                   18950   \n",
       "25                                   18949   \n",
       "\n",
       "    number_services_by_decade_2020_to_2029  \n",
       "0                                        0  \n",
       "1                                        0  \n",
       "2                                        0  \n",
       "3                                        0  \n",
       "4                                        0  \n",
       "5                                        0  \n",
       "6                                        0  \n",
       "7                                        0  \n",
       "8                                        0  \n",
       "9                                        0  \n",
       "10                                       0  \n",
       "11                                       0  \n",
       "12                                       0  \n",
       "13                                       0  \n",
       "14                                       0  \n",
       "15                                       0  \n",
       "16                                       0  \n",
       "17                                       0  \n",
       "18                                       0  \n",
       "19                                       0  \n",
       "20                                       0  \n",
       "21                                       0  \n",
       "22                                       0  \n",
       "23                                    1355  \n",
       "24                                    3071  \n",
       "25                                    4362  "
      ]
     },
     "execution_count": 562,
     "metadata": {},
     "output_type": "execute_result"
    }
   ],
   "source": [
    "eia_phmsa[[\"year\", *[col for col in eia_phmsa.columns if \"decade\" in col]]]"
   ]
  },
  {
   "cell_type": "code",
   "execution_count": 567,
   "metadata": {},
   "outputs": [],
   "source": [
    "decade_variables_suffix = [\n",
    "    (\"unknown\", \"Unknown\"),\n",
    "    (\"pre1940\", \"Pre 1940\"),\n",
    "    (\"1940_to_1949\", \"1940s\"),\n",
    "    (\"1950_to_1959\", \"1950s\"),\n",
    "    (\"1960_to_1969\", \"1960s\"),\n",
    "    (\"1970_to_1979\", \"1970s\"),\n",
    "    (\"1980_to_1989\", \"1980s\"),\n",
    "    (\"1990_to_1999\", \"1990s\"),\n",
    "    (\"2000_to_2009\", \"2000s\"),\n",
    "    (\"2010_to_2019\", \"2010s\"),\n",
    "    (\"2020_to_2029\", \"2020s\"),\n",
    "]\n",
    "\n",
    "decades_variables_mains = pd.DataFrame(\n",
    "    [(f\"mains_miles_by_decade_{decade}\", label) for decade, label in decade_variables_suffix], \n",
    "    columns=['decade_variable', 'decade'])\n",
    "decades_variables_services = pd.DataFrame(\n",
    "    [(f\"number_services_by_decade_{decade}\", label) for decade, label in decade_variables_suffix], \n",
    "    columns=['decade_variable', 'decade'])"
   ]
  },
  {
   "cell_type": "code",
   "execution_count": 570,
   "metadata": {},
   "outputs": [],
   "source": [
    "melted_decades_mains = eia_phmsa[[\"year\", *decades_variables_mains['decade_variable'].to_list()]].melt(\n",
    "    id_vars=['year'],\n",
    "    #value_vars=['Mains miles'],\n",
    "    var_name='decade_variable', \n",
    "    value_name='Mains miles',\n",
    ").merge(\n",
    "    decades_variables_mains,\n",
    "    on='decade_variable'\n",
    ")\n",
    "\n",
    "melted_decades_services = eia_phmsa[[\"year\", *decades_variables_services['decade_variable'].to_list()]].melt(\n",
    "    id_vars=['year'],\n",
    "    #value_vars=['Mains miles'],\n",
    "    var_name='decade_variable', \n",
    "    value_name='Number of services',\n",
    ").merge(\n",
    "    decades_variables_services,\n",
    "    on='decade_variable'\n",
    ").merge(\n",
    "    eia_phmsa[['year', 'average_service_length']]\n",
    ")\n",
    "\n",
    "# Convert length in feet to miles\n",
    "melted_decades_services['Services miles'] = (melted_decades_services['average_service_length'] / 5280) * melted_decades_services['Number of services']\n"
   ]
  },
  {
   "cell_type": "code",
   "execution_count": 589,
   "metadata": {},
   "outputs": [
    {
     "data": {
      "application/vnd.plotly.v1+json": {
       "config": {
        "plotlyServerURL": "https://plot.ly"
       },
       "data": [
        {
         "fillpattern": {
          "shape": ""
         },
         "legendgroup": "Unknown",
         "line": {
          "color": "#df2935"
         },
         "marker": {
          "symbol": "circle"
         },
         "mode": "lines",
         "name": "Unknown",
         "orientation": "v",
         "showlegend": true,
         "stackgroup": "1",
         "type": "scatter",
         "x": [
          1997,
          1998,
          1999,
          2000,
          2001,
          2002,
          2003,
          2004,
          2005,
          2006,
          2007,
          2008,
          2009,
          2010,
          2011,
          2012,
          2013,
          2014,
          2015,
          2016,
          2017,
          2018,
          2019,
          2020,
          2021,
          2022
         ],
         "xaxis": "x",
         "y": [
          0,
          0,
          0,
          0,
          0,
          0,
          0,
          0,
          0,
          0,
          0,
          0.485,
          0.701,
          0,
          0,
          0,
          0,
          0,
          0,
          0,
          0,
          65.52,
          61.33,
          58.02,
          56.086,
          52.049
         ],
         "yaxis": "y"
        },
        {
         "fillpattern": {
          "shape": ""
         },
         "legendgroup": "Pre 1940",
         "line": {
          "color": "#00224e"
         },
         "marker": {
          "symbol": "circle"
         },
         "mode": "lines",
         "name": "Pre 1940",
         "orientation": "v",
         "showlegend": true,
         "stackgroup": "1",
         "type": "scatter",
         "x": [
          1997,
          1998,
          1999,
          2000,
          2001,
          2002,
          2003,
          2004,
          2005,
          2006,
          2007,
          2008,
          2009,
          2010,
          2011,
          2012,
          2013,
          2014,
          2015,
          2016,
          2017,
          2018,
          2019,
          2020,
          2021,
          2022
         ],
         "xaxis": "x",
         "y": [
          0,
          0,
          0,
          0,
          0,
          0,
          0,
          218,
          207,
          131,
          130,
          238.275,
          226.609,
          207.138,
          154.763,
          110.563,
          96.182,
          84.572,
          78.497,
          74.139,
          67.62,
          0.26,
          1.57,
          0.23,
          1.542,
          0.231
         ],
         "yaxis": "y"
        },
        {
         "fillpattern": {
          "shape": ""
         },
         "legendgroup": "1940s",
         "line": {
          "color": "#123570"
         },
         "marker": {
          "symbol": "circle"
         },
         "mode": "lines",
         "name": "1940s",
         "orientation": "v",
         "showlegend": true,
         "stackgroup": "1",
         "type": "scatter",
         "x": [
          1997,
          1998,
          1999,
          2000,
          2001,
          2002,
          2003,
          2004,
          2005,
          2006,
          2007,
          2008,
          2009,
          2010,
          2011,
          2012,
          2013,
          2014,
          2015,
          2016,
          2017,
          2018,
          2019,
          2020,
          2021,
          2022
         ],
         "xaxis": "x",
         "y": [
          0,
          0,
          0,
          0,
          0,
          0,
          0,
          64,
          64,
          44,
          39,
          66.431,
          65.131,
          57.897,
          52.609,
          48.128,
          38.29,
          34.061,
          30.93,
          28.486,
          25.85,
          24.18,
          31.3,
          21.74,
          29.576,
          21.34
         ],
         "yaxis": "y"
        },
        {
         "fillpattern": {
          "shape": ""
         },
         "legendgroup": "1950s",
         "line": {
          "color": "#3b496c"
         },
         "marker": {
          "symbol": "circle"
         },
         "mode": "lines",
         "name": "1950s",
         "orientation": "v",
         "showlegend": true,
         "stackgroup": "1",
         "type": "scatter",
         "x": [
          1997,
          1998,
          1999,
          2000,
          2001,
          2002,
          2003,
          2004,
          2005,
          2006,
          2007,
          2008,
          2009,
          2010,
          2011,
          2012,
          2013,
          2014,
          2015,
          2016,
          2017,
          2018,
          2019,
          2020,
          2021,
          2022
         ],
         "xaxis": "x",
         "y": [
          0,
          0,
          0,
          0,
          0,
          0,
          0,
          163,
          162,
          137,
          132,
          164.081,
          161.879,
          157.279,
          146.254,
          133.167,
          123.116,
          117.259,
          111.6,
          107.663,
          104.64,
          102.82,
          98.73,
          96.96,
          93.005,
          91.847
         ],
         "yaxis": "y"
        },
        {
         "fillpattern": {
          "shape": ""
         },
         "legendgroup": "1960s",
         "line": {
          "color": "#575d6d"
         },
         "marker": {
          "symbol": "circle"
         },
         "mode": "lines",
         "name": "1960s",
         "orientation": "v",
         "showlegend": true,
         "stackgroup": "1",
         "type": "scatter",
         "x": [
          1997,
          1998,
          1999,
          2000,
          2001,
          2002,
          2003,
          2004,
          2005,
          2006,
          2007,
          2008,
          2009,
          2010,
          2011,
          2012,
          2013,
          2014,
          2015,
          2016,
          2017,
          2018,
          2019,
          2020,
          2021,
          2022
         ],
         "xaxis": "x",
         "y": [
          0,
          0,
          0,
          0,
          0,
          0,
          0,
          171,
          171,
          159,
          157,
          175.005,
          173.592,
          169.47,
          156.56,
          152.8,
          137.901,
          133.252,
          129.538,
          123.495,
          121.7,
          119.52,
          129.47,
          113.87,
          122.604,
          110.093
         ],
         "yaxis": "y"
        },
        {
         "fillpattern": {
          "shape": ""
         },
         "legendgroup": "1970s",
         "line": {
          "color": "#707173"
         },
         "marker": {
          "symbol": "circle"
         },
         "mode": "lines",
         "name": "1970s",
         "orientation": "v",
         "showlegend": true,
         "stackgroup": "1",
         "type": "scatter",
         "x": [
          1997,
          1998,
          1999,
          2000,
          2001,
          2002,
          2003,
          2004,
          2005,
          2006,
          2007,
          2008,
          2009,
          2010,
          2011,
          2012,
          2013,
          2014,
          2015,
          2016,
          2017,
          2018,
          2019,
          2020,
          2021,
          2022
         ],
         "xaxis": "x",
         "y": [
          0,
          0,
          0,
          0,
          0,
          0,
          0,
          145,
          145,
          145,
          137,
          121.168,
          117.942,
          114.645,
          108.526,
          103.339,
          95.427,
          91.952,
          90.607,
          84.963,
          81.99,
          80.99,
          70.66,
          77.81,
          68.51,
          75.252
         ],
         "yaxis": "y"
        },
        {
         "fillpattern": {
          "shape": ""
         },
         "legendgroup": "1980s",
         "line": {
          "color": "#8a8678"
         },
         "marker": {
          "symbol": "circle"
         },
         "mode": "lines",
         "name": "1980s",
         "orientation": "v",
         "showlegend": true,
         "stackgroup": "1",
         "type": "scatter",
         "x": [
          1997,
          1998,
          1999,
          2000,
          2001,
          2002,
          2003,
          2004,
          2005,
          2006,
          2007,
          2008,
          2009,
          2010,
          2011,
          2012,
          2013,
          2014,
          2015,
          2016,
          2017,
          2018,
          2019,
          2020,
          2021,
          2022
         ],
         "xaxis": "x",
         "y": [
          0,
          0,
          0,
          0,
          0,
          0,
          0,
          470,
          470,
          470,
          469,
          202.083,
          200.88,
          198.275,
          196.56,
          195.878,
          190.554,
          188.171,
          186.161,
          184.256,
          182.52,
          177.91,
          206.94,
          174.74,
          205.324,
          172.762
         ],
         "yaxis": "y"
        },
        {
         "fillpattern": {
          "shape": ""
         },
         "legendgroup": "1990s",
         "line": {
          "color": "#a59c74"
         },
         "marker": {
          "symbol": "circle"
         },
         "mode": "lines",
         "name": "1990s",
         "orientation": "v",
         "showlegend": true,
         "stackgroup": "1",
         "type": "scatter",
         "x": [
          1997,
          1998,
          1999,
          2000,
          2001,
          2002,
          2003,
          2004,
          2005,
          2006,
          2007,
          2008,
          2009,
          2010,
          2011,
          2012,
          2013,
          2014,
          2015,
          2016,
          2017,
          2018,
          2019,
          2020,
          2021,
          2022
         ],
         "xaxis": "x",
         "y": [
          0,
          0,
          0,
          0,
          0,
          0,
          0,
          427,
          427,
          427,
          427,
          502.025,
          500.834,
          499.824,
          510.55,
          511.35,
          509.189,
          508.551,
          508.114,
          506.649,
          505.81,
          495.03,
          503.38,
          494,
          500.706,
          492.645
         ],
         "yaxis": "y"
        },
        {
         "fillpattern": {
          "shape": ""
         },
         "legendgroup": "2000s",
         "line": {
          "color": "#c3b369"
         },
         "marker": {
          "symbol": "circle"
         },
         "mode": "lines",
         "name": "2000s",
         "orientation": "v",
         "showlegend": true,
         "stackgroup": "1",
         "type": "scatter",
         "x": [
          1997,
          1998,
          1999,
          2000,
          2001,
          2002,
          2003,
          2004,
          2005,
          2006,
          2007,
          2008,
          2009,
          2010,
          2011,
          2012,
          2013,
          2014,
          2015,
          2016,
          2017,
          2018,
          2019,
          2020,
          2021,
          2022
         ],
         "xaxis": "x",
         "y": [
          0,
          0,
          0,
          0,
          0,
          0,
          0,
          128,
          175,
          312,
          355.6,
          364.151,
          394.944,
          445.025,
          522.813,
          539.14,
          546.202,
          545.024,
          545.061,
          543.822,
          543.11,
          538.7,
          487.65,
          538.4,
          487.208,
          539.31
         ],
         "yaxis": "y"
        },
        {
         "fillpattern": {
          "shape": ""
         },
         "legendgroup": "2010s",
         "line": {
          "color": "#e1cc55"
         },
         "marker": {
          "symbol": "circle"
         },
         "mode": "lines",
         "name": "2010s",
         "orientation": "v",
         "showlegend": true,
         "stackgroup": "1",
         "type": "scatter",
         "x": [
          1997,
          1998,
          1999,
          2000,
          2001,
          2002,
          2003,
          2004,
          2005,
          2006,
          2007,
          2008,
          2009,
          2010,
          2011,
          2012,
          2013,
          2014,
          2015,
          2016,
          2017,
          2018,
          2019,
          2020,
          2021,
          2022
         ],
         "xaxis": "x",
         "y": [
          0,
          0,
          0,
          0,
          0,
          0,
          0,
          0,
          0,
          0,
          0,
          0,
          0,
          16.315,
          97.044,
          134.895,
          173.993,
          208.59,
          234.464,
          269.512,
          297,
          320.83,
          345.39,
          348.57,
          347.868,
          348.595
         ],
         "yaxis": "y"
        },
        {
         "fillpattern": {
          "shape": ""
         },
         "legendgroup": "2020s",
         "line": {
          "color": "#fee838"
         },
         "marker": {
          "symbol": "circle"
         },
         "mode": "lines",
         "name": "2020s",
         "orientation": "v",
         "showlegend": true,
         "stackgroup": "1",
         "type": "scatter",
         "x": [
          1997,
          1998,
          1999,
          2000,
          2001,
          2002,
          2003,
          2004,
          2005,
          2006,
          2007,
          2008,
          2009,
          2010,
          2011,
          2012,
          2013,
          2014,
          2015,
          2016,
          2017,
          2018,
          2019,
          2020,
          2021,
          2022
         ],
         "xaxis": "x",
         "y": [
          0,
          0,
          0,
          0,
          0,
          0,
          0,
          0,
          0,
          0,
          0,
          0,
          0,
          0,
          0,
          0,
          0,
          0,
          0,
          0,
          0,
          0,
          0,
          20.88,
          43.468,
          69.719
         ],
         "yaxis": "y"
        }
       ],
       "layout": {
        "hovermode": "x unified",
        "legend": {
         "title": {
          "text": "Decade"
         },
         "tracegroupgap": 0
        },
        "template": {
         "data": {
          "bar": [
           {
            "error_x": {
             "color": "rgb(51,51,51)"
            },
            "error_y": {
             "color": "rgb(51,51,51)"
            },
            "marker": {
             "line": {
              "color": "rgb(237,237,237)",
              "width": 0.5
             },
             "pattern": {
              "fillmode": "overlay",
              "size": 10,
              "solidity": 0.2
             }
            },
            "type": "bar"
           }
          ],
          "barpolar": [
           {
            "marker": {
             "line": {
              "color": "rgb(237,237,237)",
              "width": 0.5
             },
             "pattern": {
              "fillmode": "overlay",
              "size": 10,
              "solidity": 0.2
             }
            },
            "type": "barpolar"
           }
          ],
          "carpet": [
           {
            "aaxis": {
             "endlinecolor": "rgb(51,51,51)",
             "gridcolor": "white",
             "linecolor": "white",
             "minorgridcolor": "white",
             "startlinecolor": "rgb(51,51,51)"
            },
            "baxis": {
             "endlinecolor": "rgb(51,51,51)",
             "gridcolor": "white",
             "linecolor": "white",
             "minorgridcolor": "white",
             "startlinecolor": "rgb(51,51,51)"
            },
            "type": "carpet"
           }
          ],
          "choropleth": [
           {
            "colorbar": {
             "outlinewidth": 0,
             "tickcolor": "rgb(237,237,237)",
             "ticklen": 6,
             "ticks": "inside"
            },
            "type": "choropleth"
           }
          ],
          "contour": [
           {
            "colorbar": {
             "outlinewidth": 0,
             "tickcolor": "rgb(237,237,237)",
             "ticklen": 6,
             "ticks": "inside"
            },
            "colorscale": [
             [
              0,
              "rgb(20,44,66)"
             ],
             [
              1,
              "rgb(90,179,244)"
             ]
            ],
            "type": "contour"
           }
          ],
          "contourcarpet": [
           {
            "colorbar": {
             "outlinewidth": 0,
             "tickcolor": "rgb(237,237,237)",
             "ticklen": 6,
             "ticks": "inside"
            },
            "type": "contourcarpet"
           }
          ],
          "heatmap": [
           {
            "colorbar": {
             "outlinewidth": 0,
             "tickcolor": "rgb(237,237,237)",
             "ticklen": 6,
             "ticks": "inside"
            },
            "colorscale": [
             [
              0,
              "rgb(20,44,66)"
             ],
             [
              1,
              "rgb(90,179,244)"
             ]
            ],
            "type": "heatmap"
           }
          ],
          "heatmapgl": [
           {
            "colorbar": {
             "outlinewidth": 0,
             "tickcolor": "rgb(237,237,237)",
             "ticklen": 6,
             "ticks": "inside"
            },
            "colorscale": [
             [
              0,
              "rgb(20,44,66)"
             ],
             [
              1,
              "rgb(90,179,244)"
             ]
            ],
            "type": "heatmapgl"
           }
          ],
          "histogram": [
           {
            "marker": {
             "pattern": {
              "fillmode": "overlay",
              "size": 10,
              "solidity": 0.2
             }
            },
            "type": "histogram"
           }
          ],
          "histogram2d": [
           {
            "colorbar": {
             "outlinewidth": 0,
             "tickcolor": "rgb(237,237,237)",
             "ticklen": 6,
             "ticks": "inside"
            },
            "colorscale": [
             [
              0,
              "rgb(20,44,66)"
             ],
             [
              1,
              "rgb(90,179,244)"
             ]
            ],
            "type": "histogram2d"
           }
          ],
          "histogram2dcontour": [
           {
            "colorbar": {
             "outlinewidth": 0,
             "tickcolor": "rgb(237,237,237)",
             "ticklen": 6,
             "ticks": "inside"
            },
            "colorscale": [
             [
              0,
              "rgb(20,44,66)"
             ],
             [
              1,
              "rgb(90,179,244)"
             ]
            ],
            "type": "histogram2dcontour"
           }
          ],
          "mesh3d": [
           {
            "colorbar": {
             "outlinewidth": 0,
             "tickcolor": "rgb(237,237,237)",
             "ticklen": 6,
             "ticks": "inside"
            },
            "type": "mesh3d"
           }
          ],
          "parcoords": [
           {
            "line": {
             "colorbar": {
              "outlinewidth": 0,
              "tickcolor": "rgb(237,237,237)",
              "ticklen": 6,
              "ticks": "inside"
             }
            },
            "type": "parcoords"
           }
          ],
          "pie": [
           {
            "automargin": true,
            "type": "pie"
           }
          ],
          "scatter": [
           {
            "fillpattern": {
             "fillmode": "overlay",
             "size": 10,
             "solidity": 0.2
            },
            "type": "scatter"
           }
          ],
          "scatter3d": [
           {
            "line": {
             "colorbar": {
              "outlinewidth": 0,
              "tickcolor": "rgb(237,237,237)",
              "ticklen": 6,
              "ticks": "inside"
             }
            },
            "marker": {
             "colorbar": {
              "outlinewidth": 0,
              "tickcolor": "rgb(237,237,237)",
              "ticklen": 6,
              "ticks": "inside"
             }
            },
            "type": "scatter3d"
           }
          ],
          "scattercarpet": [
           {
            "marker": {
             "colorbar": {
              "outlinewidth": 0,
              "tickcolor": "rgb(237,237,237)",
              "ticklen": 6,
              "ticks": "inside"
             }
            },
            "type": "scattercarpet"
           }
          ],
          "scattergeo": [
           {
            "marker": {
             "colorbar": {
              "outlinewidth": 0,
              "tickcolor": "rgb(237,237,237)",
              "ticklen": 6,
              "ticks": "inside"
             }
            },
            "type": "scattergeo"
           }
          ],
          "scattergl": [
           {
            "marker": {
             "colorbar": {
              "outlinewidth": 0,
              "tickcolor": "rgb(237,237,237)",
              "ticklen": 6,
              "ticks": "inside"
             }
            },
            "type": "scattergl"
           }
          ],
          "scattermapbox": [
           {
            "marker": {
             "colorbar": {
              "outlinewidth": 0,
              "tickcolor": "rgb(237,237,237)",
              "ticklen": 6,
              "ticks": "inside"
             }
            },
            "type": "scattermapbox"
           }
          ],
          "scatterpolar": [
           {
            "marker": {
             "colorbar": {
              "outlinewidth": 0,
              "tickcolor": "rgb(237,237,237)",
              "ticklen": 6,
              "ticks": "inside"
             }
            },
            "type": "scatterpolar"
           }
          ],
          "scatterpolargl": [
           {
            "marker": {
             "colorbar": {
              "outlinewidth": 0,
              "tickcolor": "rgb(237,237,237)",
              "ticklen": 6,
              "ticks": "inside"
             }
            },
            "type": "scatterpolargl"
           }
          ],
          "scatterternary": [
           {
            "marker": {
             "colorbar": {
              "outlinewidth": 0,
              "tickcolor": "rgb(237,237,237)",
              "ticklen": 6,
              "ticks": "inside"
             }
            },
            "type": "scatterternary"
           }
          ],
          "surface": [
           {
            "colorbar": {
             "outlinewidth": 0,
             "tickcolor": "rgb(237,237,237)",
             "ticklen": 6,
             "ticks": "inside"
            },
            "colorscale": [
             [
              0,
              "rgb(20,44,66)"
             ],
             [
              1,
              "rgb(90,179,244)"
             ]
            ],
            "type": "surface"
           }
          ],
          "table": [
           {
            "cells": {
             "fill": {
              "color": "rgb(237,237,237)"
             },
             "line": {
              "color": "white"
             }
            },
            "header": {
             "fill": {
              "color": "rgb(217,217,217)"
             },
             "line": {
              "color": "white"
             }
            },
            "type": "table"
           }
          ]
         },
         "layout": {
          "annotationdefaults": {
           "arrowhead": 0,
           "arrowwidth": 1
          },
          "annotations": [
           {
            "font": {
             "color": "black",
             "size": 12
            },
            "name": "created by",
            "opacity": 0.9,
            "showarrow": false,
            "text": "Created by Electrify RVA",
            "x": -0.05,
            "xref": "paper",
            "y": -0.25,
            "yref": "paper"
           }
          ],
          "autotypenumbers": "strict",
          "coloraxis": {
           "colorbar": {
            "outlinewidth": 0,
            "tickcolor": "rgb(237,237,237)",
            "ticklen": 6,
            "ticks": "inside"
           }
          },
          "colorscale": {
           "sequential": [
            [
             0,
             "rgb(20,44,66)"
            ],
            [
             1,
             "rgb(90,179,244)"
            ]
           ],
           "sequentialminus": [
            [
             0,
             "rgb(20,44,66)"
            ],
            [
             1,
             "rgb(90,179,244)"
            ]
           ]
          },
          "colorway": [
           "#007C77",
           "#1a1b41",
           "#f48668",
           "#f2bb05",
           "#E2A0FF",
           "#8acb88"
          ],
          "font": {
           "color": "rgb(51,51,51)"
          },
          "geo": {
           "bgcolor": "white",
           "lakecolor": "white",
           "landcolor": "rgb(237,237,237)",
           "showlakes": true,
           "showland": true,
           "subunitcolor": "white"
          },
          "hoverlabel": {
           "align": "left"
          },
          "hovermode": "x unified",
          "paper_bgcolor": "white",
          "plot_bgcolor": "rgb(237,237,237)",
          "polar": {
           "angularaxis": {
            "gridcolor": "white",
            "linecolor": "white",
            "showgrid": true,
            "tickcolor": "rgb(51,51,51)",
            "ticks": "outside"
           },
           "bgcolor": "rgb(237,237,237)",
           "radialaxis": {
            "gridcolor": "white",
            "linecolor": "white",
            "showgrid": true,
            "tickcolor": "rgb(51,51,51)",
            "ticks": "outside"
           }
          },
          "scene": {
           "xaxis": {
            "backgroundcolor": "rgb(237,237,237)",
            "gridcolor": "white",
            "gridwidth": 2,
            "linecolor": "white",
            "showbackground": true,
            "showgrid": true,
            "tickcolor": "rgb(51,51,51)",
            "ticks": "outside",
            "zerolinecolor": "white"
           },
           "yaxis": {
            "backgroundcolor": "rgb(237,237,237)",
            "gridcolor": "white",
            "gridwidth": 2,
            "linecolor": "white",
            "showbackground": true,
            "showgrid": true,
            "tickcolor": "rgb(51,51,51)",
            "ticks": "outside",
            "zerolinecolor": "white"
           },
           "zaxis": {
            "backgroundcolor": "rgb(237,237,237)",
            "gridcolor": "white",
            "gridwidth": 2,
            "linecolor": "white",
            "showbackground": true,
            "showgrid": true,
            "tickcolor": "rgb(51,51,51)",
            "ticks": "outside",
            "zerolinecolor": "white"
           }
          },
          "shapedefaults": {
           "fillcolor": "black",
           "line": {
            "width": 0
           },
           "opacity": 0.3
          },
          "ternary": {
           "aaxis": {
            "gridcolor": "white",
            "linecolor": "white",
            "showgrid": true,
            "tickcolor": "rgb(51,51,51)",
            "ticks": "outside"
           },
           "baxis": {
            "gridcolor": "white",
            "linecolor": "white",
            "showgrid": true,
            "tickcolor": "rgb(51,51,51)",
            "ticks": "outside"
           },
           "bgcolor": "rgb(237,237,237)",
           "caxis": {
            "gridcolor": "white",
            "linecolor": "white",
            "showgrid": true,
            "tickcolor": "rgb(51,51,51)",
            "ticks": "outside"
           }
          },
          "title": {
           "x": 0.05
          },
          "xaxis": {
           "automargin": true,
           "gridcolor": "white",
           "linecolor": "white",
           "showgrid": true,
           "tickcolor": "rgb(51,51,51)",
           "ticks": "outside",
           "title": {
            "standoff": 15
           },
           "zerolinecolor": "white"
          },
          "yaxis": {
           "automargin": true,
           "gridcolor": "white",
           "linecolor": "white",
           "showgrid": true,
           "tickcolor": "rgb(51,51,51)",
           "tickformat": ",.0f",
           "ticks": "outside",
           "title": {
            "standoff": 15
           },
           "zerolinecolor": "white"
          }
         }
        },
        "title": {
         "text": "Mains miles by decade"
        },
        "xaxis": {
         "anchor": "y",
         "domain": [
          0,
          1
         ],
         "range": [
          2004,
          2022
         ],
         "title": {
          "text": ""
         }
        },
        "yaxis": {
         "anchor": "x",
         "domain": [
          0,
          1
         ],
         "title": {
          "text": "Mains miles"
         }
        }
       }
      }
     },
     "metadata": {},
     "output_type": "display_data"
    }
   ],
   "source": [
    "fig = px.area(\n",
    "    melted_decades_mains, x=\"year\", y=\"Mains miles\", title=\"Mains miles by decade\", color=\"decade\",\n",
    "    labels={ \"year\": \"\", \"decade\": \"Decade\"},\n",
    "    #hover_data=[\"material_specific\"],\n",
    "    #color_discrete_map={'Unknown': HIGHLIGHT_COLOR},\n",
    "    color_discrete_sequence=[HIGHLIGHT_COLOR, *px.colors.sequential.Cividis],\n",
    ")\n",
    "\n",
    "fig.update_traces(hovertemplate=None)\n",
    "#fig.update_traces(hovertemplate = '%{customdata[0]} : %{y}')  #'year=%{customdata[0]}<br>label=%{customdata[1]}<extra></extra>')\n",
    "fig.update_layout(hovermode='x unified')\n",
    "fig.update_xaxes(range=[2004, 2022])\n",
    "\n",
    "\n",
    "\n",
    "fig.show()\n",
    "fig.write_html(\"../docs/_includes/charts/decades_mains_miles.html\", include_plotlyjs=\"cdn\")"
   ]
  },
  {
   "cell_type": "code",
   "execution_count": 590,
   "metadata": {},
   "outputs": [
    {
     "data": {
      "application/vnd.plotly.v1+json": {
       "config": {
        "plotlyServerURL": "https://plot.ly"
       },
       "data": [
        {
         "fillpattern": {
          "shape": ""
         },
         "legendgroup": "Unknown",
         "line": {
          "color": "#df2935"
         },
         "marker": {
          "symbol": "circle"
         },
         "mode": "lines",
         "name": "Unknown",
         "orientation": "v",
         "showlegend": true,
         "stackgroup": "1",
         "type": "scatter",
         "x": [
          1997,
          1998,
          1999,
          2000,
          2001,
          2002,
          2003,
          2004,
          2005,
          2006,
          2007,
          2008,
          2009,
          2010,
          2011,
          2012,
          2013,
          2014,
          2015,
          2016,
          2017,
          2018,
          2019,
          2020,
          2021,
          2022
         ],
         "xaxis": "x",
         "y": [
          0,
          0,
          0,
          0,
          0,
          0,
          0,
          5.321969696969697,
          5.321969696969697,
          0,
          0,
          7.3106060606060606,
          7.329545454545455,
          4.471022727272727,
          3.581439393939394,
          84.7685606060606,
          76.94810606060605,
          66.8965909090909,
          64.81818181818181,
          61.5655303030303,
          56.422348484848484,
          54.27348484848485,
          52.46515151515151,
          51.4905303030303,
          49.08333333333333,
          47.26325757575757
         ],
         "yaxis": "y"
        },
        {
         "fillpattern": {
          "shape": ""
         },
         "legendgroup": "Pre 1940",
         "line": {
          "color": "#00224e"
         },
         "marker": {
          "symbol": "circle"
         },
         "mode": "lines",
         "name": "Pre 1940",
         "orientation": "v",
         "showlegend": true,
         "stackgroup": "1",
         "type": "scatter",
         "x": [
          1997,
          1998,
          1999,
          2000,
          2001,
          2002,
          2003,
          2004,
          2005,
          2006,
          2007,
          2008,
          2009,
          2010,
          2011,
          2012,
          2013,
          2014,
          2015,
          2016,
          2017,
          2018,
          2019,
          2020,
          2021,
          2022
         ],
         "xaxis": "x",
         "y": [
          0,
          0,
          0,
          0,
          0,
          0,
          0,
          191.6098484848485,
          177.36742424242425,
          146.98863636363637,
          128.04924242424244,
          122.67045454545455,
          121.93181818181819,
          73.75454545454545,
          73.30397727272727,
          4.203787878787878,
          3.9571969696969695,
          3.886742424242424,
          3.8045454545454542,
          3.675378787878788,
          3.5344696969696967,
          3.4053030303030303,
          3.264393939393939,
          3.205681818181818,
          3.1352272727272728,
          3.0999999999999996
         ],
         "yaxis": "y"
        },
        {
         "fillpattern": {
          "shape": ""
         },
         "legendgroup": "1940s",
         "line": {
          "color": "#123570"
         },
         "marker": {
          "symbol": "circle"
         },
         "mode": "lines",
         "name": "1940s",
         "orientation": "v",
         "showlegend": true,
         "stackgroup": "1",
         "type": "scatter",
         "x": [
          1997,
          1998,
          1999,
          2000,
          2001,
          2002,
          2003,
          2004,
          2005,
          2006,
          2007,
          2008,
          2009,
          2010,
          2011,
          2012,
          2013,
          2014,
          2015,
          2016,
          2017,
          2018,
          2019,
          2020,
          2021,
          2022
         ],
         "xaxis": "x",
         "y": [
          0,
          0,
          0,
          0,
          0,
          0,
          0,
          113.54166666666667,
          113.54166666666667,
          99.73484848484848,
          94.05303030303031,
          81.89393939393939,
          80.56818181818183,
          47.159469696969694,
          45.9810606060606,
          24.741287878787876,
          23.94280303030303,
          23.743181818181817,
          23.379166666666666,
          22.97992424242424,
          22.745075757575755,
          22.486742424242422,
          22.22840909090909,
          22.110984848484847,
          21.887878787878787,
          21.805681818181817
         ],
         "yaxis": "y"
        },
        {
         "fillpattern": {
          "shape": ""
         },
         "legendgroup": "1950s",
         "line": {
          "color": "#3b496c"
         },
         "marker": {
          "symbol": "circle"
         },
         "mode": "lines",
         "name": "1950s",
         "orientation": "v",
         "showlegend": true,
         "stackgroup": "1",
         "type": "scatter",
         "x": [
          1997,
          1998,
          1999,
          2000,
          2001,
          2002,
          2003,
          2004,
          2005,
          2006,
          2007,
          2008,
          2009,
          2010,
          2011,
          2012,
          2013,
          2014,
          2015,
          2016,
          2017,
          2018,
          2019,
          2020,
          2021,
          2022
         ],
         "xaxis": "x",
         "y": [
          0,
          0,
          0,
          0,
          0,
          0,
          0,
          159.6780303030303,
          159.6780303030303,
          148.63636363636365,
          142.95454545454547,
          90.89015151515152,
          87.1969696969697,
          49.654924242424244,
          47.205681818181816,
          30.459848484848482,
          28.228787878787877,
          27.57121212121212,
          26.984090909090906,
          25.786363636363635,
          24.377272727272725,
          23.097348484848485,
          21.723484848484848,
          21.218560606060606,
          20.45530303030303,
          20.196969696969695
         ],
         "yaxis": "y"
        },
        {
         "fillpattern": {
          "shape": ""
         },
         "legendgroup": "1960s",
         "line": {
          "color": "#575d6d"
         },
         "marker": {
          "symbol": "circle"
         },
         "mode": "lines",
         "name": "1960s",
         "orientation": "v",
         "showlegend": true,
         "stackgroup": "1",
         "type": "scatter",
         "x": [
          1997,
          1998,
          1999,
          2000,
          2001,
          2002,
          2003,
          2004,
          2005,
          2006,
          2007,
          2008,
          2009,
          2010,
          2011,
          2012,
          2013,
          2014,
          2015,
          2016,
          2017,
          2018,
          2019,
          2020,
          2021,
          2022
         ],
         "xaxis": "x",
         "y": [
          0,
          0,
          0,
          0,
          0,
          0,
          0,
          166.78030303030303,
          166.78030303030303,
          166.78030303030303,
          166.78030303030303,
          85.3219696969697,
          80.9090909090909,
          45.72689393939394,
          43.035037878787875,
          24.177651515151513,
          21.653030303030302,
          20.854545454545452,
          20.326136363636362,
          18.917045454545452,
          17.108712121212122,
          15.488257575757574,
          13.750378787878788,
          13.116287878787878,
          12.212121212121211,
          11.918560606060606
         ],
         "yaxis": "y"
        },
        {
         "fillpattern": {
          "shape": ""
         },
         "legendgroup": "1970s",
         "line": {
          "color": "#707173"
         },
         "marker": {
          "symbol": "circle"
         },
         "mode": "lines",
         "name": "1970s",
         "orientation": "v",
         "showlegend": true,
         "stackgroup": "1",
         "type": "scatter",
         "x": [
          1997,
          1998,
          1999,
          2000,
          2001,
          2002,
          2003,
          2004,
          2005,
          2006,
          2007,
          2008,
          2009,
          2010,
          2011,
          2012,
          2013,
          2014,
          2015,
          2016,
          2017,
          2018,
          2019,
          2020,
          2021,
          2022
         ],
         "xaxis": "x",
         "y": [
          0,
          0,
          0,
          0,
          0,
          0,
          0,
          143.71212121212122,
          143.71212121212122,
          143.71212121212122,
          143.71212121212122,
          113.75,
          109.20454545454545,
          62.54810606060606,
          59.56742424242424,
          75.82083333333333,
          73.40189393939393,
          69.75,
          69.24507575757575,
          67.75378787878788,
          66.15681818181818,
          64.59507575757576,
          62.93939393939394,
          62.22310606060606,
          64.06666666666666,
          63.127272727272725
         ],
         "yaxis": "y"
        },
        {
         "fillpattern": {
          "shape": ""
         },
         "legendgroup": "1980s",
         "line": {
          "color": "#8a8678"
         },
         "marker": {
          "symbol": "circle"
         },
         "mode": "lines",
         "name": "1980s",
         "orientation": "v",
         "showlegend": true,
         "stackgroup": "1",
         "type": "scatter",
         "x": [
          1997,
          1998,
          1999,
          2000,
          2001,
          2002,
          2003,
          2004,
          2005,
          2006,
          2007,
          2008,
          2009,
          2010,
          2011,
          2012,
          2013,
          2014,
          2015,
          2016,
          2017,
          2018,
          2019,
          2020,
          2021,
          2022
         ],
         "xaxis": "x",
         "y": [
          0,
          0,
          0,
          0,
          0,
          0,
          0,
          360.17045454545456,
          360.17045454545456,
          360.17045454545456,
          357.6515151515152,
          308.75,
          305.3977272727273,
          180.5623106060606,
          176.66893939393938,
          228.2962121212121,
          226.4056818181818,
          214.205303030303,
          213.82954545454544,
          212.18560606060603,
          211.3753787878788,
          210.14242424242423,
          208.8155303030303,
          207.8996212121212,
          218.09204545454543,
          215.2151515151515
         ],
         "yaxis": "y"
        },
        {
         "fillpattern": {
          "shape": ""
         },
         "legendgroup": "1990s",
         "line": {
          "color": "#a59c74"
         },
         "marker": {
          "symbol": "circle"
         },
         "mode": "lines",
         "name": "1990s",
         "orientation": "v",
         "showlegend": true,
         "stackgroup": "1",
         "type": "scatter",
         "x": [
          1997,
          1998,
          1999,
          2000,
          2001,
          2002,
          2003,
          2004,
          2005,
          2006,
          2007,
          2008,
          2009,
          2010,
          2011,
          2012,
          2013,
          2014,
          2015,
          2016,
          2017,
          2018,
          2019,
          2020,
          2021,
          2022
         ],
         "xaxis": "x",
         "y": [
          0,
          0,
          0,
          0,
          0,
          0,
          0,
          395.6439393939394,
          395.6439393939394,
          395.6439393939394,
          395.6439393939394,
          410.0568181818182,
          409.96212121212125,
          245.03977272727272,
          241.9435606060606,
          266.3299242424242,
          266.130303030303,
          251.58143939393938,
          251.5462121212121,
          250.71249999999998,
          251.2996212121212,
          251.17045454545453,
          251.04128787878787,
          250.46590909090907,
          263.98143939393935,
          260.6465909090909
         ],
         "yaxis": "y"
        },
        {
         "fillpattern": {
          "shape": ""
         },
         "legendgroup": "2000s",
         "line": {
          "color": "#c3b369"
         },
         "marker": {
          "symbol": "circle"
         },
         "mode": "lines",
         "name": "2000s",
         "orientation": "v",
         "showlegend": true,
         "stackgroup": "1",
         "type": "scatter",
         "x": [
          1997,
          1998,
          1999,
          2000,
          2001,
          2002,
          2003,
          2004,
          2005,
          2006,
          2007,
          2008,
          2009,
          2010,
          2011,
          2012,
          2013,
          2014,
          2015,
          2016,
          2017,
          2018,
          2019,
          2020,
          2021,
          2022
         ],
         "xaxis": "x",
         "y": [
          0,
          0,
          0,
          0,
          0,
          0,
          0,
          237.74621212121212,
          296.2878787878788,
          395.54924242424244,
          439.5265151515152,
          473.0113636363636,
          518.7689393939394,
          319.6492424242424,
          318.23977272727274,
          322.4939393939394,
          322.4,
          322.3647727272727,
          322.34128787878785,
          322.29431818181814,
          322.2238636363636,
          322.1651515151515,
          322.09469696969694,
          322.0712121212121,
          322.0359848484848,
          322.0242424242424
         ],
         "yaxis": "y"
        },
        {
         "fillpattern": {
          "shape": ""
         },
         "legendgroup": "2010s",
         "line": {
          "color": "#e1cc55"
         },
         "marker": {
          "symbol": "circle"
         },
         "mode": "lines",
         "name": "2010s",
         "orientation": "v",
         "showlegend": true,
         "stackgroup": "1",
         "type": "scatter",
         "x": [
          1997,
          1998,
          1999,
          2000,
          2001,
          2002,
          2003,
          2004,
          2005,
          2006,
          2007,
          2008,
          2009,
          2010,
          2011,
          2012,
          2013,
          2014,
          2015,
          2016,
          2017,
          2018,
          2019,
          2020,
          2021,
          2022
         ],
         "xaxis": "x",
         "y": [
          0,
          0,
          0,
          0,
          0,
          0,
          0,
          0,
          0,
          0,
          0,
          0,
          0,
          28.385795454545455,
          59.38257575757576,
          76.71325757575757,
          105.5996212121212,
          128.90833333333333,
          142.76439393939393,
          159.7556818181818,
          182.14848484848483,
          200.46666666666667,
          222.5776515151515,
          222.55416666666665,
          222.51893939393938,
          222.50719696969696
         ],
         "yaxis": "y"
        },
        {
         "fillpattern": {
          "shape": ""
         },
         "legendgroup": "2020s",
         "line": {
          "color": "#fee838"
         },
         "marker": {
          "symbol": "circle"
         },
         "mode": "lines",
         "name": "2020s",
         "orientation": "v",
         "showlegend": true,
         "stackgroup": "1",
         "type": "scatter",
         "x": [
          1997,
          1998,
          1999,
          2000,
          2001,
          2002,
          2003,
          2004,
          2005,
          2006,
          2007,
          2008,
          2009,
          2010,
          2011,
          2012,
          2013,
          2014,
          2015,
          2016,
          2017,
          2018,
          2019,
          2020,
          2021,
          2022
         ],
         "xaxis": "x",
         "y": [
          0,
          0,
          0,
          0,
          0,
          0,
          0,
          0,
          0,
          0,
          0,
          0,
          0,
          0,
          0,
          0,
          0,
          0,
          0,
          0,
          0,
          0,
          0,
          15.910984848484848,
          36.06098484848484,
          51.220454545454544
         ],
         "yaxis": "y"
        }
       ],
       "layout": {
        "hovermode": "x unified",
        "legend": {
         "title": {
          "text": "Decade"
         },
         "tracegroupgap": 0
        },
        "template": {
         "data": {
          "bar": [
           {
            "error_x": {
             "color": "rgb(51,51,51)"
            },
            "error_y": {
             "color": "rgb(51,51,51)"
            },
            "marker": {
             "line": {
              "color": "rgb(237,237,237)",
              "width": 0.5
             },
             "pattern": {
              "fillmode": "overlay",
              "size": 10,
              "solidity": 0.2
             }
            },
            "type": "bar"
           }
          ],
          "barpolar": [
           {
            "marker": {
             "line": {
              "color": "rgb(237,237,237)",
              "width": 0.5
             },
             "pattern": {
              "fillmode": "overlay",
              "size": 10,
              "solidity": 0.2
             }
            },
            "type": "barpolar"
           }
          ],
          "carpet": [
           {
            "aaxis": {
             "endlinecolor": "rgb(51,51,51)",
             "gridcolor": "white",
             "linecolor": "white",
             "minorgridcolor": "white",
             "startlinecolor": "rgb(51,51,51)"
            },
            "baxis": {
             "endlinecolor": "rgb(51,51,51)",
             "gridcolor": "white",
             "linecolor": "white",
             "minorgridcolor": "white",
             "startlinecolor": "rgb(51,51,51)"
            },
            "type": "carpet"
           }
          ],
          "choropleth": [
           {
            "colorbar": {
             "outlinewidth": 0,
             "tickcolor": "rgb(237,237,237)",
             "ticklen": 6,
             "ticks": "inside"
            },
            "type": "choropleth"
           }
          ],
          "contour": [
           {
            "colorbar": {
             "outlinewidth": 0,
             "tickcolor": "rgb(237,237,237)",
             "ticklen": 6,
             "ticks": "inside"
            },
            "colorscale": [
             [
              0,
              "rgb(20,44,66)"
             ],
             [
              1,
              "rgb(90,179,244)"
             ]
            ],
            "type": "contour"
           }
          ],
          "contourcarpet": [
           {
            "colorbar": {
             "outlinewidth": 0,
             "tickcolor": "rgb(237,237,237)",
             "ticklen": 6,
             "ticks": "inside"
            },
            "type": "contourcarpet"
           }
          ],
          "heatmap": [
           {
            "colorbar": {
             "outlinewidth": 0,
             "tickcolor": "rgb(237,237,237)",
             "ticklen": 6,
             "ticks": "inside"
            },
            "colorscale": [
             [
              0,
              "rgb(20,44,66)"
             ],
             [
              1,
              "rgb(90,179,244)"
             ]
            ],
            "type": "heatmap"
           }
          ],
          "heatmapgl": [
           {
            "colorbar": {
             "outlinewidth": 0,
             "tickcolor": "rgb(237,237,237)",
             "ticklen": 6,
             "ticks": "inside"
            },
            "colorscale": [
             [
              0,
              "rgb(20,44,66)"
             ],
             [
              1,
              "rgb(90,179,244)"
             ]
            ],
            "type": "heatmapgl"
           }
          ],
          "histogram": [
           {
            "marker": {
             "pattern": {
              "fillmode": "overlay",
              "size": 10,
              "solidity": 0.2
             }
            },
            "type": "histogram"
           }
          ],
          "histogram2d": [
           {
            "colorbar": {
             "outlinewidth": 0,
             "tickcolor": "rgb(237,237,237)",
             "ticklen": 6,
             "ticks": "inside"
            },
            "colorscale": [
             [
              0,
              "rgb(20,44,66)"
             ],
             [
              1,
              "rgb(90,179,244)"
             ]
            ],
            "type": "histogram2d"
           }
          ],
          "histogram2dcontour": [
           {
            "colorbar": {
             "outlinewidth": 0,
             "tickcolor": "rgb(237,237,237)",
             "ticklen": 6,
             "ticks": "inside"
            },
            "colorscale": [
             [
              0,
              "rgb(20,44,66)"
             ],
             [
              1,
              "rgb(90,179,244)"
             ]
            ],
            "type": "histogram2dcontour"
           }
          ],
          "mesh3d": [
           {
            "colorbar": {
             "outlinewidth": 0,
             "tickcolor": "rgb(237,237,237)",
             "ticklen": 6,
             "ticks": "inside"
            },
            "type": "mesh3d"
           }
          ],
          "parcoords": [
           {
            "line": {
             "colorbar": {
              "outlinewidth": 0,
              "tickcolor": "rgb(237,237,237)",
              "ticklen": 6,
              "ticks": "inside"
             }
            },
            "type": "parcoords"
           }
          ],
          "pie": [
           {
            "automargin": true,
            "type": "pie"
           }
          ],
          "scatter": [
           {
            "fillpattern": {
             "fillmode": "overlay",
             "size": 10,
             "solidity": 0.2
            },
            "type": "scatter"
           }
          ],
          "scatter3d": [
           {
            "line": {
             "colorbar": {
              "outlinewidth": 0,
              "tickcolor": "rgb(237,237,237)",
              "ticklen": 6,
              "ticks": "inside"
             }
            },
            "marker": {
             "colorbar": {
              "outlinewidth": 0,
              "tickcolor": "rgb(237,237,237)",
              "ticklen": 6,
              "ticks": "inside"
             }
            },
            "type": "scatter3d"
           }
          ],
          "scattercarpet": [
           {
            "marker": {
             "colorbar": {
              "outlinewidth": 0,
              "tickcolor": "rgb(237,237,237)",
              "ticklen": 6,
              "ticks": "inside"
             }
            },
            "type": "scattercarpet"
           }
          ],
          "scattergeo": [
           {
            "marker": {
             "colorbar": {
              "outlinewidth": 0,
              "tickcolor": "rgb(237,237,237)",
              "ticklen": 6,
              "ticks": "inside"
             }
            },
            "type": "scattergeo"
           }
          ],
          "scattergl": [
           {
            "marker": {
             "colorbar": {
              "outlinewidth": 0,
              "tickcolor": "rgb(237,237,237)",
              "ticklen": 6,
              "ticks": "inside"
             }
            },
            "type": "scattergl"
           }
          ],
          "scattermapbox": [
           {
            "marker": {
             "colorbar": {
              "outlinewidth": 0,
              "tickcolor": "rgb(237,237,237)",
              "ticklen": 6,
              "ticks": "inside"
             }
            },
            "type": "scattermapbox"
           }
          ],
          "scatterpolar": [
           {
            "marker": {
             "colorbar": {
              "outlinewidth": 0,
              "tickcolor": "rgb(237,237,237)",
              "ticklen": 6,
              "ticks": "inside"
             }
            },
            "type": "scatterpolar"
           }
          ],
          "scatterpolargl": [
           {
            "marker": {
             "colorbar": {
              "outlinewidth": 0,
              "tickcolor": "rgb(237,237,237)",
              "ticklen": 6,
              "ticks": "inside"
             }
            },
            "type": "scatterpolargl"
           }
          ],
          "scatterternary": [
           {
            "marker": {
             "colorbar": {
              "outlinewidth": 0,
              "tickcolor": "rgb(237,237,237)",
              "ticklen": 6,
              "ticks": "inside"
             }
            },
            "type": "scatterternary"
           }
          ],
          "surface": [
           {
            "colorbar": {
             "outlinewidth": 0,
             "tickcolor": "rgb(237,237,237)",
             "ticklen": 6,
             "ticks": "inside"
            },
            "colorscale": [
             [
              0,
              "rgb(20,44,66)"
             ],
             [
              1,
              "rgb(90,179,244)"
             ]
            ],
            "type": "surface"
           }
          ],
          "table": [
           {
            "cells": {
             "fill": {
              "color": "rgb(237,237,237)"
             },
             "line": {
              "color": "white"
             }
            },
            "header": {
             "fill": {
              "color": "rgb(217,217,217)"
             },
             "line": {
              "color": "white"
             }
            },
            "type": "table"
           }
          ]
         },
         "layout": {
          "annotationdefaults": {
           "arrowhead": 0,
           "arrowwidth": 1
          },
          "annotations": [
           {
            "font": {
             "color": "black",
             "size": 12
            },
            "name": "created by",
            "opacity": 0.9,
            "showarrow": false,
            "text": "Created by Electrify RVA",
            "x": -0.05,
            "xref": "paper",
            "y": -0.25,
            "yref": "paper"
           }
          ],
          "autotypenumbers": "strict",
          "coloraxis": {
           "colorbar": {
            "outlinewidth": 0,
            "tickcolor": "rgb(237,237,237)",
            "ticklen": 6,
            "ticks": "inside"
           }
          },
          "colorscale": {
           "sequential": [
            [
             0,
             "rgb(20,44,66)"
            ],
            [
             1,
             "rgb(90,179,244)"
            ]
           ],
           "sequentialminus": [
            [
             0,
             "rgb(20,44,66)"
            ],
            [
             1,
             "rgb(90,179,244)"
            ]
           ]
          },
          "colorway": [
           "#007C77",
           "#1a1b41",
           "#f48668",
           "#f2bb05",
           "#E2A0FF",
           "#8acb88"
          ],
          "font": {
           "color": "rgb(51,51,51)"
          },
          "geo": {
           "bgcolor": "white",
           "lakecolor": "white",
           "landcolor": "rgb(237,237,237)",
           "showlakes": true,
           "showland": true,
           "subunitcolor": "white"
          },
          "hoverlabel": {
           "align": "left"
          },
          "hovermode": "x unified",
          "paper_bgcolor": "white",
          "plot_bgcolor": "rgb(237,237,237)",
          "polar": {
           "angularaxis": {
            "gridcolor": "white",
            "linecolor": "white",
            "showgrid": true,
            "tickcolor": "rgb(51,51,51)",
            "ticks": "outside"
           },
           "bgcolor": "rgb(237,237,237)",
           "radialaxis": {
            "gridcolor": "white",
            "linecolor": "white",
            "showgrid": true,
            "tickcolor": "rgb(51,51,51)",
            "ticks": "outside"
           }
          },
          "scene": {
           "xaxis": {
            "backgroundcolor": "rgb(237,237,237)",
            "gridcolor": "white",
            "gridwidth": 2,
            "linecolor": "white",
            "showbackground": true,
            "showgrid": true,
            "tickcolor": "rgb(51,51,51)",
            "ticks": "outside",
            "zerolinecolor": "white"
           },
           "yaxis": {
            "backgroundcolor": "rgb(237,237,237)",
            "gridcolor": "white",
            "gridwidth": 2,
            "linecolor": "white",
            "showbackground": true,
            "showgrid": true,
            "tickcolor": "rgb(51,51,51)",
            "ticks": "outside",
            "zerolinecolor": "white"
           },
           "zaxis": {
            "backgroundcolor": "rgb(237,237,237)",
            "gridcolor": "white",
            "gridwidth": 2,
            "linecolor": "white",
            "showbackground": true,
            "showgrid": true,
            "tickcolor": "rgb(51,51,51)",
            "ticks": "outside",
            "zerolinecolor": "white"
           }
          },
          "shapedefaults": {
           "fillcolor": "black",
           "line": {
            "width": 0
           },
           "opacity": 0.3
          },
          "ternary": {
           "aaxis": {
            "gridcolor": "white",
            "linecolor": "white",
            "showgrid": true,
            "tickcolor": "rgb(51,51,51)",
            "ticks": "outside"
           },
           "baxis": {
            "gridcolor": "white",
            "linecolor": "white",
            "showgrid": true,
            "tickcolor": "rgb(51,51,51)",
            "ticks": "outside"
           },
           "bgcolor": "rgb(237,237,237)",
           "caxis": {
            "gridcolor": "white",
            "linecolor": "white",
            "showgrid": true,
            "tickcolor": "rgb(51,51,51)",
            "ticks": "outside"
           }
          },
          "title": {
           "x": 0.05
          },
          "xaxis": {
           "automargin": true,
           "gridcolor": "white",
           "linecolor": "white",
           "showgrid": true,
           "tickcolor": "rgb(51,51,51)",
           "ticks": "outside",
           "title": {
            "standoff": 15
           },
           "zerolinecolor": "white"
          },
          "yaxis": {
           "automargin": true,
           "gridcolor": "white",
           "linecolor": "white",
           "showgrid": true,
           "tickcolor": "rgb(51,51,51)",
           "tickformat": ",.0f",
           "ticks": "outside",
           "title": {
            "standoff": 15
           },
           "zerolinecolor": "white"
          }
         }
        },
        "title": {
         "text": "Services miles by decade"
        },
        "xaxis": {
         "anchor": "y",
         "domain": [
          0,
          1
         ],
         "range": [
          2004,
          2022
         ],
         "title": {
          "text": ""
         }
        },
        "yaxis": {
         "anchor": "x",
         "domain": [
          0,
          1
         ],
         "title": {
          "text": "Services miles"
         }
        }
       }
      }
     },
     "metadata": {},
     "output_type": "display_data"
    }
   ],
   "source": [
    "fig = px.area(\n",
    "    melted_decades_services, x=\"year\", y=\"Services miles\", title=\"Services miles by decade\", color=\"decade\",\n",
    "    labels={ \"year\": \"\", \"decade\": \"Decade\"},\n",
    "    #hover_data=[\"material_specific\"],\n",
    "    #color_discrete_map={'Unknown': HIGHLIGHT_COLOR},\n",
    "    color_discrete_sequence=[HIGHLIGHT_COLOR, *px.colors.sequential.Cividis],\n",
    ")\n",
    "\n",
    "fig.update_traces(hovertemplate=None)\n",
    "#fig.update_traces(hovertemplate = '%{customdata[0]} : %{y}')  #'year=%{customdata[0]}<br>label=%{customdata[1]}<extra></extra>')\n",
    "fig.update_layout(hovermode='x unified')\n",
    "fig.update_xaxes(range=[2004, 2022])\n",
    "\n",
    "\n",
    "\n",
    "fig.show()\n",
    "fig.write_html(\"../docs/_includes/charts/decades_services_miles.html\", include_plotlyjs=\"cdn\")"
   ]
  },
  {
   "cell_type": "code",
   "execution_count": 591,
   "metadata": {},
   "outputs": [
    {
     "data": {
      "application/vnd.plotly.v1+json": {
       "config": {
        "plotlyServerURL": "https://plot.ly"
       },
       "data": [
        {
         "fillpattern": {
          "shape": ""
         },
         "legendgroup": "Unknown",
         "line": {
          "color": "#df2935"
         },
         "marker": {
          "symbol": "circle"
         },
         "mode": "lines",
         "name": "Unknown",
         "orientation": "v",
         "showlegend": true,
         "stackgroup": "1",
         "type": "scatter",
         "x": [
          1997,
          1998,
          1999,
          2000,
          2001,
          2002,
          2003,
          2004,
          2005,
          2006,
          2007,
          2008,
          2009,
          2010,
          2011,
          2012,
          2013,
          2014,
          2015,
          2016,
          2017,
          2018,
          2019,
          2020,
          2021,
          2022
         ],
         "xaxis": "x",
         "y": [
          0,
          0,
          0,
          0,
          0,
          0,
          0,
          281,
          281,
          0,
          0,
          386,
          387,
          387,
          310,
          7219,
          6553,
          5697,
          5520,
          5243,
          4805,
          4622,
          4468,
          4385,
          4180,
          4025
         ],
         "yaxis": "y"
        },
        {
         "fillpattern": {
          "shape": ""
         },
         "legendgroup": "Pre 1940",
         "line": {
          "color": "#00224e"
         },
         "marker": {
          "symbol": "circle"
         },
         "mode": "lines",
         "name": "Pre 1940",
         "orientation": "v",
         "showlegend": true,
         "stackgroup": "1",
         "type": "scatter",
         "x": [
          1997,
          1998,
          1999,
          2000,
          2001,
          2002,
          2003,
          2004,
          2005,
          2006,
          2007,
          2008,
          2009,
          2010,
          2011,
          2012,
          2013,
          2014,
          2015,
          2016,
          2017,
          2018,
          2019,
          2020,
          2021,
          2022
         ],
         "xaxis": "x",
         "y": [
          0,
          0,
          0,
          0,
          0,
          0,
          0,
          10117,
          9365,
          7761,
          6761,
          6477,
          6438,
          6384,
          6345,
          358,
          337,
          331,
          324,
          313,
          301,
          290,
          278,
          273,
          267,
          264
         ],
         "yaxis": "y"
        },
        {
         "fillpattern": {
          "shape": ""
         },
         "legendgroup": "1940s",
         "line": {
          "color": "#123570"
         },
         "marker": {
          "symbol": "circle"
         },
         "mode": "lines",
         "name": "1940s",
         "orientation": "v",
         "showlegend": true,
         "stackgroup": "1",
         "type": "scatter",
         "x": [
          1997,
          1998,
          1999,
          2000,
          2001,
          2002,
          2003,
          2004,
          2005,
          2006,
          2007,
          2008,
          2009,
          2010,
          2011,
          2012,
          2013,
          2014,
          2015,
          2016,
          2017,
          2018,
          2019,
          2020,
          2021,
          2022
         ],
         "xaxis": "x",
         "y": [
          0,
          0,
          0,
          0,
          0,
          0,
          0,
          5995,
          5995,
          5266,
          4966,
          4324,
          4254,
          4082,
          3980,
          2107,
          2039,
          2022,
          1991,
          1957,
          1937,
          1915,
          1893,
          1883,
          1864,
          1857
         ],
         "yaxis": "y"
        },
        {
         "fillpattern": {
          "shape": ""
         },
         "legendgroup": "1950s",
         "line": {
          "color": "#3b496c"
         },
         "marker": {
          "symbol": "circle"
         },
         "mode": "lines",
         "name": "1950s",
         "orientation": "v",
         "showlegend": true,
         "stackgroup": "1",
         "type": "scatter",
         "x": [
          1997,
          1998,
          1999,
          2000,
          2001,
          2002,
          2003,
          2004,
          2005,
          2006,
          2007,
          2008,
          2009,
          2010,
          2011,
          2012,
          2013,
          2014,
          2015,
          2016,
          2017,
          2018,
          2019,
          2020,
          2021,
          2022
         ],
         "xaxis": "x",
         "y": [
          0,
          0,
          0,
          0,
          0,
          0,
          0,
          8431,
          8431,
          7848,
          7548,
          4799,
          4604,
          4298,
          4086,
          2594,
          2404,
          2348,
          2298,
          2196,
          2076,
          1967,
          1850,
          1807,
          1742,
          1720
         ],
         "yaxis": "y"
        },
        {
         "fillpattern": {
          "shape": ""
         },
         "legendgroup": "1960s",
         "line": {
          "color": "#575d6d"
         },
         "marker": {
          "symbol": "circle"
         },
         "mode": "lines",
         "name": "1960s",
         "orientation": "v",
         "showlegend": true,
         "stackgroup": "1",
         "type": "scatter",
         "x": [
          1997,
          1998,
          1999,
          2000,
          2001,
          2002,
          2003,
          2004,
          2005,
          2006,
          2007,
          2008,
          2009,
          2010,
          2011,
          2012,
          2013,
          2014,
          2015,
          2016,
          2017,
          2018,
          2019,
          2020,
          2021,
          2022
         ],
         "xaxis": "x",
         "y": [
          0,
          0,
          0,
          0,
          0,
          0,
          0,
          8806,
          8806,
          8806,
          8806,
          4505,
          4272,
          3958,
          3725,
          2059,
          1844,
          1776,
          1731,
          1611,
          1457,
          1319,
          1171,
          1117,
          1040,
          1015
         ],
         "yaxis": "y"
        },
        {
         "fillpattern": {
          "shape": ""
         },
         "legendgroup": "1970s",
         "line": {
          "color": "#707173"
         },
         "marker": {
          "symbol": "circle"
         },
         "mode": "lines",
         "name": "1970s",
         "orientation": "v",
         "showlegend": true,
         "stackgroup": "1",
         "type": "scatter",
         "x": [
          1997,
          1998,
          1999,
          2000,
          2001,
          2002,
          2003,
          2004,
          2005,
          2006,
          2007,
          2008,
          2009,
          2010,
          2011,
          2012,
          2013,
          2014,
          2015,
          2016,
          2017,
          2018,
          2019,
          2020,
          2021,
          2022
         ],
         "xaxis": "x",
         "y": [
          0,
          0,
          0,
          0,
          0,
          0,
          0,
          7588,
          7588,
          7588,
          7588,
          6006,
          5766,
          5414,
          5156,
          6457,
          6251,
          5940,
          5897,
          5770,
          5634,
          5501,
          5360,
          5299,
          5456,
          5376
         ],
         "yaxis": "y"
        },
        {
         "fillpattern": {
          "shape": ""
         },
         "legendgroup": "1980s",
         "line": {
          "color": "#8a8678"
         },
         "marker": {
          "symbol": "circle"
         },
         "mode": "lines",
         "name": "1980s",
         "orientation": "v",
         "showlegend": true,
         "stackgroup": "1",
         "type": "scatter",
         "x": [
          1997,
          1998,
          1999,
          2000,
          2001,
          2002,
          2003,
          2004,
          2005,
          2006,
          2007,
          2008,
          2009,
          2010,
          2011,
          2012,
          2013,
          2014,
          2015,
          2016,
          2017,
          2018,
          2019,
          2020,
          2021,
          2022
         ],
         "xaxis": "x",
         "y": [
          0,
          0,
          0,
          0,
          0,
          0,
          0,
          19017,
          19017,
          19017,
          18884,
          16302,
          16125,
          15629,
          15292,
          19442,
          19281,
          18242,
          18210,
          18070,
          18001,
          17896,
          17783,
          17705,
          18573,
          18328
         ],
         "yaxis": "y"
        },
        {
         "fillpattern": {
          "shape": ""
         },
         "legendgroup": "1990s",
         "line": {
          "color": "#a59c74"
         },
         "marker": {
          "symbol": "circle"
         },
         "mode": "lines",
         "name": "1990s",
         "orientation": "v",
         "showlegend": true,
         "stackgroup": "1",
         "type": "scatter",
         "x": [
          1997,
          1998,
          1999,
          2000,
          2001,
          2002,
          2003,
          2004,
          2005,
          2006,
          2007,
          2008,
          2009,
          2010,
          2011,
          2012,
          2013,
          2014,
          2015,
          2016,
          2017,
          2018,
          2019,
          2020,
          2021,
          2022
         ],
         "xaxis": "x",
         "y": [
          0,
          0,
          0,
          0,
          0,
          0,
          0,
          20890,
          20890,
          20890,
          20890,
          21651,
          21646,
          21210,
          20942,
          22681,
          22664,
          21425,
          21422,
          21351,
          21401,
          21390,
          21379,
          21330,
          22481,
          22197
         ],
         "yaxis": "y"
        },
        {
         "fillpattern": {
          "shape": ""
         },
         "legendgroup": "2000s",
         "line": {
          "color": "#c3b369"
         },
         "marker": {
          "symbol": "circle"
         },
         "mode": "lines",
         "name": "2000s",
         "orientation": "v",
         "showlegend": true,
         "stackgroup": "1",
         "type": "scatter",
         "x": [
          1997,
          1998,
          1999,
          2000,
          2001,
          2002,
          2003,
          2004,
          2005,
          2006,
          2007,
          2008,
          2009,
          2010,
          2011,
          2012,
          2013,
          2014,
          2015,
          2016,
          2017,
          2018,
          2019,
          2020,
          2021,
          2022
         ],
         "xaxis": "x",
         "y": [
          0,
          0,
          0,
          0,
          0,
          0,
          0,
          12553,
          15644,
          20885,
          23207,
          24975,
          27391,
          27668,
          27546,
          27464,
          27456,
          27453,
          27451,
          27447,
          27441,
          27436,
          27430,
          27428,
          27425,
          27424
         ],
         "yaxis": "y"
        },
        {
         "fillpattern": {
          "shape": ""
         },
         "legendgroup": "2010s",
         "line": {
          "color": "#e1cc55"
         },
         "marker": {
          "symbol": "circle"
         },
         "mode": "lines",
         "name": "2010s",
         "orientation": "v",
         "showlegend": true,
         "stackgroup": "1",
         "type": "scatter",
         "x": [
          1997,
          1998,
          1999,
          2000,
          2001,
          2002,
          2003,
          2004,
          2005,
          2006,
          2007,
          2008,
          2009,
          2010,
          2011,
          2012,
          2013,
          2014,
          2015,
          2016,
          2017,
          2018,
          2019,
          2020,
          2021,
          2022
         ],
         "xaxis": "x",
         "y": [
          0,
          0,
          0,
          0,
          0,
          0,
          0,
          0,
          0,
          0,
          0,
          0,
          0,
          2457,
          5140,
          6533,
          8993,
          10978,
          12158,
          13605,
          15512,
          17072,
          18955,
          18953,
          18950,
          18949
         ],
         "yaxis": "y"
        },
        {
         "fillpattern": {
          "shape": ""
         },
         "legendgroup": "2020s",
         "line": {
          "color": "#fee838"
         },
         "marker": {
          "symbol": "circle"
         },
         "mode": "lines",
         "name": "2020s",
         "orientation": "v",
         "showlegend": true,
         "stackgroup": "1",
         "type": "scatter",
         "x": [
          1997,
          1998,
          1999,
          2000,
          2001,
          2002,
          2003,
          2004,
          2005,
          2006,
          2007,
          2008,
          2009,
          2010,
          2011,
          2012,
          2013,
          2014,
          2015,
          2016,
          2017,
          2018,
          2019,
          2020,
          2021,
          2022
         ],
         "xaxis": "x",
         "y": [
          0,
          0,
          0,
          0,
          0,
          0,
          0,
          0,
          0,
          0,
          0,
          0,
          0,
          0,
          0,
          0,
          0,
          0,
          0,
          0,
          0,
          0,
          0,
          1355,
          3071,
          4362
         ],
         "yaxis": "y"
        }
       ],
       "layout": {
        "hovermode": "x unified",
        "legend": {
         "title": {
          "text": "Decade"
         },
         "tracegroupgap": 0
        },
        "template": {
         "data": {
          "bar": [
           {
            "error_x": {
             "color": "rgb(51,51,51)"
            },
            "error_y": {
             "color": "rgb(51,51,51)"
            },
            "marker": {
             "line": {
              "color": "rgb(237,237,237)",
              "width": 0.5
             },
             "pattern": {
              "fillmode": "overlay",
              "size": 10,
              "solidity": 0.2
             }
            },
            "type": "bar"
           }
          ],
          "barpolar": [
           {
            "marker": {
             "line": {
              "color": "rgb(237,237,237)",
              "width": 0.5
             },
             "pattern": {
              "fillmode": "overlay",
              "size": 10,
              "solidity": 0.2
             }
            },
            "type": "barpolar"
           }
          ],
          "carpet": [
           {
            "aaxis": {
             "endlinecolor": "rgb(51,51,51)",
             "gridcolor": "white",
             "linecolor": "white",
             "minorgridcolor": "white",
             "startlinecolor": "rgb(51,51,51)"
            },
            "baxis": {
             "endlinecolor": "rgb(51,51,51)",
             "gridcolor": "white",
             "linecolor": "white",
             "minorgridcolor": "white",
             "startlinecolor": "rgb(51,51,51)"
            },
            "type": "carpet"
           }
          ],
          "choropleth": [
           {
            "colorbar": {
             "outlinewidth": 0,
             "tickcolor": "rgb(237,237,237)",
             "ticklen": 6,
             "ticks": "inside"
            },
            "type": "choropleth"
           }
          ],
          "contour": [
           {
            "colorbar": {
             "outlinewidth": 0,
             "tickcolor": "rgb(237,237,237)",
             "ticklen": 6,
             "ticks": "inside"
            },
            "colorscale": [
             [
              0,
              "rgb(20,44,66)"
             ],
             [
              1,
              "rgb(90,179,244)"
             ]
            ],
            "type": "contour"
           }
          ],
          "contourcarpet": [
           {
            "colorbar": {
             "outlinewidth": 0,
             "tickcolor": "rgb(237,237,237)",
             "ticklen": 6,
             "ticks": "inside"
            },
            "type": "contourcarpet"
           }
          ],
          "heatmap": [
           {
            "colorbar": {
             "outlinewidth": 0,
             "tickcolor": "rgb(237,237,237)",
             "ticklen": 6,
             "ticks": "inside"
            },
            "colorscale": [
             [
              0,
              "rgb(20,44,66)"
             ],
             [
              1,
              "rgb(90,179,244)"
             ]
            ],
            "type": "heatmap"
           }
          ],
          "heatmapgl": [
           {
            "colorbar": {
             "outlinewidth": 0,
             "tickcolor": "rgb(237,237,237)",
             "ticklen": 6,
             "ticks": "inside"
            },
            "colorscale": [
             [
              0,
              "rgb(20,44,66)"
             ],
             [
              1,
              "rgb(90,179,244)"
             ]
            ],
            "type": "heatmapgl"
           }
          ],
          "histogram": [
           {
            "marker": {
             "pattern": {
              "fillmode": "overlay",
              "size": 10,
              "solidity": 0.2
             }
            },
            "type": "histogram"
           }
          ],
          "histogram2d": [
           {
            "colorbar": {
             "outlinewidth": 0,
             "tickcolor": "rgb(237,237,237)",
             "ticklen": 6,
             "ticks": "inside"
            },
            "colorscale": [
             [
              0,
              "rgb(20,44,66)"
             ],
             [
              1,
              "rgb(90,179,244)"
             ]
            ],
            "type": "histogram2d"
           }
          ],
          "histogram2dcontour": [
           {
            "colorbar": {
             "outlinewidth": 0,
             "tickcolor": "rgb(237,237,237)",
             "ticklen": 6,
             "ticks": "inside"
            },
            "colorscale": [
             [
              0,
              "rgb(20,44,66)"
             ],
             [
              1,
              "rgb(90,179,244)"
             ]
            ],
            "type": "histogram2dcontour"
           }
          ],
          "mesh3d": [
           {
            "colorbar": {
             "outlinewidth": 0,
             "tickcolor": "rgb(237,237,237)",
             "ticklen": 6,
             "ticks": "inside"
            },
            "type": "mesh3d"
           }
          ],
          "parcoords": [
           {
            "line": {
             "colorbar": {
              "outlinewidth": 0,
              "tickcolor": "rgb(237,237,237)",
              "ticklen": 6,
              "ticks": "inside"
             }
            },
            "type": "parcoords"
           }
          ],
          "pie": [
           {
            "automargin": true,
            "type": "pie"
           }
          ],
          "scatter": [
           {
            "fillpattern": {
             "fillmode": "overlay",
             "size": 10,
             "solidity": 0.2
            },
            "type": "scatter"
           }
          ],
          "scatter3d": [
           {
            "line": {
             "colorbar": {
              "outlinewidth": 0,
              "tickcolor": "rgb(237,237,237)",
              "ticklen": 6,
              "ticks": "inside"
             }
            },
            "marker": {
             "colorbar": {
              "outlinewidth": 0,
              "tickcolor": "rgb(237,237,237)",
              "ticklen": 6,
              "ticks": "inside"
             }
            },
            "type": "scatter3d"
           }
          ],
          "scattercarpet": [
           {
            "marker": {
             "colorbar": {
              "outlinewidth": 0,
              "tickcolor": "rgb(237,237,237)",
              "ticklen": 6,
              "ticks": "inside"
             }
            },
            "type": "scattercarpet"
           }
          ],
          "scattergeo": [
           {
            "marker": {
             "colorbar": {
              "outlinewidth": 0,
              "tickcolor": "rgb(237,237,237)",
              "ticklen": 6,
              "ticks": "inside"
             }
            },
            "type": "scattergeo"
           }
          ],
          "scattergl": [
           {
            "marker": {
             "colorbar": {
              "outlinewidth": 0,
              "tickcolor": "rgb(237,237,237)",
              "ticklen": 6,
              "ticks": "inside"
             }
            },
            "type": "scattergl"
           }
          ],
          "scattermapbox": [
           {
            "marker": {
             "colorbar": {
              "outlinewidth": 0,
              "tickcolor": "rgb(237,237,237)",
              "ticklen": 6,
              "ticks": "inside"
             }
            },
            "type": "scattermapbox"
           }
          ],
          "scatterpolar": [
           {
            "marker": {
             "colorbar": {
              "outlinewidth": 0,
              "tickcolor": "rgb(237,237,237)",
              "ticklen": 6,
              "ticks": "inside"
             }
            },
            "type": "scatterpolar"
           }
          ],
          "scatterpolargl": [
           {
            "marker": {
             "colorbar": {
              "outlinewidth": 0,
              "tickcolor": "rgb(237,237,237)",
              "ticklen": 6,
              "ticks": "inside"
             }
            },
            "type": "scatterpolargl"
           }
          ],
          "scatterternary": [
           {
            "marker": {
             "colorbar": {
              "outlinewidth": 0,
              "tickcolor": "rgb(237,237,237)",
              "ticklen": 6,
              "ticks": "inside"
             }
            },
            "type": "scatterternary"
           }
          ],
          "surface": [
           {
            "colorbar": {
             "outlinewidth": 0,
             "tickcolor": "rgb(237,237,237)",
             "ticklen": 6,
             "ticks": "inside"
            },
            "colorscale": [
             [
              0,
              "rgb(20,44,66)"
             ],
             [
              1,
              "rgb(90,179,244)"
             ]
            ],
            "type": "surface"
           }
          ],
          "table": [
           {
            "cells": {
             "fill": {
              "color": "rgb(237,237,237)"
             },
             "line": {
              "color": "white"
             }
            },
            "header": {
             "fill": {
              "color": "rgb(217,217,217)"
             },
             "line": {
              "color": "white"
             }
            },
            "type": "table"
           }
          ]
         },
         "layout": {
          "annotationdefaults": {
           "arrowhead": 0,
           "arrowwidth": 1
          },
          "annotations": [
           {
            "font": {
             "color": "black",
             "size": 12
            },
            "name": "created by",
            "opacity": 0.9,
            "showarrow": false,
            "text": "Created by Electrify RVA",
            "x": -0.05,
            "xref": "paper",
            "y": -0.25,
            "yref": "paper"
           }
          ],
          "autotypenumbers": "strict",
          "coloraxis": {
           "colorbar": {
            "outlinewidth": 0,
            "tickcolor": "rgb(237,237,237)",
            "ticklen": 6,
            "ticks": "inside"
           }
          },
          "colorscale": {
           "sequential": [
            [
             0,
             "rgb(20,44,66)"
            ],
            [
             1,
             "rgb(90,179,244)"
            ]
           ],
           "sequentialminus": [
            [
             0,
             "rgb(20,44,66)"
            ],
            [
             1,
             "rgb(90,179,244)"
            ]
           ]
          },
          "colorway": [
           "#007C77",
           "#1a1b41",
           "#f48668",
           "#f2bb05",
           "#E2A0FF",
           "#8acb88"
          ],
          "font": {
           "color": "rgb(51,51,51)"
          },
          "geo": {
           "bgcolor": "white",
           "lakecolor": "white",
           "landcolor": "rgb(237,237,237)",
           "showlakes": true,
           "showland": true,
           "subunitcolor": "white"
          },
          "hoverlabel": {
           "align": "left"
          },
          "hovermode": "x unified",
          "paper_bgcolor": "white",
          "plot_bgcolor": "rgb(237,237,237)",
          "polar": {
           "angularaxis": {
            "gridcolor": "white",
            "linecolor": "white",
            "showgrid": true,
            "tickcolor": "rgb(51,51,51)",
            "ticks": "outside"
           },
           "bgcolor": "rgb(237,237,237)",
           "radialaxis": {
            "gridcolor": "white",
            "linecolor": "white",
            "showgrid": true,
            "tickcolor": "rgb(51,51,51)",
            "ticks": "outside"
           }
          },
          "scene": {
           "xaxis": {
            "backgroundcolor": "rgb(237,237,237)",
            "gridcolor": "white",
            "gridwidth": 2,
            "linecolor": "white",
            "showbackground": true,
            "showgrid": true,
            "tickcolor": "rgb(51,51,51)",
            "ticks": "outside",
            "zerolinecolor": "white"
           },
           "yaxis": {
            "backgroundcolor": "rgb(237,237,237)",
            "gridcolor": "white",
            "gridwidth": 2,
            "linecolor": "white",
            "showbackground": true,
            "showgrid": true,
            "tickcolor": "rgb(51,51,51)",
            "ticks": "outside",
            "zerolinecolor": "white"
           },
           "zaxis": {
            "backgroundcolor": "rgb(237,237,237)",
            "gridcolor": "white",
            "gridwidth": 2,
            "linecolor": "white",
            "showbackground": true,
            "showgrid": true,
            "tickcolor": "rgb(51,51,51)",
            "ticks": "outside",
            "zerolinecolor": "white"
           }
          },
          "shapedefaults": {
           "fillcolor": "black",
           "line": {
            "width": 0
           },
           "opacity": 0.3
          },
          "ternary": {
           "aaxis": {
            "gridcolor": "white",
            "linecolor": "white",
            "showgrid": true,
            "tickcolor": "rgb(51,51,51)",
            "ticks": "outside"
           },
           "baxis": {
            "gridcolor": "white",
            "linecolor": "white",
            "showgrid": true,
            "tickcolor": "rgb(51,51,51)",
            "ticks": "outside"
           },
           "bgcolor": "rgb(237,237,237)",
           "caxis": {
            "gridcolor": "white",
            "linecolor": "white",
            "showgrid": true,
            "tickcolor": "rgb(51,51,51)",
            "ticks": "outside"
           }
          },
          "title": {
           "x": 0.05
          },
          "xaxis": {
           "automargin": true,
           "gridcolor": "white",
           "linecolor": "white",
           "showgrid": true,
           "tickcolor": "rgb(51,51,51)",
           "ticks": "outside",
           "title": {
            "standoff": 15
           },
           "zerolinecolor": "white"
          },
          "yaxis": {
           "automargin": true,
           "gridcolor": "white",
           "linecolor": "white",
           "showgrid": true,
           "tickcolor": "rgb(51,51,51)",
           "tickformat": ",.0f",
           "ticks": "outside",
           "title": {
            "standoff": 15
           },
           "zerolinecolor": "white"
          }
         }
        },
        "title": {
         "text": "Number of services by decade"
        },
        "xaxis": {
         "anchor": "y",
         "domain": [
          0,
          1
         ],
         "range": [
          2004,
          2022
         ],
         "title": {
          "text": ""
         }
        },
        "yaxis": {
         "anchor": "x",
         "domain": [
          0,
          1
         ],
         "title": {
          "text": "Number of services"
         }
        }
       }
      }
     },
     "metadata": {},
     "output_type": "display_data"
    }
   ],
   "source": [
    "fig = px.area(\n",
    "    melted_decades_services, x=\"year\", y=\"Number of services\", title=\"Number of services by decade\", color=\"decade\",\n",
    "    labels={ \"year\": \"\", \"decade\": \"Decade\"},\n",
    "    #hover_data=[\"material_specific\"],\n",
    "    #color_discrete_map={'Unknown': HIGHLIGHT_COLOR},\n",
    "    color_discrete_sequence=[HIGHLIGHT_COLOR, *px.colors.sequential.Cividis],\n",
    ")\n",
    "\n",
    "fig.update_traces(hovertemplate=None)\n",
    "#fig.update_traces(hovertemplate = '%{customdata[0]} : %{y}')  #'year=%{customdata[0]}<br>label=%{customdata[1]}<extra></extra>')\n",
    "fig.update_layout(hovermode='x unified')\n",
    "fig.update_xaxes(range=[2004, 2022])\n",
    "\n",
    "\n",
    "\n",
    "fig.show()\n",
    "fig.write_html(\"../docs/_includes/charts/decades_services_number.html\", include_plotlyjs=\"cdn\")"
   ]
  },
  {
   "cell_type": "code",
   "execution_count": 574,
   "metadata": {},
   "outputs": [
    {
     "data": {
      "text/plain": [
       "0     17360\n",
       "1     17360\n",
       "2     17360\n",
       "3     17360\n",
       "4     17360\n",
       "5     17360\n",
       "6     17360\n",
       "7     17360\n",
       "8     17360\n",
       "9     17360\n",
       "10    17360\n",
       "11    17360\n",
       "12    17360\n",
       "13    17360\n",
       "14    17360\n",
       "15    17360\n",
       "16    17360\n",
       "17    17360\n",
       "18    17360\n",
       "19    17360\n",
       "20    17360\n",
       "21    17360\n",
       "22    17360\n",
       "23    17360\n",
       "24    17360\n",
       "25    17360\n",
       "Name: operator_id_phmsa, dtype: int64"
      ]
     },
     "execution_count": 574,
     "metadata": {},
     "output_type": "execute_result"
    }
   ],
   "source": [
    "eia_phmsa['operator_id_phmsa']"
   ]
  },
  {
   "cell_type": "markdown",
   "metadata": {},
   "source": [
    "## Lost gas\n",
    "Source: FOIA"
   ]
  },
  {
   "cell_type": "code",
   "execution_count": 666,
   "metadata": {},
   "outputs": [
    {
     "data": {
      "text/html": [
       "<div>\n",
       "<style scoped>\n",
       "    .dataframe tbody tr th:only-of-type {\n",
       "        vertical-align: middle;\n",
       "    }\n",
       "\n",
       "    .dataframe tbody tr th {\n",
       "        vertical-align: top;\n",
       "    }\n",
       "\n",
       "    .dataframe thead th {\n",
       "        text-align: right;\n",
       "    }\n",
       "</style>\n",
       "<table border=\"1\" class=\"dataframe\">\n",
       "  <thead>\n",
       "    <tr style=\"text-align: right;\">\n",
       "      <th></th>\n",
       "      <th>Month - Year</th>\n",
       "      <th>SUM of Total Loss (Mcf)</th>\n",
       "      <th>SUM of Receipt (Mcf)</th>\n",
       "      <th>Yearly Loss Rate</th>\n",
       "      <th>EIA Citygate Price $/MCF</th>\n",
       "      <th>$ Lost to Leak</th>\n",
       "    </tr>\n",
       "  </thead>\n",
       "  <tbody>\n",
       "    <tr>\n",
       "      <th>0</th>\n",
       "      <td>2012</td>\n",
       "      <td>475204.0</td>\n",
       "      <td>24709147.0</td>\n",
       "      <td>1.9</td>\n",
       "      <td>5.64</td>\n",
       "      <td>2680151.0</td>\n",
       "    </tr>\n",
       "    <tr>\n",
       "      <th>1</th>\n",
       "      <td>2013</td>\n",
       "      <td>383433.0</td>\n",
       "      <td>19498466.0</td>\n",
       "      <td>2.0</td>\n",
       "      <td>5.54</td>\n",
       "      <td>2124219.0</td>\n",
       "    </tr>\n",
       "    <tr>\n",
       "      <th>2</th>\n",
       "      <td>2014</td>\n",
       "      <td>471739.0</td>\n",
       "      <td>19851432.0</td>\n",
       "      <td>2.4</td>\n",
       "      <td>5.98</td>\n",
       "      <td>2820999.0</td>\n",
       "    </tr>\n",
       "    <tr>\n",
       "      <th>3</th>\n",
       "      <td>2015</td>\n",
       "      <td>574615.0</td>\n",
       "      <td>27187493.0</td>\n",
       "      <td>2.1</td>\n",
       "      <td>4.87</td>\n",
       "      <td>2798375.0</td>\n",
       "    </tr>\n",
       "    <tr>\n",
       "      <th>4</th>\n",
       "      <td>2016</td>\n",
       "      <td>626795.0</td>\n",
       "      <td>24692644.0</td>\n",
       "      <td>2.5</td>\n",
       "      <td>3.99</td>\n",
       "      <td>2500912.0</td>\n",
       "    </tr>\n",
       "    <tr>\n",
       "      <th>5</th>\n",
       "      <td>2017</td>\n",
       "      <td>419827.0</td>\n",
       "      <td>17996974.0</td>\n",
       "      <td>2.3</td>\n",
       "      <td>4.53</td>\n",
       "      <td>1901816.0</td>\n",
       "    </tr>\n",
       "    <tr>\n",
       "      <th>6</th>\n",
       "      <td>2018</td>\n",
       "      <td>1004674.0</td>\n",
       "      <td>18386512.0</td>\n",
       "      <td>5.5</td>\n",
       "      <td>4.69</td>\n",
       "      <td>4711921.0</td>\n",
       "    </tr>\n",
       "    <tr>\n",
       "      <th>7</th>\n",
       "      <td>2019</td>\n",
       "      <td>901223.0</td>\n",
       "      <td>18916623.0</td>\n",
       "      <td>4.8</td>\n",
       "      <td>4.52</td>\n",
       "      <td>4073528.0</td>\n",
       "    </tr>\n",
       "    <tr>\n",
       "      <th>8</th>\n",
       "      <td>2020</td>\n",
       "      <td>575102.0</td>\n",
       "      <td>21506914.0</td>\n",
       "      <td>2.7</td>\n",
       "      <td>3.87</td>\n",
       "      <td>2225645.0</td>\n",
       "    </tr>\n",
       "    <tr>\n",
       "      <th>9</th>\n",
       "      <td>2021</td>\n",
       "      <td>1029281.0</td>\n",
       "      <td>22797084.0</td>\n",
       "      <td>4.5</td>\n",
       "      <td>5.07</td>\n",
       "      <td>5218455.0</td>\n",
       "    </tr>\n",
       "    <tr>\n",
       "      <th>10</th>\n",
       "      <td>2022</td>\n",
       "      <td>2169755.0</td>\n",
       "      <td>23829343.0</td>\n",
       "      <td>9.1</td>\n",
       "      <td>7.34</td>\n",
       "      <td>15926002.0</td>\n",
       "    </tr>\n",
       "  </tbody>\n",
       "</table>\n",
       "</div>"
      ],
      "text/plain": [
       "    Month - Year  SUM of Total Loss (Mcf)  SUM of Receipt (Mcf)  \\\n",
       "0           2012                 475204.0            24709147.0   \n",
       "1           2013                 383433.0            19498466.0   \n",
       "2           2014                 471739.0            19851432.0   \n",
       "3           2015                 574615.0            27187493.0   \n",
       "4           2016                 626795.0            24692644.0   \n",
       "5           2017                 419827.0            17996974.0   \n",
       "6           2018                1004674.0            18386512.0   \n",
       "7           2019                 901223.0            18916623.0   \n",
       "8           2020                 575102.0            21506914.0   \n",
       "9           2021                1029281.0            22797084.0   \n",
       "10          2022                2169755.0            23829343.0   \n",
       "\n",
       "    Yearly Loss Rate  EIA Citygate Price $/MCF  $ Lost to Leak  \n",
       "0                1.9                      5.64       2680151.0  \n",
       "1                2.0                      5.54       2124219.0  \n",
       "2                2.4                      5.98       2820999.0  \n",
       "3                2.1                      4.87       2798375.0  \n",
       "4                2.5                      3.99       2500912.0  \n",
       "5                2.3                      4.53       1901816.0  \n",
       "6                5.5                      4.69       4711921.0  \n",
       "7                4.8                      4.52       4073528.0  \n",
       "8                2.7                      3.87       2225645.0  \n",
       "9                4.5                      5.07       5218455.0  \n",
       "10               9.1                      7.34      15926002.0  "
      ]
     },
     "execution_count": 666,
     "metadata": {},
     "output_type": "execute_result"
    }
   ],
   "source": [
    "lost_gas_yearly"
   ]
  },
  {
   "cell_type": "code",
   "execution_count": 681,
   "metadata": {},
   "outputs": [
    {
     "name": "stderr",
     "output_type": "stream",
     "text": [
      "/Users/erikshilts/opt/anaconda3/envs/electrify-rva/lib/python3.11/site-packages/_plotly_utils/basevalidators.py:106: FutureWarning:\n",
      "\n",
      "The behavior of DatetimeProperties.to_pydatetime is deprecated, in a future version this will return a Series containing python datetime objects instead of an ndarray. To retain the old behavior, call `np.array` on the result\n",
      "\n"
     ]
    },
    {
     "data": {
      "application/vnd.plotly.v1+json": {
       "config": {
        "plotlyServerURL": "https://plot.ly"
       },
       "data": [
        {
         "legendgroup": "",
         "line": {
          "color": "#007C77",
          "dash": "solid"
         },
         "marker": {
          "symbol": "circle"
         },
         "mode": "lines",
         "name": "",
         "orientation": "v",
         "showlegend": false,
         "type": "scatter",
         "x": [
          "2012-01-01T00:00:00",
          "2012-02-01T00:00:00",
          "2012-03-01T00:00:00",
          "2012-04-01T00:00:00",
          "2012-05-01T00:00:00",
          "2012-06-01T00:00:00",
          "2012-07-01T00:00:00",
          "2012-08-01T00:00:00",
          "2012-09-01T00:00:00",
          "2012-10-01T00:00:00",
          "2012-11-01T00:00:00",
          "2012-12-01T00:00:00",
          "2013-01-01T00:00:00",
          "2013-02-01T00:00:00",
          "2013-03-01T00:00:00",
          "2013-04-01T00:00:00",
          "2013-05-01T00:00:00",
          "2013-06-01T00:00:00",
          "2013-07-01T00:00:00",
          "2013-08-01T00:00:00",
          "2013-09-01T00:00:00",
          "2013-10-01T00:00:00",
          "2013-11-01T00:00:00",
          "2013-12-01T00:00:00",
          "2014-01-01T00:00:00",
          "2014-02-01T00:00:00",
          "2014-03-01T00:00:00",
          "2014-04-01T00:00:00",
          "2014-05-01T00:00:00",
          "2014-06-01T00:00:00",
          "2014-07-01T00:00:00",
          "2014-08-01T00:00:00",
          "2014-09-01T00:00:00",
          "2014-10-01T00:00:00",
          "2014-11-01T00:00:00",
          "2014-12-01T00:00:00",
          "2015-01-01T00:00:00",
          "2015-02-01T00:00:00",
          "2015-03-01T00:00:00",
          "2015-04-01T00:00:00",
          "2015-05-01T00:00:00",
          "2015-06-01T00:00:00",
          "2015-07-01T00:00:00",
          "2015-08-01T00:00:00",
          "2015-09-01T00:00:00",
          "2015-10-01T00:00:00",
          "2015-11-01T00:00:00",
          "2015-12-01T00:00:00",
          "2016-01-01T00:00:00",
          "2016-02-01T00:00:00",
          "2016-03-01T00:00:00",
          "2016-04-01T00:00:00",
          "2016-05-01T00:00:00",
          "2016-06-01T00:00:00",
          "2016-07-01T00:00:00",
          "2016-08-01T00:00:00",
          "2016-09-01T00:00:00",
          "2016-10-01T00:00:00",
          "2016-11-01T00:00:00",
          "2016-12-01T00:00:00",
          "2017-01-01T00:00:00",
          "2017-02-01T00:00:00",
          "2017-03-01T00:00:00",
          "2017-04-01T00:00:00",
          "2017-05-01T00:00:00",
          "2017-06-01T00:00:00",
          "2017-07-01T00:00:00",
          "2017-08-01T00:00:00",
          "2017-09-01T00:00:00",
          "2017-10-01T00:00:00",
          "2017-11-01T00:00:00",
          "2017-12-01T00:00:00",
          "2018-01-01T00:00:00",
          "2018-02-01T00:00:00",
          "2018-03-01T00:00:00",
          "2018-04-01T00:00:00",
          "2018-05-01T00:00:00",
          "2018-06-01T00:00:00",
          "2018-07-01T00:00:00",
          "2018-08-01T00:00:00",
          "2018-09-01T00:00:00",
          "2018-10-01T00:00:00",
          "2018-11-01T00:00:00",
          "2018-12-01T00:00:00",
          "2019-01-01T00:00:00",
          "2019-02-01T00:00:00",
          "2019-03-01T00:00:00",
          "2019-04-01T00:00:00",
          "2019-05-01T00:00:00",
          "2019-06-01T00:00:00",
          "2019-07-01T00:00:00",
          "2019-08-01T00:00:00",
          "2019-09-01T00:00:00",
          "2019-10-01T00:00:00",
          "2019-11-01T00:00:00",
          "2019-12-01T00:00:00",
          "2020-01-01T00:00:00",
          "2020-02-01T00:00:00",
          "2020-03-01T00:00:00",
          "2020-04-01T00:00:00",
          "2020-05-01T00:00:00",
          "2020-06-01T00:00:00",
          "2020-07-01T00:00:00",
          "2020-08-01T00:00:00",
          "2020-09-01T00:00:00",
          "2020-10-01T00:00:00",
          "2020-11-01T00:00:00",
          "2020-12-01T00:00:00",
          "2021-01-01T00:00:00",
          "2021-02-01T00:00:00",
          "2021-03-01T00:00:00",
          "2021-04-01T00:00:00",
          "2021-05-01T00:00:00",
          "2021-06-01T00:00:00",
          "2021-07-01T00:00:00",
          "2021-08-01T00:00:00",
          "2021-09-01T00:00:00",
          "2021-10-01T00:00:00",
          "2021-11-01T00:00:00",
          "2021-12-01T00:00:00",
          "2022-01-01T00:00:00",
          "2022-02-01T00:00:00",
          "2022-03-01T00:00:00",
          "2022-04-01T00:00:00",
          "2022-05-01T00:00:00",
          "2022-06-01T00:00:00",
          "2022-07-01T00:00:00",
          "2022-08-01T00:00:00",
          "2022-09-01T00:00:00",
          "2022-10-01T00:00:00",
          "2022-11-01T00:00:00",
          "2022-12-01T00:00:00"
         ],
         "xaxis": "x",
         "y": [
          null,
          null,
          null,
          null,
          null,
          null,
          null,
          null,
          null,
          null,
          null,
          1.9,
          1.2,
          0.9,
          2.2,
          1.5,
          1.8,
          2,
          2.1,
          2.3,
          2.6,
          3,
          3.2,
          2,
          3.2,
          2.5,
          2.4,
          2.4,
          2.3,
          2.1,
          2,
          2,
          1.7,
          1.9,
          2.1,
          2.4,
          2.6,
          4.3,
          3.2,
          3.4,
          3.3,
          3.1,
          3.2,
          3,
          2.9,
          2.5,
          2.4,
          2.1,
          2.5,
          1.1,
          1.2,
          1.9,
          1.5,
          1.7,
          1.5,
          1.5,
          1.6,
          2,
          1.2,
          2.5,
          1.7,
          2.7,
          2.8,
          2.1,
          2.8,
          2.6,
          3,
          3.1,
          3.3,
          3.1,
          3.3,
          2.3,
          3.3,
          2.6,
          3.6,
          3.8,
          3.8,
          4.1,
          4.2,
          4.4,
          4.5,
          4.7,
          4.6,
          5.5,
          4.7,
          4.2,
          4.1,
          3.7,
          3.7,
          3.8,
          4.4,
          3.8,
          4.3,
          3.4,
          4.7,
          4.8,
          3.9,
          5.8,
          3.5,
          3.5,
          3.6,
          3.5,
          2.8,
          3.2,
          2.8,
          3.6,
          2.8,
          2.7,
          3.6,
          2.8,
          3.6,
          3.8,
          3.8,
          3.7,
          3.8,
          3.7,
          4,
          3.9,
          4.8,
          4.5,
          5.6,
          5,
          4.9,
          5.4,
          6.4,
          7.8,
          8.4,
          9,
          8.7,
          8.6,
          8,
          9.1
         ],
         "yaxis": "y"
        },
        {
         "hoverinfo": "skip",
         "marker": {
          "color": "#df2935",
          "size": 7.5
         },
         "mode": "markers",
         "showlegend": false,
         "type": "scatter",
         "x": [
          "2022-12-01T00:00:00"
         ],
         "y": [
          9.1
         ]
        }
       ],
       "layout": {
        "annotations": [
         {
          "arrowhead": 2,
          "font": {
           "color": "#df2935"
          },
          "showarrow": false,
          "text": "9.1%",
          "x": "2022-12-01",
          "y": 9.1,
          "yshift": 11
         },
         {
          "font": {
           "color": "#df2935"
          },
          "showarrow": false,
          "text": "Worse than coal ⬆",
          "x": 0,
          "xanchor": "left",
          "xref": "x domain",
          "y": 3.2,
          "yanchor": "bottom",
          "yref": "y"
         }
        ],
        "hovermode": "x unified",
        "legend": {
         "tracegroupgap": 0
        },
        "shapes": [
         {
          "line": {
           "color": "#df2935",
           "width": 1
          },
          "type": "line",
          "x0": 0,
          "x1": 1,
          "xref": "x domain",
          "y0": 3.2,
          "y1": 3.2,
          "yref": "y"
         }
        ],
        "template": {
         "data": {
          "bar": [
           {
            "error_x": {
             "color": "rgb(51,51,51)"
            },
            "error_y": {
             "color": "rgb(51,51,51)"
            },
            "marker": {
             "line": {
              "color": "rgb(237,237,237)",
              "width": 0.5
             },
             "pattern": {
              "fillmode": "overlay",
              "size": 10,
              "solidity": 0.2
             }
            },
            "type": "bar"
           }
          ],
          "barpolar": [
           {
            "marker": {
             "line": {
              "color": "rgb(237,237,237)",
              "width": 0.5
             },
             "pattern": {
              "fillmode": "overlay",
              "size": 10,
              "solidity": 0.2
             }
            },
            "type": "barpolar"
           }
          ],
          "carpet": [
           {
            "aaxis": {
             "endlinecolor": "rgb(51,51,51)",
             "gridcolor": "white",
             "linecolor": "white",
             "minorgridcolor": "white",
             "startlinecolor": "rgb(51,51,51)"
            },
            "baxis": {
             "endlinecolor": "rgb(51,51,51)",
             "gridcolor": "white",
             "linecolor": "white",
             "minorgridcolor": "white",
             "startlinecolor": "rgb(51,51,51)"
            },
            "type": "carpet"
           }
          ],
          "choropleth": [
           {
            "colorbar": {
             "outlinewidth": 0,
             "tickcolor": "rgb(237,237,237)",
             "ticklen": 6,
             "ticks": "inside"
            },
            "type": "choropleth"
           }
          ],
          "contour": [
           {
            "colorbar": {
             "outlinewidth": 0,
             "tickcolor": "rgb(237,237,237)",
             "ticklen": 6,
             "ticks": "inside"
            },
            "colorscale": [
             [
              0,
              "rgb(20,44,66)"
             ],
             [
              1,
              "rgb(90,179,244)"
             ]
            ],
            "type": "contour"
           }
          ],
          "contourcarpet": [
           {
            "colorbar": {
             "outlinewidth": 0,
             "tickcolor": "rgb(237,237,237)",
             "ticklen": 6,
             "ticks": "inside"
            },
            "type": "contourcarpet"
           }
          ],
          "heatmap": [
           {
            "colorbar": {
             "outlinewidth": 0,
             "tickcolor": "rgb(237,237,237)",
             "ticklen": 6,
             "ticks": "inside"
            },
            "colorscale": [
             [
              0,
              "rgb(20,44,66)"
             ],
             [
              1,
              "rgb(90,179,244)"
             ]
            ],
            "type": "heatmap"
           }
          ],
          "heatmapgl": [
           {
            "colorbar": {
             "outlinewidth": 0,
             "tickcolor": "rgb(237,237,237)",
             "ticklen": 6,
             "ticks": "inside"
            },
            "colorscale": [
             [
              0,
              "rgb(20,44,66)"
             ],
             [
              1,
              "rgb(90,179,244)"
             ]
            ],
            "type": "heatmapgl"
           }
          ],
          "histogram": [
           {
            "marker": {
             "pattern": {
              "fillmode": "overlay",
              "size": 10,
              "solidity": 0.2
             }
            },
            "type": "histogram"
           }
          ],
          "histogram2d": [
           {
            "colorbar": {
             "outlinewidth": 0,
             "tickcolor": "rgb(237,237,237)",
             "ticklen": 6,
             "ticks": "inside"
            },
            "colorscale": [
             [
              0,
              "rgb(20,44,66)"
             ],
             [
              1,
              "rgb(90,179,244)"
             ]
            ],
            "type": "histogram2d"
           }
          ],
          "histogram2dcontour": [
           {
            "colorbar": {
             "outlinewidth": 0,
             "tickcolor": "rgb(237,237,237)",
             "ticklen": 6,
             "ticks": "inside"
            },
            "colorscale": [
             [
              0,
              "rgb(20,44,66)"
             ],
             [
              1,
              "rgb(90,179,244)"
             ]
            ],
            "type": "histogram2dcontour"
           }
          ],
          "mesh3d": [
           {
            "colorbar": {
             "outlinewidth": 0,
             "tickcolor": "rgb(237,237,237)",
             "ticklen": 6,
             "ticks": "inside"
            },
            "type": "mesh3d"
           }
          ],
          "parcoords": [
           {
            "line": {
             "colorbar": {
              "outlinewidth": 0,
              "tickcolor": "rgb(237,237,237)",
              "ticklen": 6,
              "ticks": "inside"
             }
            },
            "type": "parcoords"
           }
          ],
          "pie": [
           {
            "automargin": true,
            "type": "pie"
           }
          ],
          "scatter": [
           {
            "fillpattern": {
             "fillmode": "overlay",
             "size": 10,
             "solidity": 0.2
            },
            "type": "scatter"
           }
          ],
          "scatter3d": [
           {
            "line": {
             "colorbar": {
              "outlinewidth": 0,
              "tickcolor": "rgb(237,237,237)",
              "ticklen": 6,
              "ticks": "inside"
             }
            },
            "marker": {
             "colorbar": {
              "outlinewidth": 0,
              "tickcolor": "rgb(237,237,237)",
              "ticklen": 6,
              "ticks": "inside"
             }
            },
            "type": "scatter3d"
           }
          ],
          "scattercarpet": [
           {
            "marker": {
             "colorbar": {
              "outlinewidth": 0,
              "tickcolor": "rgb(237,237,237)",
              "ticklen": 6,
              "ticks": "inside"
             }
            },
            "type": "scattercarpet"
           }
          ],
          "scattergeo": [
           {
            "marker": {
             "colorbar": {
              "outlinewidth": 0,
              "tickcolor": "rgb(237,237,237)",
              "ticklen": 6,
              "ticks": "inside"
             }
            },
            "type": "scattergeo"
           }
          ],
          "scattergl": [
           {
            "marker": {
             "colorbar": {
              "outlinewidth": 0,
              "tickcolor": "rgb(237,237,237)",
              "ticklen": 6,
              "ticks": "inside"
             }
            },
            "type": "scattergl"
           }
          ],
          "scattermapbox": [
           {
            "marker": {
             "colorbar": {
              "outlinewidth": 0,
              "tickcolor": "rgb(237,237,237)",
              "ticklen": 6,
              "ticks": "inside"
             }
            },
            "type": "scattermapbox"
           }
          ],
          "scatterpolar": [
           {
            "marker": {
             "colorbar": {
              "outlinewidth": 0,
              "tickcolor": "rgb(237,237,237)",
              "ticklen": 6,
              "ticks": "inside"
             }
            },
            "type": "scatterpolar"
           }
          ],
          "scatterpolargl": [
           {
            "marker": {
             "colorbar": {
              "outlinewidth": 0,
              "tickcolor": "rgb(237,237,237)",
              "ticklen": 6,
              "ticks": "inside"
             }
            },
            "type": "scatterpolargl"
           }
          ],
          "scatterternary": [
           {
            "marker": {
             "colorbar": {
              "outlinewidth": 0,
              "tickcolor": "rgb(237,237,237)",
              "ticklen": 6,
              "ticks": "inside"
             }
            },
            "type": "scatterternary"
           }
          ],
          "surface": [
           {
            "colorbar": {
             "outlinewidth": 0,
             "tickcolor": "rgb(237,237,237)",
             "ticklen": 6,
             "ticks": "inside"
            },
            "colorscale": [
             [
              0,
              "rgb(20,44,66)"
             ],
             [
              1,
              "rgb(90,179,244)"
             ]
            ],
            "type": "surface"
           }
          ],
          "table": [
           {
            "cells": {
             "fill": {
              "color": "rgb(237,237,237)"
             },
             "line": {
              "color": "white"
             }
            },
            "header": {
             "fill": {
              "color": "rgb(217,217,217)"
             },
             "line": {
              "color": "white"
             }
            },
            "type": "table"
           }
          ]
         },
         "layout": {
          "annotationdefaults": {
           "arrowhead": 0,
           "arrowwidth": 1
          },
          "annotations": [
           {
            "font": {
             "color": "black",
             "size": 12
            },
            "name": "created by",
            "opacity": 0.9,
            "showarrow": false,
            "text": "Created by Electrify RVA",
            "x": -0.05,
            "xref": "paper",
            "y": -0.25,
            "yref": "paper"
           }
          ],
          "autotypenumbers": "strict",
          "coloraxis": {
           "colorbar": {
            "outlinewidth": 0,
            "tickcolor": "rgb(237,237,237)",
            "ticklen": 6,
            "ticks": "inside"
           }
          },
          "colorscale": {
           "sequential": [
            [
             0,
             "rgb(20,44,66)"
            ],
            [
             1,
             "rgb(90,179,244)"
            ]
           ],
           "sequentialminus": [
            [
             0,
             "rgb(20,44,66)"
            ],
            [
             1,
             "rgb(90,179,244)"
            ]
           ]
          },
          "colorway": [
           "#007C77",
           "#1a1b41",
           "#f48668",
           "#f2bb05",
           "#E2A0FF",
           "#8acb88"
          ],
          "font": {
           "color": "rgb(51,51,51)"
          },
          "geo": {
           "bgcolor": "white",
           "lakecolor": "white",
           "landcolor": "rgb(237,237,237)",
           "showlakes": true,
           "showland": true,
           "subunitcolor": "white"
          },
          "hoverlabel": {
           "align": "left"
          },
          "hovermode": "x unified",
          "paper_bgcolor": "white",
          "plot_bgcolor": "rgb(237,237,237)",
          "polar": {
           "angularaxis": {
            "gridcolor": "white",
            "linecolor": "white",
            "showgrid": true,
            "tickcolor": "rgb(51,51,51)",
            "ticks": "outside"
           },
           "bgcolor": "rgb(237,237,237)",
           "radialaxis": {
            "gridcolor": "white",
            "linecolor": "white",
            "showgrid": true,
            "tickcolor": "rgb(51,51,51)",
            "ticks": "outside"
           }
          },
          "scene": {
           "xaxis": {
            "backgroundcolor": "rgb(237,237,237)",
            "gridcolor": "white",
            "gridwidth": 2,
            "linecolor": "white",
            "showbackground": true,
            "showgrid": true,
            "tickcolor": "rgb(51,51,51)",
            "ticks": "outside",
            "zerolinecolor": "white"
           },
           "yaxis": {
            "backgroundcolor": "rgb(237,237,237)",
            "gridcolor": "white",
            "gridwidth": 2,
            "linecolor": "white",
            "showbackground": true,
            "showgrid": true,
            "tickcolor": "rgb(51,51,51)",
            "ticks": "outside",
            "zerolinecolor": "white"
           },
           "zaxis": {
            "backgroundcolor": "rgb(237,237,237)",
            "gridcolor": "white",
            "gridwidth": 2,
            "linecolor": "white",
            "showbackground": true,
            "showgrid": true,
            "tickcolor": "rgb(51,51,51)",
            "ticks": "outside",
            "zerolinecolor": "white"
           }
          },
          "shapedefaults": {
           "fillcolor": "black",
           "line": {
            "width": 0
           },
           "opacity": 0.3
          },
          "ternary": {
           "aaxis": {
            "gridcolor": "white",
            "linecolor": "white",
            "showgrid": true,
            "tickcolor": "rgb(51,51,51)",
            "ticks": "outside"
           },
           "baxis": {
            "gridcolor": "white",
            "linecolor": "white",
            "showgrid": true,
            "tickcolor": "rgb(51,51,51)",
            "ticks": "outside"
           },
           "bgcolor": "rgb(237,237,237)",
           "caxis": {
            "gridcolor": "white",
            "linecolor": "white",
            "showgrid": true,
            "tickcolor": "rgb(51,51,51)",
            "ticks": "outside"
           }
          },
          "title": {
           "x": 0.05
          },
          "xaxis": {
           "automargin": true,
           "gridcolor": "white",
           "linecolor": "white",
           "showgrid": true,
           "tickcolor": "rgb(51,51,51)",
           "ticks": "outside",
           "title": {
            "standoff": 15
           },
           "zerolinecolor": "white"
          },
          "yaxis": {
           "automargin": true,
           "gridcolor": "white",
           "linecolor": "white",
           "showgrid": true,
           "tickcolor": "rgb(51,51,51)",
           "tickformat": ",.0f",
           "ticks": "outside",
           "title": {
            "standoff": 15
           },
           "zerolinecolor": "white"
          }
         }
        },
        "title": {
         "text": "Lost and unaccounted for gas"
        },
        "xaxis": {
         "anchor": "y",
         "domain": [
          0,
          1
         ],
         "range": [
          "2012-10-01",
          "2023-02-01"
         ],
         "title": {
          "text": ""
         }
        },
        "yaxis": {
         "anchor": "x",
         "domain": [
          0,
          1
         ],
         "tickformat": ",.1f",
         "ticksuffix": "%",
         "title": {
          "text": "Loss rate (12 month average)"
         }
        }
       }
      }
     },
     "metadata": {},
     "output_type": "display_data"
    }
   ],
   "source": [
    "fig = px.line(\n",
    "    lost_gas_monthly, \n",
    "    x=\"Month\", y=\"12 month % LUF\", \n",
    "    title='Lost and unaccounted for gas',\n",
    "    labels={ \"Month\": \"\", \"12 month % LUF\": \"Loss rate (12 month average)\", },\n",
    "    #color_discrete_sequence=[\"#1a1b41\", \"#f48668\"],\n",
    "\n",
    ")\n",
    "fig.add_trace(go.Scatter(\n",
    "    x=[lost_gas_monthly['Month'].iloc[-1]],\n",
    "    y=[lost_gas_monthly['12 month % LUF'].iloc[-1]],\n",
    "    mode='markers',\n",
    "    marker=dict(color=HIGHLIGHT_COLOR, size=7.5),\n",
    "    showlegend=False,\n",
    "    hoverinfo='skip',\n",
    "))\n",
    "\n",
    "fig.update_traces(hovertemplate=None)\n",
    "fig.update_layout(yaxis_ticksuffix='%', hovermode='x unified', yaxis_tickformat=\",.1f\")\n",
    "\n",
    "fig.add_annotation(\n",
    "         text=\"9.1%\", x='2022-12-01', y=9.1,\n",
    "         showarrow=False, arrowhead=2,\n",
    "         yshift=11,\n",
    "         font=dict(color=HIGHLIGHT_COLOR),\n",
    ")\n",
    "fig.update_xaxes(range=['2012-10-01', '2023-02-01'])\n",
    "\n",
    "# Leaks >3.2% are worse than coal\n",
    "worse_than_coal_color = HIGHLIGHT_COLOR\n",
    "fig.add_hline(\n",
    "    y=3.2, line_color=worse_than_coal_color, line_width=1, \n",
    "    annotation_text=\"Worse than coal ⬆\", \n",
    "    annotation_font_color=worse_than_coal_color,\n",
    "    annotation_x=0,\n",
    "    annotation_xanchor=\"left\",\n",
    ")\n",
    "\n",
    "\n",
    "fig.show()\n",
    "fig.write_html(\"../docs/_includes/charts/lost_and_unaccounted_for_gas_monthly.html\", include_plotlyjs=\"cdn\")"
   ]
  },
  {
   "cell_type": "code",
   "execution_count": 680,
   "metadata": {},
   "outputs": [
    {
     "data": {
      "application/vnd.plotly.v1+json": {
       "config": {
        "plotlyServerURL": "https://plot.ly"
       },
       "data": [
        {
         "legendgroup": "",
         "line": {
          "color": "#007C77",
          "dash": "solid"
         },
         "marker": {
          "symbol": "circle"
         },
         "mode": "lines",
         "name": "",
         "orientation": "v",
         "showlegend": false,
         "type": "scatter",
         "x": [
          2012,
          2013,
          2014,
          2015,
          2016,
          2017,
          2018,
          2019,
          2020,
          2021,
          2022
         ],
         "xaxis": "x",
         "y": [
          1.9,
          2,
          2.4,
          2.1,
          2.5,
          2.3,
          5.5,
          4.8,
          2.7,
          4.5,
          9.1
         ],
         "yaxis": "y"
        },
        {
         "hoverinfo": "skip",
         "marker": {
          "color": "#df2935",
          "size": 7.5
         },
         "mode": "markers",
         "showlegend": false,
         "type": "scatter",
         "x": [
          2022
         ],
         "y": [
          9.1
         ]
        }
       ],
       "layout": {
        "annotations": [
         {
          "arrowhead": 2,
          "font": {
           "color": "#df2935"
          },
          "showarrow": false,
          "text": "9.1%",
          "x": "2022",
          "y": 9.1,
          "yshift": 11
         },
         {
          "font": {
           "color": "#df2935"
          },
          "showarrow": false,
          "text": "Worse than coal ⬆",
          "x": 0,
          "xanchor": "left",
          "xref": "x domain",
          "y": 3.2,
          "yanchor": "bottom",
          "yref": "y"
         }
        ],
        "hovermode": "x unified",
        "legend": {
         "tracegroupgap": 0
        },
        "shapes": [
         {
          "line": {
           "color": "#df2935",
           "width": 1
          },
          "type": "line",
          "x0": 0,
          "x1": 1,
          "xref": "x domain",
          "y0": 3.2,
          "y1": 3.2,
          "yref": "y"
         }
        ],
        "template": {
         "data": {
          "bar": [
           {
            "error_x": {
             "color": "rgb(51,51,51)"
            },
            "error_y": {
             "color": "rgb(51,51,51)"
            },
            "marker": {
             "line": {
              "color": "rgb(237,237,237)",
              "width": 0.5
             },
             "pattern": {
              "fillmode": "overlay",
              "size": 10,
              "solidity": 0.2
             }
            },
            "type": "bar"
           }
          ],
          "barpolar": [
           {
            "marker": {
             "line": {
              "color": "rgb(237,237,237)",
              "width": 0.5
             },
             "pattern": {
              "fillmode": "overlay",
              "size": 10,
              "solidity": 0.2
             }
            },
            "type": "barpolar"
           }
          ],
          "carpet": [
           {
            "aaxis": {
             "endlinecolor": "rgb(51,51,51)",
             "gridcolor": "white",
             "linecolor": "white",
             "minorgridcolor": "white",
             "startlinecolor": "rgb(51,51,51)"
            },
            "baxis": {
             "endlinecolor": "rgb(51,51,51)",
             "gridcolor": "white",
             "linecolor": "white",
             "minorgridcolor": "white",
             "startlinecolor": "rgb(51,51,51)"
            },
            "type": "carpet"
           }
          ],
          "choropleth": [
           {
            "colorbar": {
             "outlinewidth": 0,
             "tickcolor": "rgb(237,237,237)",
             "ticklen": 6,
             "ticks": "inside"
            },
            "type": "choropleth"
           }
          ],
          "contour": [
           {
            "colorbar": {
             "outlinewidth": 0,
             "tickcolor": "rgb(237,237,237)",
             "ticklen": 6,
             "ticks": "inside"
            },
            "colorscale": [
             [
              0,
              "rgb(20,44,66)"
             ],
             [
              1,
              "rgb(90,179,244)"
             ]
            ],
            "type": "contour"
           }
          ],
          "contourcarpet": [
           {
            "colorbar": {
             "outlinewidth": 0,
             "tickcolor": "rgb(237,237,237)",
             "ticklen": 6,
             "ticks": "inside"
            },
            "type": "contourcarpet"
           }
          ],
          "heatmap": [
           {
            "colorbar": {
             "outlinewidth": 0,
             "tickcolor": "rgb(237,237,237)",
             "ticklen": 6,
             "ticks": "inside"
            },
            "colorscale": [
             [
              0,
              "rgb(20,44,66)"
             ],
             [
              1,
              "rgb(90,179,244)"
             ]
            ],
            "type": "heatmap"
           }
          ],
          "heatmapgl": [
           {
            "colorbar": {
             "outlinewidth": 0,
             "tickcolor": "rgb(237,237,237)",
             "ticklen": 6,
             "ticks": "inside"
            },
            "colorscale": [
             [
              0,
              "rgb(20,44,66)"
             ],
             [
              1,
              "rgb(90,179,244)"
             ]
            ],
            "type": "heatmapgl"
           }
          ],
          "histogram": [
           {
            "marker": {
             "pattern": {
              "fillmode": "overlay",
              "size": 10,
              "solidity": 0.2
             }
            },
            "type": "histogram"
           }
          ],
          "histogram2d": [
           {
            "colorbar": {
             "outlinewidth": 0,
             "tickcolor": "rgb(237,237,237)",
             "ticklen": 6,
             "ticks": "inside"
            },
            "colorscale": [
             [
              0,
              "rgb(20,44,66)"
             ],
             [
              1,
              "rgb(90,179,244)"
             ]
            ],
            "type": "histogram2d"
           }
          ],
          "histogram2dcontour": [
           {
            "colorbar": {
             "outlinewidth": 0,
             "tickcolor": "rgb(237,237,237)",
             "ticklen": 6,
             "ticks": "inside"
            },
            "colorscale": [
             [
              0,
              "rgb(20,44,66)"
             ],
             [
              1,
              "rgb(90,179,244)"
             ]
            ],
            "type": "histogram2dcontour"
           }
          ],
          "mesh3d": [
           {
            "colorbar": {
             "outlinewidth": 0,
             "tickcolor": "rgb(237,237,237)",
             "ticklen": 6,
             "ticks": "inside"
            },
            "type": "mesh3d"
           }
          ],
          "parcoords": [
           {
            "line": {
             "colorbar": {
              "outlinewidth": 0,
              "tickcolor": "rgb(237,237,237)",
              "ticklen": 6,
              "ticks": "inside"
             }
            },
            "type": "parcoords"
           }
          ],
          "pie": [
           {
            "automargin": true,
            "type": "pie"
           }
          ],
          "scatter": [
           {
            "fillpattern": {
             "fillmode": "overlay",
             "size": 10,
             "solidity": 0.2
            },
            "type": "scatter"
           }
          ],
          "scatter3d": [
           {
            "line": {
             "colorbar": {
              "outlinewidth": 0,
              "tickcolor": "rgb(237,237,237)",
              "ticklen": 6,
              "ticks": "inside"
             }
            },
            "marker": {
             "colorbar": {
              "outlinewidth": 0,
              "tickcolor": "rgb(237,237,237)",
              "ticklen": 6,
              "ticks": "inside"
             }
            },
            "type": "scatter3d"
           }
          ],
          "scattercarpet": [
           {
            "marker": {
             "colorbar": {
              "outlinewidth": 0,
              "tickcolor": "rgb(237,237,237)",
              "ticklen": 6,
              "ticks": "inside"
             }
            },
            "type": "scattercarpet"
           }
          ],
          "scattergeo": [
           {
            "marker": {
             "colorbar": {
              "outlinewidth": 0,
              "tickcolor": "rgb(237,237,237)",
              "ticklen": 6,
              "ticks": "inside"
             }
            },
            "type": "scattergeo"
           }
          ],
          "scattergl": [
           {
            "marker": {
             "colorbar": {
              "outlinewidth": 0,
              "tickcolor": "rgb(237,237,237)",
              "ticklen": 6,
              "ticks": "inside"
             }
            },
            "type": "scattergl"
           }
          ],
          "scattermapbox": [
           {
            "marker": {
             "colorbar": {
              "outlinewidth": 0,
              "tickcolor": "rgb(237,237,237)",
              "ticklen": 6,
              "ticks": "inside"
             }
            },
            "type": "scattermapbox"
           }
          ],
          "scatterpolar": [
           {
            "marker": {
             "colorbar": {
              "outlinewidth": 0,
              "tickcolor": "rgb(237,237,237)",
              "ticklen": 6,
              "ticks": "inside"
             }
            },
            "type": "scatterpolar"
           }
          ],
          "scatterpolargl": [
           {
            "marker": {
             "colorbar": {
              "outlinewidth": 0,
              "tickcolor": "rgb(237,237,237)",
              "ticklen": 6,
              "ticks": "inside"
             }
            },
            "type": "scatterpolargl"
           }
          ],
          "scatterternary": [
           {
            "marker": {
             "colorbar": {
              "outlinewidth": 0,
              "tickcolor": "rgb(237,237,237)",
              "ticklen": 6,
              "ticks": "inside"
             }
            },
            "type": "scatterternary"
           }
          ],
          "surface": [
           {
            "colorbar": {
             "outlinewidth": 0,
             "tickcolor": "rgb(237,237,237)",
             "ticklen": 6,
             "ticks": "inside"
            },
            "colorscale": [
             [
              0,
              "rgb(20,44,66)"
             ],
             [
              1,
              "rgb(90,179,244)"
             ]
            ],
            "type": "surface"
           }
          ],
          "table": [
           {
            "cells": {
             "fill": {
              "color": "rgb(237,237,237)"
             },
             "line": {
              "color": "white"
             }
            },
            "header": {
             "fill": {
              "color": "rgb(217,217,217)"
             },
             "line": {
              "color": "white"
             }
            },
            "type": "table"
           }
          ]
         },
         "layout": {
          "annotationdefaults": {
           "arrowhead": 0,
           "arrowwidth": 1
          },
          "annotations": [
           {
            "font": {
             "color": "black",
             "size": 12
            },
            "name": "created by",
            "opacity": 0.9,
            "showarrow": false,
            "text": "Created by Electrify RVA",
            "x": -0.05,
            "xref": "paper",
            "y": -0.25,
            "yref": "paper"
           }
          ],
          "autotypenumbers": "strict",
          "coloraxis": {
           "colorbar": {
            "outlinewidth": 0,
            "tickcolor": "rgb(237,237,237)",
            "ticklen": 6,
            "ticks": "inside"
           }
          },
          "colorscale": {
           "sequential": [
            [
             0,
             "rgb(20,44,66)"
            ],
            [
             1,
             "rgb(90,179,244)"
            ]
           ],
           "sequentialminus": [
            [
             0,
             "rgb(20,44,66)"
            ],
            [
             1,
             "rgb(90,179,244)"
            ]
           ]
          },
          "colorway": [
           "#007C77",
           "#1a1b41",
           "#f48668",
           "#f2bb05",
           "#E2A0FF",
           "#8acb88"
          ],
          "font": {
           "color": "rgb(51,51,51)"
          },
          "geo": {
           "bgcolor": "white",
           "lakecolor": "white",
           "landcolor": "rgb(237,237,237)",
           "showlakes": true,
           "showland": true,
           "subunitcolor": "white"
          },
          "hoverlabel": {
           "align": "left"
          },
          "hovermode": "x unified",
          "paper_bgcolor": "white",
          "plot_bgcolor": "rgb(237,237,237)",
          "polar": {
           "angularaxis": {
            "gridcolor": "white",
            "linecolor": "white",
            "showgrid": true,
            "tickcolor": "rgb(51,51,51)",
            "ticks": "outside"
           },
           "bgcolor": "rgb(237,237,237)",
           "radialaxis": {
            "gridcolor": "white",
            "linecolor": "white",
            "showgrid": true,
            "tickcolor": "rgb(51,51,51)",
            "ticks": "outside"
           }
          },
          "scene": {
           "xaxis": {
            "backgroundcolor": "rgb(237,237,237)",
            "gridcolor": "white",
            "gridwidth": 2,
            "linecolor": "white",
            "showbackground": true,
            "showgrid": true,
            "tickcolor": "rgb(51,51,51)",
            "ticks": "outside",
            "zerolinecolor": "white"
           },
           "yaxis": {
            "backgroundcolor": "rgb(237,237,237)",
            "gridcolor": "white",
            "gridwidth": 2,
            "linecolor": "white",
            "showbackground": true,
            "showgrid": true,
            "tickcolor": "rgb(51,51,51)",
            "ticks": "outside",
            "zerolinecolor": "white"
           },
           "zaxis": {
            "backgroundcolor": "rgb(237,237,237)",
            "gridcolor": "white",
            "gridwidth": 2,
            "linecolor": "white",
            "showbackground": true,
            "showgrid": true,
            "tickcolor": "rgb(51,51,51)",
            "ticks": "outside",
            "zerolinecolor": "white"
           }
          },
          "shapedefaults": {
           "fillcolor": "black",
           "line": {
            "width": 0
           },
           "opacity": 0.3
          },
          "ternary": {
           "aaxis": {
            "gridcolor": "white",
            "linecolor": "white",
            "showgrid": true,
            "tickcolor": "rgb(51,51,51)",
            "ticks": "outside"
           },
           "baxis": {
            "gridcolor": "white",
            "linecolor": "white",
            "showgrid": true,
            "tickcolor": "rgb(51,51,51)",
            "ticks": "outside"
           },
           "bgcolor": "rgb(237,237,237)",
           "caxis": {
            "gridcolor": "white",
            "linecolor": "white",
            "showgrid": true,
            "tickcolor": "rgb(51,51,51)",
            "ticks": "outside"
           }
          },
          "title": {
           "x": 0.05
          },
          "xaxis": {
           "automargin": true,
           "gridcolor": "white",
           "linecolor": "white",
           "showgrid": true,
           "tickcolor": "rgb(51,51,51)",
           "ticks": "outside",
           "title": {
            "standoff": 15
           },
           "zerolinecolor": "white"
          },
          "yaxis": {
           "automargin": true,
           "gridcolor": "white",
           "linecolor": "white",
           "showgrid": true,
           "tickcolor": "rgb(51,51,51)",
           "tickformat": ",.0f",
           "ticks": "outside",
           "title": {
            "standoff": 15
           },
           "zerolinecolor": "white"
          }
         }
        },
        "title": {
         "text": "Lost and unaccounted for gas"
        },
        "xaxis": {
         "anchor": "y",
         "domain": [
          0,
          1
         ],
         "title": {
          "text": ""
         }
        },
        "yaxis": {
         "anchor": "x",
         "domain": [
          0,
          1
         ],
         "tickformat": ",.1f",
         "ticksuffix": "%",
         "title": {
          "text": "Loss rate"
         }
        }
       }
      }
     },
     "metadata": {},
     "output_type": "display_data"
    }
   ],
   "source": [
    "fig = px.line(\n",
    "    lost_gas_yearly, \n",
    "    x=\"Month - Year\", y=\"Yearly Loss Rate\", \n",
    "    title='Lost and unaccounted for gas',\n",
    "    labels={ \"Month - Year\": \"\", \"Yearly Loss Rate\": \"Loss rate\", },\n",
    "    #color_discrete_sequence=[\"#1a1b41\", \"#f48668\"],\n",
    "\n",
    ")\n",
    "fig.add_trace(go.Scatter(\n",
    "    x=[lost_gas_yearly['Month - Year'].iloc[-1]],\n",
    "    y=[lost_gas_yearly['Yearly Loss Rate'].iloc[-1]],\n",
    "    mode='markers',\n",
    "    marker=dict(color=HIGHLIGHT_COLOR, size=7.5),\n",
    "    showlegend=False,\n",
    "    hoverinfo='skip',\n",
    "))\n",
    "\n",
    "fig.add_annotation(\n",
    "         text=\"9.1%\", x='2022', y=9.1,\n",
    "         showarrow=False, arrowhead=2,\n",
    "         yshift=11,\n",
    "         font=dict(color=HIGHLIGHT_COLOR),\n",
    ")\n",
    "\n",
    "# Leaks >3.2% are worse than coal\n",
    "worse_than_coal_color = HIGHLIGHT_COLOR\n",
    "fig.add_hline(\n",
    "    y=3.2, line_color=worse_than_coal_color, line_width=1, \n",
    "    annotation_text=\"Worse than coal ⬆\", \n",
    "    annotation_font_color=worse_than_coal_color,\n",
    "    annotation_x=0,\n",
    "    annotation_xanchor=\"left\",\n",
    ")\n",
    "\n",
    "#fig.update_xaxes(range=['2012-10-01', '2023-02-01'])\n",
    "fig.update_traces(hovertemplate=None)\n",
    "fig.update_layout(yaxis_ticksuffix='%', hovermode='x unified', yaxis_tickformat=\",.1f\")\n",
    "\n",
    "\n",
    "fig.show()\n",
    "fig.write_html(\"../docs/_includes/charts/lost_and_unaccounted_for_gas_yearly.html\", include_plotlyjs=\"cdn\")"
   ]
  },
  {
   "cell_type": "code",
   "execution_count": 708,
   "metadata": {},
   "outputs": [
    {
     "data": {
      "application/vnd.plotly.v1+json": {
       "config": {
        "plotlyServerURL": "https://plot.ly"
       },
       "data": [
        {
         "alignmentgroup": "True",
         "legendgroup": "",
         "marker": {
          "color": [
           "#007C77",
           "#007C77",
           "#007C77",
           "#007C77",
           "#007C77",
           "#007C77",
           "#007C77",
           "#007C77",
           "#007C77",
           "#007C77",
           "#df2935"
          ],
          "pattern": {
           "shape": ""
          }
         },
         "name": "",
         "offsetgroup": "",
         "orientation": "v",
         "showlegend": false,
         "textposition": "auto",
         "type": "bar",
         "x": [
          2012,
          2013,
          2014,
          2015,
          2016,
          2017,
          2018,
          2019,
          2020,
          2021,
          2022
         ],
         "xaxis": "x",
         "y": [
          2680151,
          2124219,
          2820999,
          2798375,
          2500912,
          1901816,
          4711921,
          4073528,
          2225645,
          5218455,
          15926002
         ],
         "yaxis": "y"
        }
       ],
       "layout": {
        "annotations": [
         {
          "arrowhead": 2,
          "font": {
           "color": "#df2935"
          },
          "showarrow": false,
          "text": "$15.9 million",
          "x": "2022",
          "y": 15926002,
          "yshift": 11
         }
        ],
        "barmode": "relative",
        "hovermode": "x unified",
        "legend": {
         "tracegroupgap": 0
        },
        "template": {
         "data": {
          "bar": [
           {
            "error_x": {
             "color": "rgb(51,51,51)"
            },
            "error_y": {
             "color": "rgb(51,51,51)"
            },
            "marker": {
             "line": {
              "color": "rgb(237,237,237)",
              "width": 0.5
             },
             "pattern": {
              "fillmode": "overlay",
              "size": 10,
              "solidity": 0.2
             }
            },
            "type": "bar"
           }
          ],
          "barpolar": [
           {
            "marker": {
             "line": {
              "color": "rgb(237,237,237)",
              "width": 0.5
             },
             "pattern": {
              "fillmode": "overlay",
              "size": 10,
              "solidity": 0.2
             }
            },
            "type": "barpolar"
           }
          ],
          "carpet": [
           {
            "aaxis": {
             "endlinecolor": "rgb(51,51,51)",
             "gridcolor": "white",
             "linecolor": "white",
             "minorgridcolor": "white",
             "startlinecolor": "rgb(51,51,51)"
            },
            "baxis": {
             "endlinecolor": "rgb(51,51,51)",
             "gridcolor": "white",
             "linecolor": "white",
             "minorgridcolor": "white",
             "startlinecolor": "rgb(51,51,51)"
            },
            "type": "carpet"
           }
          ],
          "choropleth": [
           {
            "colorbar": {
             "outlinewidth": 0,
             "tickcolor": "rgb(237,237,237)",
             "ticklen": 6,
             "ticks": "inside"
            },
            "type": "choropleth"
           }
          ],
          "contour": [
           {
            "colorbar": {
             "outlinewidth": 0,
             "tickcolor": "rgb(237,237,237)",
             "ticklen": 6,
             "ticks": "inside"
            },
            "colorscale": [
             [
              0,
              "rgb(20,44,66)"
             ],
             [
              1,
              "rgb(90,179,244)"
             ]
            ],
            "type": "contour"
           }
          ],
          "contourcarpet": [
           {
            "colorbar": {
             "outlinewidth": 0,
             "tickcolor": "rgb(237,237,237)",
             "ticklen": 6,
             "ticks": "inside"
            },
            "type": "contourcarpet"
           }
          ],
          "heatmap": [
           {
            "colorbar": {
             "outlinewidth": 0,
             "tickcolor": "rgb(237,237,237)",
             "ticklen": 6,
             "ticks": "inside"
            },
            "colorscale": [
             [
              0,
              "rgb(20,44,66)"
             ],
             [
              1,
              "rgb(90,179,244)"
             ]
            ],
            "type": "heatmap"
           }
          ],
          "heatmapgl": [
           {
            "colorbar": {
             "outlinewidth": 0,
             "tickcolor": "rgb(237,237,237)",
             "ticklen": 6,
             "ticks": "inside"
            },
            "colorscale": [
             [
              0,
              "rgb(20,44,66)"
             ],
             [
              1,
              "rgb(90,179,244)"
             ]
            ],
            "type": "heatmapgl"
           }
          ],
          "histogram": [
           {
            "marker": {
             "pattern": {
              "fillmode": "overlay",
              "size": 10,
              "solidity": 0.2
             }
            },
            "type": "histogram"
           }
          ],
          "histogram2d": [
           {
            "colorbar": {
             "outlinewidth": 0,
             "tickcolor": "rgb(237,237,237)",
             "ticklen": 6,
             "ticks": "inside"
            },
            "colorscale": [
             [
              0,
              "rgb(20,44,66)"
             ],
             [
              1,
              "rgb(90,179,244)"
             ]
            ],
            "type": "histogram2d"
           }
          ],
          "histogram2dcontour": [
           {
            "colorbar": {
             "outlinewidth": 0,
             "tickcolor": "rgb(237,237,237)",
             "ticklen": 6,
             "ticks": "inside"
            },
            "colorscale": [
             [
              0,
              "rgb(20,44,66)"
             ],
             [
              1,
              "rgb(90,179,244)"
             ]
            ],
            "type": "histogram2dcontour"
           }
          ],
          "mesh3d": [
           {
            "colorbar": {
             "outlinewidth": 0,
             "tickcolor": "rgb(237,237,237)",
             "ticklen": 6,
             "ticks": "inside"
            },
            "type": "mesh3d"
           }
          ],
          "parcoords": [
           {
            "line": {
             "colorbar": {
              "outlinewidth": 0,
              "tickcolor": "rgb(237,237,237)",
              "ticklen": 6,
              "ticks": "inside"
             }
            },
            "type": "parcoords"
           }
          ],
          "pie": [
           {
            "automargin": true,
            "type": "pie"
           }
          ],
          "scatter": [
           {
            "fillpattern": {
             "fillmode": "overlay",
             "size": 10,
             "solidity": 0.2
            },
            "type": "scatter"
           }
          ],
          "scatter3d": [
           {
            "line": {
             "colorbar": {
              "outlinewidth": 0,
              "tickcolor": "rgb(237,237,237)",
              "ticklen": 6,
              "ticks": "inside"
             }
            },
            "marker": {
             "colorbar": {
              "outlinewidth": 0,
              "tickcolor": "rgb(237,237,237)",
              "ticklen": 6,
              "ticks": "inside"
             }
            },
            "type": "scatter3d"
           }
          ],
          "scattercarpet": [
           {
            "marker": {
             "colorbar": {
              "outlinewidth": 0,
              "tickcolor": "rgb(237,237,237)",
              "ticklen": 6,
              "ticks": "inside"
             }
            },
            "type": "scattercarpet"
           }
          ],
          "scattergeo": [
           {
            "marker": {
             "colorbar": {
              "outlinewidth": 0,
              "tickcolor": "rgb(237,237,237)",
              "ticklen": 6,
              "ticks": "inside"
             }
            },
            "type": "scattergeo"
           }
          ],
          "scattergl": [
           {
            "marker": {
             "colorbar": {
              "outlinewidth": 0,
              "tickcolor": "rgb(237,237,237)",
              "ticklen": 6,
              "ticks": "inside"
             }
            },
            "type": "scattergl"
           }
          ],
          "scattermapbox": [
           {
            "marker": {
             "colorbar": {
              "outlinewidth": 0,
              "tickcolor": "rgb(237,237,237)",
              "ticklen": 6,
              "ticks": "inside"
             }
            },
            "type": "scattermapbox"
           }
          ],
          "scatterpolar": [
           {
            "marker": {
             "colorbar": {
              "outlinewidth": 0,
              "tickcolor": "rgb(237,237,237)",
              "ticklen": 6,
              "ticks": "inside"
             }
            },
            "type": "scatterpolar"
           }
          ],
          "scatterpolargl": [
           {
            "marker": {
             "colorbar": {
              "outlinewidth": 0,
              "tickcolor": "rgb(237,237,237)",
              "ticklen": 6,
              "ticks": "inside"
             }
            },
            "type": "scatterpolargl"
           }
          ],
          "scatterternary": [
           {
            "marker": {
             "colorbar": {
              "outlinewidth": 0,
              "tickcolor": "rgb(237,237,237)",
              "ticklen": 6,
              "ticks": "inside"
             }
            },
            "type": "scatterternary"
           }
          ],
          "surface": [
           {
            "colorbar": {
             "outlinewidth": 0,
             "tickcolor": "rgb(237,237,237)",
             "ticklen": 6,
             "ticks": "inside"
            },
            "colorscale": [
             [
              0,
              "rgb(20,44,66)"
             ],
             [
              1,
              "rgb(90,179,244)"
             ]
            ],
            "type": "surface"
           }
          ],
          "table": [
           {
            "cells": {
             "fill": {
              "color": "rgb(237,237,237)"
             },
             "line": {
              "color": "white"
             }
            },
            "header": {
             "fill": {
              "color": "rgb(217,217,217)"
             },
             "line": {
              "color": "white"
             }
            },
            "type": "table"
           }
          ]
         },
         "layout": {
          "annotationdefaults": {
           "arrowhead": 0,
           "arrowwidth": 1
          },
          "annotations": [
           {
            "font": {
             "color": "black",
             "size": 12
            },
            "name": "created by",
            "opacity": 0.9,
            "showarrow": false,
            "text": "Created by Electrify RVA",
            "x": -0.05,
            "xref": "paper",
            "y": -0.25,
            "yref": "paper"
           }
          ],
          "autotypenumbers": "strict",
          "coloraxis": {
           "colorbar": {
            "outlinewidth": 0,
            "tickcolor": "rgb(237,237,237)",
            "ticklen": 6,
            "ticks": "inside"
           }
          },
          "colorscale": {
           "sequential": [
            [
             0,
             "rgb(20,44,66)"
            ],
            [
             1,
             "rgb(90,179,244)"
            ]
           ],
           "sequentialminus": [
            [
             0,
             "rgb(20,44,66)"
            ],
            [
             1,
             "rgb(90,179,244)"
            ]
           ]
          },
          "colorway": [
           "#007C77",
           "#1a1b41",
           "#f48668",
           "#f2bb05",
           "#E2A0FF",
           "#8acb88"
          ],
          "font": {
           "color": "rgb(51,51,51)"
          },
          "geo": {
           "bgcolor": "white",
           "lakecolor": "white",
           "landcolor": "rgb(237,237,237)",
           "showlakes": true,
           "showland": true,
           "subunitcolor": "white"
          },
          "hoverlabel": {
           "align": "left"
          },
          "hovermode": "x unified",
          "paper_bgcolor": "white",
          "plot_bgcolor": "rgb(237,237,237)",
          "polar": {
           "angularaxis": {
            "gridcolor": "white",
            "linecolor": "white",
            "showgrid": true,
            "tickcolor": "rgb(51,51,51)",
            "ticks": "outside"
           },
           "bgcolor": "rgb(237,237,237)",
           "radialaxis": {
            "gridcolor": "white",
            "linecolor": "white",
            "showgrid": true,
            "tickcolor": "rgb(51,51,51)",
            "ticks": "outside"
           }
          },
          "scene": {
           "xaxis": {
            "backgroundcolor": "rgb(237,237,237)",
            "gridcolor": "white",
            "gridwidth": 2,
            "linecolor": "white",
            "showbackground": true,
            "showgrid": true,
            "tickcolor": "rgb(51,51,51)",
            "ticks": "outside",
            "zerolinecolor": "white"
           },
           "yaxis": {
            "backgroundcolor": "rgb(237,237,237)",
            "gridcolor": "white",
            "gridwidth": 2,
            "linecolor": "white",
            "showbackground": true,
            "showgrid": true,
            "tickcolor": "rgb(51,51,51)",
            "ticks": "outside",
            "zerolinecolor": "white"
           },
           "zaxis": {
            "backgroundcolor": "rgb(237,237,237)",
            "gridcolor": "white",
            "gridwidth": 2,
            "linecolor": "white",
            "showbackground": true,
            "showgrid": true,
            "tickcolor": "rgb(51,51,51)",
            "ticks": "outside",
            "zerolinecolor": "white"
           }
          },
          "shapedefaults": {
           "fillcolor": "black",
           "line": {
            "width": 0
           },
           "opacity": 0.3
          },
          "ternary": {
           "aaxis": {
            "gridcolor": "white",
            "linecolor": "white",
            "showgrid": true,
            "tickcolor": "rgb(51,51,51)",
            "ticks": "outside"
           },
           "baxis": {
            "gridcolor": "white",
            "linecolor": "white",
            "showgrid": true,
            "tickcolor": "rgb(51,51,51)",
            "ticks": "outside"
           },
           "bgcolor": "rgb(237,237,237)",
           "caxis": {
            "gridcolor": "white",
            "linecolor": "white",
            "showgrid": true,
            "tickcolor": "rgb(51,51,51)",
            "ticks": "outside"
           }
          },
          "title": {
           "x": 0.05
          },
          "xaxis": {
           "automargin": true,
           "gridcolor": "white",
           "linecolor": "white",
           "showgrid": true,
           "tickcolor": "rgb(51,51,51)",
           "ticks": "outside",
           "title": {
            "standoff": 15
           },
           "zerolinecolor": "white"
          },
          "yaxis": {
           "automargin": true,
           "gridcolor": "white",
           "linecolor": "white",
           "showgrid": true,
           "tickcolor": "rgb(51,51,51)",
           "tickformat": ",.0f",
           "ticks": "outside",
           "title": {
            "standoff": 15
           },
           "zerolinecolor": "white"
          }
         }
        },
        "title": {
         "text": "The high cost of lost gas"
        },
        "xaxis": {
         "anchor": "y",
         "domain": [
          0,
          1
         ],
         "title": {
          "text": ""
         }
        },
        "yaxis": {
         "anchor": "x",
         "domain": [
          0,
          1
         ],
         "tickprefix": "$",
         "title": {
          "text": "Yearly loss"
         }
        }
       }
      }
     },
     "metadata": {},
     "output_type": "display_data"
    }
   ],
   "source": [
    "colors = [COLORS[0], ] * 11\n",
    "colors[-1] = HIGHLIGHT_COLOR\n",
    "\n",
    "fig = px.bar(\n",
    "    lost_gas_yearly, \n",
    "    x=\"Month - Year\", y=\"$ Lost to Leak\", \n",
    "    title='The high cost of lost gas',\n",
    "    labels={ \"Month - Year\": \"\", \"$ Lost to Leak\": \"Yearly loss\", },\n",
    "    #color_discrete_sequence=[\"#1a1b41\", \"#f48668\"],\n",
    "\n",
    ")\n",
    "\n",
    "fig.add_annotation(\n",
    "         text=\"$15.9 million\", x='2022', y=15926002,\n",
    "         showarrow=False, arrowhead=2,\n",
    "         yshift=11,\n",
    "         font=dict(color=HIGHLIGHT_COLOR),\n",
    ")\n",
    "#fig.add_trace(go.Bar(\n",
    "#    x=[lost_gas_yearly['Month - Year'].iloc[-1]],\n",
    "#    y=[lost_gas_yearly['$ Lost to Leak'].iloc[-1]],\n",
    "#    #mode='markers',\n",
    "#    marker=dict(color=HIGHLIGHT_COLOR),\n",
    "#    showlegend=False,\n",
    "#    #hoverinfo='skip',\n",
    "#))\n",
    "\n",
    "fig.update_traces(hovertemplate=None, marker_color=colors)\n",
    "fig.update_layout(yaxis_tickprefix='$', hovermode='x unified')\n",
    "fig.update_traces()\n",
    "\n",
    "\n",
    "fig.show()\n",
    "fig.write_html(\"../docs/_includes/charts/lost_and_unaccounted_for_gas_cost_yearly.html\", include_plotlyjs=\"cdn\")"
   ]
  },
  {
   "cell_type": "code",
   "execution_count": 705,
   "metadata": {},
   "outputs": [
    {
     "data": {
      "text/plain": [
       "['#007C77',\n",
       " '#007C77',\n",
       " '#007C77',\n",
       " '#007C77',\n",
       " '#007C77',\n",
       " '#007C77',\n",
       " '#007C77',\n",
       " '#007C77',\n",
       " '#007C77',\n",
       " '#007C77',\n",
       " '#df2935']"
      ]
     },
     "execution_count": 705,
     "metadata": {},
     "output_type": "execute_result"
    }
   ],
   "source": [
    "colors"
   ]
  },
  {
   "cell_type": "code",
   "execution_count": null,
   "metadata": {},
   "outputs": [],
   "source": []
  }
 ],
 "metadata": {
  "kernelspec": {
   "display_name": "electrify-rva",
   "language": "python",
   "name": "python3"
  },
  "language_info": {
   "codemirror_mode": {
    "name": "ipython",
    "version": 3
   },
   "file_extension": ".py",
   "mimetype": "text/x-python",
   "name": "python",
   "nbconvert_exporter": "python",
   "pygments_lexer": "ipython3",
   "version": "3.11.5"
  }
 },
 "nbformat": 4,
 "nbformat_minor": 2
}
